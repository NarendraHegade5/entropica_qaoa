{
 "cells": [
  {
   "cell_type": "markdown",
   "metadata": {},
   "source": [
    "# Demo of functionalities in QAOA Utilities\n",
    "\n",
    "This notebooks walks through some of the key features provided by `QAOA.utilities`. The methods therein fall into four categories:\n",
    "\n",
    "* Methods for creating random graphs and Hamiltonians, and converting between the two.\n",
    "* Functions that compute analytic results for certain simple graphs (will use exact formulae from papers by Farhi, Hadfield, etc) to benchmark and compare against numerical results\n",
    "* Methods for creating certain types of toy data sets (e.g. combos of separate Gaussians), which may be used e.g. for simple clustering with the QAOA.\n",
    "* Methods allowing parameter sweeps to be performed, with a view to studying the landscape of the optimisation problem being tackled."
   ]
  },
  {
   "cell_type": "code",
   "execution_count": 1,
   "metadata": {},
   "outputs": [],
   "source": [
    "import numpy as np\n",
    "import matplotlib.pyplot as plt\n",
    "from typing import Type, Iterable\n",
    "\n",
    "# import the neccesary pyquil modules\n",
    "from qaoa.cost_function import QAOACostFunctionOnQVM, QAOACostFunctionOnWFSim\n",
    "from pyquil.api import local_qvm, WavefunctionSimulator\n",
    "from pyquil.paulis import PauliSum, PauliTerm\n",
    "\n",
    "# import the QAOAParameters that we want to demo\n",
    "from qaoa.parameters import AdiabaticTimestepsQAOAParameters,\\\n",
    "AlternatingOperatorsQAOAParameters, AbstractQAOAParameters, GeneralQAOAParameters,\\\n",
    "QAOAParameterIterator, FourierQAOAParameters\n",
    "\n",
    "from vqe.optimizer import scipy_optimizer\n",
    "import utilities as ut"
   ]
  },
  {
   "cell_type": "markdown",
   "metadata": {},
   "source": [
    "## Random Hamiltonians and graphs"
   ]
  },
  {
   "cell_type": "markdown",
   "metadata": {},
   "source": [
    "The `create_random_hamiltonian` method generates a random Hamiltonian (problem instance) for a specified number of qubits. It randomly selects a number of biases and number of couplings, then assigns each of them a random value between zero and one. For instance, let's create two 4-qubit Hamiltonians."
   ]
  },
  {
   "cell_type": "code",
   "execution_count": 2,
   "metadata": {},
   "outputs": [
    {
     "name": "stdout",
     "output_type": "stream",
     "text": [
      "h1 = (0.41498351315053583+0j)*Z2 + (0.6683870186379426+0j)*Z0 + (0.6318994858412961+0j)*Z0*Z1 + (0.5846379976338602+0j)*Z0*Z3 + (0.1476502305111308+0j)*Z2*Z3\n",
      "\n",
      "h2 = (0.1243564471219536+0j)*Z1 + (0.48266804382450734+0j)*Z0 + (0.16393213163633202+0j)*Z3 + (0.11368833021968872+0j)*Z0*Z1 + (0.173561747032982+0j)*Z0*Z2 + (0.1579777771533255+0j)*Z0*Z3 + (0.25786573384075395+0j)*Z1*Z3 + (0.7801069757874218+0j)*Z2*Z3\n"
     ]
    }
   ],
   "source": [
    "h1 = ut.create_random_hamiltonian(4)\n",
    "h2 = ut.create_random_hamiltonian(4)\n",
    "print(\"h1 =\",h1)\n",
    "print()\n",
    "print(\"h2 =\",h2)"
   ]
  },
  {
   "cell_type": "markdown",
   "metadata": {},
   "source": [
    "We can create a `networkx` graph corresponding to the qubit couplings in `h1` using the `AbstractQAOAParameters` class, together with the `create_networkx_graph` method:"
   ]
  },
  {
   "cell_type": "code",
   "execution_count": 3,
   "metadata": {},
   "outputs": [
    {
     "name": "stdout",
     "output_type": "stream",
     "text": [
      "Hyperparameters:\n",
      "\tregister: [0, 1, 2, 3]\n",
      "\tqubits_singles: [2, 0]\n",
      "\tsingle_qubit_coeffs: [0.41498351 0.66838702]\n",
      "\tqubits_pairs: [[0, 1], [0, 3], [2, 3]]\n",
      "\tpair_qubit_coeffs: [0.63189949 0.584638   0.14765023]\n",
      "\ttimesteps: 1\n",
      "\n"
     ]
    }
   ],
   "source": [
    "myAbstractParams = AbstractQAOAParameters([h1,1]) # Here we have to pass in a timestep value too - can/should we clean this up?\n",
    "print(myAbstractParams)"
   ]
  },
  {
   "cell_type": "code",
   "execution_count": 4,
   "metadata": {
    "scrolled": true
   },
   "outputs": [
    {
     "name": "stderr",
     "output_type": "stream",
     "text": [
      "/home/ewan/anaconda3/lib/python3.7/site-packages/networkx/drawing/nx_pylab.py:611: MatplotlibDeprecationWarning: isinstance(..., numbers.Number)\n",
      "  if cb.is_numlike(alpha):\n"
     ]
    },
    {
     "data": {
      "image/png": "[encoded data removed]",
      "text/plain": [
       "<Figure size 432x288 with 1 Axes>"
      ]
     },
     "metadata": {},
     "output_type": "display_data"
    }
   ],
   "source": [
    "g1 = ut.graph_from_hamiltonian(h1)\n",
    "ut.plot_graph(g1)\n",
    "# NOTE: for some reason there is a deprecation warning here associated with Matplotlib."
   ]
  },
  {
   "cell_type": "markdown",
   "metadata": {},
   "source": [
    "We can alternatively work backwards, creating a graph first, then the corresponding Hamiltonian. Let's take the graph we have just produced (`g1`) and convert it back to its corresponding Hamiltonian, which we called `h1` above. Neglecting any missing single qubit bias terms, we see that `H1` here is the same as `h1` defined above."
   ]
  },
  {
   "cell_type": "code",
   "execution_count": 5,
   "metadata": {},
   "outputs": [
    {
     "name": "stdout",
     "output_type": "stream",
     "text": [
      "(0.1476502305111308+0j)*Z2*Z3 + (0.6318994858412961+0j)*Z0*Z1 + (0.5846379976338602+0j)*Z0*Z3\n"
     ]
    }
   ],
   "source": [
    "H1 = ut.hamiltonian_from_graph(g1)\n",
    "print(H1)"
   ]
  },
  {
   "cell_type": "markdown",
   "metadata": {},
   "source": [
    "## Comparison with analytic results\n",
    "\n",
    "### MaxCut on the Ring of Disagrees\n",
    "\n",
    "The Ring of Diasgrees is a 2-regular graph on a given number of nodes $n$. The ground state has energy $-n$ for even $n$, and $-n+1$ for odd $n$.\n",
    "\n",
    "In Farhi's original QAOA paper, it was shown that this graph is a simple example of how the approximation ratio returned by QAOA can be made arbitrarily close to 1 by increasing the parameter $p$. For the MaxCut problem, the optimal cost function value returned for a given $n$ and $p$ was found to be \n",
    "\n",
    "\\begin{equation}\n",
    "C(n,p) = \\left(\\frac{2p + 1}{2p + 2}\\right)n\n",
    "\\end{equation}\n",
    "\n",
    "This result assumes the `AlternatingOperatorsQAOAParameters` parameterisation, and that the graph is unweighted (all edge weights equal to 1). Here we verify this result."
   ]
  },
  {
   "cell_type": "code",
   "execution_count": 6,
   "metadata": {},
   "outputs": [
    {
     "data": {
      "image/png": "[encoded data removed]",
      "text/plain": [
       "<Figure size 432x288 with 1 Axes>"
      ]
     },
     "metadata": {},
     "output_type": "display_data"
    }
   ],
   "source": [
    "n_nodes = 8\n",
    "h_disagrees = ut.ring_of_disagrees(n_nodes)\n",
    "g_disagrees = ut.graph_from_hamiltonian(h_disagrees)\n",
    "ut.plot_graph(g_disagrees)"
   ]
  },
  {
   "cell_type": "code",
   "execution_count": 7,
   "metadata": {},
   "outputs": [],
   "source": [
    "p_vals = np.arange(1,5) # p range to consider\n",
    "output_val = np.zeros((len(p_vals),))\n",
    "\n",
    "sim = WavefunctionSimulator() # Define the wavefunction simulator\n",
    "\n",
    "for i in p_vals:\n",
    "    \n",
    "    # Initialise angles\n",
    "    betas = np.random.rand(i)\n",
    "    gammas_singles = np.zeros((i,)) # Remove this when issue is fixed\n",
    "    gammas_pairs = np.random.rand(i)\n",
    "    parameters = (betas, gammas_singles, gammas_pairs)\n",
    "    \n",
    "    # Set up (hyper)parameters\n",
    "    AltParams = AlternatingOperatorsQAOAParameters([h_disagrees,i],parameters)\n",
    "    \n",
    "    # Cost function and optimisation\n",
    "    cost_function = QAOACostFunctionOnWFSim(h_disagrees,\n",
    "                                            params=AltParams,\n",
    "                                            sim=sim,\n",
    "                                            return_standard_deviation=True,\n",
    "                                            noisy=False,\n",
    "                                            log=[])\n",
    "    \n",
    "    res = scipy_optimizer(cost_function, AltParams.raw(), epsilon=1e-3, maxiter=500,method=\"BFGS\")\n",
    "    \n",
    "    output_val[i-1] = res.fun - 0.5*len(h_disagrees) # The second term here comes from the identity part \n",
    "                                                     # of the MaxCut operator (DOESN'T SEEM POSSIBLE TO INCLUDE)\n",
    "                                                     # IDENTITY TERMS IN PauliSum WITHOUT OPTIMISER COMPLAINING?)"
   ]
  },
  {
   "cell_type": "markdown",
   "metadata": {},
   "source": [
    "Since we have 8 qubits, according to Farhi's formula we should find the maximum energy to be $-8*(3/4,5/6,7/8,9/10) = -(6, 6.67, 7, 7.2)$ for $p = (1,2,3,4)$:"
   ]
  },
  {
   "cell_type": "code",
   "execution_count": 8,
   "metadata": {},
   "outputs": [
    {
     "data": {
      "text/plain": [
       "array([-6.        , -6.66666666, -6.99999996, -8.        ])"
      ]
     },
     "execution_count": 8,
     "metadata": {},
     "output_type": "execute_result"
    }
   ],
   "source": [
    "output_val"
   ]
  },
  {
   "cell_type": "markdown",
   "metadata": {},
   "source": [
    "The lowest energy state corresponds to the situation where neighbouring qubits have opposite orientations:"
   ]
  },
  {
   "cell_type": "code",
   "execution_count": 9,
   "metadata": {},
   "outputs": [
    {
     "name": "stdout",
     "output_type": "stream",
     "text": [
      "01010101\n"
     ]
    }
   ],
   "source": [
    "wf = cost_function.get_wavefunction(res.x)\n",
    "probs = wf.probabilities()\n",
    "ind = np.argmax(probs)\n",
    "opt_state = \"{0:08b}\".format(ind)\n",
    "print(opt_state)"
   ]
  },
  {
   "cell_type": "markdown",
   "metadata": {},
   "source": [
    "### MaxCut on 3-Regular Graphs\n",
    "\n",
    "Section V of Farhi's paper\n",
    "\n",
    "TODO - include & showcase functionality for not entirely random graphs, e.g.:\n",
    "\n",
    "* graphs with a specified maximum node degree\n",
    "* graphs with/without triangles, etc.\n",
    "* Erdos-Renyi, geometric random, etc"
   ]
  },
  {
   "cell_type": "markdown",
   "metadata": {},
   "source": [
    "## Simple toy datasets for QAOA MaxCut clustering"
   ]
  },
  {
   "cell_type": "markdown",
   "metadata": {},
   "source": [
    "Here we demo some of the methods for generating simple datasets for QAOA clustering problems. Let's create a data set of two clusters, where the points in each cluster follow Gaussian statistics."
   ]
  },
  {
   "cell_type": "code",
   "execution_count": 10,
   "metadata": {},
   "outputs": [
    {
     "data": {
      "image/png": "[encoded data removed]",
      "text/plain": [
       "<Figure size 432x288 with 1 Axes>"
      ]
     },
     "metadata": {
      "needs_background": "light"
     },
     "output_type": "display_data"
    }
   ],
   "source": [
    "n_clusters = 2 # Number of clusters we want\n",
    "n_points = [3,3] # Number of points in each cluster\n",
    "means = [[0,0], [2,2]] # Cluster means (the [x,y] coordinates of each cluster)\n",
    "\n",
    "# Covariance matrix: we will use the same one for each of the two clusters here\n",
    "# but more generally they could be different\n",
    "cov_matrix = [[0.1, 0], [0, 0.1]] \n",
    "cov_matrices = [cov_matrix,cov_matrix]\n",
    "\n",
    "myData1 = ut.create_gaussian_2Dclusters(n_clusters,n_points,means,cov_matrices)\n",
    "ut.plot_cluster_data(myData1)"
   ]
  },
  {
   "cell_type": "markdown",
   "metadata": {},
   "source": [
    "Now let's set up the MaxCut problem. We compute the distances using `distances_dataset`, which returns a `dict` whose keys are the data point pairs, and whose values are the Euclidean distances between them"
   ]
  },
  {
   "cell_type": "code",
   "execution_count": 11,
   "metadata": {
    "scrolled": true
   },
   "outputs": [
    {
     "data": {
      "text/plain": [
       "array([[0.        , 0.29488952, 0.13358609, 2.47578935, 3.16765371,\n",
       "        2.67584561],\n",
       "       [0.29488952, 0.        , 0.17921382, 2.76981104, 3.45996648,\n",
       "        2.96589738],\n",
       "       [0.13358609, 0.17921382, 0.        , 2.60313636, 3.29700257,\n",
       "        2.8067667 ],\n",
       "       [2.47578935, 2.76981104, 2.60313636, 0.        , 0.71011186,\n",
       "        0.34633594],\n",
       "       [3.16765371, 3.45996648, 3.29700257, 0.71011186, 0.        ,\n",
       "        0.51524259],\n",
       "       [2.67584561, 2.96589738, 2.8067667 , 0.34633594, 0.51524259,\n",
       "        0.        ]])"
      ]
     },
     "execution_count": 11,
     "metadata": {},
     "output_type": "execute_result"
    }
   ],
   "source": [
    "dists = ut.distances_dataset(myData1)\n",
    "dists"
   ]
  },
  {
   "cell_type": "code",
   "execution_count": 12,
   "metadata": {},
   "outputs": [
    {
     "name": "stdout",
     "output_type": "stream",
     "text": [
      "(0.2948895241056548+0j)*Z0*Z1 + (0.13358608837209882+0j)*Z0*Z2 + (2.47578935299879+0j)*Z0*Z3 + (3.1676537066872785+0j)*Z0*Z4 + (2.6758456051145387+0j)*Z0*Z5 + (0.1792138237245193+0j)*Z1*Z2 + (2.769811040133094+0j)*Z1*Z3 + (3.4599664791010953+0j)*Z1*Z4 + (2.9658973754092197+0j)*Z1*Z5 + (2.603136355075629+0j)*Z2*Z3 + (3.297002573119658+0j)*Z2*Z4 + (2.8067666973698326+0j)*Z2*Z5 + (0.7101118604260442+0j)*Z3*Z4 + (0.34633594139132584+0j)*Z3*Z5 + (0.5152425869480673+0j)*Z4*Z5\n"
     ]
    }
   ],
   "source": [
    "hData = ut.hamiltonian_from_distance_matrix(dists)\n",
    "print(hData)"
   ]
  },
  {
   "cell_type": "markdown",
   "metadata": {},
   "source": [
    "Now that we have the Hamiltonian, we can go ahead and run the QAOA to check that the points are clustered correctly. We will use the `GeneralQAOAParameters` class, and three timesteps (p=3). We don't include any single-qubit bias terms."
   ]
  },
  {
   "cell_type": "code",
   "execution_count": 13,
   "metadata": {},
   "outputs": [
    {
     "name": "stdout",
     "output_type": "stream",
     "text": [
      "Hyperparameters:\n",
      "\tregister: [0, 1, 2, 3, 4, 5]\n",
      "\tqubits_singles: []\n",
      "\tqubits_pairs: [[0, 1], [0, 2], [0, 3], [0, 4], [0, 5], [1, 2], [1, 3], [1, 4], [1, 5], [2, 3], [2, 4], [2, 5], [3, 4], [3, 5], [4, 5]]\n",
      "Parameters:\n",
      "\tbetas: [[0.06287621 0.96490283 0.21965921], [0.90805307 0.94149138 0.92214736], [0.49623938 0.98656785 0.16872794], [0.99092593 0.04808707 0.39648997], [0.93391026 0.69148722 0.78401214], [0.40453888 0.1180127  0.38839139]]\n",
      "\tgammas_singles: []\n",
      "\tgammas_pairs: [[0.5462833  0.84607256 0.85385776], [0.3179061  0.18729489 0.94872028], [0.35582655 0.59433902 0.86915123], [0.78400447 0.4383214  0.95572785], [0.71023049 0.69610809 0.28674611], [0.46764319 0.73689296 0.00109185], [0.67372492 0.27050469 0.28070745], [0.10480193 0.31610143 0.55813012], [0.12887232 0.04461834 0.8184515 ], [0.98005656 0.41999871 0.23864962], [0.79954936 0.81356986 0.54025763], [0.59070376 0.4557289  0.10963479], [0.99832749 0.04280412 0.22639372], [0.89344545 0.76583531 0.47438618], [0.79742459 0.5443278  0.84230619]]\n",
      "\n"
     ]
    }
   ],
   "source": [
    "n_qubits = 6\n",
    "p = 3\n",
    "\n",
    "# Specify some angles\n",
    "betas = np.random.rand(n_qubits,p)\n",
    "gammas_singles = []\n",
    "gammas_pairs = np.random.rand(len(hData),p)\n",
    "parameters = (betas,gammas_singles,gammas_pairs)\n",
    "\n",
    "myGeneralParams = GeneralQAOAParameters([hData,p],parameters)\n",
    "print(myGeneralParams)"
   ]
  },
  {
   "cell_type": "code",
   "execution_count": 14,
   "metadata": {},
   "outputs": [
    {
     "data": {
      "text/plain": [
       "     fun: -11.10799753163642\n",
       "   maxcv: 0.0\n",
       " message: 'Maximum number of function evaluations has been exceeded.'\n",
       "    nfev: 200\n",
       "  status: 2\n",
       " success: False\n",
       "       x: array([ 0.06679315,  0.97119824,  0.22601016,  1.91589738,  0.92734409,\n",
       "        0.91271904,  0.48990997,  0.9558065 ,  0.10318476,  0.97357264,\n",
       "        0.03365188,  0.38903435,  1.04299673,  0.58800705,  0.74481608,\n",
       "        1.20793882,  0.10430879,  0.37488652,  0.22117803,  1.39419231,\n",
       "        0.79998183,  1.40987661,  1.30187492,  0.93193735,  0.36976547,\n",
       "        1.60557984,  0.88194142,  0.79300759,  1.44844461,  1.0331284 ,\n",
       "        0.72044479,  0.67627997,  0.30079863,  0.4461827 ,  2.2298535 ,\n",
       "       -0.02681901,  1.70183396,  1.25472633,  0.26290831,  0.11472916,\n",
       "        0.33245371,  0.58534642,  1.11128528,  1.0006547 ,  0.81485851,\n",
       "        0.90060206,  0.68136304,  0.23746589,  0.33923602,  0.81278465,\n",
       "        0.46794254,  1.58975452,  0.45226024,  0.10953606,  0.99505455,\n",
       "        0.0420386 ,  1.30726015,  0.89227427,  1.76763851,  0.48529698,\n",
       "        0.79566469,  1.5407836 ,  0.83986915])"
      ]
     },
     "execution_count": 14,
     "metadata": {},
     "output_type": "execute_result"
    }
   ],
   "source": [
    "# NOTE - the optimiser will reach its maximum number of iterations, but for the parameters being used here,\n",
    "# the choice maxiter=200 seems to be more than sufficient to get to the optimum with high probability.\n",
    "\n",
    "sim = WavefunctionSimulator() # Define the wavefunction simulator\n",
    "cost_function = QAOACostFunctionOnWFSim(hData,\n",
    "                                        params=myGeneralParams,\n",
    "                                        sim=sim,\n",
    "                                        return_standard_deviation=True,\n",
    "                                        noisy=False,\n",
    "                                        log=[])\n",
    "res = scipy_optimizer(cost_function, myGeneralParams.raw(), epsilon=1e-3,\n",
    "                      maxiter=200)\n",
    "res"
   ]
  },
  {
   "cell_type": "code",
   "execution_count": 15,
   "metadata": {},
   "outputs": [
    {
     "data": {
      "image/png": "[encoded data removed]",
      "text/plain": [
       "<Figure size 432x288 with 1 Axes>"
      ]
     },
     "metadata": {
      "needs_background": "light"
     },
     "output_type": "display_data"
    }
   ],
   "source": [
    "opt_wfn = cost_function.get_wavefunction(res.x)\n",
    "probs = opt_wfn.probabilities()\n",
    "plt.bar(range(len(probs)),probs)\n",
    "plt.show()"
   ]
  },
  {
   "cell_type": "markdown",
   "metadata": {},
   "source": [
    "Now get the string corresponding to the optimal solution. The `argmax` function will return the first of the two degenerate solutions. As expected, we find that the first three qubits are in one class, and the second three qubits in another (this is the way the data was constructed)."
   ]
  },
  {
   "cell_type": "code",
   "execution_count": 16,
   "metadata": {},
   "outputs": [
    {
     "data": {
      "text/plain": [
       "'111000'"
      ]
     },
     "execution_count": 16,
     "metadata": {},
     "output_type": "execute_result"
    }
   ],
   "source": [
    "optimal_string = np.argmax(probs)\n",
    "\"{0:06b}\".format(optimal_string)"
   ]
  },
  {
   "cell_type": "markdown",
   "metadata": {},
   "source": [
    "We can check that the other optimal solution found is the complement bitstring, i.e. 111000:"
   ]
  },
  {
   "cell_type": "code",
   "execution_count": 17,
   "metadata": {},
   "outputs": [
    {
     "data": {
      "text/plain": [
       "'000111'"
      ]
     },
     "execution_count": 17,
     "metadata": {},
     "output_type": "execute_result"
    }
   ],
   "source": [
    "probs[optimal_string] = 0 # Sets the previously found optimal solution to have zero probability\n",
    "optimal_string_complement = np.argmax(probs)\n",
    "\"{0:06b}\".format(optimal_string_complement)"
   ]
  },
  {
   "cell_type": "markdown",
   "metadata": {},
   "source": [
    "## Landscape sweeps \n",
    "This section shows how to use the `QAOAParameterIterator` class, which allows one to compute the cost function value of parametric wavefunctions produced by QAOA circuits, where one or two parameters of interest are varied, and all others are kept fixed. Let's work again with a simple 2-qubit problem, in the `GeneralQAOAParameters` class, with $p=3$ timesteps."
   ]
  },
  {
   "cell_type": "code",
   "execution_count": 18,
   "metadata": {},
   "outputs": [],
   "source": [
    "h_test = PauliSum.from_compact_str(\"0.7*Z0*Z1 + (-0.5)*Z0\")"
   ]
  },
  {
   "cell_type": "markdown",
   "metadata": {},
   "source": [
    "We require 3x2 `betas` parameters, 3x1 `gammas_singles` and 3x1 `gammas_pairs` parameters, which we will initialise randomly:"
   ]
  },
  {
   "cell_type": "code",
   "execution_count": 19,
   "metadata": {},
   "outputs": [],
   "source": [
    "betas = np.random.rand(3,2)\n",
    "gammas_singles = np.random.rand(3,1)\n",
    "gammas_pairs = np.random.rand(3,1)\n",
    "parameters = (betas,gammas_singles,gammas_pairs)"
   ]
  },
  {
   "cell_type": "code",
   "execution_count": 20,
   "metadata": {},
   "outputs": [
    {
     "name": "stdout",
     "output_type": "stream",
     "text": [
      "Hyperparameters:\n",
      "\tregister: [0, 1]\n",
      "\tqubits_singles: [0]\n",
      "\tqubits_pairs: [[0, 1]]\n",
      "Parameters:\n",
      "\tbetas: [[0.14424358 0.7010194 ], [0.51642047 0.03929334], [0.13124382 0.59055825]]\n",
      "\tgammas_singles: [[0.60315535], [0.11201617], [0.27282859]]\n",
      "\tgammas_pairs: [[0.70418044], [0.39909515], [0.48276549]]\n",
      "\n"
     ]
    }
   ],
   "source": [
    "GeneralParams = GeneralQAOAParameters([h_test,3],parameters)\n",
    "print(GeneralParams)"
   ]
  },
  {
   "cell_type": "markdown",
   "metadata": {},
   "source": [
    "We have a total of 12 parameters; as an example, let's focus on how the cost function value changes when we vary the `beta` angle on the second qubit in the second QAOA step (p=2). This is the `[1][1]` in the `betas` list. We will vary its range from 0 to $2\\pi$."
   ]
  },
  {
   "cell_type": "code",
   "execution_count": 21,
   "metadata": {},
   "outputs": [],
   "source": [
    "range_ = np.linspace(0,2*np.pi,100)\n",
    "param_ = \"betas[1][1]\"\n",
    "iterator = QAOAParameterIterator(GeneralParams, param_, range_)"
   ]
  },
  {
   "cell_type": "markdown",
   "metadata": {},
   "source": [
    "We now want to compute the cost function value with all the different values of the specified parameter of interest."
   ]
  },
  {
   "cell_type": "code",
   "execution_count": 22,
   "metadata": {},
   "outputs": [],
   "source": [
    "sim = WavefunctionSimulator() # Define the wavefunction simulator\n",
    "\n",
    "cost_vals = np.zeros((len(range_,)))\n",
    "dev_vals = np.zeros((len(range_,)))\n",
    "ind = 0\n",
    "for i,p in zip(range(len(range_)),iterator):\n",
    "    \n",
    "    cost_function = QAOACostFunctionOnWFSim(h_test,\n",
    "                                            params=p,\n",
    "                                            sim=sim,\n",
    "                                            return_standard_deviation=True,\n",
    "                                            noisy=False,\n",
    "                                            log=[])\n",
    "    \n",
    "    \n",
    "    val,dev = cost_function(p.raw())\n",
    "    cost_vals[i] = val\n",
    "    dev_vals[i] = dev"
   ]
  },
  {
   "cell_type": "markdown",
   "metadata": {},
   "source": [
    "Below we plot the energy landscape as a function of the parameter of interest in the specified range, together with the standard deviation. A more thorough set of methods for visualising energy landscapes will be demonstrated in a separate notebook."
   ]
  },
  {
   "cell_type": "code",
   "execution_count": 23,
   "metadata": {},
   "outputs": [
    {
     "data": {
      "image/png": "[encoded data removed]",
      "text/plain": [
       "<Figure size 432x288 with 1 Axes>"
      ]
     },
     "metadata": {
      "needs_background": "light"
     },
     "output_type": "display_data"
    }
   ],
   "source": [
    "plt.plot(range_,cost_vals,'b',range_,dev_vals,'r')\n",
    "plt.legend(('Energy', 'Standard deviation'),\n",
    "           loc='lower right')\n",
    "plt.show()"
   ]
  },
  {
   "cell_type": "code",
   "execution_count": null,
   "metadata": {},
   "outputs": [],
   "source": []
  }
 ],
 "metadata": {
  "kernelspec": {
   "display_name": "Python 3",
   "language": "python",
   "name": "python3"
  },
  "language_info": {
   "codemirror_mode": {
    "name": "ipython",
    "version": 3
   },
   "file_extension": ".py",
   "mimetype": "text/x-python",
   "name": "python",
   "nbconvert_exporter": "python",
   "pygments_lexer": "ipython3",
   "version": "3.7.3"
  }
 },
 "nbformat": 4,
 "nbformat_minor": 2
}
