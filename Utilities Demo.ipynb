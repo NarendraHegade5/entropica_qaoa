{
 "cells": [
  {
   "cell_type": "markdown",
   "metadata": {},
   "source": [
    "# Demo of functionalities in QAOA Utilities\n",
    "\n",
    "This notebooks walks through some of the key features provided by `QAOA.utilities`. The methods therein fall into four categories:\n",
    "\n",
    "* Methods for creating random graphs and Hamiltonians, and converting between the two.\n",
    "* Methods for creating certain types of toy data sets (e.g. combos of separate Gaussians), which may be used e.g. for simple clustering with the QAOA.\n",
    "* Methods allowing parameter sweeps to be performed, with a view to studying the landscape of the optimisation problem being tackled.\n",
    "* Functions that compute analytic results for certain graphs (will use exact formulae from papers by Farhi, Hadfield, etc) to benchmark and compare against numerical results"
   ]
  },
  {
   "cell_type": "code",
   "execution_count": 1,
   "metadata": {},
   "outputs": [],
   "source": [
    "import numpy as np\n",
    "import matplotlib.pyplot as plt\n",
    "from typing import Type, Iterable\n",
    "\n",
    "# import the neccesary pyquil modules\n",
    "from qaoa.cost_function import QAOACostFunctionOnQVM, QAOACostFunctionOnWFSim\n",
    "from pyquil.api import local_qvm, WavefunctionSimulator\n",
    "from pyquil.paulis import PauliSum, PauliTerm\n",
    "\n",
    "# import the QAOAParameters that we want to demo\n",
    "from qaoa.parameters import AdiabaticTimestepsQAOAParameters,\\\n",
    "AlternatingOperatorsQAOAParameters, AbstractQAOAParameters, GeneralQAOAParameters,\\\n",
    "QAOAParameterIterator, FourierQAOAParameters\n",
    "\n",
    "from vqe.optimizer import scipy_optimizer\n",
    "import utilities as ut"
   ]
  },
  {
   "cell_type": "markdown",
   "metadata": {},
   "source": [
    "## Random Hamiltonians and graphs"
   ]
  },
  {
   "cell_type": "markdown",
   "metadata": {},
   "source": [
    "The `create_random_hamiltonian` method generates a random Hamiltonian (problem instance) for a specified number of qubits. It randomly selects a number of biases and number of couplings, then assigns each of them a random value between zero and one. For instance, let's create two 4-qubit Hamiltonians."
   ]
  },
  {
   "cell_type": "code",
   "execution_count": 2,
   "metadata": {},
   "outputs": [
    {
     "name": "stdout",
     "output_type": "stream",
     "text": [
      "h1 = (0.7380680957744432+0j)*Z2 + (0.5779851080176981+0j)*Z3 + (0.35171970235338423+0j)*Z0*Z3 + (0.7241873386478982+0j)*Z1*Z2\n",
      "\n",
      "h2 = (0.7452346171192386+0j)*Z1*Z2 + (0.1625588422499339+0j)*Z2*Z3\n"
     ]
    }
   ],
   "source": [
    "h1 = ut.create_random_hamiltonian(4)\n",
    "h2 = ut.create_random_hamiltonian(4)\n",
    "print(\"h1 =\",h1)\n",
    "print()\n",
    "print(\"h2 =\",h2)"
   ]
  },
  {
   "cell_type": "markdown",
   "metadata": {},
   "source": [
    "We can create a `networkx` graph corresponding to the qubit couplings in `h1` using the `AbstractQAOAParameters` class, together with the `create_networkx_graph` method:"
   ]
  },
  {
   "cell_type": "code",
   "execution_count": 3,
   "metadata": {},
   "outputs": [
    {
     "name": "stdout",
     "output_type": "stream",
     "text": [
      "Hyperparameters:\n",
      "\tregister: [0, 1, 2, 3]\n",
      "\tqubits_singles: [2, 3]\n",
      "\tsingle_qubit_coeffs: [0.7380681  0.57798511]\n",
      "\tqubits_pairs: [[0, 3], [1, 2]]\n",
      "\tpair_qubit_coeffs: [0.3517197  0.72418734]\n",
      "\ttimesteps: 1\n",
      "\n"
     ]
    }
   ],
   "source": [
    "myAbstractParams = AbstractQAOAParameters([h1,1]) # Here we have to pass in a timestep value too - can/should we clean this up?\n",
    "print(myAbstractParams)"
   ]
  },
  {
   "cell_type": "code",
   "execution_count": 4,
   "metadata": {
    "scrolled": true
   },
   "outputs": [
    {
     "name": "stderr",
     "output_type": "stream",
     "text": [
      "/home/ewan/anaconda3/lib/python3.7/site-packages/networkx/drawing/nx_pylab.py:611: MatplotlibDeprecationWarning: isinstance(..., numbers.Number)\n",
      "  if cb.is_numlike(alpha):\n"
     ]
    },
    {
     "data": {
      "image/png": "[encoded data removed]",
      "text/plain": [
       "<Figure size 432x288 with 1 Axes>"
      ]
     },
     "metadata": {},
     "output_type": "display_data"
    }
   ],
   "source": [
    "g1 = ut.networkx_from_hamiltonian(myAbstractParams.qubits_pairs,myAbstractParams.pair_qubit_coeffs)\n",
    "ut.plot_networkx_graph(g1)\n",
    "\n",
    "# NOTE: for some reason there is a deprecation warning here associated with Matplotlib."
   ]
  },
  {
   "cell_type": "markdown",
   "metadata": {},
   "source": [
    "We can alternatively work backwards, creating a graph first, then the corresponding Hamiltonian. Let's take the graph we have just produced (`g1`) and convert it back to its corresponding Hamiltonian, which we called `h1` above. Neglecting any missing single qubit bias terms, we see that `H1` here is the same as `h1` defined above."
   ]
  },
  {
   "cell_type": "code",
   "execution_count": 5,
   "metadata": {},
   "outputs": [
    {
     "name": "stdout",
     "output_type": "stream",
     "text": [
      "(0.35171970235338423+0j)*Z0*Z3 + (0.7241873386478982+0j)*Z1*Z2\n"
     ]
    }
   ],
   "source": [
    "H1 = ut.hamiltonian_from_networkx(g1)\n",
    "print(H1)"
   ]
  },
  {
   "cell_type": "markdown",
   "metadata": {},
   "source": [
    "TODO - include & showcase functionality for not entirely random graphs, e.g.:\n",
    "\n",
    "* graphs with a specified maximum node degree\n",
    "* graphs with/without triangles, etc.\n",
    "* Farhi's \"ring of disagrees\"\n",
    "* Erdos-Renyi, geometric random, etc"
   ]
  },
  {
   "cell_type": "code",
   "execution_count": 6,
   "metadata": {},
   "outputs": [],
   "source": [
    "# Create a graph with maximum number degree.."
   ]
  },
  {
   "cell_type": "markdown",
   "metadata": {},
   "source": [
    "## Simple toy datasets for QAOA MaxCut clustering"
   ]
  },
  {
   "cell_type": "markdown",
   "metadata": {},
   "source": [
    "Here we demo some of the methods for generating simple datasets for QAOA clustering problems. Let's create a data set of two clusters, where the points in each cluster follow Gaussian statistics."
   ]
  },
  {
   "cell_type": "code",
   "execution_count": 7,
   "metadata": {},
   "outputs": [
    {
     "data": {
      "image/png": "[encoded data removed]",
      "text/plain": [
       "<Figure size 432x288 with 1 Axes>"
      ]
     },
     "metadata": {
      "needs_background": "light"
     },
     "output_type": "display_data"
    }
   ],
   "source": [
    "n_clusters = 2 # Number of clusters we want\n",
    "n_points = [3,3] # Number of points in each cluster\n",
    "means = [[0,0], [2,2]] # Cluster means (the [x,y] coordinates of each cluster)\n",
    "variances = [[0.1,0.1],[0.1,0.1]] # The variances in the [x,y] coordinates for each of the two clusters\n",
    "covs = [0,0] # For each of the two clusters, the xy covariance\n",
    "\n",
    "myData1 = ut.create_gaussian_2Dclusters(n_clusters,n_points,means,variances,covs)\n",
    "ut.plot_cluster_data(myData1)"
   ]
  },
  {
   "cell_type": "markdown",
   "metadata": {},
   "source": [
    "Now let's set up the MaxCut problem. We compute the distances using `distances_dataset`, which returns a `dict` whose keys are the data point pairs, and whose values are the Euclidean distances between them"
   ]
  },
  {
   "cell_type": "code",
   "execution_count": 8,
   "metadata": {
    "scrolled": true
   },
   "outputs": [
    {
     "data": {
      "text/plain": [
       "{'01': 0.6376631162858049,\n",
       " '02': 0.9351794553848979,\n",
       " '03': 3.0760945950618277,\n",
       " '04': 2.921024444524626,\n",
       " '05': 3.430299170012205,\n",
       " '12': 0.3210050238571195,\n",
       " '13': 2.4917078095267082,\n",
       " '14': 2.3678528111040182,\n",
       " '15': 2.835976909758161,\n",
       " '23': 2.1707223366911266,\n",
       " '24': 2.049241974666192,\n",
       " '25': 2.515642294827084,\n",
       " '34': 0.32537582596456055,\n",
       " '35': 0.3695824246417131,\n",
       " '45': 0.6505045479985773}"
      ]
     },
     "execution_count": 8,
     "metadata": {},
     "output_type": "execute_result"
    }
   ],
   "source": [
    "dists = ut.distances_dataset(myData1)\n",
    "dists"
   ]
  },
  {
   "cell_type": "code",
   "execution_count": 9,
   "metadata": {},
   "outputs": [
    {
     "name": "stdout",
     "output_type": "stream",
     "text": [
      "(0.6376631162858049+0j)*Z0*Z1 + (0.9351794553848979+0j)*Z0*Z2 + (3.0760945950618277+0j)*Z0*Z3 + (2.921024444524626+0j)*Z0*Z4 + (3.430299170012205+0j)*Z0*Z5 + (0.3210050238571195+0j)*Z1*Z2 + (2.4917078095267082+0j)*Z1*Z3 + (2.3678528111040182+0j)*Z1*Z4 + (2.835976909758161+0j)*Z1*Z5 + (2.1707223366911266+0j)*Z2*Z3 + (2.049241974666192+0j)*Z2*Z4 + (2.515642294827084+0j)*Z2*Z5 + (0.32537582596456055+0j)*Z3*Z4 + (0.3695824246417131+0j)*Z3*Z5 + (0.6505045479985773+0j)*Z4*Z5\n"
     ]
    }
   ],
   "source": [
    "hData = ut.hamiltonian_from_dict(dists)\n",
    "print(hData)"
   ]
  },
  {
   "cell_type": "markdown",
   "metadata": {},
   "source": [
    "Now that we have the Hamiltonian, we can go ahead and run the QAOA to check that the points are clustered correctly. We will use the `GeneralQAOAParameters` class, and three timesteps (p=3). We don't include any single-qubit bias terms."
   ]
  },
  {
   "cell_type": "code",
   "execution_count": 10,
   "metadata": {},
   "outputs": [
    {
     "name": "stdout",
     "output_type": "stream",
     "text": [
      "Hyperparameters:\n",
      "\tregister: [0, 1, 2, 3, 4, 5]\n",
      "\tqubits_singles: []\n",
      "\tqubits_pairs: [[0, 1], [0, 2], [0, 3], [0, 4], [0, 5], [1, 2], [1, 3], [1, 4], [1, 5], [2, 3], [2, 4], [2, 5], [3, 4], [3, 5], [4, 5]]\n",
      "Parameters:\n",
      "\tbetas: [[0.27804504 0.41009165 0.72402649], [0.47693689 0.87229186 0.76422432], [0.23583463 0.08938916 0.50151877], [0.47347742 0.82785108 0.74999014], [0.52548097 0.26100414 0.93182705], [0.55893864 0.47356003 0.50710292]]\n",
      "\tgammas_singles: []\n",
      "\tgammas_pairs: [[8.58953214e-01 1.28905258e-02 5.05147660e-01], [7.22302227e-01 6.75232520e-01 8.05617216e-01], [3.32395497e-01 9.96286385e-01 1.74284841e-01], [9.05566283e-01 3.89112038e-01 7.99989054e-01], [8.98856669e-01 3.75931285e-01 9.02350009e-02], [9.00044206e-01 5.75236645e-01 5.00036101e-01], [6.29298294e-01 7.47728760e-01 2.06368576e-01], [5.03836079e-01 2.53866731e-01 4.66880712e-01], [7.98281569e-01 3.87330794e-01 9.15970525e-01], [7.71674060e-01 9.47666456e-01 1.90448680e-02], [9.63595087e-01 4.31554128e-01 7.74964679e-01], [9.67449309e-01 4.24481981e-01 4.29425880e-02], [3.15992169e-01 4.15945853e-01 8.18280153e-02], [4.12060711e-01 7.14231956e-01 4.39546783e-01], [9.62976144e-01 3.11003411e-01 4.84193350e-04]]\n",
      "\n"
     ]
    }
   ],
   "source": [
    "n_qubits = 6\n",
    "p = 3\n",
    "\n",
    "# Specify some angles\n",
    "betas = np.random.rand(n_qubits,p)\n",
    "gammas_singles = []\n",
    "gammas_pairs = np.random.rand(len(dists),p)\n",
    "parameters = (betas,gammas_singles,gammas_pairs)\n",
    "\n",
    "myGeneralParams = GeneralQAOAParameters([hData,p],parameters)\n",
    "print(myGeneralParams)"
   ]
  },
  {
   "cell_type": "code",
   "execution_count": 11,
   "metadata": {},
   "outputs": [
    {
     "data": {
      "text/plain": [
       "     fun: -7.903561630166031\n",
       "   maxcv: 0.0\n",
       " message: 'Maximum number of function evaluations has been exceeded.'\n",
       "    nfev: 100\n",
       "  status: 2\n",
       " success: False\n",
       "       x: array([ 1.26873060e+00,  4.09240231e-01,  7.15074020e-01,  4.69941686e-01,\n",
       "        8.69585989e-01,  7.56244226e-01,  2.33560507e-01,  9.38985223e-02,\n",
       "        4.95467746e-01,  4.67037959e-01,  1.82719028e+00,  1.76217972e+00,\n",
       "        1.52151387e+00,  2.53434110e-01,  9.27433194e-01,  5.49885355e-01,\n",
       "        4.71277351e-01,  1.50351776e+00,  1.86784301e+00, -1.90493572e-03,\n",
       "        1.48212764e+00,  1.70214170e+00,  7.52245151e-01,  1.18706695e+00,\n",
       "        3.19937518e-01,  9.92401184e-01,  1.17567502e+00,  8.94767206e-01,\n",
       "        3.81964359e-01,  7.99549366e-01,  8.97997656e-01,  3.75019867e-01,\n",
       "        1.09133899e+00,  8.99119305e-01,  5.71601030e-01,  4.99952762e-01,\n",
       "        6.28904741e-01,  7.47161730e-01,  2.03686727e-01,  5.00964263e-01,\n",
       "        2.51458055e-01,  4.66637952e-01,  7.94348431e-01,  3.82048926e-01,\n",
       "        9.13644638e-01,  1.77295290e+00,  9.47101807e-01,  1.52460228e-02,\n",
       "        1.96362730e+00,  4.27119894e-01,  1.77527788e+00,  9.67003164e-01,\n",
       "        1.42453179e+00,  4.03767559e-02,  3.11766252e-01,  4.12477741e-01,\n",
       "        8.12546485e-02,  4.07863873e-01,  7.04643785e-01,  4.38151786e-01,\n",
       "        9.59965979e-01,  1.31107109e+00, -1.03477398e-03])"
      ]
     },
     "execution_count": 11,
     "metadata": {},
     "output_type": "execute_result"
    }
   ],
   "source": [
    "# NOTE - the optimiser will reach its maximum number of iterations, but for the parameters being used here,\n",
    "# the choice maxiter=100 seems to be more than sufficient to get to the optimum with high probability.\n",
    "\n",
    "sim = WavefunctionSimulator() # Define the wavefunction simulator\n",
    "cost_function = QAOACostFunctionOnWFSim(hData,\n",
    "                                        params=myGeneralParams,\n",
    "                                        sim=sim,\n",
    "                                        return_standard_deviation=True,\n",
    "                                        noisy=False,\n",
    "                                        log=[])\n",
    "res = scipy_optimizer(cost_function, myGeneralParams.raw(), epsilon=1e-3,\n",
    "                      maxiter=100)\n",
    "res"
   ]
  },
  {
   "cell_type": "code",
   "execution_count": 12,
   "metadata": {},
   "outputs": [
    {
     "data": {
      "image/png": "[encoded data removed]",
      "text/plain": [
       "<Figure size 432x288 with 1 Axes>"
      ]
     },
     "metadata": {
      "needs_background": "light"
     },
     "output_type": "display_data"
    }
   ],
   "source": [
    "opt_wfn = cost_function.get_wavefunction(res.x)\n",
    "probs = opt_wfn.probabilities()\n",
    "plt.bar(range(len(probs)),probs)\n",
    "plt.show()"
   ]
  },
  {
   "cell_type": "markdown",
   "metadata": {},
   "source": [
    "Now get the string corresponding to the optimal solution. The `argmax` function will return the first of the two degenerate solutions. As expected, we find that the first three qubits are in one class, and the second three qubits in another (this is the way the data was constructed)."
   ]
  },
  {
   "cell_type": "code",
   "execution_count": 13,
   "metadata": {},
   "outputs": [
    {
     "data": {
      "text/plain": [
       "'000111'"
      ]
     },
     "execution_count": 13,
     "metadata": {},
     "output_type": "execute_result"
    }
   ],
   "source": [
    "optimal_string = np.argmax(probs)\n",
    "\"{0:06b}\".format(optimal_string)"
   ]
  },
  {
   "cell_type": "markdown",
   "metadata": {},
   "source": [
    "We can check that the other optimal solution found is the complement bitstring, i.e. 111000:"
   ]
  },
  {
   "cell_type": "code",
   "execution_count": 14,
   "metadata": {},
   "outputs": [
    {
     "data": {
      "text/plain": [
       "'111000'"
      ]
     },
     "execution_count": 14,
     "metadata": {},
     "output_type": "execute_result"
    }
   ],
   "source": [
    "probs[optimal_string] = 0 # Sets the previously found optimal solution to have zero probability\n",
    "optimal_string_complement = np.argmax(probs)\n",
    "\"{0:06b}\".format(optimal_string_complement)"
   ]
  },
  {
   "cell_type": "code",
   "execution_count": null,
   "metadata": {},
   "outputs": [],
   "source": []
  }
 ],
 "metadata": {
  "kernelspec": {
   "display_name": "Python 3",
   "language": "python",
   "name": "python3"
  },
  "language_info": {
   "codemirror_mode": {
    "name": "ipython",
    "version": 3
   },
   "file_extension": ".py",
   "mimetype": "text/x-python",
   "name": "python",
   "nbconvert_exporter": "python",
   "pygments_lexer": "ipython3",
   "version": "3.7.3"
  }
 },
 "nbformat": 4,
 "nbformat_minor": 2
}
