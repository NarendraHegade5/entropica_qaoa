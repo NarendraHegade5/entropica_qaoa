{
 "cells": [
  {
   "cell_type": "markdown",
   "metadata": {},
   "source": [
    "# Demo of functionalities in QAOA Utilities\n",
    "\n",
    "This notebooks walks through some of the key features provided by `QAOA.utilities`. The methods therein fall into three categories:\n",
    "\n",
    "* Methods for creating random graphs and Hamiltonians, and converting between the two.\n",
    "* Methods for creating certain types of toy data sets (e.g. combos of separate Gaussians), which may be used e.g. for simple clustering with the QAOA.\n",
    "* Methods allowing parameter sweeps to be performed, with a view to studying the landscape of the optimisation problem being tackled.\n",
    "* Functions that compute analytic results for certain graphs (will use exact formulae from papers by Farhi, Hadfield, etc) to benchmark and compare against numerical results"
   ]
  },
  {
   "cell_type": "code",
   "execution_count": 1,
   "metadata": {},
   "outputs": [],
   "source": [
    "import numpy as np\n",
    "import matplotlib.pyplot as plt\n",
    "from typing import Type, Iterable\n",
    "\n",
    "# import the neccesary pyquil modules\n",
    "from qaoa.cost_function import QAOACostFunctionOnQVM, QAOACostFunctionOnWFSim\n",
    "from pyquil.api import local_qvm, WavefunctionSimulator\n",
    "from pyquil.paulis import PauliSum, PauliTerm\n",
    "\n",
    "# import the QAOAParameters that we want to demo\n",
    "from qaoa.parameters import AdiabaticTimestepsQAOAParameters,\\\n",
    "AlternatingOperatorsQAOAParameters, AbstractQAOAParameters, GeneralQAOAParameters,\\\n",
    "QAOAParameterIterator, FourierQAOAParameters\n",
    "\n",
    "from vqe.optimizer import scipy_optimizer\n",
    "import utilities as ut"
   ]
  },
  {
   "cell_type": "markdown",
   "metadata": {},
   "source": [
    "## Random Hamiltonians and graphs"
   ]
  },
  {
   "cell_type": "markdown",
   "metadata": {},
   "source": [
    "The `create_random_hamiltonian` method generates a random Hamiltonian (problem instance) for a specified number of qubits. It randomly selects a number of biases and number of couplings, then assigns each of them a random value between zero and one. For instance, let's create two 4-qubit Hamiltonians."
   ]
  },
  {
   "cell_type": "code",
   "execution_count": 2,
   "metadata": {},
   "outputs": [
    {
     "name": "stdout",
     "output_type": "stream",
     "text": [
      "h1 = (0.1979562962433411+0j)*Z0 + (0.177200519669939+0j)*Z2 + (0.892121698987402+0j)*Z0*Z1 + (0.003777218103473645+0j)*Z0*Z3 + (0.5840350223329037+0j)*Z1*Z2 + (0.21841249341654745+0j)*Z2*Z3\n",
      "\n",
      "h2 = (0.09498316078189661+0j)*Z0*Z3\n"
     ]
    }
   ],
   "source": [
    "h1 = ut.create_random_hamiltonian(4)\n",
    "h2 = ut.create_random_hamiltonian(4)\n",
    "print(\"h1 =\",h1)\n",
    "print()\n",
    "print(\"h2 =\",h2)"
   ]
  },
  {
   "cell_type": "markdown",
   "metadata": {},
   "source": [
    "We can create a `networkx` graph corresponding to the qubit couplings in `h1` using the `AbstractQAOAParameters` class, together with the `create_networkx_graph` method:"
   ]
  },
  {
   "cell_type": "code",
   "execution_count": 3,
   "metadata": {},
   "outputs": [
    {
     "name": "stdout",
     "output_type": "stream",
     "text": [
      "Hyperparameters:\n",
      "\tregister: [0, 1, 2, 3]\n",
      "\tqubits_singles: [0, 2]\n",
      "\tsingle_qubit_coeffs: [0.1979563  0.17720052]\n",
      "\tqubits_pairs: [[0, 1], [0, 3], [1, 2], [2, 3]]\n",
      "\tpair_qubit_coeffs: [0.8921217  0.00377722 0.58403502 0.21841249]\n",
      "\ttimesteps: 1\n",
      "\n"
     ]
    }
   ],
   "source": [
    "myAbstractParams = AbstractQAOAParameters([h1,1]) # Here we have to pass in a timestep value too - can/should we clean this up?\n",
    "print(myAbstractParams)"
   ]
  },
  {
   "cell_type": "code",
   "execution_count": 4,
   "metadata": {
    "scrolled": true
   },
   "outputs": [
    {
     "name": "stderr",
     "output_type": "stream",
     "text": [
      "/home/ewan/anaconda3/lib/python3.7/site-packages/networkx/drawing/nx_pylab.py:611: MatplotlibDeprecationWarning: isinstance(..., numbers.Number)\n",
      "  if cb.is_numlike(alpha):\n"
     ]
    },
    {
     "data": {
      "image/png": "[encoded data removed]",
      "text/plain": [
       "<Figure size 432x288 with 1 Axes>"
      ]
     },
     "metadata": {},
     "output_type": "display_data"
    }
   ],
   "source": [
    "g1 = ut.networkx_from_hamiltonian(myAbstractParams.qubits_pairs,myAbstractParams.pair_qubit_coeffs)\n",
    "ut.plot_networkx_graph(g1)"
   ]
  },
  {
   "cell_type": "markdown",
   "metadata": {},
   "source": [
    "We can alternatively work backwards, creating a graph first, then the corresponding Hamiltonian. Let's take the graph we have just produced (`g1`) and convert it back to its corresponding Hamiltonian, which we called `h1` above. Neglecting any missing single qubit bias terms, we see that `H1` here is the same as `h1` defined above."
   ]
  },
  {
   "cell_type": "code",
   "execution_count": 5,
   "metadata": {},
   "outputs": [
    {
     "name": "stdout",
     "output_type": "stream",
     "text": [
      "(0.892121698987402+0j)*Z0*Z1 + (0.003777218103473645+0j)*Z0*Z3 + (0.5840350223329037+0j)*Z1*Z2 + (0.21841249341654745+0j)*Z3*Z2\n"
     ]
    }
   ],
   "source": [
    "H1 = ut.hamiltonian_from_networkx(g1)\n",
    "print(H1)"
   ]
  },
  {
   "cell_type": "markdown",
   "metadata": {},
   "source": [
    "TODO - include & showcase functionality for not entirely random graphs, e.g.:\n",
    "\n",
    "* graphs with a specified maximum node degree\n",
    "* graphs with/without triangles, etc.\n",
    "* Farhi's \"ring of disagrees\"\n",
    "* Erdos-Renyi, geometric random, etc"
   ]
  },
  {
   "cell_type": "markdown",
   "metadata": {},
   "source": [
    "## Simple toy datasets for QAOA MaxCut clustering"
   ]
  },
  {
   "cell_type": "markdown",
   "metadata": {},
   "source": [
    "Here we demo some of the methods for generating simple datasets for QAOA clustering problems. Let's create a data set of two clusters, where the points in each cluster follow Gaussian statistics."
   ]
  },
  {
   "cell_type": "code",
   "execution_count": null,
   "metadata": {},
   "outputs": [],
   "source": [
    "n_clusters = 2\n",
    "n_points = 3 # Number of points in each cluster\n",
    "means = [[0,0], [2,2]] # Cluster means \n",
    "\n",
    "myData1 = create_gaussian_2Dclusters(n_clusters,n_points,means,variances,covs)"
   ]
  }
 ],
 "metadata": {
  "kernelspec": {
   "display_name": "Python 3",
   "language": "python",
   "name": "python3"
  },
  "language_info": {
   "codemirror_mode": {
    "name": "ipython",
    "version": 3
   },
   "file_extension": ".py",
   "mimetype": "text/x-python",
   "name": "python",
   "nbconvert_exporter": "python",
   "pygments_lexer": "ipython3",
   "version": "3.7.3"
  }
 },
 "nbformat": 4,
 "nbformat_minor": 2
}
