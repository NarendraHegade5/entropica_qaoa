{
 "cells": [
  {
   "cell_type": "markdown",
   "metadata": {},
   "source": [
    "# Solving a QUBO with QAOA\n",
    "\n",
    "In this notebook we look at how QAOA can be used to solve a simple quadratic unconstrained binary optimisation problem. We tackle the problem in Section 2 of __[this tutorial](https://arxiv.org/pdf/1811.11538.pdf)__.\n",
    "\n",
    "## Problem definition as QUBO\n",
    "\n",
    "The problem to be solved is to find the minimum function value, and corresponding configuration of variables, of \n",
    "\n",
    "\\begin{equation}\n",
    "y = -5x_1 -3x_2 -8x_3 -6x_4 + 4x_1x_2 + 8x_1x_3 + 2x_2x_3 + 10x_3x_4\n",
    "\\end{equation}\n",
    "\n",
    "Here the variables $x_i$, $i = 1,...,4$ are binary. Observe that in the linear part (the first 4 terms) all of the variables would ideally be equal to 1 in order to minimise the function. However, the quadratic part encodes penalties for having different variable combinations.\n",
    "\n",
    "Note that in the linear part, we can simply square all of the variables, since $x_i = x_i^2$ for binary variables. We then transform the problem to minimisation of\n",
    "\n",
    "\\begin{eqnarray}\n",
    "y^{\\prime} &=& -5x_1^2 -3x_2^2 -8x_3^2 -6x_4^2 + 4x_1x_2 + 8x_1x_3 + 2x_2x_3 + 10x_3x_4 \\\\\n",
    "&=& \\left(\\begin{matrix} x_4 & x_3 & x_2 & x_1\\end{matrix}\\right)\n",
    "\\left(\\begin{matrix}\n",
    "-6 & 5 & 0 & 0 \\\\\n",
    "5 & -8 & 1 & 4 \\\\\n",
    "0 & 1 & -3 & 2 \\\\\n",
    "0 & 4 & 2 & -5\n",
    "\\end{matrix}\n",
    "\\right)\n",
    "\\left(\\begin{matrix} x_4\\\\ x_3 \\\\ x_2 \\\\ x_1 \\end{matrix}\\right)\n",
    "\\end{eqnarray}\n",
    "\n",
    "We have ordered the variables in the binary strings such that $x_1$ appears as the least significant bit, which corresponds to the general convention in the quantum computing community (and in particular in most quantum programming environments). Let's plot the function to see what the energy landscape looks like."
   ]
  },
  {
   "cell_type": "code",
   "execution_count": 1,
   "metadata": {},
   "outputs": [],
   "source": [
    "import numpy as np\n",
    "import matplotlib.pyplot as plt"
   ]
  },
  {
   "cell_type": "code",
   "execution_count": 2,
   "metadata": {},
   "outputs": [
    {
     "data": {
      "image/png": "[encoded data removed]",
      "text/plain": [
       "<Figure size 432x288 with 1 Axes>"
      ]
     },
     "metadata": {
      "needs_background": "light"
     },
     "output_type": "display_data"
    }
   ],
   "source": [
    "def func_y(config):\n",
    "    \n",
    "    #matr = np.array([[-5, 2, 4, 0], [2, -3, 1, 0], [4, 1, -8, 5], [0, 0, 5, -6]])\n",
    "    matr = np.array([[-6, 5, 0, 0], [5, -8, 1, 4], [0, 1, -3, 2], [0, 4, 2, -5]])\n",
    "    \n",
    "    return config @ matr @ config\n",
    "\n",
    "def num_2_bin(num):\n",
    "    \n",
    "    bin_str = np.binary_repr(num, width=4)\n",
    "    bin_arr = np.array([int(x) for x in bin_str])\n",
    "    \n",
    "    return bin_arr\n",
    "\n",
    "y_vals = [func_y(num_2_bin(i)) for i in range(16)]\n",
    "plt.plot(y_vals)\n",
    "plt.show()"
   ]
  },
  {
   "cell_type": "markdown",
   "metadata": {},
   "source": [
    "The optimal solution is $x_1 = x_4 = 1$, $x_2 = x_3 = 0$, i.e. the bitstring 1001 (the binary representation of the number 9). Its corresponding function value is -11."
   ]
  },
  {
   "cell_type": "markdown",
   "metadata": {},
   "source": [
    "## Mapping to QAOA\n",
    "\n",
    "To solve using QAOA, we would naively just associate each variable with the $Z$ value of a spin. However, there are a couple of implementation details we need to take into account. Firstly, unlike how we took the square of the binary variables $x_j$ to arrive at a QUBO, we can't use the trick of squaring the qubit $Z$ operator, because this would simply result in the identity operation. We would therefore just implement the linear terms in their original form, albeit with the following modification:\n",
    "\n",
    "\\begin{equation}\n",
    "x_i \\leftrightarrow \\frac{\\mathbb{I} - Z_j}{2}\n",
    "\\end{equation}\n",
    "\n",
    "This ensures that a spin in state $|0\\rangle$ produces zero contributiion to the cost function, while a spin in state $|1\\rangle$ adds 1 to the total cost function.\n",
    "\n",
    "Turning to the polynomial terms, in the original problem above, it is sufficient for just one of the variables $x_i$ or $x_j$ to be 0 for the term $x_ix_j$ to be zero. This does not carry over to measurements of the $Z$ operator for qubits, since $Z_iZ_j = \\pm1$ if $i=j$ (+) or $i\\neq j$ (-). However, if we choose the operator $(\\mathbb{I} - Z_i)(\\mathbb{I} - Z_j)/4 = (\\mathbb{I} - Z_i - Z_j + Z_iZ_j)/4$, we are able to implement the desired cost function\n",
    "\n",
    "\\begin{equation}\n",
    "\\left(\n",
    "\\begin{matrix}\n",
    "0 & 0 & 0 & 0 \\\\\n",
    "0 & 0 & 0 & 0 \\\\\n",
    "0 & 0 & 0 & 0 \\\\\n",
    "0 & 0 & 0 & 1 \n",
    "\\end{matrix}\n",
    "\\right)\n",
    "\\end{equation}\n",
    "\n",
    "Our Hamiltonian is then\n",
    "\n",
    "\n",
    "\\begin{eqnarray}\n",
    "H_y &=& -\\frac{1}{2}\\left[5(\\mathbb{I} - Z_1) + 3(\\mathbb{I} - Z_2) + 8(\\mathbb{I} - Z_3) + 6(\\mathbb{I} - Z_4)\\right] \\\\ \n",
    "&+& \\frac{1}{4}\\left[4(\\mathbb{I} - Z_1)(\\mathbb{I} - Z_2) + 8(\\mathbb{I} - Z_1)(\\mathbb{I} - Z_3) + 2(\\mathbb{I} - Z_2)(\\mathbb{I} - Z_3) + 10(\\mathbb{I} - Z_3)(\\mathbb{I} - Z_4)\\right]\n",
    "\\end{eqnarray}\n",
    "\n",
    "Let's now set the problem up and proceed to solve it using QAOA. First we import all the packages we need."
   ]
  },
  {
   "cell_type": "code",
   "execution_count": 2,
   "metadata": {},
   "outputs": [],
   "source": [
    "from pyquil.paulis import PauliSum\n",
    "from pyquil.api import WavefunctionSimulator\n",
    "from pyquil.unitary_tools import lifted_pauli\n",
    "from entropica_qaoa.qaoa.parameters import StandardParams, ExtendedParams, FourierParams\n",
    "from entropica_qaoa.qaoa.cost_function import QAOACostFunctionOnWFSim\n",
    "from scipy.optimize import minimize"
   ]
  },
  {
   "cell_type": "markdown",
   "metadata": {},
   "source": [
    "The linear part of the Hamiltonian:"
   ]
  },
  {
   "cell_type": "code",
   "execution_count": 3,
   "metadata": {},
   "outputs": [
    {
     "name": "stdout",
     "output_type": "stream",
     "text": [
      "(2.5-0j)*Z1 + (1.5-0j)*Z2 + (4-0j)*Z3 + (3-0j)*Z4 + (-11+0j)*I\n"
     ]
    }
   ],
   "source": [
    "# We could provide a method to convert a given function to the corresponding Hamiltonian\n",
    "ham_lin = -0.5*PauliSum.from_compact_str('(-5)*Z1 + (-3)*Z2 + (-8)*Z3 + (-6)*Z4 + 22*I')\n",
    "print(ham_lin)"
   ]
  },
  {
   "cell_type": "markdown",
   "metadata": {},
   "source": [
    "The quadratic part of the Hamiltonian:"
   ]
  },
  {
   "cell_type": "code",
   "execution_count": 4,
   "metadata": {},
   "outputs": [],
   "source": [
    "ham_poly = 0.25*PauliSum.from_compact_str('4*Z1*Z2 + 4*I + (-4)*Z1 + (-4)*Z2 + 8*Z1*Z3 + 8*I + (-8)*Z1 + (-8)*Z3')\n",
    "ham_poly += 0.25*PauliSum.from_compact_str('2*Z2*Z3 + 2*I + (-2)*Z2 + (-2)*Z3 + 10*Z3*Z4 + 10*I + (-10)*Z3 + (-10)*Z4')"
   ]
  },
  {
   "cell_type": "markdown",
   "metadata": {},
   "source": [
    "Sum them up, and check that the eigenvalues correspond to the function values of $y$ that we computed above:"
   ]
  },
  {
   "cell_type": "code",
   "execution_count": 5,
   "metadata": {},
   "outputs": [],
   "source": [
    "ham = ham_lin + ham_poly"
   ]
  },
  {
   "cell_type": "code",
   "execution_count": 6,
   "metadata": {},
   "outputs": [
    {
     "name": "stdout",
     "output_type": "stream",
     "text": [
      "[  0.+0.j  -5.+0.j  -3.+0.j  -4.+0.j  -8.+0.j  -5.+0.j  -9.+0.j  -2.+0.j\n",
      "  -6.+0.j -11.+0.j  -9.+0.j -10.+0.j  -4.+0.j  -1.+0.j  -5.+0.j   2.+0.j]\n",
      "\n"
     ]
    },
    {
     "ename": "NameError",
     "evalue": "name 'y_vals' is not defined",
     "output_type": "error",
     "traceback": [
      "\u001b[0;31m---------------------------------------------------------------------------\u001b[0m",
      "\u001b[0;31mNameError\u001b[0m                                 Traceback (most recent call last)",
      "\u001b[0;32m<ipython-input-6-4495fcf588ca>\u001b[0m in \u001b[0;36m<module>\u001b[0;34m\u001b[0m\n\u001b[1;32m      2\u001b[0m \u001b[0mprint\u001b[0m\u001b[0;34m(\u001b[0m\u001b[0mnp\u001b[0m\u001b[0;34m.\u001b[0m\u001b[0mdiag\u001b[0m\u001b[0;34m(\u001b[0m\u001b[0mham_matrix\u001b[0m\u001b[0;34m)\u001b[0m\u001b[0;34m)\u001b[0m\u001b[0;34m\u001b[0m\u001b[0;34m\u001b[0m\u001b[0m\n\u001b[1;32m      3\u001b[0m \u001b[0mprint\u001b[0m\u001b[0;34m(\u001b[0m\u001b[0;34m''\u001b[0m\u001b[0;34m)\u001b[0m\u001b[0;34m\u001b[0m\u001b[0;34m\u001b[0m\u001b[0m\n\u001b[0;32m----> 4\u001b[0;31m \u001b[0mprint\u001b[0m\u001b[0;34m(\u001b[0m\u001b[0my_vals\u001b[0m\u001b[0;34m)\u001b[0m\u001b[0;34m\u001b[0m\u001b[0;34m\u001b[0m\u001b[0m\n\u001b[0m",
      "\u001b[0;31mNameError\u001b[0m: name 'y_vals' is not defined"
     ]
    }
   ],
   "source": [
    "ham_matrix = lifted_pauli(ham, ham.get_qubits())\n",
    "print(np.diag(ham_matrix))\n",
    "print('')\n",
    "print(y_vals)"
   ]
  },
  {
   "cell_type": "markdown",
   "metadata": {},
   "source": [
    "## Solution with `StandardParams`\n",
    "\n",
    "Let's start with `StandardParams`. We'll see how we do with $p=3$ timesteps, using Cobyla as our optimiser, and the `linear_ramp_from_hamiltonian` function to set up our inital parameters."
   ]
  },
  {
   "cell_type": "code",
   "execution_count": 8,
   "metadata": {},
   "outputs": [],
   "source": [
    "p = 3\n",
    "standard_params = StandardParams.linear_ramp_from_hamiltonian(ham,p)"
   ]
  },
  {
   "cell_type": "code",
   "execution_count": 9,
   "metadata": {},
   "outputs": [],
   "source": [
    "cost_std = QAOACostFunctionOnWFSim(ham,standard_params)\n",
    "res_std = minimize(cost_std, standard_params.raw(), method = 'Cobyla')"
   ]
  },
  {
   "cell_type": "code",
   "execution_count": 10,
   "metadata": {},
   "outputs": [
    {
     "data": {
      "text/plain": [
       "     fun: -9.481737401651825\n",
       "   maxcv: 0.0\n",
       " message: 'Optimization terminated successfully.'\n",
       "    nfev: 217\n",
       "  status: 1\n",
       " success: True\n",
       "       x: array([0.57669517, 0.36696255, 0.1714248 , 0.13199443, 0.27704162,\n",
       "       0.31672819])"
      ]
     },
     "execution_count": 10,
     "metadata": {},
     "output_type": "execute_result"
    }
   ],
   "source": [
    "res_std"
   ]
  },
  {
   "cell_type": "code",
   "execution_count": 11,
   "metadata": {},
   "outputs": [
    {
     "data": {
      "image/png": "[encoded data removed]",
      "text/plain": [
       "<Figure size 432x288 with 1 Axes>"
      ]
     },
     "metadata": {
      "needs_background": "light"
     },
     "output_type": "display_data"
    }
   ],
   "source": [
    "state = cost_std.get_wavefunction(res_std.x)\n",
    "probs = state.probabilities()\n",
    "labels = [r'$\\left|{0:04b}\\right>$'.format(i) for i in range(16)]\n",
    "plt.bar(range(16),probs)\n",
    "plt.xticks(range(16), labels, rotation=70);"
   ]
  },
  {
   "cell_type": "markdown",
   "metadata": {},
   "source": [
    "The most probable state is $|1001\\rangle$, which does indeed correspond to the minimum energy configuration of the variables. However, if we were to sample from a quantum computer, the above distribution would not allow us to conclude with sufficient confidence that we have found the solution.\n",
    "\n",
    "Let's try increasing $p$ to see how more likely we are to obtain the optimal solution. To do this, we'll define a simple convenience function."
   ]
  },
  {
   "cell_type": "code",
   "execution_count": 12,
   "metadata": {},
   "outputs": [],
   "source": [
    "def state_prob_p(p):\n",
    "    \n",
    "    standard_params = StandardParams.linear_ramp_from_hamiltonian(ham,p)\n",
    "    cost_std = QAOACostFunctionOnWFSim(ham,standard_params)\n",
    "    res_std = minimize(cost_std, standard_params.raw(), method = 'Cobyla')\n",
    "    state = cost_std.get_wavefunction(res_std.x)\n",
    "    probs = state.probabilities()\n",
    "    \n",
    "    return probs[9] # The bitstring 1001 is the 9th entry of the vector of probabilities"
   ]
  },
  {
   "cell_type": "code",
   "execution_count": 17,
   "metadata": {},
   "outputs": [],
   "source": [
    "# Running this cell should take 2 or 3 minutes with the upper value of p as 12\n",
    "p_vals = np.arange(1,13)\n",
    "probability_opt_state = [state_prob_p(i) for i in p_vals]"
   ]
  },
  {
   "cell_type": "code",
   "execution_count": 18,
   "metadata": {},
   "outputs": [
    {
     "data": {
      "image/png": "[encoded data removed]",
      "text/plain": [
       "<Figure size 432x288 with 1 Axes>"
      ]
     },
     "metadata": {
      "needs_background": "light"
     },
     "output_type": "display_data"
    }
   ],
   "source": [
    "plt.plot(p_vals,probability_opt_state,'.')\n",
    "plt.show()"
   ]
  },
  {
   "cell_type": "markdown",
   "metadata": {},
   "source": [
    "Clearly the optimal bit string probability approaches unity with increasing $p$. What do the optimal parameters look like? Let's focus on the case $p=10$, for example."
   ]
  },
  {
   "cell_type": "code",
   "execution_count": 21,
   "metadata": {},
   "outputs": [],
   "source": [
    "standard_p10 = StandardParams.linear_ramp_from_hamiltonian(ham,10)\n",
    "cost_p10 = QAOACostFunctionOnWFSim(ham,standard_p10)\n",
    "res_p10 = minimize(cost_p10, standard_p10.raw(), method = 'Cobyla')"
   ]
  },
  {
   "cell_type": "markdown",
   "metadata": {},
   "source": [
    "We can plot the optimal parameters vs. the circuit iteration steps as follows:"
   ]
  },
  {
   "cell_type": "code",
   "execution_count": 22,
   "metadata": {},
   "outputs": [
    {
     "data": {
      "image/png": "[encoded data removed]",
      "text/plain": [
       "<Figure size 432x288 with 1 Axes>"
      ]
     },
     "metadata": {
      "needs_background": "light"
     },
     "output_type": "display_data"
    }
   ],
   "source": [
    "standard_p10.update_from_raw(res_p10.x)\n",
    "standard_p10.plot()"
   ]
  },
  {
   "cell_type": "markdown",
   "metadata": {},
   "source": [
    "Generally, the parameters appear to be relatively smooth functions (barring the apparent outlier in the `gammas`). We might therefore investigate the `Fourier` parametrisation as an alternative."
   ]
  },
  {
   "cell_type": "markdown",
   "metadata": {},
   "source": [
    "## Solution with `FourierParams`\n",
    "\n",
    "First we define a convenience function:"
   ]
  },
  {
   "cell_type": "code",
   "execution_count": 7,
   "metadata": {},
   "outputs": [],
   "source": [
    "def state_prob_fourier(p,q):\n",
    "    \n",
    "    fourier_params = FourierParams.linear_ramp_from_hamiltonian(ham,p,q)\n",
    "    cost = QAOACostFunctionOnWFSim(ham,fourier_params)\n",
    "    res = minimize(cost, fourier_params.raw(), method = 'Cobyla', options={\"maxiter\" : 500*p})\n",
    "    state = cost.get_wavefunction(res.x)\n",
    "    probs = state.probabilities()\n",
    "    \n",
    "    return probs[9] # The bitstring 1001 is the 9th entry of the vector of probabilities"
   ]
  },
  {
   "cell_type": "markdown",
   "metadata": {},
   "source": [
    "Let's look again at the case $p=10$, for different values of $q$. "
   ]
  },
  {
   "cell_type": "code",
   "execution_count": 8,
   "metadata": {},
   "outputs": [
    {
     "data": {
      "text/plain": [
       "Hyperparameters:\n",
       "\tregister: [1, 2, 3, 4]\n",
       "\tqubits_singles[1, 3, 4]\n",
       "\tqubits_pairs[[1, 2], [1, 3], [2, 3], [3, 4]]\n",
       "Parameters:\n",
       "\tv: [0.35 0.   0.   0.   0.   0.   0.   0.   0.   0.  ]\n",
       "\tu: [0.35 0.   0.   0.   0.   0.   0.   0.   0.   0.  ]"
      ]
     },
     "execution_count": 8,
     "metadata": {},
     "output_type": "execute_result"
    }
   ],
   "source": [
    "fourier_params = FourierParams.linear_ramp_from_hamiltonian(ham,10,10)\n",
    "fourier_params"
   ]
  },
  {
   "cell_type": "code",
   "execution_count": 11,
   "metadata": {},
   "outputs": [],
   "source": [
    "q_vals = [1, 5] #np.arange(1,11)\n",
    "opt_prob = [state_prob_fourier(10,q) for q in q_vals]"
   ]
  },
  {
   "cell_type": "code",
   "execution_count": 12,
   "metadata": {},
   "outputs": [
    {
     "data": {
      "image/png": "[encoded data removed]",
      "text/plain": [
       "<Figure size 432x288 with 1 Axes>"
      ]
     },
     "metadata": {
      "needs_background": "light"
     },
     "output_type": "display_data"
    }
   ],
   "source": [
    "plt.plot(q_vals,opt_prob,'.')\n",
    "plt.show()"
   ]
  },
  {
   "cell_type": "markdown",
   "metadata": {},
   "source": [
    "Interestingly, different values of $q$ can give significantly different results, even though the optimisation procedure converges. "
   ]
  },
  {
   "cell_type": "code",
   "execution_count": 11,
   "metadata": {},
   "outputs": [],
   "source": [
    "def state_prob_fourier_perturb(p,q,R):\n",
    "    \n",
    "    fourier_params = FourierParams.linear_ramp_from_hamiltonian(ham,p,q)\n",
    "    cost = QAOACostFunctionOnWFSim(ham,fourier_params)\n",
    "    res = minimize(cost, fourier_params.raw(), method = 'Cobyla', options={\"maxiter\" : 500*p})\n",
    "    \n",
    "    prob_opt_state = []\n",
    "    for i in range(R):\n",
    "    \n",
    "        perturb_params = res.x + i*np.random.rand(len(res.x))\n",
    "        state = cost.get_wavefunction(perturb_params)\n",
    "        probs = state.probabilities()   \n",
    "        prob_opt_state.append(probs[9]) # The bitstring 1001 is the 9th entry of the vector of probabilities\n",
    "    \n",
    "    return max(prob_opt_state)"
   ]
  },
  {
   "cell_type": "code",
   "execution_count": 14,
   "metadata": {},
   "outputs": [],
   "source": [
    "R = 20\n",
    "q_vals = np.arange(1,5)\n",
    "opt_prob = [state_prob_fourier_perturb(10,q,R) for q in q_vals]"
   ]
  },
  {
   "cell_type": "code",
   "execution_count": 15,
   "metadata": {},
   "outputs": [
    {
     "data": {
      "image/png": "[encoded data removed]",
      "text/plain": [
       "<Figure size 432x288 with 1 Axes>"
      ]
     },
     "metadata": {
      "needs_background": "light"
     },
     "output_type": "display_data"
    }
   ],
   "source": [
    "plt.plot(q_vals,opt_prob,'.')\n",
    "plt.show()"
   ]
  },
  {
   "cell_type": "code",
   "execution_count": 17,
   "metadata": {},
   "outputs": [
    {
     "data": {
      "text/plain": [
       "array([0.29316159, 0.00997137, 0.21293014, 0.01477254])"
      ]
     },
     "execution_count": 17,
     "metadata": {},
     "output_type": "execute_result"
    }
   ],
   "source": [
    "fourier_params = FourierParams.linear_ramp_from_hamiltonian(ham,10,2)\n",
    "cost = QAOACostFunctionOnWFSim(ham,fourier_params)\n",
    "res = minimize(cost, fourier_params.raw(), method = 'Cobyla', options={\"maxiter\" : 500*10})\n",
    "res.x"
   ]
  },
  {
   "cell_type": "code",
   "execution_count": 18,
   "metadata": {},
   "outputs": [
    {
     "data": {
      "text/plain": [
       "array([-0.28484122, -0.20314005])"
      ]
     },
     "execution_count": 18,
     "metadata": {},
     "output_type": "execute_result"
    }
   ],
   "source": [
    "fourier_params = FourierParams.linear_ramp_from_hamiltonian(ham,10,1)\n",
    "cost = QAOACostFunctionOnWFSim(ham,fourier_params)\n",
    "res = minimize(cost, fourier_params.raw(), method = 'Cobyla', options={\"maxiter\" : 500*10})\n",
    "res.x"
   ]
  },
  {
   "cell_type": "code",
   "execution_count": 19,
   "metadata": {},
   "outputs": [
    {
     "data": {
      "text/plain": [
       "array([ 0.30912172, -0.32921358, -0.19571799,  0.07911352, -0.2884658 ,\n",
       "       -0.18004924])"
      ]
     },
     "execution_count": 19,
     "metadata": {},
     "output_type": "execute_result"
    }
   ],
   "source": [
    "fourier_params = FourierParams.linear_ramp_from_hamiltonian(ham,10,3)\n",
    "cost = QAOACostFunctionOnWFSim(ham,fourier_params)\n",
    "res = minimize(cost, fourier_params.raw(), method = 'Cobyla', options={\"maxiter\" : 500*10})\n",
    "res.x"
   ]
  },
  {
   "cell_type": "code",
   "execution_count": 21,
   "metadata": {},
   "outputs": [],
   "source": [
    "def compare_fourier_states(p,q):\n",
    "    \n",
    "    fourier_params = FourierParams.linear_ramp_from_hamiltonian(ham,p,q)\n",
    "    cost = QAOACostFunctionOnWFSim(ham,fourier_params)\n",
    "    direct_cost = cost(fourier_params.raw())\n",
    "    res = minimize(cost, fourier_params.raw(), method = 'Cobyla', options={\"maxiter\" : 500*p})\n",
    "    state = cost.get_wavefunction(res.x)\n",
    "\n",
    "    return direct_cost, state"
   ]
  },
  {
   "cell_type": "code",
   "execution_count": 22,
   "metadata": {},
   "outputs": [],
   "source": [
    "cost1, state1 = compare_fourier_states(10,1)"
   ]
  },
  {
   "cell_type": "code",
   "execution_count": 23,
   "metadata": {},
   "outputs": [],
   "source": [
    "cost2, state2 = compare_fourier_states(10,2)"
   ]
  },
  {
   "cell_type": "code",
   "execution_count": 24,
   "metadata": {},
   "outputs": [],
   "source": [
    "cost3, state3 = compare_fourier_states(10,3)"
   ]
  },
  {
   "cell_type": "code",
   "execution_count": 25,
   "metadata": {},
   "outputs": [],
   "source": [
    "cost4, state4 = compare_fourier_states(10,4)"
   ]
  },
  {
   "cell_type": "code",
   "execution_count": 26,
   "metadata": {},
   "outputs": [
    {
     "name": "stdout",
     "output_type": "stream",
     "text": [
      "[-5.250643976172608, -5.250643976172608, -5.250643976172608, -5.250643976172608]\n"
     ]
    }
   ],
   "source": [
    "print([cost1, cost2, cost3, cost4])"
   ]
  },
  {
   "cell_type": "code",
   "execution_count": 32,
   "metadata": {},
   "outputs": [
    {
     "data": {
      "text/plain": [
       "(1.0000000000000009+0j)"
      ]
     },
     "execution_count": 32,
     "metadata": {},
     "output_type": "execute_result"
    }
   ],
   "source": [
    "ovlap12 = np.vdot(state1.amplitudes, state2.amplitudes)\n",
    "ovlap12"
   ]
  },
  {
   "cell_type": "code",
   "execution_count": 33,
   "metadata": {},
   "outputs": [
    {
     "data": {
      "text/plain": [
       "(1.0000000000000009+0j)"
      ]
     },
     "execution_count": 33,
     "metadata": {},
     "output_type": "execute_result"
    }
   ],
   "source": [
    "ovlap13 = np.vdot(state1.amplitudes, state3.amplitudes)\n",
    "ovlap13"
   ]
  },
  {
   "cell_type": "code",
   "execution_count": 85,
   "metadata": {},
   "outputs": [],
   "source": [
    "def state_prob_fourier(p,q):\n",
    "    \n",
    "    fourier_params = FourierParams.linear_ramp_from_hamiltonian(ham,p,q)\n",
    "    print(fourier_params)\n",
    "    print(\"\")\n",
    "    cost = QAOACostFunctionOnWFSim(ham,fourier_params)\n",
    "    cost_direct = cost(fourier_params.raw())\n",
    "    res = minimize(cost, fourier_params.raw(), method = 'Cobyla', options={\"maxiter\" : 500*p})\n",
    "    print(res.x)\n",
    "    print(\"\")\n",
    "    state = cost.get_wavefunction(res.x)\n",
    "    print(state.amplitudes)\n",
    "    print(\"\")\n",
    "    probs = state.probabilities()\n",
    "    print(probs[9])"
   ]
  },
  {
   "cell_type": "code",
   "execution_count": 86,
   "metadata": {},
   "outputs": [
    {
     "name": "stdout",
     "output_type": "stream",
     "text": [
      "Hyperparameters:\n",
      "\tregister: [1, 2, 3, 4]\n",
      "\tqubits_singles[1, 3, 4]\n",
      "\tqubits_pairs[[1, 2], [1, 3], [2, 3], [3, 4]]\n",
      "Parameters:\n",
      "\tv: [0.35]\n",
      "\tu: [0.35]\n",
      "\n",
      "\n",
      "[-0.28484122 -0.20314005]\n",
      "\n",
      "[ 0.00542871-0.00244502j  0.01151643-0.01574343j  0.01075178-0.00739744j\n",
      "  0.02395431-0.00287423j -0.03341247-0.08675848j -0.00311101+0.01844464j\n",
      " -0.15111139-0.18603979j -0.02967582+0.01570758j -0.00154285-0.01344018j\n",
      "  0.74187167-0.522958j    0.01460868+0.05626045j  0.30946172+0.06145817j\n",
      " -0.01666545+0.01513348j -0.0407002 -0.01814528j -0.01535522+0.00668231j\n",
      " -0.0209098 +0.03303586j]\n",
      "\n",
      "0.8238586518628618\n"
     ]
    }
   ],
   "source": [
    "state_prob_fourier(10,1)"
   ]
  },
  {
   "cell_type": "code",
   "execution_count": 87,
   "metadata": {},
   "outputs": [
    {
     "name": "stdout",
     "output_type": "stream",
     "text": [
      "Hyperparameters:\n",
      "\tregister: [1, 2, 3, 4]\n",
      "\tqubits_singles[1, 3, 4]\n",
      "\tqubits_pairs[[1, 2], [1, 3], [2, 3], [3, 4]]\n",
      "Parameters:\n",
      "\tv: [0.35 0.  ]\n",
      "\tu: [0.35 0.  ]\n",
      "\n",
      "\n",
      "[0.29316159 0.00997137 0.21293014 0.01477254]\n",
      "\n",
      "[-0.00252938-0.00931557j  0.01062624+0.00533401j  0.0079307 -0.01591686j\n",
      "  0.00673219-0.02163814j  0.03010835+0.07924197j -0.01836393-0.00177901j\n",
      "  0.01250499+0.22412031j -0.01376186+0.03497458j  0.00184552+0.02221852j\n",
      "  0.89591101+0.2257123j   0.0082895 -0.04074264j  0.2592198 -0.11718394j\n",
      " -0.02493997+0.0213085j   0.00204576+0.02091686j -0.01950712+0.01484122j\n",
      "  0.02445215-0.01178232j]\n",
      "\n",
      "0.8536025811314355\n"
     ]
    }
   ],
   "source": [
    "state_prob_fourier(10,2)"
   ]
  },
  {
   "cell_type": "code",
   "execution_count": 88,
   "metadata": {},
   "outputs": [
    {
     "name": "stdout",
     "output_type": "stream",
     "text": [
      "Hyperparameters:\n",
      "\tregister: [1, 2, 3, 4]\n",
      "\tqubits_singles[1, 3, 4]\n",
      "\tqubits_pairs[[1, 2], [1, 3], [2, 3], [3, 4]]\n",
      "Parameters:\n",
      "\tv: [0.35 0.   0.  ]\n",
      "\tu: [0.35 0.   0.  ]\n",
      "\n",
      "\n",
      "[ 0.30912172 -0.32921358 -0.19571799  0.07911352 -0.2884658  -0.18004924]\n",
      "\n",
      "[ 0.07270281-0.0635645j  -0.08601005+0.27822385j  0.02431328+0.18002524j\n",
      " -0.15049697+0.05269162j -0.14632579+0.09075276j -0.15866262-0.08149817j\n",
      "  0.0950033 +0.04393202j -0.10086752+0.16274806j  0.22458002+0.09468539j\n",
      " -0.25216903-0.44708904j -0.0205028 +0.10467586j -0.59795335+0.03411181j\n",
      "  0.11815936+0.04006375j -0.11792246+0.07992462j -0.0433709 +0.00861815j\n",
      " -0.08329487+0.02528712j]\n",
      "\n",
      "0.2634778282357807\n"
     ]
    }
   ],
   "source": [
    "state_prob_fourier(10,3)"
   ]
  },
  {
   "cell_type": "code",
   "execution_count": null,
   "metadata": {},
   "outputs": [],
   "source": []
  }
 ],
 "metadata": {
  "kernelspec": {
   "display_name": "Python 3",
   "language": "python",
   "name": "python3"
  },
  "language_info": {
   "codemirror_mode": {
    "name": "ipython",
    "version": 3
   },
   "file_extension": ".py",
   "mimetype": "text/x-python",
   "name": "python",
   "nbconvert_exporter": "python",
   "pygments_lexer": "ipython3",
   "version": "3.7.3"
  }
 },
 "nbformat": 4,
 "nbformat_minor": 2
}
