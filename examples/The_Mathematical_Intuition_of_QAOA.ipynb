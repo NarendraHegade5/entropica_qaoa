{
 "cells": [
  {
   "cell_type": "markdown",
   "metadata": {},
   "source": [
    "# The Mathematical Intuition of QAOA\n",
    "**Author: Cooper Midroni**\n",
    "<br>\n",
    "cooper@entropicalabs.com\n",
    "\n"
   ]
  },
  {
   "cell_type": "markdown",
   "metadata": {},
   "source": [
    "1. The Clasical Ising Model \n",
    "2. Constructing Hamiltonians\n",
    "3. Quantum Annealing\n",
    "4. Cost & Mixer Hamiltonians\n",
    "5. Understanding Angle Rotations\n",
    "6. QAOA Examples\n",
    "7. Conclusions"
   ]
  },
  {
   "cell_type": "markdown",
   "metadata": {},
   "source": [
    "## Understanding QAOA\n",
    "With an understanding of the MAXCUT structure which produces our clustered output, we ask ourselves how we can turn this graph problem into an optimization problem. To move forward, we take inspiration from statistical mechanics and model this problem through the lens of interacting spin systems. The explanation below will explain how the distance matrix above can be mapped into an [Ising Model](https://en.wikipedia.org/wiki/Ising_model), for those familiar, feel free to skip ahead.\n",
    "\n",
    "***\n",
    "###  An Ising Model Interpretation\n",
    "In our terminology, a spin system is any two state system. Imagine a system composed of two dipole magnets. Let's consider a magnet to be *spin up* when its North face is raised, and *spin down* when its South face is raised. Because of the magnetic interactions between the poles of each magnet, we know that the two magnets want to anti-align.\n",
    "\n",
    "<center><img src=\"imgs/magnets.png\" style=\"height:200px\"></center>\n",
    "<center><i> Fig 2. A two body spin system of dipole magnets.</i></center>\n",
    "\n",
    "We can consider this arrangement to be the *lowest energy state* of this simple two-body spin system. This system can be mathematically encoded, in the following manner:\n",
    "\n",
    "<center>$\\begin{cases} \n",
    "      spin \\uparrow = +1\n",
    "      \\\\\n",
    "      spin \\downarrow = -1\n",
    "   \\end{cases}\n",
    "$</center>\n",
    "\n",
    "Let $\\sigma_{i}$ represent the spin state of magnet $i$. In this way, the energy of our system is represented by: <br><br>\n",
    "\n",
    "<center>$Energy = \\sigma_{1}\\cdot\\sigma_{2}$</center> \n",
    "\n",
    "We can see that in this arrangement, the lowest energy state corresponds to a value of $-1$. Were we to introduce another magnet to the system, we would then have to capture the relationships between all three bodies. <br><br>\n",
    "\n",
    "<center> $\\sum_{\\langle i j\\rangle}^{n=3} \\sigma_{i} \\sigma_{j} = \\sigma_{1}\\cdot\\sigma_{2} + \n",
    "\\sigma_{2}\\cdot\\sigma_{3} + \\sigma_{1}\\cdot\\sigma_{3}$</center>\n",
    "\n",
    "Much like we did in the MAXCUT configuration, we can introduce the notion of distances as an analogy to the *interaction strength* between bodies in our system. Magnets which are closer together have a greater influence on one another. Let the interaction strength between any two magnets in this system be $J_{i,j}$, evolving our model to the following form: <br><br>\n",
    "<center> $\\sum_{\\langle i j\\rangle} J_{i j} \\sigma_{i}\\sigma_{j}$ </center>\n",
    "\n",
    "Finally, we introduce *biases* that can be applied on single magnets in our system to influence their state. A strong bias number will guarantee that one of our magnets is flipped to the spin $\\uparrow$ or spin $\\downarrow$ state. Let $\\mu_{i}$ be the bias that is applied to magnet $i$. This brings us to the final state of our Classical Ising Model:<br><br>\n",
    "\n",
    "\n",
    "<center> $H(\\sigma)=-\\sum_{\\langle i j\\rangle} J_{i j} \\sigma_{i} \\sigma_{j}-\\mu \\sum_{j} h_{j} \\sigma_{j}$ </center>\n",
    "\n",
    "By convention, we place a negative sign on this equation. The symbol $H$ stands for *Hamiltonian*, which, in quantum mechanics, is an operator which acts as a sum of the energies of the system.\n",
    "***\n",
    "## Create the Hamiltonian\n",
    "To make a Hamiltonian that is recognizable by pyQuil, we must use the pyQuil `PauliTerm` object."
   ]
  },
  {
   "cell_type": "code",
   "execution_count": null,
   "metadata": {},
   "outputs": [],
   "source": [
    "from pyquil.api import WavefunctionSimulator\n",
    "from pyquil.paulis import PauliSum, PauliTerm"
   ]
  },
  {
   "cell_type": "markdown",
   "metadata": {},
   "source": [
    "To get a feel for our process, let's make a simple Hamiltonian for our three magnet system above.\n",
    "\n",
    "In `PauliTerm`, the first argument is the operator type, the second is the qubit, and the third is the interaction strength."
   ]
  },
  {
   "cell_type": "code",
   "execution_count": null,
   "metadata": {},
   "outputs": [],
   "source": [
    "term1 = PauliTerm(\"Z\",0,1)*PauliTerm(\"Z\",1,1)\n",
    "term2 = PauliTerm(\"Z\",1,1)*PauliTerm(\"Z\",2,1)\n",
    "term3 = PauliTerm(\"Z\",0,1)*PauliTerm(\"Z\",2,1)\n",
    "hamiltonian = PauliSum([term1, term2, term3])"
   ]
  },
  {
   "cell_type": "markdown",
   "metadata": {},
   "source": [
    "Play around with the numbers in the above cell and see how it influences the resulting Hamiltonian."
   ]
  },
  {
   "cell_type": "code",
   "execution_count": 1,
   "metadata": {},
   "outputs": [
    {
     "ename": "NameError",
     "evalue": "name 'hamiltonian' is not defined",
     "output_type": "error",
     "traceback": [
      "\u001b[0;31m---------------------------------------------------------------------------\u001b[0m",
      "\u001b[0;31mNameError\u001b[0m                                 Traceback (most recent call last)",
      "\u001b[0;32m<ipython-input-1-b17ca87b11ee>\u001b[0m in \u001b[0;36m<module>\u001b[0;34m\u001b[0m\n\u001b[0;32m----> 1\u001b[0;31m \u001b[0mprint\u001b[0m\u001b[0;34m(\u001b[0m\u001b[0mhamiltonian\u001b[0m\u001b[0;34m)\u001b[0m\u001b[0;34m\u001b[0m\u001b[0;34m\u001b[0m\u001b[0m\n\u001b[0m",
      "\u001b[0;31mNameError\u001b[0m: name 'hamiltonian' is not defined"
     ]
    }
   ],
   "source": [
    "print(hamiltonian)"
   ]
  },
  {
   "cell_type": "markdown",
   "metadata": {},
   "source": [
    "By including single `PauliTerm`s in our `PauliSum`, we can include the effect of biases."
   ]
  },
  {
   "cell_type": "code",
   "execution_count": null,
   "metadata": {},
   "outputs": [],
   "source": [
    "term4 = PauliTerm(\"Z\",0,25)\n",
    "term5 = PauliTerm(\"Z\",2,25)\n",
    "hamiltonian = PauliSum([term1, term2, term3,\n",
    "                        term4, term5])\n",
    "print(hamiltonian)"
   ]
  },
  {
   "cell_type": "markdown",
   "metadata": {},
   "source": [
    "We can see now that to make the Hamiltonian for our system we must iterate over each distance in our distance matrix, and assign it within a `PauliTerm` as the interaction strength between the appropriate qubits."
   ]
  },
  {
   "cell_type": "markdown",
   "metadata": {},
   "source": [
    "## From Hamiltonian To Clusters\n",
    "<br>\n",
    "<br>\n",
    "<center><img src=\"imgs/spins.png\"style=\"width:200px\"></center>\n",
    "<center><i> A depiction of the maxcut problem, displaying a cut which separates white and black vertices.</i></center>\n",
    "<br>\n",
    "<br>  \n",
    "\n",
    "\n",
    "\n",
    "It is possible to take inspiration from stati\n",
    "\n",
    "'optimize' such a problem to result in the best possible cut. "
   ]
  },
  {
   "cell_type": "code",
   "execution_count": null,
   "metadata": {},
   "outputs": [],
   "source": []
  }
 ],
 "metadata": {
  "kernelspec": {
   "display_name": "Python 3",
   "language": "python",
   "name": "python3"
  },
  "language_info": {
   "codemirror_mode": {
    "name": "ipython",
    "version": 3
   },
   "file_extension": ".py",
   "mimetype": "text/x-python",
   "name": "python",
   "nbconvert_exporter": "python",
   "pygments_lexer": "ipython3",
   "version": "3.7.3"
  }
 },
 "nbformat": 4,
 "nbformat_minor": 2
}
