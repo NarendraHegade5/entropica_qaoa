{
 "cells": [
  {
   "cell_type": "code",
   "execution_count": 1,
   "metadata": {},
   "outputs": [],
   "source": [
    "# import the standard modules from python\n",
    "import numpy as np\n",
    "import matplotlib.pyplot as plt\n",
    "from typing import Type, Iterable\n",
    "\n",
    "# import the neccesary pyquil modules\n",
    "from pyquil.paulis import PauliSum, PauliTerm\n",
    "\n",
    "# import the QAOAParameters that we want to demo\n",
    "from qaoa.parameters import AdiabaticTimestepsQAOAParameters, AlternatingOperatorsQAOAParameters, AbstractQAOAParameters, GeneralQAOAParameters, QAOAParameterIterator"
   ]
  },
  {
   "cell_type": "code",
   "execution_count": 2,
   "metadata": {},
   "outputs": [
    {
     "name": "stdout",
     "output_type": "stream",
     "text": [
      "hamiltonian = (0.7+0j)*Z0*Z1 + (1.2+0j)*Z0*Z2 + (-0.5+0j)*Z0\n"
     ]
    }
   ],
   "source": [
    "# create a hamiltonian on 3 qubits with 2 coupling terms and 1 bias term\n",
    "hamiltonian = PauliSum.from_compact_str(\"0.7*Z0*Z1 + 1.2*Z0*Z2 + (-0.5)*Z0\")\n",
    "print(\"hamiltonian =\", hamiltonian)"
   ]
  },
  {
   "cell_type": "code",
   "execution_count": 3,
   "metadata": {},
   "outputs": [
    {
     "name": "stdout",
     "output_type": "stream",
     "text": [
      "Constant Parameters:\n",
      "\tregister: [0, 1, 2]\n",
      "\tqubits_singles: [0]\n",
      "\tqubits_pairs: [[0, 1], [0, 2]]\n",
      "Variable Parameters:\n",
      "\t_betas: [0.25, 0.5, 1.0]\n",
      "\t_gammas_singles: [1.0, 0.5, 0.3]\n",
      "\t_gammas_pairs: [1.0, 0.5, 0.3]\n",
      "\n"
     ]
    }
   ],
   "source": [
    "# the constant parameters\n",
    "reg = [0, 1, 2]       # The register of _all_ qubits in the hamiltonian\n",
    "                      # (or all the qubits, the X-rotations should act on) \n",
    "qubits_singles = [0]              # list of qubits with bias terms\n",
    "qubits_pairs   = [[0, 1], [0, 2]] # list of qubit_pairs of coupled qubits\n",
    "ntimesteps     = 3                # the number of timesteps\n",
    "\n",
    "# put them into a nice tuple\n",
    "constant_parameters = (reg, qubits_singles, qubits_pairs, ntimesteps, hamiltonian)\n",
    "\n",
    "\n",
    "# the variable parameters --- in this case the timesteps\n",
    "betas = [0.25, 0.5, 1.0]\n",
    "gammas_singles = [1.0, 0.5, 0.3]\n",
    "gammas_pairs = [1.0, 0.5, 0.3]\n",
    "# and make them a tuple. Seems superflous in this case, but other\n",
    "# parametrizations have more than one variable parameter.\n",
    "variable_parameters = (betas, gammas_singles, gammas_pairs)\n",
    "manual_params = AlternatingOperatorsQAOAParameters(constant_parameters,\n",
    "                                                 variable_parameters)\n",
    "print(manual_params)"
   ]
  },
  {
   "cell_type": "code",
   "execution_count": 4,
   "metadata": {},
   "outputs": [
    {
     "name": "stdout",
     "output_type": "stream",
     "text": [
      "Constant Parameters:\n",
      "\tregister: [0, 1, 2]\n",
      "\tqubits_singles: [0]\n",
      "\tqubits_pairs: [[0, 1], [0, 2]]\n",
      "Variable Parameters:\n",
      "\t_betas: [0.375, 0.125]\n",
      "\t_gammas_singles: [0.125, 0.375]\n",
      "\t_gammas_pairs: [0.125, 0.375]\n",
      "\n"
     ]
    }
   ],
   "source": [
    "timesteps = 2       # equivalent to p in Farhis original paper\n",
    "time = 1            # total time of the annelaing schedule\n",
    "params = AlternatingOperatorsQAOAParameters.from_hamiltonian(hamiltonian,\n",
    "                                                             timesteps,\n",
    "                                                             time = time) \n",
    "print(params)"
   ]
  },
  {
   "cell_type": "code",
   "execution_count": 5,
   "metadata": {},
   "outputs": [
    {
     "data": {
      "text/plain": [
       "[[0, 1], [0, 2]]"
      ]
     },
     "execution_count": 5,
     "metadata": {},
     "output_type": "execute_result"
    }
   ],
   "source": [
    "params.qubits_pairs"
   ]
  },
  {
   "cell_type": "code",
   "execution_count": null,
   "metadata": {},
   "outputs": [],
   "source": []
  }
 ],
 "metadata": {
  "kernelspec": {
   "display_name": "Python 3",
   "language": "python",
   "name": "python3"
  },
  "language_info": {
   "codemirror_mode": {
    "name": "ipython",
    "version": 3
   },
   "file_extension": ".py",
   "mimetype": "text/x-python",
   "name": "python",
   "nbconvert_exporter": "python",
   "pygments_lexer": "ipython3",
   "version": "3.7.3"
  }
 },
 "nbformat": 4,
 "nbformat_minor": 2
}
