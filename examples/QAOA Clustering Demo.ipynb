{
 "cells": [
  {
   "cell_type": "markdown",
   "metadata": {},
   "source": [
    "# QAOA Implementation Demo\n",
    "**Author: Cooper Midroni**\n",
    "<br>\n",
    "cooper@entropicalabs.com\n",
    "\n",
    "In this notebook we demonstrate a start-to-finish project workflow for using QAOA to cluster a dataset. Before diving into the code, we will build some intuition for how we can turn any dataset into a format that is agreeable with QAOA's clustering-specific paradigm. \n",
    "\n",
    "## Understanding Maxcut\n",
    "\n",
    "As laid out by [Rigetti's paper on QAOA](https://arxiv.org/pdf/1712.05771.pdf), there are a number of important steps that we must follow to map the problem of clustering into a format which QAOA can process. Broadly speaking, QAOA solves the **MAXCUT** problem, in which a graph of $n$ vertices is separated into two complementary subsets, $S$ and $S^{c}$, such that the number of edges between $S$ and $S^{c}$ is as large as possible.\n",
    "<br>\n",
    "<br>\n",
    "<center><img src=\"imgs/maxcut.png\"></center>\n",
    "<center><i> A depiction of the maxcut problem, displaying a cut which separates white and black vertices.</i></center>\n",
    "<br>\n",
    "<br>    \n",
    "This problem can be made more sophisticated by adding numerical values as <i>weights</i> to the edges, such that the best solution maximizes the sum of weights which separate $S$ and $S^{c}$. This is precisely the approach we take in using maxcut to cluster our data. \n",
    "\n",
    "We allow the weights associated to each edge to be some notion of distance between points. In this way, the sets dictated by our optimal cut, $S$ and $S^{c}$, separate the data into binary clusters.\n",
    "\n",
    "From our current understanding, we can already begin to formulate some first steps in preparing our data. \n",
    "\n",
    "### Import Libraries"
   ]
  },
  {
   "cell_type": "code",
   "execution_count": 1,
   "metadata": {},
   "outputs": [],
   "source": [
    "import pandas as pd\n",
    "import numpy as np\n",
    "import matplotlib.pyplot as plt"
   ]
  },
  {
   "cell_type": "markdown",
   "metadata": {},
   "source": [
    "### Import Data\n",
    "The dataset we will use is the **Pokemon dataset**, which can be found on [Github](https://gist.github.com/armgilles/194bcff35001e7eb53a2a8b441e8b2c6).\n",
    "\n",
    "We will first walk through a highly manicured example, in which we attempt to cluster Pokemon into Legendary and non-Legendary classes. In doing so, we will choose samples from each class in equal proportion."
   ]
  },
  {
   "cell_type": "code",
   "execution_count": 2,
   "metadata": {},
   "outputs": [
    {
     "data": {
      "text/html": [
       "<div>\n",
       "<style scoped>\n",
       "    .dataframe tbody tr th:only-of-type {\n",
       "        vertical-align: middle;\n",
       "    }\n",
       "\n",
       "    .dataframe tbody tr th {\n",
       "        vertical-align: top;\n",
       "    }\n",
       "\n",
       "    .dataframe thead th {\n",
       "        text-align: right;\n",
       "    }\n",
       "</style>\n",
       "<table border=\"1\" class=\"dataframe\">\n",
       "  <thead>\n",
       "    <tr style=\"text-align: right;\">\n",
       "      <th></th>\n",
       "      <th>Name</th>\n",
       "      <th>Type 1</th>\n",
       "      <th>Type 2</th>\n",
       "      <th>Total</th>\n",
       "      <th>HP</th>\n",
       "      <th>Attack</th>\n",
       "      <th>Defense</th>\n",
       "      <th>Sp. Atk</th>\n",
       "      <th>Sp. Def</th>\n",
       "      <th>Speed</th>\n",
       "      <th>Generation</th>\n",
       "      <th>Legendary</th>\n",
       "    </tr>\n",
       "    <tr>\n",
       "      <th>ID</th>\n",
       "      <th></th>\n",
       "      <th></th>\n",
       "      <th></th>\n",
       "      <th></th>\n",
       "      <th></th>\n",
       "      <th></th>\n",
       "      <th></th>\n",
       "      <th></th>\n",
       "      <th></th>\n",
       "      <th></th>\n",
       "      <th></th>\n",
       "      <th></th>\n",
       "    </tr>\n",
       "  </thead>\n",
       "  <tbody>\n",
       "    <tr>\n",
       "      <th>1</th>\n",
       "      <td>Bulbasaur</td>\n",
       "      <td>Grass</td>\n",
       "      <td>Poison</td>\n",
       "      <td>318</td>\n",
       "      <td>45</td>\n",
       "      <td>49</td>\n",
       "      <td>49</td>\n",
       "      <td>65</td>\n",
       "      <td>65</td>\n",
       "      <td>45</td>\n",
       "      <td>1</td>\n",
       "      <td>False</td>\n",
       "    </tr>\n",
       "    <tr>\n",
       "      <th>2</th>\n",
       "      <td>Ivysaur</td>\n",
       "      <td>Grass</td>\n",
       "      <td>Poison</td>\n",
       "      <td>405</td>\n",
       "      <td>60</td>\n",
       "      <td>62</td>\n",
       "      <td>63</td>\n",
       "      <td>80</td>\n",
       "      <td>80</td>\n",
       "      <td>60</td>\n",
       "      <td>1</td>\n",
       "      <td>False</td>\n",
       "    </tr>\n",
       "    <tr>\n",
       "      <th>3</th>\n",
       "      <td>Venusaur</td>\n",
       "      <td>Grass</td>\n",
       "      <td>Poison</td>\n",
       "      <td>525</td>\n",
       "      <td>80</td>\n",
       "      <td>82</td>\n",
       "      <td>83</td>\n",
       "      <td>100</td>\n",
       "      <td>100</td>\n",
       "      <td>80</td>\n",
       "      <td>1</td>\n",
       "      <td>False</td>\n",
       "    </tr>\n",
       "    <tr>\n",
       "      <th>4</th>\n",
       "      <td>Charmander</td>\n",
       "      <td>Fire</td>\n",
       "      <td>NaN</td>\n",
       "      <td>309</td>\n",
       "      <td>39</td>\n",
       "      <td>52</td>\n",
       "      <td>43</td>\n",
       "      <td>60</td>\n",
       "      <td>50</td>\n",
       "      <td>65</td>\n",
       "      <td>1</td>\n",
       "      <td>False</td>\n",
       "    </tr>\n",
       "    <tr>\n",
       "      <th>5</th>\n",
       "      <td>Charmeleon</td>\n",
       "      <td>Fire</td>\n",
       "      <td>NaN</td>\n",
       "      <td>405</td>\n",
       "      <td>58</td>\n",
       "      <td>64</td>\n",
       "      <td>58</td>\n",
       "      <td>80</td>\n",
       "      <td>65</td>\n",
       "      <td>80</td>\n",
       "      <td>1</td>\n",
       "      <td>False</td>\n",
       "    </tr>\n",
       "  </tbody>\n",
       "</table>\n",
       "</div>"
      ],
      "text/plain": [
       "          Name Type 1  Type 2  Total  HP  Attack  Defense  Sp. Atk  Sp. Def  \\\n",
       "ID                                                                            \n",
       "1    Bulbasaur  Grass  Poison    318  45      49       49       65       65   \n",
       "2      Ivysaur  Grass  Poison    405  60      62       63       80       80   \n",
       "3     Venusaur  Grass  Poison    525  80      82       83      100      100   \n",
       "4   Charmander   Fire     NaN    309  39      52       43       60       50   \n",
       "5   Charmeleon   Fire     NaN    405  58      64       58       80       65   \n",
       "\n",
       "    Speed  Generation  Legendary  \n",
       "ID                                \n",
       "1      45           1      False  \n",
       "2      60           1      False  \n",
       "3      80           1      False  \n",
       "4      65           1      False  \n",
       "5      80           1      False  "
      ]
     },
     "execution_count": 2,
     "metadata": {},
     "output_type": "execute_result"
    }
   ],
   "source": [
    "df = pd.read_csv('./data/pokemon.csv')\n",
    "df = df.set_index('#') \n",
    "df = df.rename_axis('ID') #reindex to the Pokemon's ID\n",
    "df = df.loc[~df.index.duplicated(keep='first')] #drop duplicates\n",
    "df.head()"
   ]
  },
  {
   "cell_type": "markdown",
   "metadata": {},
   "source": [
    "To avoid too many bells and whistles, we'll stick to our roots and only consider Pokemon from the first three generations."
   ]
  },
  {
   "cell_type": "code",
   "execution_count": 3,
   "metadata": {},
   "outputs": [
    {
     "data": {
      "text/html": [
       "<div>\n",
       "<style scoped>\n",
       "    .dataframe tbody tr th:only-of-type {\n",
       "        vertical-align: middle;\n",
       "    }\n",
       "\n",
       "    .dataframe tbody tr th {\n",
       "        vertical-align: top;\n",
       "    }\n",
       "\n",
       "    .dataframe thead th {\n",
       "        text-align: right;\n",
       "    }\n",
       "</style>\n",
       "<table border=\"1\" class=\"dataframe\">\n",
       "  <thead>\n",
       "    <tr style=\"text-align: right;\">\n",
       "      <th></th>\n",
       "      <th>Name</th>\n",
       "      <th>Type 1</th>\n",
       "      <th>Type 2</th>\n",
       "      <th>Total</th>\n",
       "      <th>HP</th>\n",
       "      <th>Attack</th>\n",
       "      <th>Defense</th>\n",
       "      <th>Sp. Atk</th>\n",
       "      <th>Sp. Def</th>\n",
       "      <th>Speed</th>\n",
       "      <th>Generation</th>\n",
       "      <th>Legendary</th>\n",
       "    </tr>\n",
       "    <tr>\n",
       "      <th>ID</th>\n",
       "      <th></th>\n",
       "      <th></th>\n",
       "      <th></th>\n",
       "      <th></th>\n",
       "      <th></th>\n",
       "      <th></th>\n",
       "      <th></th>\n",
       "      <th></th>\n",
       "      <th></th>\n",
       "      <th></th>\n",
       "      <th></th>\n",
       "      <th></th>\n",
       "    </tr>\n",
       "  </thead>\n",
       "  <tbody>\n",
       "    <tr>\n",
       "      <th>118</th>\n",
       "      <td>Goldeen</td>\n",
       "      <td>Water</td>\n",
       "      <td>NaN</td>\n",
       "      <td>320</td>\n",
       "      <td>45</td>\n",
       "      <td>67</td>\n",
       "      <td>60</td>\n",
       "      <td>35</td>\n",
       "      <td>50</td>\n",
       "      <td>63</td>\n",
       "      <td>1</td>\n",
       "      <td>False</td>\n",
       "    </tr>\n",
       "    <tr>\n",
       "      <th>187</th>\n",
       "      <td>Hoppip</td>\n",
       "      <td>Grass</td>\n",
       "      <td>Flying</td>\n",
       "      <td>250</td>\n",
       "      <td>35</td>\n",
       "      <td>35</td>\n",
       "      <td>40</td>\n",
       "      <td>35</td>\n",
       "      <td>55</td>\n",
       "      <td>50</td>\n",
       "      <td>2</td>\n",
       "      <td>False</td>\n",
       "    </tr>\n",
       "    <tr>\n",
       "      <th>256</th>\n",
       "      <td>Combusken</td>\n",
       "      <td>Fire</td>\n",
       "      <td>Fighting</td>\n",
       "      <td>405</td>\n",
       "      <td>60</td>\n",
       "      <td>85</td>\n",
       "      <td>60</td>\n",
       "      <td>85</td>\n",
       "      <td>60</td>\n",
       "      <td>55</td>\n",
       "      <td>3</td>\n",
       "      <td>False</td>\n",
       "    </tr>\n",
       "    <tr>\n",
       "      <th>276</th>\n",
       "      <td>Taillow</td>\n",
       "      <td>Normal</td>\n",
       "      <td>Flying</td>\n",
       "      <td>270</td>\n",
       "      <td>40</td>\n",
       "      <td>55</td>\n",
       "      <td>30</td>\n",
       "      <td>30</td>\n",
       "      <td>30</td>\n",
       "      <td>85</td>\n",
       "      <td>3</td>\n",
       "      <td>False</td>\n",
       "    </tr>\n",
       "    <tr>\n",
       "      <th>58</th>\n",
       "      <td>Growlithe</td>\n",
       "      <td>Fire</td>\n",
       "      <td>NaN</td>\n",
       "      <td>350</td>\n",
       "      <td>55</td>\n",
       "      <td>70</td>\n",
       "      <td>45</td>\n",
       "      <td>70</td>\n",
       "      <td>50</td>\n",
       "      <td>60</td>\n",
       "      <td>1</td>\n",
       "      <td>False</td>\n",
       "    </tr>\n",
       "  </tbody>\n",
       "</table>\n",
       "</div>"
      ],
      "text/plain": [
       "          Name  Type 1    Type 2  Total  HP  Attack  Defense  Sp. Atk  \\\n",
       "ID                                                                      \n",
       "118    Goldeen   Water       NaN    320  45      67       60       35   \n",
       "187     Hoppip   Grass    Flying    250  35      35       40       35   \n",
       "256  Combusken    Fire  Fighting    405  60      85       60       85   \n",
       "276    Taillow  Normal    Flying    270  40      55       30       30   \n",
       "58   Growlithe    Fire       NaN    350  55      70       45       70   \n",
       "\n",
       "     Sp. Def  Speed  Generation  Legendary  \n",
       "ID                                          \n",
       "118       50     63           1      False  \n",
       "187       55     50           2      False  \n",
       "256       60     55           3      False  \n",
       "276       30     85           3      False  \n",
       "58        50     60           1      False  "
      ]
     },
     "execution_count": 3,
     "metadata": {},
     "output_type": "execute_result"
    }
   ],
   "source": [
    "df = df.loc[df['Generation']<=3]\n",
    "df.sample(frac=1).head() #sample the whole dataset to shuffle the arrangement"
   ]
  },
  {
   "cell_type": "markdown",
   "metadata": {},
   "source": [
    "Now, randomly select 5 Legendary and 5 Non-Legendary Pokemon to act as our samples to be clustered."
   ]
  },
  {
   "cell_type": "code",
   "execution_count": 4,
   "metadata": {},
   "outputs": [],
   "source": [
    "legendary = df.loc[df['Legendary'] == True].sample(5)\n",
    "non_legendary = df.loc[df['Legendary'] == False].sample(5)\n",
    "pokemon = pd.concat([legendary,non_legendary])"
   ]
  },
  {
   "cell_type": "markdown",
   "metadata": {},
   "source": [
    "To further simplify the problem, we will only consider numerical values in our clustering of the data."
   ]
  },
  {
   "cell_type": "code",
   "execution_count": 5,
   "metadata": {},
   "outputs": [],
   "source": [
    "numerical_columns = ['Total','HP','Attack','Defense','Sp. Atk','Sp. Def','Speed']"
   ]
  },
  {
   "cell_type": "code",
   "execution_count": 6,
   "metadata": {},
   "outputs": [
    {
     "data": {
      "text/html": [
       "<div>\n",
       "<style scoped>\n",
       "    .dataframe tbody tr th:only-of-type {\n",
       "        vertical-align: middle;\n",
       "    }\n",
       "\n",
       "    .dataframe tbody tr th {\n",
       "        vertical-align: top;\n",
       "    }\n",
       "\n",
       "    .dataframe thead th {\n",
       "        text-align: right;\n",
       "    }\n",
       "</style>\n",
       "<table border=\"1\" class=\"dataframe\">\n",
       "  <thead>\n",
       "    <tr style=\"text-align: right;\">\n",
       "      <th></th>\n",
       "      <th>Total</th>\n",
       "      <th>HP</th>\n",
       "      <th>Attack</th>\n",
       "      <th>Defense</th>\n",
       "      <th>Sp. Atk</th>\n",
       "      <th>Sp. Def</th>\n",
       "      <th>Speed</th>\n",
       "    </tr>\n",
       "    <tr>\n",
       "      <th>ID</th>\n",
       "      <th></th>\n",
       "      <th></th>\n",
       "      <th></th>\n",
       "      <th></th>\n",
       "      <th></th>\n",
       "      <th></th>\n",
       "      <th></th>\n",
       "    </tr>\n",
       "  </thead>\n",
       "  <tbody>\n",
       "    <tr>\n",
       "      <th>245</th>\n",
       "      <td>580</td>\n",
       "      <td>100</td>\n",
       "      <td>75</td>\n",
       "      <td>115</td>\n",
       "      <td>90</td>\n",
       "      <td>115</td>\n",
       "      <td>85</td>\n",
       "    </tr>\n",
       "    <tr>\n",
       "      <th>250</th>\n",
       "      <td>680</td>\n",
       "      <td>106</td>\n",
       "      <td>130</td>\n",
       "      <td>90</td>\n",
       "      <td>110</td>\n",
       "      <td>154</td>\n",
       "      <td>90</td>\n",
       "    </tr>\n",
       "    <tr>\n",
       "      <th>144</th>\n",
       "      <td>580</td>\n",
       "      <td>90</td>\n",
       "      <td>85</td>\n",
       "      <td>100</td>\n",
       "      <td>95</td>\n",
       "      <td>125</td>\n",
       "      <td>85</td>\n",
       "    </tr>\n",
       "    <tr>\n",
       "      <th>386</th>\n",
       "      <td>600</td>\n",
       "      <td>50</td>\n",
       "      <td>150</td>\n",
       "      <td>50</td>\n",
       "      <td>150</td>\n",
       "      <td>50</td>\n",
       "      <td>150</td>\n",
       "    </tr>\n",
       "    <tr>\n",
       "      <th>377</th>\n",
       "      <td>580</td>\n",
       "      <td>80</td>\n",
       "      <td>100</td>\n",
       "      <td>200</td>\n",
       "      <td>50</td>\n",
       "      <td>100</td>\n",
       "      <td>50</td>\n",
       "    </tr>\n",
       "  </tbody>\n",
       "</table>\n",
       "</div>"
      ],
      "text/plain": [
       "     Total   HP  Attack  Defense  Sp. Atk  Sp. Def  Speed\n",
       "ID                                                       \n",
       "245    580  100      75      115       90      115     85\n",
       "250    680  106     130       90      110      154     90\n",
       "144    580   90      85      100       95      125     85\n",
       "386    600   50     150       50      150       50    150\n",
       "377    580   80     100      200       50      100     50"
      ]
     },
     "execution_count": 6,
     "metadata": {},
     "output_type": "execute_result"
    }
   ],
   "source": [
    "labels = pokemon['Legendary']\n",
    "data = pokemon[numerical_columns].copy()\n",
    "data.head()"
   ]
  },
  {
   "cell_type": "markdown",
   "metadata": {},
   "source": [
    "We now use SciPy's built in `distance_matrix` function to easily turn this set of points into the desired matrix of pairwise distances. Recall, that a distance matrix can be interpretted as the adjacency matrix of a graph. "
   ]
  },
  {
   "cell_type": "code",
   "execution_count": 7,
   "metadata": {},
   "outputs": [],
   "source": [
    "from forest_qaoa.utilities import distances_dataset"
   ]
  },
  {
   "cell_type": "code",
   "execution_count": 8,
   "metadata": {},
   "outputs": [
    {
     "data": {
      "text/html": [
       "<div>\n",
       "<style scoped>\n",
       "    .dataframe tbody tr th:only-of-type {\n",
       "        vertical-align: middle;\n",
       "    }\n",
       "\n",
       "    .dataframe tbody tr th {\n",
       "        vertical-align: top;\n",
       "    }\n",
       "\n",
       "    .dataframe thead th {\n",
       "        text-align: right;\n",
       "    }\n",
       "</style>\n",
       "<table border=\"1\" class=\"dataframe\">\n",
       "  <thead>\n",
       "    <tr style=\"text-align: right;\">\n",
       "      <th>ID</th>\n",
       "      <th>245</th>\n",
       "      <th>250</th>\n",
       "      <th>144</th>\n",
       "      <th>386</th>\n",
       "      <th>377</th>\n",
       "      <th>117</th>\n",
       "      <th>12</th>\n",
       "      <th>373</th>\n",
       "      <th>55</th>\n",
       "      <th>203</th>\n",
       "    </tr>\n",
       "    <tr>\n",
       "      <th>ID</th>\n",
       "      <th></th>\n",
       "      <th></th>\n",
       "      <th></th>\n",
       "      <th></th>\n",
       "      <th></th>\n",
       "      <th></th>\n",
       "      <th></th>\n",
       "      <th></th>\n",
       "      <th></th>\n",
       "      <th></th>\n",
       "    </tr>\n",
       "  </thead>\n",
       "  <tbody>\n",
       "    <tr>\n",
       "      <th>245</th>\n",
       "      <td>0.000000</td>\n",
       "      <td>125.027997</td>\n",
       "      <td>23.452079</td>\n",
       "      <td>157.480157</td>\n",
       "      <td>106.301458</td>\n",
       "      <td>164.468842</td>\n",
       "      <td>205.912603</td>\n",
       "      <td>84.261498</td>\n",
       "      <td>97.303648</td>\n",
       "      <td>146.799183</td>\n",
       "    </tr>\n",
       "    <tr>\n",
       "      <th>250</th>\n",
       "      <td>125.027997</td>\n",
       "      <td>0.000000</td>\n",
       "      <td>116.068945</td>\n",
       "      <td>165.987951</td>\n",
       "      <td>178.303113</td>\n",
       "      <td>276.734530</td>\n",
       "      <td>313.754681</td>\n",
       "      <td>110.553155</td>\n",
       "      <td>203.100960</td>\n",
       "      <td>251.777680</td>\n",
       "    </tr>\n",
       "    <tr>\n",
       "      <th>144</th>\n",
       "      <td>23.452079</td>\n",
       "      <td>116.068945</td>\n",
       "      <td>0.000000</td>\n",
       "      <td>146.969385</td>\n",
       "      <td>119.163753</td>\n",
       "      <td>166.282891</td>\n",
       "      <td>203.715488</td>\n",
       "      <td>76.157731</td>\n",
       "      <td>94.963151</td>\n",
       "      <td>144.568323</td>\n",
       "    </tr>\n",
       "    <tr>\n",
       "      <th>386</th>\n",
       "      <td>157.480157</td>\n",
       "      <td>165.987951</td>\n",
       "      <td>146.969385</td>\n",
       "      <td>0.000000</td>\n",
       "      <td>220.907220</td>\n",
       "      <td>205.304652</td>\n",
       "      <td>253.081015</td>\n",
       "      <td>90.277350</td>\n",
       "      <td>156.390537</td>\n",
       "      <td>186.010752</td>\n",
       "    </tr>\n",
       "    <tr>\n",
       "      <th>377</th>\n",
       "      <td>106.301458</td>\n",
       "      <td>178.303113</td>\n",
       "      <td>119.163753</td>\n",
       "      <td>220.907220</td>\n",
       "      <td>0.000000</td>\n",
       "      <td>196.850197</td>\n",
       "      <td>250.099980</td>\n",
       "      <td>150.831031</td>\n",
       "      <td>158.927656</td>\n",
       "      <td>195.959179</td>\n",
       "    </tr>\n",
       "    <tr>\n",
       "      <th>117</th>\n",
       "      <td>164.468842</td>\n",
       "      <td>276.734530</td>\n",
       "      <td>166.282891</td>\n",
       "      <td>205.304652</td>\n",
       "      <td>196.850197</td>\n",
       "      <td>0.000000</td>\n",
       "      <td>77.136243</td>\n",
       "      <td>184.390889</td>\n",
       "      <td>77.640196</td>\n",
       "      <td>44.721360</td>\n",
       "    </tr>\n",
       "    <tr>\n",
       "      <th>12</th>\n",
       "      <td>205.912603</td>\n",
       "      <td>313.754681</td>\n",
       "      <td>203.715488</td>\n",
       "      <td>253.081015</td>\n",
       "      <td>250.099980</td>\n",
       "      <td>77.136243</td>\n",
       "      <td>0.000000</td>\n",
       "      <td>231.408729</td>\n",
       "      <td>117.592517</td>\n",
       "      <td>74.833148</td>\n",
       "    </tr>\n",
       "    <tr>\n",
       "      <th>373</th>\n",
       "      <td>84.261498</td>\n",
       "      <td>110.553155</td>\n",
       "      <td>76.157731</td>\n",
       "      <td>90.277350</td>\n",
       "      <td>150.831031</td>\n",
       "      <td>184.390889</td>\n",
       "      <td>231.408729</td>\n",
       "      <td>0.000000</td>\n",
       "      <td>116.137849</td>\n",
       "      <td>160.468065</td>\n",
       "    </tr>\n",
       "    <tr>\n",
       "      <th>55</th>\n",
       "      <td>97.303648</td>\n",
       "      <td>203.100960</td>\n",
       "      <td>94.963151</td>\n",
       "      <td>156.390537</td>\n",
       "      <td>158.927656</td>\n",
       "      <td>77.640196</td>\n",
       "      <td>117.592517</td>\n",
       "      <td>116.137849</td>\n",
       "      <td>0.000000</td>\n",
       "      <td>50.477718</td>\n",
       "    </tr>\n",
       "    <tr>\n",
       "      <th>203</th>\n",
       "      <td>146.799183</td>\n",
       "      <td>251.777680</td>\n",
       "      <td>144.568323</td>\n",
       "      <td>186.010752</td>\n",
       "      <td>195.959179</td>\n",
       "      <td>44.721360</td>\n",
       "      <td>74.833148</td>\n",
       "      <td>160.468065</td>\n",
       "      <td>50.477718</td>\n",
       "      <td>0.000000</td>\n",
       "    </tr>\n",
       "  </tbody>\n",
       "</table>\n",
       "</div>"
      ],
      "text/plain": [
       "ID          245         250         144         386         377         117  \\\n",
       "ID                                                                            \n",
       "245    0.000000  125.027997   23.452079  157.480157  106.301458  164.468842   \n",
       "250  125.027997    0.000000  116.068945  165.987951  178.303113  276.734530   \n",
       "144   23.452079  116.068945    0.000000  146.969385  119.163753  166.282891   \n",
       "386  157.480157  165.987951  146.969385    0.000000  220.907220  205.304652   \n",
       "377  106.301458  178.303113  119.163753  220.907220    0.000000  196.850197   \n",
       "117  164.468842  276.734530  166.282891  205.304652  196.850197    0.000000   \n",
       "12   205.912603  313.754681  203.715488  253.081015  250.099980   77.136243   \n",
       "373   84.261498  110.553155   76.157731   90.277350  150.831031  184.390889   \n",
       "55    97.303648  203.100960   94.963151  156.390537  158.927656   77.640196   \n",
       "203  146.799183  251.777680  144.568323  186.010752  195.959179   44.721360   \n",
       "\n",
       "ID          12          373         55          203  \n",
       "ID                                                   \n",
       "245  205.912603   84.261498   97.303648  146.799183  \n",
       "250  313.754681  110.553155  203.100960  251.777680  \n",
       "144  203.715488   76.157731   94.963151  144.568323  \n",
       "386  253.081015   90.277350  156.390537  186.010752  \n",
       "377  250.099980  150.831031  158.927656  195.959179  \n",
       "117   77.136243  184.390889   77.640196   44.721360  \n",
       "12     0.000000  231.408729  117.592517   74.833148  \n",
       "373  231.408729    0.000000  116.137849  160.468065  \n",
       "55   117.592517  116.137849    0.000000   50.477718  \n",
       "203   74.833148  160.468065   50.477718    0.000000  "
      ]
     },
     "execution_count": 8,
     "metadata": {},
     "output_type": "execute_result"
    }
   ],
   "source": [
    "from scipy.spatial import distance_matrix\n",
    "dist = pd.DataFrame(distance_matrix(data.values,data.values,p=2),\n",
    "                       index=data.index,columns=data.index)\n",
    "dist"
   ]
  },
  {
   "cell_type": "markdown",
   "metadata": {},
   "source": [
    "## Understanding QAOA\n",
    "With an understanding of the MAXCUT structure which produces our clustered output, we ask ourselves how we can turn this graph problem into an optimization problem. To move forward, we take inspiration from statistical mechanics and model this problem through the lens of interacting spin systems. The explanation below will explain how the distance matrix above can be mapped into an [Ising Model](https://en.wikipedia.org/wiki/Ising_model), for those familiar, feel free to skip ahead.\n",
    "\n",
    "***\n",
    "###  An Ising Model Interpretation\n",
    "In our terminology, a spin system is any two state system. Imagine a system composed of two dipole magnets. Let's consider a magnet to be *spin up* when its North face is raised, and *spin down* when its South face is raised. Because of the magnetic interactions between the poles of each magnet, we know that the two magnets want to anti-align.\n",
    "\n",
    "<center><img src=\"imgs/magnets.png\" style=\"height:200px\"></center>\n",
    "<center><i> Fig 2. A two body spin system of dipole magnets.</i></center>\n",
    "\n",
    "We can consider this arrangement to be the *lowest energy state* of this simple two-body spin system. This system can be mathematically encoded, in the following manner:\n",
    "\n",
    "<center>$\\begin{cases} \n",
    "      spin \\uparrow = +1\n",
    "      \\\\\n",
    "      spin \\downarrow = -1\n",
    "   \\end{cases}\n",
    "$</center>\n",
    "\n",
    "Let $\\sigma_{i}$ represent the spin state of magnet $i$. In this way, the energy of our system is represented by: <br><br>\n",
    "\n",
    "<center>$Energy = \\sigma_{1}\\cdot\\sigma_{2}$</center> \n",
    "\n",
    "We can see that in this arrangement, the lowest energy state corresponds to a value of $-1$. Were we to introduce another magnet to the system, we would then have to capture the relationships between all three bodies. <br><br>\n",
    "\n",
    "<center> $\\sum_{\\langle i j\\rangle}^{n=3} \\sigma_{i} \\sigma_{j} = \\sigma_{1}\\cdot\\sigma_{2} + \n",
    "\\sigma_{2}\\cdot\\sigma_{3} + \\sigma_{1}\\cdot\\sigma_{3}$</center>\n",
    "\n",
    "Much like we did in the MAXCUT configuration, we can introduce the notion of distances as an analogy to the *interaction strength* between bodies in our system. Magnets which are closer together have a greater influence on one another. Let the interaction strength between any two magnets in this system be $J_{i,j}$, evolving our model to the following form: <br><br>\n",
    "<center> $\\sum_{\\langle i j\\rangle} J_{i j} \\sigma_{i}\\sigma_{j}$ </center>\n",
    "\n",
    "Finally, we introduce *biases* that can be applied on single magnets in our system to influence their state. A strong bias number will guarantee that one of our magnets is flipped to the spin $\\uparrow$ or spin $\\downarrow$ state. Let $\\mu_{i}$ be the bias that is applied to magnet $i$. This brings us to the final state of our Classical Ising Model:<br><br>\n",
    "\n",
    "\n",
    "<center> $H(\\sigma)=-\\sum_{\\langle i j\\rangle} J_{i j} \\sigma_{i} \\sigma_{j}-\\mu \\sum_{j} h_{j} \\sigma_{j}$ </center>\n",
    "\n",
    "By convention, we place a negative sign on this equation. The symbol $H$ stands for *Hamiltonian*, which, in quantum mechanics, is an operator which acts as a sum of the energies of the system.\n",
    "***\n",
    "## Create the Hamiltonian\n",
    "To make a Hamiltonian that is recognizable by pyQuil, we must use the pyQuil `PauliTerm` object."
   ]
  },
  {
   "cell_type": "code",
   "execution_count": 9,
   "metadata": {},
   "outputs": [],
   "source": [
    "from pyquil.api import WavefunctionSimulator\n",
    "from pyquil.paulis import PauliSum, PauliTerm"
   ]
  },
  {
   "cell_type": "markdown",
   "metadata": {},
   "source": [
    "To get a feel for our process, let's make a simple Hamiltonian for our three magnet system above.\n",
    "\n",
    "In `PauliTerm`, the first argument is the operator type, the second is the qubit, and the third is the interaction strength."
   ]
  },
  {
   "cell_type": "code",
   "execution_count": 10,
   "metadata": {},
   "outputs": [],
   "source": [
    "term1 = PauliTerm(\"Z\",0,1)*PauliTerm(\"Z\",1,1)\n",
    "term2 = PauliTerm(\"Z\",1,1)*PauliTerm(\"Z\",2,1)\n",
    "term3 = PauliTerm(\"Z\",0,1)*PauliTerm(\"Z\",2,1)\n",
    "hamiltonian = PauliSum([term1, term2, term3])"
   ]
  },
  {
   "cell_type": "markdown",
   "metadata": {},
   "source": [
    "Play around with the numbers in the above cell and see how it influences the resulting Hamiltonian."
   ]
  },
  {
   "cell_type": "code",
   "execution_count": 11,
   "metadata": {},
   "outputs": [
    {
     "name": "stdout",
     "output_type": "stream",
     "text": [
      "(1+0j)*Z0*Z1 + (1+0j)*Z1*Z2 + (1+0j)*Z0*Z2\n"
     ]
    }
   ],
   "source": [
    "print(hamiltonian)"
   ]
  },
  {
   "cell_type": "markdown",
   "metadata": {},
   "source": [
    "By including single `PauliTerm`s in our `PauliSum`, we can include the effect of biases."
   ]
  },
  {
   "cell_type": "code",
   "execution_count": 12,
   "metadata": {},
   "outputs": [
    {
     "name": "stdout",
     "output_type": "stream",
     "text": [
      "(1+0j)*Z0*Z1 + (1+0j)*Z1*Z2 + (1+0j)*Z0*Z2 + (25+0j)*Z0 + (25+0j)*Z2\n"
     ]
    }
   ],
   "source": [
    "term4 = PauliTerm(\"Z\",0,25)\n",
    "term5 = PauliTerm(\"Z\",2,25)\n",
    "hamiltonian = PauliSum([term1, term2, term3,\n",
    "                        term4, term5])\n",
    "print(hamiltonian)"
   ]
  },
  {
   "cell_type": "markdown",
   "metadata": {},
   "source": [
    "We can see now that to make the Hamiltonian for our system we must iterate over each distance in our distance matrix, and assign it within a `PauliTerm` as the interaction strength between the appropriate qubits."
   ]
  },
  {
   "cell_type": "code",
   "execution_count": 13,
   "metadata": {},
   "outputs": [],
   "source": [
    "pauli_list = list()\n",
    "m,n = dist.shape\n",
    "\n",
    "#pairwise interactions\n",
    "for i in range(m):\n",
    "    for j in range(n):\n",
    "        if i < j:\n",
    "            term = PauliTerm(\"Z\",i,dist.values[i][j])*PauliTerm(\"Z\",j, 1.0) #we set the second term to 1, so we don't scale the distances\n",
    "            pauli_list.append(term)"
   ]
  },
  {
   "cell_type": "code",
   "execution_count": 14,
   "metadata": {},
   "outputs": [
    {
     "name": "stdout",
     "output_type": "stream",
     "text": [
      "(125.02799686470227+0j)*Z0*Z1 + (23.45207879911715+0j)*Z0*Z2 + (157.48015748023622+0j)*Z0*Z3 + (106.30145812734649+0j)*Z0*Z4 + (164.46884203398528+0j)*Z0*Z5 + (205.91260281974002+0j)*Z0*Z6 + (84.26149773176358+0j)*Z0*Z7 + (97.30364844136113+0j)*Z0*Z8 + (146.79918255903198+0j)*Z0*Z9 + (116.06894502837527+0j)*Z1*Z2 + (165.98795136997143+0j)*Z1*Z3 + (178.30311270418136+0j)*Z1*Z4 + (276.73452982958236+0j)*Z1*Z5 + (313.7546812399777+0j)*Z1*Z6 + (110.55315463612968+0j)*Z1*Z7 + (203.100960115899+0j)*Z1*Z8 + (251.77767970969944+0j)*Z1*Z9 + (146.9693845669907+0j)*Z2*Z3 + (119.16375287812986+0j)*Z2*Z4 + (166.2828914831589+0j)*Z2*Z5 + (203.71548787463362+0j)*Z2*Z6 + (76.15773105863909+0j)*Z2*Z7 + (94.96315074806648+0j)*Z2*Z8 + (144.5683229480096+0j)*Z2*Z9 + (220.90722034374522+0j)*Z3*Z4 + (205.3046516764781+0j)*Z3*Z5 + (253.0810146968753+0j)*Z3*Z6 + (90.27735042633894+0j)*Z3*Z7 + (156.3905367981068+0j)*Z3*Z8 + (186.01075237738274+0j)*Z3*Z9 + (196.85019685029528+0j)*Z4*Z5 + (250.099980007996+0j)*Z4*Z6 + (150.83103128998357+0j)*Z4*Z7 + (158.927656498169+0j)*Z4*Z8 + (195.95917942265424+0j)*Z4*Z9 + (77.13624310270757+0j)*Z5*Z6 + (184.39088914585776+0j)*Z5*Z7 + (77.64019577512668+0j)*Z5*Z8 + (44.721359549995796+0j)*Z5*Z9 + (231.40872930812267+0j)*Z6*Z7 + (117.5925167687128+0j)*Z6*Z8 + (74.83314773547883+0j)*Z6*Z9 + (116.1378491276638+0j)*Z7*Z8 + (160.4680653588121+0j)*Z7*Z9 + (50.47771785649585+0j)*Z8*Z9\n"
     ]
    }
   ],
   "source": [
    "hamiltonian = PauliSum(pauli_list)\n",
    "print(hamiltonian)"
   ]
  },
  {
   "cell_type": "markdown",
   "metadata": {},
   "source": [
    "The above exercise brings up an important limitation to our present QAOA approach. The number of datapoints we are able to use is limited by the number of qubits we have available."
   ]
  },
  {
   "cell_type": "markdown",
   "metadata": {},
   "source": [
    "## From Hamiltonian To Clusters\n",
    "<br>\n",
    "<br>\n",
    "<center><img src=\"imgs/spins.png\"style=\"width:200px\"></center>\n",
    "<center><i> A depiction of the maxcut problem, displaying a cut which separates white and black vertices.</i></center>\n",
    "<br>\n",
    "<br>  \n",
    "\n",
    "\n",
    "\n",
    "It is possible to take inspiration from stati\n",
    "\n",
    "'optimize' such a problem to result in the best possible cut. "
   ]
  },
  {
   "cell_type": "markdown",
   "metadata": {},
   "source": [
    "## Apply QAOA"
   ]
  },
  {
   "cell_type": "code",
   "execution_count": 15,
   "metadata": {},
   "outputs": [],
   "source": [
    "# import the neccesary pyquil modules\n",
    "from forest_qaoa.qaoa.cost_function import QAOACostFunctionOnQVM, QAOACostFunctionOnWFSim\n",
    "\n",
    "# import the QAOAParameters that we want to demo\n",
    "from forest_qaoa.qaoa.parameters import GeneralQAOAParameters\n",
    "from forest_qaoa.vqe.optimizer import scipy_optimizer\n",
    "\n",
    "#Some utilities for time tracking and measuring our outcomes.\n",
    "import time\n",
    "from math import log\n",
    "from sklearn.metrics import accuracy_score"
   ]
  },
  {
   "cell_type": "markdown",
   "metadata": {},
   "source": [
    "### Choose the Problem Hyperparameters"
   ]
  },
  {
   "cell_type": "code",
   "execution_count": 16,
   "metadata": {},
   "outputs": [],
   "source": [
    "timesteps = 3\n",
    "end_time = 1\n",
    "iters = 500\n",
    "num_q = 10 #this number might be defined before your dataset\n",
    "#The hamiltonian is also a hyperparameter"
   ]
  },
  {
   "cell_type": "markdown",
   "metadata": {},
   "source": [
    "### Generate Parameters\n",
    "In this QAOA run, we will use `GeneralQAOAParameters`. This parameter class provides the most degrees of freedom for our optimizer to explore the energy landscape. Conversely, it also has the most parameters to optimize and thus will take longer to converge. \n",
    "\n",
    "To insantiate this parameter class, we need to pass in three separate lists of angles.\n",
    "- $\\vec{\\beta}$: every timestep requires 'nqubit' beta rotations. Thus there are $nqubit\\cdot timestep$ beta values.\n",
    "- $\\vec{\\gamma}_{pairs}$: there is a gamma rotation for every two-qubit interaction. A simple way to come up with this number is to measure the length of your hamiltonian subtracted by the number of single qubit bias terms in place.\n",
    "- $\\vec{\\gamma}_{singles}$: there is a gamma single rotation for each bias term included in the hamiltonian.\n",
    "\n",
    "We randomly generate these lists as their initial starting states are somewhat redunant. They will be optimized over 100s of iterations!"
   ]
  },
  {
   "cell_type": "code",
   "execution_count": 17,
   "metadata": {},
   "outputs": [],
   "source": [
    "betas = [round(val,1) for val in np.random.rand(timesteps*num_q)]\n",
    "gammas_singles = [round(val,1) for val in np.random.rand(0)] #we don't want any bias terms\n",
    "gammas_pairs = [round(val,1) for val in np.random.rand(timesteps*len(hamiltonian))]\n",
    "\n",
    "hyperparameters = (hamiltonian, timesteps)\n",
    "parameters = (betas, gammas_singles, gammas_pairs)\n",
    "\n",
    "params = GeneralQAOAParameters(hyperparameters, parameters)"
   ]
  },
  {
   "cell_type": "markdown",
   "metadata": {},
   "source": [
    "Before starting the simulator, make sure you are running rigetti's QVM and Quil Compiler\n",
    "### First QAOA Run: 3 Timesteps, 500 Iterations"
   ]
  },
  {
   "cell_type": "code",
   "execution_count": 18,
   "metadata": {},
   "outputs": [],
   "source": [
    "# Set up the WavefunctionSimulator from pyQuil\n",
    "sim = WavefunctionSimulator()\n",
    "cost_function = QAOACostFunctionOnWFSim(hamiltonian,\n",
    "                                            params=params,\n",
    "                                            sim=sim,\n",
    "                                            return_standard_deviation=True,\n",
    "                                            noisy=False,\n",
    "                                            log=[])"
   ]
  },
  {
   "cell_type": "code",
   "execution_count": 19,
   "metadata": {},
   "outputs": [
    {
     "name": "stdout",
     "output_type": "stream",
     "text": [
      "Run complete\n",
      " Runtime: 27.299\n"
     ]
    }
   ],
   "source": [
    "t0 = time.time()\n",
    "res = scipy_optimizer(cost_function, params.raw(), epsilon=1e-3,\n",
    "                          maxiter=iters)\n",
    "print('Run complete!\\n','Runtime:','{:.3f}'.format(time.time()-t0))"
   ]
  },
  {
   "cell_type": "code",
   "execution_count": 20,
   "metadata": {},
   "outputs": [],
   "source": [
    "def return_lowest_state(probs):\n",
    "    index_max = max(range(len(probs)), key=probs.__getitem__)\n",
    "    string = '{0:0'+str(int(log(len(probs),2)))+'b}'\n",
    "    string = string.format(index_max)\n",
    "    return [int(item) for item in string]"
   ]
  },
  {
   "cell_type": "code",
   "execution_count": 26,
   "metadata": {},
   "outputs": [
    {
     "data": {
      "text/plain": [
       "pyquil.wavefunction.Wavefunction"
      ]
     },
     "execution_count": 26,
     "metadata": {},
     "output_type": "execute_result"
    }
   ],
   "source": [
    "type(wave_func)"
   ]
  },
  {
   "cell_type": "code",
   "execution_count": 21,
   "metadata": {},
   "outputs": [],
   "source": [
    "wave_func = cost_function.get_wavefunction(params.raw())\n",
    "lowest = return_lowest_state(wave_func.probabilities())"
   ]
  },
  {
   "cell_type": "code",
   "execution_count": 22,
   "metadata": {},
   "outputs": [
    {
     "name": "stdout",
     "output_type": "stream",
     "text": [
      "True Labels of samples: [1, 1, 1, 1, 1, 0, 0, 0, 0, 0]\n",
      "Lowest QAOA State: [0, 1, 0, 0, 1, 0, 1, 0, 0, 0]\n",
      "Accuracy of Original State: 60.0 %\n",
      "Accuracy of Complement State: 40.0 %\n"
     ]
    }
   ],
   "source": [
    "true_clusters = [1 if val else 0 for val in labels] \n",
    "print('True Labels of samples:',true_clusters)\n",
    "print('Lowest QAOA State:',lowest)\n",
    "\n",
    "from sklearn.metrics import accuracy_score\n",
    "acc = accuracy_score(lowest,true_clusters)\n",
    "print('Accuracy of Original State:',acc*100,'%')\n",
    "\n",
    "#Account for the complement bit string in case a class-swap\n",
    "final_c = [0 if item == 1 else 1 for item in lowest]\n",
    "\n",
    "acc_c = accuracy_score(final_c,true_clusters)\n",
    "print('Accuracy of Complement State:',acc_c*100,'%')"
   ]
  },
  {
   "cell_type": "markdown",
   "metadata": {},
   "source": [
    "We can analyze the optimizer to see whether or not our QAOA run converged. For the full message, run:\n",
    "```python\n",
    "print(res)\n",
    "```"
   ]
  },
  {
   "cell_type": "code",
   "execution_count": 23,
   "metadata": {},
   "outputs": [
    {
     "name": "stdout",
     "output_type": "stream",
     "text": [
      "Cost Function Value: -260.4190156598098\n",
      "Converged?: Maximum number of function evaluations has been exceeded.\n"
     ]
    }
   ],
   "source": [
    "print('Cost Function Value:', res.fun)\n",
    "print('Converged?:',res.message)"
   ]
  },
  {
   "cell_type": "markdown",
   "metadata": {},
   "source": [
    "We can see we did not converge. Let's tighten up our operations by wrapping our QAOA runs in a function and increase the number of iterations."
   ]
  },
  {
   "cell_type": "code",
   "execution_count": 21,
   "metadata": {},
   "outputs": [],
   "source": [
    "def run_qaoa(hamiltonian,params, timesteps=2,end_time=1,max_iters=150,init_state=None):    \n",
    "    sim = WavefunctionSimulator()\n",
    "    cost_function = QAOACostFunctionOnWFSim(hamiltonian,\n",
    "                                            params=params,\n",
    "                                            sim=sim,\n",
    "                                            return_standard_deviation=True,\n",
    "                                            noisy=False,\n",
    "                                            log=[],\n",
    "                                            init_state=init_state)\n",
    "    \n",
    "    res = scipy_optimizer(cost_function, params.raw(), epsilon=1e-3,\n",
    "                          maxiter=max_iters)\n",
    "    \n",
    "    return cost_function.get_wavefunction(params.raw()), res\n"
   ]
  },
  {
   "cell_type": "code",
   "execution_count": 23,
   "metadata": {},
   "outputs": [
    {
     "name": "stdout",
     "output_type": "stream",
     "text": [
      "Run complete\n",
      " Runtime: 55.529\n"
     ]
    }
   ],
   "source": [
    "t0 = time.time()\n",
    "wave_func , res = run_qaoa(hamiltonian,params,timesteps=2,max_iters=1000)\n",
    "print('Run complete\\n','Runtime:','{:.3f}'.format(time.time()-t0))"
   ]
  },
  {
   "cell_type": "code",
   "execution_count": 24,
   "metadata": {},
   "outputs": [],
   "source": [
    "lowest = return_lowest_state(wave_func.probabilities())"
   ]
  },
  {
   "cell_type": "code",
   "execution_count": 25,
   "metadata": {},
   "outputs": [
    {
     "name": "stdout",
     "output_type": "stream",
     "text": [
      "True Labels of samples: [1, 1, 1, 1, 1, 0, 0, 0, 0, 0]\n",
      "Lowest QAOA State: [0, 0, 0, 1, 0, 1, 1, 1, 0, 1]\n",
      "Accuracy of Original State: 20.0 %\n",
      "Accuracy of Complement State: 80.0 %\n"
     ]
    }
   ],
   "source": [
    "true_clusters = [1 if val else 0 for val in labels] \n",
    "print('True Labels of samples:',true_clusters)\n",
    "print('Lowest QAOA State:',lowest)\n",
    "\n",
    "from sklearn.metrics import accuracy_score\n",
    "acc = accuracy_score(lowest,true_clusters)\n",
    "print('Accuracy of Original State:',acc*100,'%')\n",
    "\n",
    "#Account for the complement bit string in case a class-swap\n",
    "final_c = [0 if item == 1 else 1 for item in lowest]\n",
    "\n",
    "acc_c = accuracy_score(final_c,true_clusters)\n",
    "print('Accuracy of Complement State:',acc_c*100,'%')"
   ]
  },
  {
   "cell_type": "code",
   "execution_count": 26,
   "metadata": {},
   "outputs": [
    {
     "data": {
      "text/html": [
       "<div>\n",
       "<style scoped>\n",
       "    .dataframe tbody tr th:only-of-type {\n",
       "        vertical-align: middle;\n",
       "    }\n",
       "\n",
       "    .dataframe tbody tr th {\n",
       "        vertical-align: top;\n",
       "    }\n",
       "\n",
       "    .dataframe thead th {\n",
       "        text-align: right;\n",
       "    }\n",
       "</style>\n",
       "<table border=\"1\" class=\"dataframe\">\n",
       "  <thead>\n",
       "    <tr style=\"text-align: right;\">\n",
       "      <th></th>\n",
       "      <th>Name</th>\n",
       "      <th>Type 1</th>\n",
       "      <th>Type 2</th>\n",
       "      <th>Total</th>\n",
       "      <th>HP</th>\n",
       "      <th>Attack</th>\n",
       "      <th>Defense</th>\n",
       "      <th>Sp. Atk</th>\n",
       "      <th>Sp. Def</th>\n",
       "      <th>Speed</th>\n",
       "      <th>Generation</th>\n",
       "      <th>Legendary</th>\n",
       "    </tr>\n",
       "    <tr>\n",
       "      <th>ID</th>\n",
       "      <th></th>\n",
       "      <th></th>\n",
       "      <th></th>\n",
       "      <th></th>\n",
       "      <th></th>\n",
       "      <th></th>\n",
       "      <th></th>\n",
       "      <th></th>\n",
       "      <th></th>\n",
       "      <th></th>\n",
       "      <th></th>\n",
       "      <th></th>\n",
       "    </tr>\n",
       "  </thead>\n",
       "  <tbody>\n",
       "    <tr>\n",
       "      <th>377</th>\n",
       "      <td>Regirock</td>\n",
       "      <td>Rock</td>\n",
       "      <td>NaN</td>\n",
       "      <td>580</td>\n",
       "      <td>80</td>\n",
       "      <td>100</td>\n",
       "      <td>200</td>\n",
       "      <td>50</td>\n",
       "      <td>100</td>\n",
       "      <td>50</td>\n",
       "      <td>3</td>\n",
       "      <td>True</td>\n",
       "    </tr>\n",
       "    <tr>\n",
       "      <th>150</th>\n",
       "      <td>Mewtwo</td>\n",
       "      <td>Psychic</td>\n",
       "      <td>NaN</td>\n",
       "      <td>680</td>\n",
       "      <td>106</td>\n",
       "      <td>110</td>\n",
       "      <td>90</td>\n",
       "      <td>154</td>\n",
       "      <td>90</td>\n",
       "      <td>130</td>\n",
       "      <td>1</td>\n",
       "      <td>True</td>\n",
       "    </tr>\n",
       "    <tr>\n",
       "      <th>145</th>\n",
       "      <td>Zapdos</td>\n",
       "      <td>Electric</td>\n",
       "      <td>Flying</td>\n",
       "      <td>580</td>\n",
       "      <td>90</td>\n",
       "      <td>90</td>\n",
       "      <td>85</td>\n",
       "      <td>125</td>\n",
       "      <td>90</td>\n",
       "      <td>100</td>\n",
       "      <td>1</td>\n",
       "      <td>True</td>\n",
       "    </tr>\n",
       "    <tr>\n",
       "      <th>245</th>\n",
       "      <td>Suicune</td>\n",
       "      <td>Water</td>\n",
       "      <td>NaN</td>\n",
       "      <td>580</td>\n",
       "      <td>100</td>\n",
       "      <td>75</td>\n",
       "      <td>115</td>\n",
       "      <td>90</td>\n",
       "      <td>115</td>\n",
       "      <td>85</td>\n",
       "      <td>2</td>\n",
       "      <td>True</td>\n",
       "    </tr>\n",
       "    <tr>\n",
       "      <th>385</th>\n",
       "      <td>Jirachi</td>\n",
       "      <td>Steel</td>\n",
       "      <td>Psychic</td>\n",
       "      <td>600</td>\n",
       "      <td>100</td>\n",
       "      <td>100</td>\n",
       "      <td>100</td>\n",
       "      <td>100</td>\n",
       "      <td>100</td>\n",
       "      <td>100</td>\n",
       "      <td>3</td>\n",
       "      <td>True</td>\n",
       "    </tr>\n",
       "    <tr>\n",
       "      <th>14</th>\n",
       "      <td>Kakuna</td>\n",
       "      <td>Bug</td>\n",
       "      <td>Poison</td>\n",
       "      <td>205</td>\n",
       "      <td>45</td>\n",
       "      <td>25</td>\n",
       "      <td>50</td>\n",
       "      <td>25</td>\n",
       "      <td>25</td>\n",
       "      <td>35</td>\n",
       "      <td>1</td>\n",
       "      <td>False</td>\n",
       "    </tr>\n",
       "    <tr>\n",
       "      <th>317</th>\n",
       "      <td>Swalot</td>\n",
       "      <td>Poison</td>\n",
       "      <td>NaN</td>\n",
       "      <td>467</td>\n",
       "      <td>100</td>\n",
       "      <td>73</td>\n",
       "      <td>83</td>\n",
       "      <td>73</td>\n",
       "      <td>83</td>\n",
       "      <td>55</td>\n",
       "      <td>3</td>\n",
       "      <td>False</td>\n",
       "    </tr>\n",
       "    <tr>\n",
       "      <th>41</th>\n",
       "      <td>Zubat</td>\n",
       "      <td>Poison</td>\n",
       "      <td>Flying</td>\n",
       "      <td>245</td>\n",
       "      <td>40</td>\n",
       "      <td>45</td>\n",
       "      <td>35</td>\n",
       "      <td>30</td>\n",
       "      <td>40</td>\n",
       "      <td>55</td>\n",
       "      <td>1</td>\n",
       "      <td>False</td>\n",
       "    </tr>\n",
       "    <tr>\n",
       "      <th>280</th>\n",
       "      <td>Ralts</td>\n",
       "      <td>Psychic</td>\n",
       "      <td>Fairy</td>\n",
       "      <td>198</td>\n",
       "      <td>28</td>\n",
       "      <td>25</td>\n",
       "      <td>25</td>\n",
       "      <td>45</td>\n",
       "      <td>35</td>\n",
       "      <td>40</td>\n",
       "      <td>3</td>\n",
       "      <td>False</td>\n",
       "    </tr>\n",
       "    <tr>\n",
       "      <th>26</th>\n",
       "      <td>Raichu</td>\n",
       "      <td>Electric</td>\n",
       "      <td>NaN</td>\n",
       "      <td>485</td>\n",
       "      <td>60</td>\n",
       "      <td>90</td>\n",
       "      <td>55</td>\n",
       "      <td>90</td>\n",
       "      <td>80</td>\n",
       "      <td>110</td>\n",
       "      <td>1</td>\n",
       "      <td>False</td>\n",
       "    </tr>\n",
       "  </tbody>\n",
       "</table>\n",
       "</div>"
      ],
      "text/plain": [
       "         Name    Type 1   Type 2  Total   HP  Attack  Defense  Sp. Atk  \\\n",
       "ID                                                                       \n",
       "377  Regirock      Rock      NaN    580   80     100      200       50   \n",
       "150    Mewtwo   Psychic      NaN    680  106     110       90      154   \n",
       "145    Zapdos  Electric   Flying    580   90      90       85      125   \n",
       "245   Suicune     Water      NaN    580  100      75      115       90   \n",
       "385   Jirachi     Steel  Psychic    600  100     100      100      100   \n",
       "14     Kakuna       Bug   Poison    205   45      25       50       25   \n",
       "317    Swalot    Poison      NaN    467  100      73       83       73   \n",
       "41      Zubat    Poison   Flying    245   40      45       35       30   \n",
       "280     Ralts   Psychic    Fairy    198   28      25       25       45   \n",
       "26     Raichu  Electric      NaN    485   60      90       55       90   \n",
       "\n",
       "     Sp. Def  Speed  Generation  Legendary  \n",
       "ID                                          \n",
       "377      100     50           3       True  \n",
       "150       90    130           1       True  \n",
       "145       90    100           1       True  \n",
       "245      115     85           2       True  \n",
       "385      100    100           3       True  \n",
       "14        25     35           1      False  \n",
       "317       83     55           3      False  \n",
       "41        40     55           1      False  \n",
       "280       35     40           3      False  \n",
       "26        80    110           1      False  "
      ]
     },
     "execution_count": 26,
     "metadata": {},
     "output_type": "execute_result"
    }
   ],
   "source": [
    "df.loc[data.index]"
   ]
  },
  {
   "cell_type": "markdown",
   "metadata": {},
   "source": [
    "Your own performance will vary based on which Pokemon were randomly selected from each class. Results can be improved. "
   ]
  },
  {
   "cell_type": "markdown",
   "metadata": {},
   "source": []
  },
  {
   "cell_type": "code",
   "execution_count": 27,
   "metadata": {},
   "outputs": [],
   "source": [
    "from sklearn.decomposition import PCA"
   ]
  },
  {
   "cell_type": "code",
   "execution_count": 28,
   "metadata": {},
   "outputs": [],
   "source": [
    "pca = PCA(n_components=5).fit(data)"
   ]
  },
  {
   "cell_type": "code",
   "execution_count": 29,
   "metadata": {},
   "outputs": [
    {
     "data": {
      "text/plain": [
       "array([37889.92159586,  2202.45202678,   241.04617535,   132.15040666,\n",
       "          70.80992128])"
      ]
     },
     "execution_count": 29,
     "metadata": {},
     "output_type": "execute_result"
    }
   ],
   "source": [
    "PCA(n_components=5).fit(data).explained_variance_"
   ]
  },
  {
   "cell_type": "code",
   "execution_count": 30,
   "metadata": {},
   "outputs": [],
   "source": [
    "def pca_results(data, pca):    \n",
    "    # Dimension indexing\n",
    "    dimensions = ['PC-{}'.format(i) for i in range(1,len(pca.components_)+1)]\n",
    "    \n",
    "    # PCA components\n",
    "    components = pd.DataFrame(np.round(pca.components_, 4), columns = data.keys()) \n",
    "    components.index = dimensions\n",
    "\n",
    "    # PCA explained variance\n",
    "    ratios = pca.explained_variance_ratio_.reshape(len(pca.components_), 1) \n",
    "    variance_ratios = pd.DataFrame(np.round(ratios, 4), columns = ['Explained Variance']) \n",
    "    variance_ratios.index = dimensions\n",
    "\n",
    "    # Create a bar plot visualization\n",
    "    fig, ax = plt.subplots(figsize = (14,8))\n",
    "\n",
    "    # Plot the feature weights as a function of the components\n",
    "    components.plot(ax = ax, kind = 'bar')\n",
    "    ax.set_ylabel(\"Feature Weights\") \n",
    "    ax.set_xticklabels(dimensions, rotation=0)\n",
    "\n",
    "    # Display the explained variance ratios# \n",
    "    for i, ev in enumerate(pca.explained_variance_ratio_): \n",
    "        ax.text(i-0.40, ax.get_ylim()[1] + 0.05, \"Explained Variance\\n %.4f\"%(ev))\n",
    "    \n",
    "    plt.subplots_adjust(top=0.9)\n",
    "    \n",
    "    # Return a concatenated DataFrame\n",
    "    return pd.concat([variance_ratios, components], axis = 1)"
   ]
  },
  {
   "cell_type": "code",
   "execution_count": 31,
   "metadata": {},
   "outputs": [
    {
     "data": {
      "image/png": "[encoded data removed]",
      "text/plain": [
       "<Figure size 1008x576 with 1 Axes>"
      ]
     },
     "metadata": {
      "needs_background": "light"
     },
     "output_type": "display_data"
    }
   ],
   "source": [
    "pca_results = pca_results(data, pca)"
   ]
  },
  {
   "cell_type": "code",
   "execution_count": 32,
   "metadata": {},
   "outputs": [
    {
     "data": {
      "text/html": [
       "<div>\n",
       "<style scoped>\n",
       "    .dataframe tbody tr th:only-of-type {\n",
       "        vertical-align: middle;\n",
       "    }\n",
       "\n",
       "    .dataframe tbody tr th {\n",
       "        vertical-align: top;\n",
       "    }\n",
       "\n",
       "    .dataframe thead th {\n",
       "        text-align: right;\n",
       "    }\n",
       "</style>\n",
       "<table border=\"1\" class=\"dataframe\">\n",
       "  <thead>\n",
       "    <tr style=\"text-align: right;\">\n",
       "      <th></th>\n",
       "      <th>Explained Variance</th>\n",
       "      <th>Total</th>\n",
       "      <th>HP</th>\n",
       "      <th>Attack</th>\n",
       "      <th>Defense</th>\n",
       "      <th>Sp. Atk</th>\n",
       "      <th>Sp. Def</th>\n",
       "      <th>Speed</th>\n",
       "    </tr>\n",
       "  </thead>\n",
       "  <tbody>\n",
       "    <tr>\n",
       "      <th>PC-1</th>\n",
       "      <td>0.9341</td>\n",
       "      <td>-0.9249</td>\n",
       "      <td>-0.1363</td>\n",
       "      <td>-0.1544</td>\n",
       "      <td>-0.1759</td>\n",
       "      <td>-0.1780</td>\n",
       "      <td>-0.1501</td>\n",
       "      <td>-0.1302</td>\n",
       "    </tr>\n",
       "    <tr>\n",
       "      <th>PC-2</th>\n",
       "      <td>0.9884</td>\n",
       "      <td>-0.9389</td>\n",
       "      <td>-0.1321</td>\n",
       "      <td>-0.1609</td>\n",
       "      <td>0.5947</td>\n",
       "      <td>-0.6473</td>\n",
       "      <td>-0.0451</td>\n",
       "      <td>-0.5481</td>\n",
       "    </tr>\n",
       "    <tr>\n",
       "      <th>PC-3</th>\n",
       "      <td>0.9943</td>\n",
       "      <td>-0.9340</td>\n",
       "      <td>0.5920</td>\n",
       "      <td>-0.5652</td>\n",
       "      <td>0.3807</td>\n",
       "      <td>-0.5370</td>\n",
       "      <td>0.1898</td>\n",
       "      <td>-0.9942</td>\n",
       "    </tr>\n",
       "    <tr>\n",
       "      <th>PC-4</th>\n",
       "      <td>0.9976</td>\n",
       "      <td>-0.9623</td>\n",
       "      <td>0.5948</td>\n",
       "      <td>-0.6959</td>\n",
       "      <td>0.7259</td>\n",
       "      <td>0.0908</td>\n",
       "      <td>-0.4559</td>\n",
       "      <td>-1.2219</td>\n",
       "    </tr>\n",
       "    <tr>\n",
       "      <th>PC-5</th>\n",
       "      <td>0.9993</td>\n",
       "      <td>-0.9782</td>\n",
       "      <td>0.1106</td>\n",
       "      <td>-1.2852</td>\n",
       "      <td>0.8806</td>\n",
       "      <td>0.4354</td>\n",
       "      <td>0.0677</td>\n",
       "      <td>-1.1873</td>\n",
       "    </tr>\n",
       "  </tbody>\n",
       "</table>\n",
       "</div>"
      ],
      "text/plain": [
       "      Explained Variance   Total      HP  Attack  Defense  Sp. Atk  Sp. Def  \\\n",
       "PC-1              0.9341 -0.9249 -0.1363 -0.1544  -0.1759  -0.1780  -0.1501   \n",
       "PC-2              0.9884 -0.9389 -0.1321 -0.1609   0.5947  -0.6473  -0.0451   \n",
       "PC-3              0.9943 -0.9340  0.5920 -0.5652   0.3807  -0.5370   0.1898   \n",
       "PC-4              0.9976 -0.9623  0.5948 -0.6959   0.7259   0.0908  -0.4559   \n",
       "PC-5              0.9993 -0.9782  0.1106 -1.2852   0.8806   0.4354   0.0677   \n",
       "\n",
       "       Speed  \n",
       "PC-1 -0.1302  \n",
       "PC-2 -0.5481  \n",
       "PC-3 -0.9942  \n",
       "PC-4 -1.2219  \n",
       "PC-5 -1.1873  "
      ]
     },
     "execution_count": 32,
     "metadata": {},
     "output_type": "execute_result"
    }
   ],
   "source": [
    "pca_results.cumsum()"
   ]
  },
  {
   "cell_type": "markdown",
   "metadata": {},
   "source": [
    "# Experimental"
   ]
  },
  {
   "cell_type": "code",
   "execution_count": 33,
   "metadata": {},
   "outputs": [],
   "source": [
    "#This function can create the loading plot from PCA along any PCs indicated in components = list()\n",
    "def loading_plot_color(reduced_data, pca, components=[1,2]):\n",
    "    fig, ax = plt.subplots(figsize = (10,8))\n",
    "    # scatterplot of the reduced data \n",
    "    pc1 = 'PC-'+str(components[0])\n",
    "    pc2 = 'PC-'+str(components[1])\n",
    "    \n",
    "    coords_x0, coords_x1, coords_y0, coords_y1 = list(), list(), list(), list()\n",
    "    \n",
    "    for i, target in enumerate(reduced_data['label']):\n",
    "        if target == 0:\n",
    "            print('yes')\n",
    "            coords_x0.append(reduced_data.loc[:,pc1][i])\n",
    "            coords_y0.append(reduced_data.loc[:,pc2][i])\n",
    "        else:\n",
    "            coords_x1.append(reduced_data.loc[:,pc1][i])\n",
    "            coords_y1.append(reduced_data.loc[:,pc2][i])\n",
    "    \n",
    "    #Plot class 0\n",
    "    ax.scatter(x=coords_x0, y=coords_y0, \n",
    "               edgecolors='b',color='blue', s=70, alpha=0.75)\n",
    "    \n",
    "    #Plot class 1\n",
    "    ax.scatter(x=coords_x1, y=coords_y1, \n",
    "               edgecolors='g',color='green', s=70, alpha=0.75)\n",
    "\n",
    "    feature_vectors = pca.components_.T\n",
    "    # using scaling factors to make the arrows\n",
    "    arrow_size, text_pos = 7.0, 8.0,\n",
    "\n",
    "    # projections of the original features\n",
    "    for i, v in enumerate(feature_vectors):\n",
    "        ax.arrow(0, 0, arrow_size*v[components[0]-1], arrow_size*v[components[1]-1], head_width=0.2, head_length=0.15, linewidth=1, color='red',alpha=0.5)\n",
    "        ax.text(v[components[0]-1]*text_pos, v[components[1]-1]*text_pos, data.columns[i], color='black', ha='center', va='center', fontsize=18)\n",
    "        \n",
    "    ax.set_xlim([-5,5])\n",
    "    ax.set_ylim([-5,5])\n",
    "    ax.set_xlabel(pc1, fontsize=14)\n",
    "    ax.set_ylabel(pc2, fontsize=14)\n",
    "    ax.set_title(\"Feature projection along the \" + pc1 + ' by ' +pc2 + ' plane.', fontsize=16);\n",
    "    plt.subplots_adjust(top=0.9)\n",
    "    plt.show()\n",
    "    return ax"
   ]
  },
  {
   "cell_type": "code",
   "execution_count": 34,
   "metadata": {},
   "outputs": [],
   "source": [
    "pca = PCA(n_components = 6)\n",
    "reduced_data = pd.DataFrame(pca.fit_transform(data), \n",
    "                            columns = ['PC-{}'.format(i) for i in range(1,len(pca.components_)+1)])\n",
    "reduced_data['label'] = [1 if val else 0 for val in labels.values]"
   ]
  },
  {
   "cell_type": "code",
   "execution_count": 35,
   "metadata": {},
   "outputs": [
    {
     "name": "stdout",
     "output_type": "stream",
     "text": [
      "yes\n",
      "yes\n",
      "yes\n",
      "yes\n",
      "yes\n"
     ]
    },
    {
     "data": {
      "image/png": "[encoded data removed]",
      "text/plain": [
       "<Figure size 720x576 with 1 Axes>"
      ]
     },
     "metadata": {
      "needs_background": "light"
     },
     "output_type": "display_data"
    }
   ],
   "source": [
    "loading_plot_color(reduced_data, pca);"
   ]
  },
  {
   "cell_type": "code",
   "execution_count": null,
   "metadata": {},
   "outputs": [],
   "source": []
  }
 ],
 "metadata": {
  "kernelspec": {
   "display_name": "Python 3",
   "language": "python",
   "name": "python3"
  },
  "language_info": {
   "codemirror_mode": {
    "name": "ipython",
    "version": 3
   },
   "file_extension": ".py",
   "mimetype": "text/x-python",
   "name": "python",
   "nbconvert_exporter": "python",
   "pygments_lexer": "ipython3",
   "version": "3.7.3"
  }
 },
 "nbformat": 4,
 "nbformat_minor": 2
}
