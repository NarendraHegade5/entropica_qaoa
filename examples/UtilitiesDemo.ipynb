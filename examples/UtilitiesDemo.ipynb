{
 "cells": [
  {
   "cell_type": "markdown",
   "metadata": {},
   "source": [
    "# Demo of functionalities in QAOA Utilities\n",
    "\n",
    "This notebooks walks through some of the key features provided by `utilities.py`. The methods therein fall into four categories:\n",
    "\n",
    "* Methods for creating Hamiltonians and graphs, and converting between the two.\n",
    "* Methods for converting input datasets to QAOA problem instances, which may be used to solve clustering using MaxCut.\n",
    "* Methods allowing parameter sweeps to be performed, with a view to studying the landscape of the optimisation problem being tackled.\n",
    "* Functions that illustrate some known analytical and empirical results from literature on QAOA."
   ]
  },
  {
   "cell_type": "code",
   "execution_count": 1,
   "metadata": {},
   "outputs": [],
   "source": [
    "import numpy as np\n",
    "import matplotlib.pyplot as plt\n",
    "from typing import Type, Iterable\n",
    "\n",
    "# import the neccesary pyquil modules\n",
    "from pyquil.api import WavefunctionSimulator\n",
    "from pyquil.paulis import PauliSum, PauliTerm\n",
    "\n",
    "# import QAOAParameters classes \n",
    "from forest_qaoa.qaoa.parameters import StandardParams, AbstractParams, ExtendedParams, QAOAParameterIterator\n",
    "\n",
    "# import optimiser, cost functions, and utilities\n",
    "from forest_qaoa.vqe.optimizer import scipy_optimizer\n",
    "from forest_qaoa.qaoa.cost_function import QAOACostFunctionOnQVM, QAOACostFunctionOnWFSim\n",
    "from forest_qaoa.utilities import *"
   ]
  },
  {
   "cell_type": "markdown",
   "metadata": {},
   "source": [
    "## Hamiltonians and graphs"
   ]
  },
  {
   "cell_type": "markdown",
   "metadata": {},
   "source": [
    "In QAOA, a problem instance is defined by its corresponding *hyperparameters*, which refers to a specification of the total number of qubits `nqubits`, and one or both of the following:\n",
    "\n",
    "1. The single qubits that have a bias term (denoted `singles`) and the corresponding bias coefficients (denoted `biases`).\n",
    "2. The pairs of qubits that are coupled (denoted `pairs`), and the corresponding coupling coefficients (denoted `couplings`).\n",
    "\n",
    "Equivalently, when viewed as a network graph problem, a QAOA instance is defined by specifying the total number of vertices or nodes in the graph, and one or both of the following: \n",
    "\n",
    "1. The vertices that have a bias term, and the corresponding bias coefficients.\n",
    "2. The pairs of vertices that are connected by an edge, and the corresponding edge weight.\n",
    "\n",
    "If we have a known set of problem hyperparameters, the `hamiltonian_from_hyperparams` allows us to easily create the corresponding Hamiltonian. "
   ]
  },
  {
   "cell_type": "code",
   "execution_count": 2,
   "metadata": {},
   "outputs": [
    {
     "name": "stdout",
     "output_type": "stream",
     "text": [
      "(0.4+0j)*Z0*Z1 + (0.6+0j)*Z1*Z2 + (0.3+0j)*Z1\n"
     ]
    }
   ],
   "source": [
    "nqubits = 3\n",
    "singles = [1]\n",
    "biases = [0.3]\n",
    "pairs = [[0,1], [1,2]]\n",
    "couplings = [0.4, 0.6]\n",
    "\n",
    "h0 = hamiltonian_from_hyperparams(nqubits,singles,biases,pairs,couplings)\n",
    "print(h0)"
   ]
  },
  {
   "cell_type": "markdown",
   "metadata": {},
   "source": [
    "The `random_hamiltonian` method generates a random Hamiltonian (problem instance) for a specified number of qubits. It randomly selects a number of biases and number of couplings, then assigns each of them a random value between zero and one. For instance, let's create two 4-qubit Hamiltonians."
   ]
  },
  {
   "cell_type": "code",
   "execution_count": 3,
   "metadata": {},
   "outputs": [
    {
     "name": "stdout",
     "output_type": "stream",
     "text": [
      "h1 = (0.9069524988892383+0j)*Z3 + (0.12972298424489248+0j)*Z2 + (0.5602356302038399+0j)*Z0 + (0.8562777856237811+0j)*Z0*Z1 + (0.7746685948820805+0j)*Z0*Z3 + (0.6054702490982167+0j)*Z1*Z2 + (0.8274233929266585+0j)*Z1*Z3 + (0.7413532262872428+0j)*Z2*Z3\n",
      "\n",
      "h2 = (0.5914282769032728+0j)*Z1 + (0.6273572603721126+0j)*Z0*Z1 + (0.9006686142485603+0j)*Z0*Z2 + (0.26362786946625394+0j)*Z0*Z3 + (0.6334197960811727+0j)*Z1*Z3 + (0.4888913194294119+0j)*Z2*Z3\n"
     ]
    }
   ],
   "source": [
    "h1 = random_hamiltonian(4)\n",
    "h2 = random_hamiltonian(4)\n",
    "print(\"h1 =\",h1)\n",
    "print()\n",
    "print(\"h2 =\",h2)"
   ]
  },
  {
   "cell_type": "markdown",
   "metadata": {},
   "source": [
    "We can create a `networkx` graph corresponding to the qubit couplings in `h1 `using the `graph_from_hamiltonian` method:"
   ]
  },
  {
   "cell_type": "code",
   "execution_count": 4,
   "metadata": {
    "scrolled": true
   },
   "outputs": [
    {
     "name": "stderr",
     "output_type": "stream",
     "text": [
      "/home/ewan/.local/lib/python3.7/site-packages/networkx/drawing/nx_pylab.py:579: MatplotlibDeprecationWarning: \n",
      "The iterable function was deprecated in Matplotlib 3.1 and will be removed in 3.3. Use np.iterable instead.\n",
      "  if not cb.iterable(width):\n",
      "/home/ewan/.local/lib/python3.7/site-packages/networkx/drawing/nx_pylab.py:585: MatplotlibDeprecationWarning: \n",
      "The iterable function was deprecated in Matplotlib 3.1 and will be removed in 3.3. Use np.iterable instead.\n",
      "  and cb.iterable(edge_color) \\\n",
      "/home/ewan/.local/lib/python3.7/site-packages/networkx/drawing/nx_pylab.py:595: MatplotlibDeprecationWarning: \n",
      "The iterable function was deprecated in Matplotlib 3.1 and will be removed in 3.3. Use np.iterable instead.\n",
      "  for c in edge_color]):\n"
     ]
    },
    {
     "data": {
      "image/png": "[encoded data removed]",
      "text/plain": [
       "<Figure size 432x288 with 1 Axes>"
      ]
     },
     "metadata": {},
     "output_type": "display_data"
    }
   ],
   "source": [
    "g1 = graph_from_hamiltonian(h1)\n",
    "plot_graph(g1)\n",
    "# NOTE: for some reason there is a deprecation warning here associated with Matplotlib."
   ]
  },
  {
   "cell_type": "markdown",
   "metadata": {},
   "source": [
    "We can alternatively work backwards, creating a graph first, then the corresponding Hamiltonian using the `hamiltonian_from_graph` method. \n",
    "\n",
    "Let's take the graph we have just produced (`g1`) and convert it back to its corresponding Hamiltonian, which we called `h1` above."
   ]
  },
  {
   "cell_type": "code",
   "execution_count": 5,
   "metadata": {},
   "outputs": [
    {
     "name": "stdout",
     "output_type": "stream",
     "text": [
      "From graph: (0.5602356302038399+0j)*Z0 + (0.12972298424489248+0j)*Z2 + (0.9069524988892383+0j)*Z3 + (0.8562777856237811+0j)*Z0*Z1 + (0.7746685948820805+0j)*Z0*Z3 + (0.6054702490982167+0j)*Z1*Z2 + (0.8274233929266585+0j)*Z1*Z3 + (0.7413532262872428+0j)*Z2*Z3\n",
      "Original: (0.9069524988892383+0j)*Z3 + (0.12972298424489248+0j)*Z2 + (0.5602356302038399+0j)*Z0 + (0.8562777856237811+0j)*Z0*Z1 + (0.7746685948820805+0j)*Z0*Z3 + (0.6054702490982167+0j)*Z1*Z2 + (0.8274233929266585+0j)*Z1*Z3 + (0.7413532262872428+0j)*Z2*Z3\n"
     ]
    }
   ],
   "source": [
    "H1 = hamiltonian_from_graph(g1)\n",
    "print('From graph:', H1)\n",
    "print('Original:', h1)"
   ]
  },
  {
   "cell_type": "markdown",
   "metadata": {},
   "source": [
    "We can also create a graph directly from hyperparameters, using the `graph_from_hyperparams` method. "
   ]
  },
  {
   "cell_type": "code",
   "execution_count": 6,
   "metadata": {},
   "outputs": [
    {
     "data": {
      "image/png": "[encoded data removed]",
      "text/plain": [
       "<Figure size 432x288 with 1 Axes>"
      ]
     },
     "metadata": {},
     "output_type": "display_data"
    }
   ],
   "source": [
    "g0 = graph_from_hyperparams(nqubits,singles,biases,pairs,couplings)\n",
    "plot_graph(g0)"
   ]
  },
  {
   "cell_type": "markdown",
   "metadata": {},
   "source": [
    "## Hamiltonians and data\n",
    "\n",
    "One prominent application of QAOA is to solve the weighted MaxCut problem, which may be used as a clustering technique - see, for example, https://arxiv.org/abs/1712.05771.\n",
    "\n",
    "The pairwise distance between a given pair of data points in a dataset is used as the weight on the corresponding graph, and enters the Hamiltonian as the corresponding coupling coefficient between the corresponding qubits. See the demo notebook (ENTER COOPER's NOTEBOOK TITLE) for more information.\n",
    "\n",
    "1. DEMO THE USE OF `hamiltonian_from_distance_matrix`, `distances_dataset`, `gaussian_2Dclusters`, etc (give some context on the utility of Gaussian clusters as a toy problem).\n",
    "2. Explain the choice of pd dataframes as the data storage method?"
   ]
  },
  {
   "cell_type": "markdown",
   "metadata": {},
   "source": [
    "## Simple toy datasets for QAOA MaxCut clustering"
   ]
  },
  {
   "cell_type": "markdown",
   "metadata": {},
   "source": [
    "Here we demo some of the methods for generating simple datasets for QAOA clustering problems. Let's create a data set of two clusters, where the points in each cluster follow Gaussian statistics."
   ]
  },
  {
   "cell_type": "code",
   "execution_count": 7,
   "metadata": {},
   "outputs": [
    {
     "data": {
      "image/png": "[encoded data removed]",
      "text/plain": [
       "<Figure size 432x288 with 1 Axes>"
      ]
     },
     "metadata": {
      "needs_background": "light"
     },
     "output_type": "display_data"
    }
   ],
   "source": [
    "n_clusters = 2 # Number of clusters we want\n",
    "n_points = [3,3] # Number of points in each cluster\n",
    "means = [[0,0], [2,2]] # Cluster means (the [x,y] coordinates of each cluster)\n",
    "\n",
    "# Covariance matrix: we will use the same one for each of the two clusters here\n",
    "# but more generally they could be different\n",
    "cov_matrix = [[0.1, 0], [0, 0.1]] \n",
    "cov_matrices = [cov_matrix,cov_matrix]\n",
    "\n",
    "myData1 = gaussian_2Dclusters(n_clusters,n_points,means,cov_matrices)\n",
    "plot_cluster_data(myData1)"
   ]
  },
  {
   "cell_type": "markdown",
   "metadata": {},
   "source": [
    "Now let's set up the MaxCut problem. We compute the distances using `distances_dataset`, which returns a `dict` whose keys are the data point pairs, and whose values are the Euclidean distances between them"
   ]
  },
  {
   "cell_type": "code",
   "execution_count": 8,
   "metadata": {
    "scrolled": true
   },
   "outputs": [
    {
     "data": {
      "text/plain": [
       "array([[0.        , 0.21365945, 0.26760029, 2.71491717, 2.6702442 ,\n",
       "        2.19756322],\n",
       "       [0.21365945, 0.        , 0.11303008, 2.90739548, 2.85514792,\n",
       "        2.3804843 ],\n",
       "       [0.26760029, 0.11303008, 0.        , 2.9822441 , 2.93591312,\n",
       "        2.4625109 ],\n",
       "       [2.71491717, 2.90739548, 2.9822441 , 0.        , 0.21651734,\n",
       "        0.5740119 ],\n",
       "       [2.6702442 , 2.85514792, 2.93591312, 0.21651734, 0.        ,\n",
       "        0.47599378],\n",
       "       [2.19756322, 2.3804843 , 2.4625109 , 0.5740119 , 0.47599378,\n",
       "        0.        ]])"
      ]
     },
     "execution_count": 8,
     "metadata": {},
     "output_type": "execute_result"
    }
   ],
   "source": [
    "dists = distances_dataset(myData1)\n",
    "dists"
   ]
  },
  {
   "cell_type": "code",
   "execution_count": 9,
   "metadata": {},
   "outputs": [
    {
     "name": "stdout",
     "output_type": "stream",
     "text": [
      "(0.21365944988609287+0j)*Z0*Z1 + (0.2676002865835914+0j)*Z0*Z2 + (2.714917172982301+0j)*Z0*Z3 + (2.6702441968527815+0j)*Z0*Z4 + (2.1975632229001008+0j)*Z0*Z5 + (0.11303007604394577+0j)*Z1*Z2 + (2.9073954774514394+0j)*Z1*Z3 + (2.855147918472514+0j)*Z1*Z4 + (2.3804842965996498+0j)*Z1*Z5 + (2.9822441039073593+0j)*Z2*Z3 + (2.935913119664235+0j)*Z2*Z4 + (2.4625109006964405+0j)*Z2*Z5 + (0.21651733933796324+0j)*Z3*Z4 + (0.5740118965372574+0j)*Z3*Z5 + (0.47599378196571007+0j)*Z4*Z5\n"
     ]
    }
   ],
   "source": [
    "hData = hamiltonian_from_distance_matrix(dists)\n",
    "print(hData)"
   ]
  },
  {
   "cell_type": "markdown",
   "metadata": {},
   "source": [
    "Now that we have the Hamiltonian, we can go ahead and run the QAOA to check that the points are clustered correctly. We will use the `ExtendedParams` class, and three timesteps (p=3). We don't include any single-qubit bias terms."
   ]
  },
  {
   "cell_type": "code",
   "execution_count": 10,
   "metadata": {},
   "outputs": [
    {
     "name": "stdout",
     "output_type": "stream",
     "text": [
      "Hyperparameters:\n",
      "\tregister: [0, 1, 2, 3, 4, 5]\n",
      "\tqubits_singles: []\n",
      "\tqubits_pairs: [[0, 1], [0, 2], [0, 3], [0, 4], [0, 5], [1, 2], [1, 3], [1, 4], [1, 5], [2, 3], [2, 4], [2, 5], [3, 4], [3, 5], [4, 5]]\n",
      "Parameters:\n",
      "\tbetas: [[0.7970788  0.68155415 0.80870511 0.26240597 0.8618028  0.98844135], [0.93516705 0.65253289 0.32344753 0.3408231  0.28416302 0.56088085], [0.07706582 0.66175722 0.57146501 0.72442704 0.64779586 0.9051114 ]]\n",
      "\tgammas_singles: []\n",
      "\tgammas_pairs: [[0.04151225 0.97854869 0.15202136 0.92253353 0.76274786 0.13717606,  0.70958209 0.01608114 0.49749448 0.19213576 0.12747103 0.11023562,  0.59117077 0.62006706 0.10147977], [0.90737441 0.07895955 0.62156397 0.87374076 0.10622779 0.32866181,  0.02509999 0.45316142 0.17787512 0.54031228 0.73612442 0.68539699,  0.72190287 0.16743476 0.77650298], [0.02541104 0.49578749 0.32172258 0.41283718 0.94035848 0.52995551,  0.14470245 0.1827593  0.21001868 0.4145631  0.97847076 0.0485885,  0.9294969  0.35710091 0.98663707]]\n",
      "\n"
     ]
    }
   ],
   "source": [
    "n_qubits = 6\n",
    "p = 3\n",
    "\n",
    "# Specify some angles\n",
    "betas = np.random.rand(n_qubits,p)\n",
    "gammas_singles = []\n",
    "gammas_pairs = np.random.rand(len(hData),p)\n",
    "parameters = (betas,gammas_singles,gammas_pairs)\n",
    "\n",
    "extended_params = ExtendedParams([hData,p],parameters)\n",
    "print(extended_params)"
   ]
  },
  {
   "cell_type": "code",
   "execution_count": 11,
   "metadata": {},
   "outputs": [
    {
     "data": {
      "text/plain": [
       "     fun: -9.936469059543816\n",
       "   maxcv: 0.0\n",
       " message: 'Maximum number of function evaluations has been exceeded.'\n",
       "    nfev: 200\n",
       "  status: 2\n",
       " success: False\n",
       "       x: array([2.20085732e-01, 1.40523732e+00, 3.58639866e-01, 2.80481751e-01,\n",
       "       8.50382152e-01, 1.10815947e+00, 1.03026081e+00, 6.23397169e-01,\n",
       "       3.29543165e-01, 3.42783222e-01, 3.83973227e-01, 5.08533271e-01,\n",
       "       2.68718950e-02, 7.01185200e-01, 6.88568620e-01, 7.06011692e-01,\n",
       "       6.58652376e-01, 8.86930893e-01, 7.71876027e-01, 5.42429355e-01,\n",
       "       1.16967927e+00, 1.92136260e+00, 7.55181975e-01, 1.08652311e+00,\n",
       "       1.70910051e+00, 2.51592751e-04, 1.47522865e+00, 1.76316803e-01,\n",
       "       7.96229211e-02, 1.05916464e-01, 2.08352161e+00, 6.20673850e-01,\n",
       "       5.66289270e-02, 8.65028823e-01, 9.67381083e-01, 6.62656675e-01,\n",
       "       8.75087292e-01, 6.54872403e-02, 1.33352173e+00, 5.02213150e-03,\n",
       "       4.33050698e-01, 5.71062441e-02, 5.43546117e-01, 7.25724420e-01,\n",
       "       6.48067302e-01, 1.73038520e+00, 2.25795672e-01, 8.98774925e-01,\n",
       "       3.42754195e-02, 5.06245930e-01, 3.15745849e-01, 6.21248617e-01,\n",
       "       9.82350385e-01, 1.78007507e+00, 1.19355529e-01, 1.60533158e-01,\n",
       "       2.02228077e-01, 3.89607780e-01, 1.09546962e+00, 1.01668560e-01,\n",
       "       1.19946179e+00, 3.67182210e-01, 9.58912370e-01])"
      ]
     },
     "execution_count": 11,
     "metadata": {},
     "output_type": "execute_result"
    }
   ],
   "source": [
    "# NOTE - the optimiser will reach its maximum number of iterations, but for the parameters being used here,\n",
    "# the choice maxiter=200 seems to be more than sufficient to get to the optimum with high probability.\n",
    "\n",
    "sim = WavefunctionSimulator() # Define the wavefunction simulator\n",
    "cost_function = QAOACostFunctionOnWFSim(hData,\n",
    "                                        params=extended_params,\n",
    "                                        sim=sim,\n",
    "                                        return_standard_deviation=True,\n",
    "                                        noisy=False)\n",
    "\n",
    "res = scipy_optimizer(cost_function, extended_params.raw(), epsilon=1e-3,\n",
    "                      maxiter=200)\n",
    "res"
   ]
  },
  {
   "cell_type": "code",
   "execution_count": 12,
   "metadata": {},
   "outputs": [
    {
     "data": {
      "image/png": "[encoded data removed]",
      "text/plain": [
       "<Figure size 432x288 with 1 Axes>"
      ]
     },
     "metadata": {
      "needs_background": "light"
     },
     "output_type": "display_data"
    }
   ],
   "source": [
    "opt_wfn = cost_function.get_wavefunction(res.x)\n",
    "probs = opt_wfn.probabilities()\n",
    "plt.bar(range(len(probs)),probs)\n",
    "plt.show()"
   ]
  },
  {
   "cell_type": "markdown",
   "metadata": {},
   "source": [
    "Now get the string corresponding to the optimal solution. The `argmax` function will return the first of the two degenerate solutions. As expected, we find that the first three qubits are in one class, and the second three qubits in another (this is the way the data was constructed)."
   ]
  },
  {
   "cell_type": "code",
   "execution_count": 13,
   "metadata": {},
   "outputs": [
    {
     "data": {
      "text/plain": [
       "'000111'"
      ]
     },
     "execution_count": 13,
     "metadata": {},
     "output_type": "execute_result"
    }
   ],
   "source": [
    "optimal_string = np.argmax(probs)\n",
    "\"{0:06b}\".format(optimal_string)"
   ]
  },
  {
   "cell_type": "markdown",
   "metadata": {},
   "source": [
    "We can check that the other optimal solution found is the complement bitstring, i.e. 111000:"
   ]
  },
  {
   "cell_type": "code",
   "execution_count": 14,
   "metadata": {},
   "outputs": [
    {
     "data": {
      "text/plain": [
       "'111000'"
      ]
     },
     "execution_count": 14,
     "metadata": {},
     "output_type": "execute_result"
    }
   ],
   "source": [
    "probs[optimal_string] = 0 # Sets the previously found optimal solution to have zero probability\n",
    "optimal_string_complement = np.argmax(probs)\n",
    "\"{0:06b}\".format(optimal_string_complement)"
   ]
  },
  {
   "cell_type": "markdown",
   "metadata": {},
   "source": [
    "## Landscape sweeps \n",
    "This section shows how to use the `QAOAParameterIterator` class, which allows one to compute the cost function value of parametric wavefunctions produced by QAOA circuits, where one or two parameters of interest are varied, and all others are kept fixed. Let's work again with a simple 2-qubit problem, in the `ExtendedParams` class, with $p=3$ timesteps."
   ]
  },
  {
   "cell_type": "code",
   "execution_count": 15,
   "metadata": {},
   "outputs": [],
   "source": [
    "h_test = PauliSum.from_compact_str(\"0.7*Z0*Z1 + (-0.5)*Z0\")"
   ]
  },
  {
   "cell_type": "markdown",
   "metadata": {},
   "source": [
    "We require 3x2 `betas` parameters, 3x1 `gammas_singles` and 3x1 `gammas_pairs` parameters, which we will initialise randomly:"
   ]
  },
  {
   "cell_type": "code",
   "execution_count": 16,
   "metadata": {},
   "outputs": [],
   "source": [
    "betas = np.random.rand(3,2)\n",
    "gammas_singles = np.random.rand(3,1)\n",
    "gammas_pairs = np.random.rand(3,1)\n",
    "parameters = (betas,gammas_singles,gammas_pairs)"
   ]
  },
  {
   "cell_type": "code",
   "execution_count": 17,
   "metadata": {},
   "outputs": [
    {
     "name": "stdout",
     "output_type": "stream",
     "text": [
      "Hyperparameters:\n",
      "\tregister: [0, 1]\n",
      "\tqubits_singles: [0]\n",
      "\tqubits_pairs: [[0, 1]]\n",
      "Parameters:\n",
      "\tbetas: [[0.85731926 0.23426204], [0.84162958 0.49600728], [0.77261963 0.12324161]]\n",
      "\tgammas_singles: [[0.32154329], [0.33780898], [0.27251924]]\n",
      "\tgammas_pairs: [[0.7253298 ], [0.42875889], [0.75533683]]\n",
      "\n"
     ]
    }
   ],
   "source": [
    "extendedparams = ExtendedParams([h_test,3],parameters)\n",
    "print(extendedparams)"
   ]
  },
  {
   "cell_type": "markdown",
   "metadata": {},
   "source": [
    "We have a total of 12 parameters; as an example, let's focus on how the cost function value changes when we vary the `beta` angle on the second qubit in the second QAOA step (p=2). This is the `[1][1]` in the `betas` list. We will vary its range from 0 to $2\\pi$."
   ]
  },
  {
   "cell_type": "code",
   "execution_count": 18,
   "metadata": {},
   "outputs": [],
   "source": [
    "range_ = np.linspace(0,2*np.pi,100)\n",
    "param_ = \"betas[1][1]\"\n",
    "iterator = QAOAParameterIterator(extendedparams, param_, range_)"
   ]
  },
  {
   "cell_type": "markdown",
   "metadata": {},
   "source": [
    "We now want to compute the cost function value with all the different values of the specified parameter of interest."
   ]
  },
  {
   "cell_type": "code",
   "execution_count": 19,
   "metadata": {},
   "outputs": [],
   "source": [
    "sim = WavefunctionSimulator() # Define the wavefunction simulator\n",
    "\n",
    "cost_vals = np.zeros((len(range_,)))\n",
    "dev_vals = np.zeros((len(range_,)))\n",
    "ind = 0\n",
    "for i,p in zip(range(len(range_)),iterator):\n",
    "    \n",
    "    cost_function = QAOACostFunctionOnWFSim(h_test,\n",
    "                                            params=p,\n",
    "                                            sim=sim,\n",
    "                                            scalar_cost_function=False,\n",
    "                                            nshots = 1000,\n",
    "                                            noisy=False)\n",
    "    \n",
    "    \n",
    "    val,dev = cost_function(p.raw(),nshots=1000)\n",
    "    cost_vals[i] = val\n",
    "    dev_vals[i] = dev"
   ]
  },
  {
   "cell_type": "markdown",
   "metadata": {},
   "source": [
    "Below we plot the energy landscape as a function of the parameter of interest in the specified range, together with the standard deviation. A more thorough set of methods for visualising energy landscapes will be demonstrated in a separate notebook."
   ]
  },
  {
   "cell_type": "code",
   "execution_count": 20,
   "metadata": {},
   "outputs": [
    {
     "data": {
      "image/png": "[encoded data removed]",
      "text/plain": [
       "<Figure size 432x288 with 1 Axes>"
      ]
     },
     "metadata": {
      "needs_background": "light"
     },
     "output_type": "display_data"
    }
   ],
   "source": [
    "plt.plot(range_,cost_vals,'b',range_,dev_vals,'r')\n",
    "plt.legend(('Energy', 'Standard deviation'),\n",
    "           loc='lower right')\n",
    "plt.show()"
   ]
  },
  {
   "cell_type": "markdown",
   "metadata": {},
   "source": [
    "## Known QAOA results\n",
    "\n",
    "### MaxCut on the Ring of Disagrees\n",
    "\n",
    "The Ring of Diasgrees is a 2-regular graph on a given number of nodes $n$. The ground state has energy $-n$ for even $n$, and $-n+1$ for odd $n$.\n",
    "\n",
    "In Farhi's original QAOA paper, it was shown that this graph is a simple example of how the approximation ratio returned by QAOA can be made arbitrarily close to 1 by increasing the parameter $p$. For the MaxCut problem, the optimal cost function value returned for a given $n$ and $p$ was found to be \n",
    "\n",
    "\\begin{equation}\n",
    "C(n,p) = \\left(\\frac{2p + 1}{2p + 2}\\right)n\n",
    "\\end{equation}\n",
    "\n",
    "This result assumes the `AlternatingOperatorsQAOAParameters` parameterisation, and that the graph is unweighted (all edge weights equal to 1). Here we verify this result."
   ]
  },
  {
   "cell_type": "code",
   "execution_count": 21,
   "metadata": {},
   "outputs": [
    {
     "data": {
      "image/png": "[encoded data removed]",
      "text/plain": [
       "<Figure size 432x288 with 1 Axes>"
      ]
     },
     "metadata": {},
     "output_type": "display_data"
    }
   ],
   "source": [
    "n_nodes = 8\n",
    "h_disagrees = ring_of_disagrees(n_nodes)\n",
    "g_disagrees = graph_from_hamiltonian(h_disagrees)\n",
    "plot_graph(g_disagrees)"
   ]
  },
  {
   "cell_type": "code",
   "execution_count": 22,
   "metadata": {},
   "outputs": [],
   "source": [
    "p_vals = np.arange(1,5) # p range to consider\n",
    "output_val = np.zeros((len(p_vals),))\n",
    "\n",
    "sim = WavefunctionSimulator() # Define the wavefunction simulator\n",
    "\n",
    "for i in p_vals:\n",
    "    \n",
    "    # Initialise angles\n",
    "    betas = np.random.rand(i)\n",
    "    gammas_singles = np.zeros((i,)) # Remove this when issue is fixed\n",
    "    gammas_pairs = np.random.rand(i)\n",
    "    parameters = (betas, gammas_singles, gammas_pairs)\n",
    "    \n",
    "    # Set up (hyper)parameters\n",
    "    diasagrees_params = StandardParams([h_disagrees,i],parameters)\n",
    "    \n",
    "    # Cost function and optimisation\n",
    "    cost_function = QAOACostFunctionOnWFSim(h_disagrees,\n",
    "                                            params=diasagrees_params,\n",
    "                                            sim=sim,\n",
    "                                            return_standard_deviation=True,\n",
    "                                            noisy=False)\n",
    "    \n",
    "    res = scipy_optimizer(cost_function, diasagrees_params.raw(), epsilon=1e-3, maxiter=500,method=\"BFGS\")\n",
    "    \n",
    "    output_val[i-1] = res.fun - 0.5*len(h_disagrees) # The second term here comes from the identity part \n",
    "                                                     # of the MaxCut operator (DOESN'T SEEM POSSIBLE TO INCLUDE)\n",
    "                                                     # IDENTITY TERMS IN PauliSum WITHOUT OPTIMISER COMPLAINING?)"
   ]
  },
  {
   "cell_type": "markdown",
   "metadata": {},
   "source": [
    "Since we have 8 qubits, according to Farhi's formula we should find the maximum energy to be $-8*(3/4,5/6,7/8,9/10) = -(6, 6.67, 7, 7.2)$ for $p = (1,2,3,4)$:"
   ]
  },
  {
   "cell_type": "code",
   "execution_count": 23,
   "metadata": {},
   "outputs": [
    {
     "data": {
      "text/plain": [
       "array([-6.        , -6.66666667, -6.99999998, -7.99999998])"
      ]
     },
     "execution_count": 23,
     "metadata": {},
     "output_type": "execute_result"
    }
   ],
   "source": [
    "output_val"
   ]
  },
  {
   "cell_type": "markdown",
   "metadata": {},
   "source": [
    "The lowest energy state corresponds to the situation where neighbouring qubits have opposite orientations:"
   ]
  },
  {
   "cell_type": "code",
   "execution_count": 24,
   "metadata": {},
   "outputs": [
    {
     "name": "stdout",
     "output_type": "stream",
     "text": [
      "10101010\n"
     ]
    }
   ],
   "source": [
    "wf = cost_function.get_wavefunction(res.x)\n",
    "probs = wf.probabilities()\n",
    "ind = np.argmax(probs)\n",
    "opt_state = \"{0:08b}\".format(ind)\n",
    "print(opt_state)"
   ]
  },
  {
   "cell_type": "markdown",
   "metadata": {},
   "source": [
    "### MaxCut on 3-Regular Graphs\n",
    "\n",
    "Section V of Farhi's paper\n",
    "\n",
    "TODO - include & showcase functionality for not entirely random graphs, e.g.:\n",
    "\n",
    "* graphs with a specified maximum node degree\n",
    "* graphs with/without triangles, etc.\n",
    "* Erdos-Renyi, geometric random, etc"
   ]
  },
  {
   "cell_type": "code",
   "execution_count": null,
   "metadata": {},
   "outputs": [],
   "source": []
  }
 ],
 "metadata": {
  "kernelspec": {
   "display_name": "Python 3",
   "language": "python",
   "name": "python3"
  },
  "language_info": {
   "codemirror_mode": {
    "name": "ipython",
    "version": 3
   },
   "file_extension": ".py",
   "mimetype": "text/x-python",
   "name": "python",
   "nbconvert_exporter": "python",
   "pygments_lexer": "ipython3",
   "version": "3.7.3"
  }
 },
 "nbformat": 4,
 "nbformat_minor": 2
}
