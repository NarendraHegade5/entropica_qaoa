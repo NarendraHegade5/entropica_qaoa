{
 "cells": [
  {
   "cell_type": "markdown",
   "metadata": {},
   "source": [
    "# QAOA Utilities\n",
    "\n",
    "This notebooks walks through some of the key features provided by `utilities.py` as well as providing two examples for their real world usage."
   ]
  },
  {
   "cell_type": "markdown",
   "metadata": {
    "tags": [
     "hide_all"
    ]
   },
   "source": [
    "## Contents\n",
    "1. [Methods for creating and converting Hamiltonians and graphs](#hamiltonians_and_graphs)\n",
    " - [Hyperparameters to Hamiltonians](#hyperparams_to_ham)\n",
    " - [Random Hamiltonians](#random_hamiltonian)\n",
    " - [Hamiltonians to Graphs](#graph_from_hamiltonian)\n",
    " - [Graphs to Hamiltonians](#hamiltonian_from_graph)\n",
    " - [Hyperparameters to Graphs](#graph_from_hyperparams)\n",
    " - [Random, regular Graphs](#random_k_regular_graph)\n",
    "2. [Methods to create Hamiltonians from input datasets](#hamiltonians_and_data)\n",
    " - [Random cluster generation and distance datasets](#gaussian_2Dclusters)\n",
    " - [Distance datasets to Hamiltonians](#hamiltonian_from_distance_matrix)\n",
    "3. [Some more miscellanous utilities](#miscellaneous)\n",
    " - [Use different initial states for QAOA](#prepare_classical_state)\n",
    " - [Get the bitstring corresponding to the maximum probability state](#max_probability_bitstring)\n",
    " - [Accuracy scores for QAOA results](#evaluate_state)\n",
    " - [Nice plots of probabilites and energies](#plot_probabilities)\n",
    "4. [All in action: Using QAOA to solve the Maxut problem for clustering](#qaoa_clustering)\n",
    "5. [Another example: The ring of disagrees](#ring_of_disagrees)\n",
    "6. [References](#references)"
   ]
  },
  {
   "cell_type": "code",
   "execution_count": 1,
   "metadata": {},
   "outputs": [],
   "source": [
    "# The usual combination of numpy, scipy and matplotlib\n",
    "from scipy.optimize import minimize\n",
    "import numpy as np\n",
    "import matplotlib.pyplot as plt\n",
    "\n",
    "# import QAOAParameters classes \n",
    "from entropica_qaoa.qaoa.parameters import ExtendedParams, StandardParams\n",
    "\n",
    "# Cost functions and all the utilities\n",
    "from entropica_qaoa.qaoa.cost_function import QAOACostFunctionOnWFSim\n",
    "from entropica_qaoa.utilities import *"
   ]
  },
  {
   "cell_type": "code",
   "execution_count": 2,
   "metadata": {},
   "outputs": [],
   "source": [
    "# matplotlib complains about networkx using outdated methods. Nothing we can change\n",
    "import warnings\n",
    "warnings.filterwarnings('ignore')"
   ]
  },
  {
   "cell_type": "markdown",
   "metadata": {},
   "source": [
    "<a id='hamiltonians_and_graphs'></a>\n",
    "\n",
    "## Hamiltonians and graphs\n",
    "\n",
    "In QAOA, a problem instance is defined by its corresponding *hyperparameters*, which refers to a specification of the total number of qubits `nqubits`, and one or both of the following:\n",
    "\n",
    "1. The single qubits that have a bias term (denoted `singles`) and the corresponding bias coefficients (denoted `biases`).\n",
    "2. The pairs of qubits that are coupled (denoted `pairs`), and the corresponding coupling coefficients (denoted `couplings`).\n",
    "\n",
    "Equivalently, when viewed as a network graph problem, a QAOA instance is defined by specifying the total number of vertices or nodes in the graph, and one or both of the following: \n",
    "\n",
    "1. The vertices that have a bias term, and the corresponding bias coefficients.\n",
    "2. The pairs of vertices that are connected by an edge, and the corresponding edge weight."
   ]
  },
  {
   "cell_type": "markdown",
   "metadata": {},
   "source": [
    "<a id='hyperparams_to_ham'></a>\n",
    "\n",
    "#### Hyperparameters to Hamiltonian\n",
    "If we have a known set of problem hyperparameters, the `hamiltonian_from_hyperparams` allows us to easily create the corresponding Hamiltonian. "
   ]
  },
  {
   "cell_type": "code",
   "execution_count": 3,
   "metadata": {},
   "outputs": [
    {
     "name": "stdout",
     "output_type": "stream",
     "text": [
      "(0.4+0j)*Z0*Z1 + (0.6+0j)*Z1*Z2 + (0.3+0j)*Z1\n"
     ]
    }
   ],
   "source": [
    "nqubits = 3\n",
    "singles = [1]\n",
    "biases = [0.3]\n",
    "pairs = [[0,1], [1,2]]\n",
    "couplings = [0.4, 0.6]\n",
    "\n",
    "h0 = hamiltonian_from_hyperparams(nqubits,singles,biases,pairs,couplings)\n",
    "print(h0)"
   ]
  },
  {
   "cell_type": "markdown",
   "metadata": {},
   "source": [
    "<a id='random_hamiltonian'></a>\n",
    "\n",
    "#### Random Hamiltonian\n",
    "The `random_hamiltonian` method generates a random Hamiltonian (problem instance) for a specified number of qubits. It randomly selects a number of biases and number of couplings, then assigns each of them a random value between zero and one. For instance, let's create two 4-qubit Hamiltonians."
   ]
  },
  {
   "cell_type": "code",
   "execution_count": 4,
   "metadata": {},
   "outputs": [
    {
     "name": "stdout",
     "output_type": "stream",
     "text": [
      "h1 = (0.783008085912835+0j)*Z0*Z2 + (0.7480059861087683+0j)*Z0*Z3 + (0.003933501991080113+0j)*Z1*Z3 + (0.3041196995259873+0j)*Z2*Z3\n",
      "\n",
      "h2 = (0.3427645816403033+0j)*Z0*Z1 + (0.8969862637643233+0j)*Z1*Z2 + (0.9288944285045483+0j)*Z1*Z3\n"
     ]
    }
   ],
   "source": [
    "h1 = random_hamiltonian(4)\n",
    "h2 = random_hamiltonian(4)\n",
    "print(\"h1 =\",h1)\n",
    "print()\n",
    "print(\"h2 =\",h2)"
   ]
  },
  {
   "cell_type": "markdown",
   "metadata": {},
   "source": [
    "<a id='graph_from_hamiltonian'></a>\n",
    "\n",
    "#### Hamiltonians to Graphs\n",
    "We can create a `networkx` graph corresponding to the qubit couplings in `h1` using the `graph_from_hamiltonian` method and then plot it using `plot_graph`:"
   ]
  },
  {
   "cell_type": "code",
   "execution_count": 5,
   "metadata": {
    "scrolled": true
   },
   "outputs": [
    {
     "data": {
      "image/png": "[encoded data removed]",
      "text/plain": [
       "<Figure size 432x288 with 1 Axes>"
      ]
     },
     "metadata": {},
     "output_type": "display_data"
    }
   ],
   "source": [
    "g1 = graph_from_hamiltonian(h1)\n",
    "plot_graph(g1)"
   ]
  },
  {
   "cell_type": "markdown",
   "metadata": {},
   "source": [
    "<a id='hamiltonian_from_graph'></a>\n",
    "\n",
    "#### Graphs to Hamiltonians\n",
    "Alternatively, we can work backwards, creating a graph first, then the corresponding Hamiltonian using the `hamiltonian_from_graph` method. \n",
    "\n",
    "Let's take the graph we have just produced (`g1`) and convert it back to its corresponding Hamiltonian, which we called `h1` above."
   ]
  },
  {
   "cell_type": "code",
   "execution_count": 6,
   "metadata": {},
   "outputs": [
    {
     "name": "stdout",
     "output_type": "stream",
     "text": [
      "From graph: (0.783008085912835+0j)*Z0*Z2 + (0.7480059861087683+0j)*Z0*Z3 + (0.003933501991080113+0j)*Z1*Z3 + (0.3041196995259873+0j)*Z2*Z3\n",
      "Original: (0.783008085912835+0j)*Z0*Z2 + (0.7480059861087683+0j)*Z0*Z3 + (0.003933501991080113+0j)*Z1*Z3 + (0.3041196995259873+0j)*Z2*Z3\n"
     ]
    }
   ],
   "source": [
    "H1 = hamiltonian_from_graph(g1)\n",
    "print('From graph:', H1)\n",
    "print('Original:', h1)"
   ]
  },
  {
   "cell_type": "markdown",
   "metadata": {},
   "source": [
    "<a id='graph_from_hyperparams'></a>\n",
    "\n",
    "#### Hyperparameters to Graphs\n",
    "We can also create a graph directly from hyperparameters, using the `graph_from_hyperparams` method. "
   ]
  },
  {
   "cell_type": "code",
   "execution_count": 7,
   "metadata": {},
   "outputs": [
    {
     "data": {
      "image/png": "[encoded data removed]",
      "text/plain": [
       "<Figure size 432x288 with 1 Axes>"
      ]
     },
     "metadata": {},
     "output_type": "display_data"
    }
   ],
   "source": [
    "g0 = graph_from_hyperparams(nqubits, singles, biases, pairs, couplings)\n",
    "plot_graph(g0)"
   ]
  },
  {
   "cell_type": "markdown",
   "metadata": {},
   "source": [
    "<a id='random_k_regular_graph'></a>\n",
    "\n",
    "#### Random, regular Graphs\n",
    "In recent research on QAOA, there has been interest in the performance of the algorithm on $k$-regular graphs, i.e. graphs where every node is connected to exactly $k$ other nodes. We can generate such graphs easily using the `random_k_regular_graph` function. For instance, let's create a 3-regular graph with 8 nodes: "
   ]
  },
  {
   "cell_type": "code",
   "execution_count": 8,
   "metadata": {},
   "outputs": [
    {
     "data": {
      "image/png": "[encoded data removed]",
      "text/plain": [
       "<Figure size 432x288 with 1 Axes>"
      ]
     },
     "metadata": {},
     "output_type": "display_data"
    }
   ],
   "source": [
    "G_3_reg = random_k_regular_graph(3,8,weighted=True)\n",
    "plot_graph(G_3_reg)"
   ]
  },
  {
   "cell_type": "markdown",
   "metadata": {},
   "source": [
    "<a id='hamiltonians_and_data'></a>\n",
    "\n",
    "## Hamiltonians and data\n",
    "\n",
    "One prominent application of QAOA is to solve the weighted MaxCut problem, which may be used as a clustering technique - see, for example, https://arxiv.org/abs/1712.05771.\n",
    "\n",
    "The pairwise distance between a given pair of data points in a dataset is used as the weight on the corresponding graph, and enters the Hamiltonian as the corresponding coupling coefficient between the corresponding qubits.\n",
    "\n",
    "In the following, we demo a typical QAOA MaxCut workflow, using simple toy data generated by the `gaussian_2Dclusters` function."
   ]
  },
  {
   "cell_type": "markdown",
   "metadata": {},
   "source": [
    "<a id='gaussian_2Dclusters'></a>\n",
    "\n",
    "#### Cluster generation and distance calculations\n",
    "\n",
    " Let's create a data set of two clusters, where the points in each cluster follow Gaussian statistics."
   ]
  },
  {
   "cell_type": "code",
   "execution_count": 9,
   "metadata": {},
   "outputs": [
    {
     "data": {
      "image/png": "[encoded data removed]",
      "text/plain": [
       "<Figure size 432x288 with 1 Axes>"
      ]
     },
     "metadata": {
      "needs_background": "light"
     },
     "output_type": "display_data"
    }
   ],
   "source": [
    "n_clusters = 2 # Number of clusters we want \n",
    "n_points = [3,3] # Number of data points in each cluster\n",
    "means = [[0,0], [2,2]] # Cluster means (the [x,y] coordinates of each cluster centre)\n",
    "\n",
    "# Covariance matrix: we will use the same one for each of the two clusters here,\n",
    "# but more generally they could be different\n",
    "cov_matrix = [[0.1, 0], [0, 0.1]] \n",
    "cov_matrices = [cov_matrix,cov_matrix]\n",
    "\n",
    "cluster_data = gaussian_2Dclusters(n_clusters,n_points,means,cov_matrices)\n",
    "plot_cluster_data(cluster_data)"
   ]
  },
  {
   "cell_type": "markdown",
   "metadata": {},
   "source": [
    "Now let's set up the MaxCut problem. We can compute the pairwise distances of the points in the dataset using the `distances_dataset` function. Here we will use the Euclidean distance, but more generally we can ask for any distance metric included in Scipy's `cdist` __[function](https://docs.scipy.org/doc/scipy/reference/generated/scipy.spatial.distance.cdist.html)__."
   ]
  },
  {
   "cell_type": "code",
   "execution_count": 10,
   "metadata": {
    "scrolled": true
   },
   "outputs": [
    {
     "data": {
      "text/plain": [
       "array([[0.        , 0.0928152 , 0.64539519, 2.91793707, 2.65912758,\n",
       "        2.48702648],\n",
       "       [0.0928152 , 0.        , 0.60046743, 2.82514018, 2.56645119,\n",
       "        2.3948008 ],\n",
       "       [0.64539519, 0.60046743, 0.        , 2.6150959 , 2.34189082,\n",
       "        2.27602728],\n",
       "       [2.91793707, 2.82514018, 2.6150959 , 0.        , 0.27577242,\n",
       "        0.55545359],\n",
       "       [2.65912758, 2.56645119, 2.34189082, 0.27577242, 0.        ,\n",
       "        0.4559914 ],\n",
       "       [2.48702648, 2.3948008 , 2.27602728, 0.55545359, 0.4559914 ,\n",
       "        0.        ]])"
      ]
     },
     "execution_count": 10,
     "metadata": {},
     "output_type": "execute_result"
    }
   ],
   "source": [
    "dists = distances_dataset(cluster_data, metric='euclidean')\n",
    "dists"
   ]
  },
  {
   "cell_type": "markdown",
   "metadata": {},
   "source": [
    "<a id='hamiltonian_from_distance_matrix'></a>\n",
    "\n",
    "#### Distance datasets to Hamiltonians"
   ]
  },
  {
   "cell_type": "code",
   "execution_count": 11,
   "metadata": {},
   "outputs": [
    {
     "name": "stdout",
     "output_type": "stream",
     "text": [
      "(0.09281520497021586+0j)*Z0*Z1 + (0.6453951878406835+0j)*Z0*Z2 + (2.9179370675061205+0j)*Z0*Z3 + (2.6591275783448705+0j)*Z0*Z4 + (2.4870264775764266+0j)*Z0*Z5 + (0.6004674258903535+0j)*Z1*Z2 + (2.8251401808825025+0j)*Z1*Z3 + (2.5664511943706447+0j)*Z1*Z4 + (2.3948008044986184+0j)*Z1*Z5 + (2.6150959036545016+0j)*Z2*Z3 + (2.341890817051279+0j)*Z2*Z4 + (2.2760272808453164+0j)*Z2*Z5 + (0.275772423761364+0j)*Z3*Z4 + (0.5554535936854069+0j)*Z3*Z5 + (0.455991403282831+0j)*Z4*Z5\n"
     ]
    }
   ],
   "source": [
    "hData = hamiltonian_from_distance_matrix(dists)\n",
    "print(hData)"
   ]
  },
  {
   "cell_type": "markdown",
   "metadata": {},
   "source": [
    "<a id='miscellaneous'></a>\n",
    "\n",
    "## More miscellanous utilities\n",
    "\n",
    "For completeness sake, we also demonstrate the missing utilities that are best characterised by \"miscellaneous\"."
   ]
  },
  {
   "cell_type": "markdown",
   "metadata": {},
   "source": [
    "<a id='prepare_classical_state'></a>\n",
    "\n",
    "#### Use different initial states for QAOA\n",
    "\n",
    "If you want to use an initial state different from $\\left|+ \\cdots +\\right>$ for QAOA you can do so, by passing a state preparation program for the `initial_state` argument of the QAOA cost functions. For classical states $\\left|10 \\cdots 10\\right>$ these programs cane be created via `prepare_classical_state`"
   ]
  },
  {
   "cell_type": "code",
   "execution_count": 12,
   "metadata": {},
   "outputs": [
    {
     "name": "stdout",
     "output_type": "stream",
     "text": [
      "X 0\n",
      "X 2\n",
      "X 4\n",
      "\n"
     ]
    }
   ],
   "source": [
    "register = [0, 1, 2, 3, 4, 5]  # the register to create the state on\n",
    "state = [1, 0, 1, 0, 1, 0]     # the |42> state\n",
    "\n",
    "prepare42_circuit = prepare_classical_state(register, state)\n",
    "print(prepare42_circuit)"
   ]
  },
  {
   "cell_type": "markdown",
   "metadata": {},
   "source": [
    "<a id='max_probability_bitstring'></a>\n",
    "\n",
    "#### Get the bitstring corresponding to the maximum probability state\n",
    "\n",
    "`max_probability_bitstring` returns the bitstring corresponding to the maximum probability state of a wavefunction. Let us use `opt_wf` from above, to demo it:"
   ]
  },
  {
   "cell_type": "code",
   "execution_count": 13,
   "metadata": {},
   "outputs": [
    {
     "name": "stdout",
     "output_type": "stream",
     "text": [
      "[0, 1, 0, 1]\n"
     ]
    }
   ],
   "source": [
    "probs = np.exp(-np.linspace(-5, 10, 16)**2)      # just an array of length 16\n",
    "probs = probs/probs.sum()         # normalize\n",
    "max_prob_state = max_probability_bitstring(probs)\n",
    "print(max_prob_state)"
   ]
  },
  {
   "cell_type": "markdown",
   "metadata": {},
   "source": [
    "<a id='evaluate_state'></a>\n",
    "\n",
    "#### Get accuracy scores for QAOA results\n",
    "\n",
    "`evaluate_state` gives accuary scores for a QAOA result, if the true solution is known."
   ]
  },
  {
   "cell_type": "code",
   "execution_count": 14,
   "metadata": {},
   "outputs": [
    {
     "name": "stdout",
     "output_type": "stream",
     "text": [
      "True Labels of samples: [1, 1, 0, 0]\n",
      "Lowest QAOA State: [0, 1, 0, 1]\n",
      "Accuracy of Original State: 50.0 %\n",
      "Accuracy of Complement State: 50.0 %\n"
     ]
    }
   ],
   "source": [
    "evaluate_state(max_prob_state, true_labels=[1, 1, 0, 0])"
   ]
  },
  {
   "cell_type": "markdown",
   "metadata": {},
   "source": [
    "<a id='plot_probabilities'></a>\n",
    "\n",
    "#### Get nice plots of probabilties\n",
    "\n",
    "If the true energies of all states are known, we can also obtain a nice side by side plot of the energies and probabilites using `plot_probabilities`."
   ]
  },
  {
   "cell_type": "code",
   "execution_count": 15,
   "metadata": {},
   "outputs": [
    {
     "data": {
      "image/png": "[encoded data removed]",
      "text/plain": [
       "<Figure size 432x288 with 1 Axes>"
      ]
     },
     "metadata": {
      "needs_background": "light"
     },
     "output_type": "display_data"
    }
   ],
   "source": [
    "energies = np.sin(np.linspace(0, 10, 16))\n",
    "plot_probabilities(probs, energies)"
   ]
  },
  {
   "cell_type": "markdown",
   "metadata": {},
   "source": [
    "<a id='qaoa_clustering'></a>\n",
    "\n",
    "## All in action: Using QAOA to solve MaxCut for the clustering problem\n",
    "\n",
    "Now that we have the Hamiltonian, we can go ahead and run the QAOA to check that the points are clustered correctly. We will use the `ExtendedParams` class, and three timesteps (p=3). We don't include any single-qubit bias terms."
   ]
  },
  {
   "cell_type": "code",
   "execution_count": 16,
   "metadata": {},
   "outputs": [
    {
     "name": "stdout",
     "output_type": "stream",
     "text": [
      "Hyperparameters:\n",
      "\tregister: [0, 1, 2, 3, 4, 5]\n",
      "\tqubits_singles: []\n",
      "\tqubits_pairs: [[0, 1], [0, 2], [0, 3], [0, 4], [0, 5], [1, 2], [1, 3], [1, 4], [1, 5], [2, 3], [2, 4], [2, 5], [3, 4], [3, 5], [4, 5]]\n",
      "Parameters:\n",
      "\tbetas: [[0.52719876 0.03628354 0.22532909 0.15434509 0.47384494 0.76614397], [0.68664149 0.17022186 0.11599815 0.34307056 0.24518663 0.524559  ], [0.0535427  0.58747925 0.06518588 0.8477193  0.58491979 0.85537769]]\n",
      "\tgammas_singles: []\n",
      "\tgammas_pairs: [[7.63916374e-01 1.32377261e-01 4.10690272e-01 3.25929361e-01,  2.92866905e-02 6.88768449e-01 9.91876287e-01 5.23485358e-01,  1.71721986e-01 4.93137407e-01 7.65930395e-04 1.32542905e-01,  7.20747806e-01 6.72338598e-02 3.80830908e-02], [9.26407982e-01 6.79570311e-01 7.19750211e-01 3.14100462e-01,  8.89639244e-01 8.87842441e-01 2.91000719e-02 9.05412575e-02,  1.25592709e-01 2.04014099e-01 9.55799347e-01 7.52786851e-01,  3.18731961e-02 8.82688725e-01 4.46933938e-03], [9.12616783e-01 8.01066400e-01 5.07825915e-01 4.58784220e-01,  6.32152528e-01 5.69109395e-01 4.62169000e-01 6.63034634e-01,  7.57942434e-01 3.80840658e-01 2.00105917e-01 8.88553559e-01,  1.48560110e-01 4.42615642e-01 2.44809329e-01]]\n",
      "\n"
     ]
    }
   ],
   "source": [
    "n_qubits = 6\n",
    "p = 3\n",
    "\n",
    "# Specify some angles\n",
    "betas = np.random.rand(n_qubits,p)\n",
    "gammas_singles = []\n",
    "gammas_pairs = np.random.rand(len(hData),p)\n",
    "parameters = (betas,gammas_singles,gammas_pairs)\n",
    "\n",
    "extended_params = ExtendedParams([hData,p],parameters)\n",
    "print(extended_params)"
   ]
  },
  {
   "cell_type": "code",
   "execution_count": 17,
   "metadata": {},
   "outputs": [
    {
     "data": {
      "text/plain": [
       "     fun: -10.182322386990965\n",
       "   maxcv: 0.0\n",
       " message: 'Maximum number of function evaluations has been exceeded.'\n",
       "    nfev: 200\n",
       "  status: 2\n",
       " success: False\n",
       "       x: array([ 1.60814384, -0.22359309,  1.01477994,  0.15098146,  0.4907011 ,\n",
       "        0.35429045,  0.68925224,  0.18047957,  0.11115843,  1.35536778,\n",
       "        0.24000901,  0.52218388,  0.05742596,  0.59440117,  0.06123525,\n",
       "        0.85485463,  0.68034272,  0.95777763,  0.76623625,  0.1305937 ,\n",
       "        0.43367472,  0.30833577,  0.92246969,  0.62531614,  0.96663992,\n",
       "        0.5624071 ,  0.19297119,  0.47452785, -0.0315344 ,  0.08999887,\n",
       "        0.72445917,  0.08711342,  0.04180988,  0.9435114 ,  0.55650044,\n",
       "        0.79008644,  0.30316601,  0.90309253,  0.92188835,  0.00622918,\n",
       "        0.04451906,  0.23822638, -0.04404182,  0.92105507,  0.77396378,\n",
       "        0.14632761,  0.92512272, -0.12366453,  1.1450231 ,  0.76301448,\n",
       "        0.57380878,  0.42147427,  1.53111631,  1.04580901,  1.45792847,\n",
       "        0.69445324,  0.75106401,  0.31801081,  0.19879063,  0.8785107 ,\n",
       "        1.68437471,  0.53787965,  0.15282924])"
      ]
     },
     "execution_count": 17,
     "metadata": {},
     "output_type": "execute_result"
    }
   ],
   "source": [
    "# NOTE - the optimiser will reach its maximum number of iterations, but for the parameters being used here,\n",
    "# the choice maxiter=200 seems to be more than sufficient to get to the optimum with high probability.\n",
    "\n",
    "cost_function = QAOACostFunctionOnWFSim(hData,\n",
    "                                        params=extended_params,\n",
    "                                        scalar_cost_function=False)\n",
    "\n",
    "res = minimize(cost_function, extended_params.raw(),\n",
    "               tol=1e-3, method=\"Cobyla\", options={\"maxiter\": 200})\n",
    "res"
   ]
  },
  {
   "cell_type": "code",
   "execution_count": 18,
   "metadata": {},
   "outputs": [
    {
     "data": {
      "text/plain": [
       "<BarContainer object of 64 artists>"
      ]
     },
     "execution_count": 18,
     "metadata": {},
     "output_type": "execute_result"
    },
    {
     "data": {
      "image/png": "[encoded data removed]",
      "text/plain": [
       "<Figure size 432x288 with 1 Axes>"
      ]
     },
     "metadata": {
      "needs_background": "light"
     },
     "output_type": "display_data"
    }
   ],
   "source": [
    "opt_wfn = cost_function.get_wavefunction(res.x)\n",
    "probs = opt_wfn.probabilities()\n",
    "plt.bar(range(len(probs)), probs)"
   ]
  },
  {
   "cell_type": "markdown",
   "metadata": {},
   "source": [
    "Now get the string corresponding to the optimal solution. The `argmax` function will return the first of the two degenerate solutions. As expected, we find that the first three qubits are in one class, and the second three qubits in another (this is the way the data was constructed)."
   ]
  },
  {
   "cell_type": "code",
   "execution_count": 19,
   "metadata": {},
   "outputs": [
    {
     "data": {
      "text/plain": [
       "'111000'"
      ]
     },
     "execution_count": 19,
     "metadata": {},
     "output_type": "execute_result"
    }
   ],
   "source": [
    "optimal_string = np.argmax(probs)\n",
    "\"{0:06b}\".format(optimal_string)"
   ]
  },
  {
   "cell_type": "markdown",
   "metadata": {},
   "source": [
    "We can check that the other optimal solution found is the complement bitstring, i.e. 111000:"
   ]
  },
  {
   "cell_type": "code",
   "execution_count": 20,
   "metadata": {},
   "outputs": [
    {
     "data": {
      "text/plain": [
       "'000111'"
      ]
     },
     "execution_count": 20,
     "metadata": {},
     "output_type": "execute_result"
    }
   ],
   "source": [
    "probs[optimal_string] = 0 # Sets the solution 000111 to have zero probability\n",
    "optimal_string_complement = np.argmax(probs)\n",
    "\"{0:06b}\".format(optimal_string_complement)"
   ]
  },
  {
   "cell_type": "markdown",
   "metadata": {},
   "source": [
    "<a id='ring_of_disagrees'></a>\n",
    "\n",
    "## Another example: The Ring of disagrees\n",
    "\n",
    "The Ring of Diasgrees is a 2-regular graph on a given number of nodes $n$. The ground state has energy $-n$ for even $n$, and $-n+1$ for odd $n$.\n",
    "\n",
    "In the paper that originally introduced the QAOA ([Ref 1](#references)), it was shown that this graph is a simple example of how the approximation ratio returned by QAOA can be made arbitrarily close to 1 by increasing the parameter $p$. For the MaxCut problem, the optimal cost function value returned for a given $n$ and $p$ was found to be \n",
    "$$\n",
    "C(n,p) = \\left(\\frac{2p + 1}{2p + 2}\\right)n\n",
    "$$\n",
    "This result assumes the `StandardParams` parameterisation, and that the graph is unweighted (all edge weights equal to 1). Here we verify this result using the `ring_of_disagrees` function."
   ]
  },
  {
   "cell_type": "code",
   "execution_count": 21,
   "metadata": {},
   "outputs": [
    {
     "data": {
      "image/png": "[encoded data removed]",
      "text/plain": [
       "<Figure size 432x288 with 1 Axes>"
      ]
     },
     "metadata": {},
     "output_type": "display_data"
    }
   ],
   "source": [
    "n_nodes = 8\n",
    "h_disagrees = ring_of_disagrees(n_nodes)\n",
    "g_disagrees = graph_from_hamiltonian(h_disagrees)\n",
    "plot_graph(g_disagrees)"
   ]
  },
  {
   "cell_type": "code",
   "execution_count": 22,
   "metadata": {},
   "outputs": [],
   "source": [
    "p_vals = np.arange(1,5) # p range to consider\n",
    "output_val = np.zeros((len(p_vals),))\n",
    "\n",
    "for i in p_vals:\n",
    "    \n",
    "    # Initialise angles\n",
    "    betas = np.random.rand(i)\n",
    "    gammas_singles = np.zeros((i,)) # Remove this when issue is fixed\n",
    "    gammas_pairs = np.random.rand(i)\n",
    "    parameters = (betas, gammas_singles, gammas_pairs)\n",
    "    \n",
    "    # Set up (hyper)parameters\n",
    "    diasagrees_params = StandardParams([h_disagrees,i],parameters)\n",
    "    \n",
    "    # Cost function and optimisation\n",
    "    cost_function = QAOACostFunctionOnWFSim(h_disagrees,\n",
    "                                            params=diasagrees_params,\n",
    "                                            scalar_cost_function=True,\n",
    "                                            nshots=0)\n",
    "    \n",
    "    res = minimize(cost_function, diasagrees_params.raw(),\n",
    "                   tol=1e-3, method=\"BFGS\", options={\"maxiter\": 500})\n",
    "    \n",
    "    output_val[i-1] = res.fun - 0.5*len(h_disagrees) # The second term here comes from the identity part \n",
    "                                                     # of the MaxCut operator"
   ]
  },
  {
   "cell_type": "markdown",
   "metadata": {},
   "source": [
    "Since we have 8 qubits, according to Farhi's formula we should find the maximum energy to be $-8 \\cdot (3/4,5/6,7/8,9/10) = -(6, 6.67, 7, 7.2)$ for $p = (1,2,3,4)$:"
   ]
  },
  {
   "cell_type": "code",
   "execution_count": 23,
   "metadata": {},
   "outputs": [
    {
     "data": {
      "text/plain": [
       "array([-6.        , -6.66666667, -7.        , -7.99999999])"
      ]
     },
     "execution_count": 23,
     "metadata": {},
     "output_type": "execute_result"
    }
   ],
   "source": [
    "output_val"
   ]
  },
  {
   "cell_type": "markdown",
   "metadata": {},
   "source": [
    "The lowest energy state corresponds to the situation where neighbouring qubits have opposite orientations:"
   ]
  },
  {
   "cell_type": "code",
   "execution_count": 27,
   "metadata": {},
   "outputs": [
    {
     "name": "stdout",
     "output_type": "stream",
     "text": [
      "[0, 1, 0, 1, 0, 1, 0, 1]\n"
     ]
    }
   ],
   "source": [
    "wf = cost_function.get_wavefunction(res.x)\n",
    "probs = wf.probabilities()\n",
    "print(max_probability_bitstring(probs))"
   ]
  },
  {
   "cell_type": "markdown",
   "metadata": {},
   "source": [
    "<a id='references'></a>\n",
    "\n",
    "## References\n",
    "\n",
    "1. E. Farhi et al, __[*A Quantum Approximate Optimization Algorithm*](https://arxiv.org/abs/1411.4028)__"
   ]
  },
  {
   "cell_type": "code",
   "execution_count": null,
   "metadata": {},
   "outputs": [],
   "source": []
  }
 ],
 "metadata": {
  "kernelspec": {
   "display_name": "Python 3",
   "language": "python",
   "name": "python3"
  },
  "language_info": {
   "codemirror_mode": {
    "name": "ipython",
    "version": 3
   },
   "file_extension": ".py",
   "mimetype": "text/x-python",
   "name": "python",
   "nbconvert_exporter": "python",
   "pygments_lexer": "ipython3",
   "version": "3.7.4"
  }
 },
 "nbformat": 4,
 "nbformat_minor": 2
}
