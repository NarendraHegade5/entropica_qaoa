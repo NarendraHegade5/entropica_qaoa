{
 "cells": [
  {
   "cell_type": "markdown",
   "metadata": {},
   "source": [
    "<a id='qaoa-workflow-demo'></a>\n",
    "\n",
    "# First steps: An example workflow\n",
    "\n",
    "This section provides a walkthrough of a simple example workflow, and is intended as a quick introduction to the functionalities of the EntropicaQAOA package. More elaborate examples are provided in other sections of the documentation."
   ]
  },
  {
   "cell_type": "markdown",
   "metadata": {
    "tags": [
     "hide_all"
    ]
   },
   "source": [
    "## Contents\n",
    "1. [Creating the problem instance](#creating_a_hamiltonian)\n",
    "2. [Setting up the parameters](#setup_parameters)\n",
    "3. [Creating a cost function](#cost_function)\n",
    "4. [Optimising the paramters](#optimisation)\n",
    "5. [An alternative parametrisation](#outlook)"
   ]
  },
  {
   "cell_type": "markdown",
   "metadata": {},
   "source": [
    "When running the code in any of these documentation files, you will need to start Rigetti's Wavefunction Simulator and the Quil Compiler by typing `qvm -S` and `quilc -S` in two open and disposable terminal windows. Assuming you have previously installed the Forest SDK, the Quantum Virtual Machine will then open in the background. More information on installing and running the QVM can be found in Rigetti's __[Forest documentation](http://docs.rigetti.com/en/stable/start.html)__. \n",
    "\n",
    "To begin, we import all the neccesary bits and pieces:"
   ]
  },
  {
   "cell_type": "code",
   "execution_count": 1,
   "metadata": {},
   "outputs": [],
   "source": [
    "# The usual combination of numpy, matplotlib and scipy.optimize.minimize\n",
    "import numpy as np\n",
    "import matplotlib.pyplot as plt\n",
    "from scipy.optimize import minimize\n",
    "\n",
    "# The neccesary pyquil modules\n",
    "from pyquil.api import local_qvm, WavefunctionSimulator\n",
    "from pyquil.paulis import PauliSum, PauliTerm\n",
    "from pyquil.unitary_tools import lifted_pauli\n",
    "\n",
    "# The QAOAParameters that we want to demo\n",
    "from entropica_qaoa.qaoa.parameters import (AbstractParams,\n",
    "                                            StandardParams,\n",
    "                                            ExtendedParams,\n",
    "                                            QAOAParameterIterator)\n",
    "\n",
    "# import VQE and cost function modules\n",
    "from entropica_qaoa.qaoa.cost_function import QAOACostFunctionOnQVM, QAOACostFunctionOnWFSim\n",
    "\n",
    "# import utilities for conversion between graphs and hamiltonians\n",
    "from entropica_qaoa.utilities import (hamiltonian_from_graph,\n",
    "                                      random_k_regular_graph,\n",
    "                                      plot_graph,\n",
    "                                      plot_probabilities)\n",
    "\n",
    "# supress warnings from networkx\n",
    "import warnings\n",
    "warnings.filterwarnings('ignore')"
   ]
  },
  {
   "cell_type": "markdown",
   "metadata": {},
   "source": [
    "<a id='creating_a_hamiltonian'></a>\n",
    "\n",
    "## Creating  a problem instance\n",
    "\n",
    "We begin by setting up a simple problem instance. We will demonstrate how to use QAOA to solve the MaxCut problem on a graph with three nodes and weighted edges. We can create the graph as follows: "
   ]
  },
  {
   "cell_type": "code",
   "execution_count": 2,
   "metadata": {},
   "outputs": [
    {
     "data": {
      "image/png": "[encoded data removed]",
      "text/plain": [
       "<Figure size 432x288 with 1 Axes>"
      ]
     },
     "metadata": {},
     "output_type": "display_data"
    }
   ],
   "source": [
    "graph = random_k_regular_graph(degree=2, nodes=range(3), seed=42, weighted=True, biases=True)\n",
    "plot_graph(graph)"
   ]
  },
  {
   "cell_type": "markdown",
   "metadata": {},
   "source": [
    "The function `random_k_regular_graph` is one of several utility methods we provide. This also illustrates how EntropicaQAOA directly integrates functionality from the `NetworkX` package for graph analysis. For more information on NetworkX, refer to its documentation  __[here](https://networkx.github.io/documentation/stable/)__.\n",
    "\n",
    "To solve the MaxCut problem for this graph using QAOA, we have to translate the graph to a Hamiltonian, which corresponds to the cost function. We can readily achieve this conversion using the `hamiltonian_from_graph` method:"
   ]
  },
  {
   "cell_type": "code",
   "execution_count": 3,
   "metadata": {},
   "outputs": [
    {
     "name": "stdout",
     "output_type": "stream",
     "text": [
      "(0.5986584841970366+0j)*Z0 + (0.15601864044243652+0j)*Z1 + (0.15599452033620265+0j)*Z2 + (0.3745401188473625+0j)*Z0*Z1 + (0.9507143064099162+0j)*Z0*Z2 + (0.7319939418114051+0j)*Z1*Z2\n"
     ]
    }
   ],
   "source": [
    "hamiltonian = hamiltonian_from_graph(graph)\n",
    "print(hamiltonian)"
   ]
  },
  {
   "cell_type": "markdown",
   "metadata": {},
   "source": [
    "\n",
    "**Further documentation**\n",
    "\n",
    "More information on the creation of hamiltonians and graphs is provided in `QAOAUtilities.ipynb`."
   ]
  },
  {
   "cell_type": "markdown",
   "metadata": {},
   "source": [
    "<a id='setup_parameters'></a>\n",
    "## Specifying the parameters to be optimised: the QAOA Parameter classes\n",
    "\n",
    "Having established the problem Hamiltonian, we next set up our chosen circuit parametrisation. There are a range of different choices available in EntropicaQAOA, which are demonstrated in detail in `2_ParameterClasses.ipynb` and `3_AdvancedParameterClasses.ipynb`. \n",
    "\n",
    "For this Notebook we will use the `StandardParams` parametrisation. As the name suggests, this corresponds to the most commonly used parametrisation, and is the one originally introduced by Farhi et al in [Ref 1](#references). Here, the mixer and cost Hamiltonians each have one angle per timestep, giving a total of $2p$ parameters to optimise over.\n",
    "\n",
    "In this example, we will choose $p=2$, and initalise the angles `gammas` and `betas` with simple (but uninspired!) values. Besides the initial values of these angles, we must also provide the problem *hyperparameters*, which, unlike the `gammas` and `betas`, are unchanged throughout the optimisation procedure. The hyperparameters here are the Hamiltonian, and the number of timesteps $p$. "
   ]
  },
  {
   "cell_type": "code",
   "execution_count": 4,
   "metadata": {},
   "outputs": [
    {
     "name": "stdout",
     "output_type": "stream",
     "text": [
      "Hyperparameters:\n",
      "\tregister: [0, 1, 2]\n",
      "\tqubits_singles: [0, 1, 2]\n",
      "\tqubits_pairs: [[0, 1], [0, 2], [1, 2]]\n",
      "Parameters:\n",
      "\tbetas: [0.1 0.6]\n",
      "\tgammas: [0.4 0.5]\n",
      "\n"
     ]
    }
   ],
   "source": [
    "timesteps = 2 # this is the usual QAOA p parameter\n",
    "hyperparameters = (hamiltonian, timesteps)\n",
    "\n",
    "# Specify some angles. We have p=2, so we need two betas and two gammas\n",
    "betas = [0.1, 0.6]\n",
    "gammas = [0.4, 0.5]\n",
    "parameters = (betas, gammas)\n",
    "\n",
    "standard_params = StandardParams(hyperparameters, parameters)\n",
    "print(standard_params)"
   ]
  },
  {
   "cell_type": "markdown",
   "metadata": {},
   "source": [
    "**Further documentation**\n",
    "\n",
    "To learn all about the different parametrisations, the various ways to create parameter objects automatically, and how to manipulate them, refer to `2_ParameterClasses.ipynb`"
   ]
  },
  {
   "cell_type": "markdown",
   "metadata": {},
   "source": [
    "<a id='cost_function'></a>\n",
    "\n",
    "## Creating the cost function\n",
    "\n",
    "With the problem and our parametrisation now defined, we next create a cost function that we can pass to a minimiser of our choice (e.g. `scipy.optimize.minimize`). To work seamlessly with most typical optimisers, this cost function needs to take in an array of values (the initial values of the parameters we want to optimise), and output a single number (the corresponding value of the objective function). We provide two such classes of cost functions for the QAOA: `QAOACostFunctionOnWFSim`, which is used with the Wavefunction Simulator; and `QAOACostFunctionOnQVM`, which is used with a QVM or QPU. For the purposes of this example we will use the Wavefunction Simulator, since it is faster and returns exact expectation values (as opposed to sampled estimates of it)."
   ]
  },
  {
   "cell_type": "code",
   "execution_count": 5,
   "metadata": {},
   "outputs": [],
   "source": [
    "# set up the cost function\n",
    "cost_function = QAOACostFunctionOnWFSim(hamiltonian, params=standard_params)"
   ]
  },
  {
   "cell_type": "markdown",
   "metadata": {},
   "source": [
    "**Implementation note and further documentation**\n",
    "\n",
    "It may seem somewhat unconventional that one should need to specify parameters (such as `standard_params` above) to construct a cost function. However, this design choice simplifies the conversion of the input variable parameters to the actual rotation angles that are executed in the quantum circuit. Moreover, one is unlikely to be working with a cost function object in isolation: for optimisation, a set of parameters is always created at the same time to pass into the cost function. \n",
    "\n",
    "Note also that it is not necessary to actually specify values for the angles, as we have done above. We provide several methods for automatically setting up parameter values, as demonstrated in `2_ParameterClasses.ipynb`.\n",
    "\n",
    "In `4_CostFunctionsAndVQE.ipynb` we demonstrate the usage of `QAOACostFunctionOnQVM`. This also showcases more advanced usages of the cost functions, including how to make logs of the function calls, and how to introduce fake sampling noise for more realistic simulations of QAOA."
   ]
  },
  {
   "cell_type": "markdown",
   "metadata": {},
   "source": [
    "<a id='optimisation'></a>\n",
    "\n",
    "## Optimising the parameters\n",
    "\n",
    "Now that we have a cost function and some initial parameters, we can use a minimiser of our choice – in this case `scipy.optimize.minimize` – to optimise the parameters:"
   ]
  },
  {
   "cell_type": "code",
   "execution_count": 6,
   "metadata": {},
   "outputs": [
    {
     "data": {
      "text/plain": [
       "     fun: -1.1381074861256129\n",
       "   maxcv: 0.0\n",
       " message: 'Optimization terminated successfully.'\n",
       "    nfev: 80\n",
       "  status: 1\n",
       " success: True\n",
       "       x: array([0.5075231 , 0.2640147 , 0.41118043, 0.85510375])"
      ]
     },
     "execution_count": 6,
     "metadata": {},
     "output_type": "execute_result"
    }
   ],
   "source": [
    "res = minimize(cost_function, standard_params.raw(), tol=1e-3,\n",
    "               options={\"maxiter\": 500}, method=\"Cobyla\")\n",
    "res"
   ]
  },
  {
   "cell_type": "markdown",
   "metadata": {},
   "source": [
    "We can check this against the exact value by finding the lowest eigenvalue of `hamiltonian`."
   ]
  },
  {
   "cell_type": "code",
   "execution_count": 7,
   "metadata": {},
   "outputs": [
    {
     "data": {
      "text/plain": [
       "(-1.9068507336772291+0j)"
      ]
     },
     "execution_count": 7,
     "metadata": {},
     "output_type": "execute_result"
    }
   ],
   "source": [
    "ham_matrix = lifted_pauli(hamiltonian, hamiltonian.get_qubits())\n",
    "eigs = np.linalg.eigvals(ham_matrix)\n",
    "min(eigs)"
   ]
  },
  {
   "cell_type": "markdown",
   "metadata": {},
   "source": [
    "Evidently, we have not found the ground state exactly. We can examine the probability of measuring each energy eigenstate, along with the corresponding energies, as follows:\n",
    "\n",
    "- Obtain the output wavefunction using `cost_function.get_wavefunction()`\n",
    "- Generate a bar plot to compare the energies of each of the states and their respective probabilities. We do this using the`plot_probabilities()` method, contained in `entropica_qaoa.utilities`. This produces a plot of the negative of each energy (i.e. each energy multiplied by $-1$), side by side with the probability. States with high values of $-1\\times energy$ should therefore coincide with high probabilities."
   ]
  },
  {
   "cell_type": "code",
   "execution_count": 8,
   "metadata": {},
   "outputs": [
    {
     "data": {
      "image/png": "[encoded data removed]",
      "text/plain": [
       "<Figure size 432x288 with 1 Axes>"
      ]
     },
     "metadata": {
      "needs_background": "light"
     },
     "output_type": "display_data"
    }
   ],
   "source": [
    "probabilities = cost_function.get_wavefunction(standard_params.raw()).probabilities()\n",
    "energies = np.diag(ham_matrix)\n",
    "\n",
    "plot_probabilities(probabilities, energies)"
   ]
  },
  {
   "cell_type": "markdown",
   "metadata": {},
   "source": [
    "Evidently the state with the lowest energy (largest negative energy) corresponds to the state with the largest measurement probability, however there is still some contribution from sub-optimal solutions. To do better, we can try increasing the number of timesteps to $p=3$:"
   ]
  },
  {
   "cell_type": "code",
   "execution_count": 9,
   "metadata": {},
   "outputs": [
    {
     "data": {
      "text/plain": [
       "     fun: -1.314786957284364\n",
       "   maxcv: 0.0\n",
       " message: 'Optimization terminated successfully.'\n",
       "    nfev: 158\n",
       "  status: 1\n",
       " success: True\n",
       "       x: array([0.56818343, 0.50366739, 0.28841164, 0.45952564, 0.84483075,\n",
       "       0.88324141])"
      ]
     },
     "execution_count": 9,
     "metadata": {},
     "output_type": "execute_result"
    }
   ],
   "source": [
    "betas          = [0.1, 0.6, 0.8]\n",
    "gammas_singles = [0.4, 0.5, 0.6]\n",
    "gammas_pairs   = [0.1, 0.3, 0.5]\n",
    "parameters = (betas, gammas_singles, gammas_pairs)\n",
    "\n",
    "standard_params_p3 = StandardParams([hamiltonian,3],parameters)\n",
    "\n",
    "cost_function = QAOACostFunctionOnWFSim(hamiltonian,params=standard_params_p3)\n",
    "\n",
    "res = minimize(cost_function, standard_params_p3.raw(), tol=1e-3,\n",
    "                      options={\"maxiter\": 500}, method=\"Cobyla\")\n",
    "res"
   ]
  },
  {
   "cell_type": "markdown",
   "metadata": {},
   "source": [
    "This is an improvement, but still not the actual ground state. The following section gives a brief introduction to the use of an alternate parametrisation, `ExtendedParams`, which is more expressive, and hence may naively be expected to give better results."
   ]
  },
  {
   "cell_type": "markdown",
   "metadata": {},
   "source": [
    "<a id='outlook'></a>\n",
    "## An alternative parametrisation\n",
    "\n",
    "Here we will set up `ExtendedParams` directly from our existing set of `StandardParams`, making use of EntropicaQAOA's parameter conversion methods."
   ]
  },
  {
   "cell_type": "code",
   "execution_count": 10,
   "metadata": {},
   "outputs": [
    {
     "data": {
      "text/plain": [
       "     fun: -1.8970669808663276\n",
       "   maxcv: 0.0\n",
       " message: 'Maximum number of function evaluations has been exceeded.'\n",
       "    nfev: 500\n",
       "  status: 2\n",
       " success: False\n",
       "       x: array([ 0.33606758,  0.10134483,  0.92856431,  0.71982022,  0.50953751,\n",
       "        0.95264686,  0.26597692,  0.33826225,  0.65283808,  0.47696191,\n",
       "        2.09234295, -0.11489466,  0.96109444,  2.42346351,  0.17229808,\n",
       "        0.67969652,  2.19743182,  2.12489277,  0.27564749,  0.48927321,\n",
       "        0.47138807,  0.98226176,  0.75037525,  0.63263085,  0.70727788,\n",
       "        0.85679038,  0.60966477])"
      ]
     },
     "execution_count": 10,
     "metadata": {},
     "output_type": "execute_result"
    }
   ],
   "source": [
    "extended_params_p3 = ExtendedParams.from_other_parameters(standard_params_p3)\n",
    "\n",
    "cost_function = QAOACostFunctionOnWFSim(hamiltonian,params=extended_params_p3)\n",
    "\n",
    "res = minimize(cost_function, extended_params_p3.raw(), tol=1e-3,\n",
    "                      options={\"maxiter\": 500}, method=\"Cobyla\")\n",
    "res"
   ]
  },
  {
   "cell_type": "markdown",
   "metadata": {},
   "source": [
    "Clearly now we have found a much better ground state energy. The result attribute `x` is a list of the optimal circuit parameters that have been found. We can disentangle this into the `betas` and `gammas` of our QAOA parameterisation by using the `update_from_raw()` method:"
   ]
  },
  {
   "cell_type": "code",
   "execution_count": 11,
   "metadata": {},
   "outputs": [
    {
     "data": {
      "text/plain": [
       "Hyperparameters:\n",
       "\tregister: [0, 1, 2]\n",
       "\tqubits_singles: [0, 1, 2]\n",
       "\tqubits_pairs: [[0, 1], [0, 2], [1, 2]]\n",
       "Parameters:\n",
       "\tbetas: [[0.33606758 0.10134483 0.92856431], [0.71982022 0.50953751 0.95264686], [0.26597692 0.33826225 0.65283808]]\n",
       "\tgammas_singles: [[ 0.47696191  2.09234295 -0.11489466], [ 0.96109444  2.42346351  0.17229808], [ 0.67969652  2.19743182  2.12489277]]\n",
       "\tgammas_pairs: [[0.27564749 0.48927321 0.47138807], [0.98226176 0.75037525 0.63263085], [0.70727788 0.85679038 0.60966477]]"
      ]
     },
     "execution_count": 11,
     "metadata": {},
     "output_type": "execute_result"
    }
   ],
   "source": [
    "extended_params_p3.update_from_raw(res['x'])\n",
    "extended_params_p3"
   ]
  },
  {
   "cell_type": "markdown",
   "metadata": {},
   "source": [
    "Now that we have the optimal angles, we can prepare the corresponding state and sample from it to obtain the most probable bitstring. \n",
    "\n",
    "In this notebook we are using the wavefunction simulator, which allows us to 'cheat' and easily obtain any observable quantity without the need to sample. We use the `get_wavefunction` method of the `cost_function` to obtain the wavefunction, then compute the corresponding probabilities, and plot a bar graph of the outcomes:"
   ]
  },
  {
   "cell_type": "code",
   "execution_count": 12,
   "metadata": {},
   "outputs": [
    {
     "name": "stdout",
     "output_type": "stream",
     "text": [
      "(-0.00716914+0.0018323639j)|000> + (0.0063983618+0.0119885383j)|001> + (-0.0007095101-0.0008425164j)|010> + (0.1794862787+0.9796596921j)|011> + (0.065484157+0.0103568406j)|100> + (0.0403429137+0.041279573j)|101> + (0.0047927286+0.0007375605j)|110> + (0.007280748+0.0027231625j)|111>\n"
     ]
    }
   ],
   "source": [
    "opt_wfn = cost_function.get_wavefunction(res.x)\n",
    "print(opt_wfn)"
   ]
  },
  {
   "cell_type": "code",
   "execution_count": 13,
   "metadata": {},
   "outputs": [
    {
     "data": {
      "text/plain": [
       "array([5.47541258e-05, 1.84664083e-04, 1.21323848e-06, 9.91948437e-01,\n",
       "       4.39543897e-03, 3.33155383e-03, 2.35142433e-05, 6.04249059e-05])"
      ]
     },
     "execution_count": 13,
     "metadata": {},
     "output_type": "execute_result"
    }
   ],
   "source": [
    "probs = opt_wfn.probabilities()\n",
    "probs"
   ]
  },
  {
   "cell_type": "code",
   "execution_count": 14,
   "metadata": {},
   "outputs": [
    {
     "data": {
      "image/png": "[encoded data removed]",
      "text/plain": [
       "<Figure size 432x288 with 1 Axes>"
      ]
     },
     "metadata": {
      "needs_background": "light"
     },
     "output_type": "display_data"
    }
   ],
   "source": [
    "labels = [r'$\\left|{0:03b}\\right>$'.format(i) for i in range(8)]\n",
    "plt.bar(range(8),probs)\n",
    "plt.xticks(range(8), labels);"
   ]
  },
  {
   "cell_type": "markdown",
   "metadata": {},
   "source": [
    "The QAOA has determined that the bitstring 011 (the number 3 in decimal) is the minimum energy solution with essentially unit probability. Let's check this is consistent with the real answer:"
   ]
  },
  {
   "cell_type": "code",
   "execution_count": 15,
   "metadata": {},
   "outputs": [
    {
     "data": {
      "text/plain": [
       "(array([ 2.96792001+0.j, -0.87990581+0.j,  0.44281461+0.j, -1.90685073+0.j,\n",
       "        -0.70948553+0.j, -0.75445412+0.j, -0.30661516+0.j,  1.14657672+0.j]),\n",
       " array([[1.+0.j, 0.+0.j, 0.+0.j, 0.+0.j, 0.+0.j, 0.+0.j, 0.+0.j, 0.+0.j],\n",
       "        [0.+0.j, 1.+0.j, 0.+0.j, 0.+0.j, 0.+0.j, 0.+0.j, 0.+0.j, 0.+0.j],\n",
       "        [0.+0.j, 0.+0.j, 1.+0.j, 0.+0.j, 0.+0.j, 0.+0.j, 0.+0.j, 0.+0.j],\n",
       "        [0.+0.j, 0.+0.j, 0.+0.j, 1.+0.j, 0.+0.j, 0.+0.j, 0.+0.j, 0.+0.j],\n",
       "        [0.+0.j, 0.+0.j, 0.+0.j, 0.+0.j, 1.+0.j, 0.+0.j, 0.+0.j, 0.+0.j],\n",
       "        [0.+0.j, 0.+0.j, 0.+0.j, 0.+0.j, 0.+0.j, 1.+0.j, 0.+0.j, 0.+0.j],\n",
       "        [0.+0.j, 0.+0.j, 0.+0.j, 0.+0.j, 0.+0.j, 0.+0.j, 1.+0.j, 0.+0.j],\n",
       "        [0.+0.j, 0.+0.j, 0.+0.j, 0.+0.j, 0.+0.j, 0.+0.j, 0.+0.j, 1.+0.j]]))"
      ]
     },
     "execution_count": 15,
     "metadata": {},
     "output_type": "execute_result"
    }
   ],
   "source": [
    "np.linalg.eig(ham_matrix)"
   ]
  },
  {
   "cell_type": "markdown",
   "metadata": {},
   "source": [
    "The lowest energy solution does indeed correspond to the eigenvector $(0,0,0,1,0,0,0,0)$, i.e. the $|011\\rangle$ component. \n",
    "\n",
    "Suppose that we return to the original Hamiltonian, but instead we remove the single-qubit bias terms. Let's run the computation again and see what result we find. This time we'll set up `ExtendedParams` using the `empty()` method, which means we don't need to explicitly provide initial values for the `gammas` and `betas`."
   ]
  },
  {
   "cell_type": "code",
   "execution_count": 16,
   "metadata": {},
   "outputs": [
    {
     "data": {
      "image/png": "[encoded data removed]",
      "text/plain": [
       "<Figure size 432x288 with 1 Axes>"
      ]
     },
     "metadata": {
      "needs_background": "light"
     },
     "output_type": "display_data"
    }
   ],
   "source": [
    "term1 = PauliTerm(\"Z\", 0, 0.7) * PauliTerm(\"Z\", 1)\n",
    "term2 = PauliTerm(\"Z\", 0, 1.2) * PauliTerm(\"Z\", 2)\n",
    "\n",
    "hamiltonian_unbiased = PauliSum([term1, term2])\n",
    "n_steps = 2\n",
    "\n",
    "params_unbiased = ExtendedParams.empty((hamiltonian_unbiased,n_steps))\n",
    "\n",
    "cost_function_unbiased = QAOACostFunctionOnWFSim(hamiltonian_unbiased, params=params_unbiased)\n",
    "\n",
    "res_unbiased = minimize(cost_function_unbiased,\n",
    "                        np.zeros(len(params_unbiased)),\n",
    "                        tol=1e-3, options={\"maxiter\":500},\n",
    "                        method=\"Cobyla\")\n",
    "\n",
    "opt_wfn_unbiased = cost_function_unbiased.get_wavefunction(res_unbiased.x)\n",
    "probs_unbiased = opt_wfn_unbiased.probabilities()\n",
    "\n",
    "labels = [r'$\\left|{0:03b}\\right>$'.format(i) for i in range(8)]\n",
    "plt.bar(range(8),probs_unbiased)\n",
    "plt.xticks(range(8), labels);"
   ]
  },
  {
   "cell_type": "markdown",
   "metadata": {},
   "source": [
    "Now the probabilities are completely symmetric under a bit flip on all qubits - there is no bias term in the Hamiltonian to force a given qubit into state $|0\\rangle$ or $|1\\rangle$, and the eigenspectrum of the cost function Hamiltonian is \"doubly degenerate\", i.e. the energy eigenstates fall into pairs, where the corresponding eigenstates are related to one another by a bit flip on all qubits. \n",
    "\n",
    "**Further documentation**\n",
    "\n",
    "Further information and examples of setting up the different types of parameters may be found in `QAOAParameterDemo` and `AdvancedQAOAParameterDemo`."
   ]
  },
  {
   "cell_type": "markdown",
   "metadata": {},
   "source": [
    "<a id='references'></a>\n",
    "\n",
    "## References\n",
    "\n",
    "1. E. Farhi et al, __[*A Quantum Approximate Optimization Algorithm*](https://arxiv.org/abs/1411.4028)__"
   ]
  },
  {
   "cell_type": "code",
   "execution_count": null,
   "metadata": {},
   "outputs": [],
   "source": []
  }
 ],
 "metadata": {
  "kernelspec": {
   "display_name": "Python 3",
   "language": "python",
   "name": "python3"
  },
  "language_info": {
   "codemirror_mode": {
    "name": "ipython",
    "version": 3
   },
   "file_extension": ".py",
   "mimetype": "text/x-python",
   "name": "python",
   "nbconvert_exporter": "python",
   "pygments_lexer": "ipython3",
   "version": "3.7.3"
  }
 },
 "nbformat": 4,
 "nbformat_minor": 4
}
