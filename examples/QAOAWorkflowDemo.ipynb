{
 "cells": [
  {
   "cell_type": "markdown",
   "metadata": {},
   "source": [
    "# An example workflow of the QAOA package\n",
    "\n",
    "This notebook walks through a simple example workflow, and is intended as a quick introduction to the functionalities of the package. More elaborate examples are provided in other notebooks."
   ]
  },
  {
   "cell_type": "code",
   "execution_count": 1,
   "metadata": {},
   "outputs": [],
   "source": [
    "import numpy as np\n",
    "import matplotlib.pyplot as plt\n",
    "from scipy.optimize import minimize\n",
    "\n",
    "# import the neccesary pyquil modules\n",
    "from pyquil.api import local_qvm, WavefunctionSimulator\n",
    "from pyquil.paulis import PauliSum, PauliTerm\n",
    "from pyquil.unitary_tools import lifted_pauli\n",
    "\n",
    "# import the QAOAParameters that we want to demo\n",
    "from entropica_qaoa.qaoa.parameters import (AbstractParams, StandardParams, ExtendedParams,\n",
    "                                         QAOAParameterIterator)\n",
    "\n",
    "# import VQE and cost function modules\n",
    "from entropica_qaoa.qaoa.cost_function import QAOACostFunctionOnQVM, QAOACostFunctionOnWFSim"
   ]
  },
  {
   "cell_type": "markdown",
   "metadata": {},
   "source": [
    "## Set up the problem hyperparameters\n",
    "\n",
    "We start by setting up the Hamiltonian encoding the cost function we wish to minimise, as well as the timesteps to run QAOA. We do so by first using the `AbstractParams` class, however we could just as easily set up any specific parametrisation directly -- see the notebook `QAOAParameterDemo.ipynb` for more details. "
   ]
  },
  {
   "cell_type": "code",
   "execution_count": 2,
   "metadata": {},
   "outputs": [
    {
     "name": "stdout",
     "output_type": "stream",
     "text": [
      "hamiltonian = (0.7+0j)*Z0*Z1 + (1.2+0j)*Z0*Z2 + (-0.5+0j)*Z0\n",
      "Hyperparameters:\n",
      "\tregister: [0, 1, 2]\n",
      "\tqubits_singles: [0]\n",
      "\tsingle_qubit_coeffs: [-0.5]\n",
      "\tqubits_pairs: [[0, 1], [0, 2]]\n",
      "\tpair_qubit_coeffs: [0.7 1.2]\n",
      "\tn_steps: 2\n",
      "\n"
     ]
    }
   ],
   "source": [
    "hamiltonian = []\n",
    "hamiltonian.append(PauliTerm(\"Z\", 0, 0.7)*PauliTerm(\"Z\", 1))\n",
    "hamiltonian.append(PauliTerm(\"Z\", 0, 1.2)*PauliTerm(\"Z\", 2))\n",
    "hamiltonian.append(PauliTerm(\"Z\", 0, -0.5))\n",
    "hamiltonian = PauliSum(hamiltonian)\n",
    "print(\"hamiltonian =\", hamiltonian)\n",
    "\n",
    "timesteps = 2\n",
    "abstract_params = AbstractParams([hamiltonian,timesteps])\n",
    "print(abstract_params)"
   ]
  },
  {
   "cell_type": "markdown",
   "metadata": {},
   "source": [
    "## Specfify the variable parameters and create corresponding `QAOAParameters` object\n",
    "\n",
    "Here we will set up `StandardParameters` - this corresponds to the parametrisation of the original QAOA paper by Farhi et al, where the mixer and cost Hamiltonian each have one angle per timestep (giving a total of 2p parameters to optimise over)."
   ]
  },
  {
   "cell_type": "code",
   "execution_count": 3,
   "metadata": {},
   "outputs": [
    {
     "name": "stdout",
     "output_type": "stream",
     "text": [
      "Hyperparameters:\n",
      "\tregister: [0, 1, 2]\n",
      "\tqubits_singles: [0]\n",
      "\tqubits_pairs: [[0, 1], [0, 2]]\n",
      "Parameters:\n",
      "\tbetas: [0.1 0.6]\n",
      "\tgammas: [0.4 0.5]\n",
      "\n"
     ]
    }
   ],
   "source": [
    "# Specify some angles\n",
    "betas = [0.1, 0.6]\n",
    "gammas = [0.4, 0.5]\n",
    "parameters = (betas, gammas)\n",
    "\n",
    "standard_params = StandardParams.from_AbstractParameters(abstract_params, parameters)\n",
    "print(standard_params)"
   ]
  },
  {
   "cell_type": "markdown",
   "metadata": {},
   "source": [
    "## Set up the cost function and running the optimiser"
   ]
  },
  {
   "cell_type": "markdown",
   "metadata": {},
   "source": [
    "For simplicity here, we will work on the wavefunction simulator, which requires opening the QVM and Quil Compiler.\n",
    "Open two separate terminal windows, typing `qvm -S` in one, and `quilc -S` in the other. If you have installed the Forest SDK, the Quantum Virtual Machine will start in the background. More information on installing and running the QVM can be found in Rigetti's __[Forest documentation](http://docs.rigetti.com/en/stable/start.html)__. "
   ]
  },
  {
   "cell_type": "code",
   "execution_count": 4,
   "metadata": {},
   "outputs": [],
   "source": [
    "# Set up the WavefunctionSimulator object\n",
    "sim = WavefunctionSimulator()"
   ]
  },
  {
   "cell_type": "markdown",
   "metadata": {},
   "source": [
    "We now create the `cost_function` object, with all the necessary inputs. In the notebook `VQEDemo.ipynb` we give more detail and illustration of the uasge of the `scalar_cost_function`, `noisy` and `enable_logging` features; in this notebook, we will not make use of them."
   ]
  },
  {
   "cell_type": "code",
   "execution_count": 5,
   "metadata": {},
   "outputs": [
    {
     "data": {
      "text/plain": [
       "      fun: -1.7154095396254412\n",
       " hess_inv: array([[ 0.0830568 ,  0.03328284, -0.01703522,  0.00809966],\n",
       "       [ 0.03328284,  0.07835203, -0.01554634,  0.00493801],\n",
       "       [-0.01703522, -0.01554634,  0.10263509,  0.02494807],\n",
       "       [ 0.00809966,  0.00493801,  0.02494807,  0.1303328 ]])\n",
       "      jac: array([-1.07899308e-04,  2.46793032e-04,  1.92970037e-05, -3.48538160e-05])\n",
       "  message: 'Optimization terminated successfully.'\n",
       "     nfev: 126\n",
       "      nit: 16\n",
       "     njev: 21\n",
       "   status: 0\n",
       "  success: True\n",
       "        x: array([0.4952357 , 0.26456877, 0.42861577, 0.78512534])"
      ]
     },
     "execution_count": 5,
     "metadata": {},
     "output_type": "execute_result"
    }
   ],
   "source": [
    "# set up the cost function\n",
    "cost_function = QAOACostFunctionOnWFSim(hamiltonian,\n",
    "                                        params=standard_params,\n",
    "                                        sim=sim,\n",
    "                                        scalar_cost_function=True, # See VQEDemo.ipynb for more details\n",
    "                                        nshots=1,                  # irrelevant, if noisy=False\n",
    "                                        noisy=False,               # See VQEDemo.ipynb for more details\n",
    "                                        enable_logging=False)\n",
    "\n",
    "# and optimize the parameters\n",
    "res = minimize(cost_function, standard_params.raw(), tol=1e-3,\n",
    "                      options={\"maxiter\": 500})\n",
    "res"
   ]
  },
  {
   "cell_type": "markdown",
   "metadata": {},
   "source": [
    "We can check this against the value we should get, by finding the lowest eigenvalue of `hamiltonian`."
   ]
  },
  {
   "cell_type": "code",
   "execution_count": 6,
   "metadata": {},
   "outputs": [
    {
     "data": {
      "text/plain": [
       "(-2.4+0j)"
      ]
     },
     "execution_count": 6,
     "metadata": {},
     "output_type": "execute_result"
    }
   ],
   "source": [
    "ham_matrix = lifted_pauli(hamiltonian,hamiltonian.get_qubits())\n",
    "eigs = np.linalg.eigvals(ham_matrix)\n",
    "min(eigs)"
   ]
  },
  {
   "cell_type": "markdown",
   "metadata": {},
   "source": [
    "Clearly we have not found the ground state energy. We can try increasing the number of timesteps:"
   ]
  },
  {
   "cell_type": "code",
   "execution_count": 7,
   "metadata": {},
   "outputs": [],
   "source": [
    "betas          = [0.1, 0.6, 0.8]\n",
    "gammas_singles = [0.4, 0.5, 0.6]\n",
    "gammas_pairs   = [0.1, 0.3, 0.5]\n",
    "parameters = (betas, gammas_singles, gammas_pairs)\n",
    "\n",
    "standard_params_p3 = StandardParams([hamiltonian,3],parameters)"
   ]
  },
  {
   "cell_type": "code",
   "execution_count": 8,
   "metadata": {},
   "outputs": [
    {
     "data": {
      "text/plain": [
       "      fun: -1.9556233482561467\n",
       " hess_inv: array([[ 0.0831613 ,  0.04448419,  0.03471919, -0.0170294 , -0.0080001 ,\n",
       "        -0.00480396],\n",
       "       [ 0.04448419,  0.09979178,  0.05655973, -0.00272076,  0.00327948,\n",
       "        -0.01337178],\n",
       "       [ 0.03471919,  0.05655973,  0.09356553,  0.00548783,  0.00431584,\n",
       "        -0.00112389],\n",
       "       [-0.0170294 , -0.00272076,  0.00548783,  0.19939433,  0.13690652,\n",
       "         0.08379491],\n",
       "       [-0.0080001 ,  0.00327948,  0.00431584,  0.13690652,  0.17252557,\n",
       "         0.07257511],\n",
       "       [-0.00480396, -0.01337178, -0.00112389,  0.08379491,  0.07257511,\n",
       "         0.16000797]])\n",
       "      jac: array([ 2.63422728e-04,  1.73509121e-04, -1.90749764e-04,  2.13459134e-04,\n",
       "       -1.99094415e-04,  8.55326653e-05])\n",
       "  message: 'Optimization terminated successfully.'\n",
       "     nfev: 328\n",
       "      nit: 30\n",
       "     njev: 41\n",
       "   status: 0\n",
       "  success: True\n",
       "        x: array([0.64276829, 0.43356982, 0.24545528, 0.39828893, 0.75863776,\n",
       "       0.81549836])"
      ]
     },
     "execution_count": 8,
     "metadata": {},
     "output_type": "execute_result"
    }
   ],
   "source": [
    "sim = WavefunctionSimulator()\n",
    "\n",
    "cost_function = QAOACostFunctionOnWFSim(hamiltonian,\n",
    "                                        params=standard_params_p3,\n",
    "                                        sim=sim,\n",
    "                                        scalar_cost_function=True,\n",
    "                                        nshots=10,\n",
    "                                        noisy=False)\n",
    "\n",
    "res = minimize(cost_function, standard_params_p3.raw(), tol=1e-3,\n",
    "                      options={\"maxiter\": 500})\n",
    "res"
   ]
  },
  {
   "cell_type": "markdown",
   "metadata": {},
   "source": [
    "This is better, but still not the actual ground state. Since we don't seem to be doing very well with `StandardParams`, let's try the `ExtendedParams` parametrisation instead."
   ]
  },
  {
   "cell_type": "code",
   "execution_count": 9,
   "metadata": {},
   "outputs": [
    {
     "data": {
      "text/plain": [
       "      fun: -2.399999915959698\n",
       " hess_inv: array([[ 5.05787978e-01,  5.72094158e-03, -1.82635731e-01,\n",
       "        -1.20663368e-01, -3.21693552e-03,  9.07614331e-02,\n",
       "        -2.06461797e-02,  4.85457045e-02, -4.54641730e-04,\n",
       "         1.21534068e-01, -6.84552975e-05, -2.74013653e-02,\n",
       "         2.13407661e-02, -8.14576104e-03,  3.17570006e-02,\n",
       "         1.83793401e-02, -4.04760896e-02, -1.58318517e-02],\n",
       "       [ 5.72094158e-03,  1.00832660e+00, -2.45431480e-02,\n",
       "        -1.70039434e-02,  3.90925846e-02,  2.71892266e-02,\n",
       "        -5.28373936e-03,  7.37284072e-02,  1.29413788e-02,\n",
       "         1.50813924e-01,  1.42653600e-02, -6.46662090e-03,\n",
       "         2.74021318e-02,  5.39331318e-03,  2.13728922e-02,\n",
       "        -4.56587897e-03,  1.33986321e-02,  2.18125746e-03],\n",
       "       [-1.82635731e-01, -2.45431480e-02,  9.44819430e-01,\n",
       "         1.13539323e-01, -3.88848506e-02,  8.48333807e-03,\n",
       "         8.65188718e-03, -3.52237541e-02,  5.21093506e-02,\n",
       "        -1.41150605e-01, -2.61385239e-02, -1.56595358e-04,\n",
       "        -5.79821021e-02,  2.50874080e-02, -1.48936513e-02,\n",
       "         6.76421434e-02, -7.34246266e-02, -4.66787278e-02],\n",
       "       [-1.20663368e-01, -1.70039434e-02,  1.13539323e-01,\n",
       "         3.12683239e-01, -2.19617023e-02, -1.45898396e-01,\n",
       "         4.93400546e-02, -4.00922123e-02,  4.51709740e-03,\n",
       "        -3.02292081e-01, -7.74594722e-03,  1.28901994e-02,\n",
       "        -3.85202936e-03,  8.60768999e-03, -1.75034433e-03,\n",
       "        -2.66748059e-02,  2.32324628e-02,  8.06031860e-04],\n",
       "       [-3.21693552e-03,  3.90925846e-02, -3.88848506e-02,\n",
       "        -2.19617023e-02,  8.19522106e-01,  5.07234162e-03,\n",
       "         2.52186875e-02, -2.40034091e-01, -1.59428667e-02,\n",
       "         4.59134579e-02,  1.56799625e-02, -1.57125022e-02,\n",
       "         1.94035283e-02,  4.48913410e-03,  3.95565353e-02,\n",
       "         4.46598112e-02,  1.66514222e-01, -1.49243096e-02],\n",
       "       [ 9.07614331e-02,  2.71892266e-02,  8.48333807e-03,\n",
       "        -1.45898396e-01,  5.07234162e-03,  8.65412413e-01,\n",
       "         8.55129429e-02,  3.50600076e-02,  2.67044166e-03,\n",
       "         3.67774717e-01,  5.77250012e-02, -1.39475424e-02,\n",
       "         2.36024669e-03, -1.42690154e-01, -4.50578507e-03,\n",
       "         2.69166317e-02,  4.54515470e-02,  3.11204524e-01],\n",
       "       [-2.06461797e-02, -5.28373936e-03,  8.65188718e-03,\n",
       "         4.93400546e-02,  2.52186875e-02,  8.55129429e-02,\n",
       "         1.23403359e-01, -2.40087051e-02, -1.09469827e-02,\n",
       "        -4.92612548e-02, -2.93135025e-02,  1.25829763e-02,\n",
       "         4.77496490e-03, -5.37656808e-03, -2.98305258e-02,\n",
       "         1.29303666e-02,  3.94382653e-02,  3.10220050e-02],\n",
       "       [ 4.85457045e-02,  7.37284072e-02, -3.52237541e-02,\n",
       "        -4.00922123e-02, -2.40034091e-01,  3.50600076e-02,\n",
       "        -2.40087051e-02,  4.60667496e-01, -3.71258699e-02,\n",
       "         4.72363023e-02,  3.41380337e-02, -2.24182994e-02,\n",
       "         5.21429295e-03, -1.45708851e-02, -2.15598340e-01,\n",
       "         3.34745314e-02,  3.72894008e-02,  4.54775583e-04],\n",
       "       [-4.54641730e-04,  1.29413788e-02,  5.21093506e-02,\n",
       "         4.51709740e-03, -1.59428667e-02,  2.67044166e-03,\n",
       "        -1.09469827e-02, -3.71258699e-02,  6.49645804e-01,\n",
       "         1.38032844e-01,  1.86229450e-02,  8.64772711e-03,\n",
       "        -2.58037844e-02, -3.28390526e-02, -6.03136758e-02,\n",
       "        -4.47931352e-01,  1.54746863e-02,  1.15604719e-01],\n",
       "       [ 1.21534068e-01,  1.50813924e-01, -1.41150605e-01,\n",
       "        -3.02292081e-01,  4.59134579e-02,  3.67774717e-01,\n",
       "        -4.92612548e-02,  4.72363023e-02,  1.38032844e-01,\n",
       "         2.41211922e+00,  2.00187906e-01, -6.75408231e-02,\n",
       "        -2.90681225e-02, -3.41584008e-02, -1.25288261e-01,\n",
       "        -1.06236405e-01,  1.43904748e-01,  1.39055496e-01],\n",
       "       [-6.84552975e-05,  1.42653600e-02, -2.61385239e-02,\n",
       "        -7.74594722e-03,  1.56799625e-02,  5.77250012e-02,\n",
       "        -2.93135025e-02,  3.41380337e-02,  1.86229450e-02,\n",
       "         2.00187906e-01,  1.02379887e+00, -8.04974144e-03,\n",
       "        -2.63418714e-03,  1.31263387e-02, -8.15870558e-03,\n",
       "        -2.32069622e-02,  1.22585167e-02,  1.32636069e-02],\n",
       "       [-2.74013653e-02, -6.46662090e-03, -1.56595358e-04,\n",
       "         1.28901994e-02, -1.57125022e-02, -1.39475424e-02,\n",
       "         1.25829763e-02, -2.24182994e-02,  8.64772711e-03,\n",
       "        -6.75408231e-02, -8.04974144e-03,  1.00146402e+00,\n",
       "        -1.23582052e-02, -1.59906102e-02, -2.78978655e-03,\n",
       "         1.89690819e-02, -1.31602638e-02, -1.27354294e-02],\n",
       "       [ 2.13407661e-02,  2.74021318e-02, -5.79821021e-02,\n",
       "        -3.85202936e-03,  1.94035283e-02,  2.36024669e-03,\n",
       "         4.77496490e-03,  5.21429295e-03, -2.58037844e-02,\n",
       "        -2.90681225e-02, -2.63418714e-03, -1.23582052e-02,\n",
       "         4.50316735e-01, -8.88470904e-03, -1.17252839e-02,\n",
       "         5.02731230e-02,  1.08710373e-02, -2.14893711e-02],\n",
       "       [-8.14576104e-03,  5.39331318e-03,  2.50874080e-02,\n",
       "         8.60768999e-03,  4.48913410e-03, -1.42690154e-01,\n",
       "        -5.37656808e-03, -1.45708851e-02, -3.28390526e-02,\n",
       "        -3.41584008e-02,  1.31263387e-02, -1.59906102e-02,\n",
       "        -8.88470904e-03,  1.19828466e-01,  2.76689842e-02,\n",
       "         4.46391761e-02, -3.42679945e-02, -4.96725985e-02],\n",
       "       [ 3.17570006e-02,  2.13728922e-02, -1.48936513e-02,\n",
       "        -1.75034433e-03,  3.95565353e-02, -4.50578507e-03,\n",
       "        -2.98305258e-02, -2.15598340e-01, -6.03136758e-02,\n",
       "        -1.25288261e-01, -8.15870558e-03, -2.78978655e-03,\n",
       "        -1.17252839e-02,  2.76689842e-02,  7.16000208e-01,\n",
       "         3.09731823e-04, -2.31210548e-01,  1.08145230e-02],\n",
       "       [ 1.83793401e-02, -4.56587897e-03,  6.76421434e-02,\n",
       "        -2.66748059e-02,  4.46598112e-02,  2.69166317e-02,\n",
       "         1.29303666e-02,  3.34745314e-02, -4.47931352e-01,\n",
       "        -1.06236405e-01, -2.32069622e-02,  1.89690819e-02,\n",
       "         5.02731230e-02,  4.46391761e-02,  3.09731823e-04,\n",
       "         4.54236584e-01,  1.63348537e-02, -1.22181603e-01],\n",
       "       [-4.04760896e-02,  1.33986321e-02, -7.34246266e-02,\n",
       "         2.32324628e-02,  1.66514222e-01,  4.54515470e-02,\n",
       "         3.94382653e-02,  3.72894008e-02,  1.54746863e-02,\n",
       "         1.43904748e-01,  1.22585167e-02, -1.31602638e-02,\n",
       "         1.08710373e-02, -3.42679945e-02, -2.31210548e-01,\n",
       "         1.63348537e-02,  7.16236427e-01,  6.43187490e-04],\n",
       "       [-1.58318517e-02,  2.18125746e-03, -4.66787278e-02,\n",
       "         8.06031860e-04, -1.49243096e-02,  3.11204524e-01,\n",
       "         3.10220050e-02,  4.54775583e-04,  1.15604719e-01,\n",
       "         1.39055496e-01,  1.32636069e-02, -1.27354294e-02,\n",
       "        -2.14893711e-02, -4.96725985e-02,  1.08145230e-02,\n",
       "        -1.22181603e-01,  6.43187490e-04,  3.22788838e-01]])\n",
       "      jac: array([-2.39074230e-04,  2.98023224e-08,  2.98023224e-08,  4.21822071e-04,\n",
       "        2.48551369e-05,  4.64618206e-05, -1.63674355e-04,  9.72151756e-05,\n",
       "        1.60336494e-04,  1.37090683e-05,  5.96046448e-08, -1.19209290e-07,\n",
       "       -9.99867916e-05, -3.83883715e-04,  7.99894333e-05,  1.65075064e-04,\n",
       "        4.63426113e-05, -8.51750374e-05])\n",
       "  message: 'Optimization terminated successfully.'\n",
       "     nfev: 420\n",
       "      nit: 15\n",
       "     njev: 21\n",
       "   status: 0\n",
       "  success: True\n",
       "        x: array([ 7.85150721e-01,  5.78113676e-01,  5.60062559e-01,  2.08726814e-04,\n",
       "        3.51731556e-01,  6.75368797e-01,  2.38622521e-05,  5.81870585e-01,\n",
       "        5.79186798e-01,  1.57066498e+00,  5.55242783e-01,  5.43684195e-01,\n",
       "       -1.92060188e-05, -3.33305894e-05,  4.70546077e-01,  1.76387089e-01,\n",
       "        7.41111075e-01,  6.13634390e-01])"
      ]
     },
     "execution_count": 9,
     "metadata": {},
     "output_type": "execute_result"
    }
   ],
   "source": [
    "extended_params_p3 = ExtendedParams.linear_ramp_from_hamiltonian(hamiltonian, n_steps=3)\n",
    "\n",
    "cost_function = QAOACostFunctionOnWFSim(hamiltonian,\n",
    "                                        params=extended_params_p3,\n",
    "                                        sim=sim,\n",
    "                                        scalar_cost_function=True,\n",
    "                                        nshots=1,\n",
    "                                        noisy=False)\n",
    "\n",
    "res = minimize(cost_function, extended_params_p3.raw(), tol=1e-3,\n",
    "                      options={\"maxiter\": 500})\n",
    "res"
   ]
  },
  {
   "cell_type": "markdown",
   "metadata": {},
   "source": [
    "Clearly now we have found a much better ground state energy. The result attribute `x` is a list of the optimal circuit parameters that have been found. We can disentangle this into the `betas` and `gammas` of our QAOA parameterisation by using the `update_from_raw()` method:"
   ]
  },
  {
   "cell_type": "code",
   "execution_count": 10,
   "metadata": {},
   "outputs": [
    {
     "data": {
      "text/plain": [
       "Hyperparameters:\n",
       "\tregister: [0, 1, 2]\n",
       "\tqubits_singles: [0]\n",
       "\tqubits_pairs: [[0, 1], [0, 2]]\n",
       "Parameters:\n",
       "\tbetas: [[7.85150721e-01 5.78113676e-01 5.60062559e-01], [2.08726814e-04 3.51731556e-01 6.75368797e-01], [2.38622521e-05 5.81870585e-01 5.79186798e-01]]\n",
       "\tgammas_singles: [[1.57066498], [0.55524278], [0.54368419]]\n",
       "\tgammas_pairs: [[-1.92060188e-05 -3.33305894e-05], [ 4.70546077e-01  1.76387089e-01], [ 7.41111075e-01  6.13634390e-01]]"
      ]
     },
     "execution_count": 10,
     "metadata": {},
     "output_type": "execute_result"
    }
   ],
   "source": [
    "extended_params_p3.update_from_raw(res['x'])\n",
    "extended_params_p3"
   ]
  },
  {
   "cell_type": "markdown",
   "metadata": {},
   "source": [
    "Now that we have the optimal angles, we can prepare the corresponding state and sample from it to obtain the most probable bitstring. \n",
    "\n",
    "In this notebook we are using the wavefunction simulator, which allows us to 'cheat' and easily obtain any observable quantity without the need to sample. We use the `get_wavefunction` method of the `cost_function` to obtain the wavefunction, then compute the corresponding probabilities, and plot a bar graph of the outcomes:"
   ]
  },
  {
   "cell_type": "code",
   "execution_count": 11,
   "metadata": {},
   "outputs": [
    {
     "name": "stdout",
     "output_type": "stream",
     "text": [
      "(2.9e-09+1.6e-08j)|000> + (0.0001096507+4.95906e-05j)|001> + (-1.38802e-05-3.4404e-05j)|010> + (-9.73087e-05-6.87168e-05j)|011> + (2.80349e-05-3.29471e-05j)|100> + (-7.92943e-05-2.18049e-05j)|101> + (-0.9977813633-0.0665756036j)|110> + (-3.39352e-05+1.48205e-05j)|111>\n"
     ]
    }
   ],
   "source": [
    "opt_wfn = cost_function.get_wavefunction(res.x)\n",
    "print(opt_wfn)"
   ]
  },
  {
   "cell_type": "code",
   "execution_count": 12,
   "metadata": {},
   "outputs": [
    {
     "data": {
      "text/plain": [
       "array([2.62839948e-16, 1.44824897e-08, 1.37629776e-09, 1.41909770e-08,\n",
       "       1.87146411e-09, 6.76304199e-09, 9.99999960e-01, 1.37124116e-09])"
      ]
     },
     "execution_count": 12,
     "metadata": {},
     "output_type": "execute_result"
    }
   ],
   "source": [
    "probs = opt_wfn.probabilities()\n",
    "probs"
   ]
  },
  {
   "cell_type": "code",
   "execution_count": 13,
   "metadata": {},
   "outputs": [
    {
     "data": {
      "image/png": "[encoded data removed]",
      "text/plain": [
       "<Figure size 432x288 with 1 Axes>"
      ]
     },
     "metadata": {
      "needs_background": "light"
     },
     "output_type": "display_data"
    }
   ],
   "source": [
    "labels = [\"{0:03b}\".format(i) for i in range(8)]\n",
    "plt.bar(range(8),probs)\n",
    "plt.xticks(range(8), labels)\n",
    "plt.show()"
   ]
  },
  {
   "cell_type": "markdown",
   "metadata": {},
   "source": [
    "The QAOA has determined that the bitstring 110 (6 in decimal) is the minimum energy solution with essentially unit probability. Let's check this is consistent with the real answer:"
   ]
  },
  {
   "cell_type": "code",
   "execution_count": 14,
   "metadata": {},
   "outputs": [
    {
     "data": {
      "text/plain": [
       "(array([ 1.4+0.j, -1.4+0.j,  0. +0.j,  0. +0.j, -1. +0.j,  1. +0.j,\n",
       "        -2.4+0.j,  2.4+0.j]),\n",
       " array([[1.+0.j, 0.+0.j, 0.+0.j, 0.+0.j, 0.+0.j, 0.+0.j, 0.+0.j, 0.+0.j],\n",
       "        [0.+0.j, 1.+0.j, 0.+0.j, 0.+0.j, 0.+0.j, 0.+0.j, 0.+0.j, 0.+0.j],\n",
       "        [0.+0.j, 0.+0.j, 1.+0.j, 0.+0.j, 0.+0.j, 0.+0.j, 0.+0.j, 0.+0.j],\n",
       "        [0.+0.j, 0.+0.j, 0.+0.j, 1.+0.j, 0.+0.j, 0.+0.j, 0.+0.j, 0.+0.j],\n",
       "        [0.+0.j, 0.+0.j, 0.+0.j, 0.+0.j, 1.+0.j, 0.+0.j, 0.+0.j, 0.+0.j],\n",
       "        [0.+0.j, 0.+0.j, 0.+0.j, 0.+0.j, 0.+0.j, 1.+0.j, 0.+0.j, 0.+0.j],\n",
       "        [0.+0.j, 0.+0.j, 0.+0.j, 0.+0.j, 0.+0.j, 0.+0.j, 1.+0.j, 0.+0.j],\n",
       "        [0.+0.j, 0.+0.j, 0.+0.j, 0.+0.j, 0.+0.j, 0.+0.j, 0.+0.j, 1.+0.j]]))"
      ]
     },
     "execution_count": 14,
     "metadata": {},
     "output_type": "execute_result"
    }
   ],
   "source": [
    "np.linalg.eig(ham_matrix)"
   ]
  },
  {
   "cell_type": "markdown",
   "metadata": {},
   "source": [
    "The lowest energy solution does indeed correspond to the eigenvector $(0,0,0,0,0,0,1,0)$, i.e. the $|110\\rangle$ component. Suppose that we return to the original Hamiltonian, but instead we remove the single-qubit bias term on qubit 0. Let's run the computation again and see what result we find."
   ]
  },
  {
   "cell_type": "code",
   "execution_count": 15,
   "metadata": {},
   "outputs": [
    {
     "data": {
      "image/png": "[encoded data removed]",
      "text/plain": [
       "<Figure size 432x288 with 1 Axes>"
      ]
     },
     "metadata": {
      "needs_background": "light"
     },
     "output_type": "display_data"
    }
   ],
   "source": [
    "term1 = PauliTerm(\"Z\", 0, 0.7) * PauliTerm(\"Z\", 1)\n",
    "term2 = PauliTerm(\"Z\", 0, 1.2) * PauliTerm(\"Z\", 2)\n",
    "\n",
    "hamiltonian_unbiased = PauliSum([term1, term2])\n",
    "n_steps = 2\n",
    "\n",
    "params_unbiased = ExtendedParams.linear_ramp_from_hamiltonian(hamiltonian_unbiased,n_steps)\n",
    "\n",
    "cost_function_unbiased = QAOACostFunctionOnWFSim(hamiltonian_unbiased,\n",
    "                                        params=params_unbiased,\n",
    "                                        sim=sim,\n",
    "                                        nshots=1,\n",
    "                                        noisy=False)\n",
    "\n",
    "res_unbiased = minimize(cost_function_unbiased, params_unbiased.raw(), tol=1e-3, options={\"maxiter\":500})\n",
    "\n",
    "opt_wfn_unbiased = cost_function_unbiased.get_wavefunction(res_unbiased.x)\n",
    "probs_unbiased = opt_wfn_unbiased.probabilities()\n",
    "\n",
    "labels = [\"{0:03b}\".format(i) for i in range(8)]\n",
    "plt.bar(range(8),probs_unbiased)\n",
    "plt.xticks(range(8), labels)\n",
    "plt.show()"
   ]
  },
  {
   "cell_type": "markdown",
   "metadata": {},
   "source": [
    "Now the probabilities are completely symmetric under a bit flip on all qubits - there is no bias term in the Hamiltonian to force a given qubit into state $|0\\rangle$ or $|1\\rangle$, and the eigenspectrum of the cost function Hamiltonian is \"doubly degenerate\", i.e. the energy eigenstates fall into pairs, where the corresponding eigenstates are related to one another by a bit flip on all qubits. "
   ]
  }
 ],
 "metadata": {
  "kernelspec": {
   "display_name": "Python 3",
   "language": "python",
   "name": "python3"
  },
  "language_info": {
   "codemirror_mode": {
    "name": "ipython",
    "version": 3
   },
   "file_extension": ".py",
   "mimetype": "text/x-python",
   "name": "python",
   "nbconvert_exporter": "python",
   "pygments_lexer": "ipython3",
   "version": "3.7.3"
  }
 },
 "nbformat": 4,
 "nbformat_minor": 4
}
