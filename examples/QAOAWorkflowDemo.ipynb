{
 "cells": [
  {
   "cell_type": "markdown",
   "metadata": {},
   "source": [
    "### Discussion:\n",
    " - The arguments `nshots` and `scalar_cost_function` default to `0` and `True` respectively, so they don't have to be passed explicitely. Do we pass them anyways, to indicate to the user that there are some more options, or do we remove them to get shorter and easier to understand code?\n",
    " - The argument `sim` is not neccesary anymore, if it is not passed `QAOACostFunctionOnWFSim` simply gets its own simulator connection. So the same question arises here again.\n",
    " - I found, that `Nelder-Mead` (the default for scipy.optimize.minimize) gets stuck in local minima quite often (at least with) the examples in `AdvancedQAOAParameterDemo` and I needed to pass `method=\"Cobyla\"` often. Do we go with `Nelder-Mead` anyways, because the correct choice of an optimizer is a question that is more appropriate for the more advanced Notebooks?"
   ]
  },
  {
   "cell_type": "markdown",
   "metadata": {},
   "source": [
    "# An example workflow of the QAOA package\n",
    "\n",
    "This notebook walks through a simple example workflow, and is intended as a quick introduction to the functionalities of the package. More elaborate examples are provided in other notebooks."
   ]
  },
  {
   "cell_type": "code",
   "execution_count": 1,
   "metadata": {},
   "outputs": [],
   "source": [
    "import numpy as np\n",
    "import matplotlib.pyplot as plt\n",
    "from scipy.optimize import minimize\n",
    "\n",
    "# import the neccesary pyquil modules\n",
    "from pyquil.api import local_qvm, WavefunctionSimulator\n",
    "from pyquil.paulis import PauliSum, PauliTerm\n",
    "from pyquil.unitary_tools import lifted_pauli\n",
    "\n",
    "# import the QAOAParameters that we want to demo\n",
    "from entropica_qaoa.qaoa.parameters import (AbstractParams,\n",
    "                                            StandardParams,\n",
    "                                            ExtendedParams,\n",
    "                                            QAOAParameterIterator)\n",
    "\n",
    "# import VQE and cost function modules\n",
    "from entropica_qaoa.qaoa.cost_function import QAOACostFunctionOnQVM, QAOACostFunctionOnWFSim"
   ]
  },
  {
   "cell_type": "markdown",
   "metadata": {},
   "source": [
    "## Set up the problem hyperparameters\n",
    "\n",
    "We start by setting up the Hamiltonian encoding the cost function we wish to minimise, as well as the timesteps to run QAOA. We do so by first using the `AbstractParams` class, however we could just as easily set up any specific parametrisation directly -- see the notebook `QAOAParameterDemo.ipynb` for more details. "
   ]
  },
  {
   "cell_type": "code",
   "execution_count": 2,
   "metadata": {},
   "outputs": [
    {
     "name": "stdout",
     "output_type": "stream",
     "text": [
      "hamiltonian = (0.7+0j)*Z0*Z1 + (1.2+0j)*Z0*Z2 + (-0.5+0j)*Z0\n",
      "Hyperparameters:\n",
      "\tregister: [0, 1, 2]\n",
      "\tqubits_singles: [0]\n",
      "\tsingle_qubit_coeffs: [-0.5]\n",
      "\tqubits_pairs: [[0, 1], [0, 2]]\n",
      "\tpair_qubit_coeffs: [0.7 1.2]\n",
      "\tn_steps: 2\n",
      "\n"
     ]
    }
   ],
   "source": [
    "hamiltonian = []\n",
    "hamiltonian.append(PauliTerm(\"Z\", 0, 0.7)*PauliTerm(\"Z\", 1))\n",
    "hamiltonian.append(PauliTerm(\"Z\", 0, 1.2)*PauliTerm(\"Z\", 2))\n",
    "hamiltonian.append(PauliTerm(\"Z\", 0, -0.5))\n",
    "hamiltonian = PauliSum(hamiltonian)\n",
    "print(\"hamiltonian =\", hamiltonian)\n",
    "\n",
    "timesteps = 2\n",
    "abstract_params = AbstractParams([hamiltonian,timesteps])\n",
    "print(abstract_params)"
   ]
  },
  {
   "cell_type": "markdown",
   "metadata": {},
   "source": [
    "## Specfify the variable parameters and create corresponding `QAOAParameters` object\n",
    "\n",
    "Here we will set up `StandardParameters` - this corresponds to the parametrisation of the original QAOA paper by Farhi et al, where the mixer and cost Hamiltonian each have one angle per timestep (giving a total of 2p parameters to optimise over)."
   ]
  },
  {
   "cell_type": "code",
   "execution_count": 3,
   "metadata": {},
   "outputs": [
    {
     "name": "stdout",
     "output_type": "stream",
     "text": [
      "Hyperparameters:\n",
      "\tregister: [0, 1, 2]\n",
      "\tqubits_singles: [0]\n",
      "\tqubits_pairs: [[0, 1], [0, 2]]\n",
      "Parameters:\n",
      "\tbetas: [0.1 0.6]\n",
      "\tgammas: [0.4 0.5]\n",
      "\n"
     ]
    }
   ],
   "source": [
    "# Specify some angles\n",
    "betas = [0.1, 0.6]\n",
    "gammas = [0.4, 0.5]\n",
    "parameters = (betas, gammas)\n",
    "\n",
    "standard_params = StandardParams.from_AbstractParameters(abstract_params, parameters)\n",
    "print(standard_params)"
   ]
  },
  {
   "cell_type": "markdown",
   "metadata": {},
   "source": [
    "## Set up the cost function and running the optimiser"
   ]
  },
  {
   "cell_type": "markdown",
   "metadata": {},
   "source": [
    "For simplicity here, we will work on the wavefunction simulator, which requires opening the QVM and Quil Compiler.\n",
    "Open two separate terminal windows, typing `qvm -S` in one, and `quilc -S` in the other. If you have installed the Forest SDK, the Quantum Virtual Machine will start in the background. More information on installing and running the QVM can be found in Rigetti's __[Forest documentation](http://docs.rigetti.com/en/stable/start.html)__. "
   ]
  },
  {
   "cell_type": "code",
   "execution_count": 4,
   "metadata": {},
   "outputs": [],
   "source": [
    "# Set up the WavefunctionSimulator object\n",
    "sim = WavefunctionSimulator()"
   ]
  },
  {
   "cell_type": "markdown",
   "metadata": {},
   "source": [
    "We now create the `cost_function` object, with all the necessary inputs. In the notebook `VQEDemo.ipynb` we give more detail and illustration of the uasge of the `scalar_cost_function`, `noisy` and `enable_logging` features; in this notebook, we will not make use of them."
   ]
  },
  {
   "cell_type": "code",
   "execution_count": 5,
   "metadata": {},
   "outputs": [
    {
     "data": {
      "text/plain": [
       "     fun: -1.314241752490597\n",
       "   maxcv: 0.0\n",
       " message: 'Optimization terminated successfully.'\n",
       "    nfev: 134\n",
       "  status: 1\n",
       " success: True\n",
       "       x: array([ 1.23855737,  0.28695087, -0.19301388,  0.58167549])"
      ]
     },
     "execution_count": 5,
     "metadata": {},
     "output_type": "execute_result"
    }
   ],
   "source": [
    "# set up the cost function\n",
    "cost_function = QAOACostFunctionOnWFSim(hamiltonian,\n",
    "                                        params=standard_params,\n",
    "                                        sim=sim,\n",
    "                                        scalar_cost_function=True, # See VQEDemo.ipynb for more details\n",
    "                                        nshots=0,       # See VQEDemo.ipynb for more details\n",
    "                                        enable_logging=False)\n",
    "\n",
    "# and optimize the parameters\n",
    "res = minimize(cost_function, standard_params.raw(), tol=1e-3,\n",
    "                      options={\"maxiter\": 500}, method=\"Cobyla\")\n",
    "res"
   ]
  },
  {
   "cell_type": "markdown",
   "metadata": {},
   "source": [
    "We can check this against the value we should get, by finding the lowest eigenvalue of `hamiltonian`."
   ]
  },
  {
   "cell_type": "code",
   "execution_count": 6,
   "metadata": {},
   "outputs": [
    {
     "data": {
      "text/plain": [
       "(-2.4+0j)"
      ]
     },
     "execution_count": 6,
     "metadata": {},
     "output_type": "execute_result"
    }
   ],
   "source": [
    "ham_matrix = lifted_pauli(hamiltonian,hamiltonian.get_qubits())\n",
    "eigs = np.linalg.eigvals(ham_matrix)\n",
    "min(eigs)"
   ]
  },
  {
   "cell_type": "markdown",
   "metadata": {},
   "source": [
    "Clearly we have not found the ground state energy. We can try increasing the number of timesteps:"
   ]
  },
  {
   "cell_type": "code",
   "execution_count": 7,
   "metadata": {},
   "outputs": [],
   "source": [
    "betas          = [0.1, 0.6, 0.8]\n",
    "gammas_singles = [0.4, 0.5, 0.6]\n",
    "gammas_pairs   = [0.1, 0.3, 0.5]\n",
    "parameters = (betas, gammas_singles, gammas_pairs)\n",
    "\n",
    "standard_params_p3 = StandardParams([hamiltonian,3],parameters)"
   ]
  },
  {
   "cell_type": "code",
   "execution_count": 8,
   "metadata": {},
   "outputs": [
    {
     "data": {
      "text/plain": [
       "     fun: -1.5996028753869584\n",
       "   maxcv: 0.0\n",
       " message: 'Optimization terminated successfully.'\n",
       "    nfev: 91\n",
       "  status: 1\n",
       " success: True\n",
       "       x: array([0.53313931, 0.24934354, 1.48796382, 0.4948979 , 0.85173229,\n",
       "       1.73626075])"
      ]
     },
     "execution_count": 8,
     "metadata": {},
     "output_type": "execute_result"
    }
   ],
   "source": [
    "sim = WavefunctionSimulator()\n",
    "\n",
    "cost_function = QAOACostFunctionOnWFSim(hamiltonian,\n",
    "                                        params=standard_params_p3,\n",
    "                                        sim=sim,\n",
    "                                        scalar_cost_function=True,\n",
    "                                        nshots=0)\n",
    "\n",
    "res = minimize(cost_function, standard_params_p3.raw(), tol=1e-3,\n",
    "                      options={\"maxiter\": 500}, method=\"Cobyla\")\n",
    "res"
   ]
  },
  {
   "cell_type": "markdown",
   "metadata": {},
   "source": [
    "This is better, but still not the actual ground state. Since we don't seem to be doing very well with `StandardParams`, let's try the `ExtendedParams` parametrisation instead."
   ]
  },
  {
   "cell_type": "code",
   "execution_count": 9,
   "metadata": {},
   "outputs": [
    {
     "data": {
      "text/plain": [
       "     fun: -2.39998731995931\n",
       "   maxcv: 0.0\n",
       " message: 'Maximum number of function evaluations has been exceeded.'\n",
       "    nfev: 500\n",
       "  status: 2\n",
       " success: False\n",
       "       x: array([ 7.85900926e-01,  3.41615878e-01,  6.86391294e-01, -3.70906336e-05,\n",
       "        7.70054041e-01,  2.85936757e-01,  3.91713648e-04, -5.98873628e-02,\n",
       "        6.36408200e-01,  1.56419864e+00,  1.11530152e-01,  7.14734525e-02,\n",
       "        1.52386651e-05, -4.87892239e-05,  1.20451190e+00,  2.38522673e-01,\n",
       "        1.30958240e+00,  4.47177216e-01])"
      ]
     },
     "execution_count": 9,
     "metadata": {},
     "output_type": "execute_result"
    }
   ],
   "source": [
    "extended_params_p3 = ExtendedParams.linear_ramp_from_hamiltonian(hamiltonian, n_steps=3)\n",
    "\n",
    "cost_function = QAOACostFunctionOnWFSim(hamiltonian,\n",
    "                                        params=extended_params_p3,\n",
    "                                        sim=sim,\n",
    "                                        scalar_cost_function=True,\n",
    "                                        nshots=0)\n",
    "\n",
    "res = minimize(cost_function, extended_params_p3.raw(), tol=1e-3,\n",
    "                      options={\"maxiter\": 500}, method=\"Cobyla\")\n",
    "res"
   ]
  },
  {
   "cell_type": "markdown",
   "metadata": {},
   "source": [
    "Clearly now we have found a much better ground state energy. The result attribute `x` is a list of the optimal circuit parameters that have been found. We can disentangle this into the `betas` and `gammas` of our QAOA parameterisation by using the `update_from_raw()` method:"
   ]
  },
  {
   "cell_type": "code",
   "execution_count": 10,
   "metadata": {},
   "outputs": [
    {
     "data": {
      "text/plain": [
       "Hyperparameters:\n",
       "\tregister: [0, 1, 2]\n",
       "\tqubits_singles: [0]\n",
       "\tqubits_pairs: [[0, 1], [0, 2]]\n",
       "Parameters:\n",
       "\tbetas: [[ 7.85900926e-01  3.41615878e-01  6.86391294e-01], [-3.70906336e-05  7.70054041e-01  2.85936757e-01], [ 3.91713648e-04 -5.98873628e-02  6.36408200e-01]]\n",
       "\tgammas_singles: [[1.56419864], [0.11153015], [0.07147345]]\n",
       "\tgammas_pairs: [[ 1.52386651e-05 -4.87892239e-05], [ 1.20451190e+00  2.38522673e-01], [ 1.30958240e+00  4.47177216e-01]]"
      ]
     },
     "execution_count": 10,
     "metadata": {},
     "output_type": "execute_result"
    }
   ],
   "source": [
    "extended_params_p3.update_from_raw(res['x'])\n",
    "extended_params_p3"
   ]
  },
  {
   "cell_type": "markdown",
   "metadata": {},
   "source": [
    "Now that we have the optimal angles, we can prepare the corresponding state and sample from it to obtain the most probable bitstring. \n",
    "\n",
    "In this notebook we are using the wavefunction simulator, which allows us to 'cheat' and easily obtain any observable quantity without the need to sample. We use the `get_wavefunction` method of the `cost_function` to obtain the wavefunction, then compute the corresponding probabilities, and plot a bar graph of the outcomes:"
   ]
  },
  {
   "cell_type": "code",
   "execution_count": 11,
   "metadata": {},
   "outputs": [
    {
     "name": "stdout",
     "output_type": "stream",
     "text": [
      "(-1.126e-06-5.146e-07j)|000> + (-0.0014723985+0.0029947165j)|001> + (-2.33712e-05+0.0005113346j)|010> + (1.09157e-05-2.11459e-05j)|011> + (2.9239e-06+0.0002786279j)|100> + (-2.0329e-06-5.66462e-05j)|101> + (-0.4685439622+0.8834335914j)|110> + (-0.0003527883-0.0002023511j)|111>\n"
     ]
    }
   ],
   "source": [
    "opt_wfn = cost_function.get_wavefunction(res.x)\n",
    "print(opt_wfn)"
   ]
  },
  {
   "cell_type": "code",
   "execution_count": 12,
   "metadata": {},
   "outputs": [
    {
     "data": {
      "text/plain": [
       "array([1.53266824e-12, 1.11362841e-05, 2.62009278e-07, 5.66299447e-10,\n",
       "       7.76420291e-08, 3.21292867e-09, 9.99988355e-01, 1.65405532e-07])"
      ]
     },
     "execution_count": 12,
     "metadata": {},
     "output_type": "execute_result"
    }
   ],
   "source": [
    "probs = opt_wfn.probabilities()\n",
    "probs"
   ]
  },
  {
   "cell_type": "code",
   "execution_count": 17,
   "metadata": {},
   "outputs": [
    {
     "data": {
      "image/png": "[encoded data removed]",
      "text/plain": [
       "<Figure size 432x288 with 1 Axes>"
      ]
     },
     "metadata": {
      "needs_background": "light"
     },
     "output_type": "display_data"
    }
   ],
   "source": [
    "labels = [\"{0:03b}\".format(i) for i in range(8)]\n",
    "plt.bar(range(8),probs)\n",
    "plt.xticks(range(8), labels);"
   ]
  },
  {
   "cell_type": "markdown",
   "metadata": {},
   "source": [
    "The QAOA has determined that the bitstring 110 (6 in decimal) is the minimum energy solution with essentially unit probability. Let's check this is consistent with the real answer:"
   ]
  },
  {
   "cell_type": "code",
   "execution_count": 14,
   "metadata": {},
   "outputs": [
    {
     "data": {
      "text/plain": [
       "(array([ 1.4+0.j, -1.4+0.j,  0. +0.j,  0. +0.j, -1. +0.j,  1. +0.j,\n",
       "        -2.4+0.j,  2.4+0.j]),\n",
       " array([[1.+0.j, 0.+0.j, 0.+0.j, 0.+0.j, 0.+0.j, 0.+0.j, 0.+0.j, 0.+0.j],\n",
       "        [0.+0.j, 1.+0.j, 0.+0.j, 0.+0.j, 0.+0.j, 0.+0.j, 0.+0.j, 0.+0.j],\n",
       "        [0.+0.j, 0.+0.j, 1.+0.j, 0.+0.j, 0.+0.j, 0.+0.j, 0.+0.j, 0.+0.j],\n",
       "        [0.+0.j, 0.+0.j, 0.+0.j, 1.+0.j, 0.+0.j, 0.+0.j, 0.+0.j, 0.+0.j],\n",
       "        [0.+0.j, 0.+0.j, 0.+0.j, 0.+0.j, 1.+0.j, 0.+0.j, 0.+0.j, 0.+0.j],\n",
       "        [0.+0.j, 0.+0.j, 0.+0.j, 0.+0.j, 0.+0.j, 1.+0.j, 0.+0.j, 0.+0.j],\n",
       "        [0.+0.j, 0.+0.j, 0.+0.j, 0.+0.j, 0.+0.j, 0.+0.j, 1.+0.j, 0.+0.j],\n",
       "        [0.+0.j, 0.+0.j, 0.+0.j, 0.+0.j, 0.+0.j, 0.+0.j, 0.+0.j, 1.+0.j]]))"
      ]
     },
     "execution_count": 14,
     "metadata": {},
     "output_type": "execute_result"
    }
   ],
   "source": [
    "np.linalg.eig(ham_matrix)"
   ]
  },
  {
   "cell_type": "markdown",
   "metadata": {},
   "source": [
    "The lowest energy solution does indeed correspond to the eigenvector $(0,0,0,0,0,0,1,0)$, i.e. the $|110\\rangle$ component. Suppose that we return to the original Hamiltonian, but instead we remove the single-qubit bias term on qubit 0. Let's run the computation again and see what result we find."
   ]
  },
  {
   "cell_type": "code",
   "execution_count": 16,
   "metadata": {},
   "outputs": [
    {
     "data": {
      "image/png": "[encoded data removed]",
      "text/plain": [
       "<Figure size 432x288 with 1 Axes>"
      ]
     },
     "metadata": {
      "needs_background": "light"
     },
     "output_type": "display_data"
    }
   ],
   "source": [
    "term1 = PauliTerm(\"Z\", 0, 0.7) * PauliTerm(\"Z\", 1)\n",
    "term2 = PauliTerm(\"Z\", 0, 1.2) * PauliTerm(\"Z\", 2)\n",
    "\n",
    "hamiltonian_unbiased = PauliSum([term1, term2])\n",
    "n_steps = 2\n",
    "\n",
    "params_unbiased = ExtendedParams.linear_ramp_from_hamiltonian(hamiltonian_unbiased,n_steps)\n",
    "\n",
    "cost_function_unbiased = QAOACostFunctionOnWFSim(hamiltonian_unbiased,\n",
    "                                                 params=params_unbiased,\n",
    "                                                 sim=sim,\n",
    "                                                 nshots=0)\n",
    "\n",
    "res_unbiased = minimize(cost_function_unbiased, params_unbiased.raw(), tol=1e-3, options={\"maxiter\":500})\n",
    "\n",
    "opt_wfn_unbiased = cost_function_unbiased.get_wavefunction(res_unbiased.x)\n",
    "probs_unbiased = opt_wfn_unbiased.probabilities()\n",
    "\n",
    "labels = [\"{0:03b}\".format(i) for i in range(8)]\n",
    "plt.bar(range(8),probs_unbiased)\n",
    "plt.xticks(range(8), labels);"
   ]
  },
  {
   "cell_type": "markdown",
   "metadata": {},
   "source": [
    "Now the probabilities are completely symmetric under a bit flip on all qubits - there is no bias term in the Hamiltonian to force a given qubit into state $|0\\rangle$ or $|1\\rangle$, and the eigenspectrum of the cost function Hamiltonian is \"doubly degenerate\", i.e. the energy eigenstates fall into pairs, where the corresponding eigenstates are related to one another by a bit flip on all qubits. "
   ]
  }
 ],
 "metadata": {
  "kernelspec": {
   "display_name": "Python 3",
   "language": "python",
   "name": "python3"
  },
  "language_info": {
   "codemirror_mode": {
    "name": "ipython",
    "version": 3
   },
   "file_extension": ".py",
   "mimetype": "text/x-python",
   "name": "python",
   "nbconvert_exporter": "python",
   "pygments_lexer": "ipython3",
   "version": "3.7.4"
  }
 },
 "nbformat": 4,
 "nbformat_minor": 4
}
