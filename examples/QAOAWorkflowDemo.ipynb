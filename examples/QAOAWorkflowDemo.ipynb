{
 "cells": [
  {
   "cell_type": "markdown",
   "metadata": {},
   "source": [
    "<a id='qaoa-workflow-demo'></a>\n",
    "\n",
    "# First steps: An example workflow of the QAOA package\n",
    "\n",
    "This section provides a walkthrough of a simple example workflow, and is intended as a quick introduction to the functionalities of the package. More elaborate examples are provided in other sections of the documentation."
   ]
  },
  {
   "cell_type": "markdown",
   "metadata": {
    "tags": [
     "hide_all"
    ]
   },
   "source": [
    "## Contents\n",
    "1. [Creating the problem instance](#creating_a_hamiltonian)\n",
    "2. [Setting up the parameters](#setup_parameters)\n",
    "3. [Creating a cost function](#cost_function)\n",
    "4. [Optimising the paramters](#optimisation)\n",
    "5. [An alternative parametrisation](#outlook)"
   ]
  },
  {
   "cell_type": "markdown",
   "metadata": {},
   "source": [
    "As with all the Demo Notebooks, you need to start the Wavefunction Simulator and the Quil Compiler in the background by typing `qvm -S` and `quilc -S` in two open and disposable terminal windows.  If you have installed the Forest SDK, the Quantum Virtual Machine will start in the background. More information on installing and running the QVM can be found in Rigetti's __[Forest documentation](http://docs.rigetti.com/en/stable/start.html)__. \n",
    "\n",
    "Before we really start, let us import all the neccesary bits and pieces:"
   ]
  },
  {
   "cell_type": "code",
   "execution_count": 42,
   "metadata": {},
   "outputs": [],
   "source": [
    "# The usual combination of numpy, matplotlib and scipy.optimize.minimize\n",
    "import numpy as np\n",
    "import matplotlib.pyplot as plt\n",
    "from scipy.optimize import minimize\n",
    "\n",
    "# The neccesary pyquil modules\n",
    "from pyquil.api import local_qvm, WavefunctionSimulator\n",
    "from pyquil.paulis import PauliSum, PauliTerm\n",
    "from pyquil.unitary_tools import lifted_pauli\n",
    "\n",
    "# The QAOAParameters that we want to demo\n",
    "from entropica_qaoa.qaoa.parameters import (AbstractParams,\n",
    "                                            StandardParams,\n",
    "                                            ExtendedParams,\n",
    "                                            QAOAParameterIterator)\n",
    "\n",
    "# import VQE and cost function modules\n",
    "from entropica_qaoa.qaoa.cost_function import QAOACostFunctionOnQVM, QAOACostFunctionOnWFSim\n",
    "\n",
    "# import utilities for conversion between graphs and hamiltonians\n",
    "from entropica_qaoa.utilities import (hamiltonian_from_graph,\n",
    "                                      random_k_regular_graph,\n",
    "                                      plot_graph,\n",
    "                                      plot_probabilities)\n",
    "\n",
    "# supress warnings from networkx\n",
    "import warnings\n",
    "warnings.filterwarnings('ignore')"
   ]
  },
  {
   "cell_type": "markdown",
   "metadata": {},
   "source": [
    "<a id='creating_a_hamiltonian'></a>\n",
    "\n",
    "## Creating the problem instance\n",
    "\n",
    "We begin by setting up a problem instance that we will solve using QAOA. As a simple example, we will demonstrate how to use QAOA to solve the MaxCut problem on a graph with three nodes and weighted edges. We can create the graph as follows: "
   ]
  },
  {
   "cell_type": "code",
   "execution_count": 43,
   "metadata": {},
   "outputs": [
    {
     "data": {
      "image/png": "[encoded data removed]",
      "text/plain": [
       "<Figure size 432x288 with 1 Axes>"
      ]
     },
     "metadata": {},
     "output_type": "display_data"
    }
   ],
   "source": [
    "graph = random_k_regular_graph(degree=2, nodes=3, seed=42, weighted=True, biases=True)\n",
    "plot_graph(graph)"
   ]
  },
  {
   "cell_type": "markdown",
   "metadata": {},
   "source": [
    "The above code illustrates how EntropicaQAOA directly integrates functionality from the `NetworkX` package for graph analysis. For more information on NetworkX, refer to its documentation  __[here](https://networkx.github.io/documentation/stable/)__.\n",
    "\n",
    "To solve the MaxCut problem for this graph using QAOA, we have to translate the graph to a Hamiltonian, which corresponds to the cost function. We can readily achieve this conversion using the `hamiltonian_from_graph` method:"
   ]
  },
  {
   "cell_type": "code",
   "execution_count": 44,
   "metadata": {},
   "outputs": [
    {
     "name": "stdout",
     "output_type": "stream",
     "text": [
      "(0.5986584841970366+0j)*Z0 + (0.15601864044243652+0j)*Z1 + (0.15599452033620265+0j)*Z2 + (0.3745401188473625+0j)*Z0*Z1 + (0.9507143064099162+0j)*Z0*Z2 + (0.7319939418114051+0j)*Z1*Z2\n"
     ]
    }
   ],
   "source": [
    "hamiltonian = hamiltonian_from_graph(graph)\n",
    "print(hamiltonian)"
   ]
  },
  {
   "cell_type": "markdown",
   "metadata": {},
   "source": [
    "\n",
    "**Further documentation**\n",
    "\n",
    "More information on the creation of hamiltonians and graphs is provided in `UtilitiesDemo.ipynb`."
   ]
  },
  {
   "cell_type": "markdown",
   "metadata": {},
   "source": [
    "<a id='setup_parameters'></a>\n",
    "\n",
    "## Specify the parameters to be optimised: the `QAOAParameter` class\n",
    "\n",
    "Having established the problem Hamiltonian, we next set up our chosen circuit parametrisation. There are a range of different choices available in EntropicaQAOA, which are demonstrated in detail in the `QAOA Parameter Demo` and `Advanced QAOA Parameter Demo` sections. In short, parameters are set up as subclasses of the parent `QAOAParameter` class. \n",
    "\n",
    "For this Notebook we will use the `StandardParams` parametrisation. As the name suggests, this corresponds to the most commonly used parametrisation, and is the one originally introduced by Farhi et al in [Ref 1](#references). Here, the mixer and cost Hamiltonians each have one angle per timestep, giving a total of $2p$ parameters to optimise over.\n",
    "\n",
    "In this example, we will choose $p=2$, and initalise the angles `gammas` and `betas` with simple (but uninspired!) values. Besides the initial values of these angles, we must also provide the problem *hyperparameters*, which, unlike the `gammas` and `betas`, are unchanged throughout the optimisation procedure. The hyperparameters are the Hamiltonian, and the number of timesteps `p`. "
   ]
  },
  {
   "cell_type": "code",
   "execution_count": 45,
   "metadata": {},
   "outputs": [
    {
     "name": "stdout",
     "output_type": "stream",
     "text": [
      "Hyperparameters:\n",
      "\tregister: [0, 1, 2]\n",
      "\tqubits_singles: [0, 1, 2]\n",
      "\tqubits_pairs: [[0, 1], [0, 2], [1, 2]]\n",
      "Parameters:\n",
      "\tbetas: [0.1 0.6]\n",
      "\tgammas: [0.4 0.5]\n",
      "\n"
     ]
    }
   ],
   "source": [
    "timesteps = 2 # this is the p value from the original paper\n",
    "hyperparameters = (hamiltonian, timesteps)\n",
    "\n",
    "# Specify some angles. We have p=2, so we need two betas and two gammas\n",
    "betas = [0.1, 0.6]\n",
    "gammas = [0.4, 0.5]\n",
    "parameters = (betas, gammas)\n",
    "\n",
    "standard_params = StandardParams(hyperparameters, parameters)\n",
    "print(standard_params)"
   ]
  },
  {
   "cell_type": "markdown",
   "metadata": {},
   "source": [
    "**Further documentation**\n",
    "\n",
    "To learn all about the different parametrisations, the various ways to create parameter objects automatically, and how to manipulate them, refer to `QAOAParameterDemo.ipynb`"
   ]
  },
  {
   "cell_type": "markdown",
   "metadata": {},
   "source": [
    "<a id='cost_function'></a>\n",
    "\n",
    "## Creating the cost function\n",
    "\n",
    "With the problem and our parametrisation now defined, we next create a cost function that we can pass to a minimiser of our choice (e.g. `scipy.optimize.minimize`). To work seamlessly with most optimisers, this cost function needs to take in an array of values, and output a single number. We provide such cost functions for QAOA with `QAOACostFunctionOnWFSim` and `QAOACostFunctionOnQVM`. For the purposes of this example we will use the former, since it is faster and returns exact expectation values (as opposed to sampled estimates of it)."
   ]
  },
  {
   "cell_type": "code",
   "execution_count": 46,
   "metadata": {},
   "outputs": [],
   "source": [
    "# set up the cost function\n",
    "cost_function = QAOACostFunctionOnWFSim(hamiltonian, params=standard_params)"
   ]
  },
  {
   "cell_type": "markdown",
   "metadata": {},
   "source": [
    "**Note**\n",
    "\n",
    "It might feel weird, that one first has to create a fully specified `StandardParams` object which is then needed to construct the cost function. **TODO: explain why it is like this**\n",
    "\n",
    "\n",
    "**Further documentation**\n",
    "\n",
    "In `VQEDemo.ipynb` we demonstrate the usage of `QAOACostFunctionOnQVM`. This also showcases more advanced usages of the cost functions, including how to make logs of the function calls, and how to introduce fake sampling noise for more realistic simulations of QAOA."
   ]
  },
  {
   "cell_type": "markdown",
   "metadata": {},
   "source": [
    "<a id='optimisation'></a>\n",
    "## Optimising the parameters\n",
    "\n",
    "Now that we have a cost function and some initial parameters, we can use a minimiser of our choice – in this case `scipy.optimize.minimize` – to optimise the parameters:"
   ]
  },
  {
   "cell_type": "code",
   "execution_count": 47,
   "metadata": {},
   "outputs": [
    {
     "data": {
      "text/plain": [
       "     fun: -1.1381074861256182\n",
       "   maxcv: 0.0\n",
       " message: 'Optimization terminated successfully.'\n",
       "    nfev: 80\n",
       "  status: 1\n",
       " success: True\n",
       "       x: array([0.5075231 , 0.2640147 , 0.41118043, 0.85510375])"
      ]
     },
     "execution_count": 47,
     "metadata": {},
     "output_type": "execute_result"
    }
   ],
   "source": [
    "res = minimize(cost_function, standard_params.raw(), tol=1e-3,\n",
    "               options={\"maxiter\": 500}, method=\"Cobyla\")\n",
    "res"
   ]
  },
  {
   "cell_type": "markdown",
   "metadata": {},
   "source": [
    "We can check this against the exact value by finding the lowest eigenvalue of `hamiltonian`."
   ]
  },
  {
   "cell_type": "code",
   "execution_count": 48,
   "metadata": {},
   "outputs": [
    {
     "data": {
      "text/plain": [
       "(-1.9068507336772291+0j)"
      ]
     },
     "execution_count": 48,
     "metadata": {},
     "output_type": "execute_result"
    }
   ],
   "source": [
    "ham_matrix = lifted_pauli(hamiltonian, hamiltonian.get_qubits())\n",
    "eigs = np.linalg.eigvals(ham_matrix)\n",
    "min(eigs)"
   ]
  },
  {
   "cell_type": "markdown",
   "metadata": {},
   "source": [
    "Evidently, we have not found the ground state exactly. We can examine the probability of measuring each energy eigenstate, along with the corresponding energies, as follows:\n",
    "\n",
    "- Obtain the output wavefunction using `cost_function.get_wavefunction()`\n",
    "- Generate a bar plot to compare the energies of each of the states and their respective probabilities. We do this using the`plot_probabilities()` method, contained in `entropica_qaoa.utilities`. This produces a plot of the negative of each energy (i.e. each energy multiplied by $-1$), side by side with the probability. States with high values of $-1\\times energy$ should therefore coincide with high probabilities."
   ]
  },
  {
   "cell_type": "code",
   "execution_count": 49,
   "metadata": {},
   "outputs": [
    {
     "data": {
      "image/png": "[encoded data removed]",
      "text/plain": [
       "<Figure size 432x288 with 1 Axes>"
      ]
     },
     "metadata": {
      "needs_background": "light"
     },
     "output_type": "display_data"
    }
   ],
   "source": [
    "probabilities = cost_function.get_wavefunction(standard_params.raw()).probabilities()\n",
    "energies = np.diag(ham_matrix)\n",
    "\n",
    "plot_probabilities(probabilities, energies)"
   ]
  },
  {
   "cell_type": "markdown",
   "metadata": {},
   "source": [
    "Evidently the state with the lowest energy (largest negative energy) corresponds to the state with the largest measurement probability, however there is still some contribution from sub-optimal solutions. To do better, we can try increasing the number of timesteps to $p=3$:"
   ]
  },
  {
   "cell_type": "code",
   "execution_count": 50,
   "metadata": {},
   "outputs": [
    {
     "data": {
      "text/plain": [
       "     fun: -1.3148137231044228\n",
       "   maxcv: 0.0\n",
       " message: 'Optimization terminated successfully.'\n",
       "    nfev: 166\n",
       "  status: 1\n",
       " success: True\n",
       "       x: array([0.56729257, 0.50207267, 0.28917411, 0.46052327, 0.84744635,\n",
       "       0.88289307])"
      ]
     },
     "execution_count": 50,
     "metadata": {},
     "output_type": "execute_result"
    }
   ],
   "source": [
    "betas          = [0.1, 0.6, 0.8]\n",
    "gammas_singles = [0.4, 0.5, 0.6]\n",
    "gammas_pairs   = [0.1, 0.3, 0.5]\n",
    "parameters = (betas, gammas_singles, gammas_pairs)\n",
    "\n",
    "standard_params_p3 = StandardParams([hamiltonian,3],parameters)\n",
    "\n",
    "cost_function = QAOACostFunctionOnWFSim(hamiltonian,params=standard_params_p3)\n",
    "\n",
    "res = minimize(cost_function, standard_params_p3.raw(), tol=1e-3,\n",
    "                      options={\"maxiter\": 500}, method=\"Cobyla\")\n",
    "res"
   ]
  },
  {
   "cell_type": "markdown",
   "metadata": {},
   "source": [
    "This is an improvement, but still not the actual ground state. The following section gives a brief introduction to the use of an alternate parametrisation, `ExtendedParams`, which is more expressive, and hence may naively be expected to give better results."
   ]
  },
  {
   "cell_type": "markdown",
   "metadata": {},
   "source": [
    "<a id='outlook'></a>\n",
    "## An alternative parametrisation\n",
    "\n",
    "Here we will set up `ExtendedParams` directly from our existing set of `StandardParams`, making use of EntropicaQAOA's parameter conversion methods."
   ]
  },
  {
   "cell_type": "code",
   "execution_count": 51,
   "metadata": {},
   "outputs": [
    {
     "data": {
      "text/plain": [
       "     fun: -1.8890131299296102\n",
       "   maxcv: 0.0\n",
       " message: 'Maximum number of function evaluations has been exceeded.'\n",
       "    nfev: 500\n",
       "  status: 2\n",
       " success: False\n",
       "       x: array([0.39182371, 0.01149488, 0.98372661, 0.70074206, 0.55166912,\n",
       "       0.8398436 , 0.13357522, 0.33683634, 0.62127086, 0.5522375 ,\n",
       "       2.13768411, 0.0930119 , 0.92921022, 1.95154487, 0.29986478,\n",
       "       0.7672431 , 2.57525556, 2.33555514, 0.45473284, 0.5395941 ,\n",
       "       0.46746405, 0.61663868, 0.70126094, 0.56854934, 0.72423051,\n",
       "       0.88862926, 0.5428726 ])"
      ]
     },
     "execution_count": 51,
     "metadata": {},
     "output_type": "execute_result"
    }
   ],
   "source": [
    "extended_params_p3 = ExtendedParams.from_other_parameters(standard_params_p3)\n",
    "\n",
    "cost_function = QAOACostFunctionOnWFSim(hamiltonian,params=extended_params_p3)\n",
    "\n",
    "res = minimize(cost_function, extended_params_p3.raw(), tol=1e-3,\n",
    "                      options={\"maxiter\": 500}, method=\"Cobyla\")\n",
    "res"
   ]
  },
  {
   "cell_type": "markdown",
   "metadata": {},
   "source": [
    "Clearly now we have found a much better ground state energy. The result attribute `x` is a list of the optimal circuit parameters that have been found. We can disentangle this into the `betas` and `gammas` of our QAOA parameterisation by using the `update_from_raw()` method:"
   ]
  },
  {
   "cell_type": "code",
   "execution_count": 52,
   "metadata": {},
   "outputs": [
    {
     "data": {
      "text/plain": [
       "Hyperparameters:\n",
       "\tregister: [0, 1, 2]\n",
       "\tqubits_singles: [0, 1, 2]\n",
       "\tqubits_pairs: [[0, 1], [0, 2], [1, 2]]\n",
       "Parameters:\n",
       "\tbetas: [[0.39182371 0.01149488 0.98372661], [0.70074206 0.55166912 0.8398436 ], [0.13357522 0.33683634 0.62127086]]\n",
       "\tgammas_singles: [[0.5522375  2.13768411 0.0930119 ], [0.92921022 1.95154487 0.29986478], [0.7672431  2.57525556 2.33555514]]\n",
       "\tgammas_pairs: [[0.45473284 0.5395941  0.46746405], [0.61663868 0.70126094 0.56854934], [0.72423051 0.88862926 0.5428726 ]]"
      ]
     },
     "execution_count": 52,
     "metadata": {},
     "output_type": "execute_result"
    }
   ],
   "source": [
    "extended_params_p3.update_from_raw(res['x'])\n",
    "extended_params_p3"
   ]
  },
  {
   "cell_type": "markdown",
   "metadata": {},
   "source": [
    "Now that we have the optimal angles, we can prepare the corresponding state and sample from it to obtain the most probable bitstring. \n",
    "\n",
    "In this notebook we are using the wavefunction simulator, which allows us to 'cheat' and easily obtain any observable quantity without the need to sample. We use the `get_wavefunction` method of the `cost_function` to obtain the wavefunction, then compute the corresponding probabilities, and plot a bar graph of the outcomes:"
   ]
  },
  {
   "cell_type": "code",
   "execution_count": 53,
   "metadata": {},
   "outputs": [
    {
     "name": "stdout",
     "output_type": "stream",
     "text": [
      "(-0.0053310956-0.0010250749j)|000> + (0.0028265964+0.0364753799j)|001> + (-0.003927251-0.0103999875j)|010> + (0.0933251803+0.9881777209j)|011> + (0.0923862135+0.0042487288j)|100> + (0.0487274282+0.0416366729j)|101> + (0.0241658976+0.0063944476j)|110> + (0.0032513801+0.0026486418j)|111>\n"
     ]
    }
   ],
   "source": [
    "opt_wfn = cost_function.get_wavefunction(res.x)\n",
    "print(opt_wfn)"
   ]
  },
  {
   "cell_type": "code",
   "execution_count": 54,
   "metadata": {},
   "outputs": [
    {
     "data": {
      "text/plain": [
       "array([2.94713584e-05, 1.33844299e-03, 1.23583039e-04, 9.85204797e-01,\n",
       "       8.55326414e-03, 4.10797480e-03, 6.24879567e-04, 1.75867758e-05])"
      ]
     },
     "execution_count": 54,
     "metadata": {},
     "output_type": "execute_result"
    }
   ],
   "source": [
    "probs = opt_wfn.probabilities()\n",
    "probs"
   ]
  },
  {
   "cell_type": "code",
   "execution_count": 55,
   "metadata": {},
   "outputs": [
    {
     "data": {
      "image/png": "[encoded data removed]",
      "text/plain": [
       "<Figure size 432x288 with 1 Axes>"
      ]
     },
     "metadata": {
      "needs_background": "light"
     },
     "output_type": "display_data"
    }
   ],
   "source": [
    "labels = [r'$\\left|{0:03b}\\right>$'.format(i) for i in range(8)]\n",
    "plt.bar(range(8),probs)\n",
    "plt.xticks(range(8), labels);"
   ]
  },
  {
   "cell_type": "markdown",
   "metadata": {},
   "source": [
    "The QAOA has determined that the bitstring 011 (the number 3 in decimal) is the minimum energy solution with essentially unit probability. Let's check this is consistent with the real answer:"
   ]
  },
  {
   "cell_type": "code",
   "execution_count": 56,
   "metadata": {},
   "outputs": [
    {
     "data": {
      "text/plain": [
       "(array([ 2.96792001+0.j, -0.87990581+0.j,  0.44281461+0.j, -1.90685073+0.j,\n",
       "        -0.70948553+0.j, -0.75445412+0.j, -0.30661516+0.j,  1.14657672+0.j]),\n",
       " array([[1.+0.j, 0.+0.j, 0.+0.j, 0.+0.j, 0.+0.j, 0.+0.j, 0.+0.j, 0.+0.j],\n",
       "        [0.+0.j, 1.+0.j, 0.+0.j, 0.+0.j, 0.+0.j, 0.+0.j, 0.+0.j, 0.+0.j],\n",
       "        [0.+0.j, 0.+0.j, 1.+0.j, 0.+0.j, 0.+0.j, 0.+0.j, 0.+0.j, 0.+0.j],\n",
       "        [0.+0.j, 0.+0.j, 0.+0.j, 1.+0.j, 0.+0.j, 0.+0.j, 0.+0.j, 0.+0.j],\n",
       "        [0.+0.j, 0.+0.j, 0.+0.j, 0.+0.j, 1.+0.j, 0.+0.j, 0.+0.j, 0.+0.j],\n",
       "        [0.+0.j, 0.+0.j, 0.+0.j, 0.+0.j, 0.+0.j, 1.+0.j, 0.+0.j, 0.+0.j],\n",
       "        [0.+0.j, 0.+0.j, 0.+0.j, 0.+0.j, 0.+0.j, 0.+0.j, 1.+0.j, 0.+0.j],\n",
       "        [0.+0.j, 0.+0.j, 0.+0.j, 0.+0.j, 0.+0.j, 0.+0.j, 0.+0.j, 1.+0.j]]))"
      ]
     },
     "execution_count": 56,
     "metadata": {},
     "output_type": "execute_result"
    }
   ],
   "source": [
    "np.linalg.eig(ham_matrix)"
   ]
  },
  {
   "cell_type": "markdown",
   "metadata": {},
   "source": [
    "The lowest energy solution does indeed correspond to the eigenvector $(0,0,0,1,0,0,0,0)$, i.e. the $|011\\rangle$ component. \n",
    "\n",
    "Suppose that we return to the original Hamiltonian, but instead we remove the single-qubit bias terms. Let's run the computation again and see what result we find. This time we'll set up `ExtendedParams` using the `empty()` method, which means we don't need to explicitly provide initial values for the `gammas` and `betas`."
   ]
  },
  {
   "cell_type": "code",
   "execution_count": 57,
   "metadata": {},
   "outputs": [
    {
     "data": {
      "image/png": "[encoded data removed]",
      "text/plain": [
       "<Figure size 432x288 with 1 Axes>"
      ]
     },
     "metadata": {
      "needs_background": "light"
     },
     "output_type": "display_data"
    }
   ],
   "source": [
    "term1 = PauliTerm(\"Z\", 0, 0.7) * PauliTerm(\"Z\", 1)\n",
    "term2 = PauliTerm(\"Z\", 0, 1.2) * PauliTerm(\"Z\", 2)\n",
    "\n",
    "hamiltonian_unbiased = PauliSum([term1, term2])\n",
    "n_steps = 2\n",
    "\n",
    "params_unbiased = ExtendedParams.empty((hamiltonian_unbiased,n_steps))\n",
    "\n",
    "cost_function_unbiased = QAOACostFunctionOnWFSim(hamiltonian_unbiased, params=params_unbiased)\n",
    "\n",
    "res_unbiased = minimize(cost_function_unbiased,\n",
    "                        np.zeros(len(params_unbiased)),\n",
    "                        tol=1e-3, options={\"maxiter\":500},\n",
    "                        method=\"Cobyla\")\n",
    "\n",
    "opt_wfn_unbiased = cost_function_unbiased.get_wavefunction(res_unbiased.x)\n",
    "probs_unbiased = opt_wfn_unbiased.probabilities()\n",
    "\n",
    "labels = [r'$\\left|{0:03b}\\right>$'.format(i) for i in range(8)]\n",
    "plt.bar(range(8),probs_unbiased)\n",
    "plt.xticks(range(8), labels);"
   ]
  },
  {
   "cell_type": "markdown",
   "metadata": {},
   "source": [
    "Now the probabilities are completely symmetric under a bit flip on all qubits - there is no bias term in the Hamiltonian to force a given qubit into state $|0\\rangle$ or $|1\\rangle$, and the eigenspectrum of the cost function Hamiltonian is \"doubly degenerate\", i.e. the energy eigenstates fall into pairs, where the corresponding eigenstates are related to one another by a bit flip on all qubits. \n",
    "\n",
    "**Further documentation**\n",
    "\n",
    "Further information and examples of setting up the different types of parameters may be found in `QAOAParameterDemo` and `AdvancedQAOAParameterDemo`."
   ]
  },
  {
   "cell_type": "markdown",
   "metadata": {},
   "source": [
    "<a id='references'></a>\n",
    "\n",
    "## References\n",
    "\n",
    "1. E. Farhi et al, __[*A Quantum Approximate Optimization Algorithm*](https://arxiv.org/abs/1411.4028)__"
   ]
  },
  {
   "cell_type": "code",
   "execution_count": null,
   "metadata": {},
   "outputs": [],
   "source": []
  }
 ],
 "metadata": {
  "kernelspec": {
   "display_name": "Python 3",
   "language": "python",
   "name": "python3"
  },
  "language_info": {
   "codemirror_mode": {
    "name": "ipython",
    "version": 3
   },
   "file_extension": ".py",
   "mimetype": "text/x-python",
   "name": "python",
   "nbconvert_exporter": "python",
   "pygments_lexer": "ipython3",
   "version": "3.7.3"
  }
 },
 "nbformat": 4,
 "nbformat_minor": 4
}
