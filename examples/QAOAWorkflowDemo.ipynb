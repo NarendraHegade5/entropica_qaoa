{
 "cells": [
  {
   "cell_type": "markdown",
   "metadata": {},
   "source": [
    "<a id='qaoa-workflow-demo'></a>\n",
    "\n",
    "# First steps: An example workflow of the QAOA package\n",
    "\n",
    "This notebook walks through a simple example workflow, and is intended as a quick introduction to the functionalities of the package. More elaborate examples are provided in the following notebooks."
   ]
  },
  {
   "cell_type": "markdown",
   "metadata": {},
   "source": [
    "## Discussion:\n",
    " - The arguments `nshots` and `scalar_cost_function` default to `0` and `True` respectively, so they don't have to be passed explicitely. Do we pass them anyways, to indicate to the user that there are some more options, or do we remove them to get shorter and easier to understand code?\n",
    " - The argument `sim` is not neccesary anymore, if it is not passed `QAOACostFunctionOnWFSim` simply gets its own simulator connection. So the same question arises here again.\n",
    " - I found, that `Nelder-Mead` (the default for scipy.optimize.minimize) gets stuck in local minima quite often (at least with) the examples in `AdvancedQAOAParameterDemo` and I needed to pass `method=\"Cobyla\"` often. Do we go with `Nelder-Mead` anyways, because the correct choice of an optimizer is a question that is more appropriate for the more advanced Notebooks?\n",
    " - Check the imports, that we really only import things we are actually using later."
   ]
  },
  {
   "cell_type": "markdown",
   "metadata": {
    "tags": [
     "hide_all"
    ]
   },
   "source": [
    "## Contents\n",
    "1. [Creating the problem instance](#creating_a_hamiltonian)\n",
    "2. [Setting up the parameters](#setup_parameters)\n",
    "3. [Creating a cost function](#cost_function)\n",
    "4. [Optimising the paramters](#optimisation)\n",
    "5. [Outlook: Playing with the parameters](#outlook)"
   ]
  },
  {
   "cell_type": "markdown",
   "metadata": {},
   "source": [
    "As with all the Demo Notebooks, you need to start the Wavefunction Simulator and the Quil Compiler in the background by typing `qvm -S` and `quilc -S` in two open and disposable terminal windows.  If you have installed the Forest SDK, the Quantum Virtual Machine will start in the background. More information on installing and running the QVM can be found in Rigetti's __[Forest documentation](http://docs.rigetti.com/en/stable/start.html)__. \n",
    "\n",
    "Before we really start, let us import all the neccesary bits and pieces:"
   ]
  },
  {
   "cell_type": "code",
   "execution_count": 1,
   "metadata": {},
   "outputs": [],
   "source": [
    "# The usual combination of numpy, matplotlib and scipy.optimize.minimize\n",
    "import numpy as np\n",
    "import matplotlib.pyplot as plt\n",
    "from scipy.optimize import minimize\n",
    "\n",
    "# The neccesary pyquil modules\n",
    "from pyquil.api import local_qvm, WavefunctionSimulator\n",
    "from pyquil.paulis import PauliSum, PauliTerm\n",
    "from pyquil.unitary_tools import lifted_pauli\n",
    "\n",
    "# The QAOAParameters that we want to demo\n",
    "from entropica_qaoa.qaoa.parameters import (AbstractParams,\n",
    "                                            StandardParams,\n",
    "                                            ExtendedParams,\n",
    "                                            QAOAParameterIterator)\n",
    "\n",
    "# import VQE and cost function modules\n",
    "from entropica_qaoa.qaoa.cost_function import QAOACostFunctionOnQVM, QAOACostFunctionOnWFSim\n",
    "\n",
    "# import utilities for conversion between graphs and hamiltonians\n",
    "from entropica_qaoa.utilities import (hamiltonian_from_graph,\n",
    "                                      random_k_regular_graph,\n",
    "                                      plot_graph,\n",
    "                                      plot_amplitudes)\n",
    "\n",
    "# supress warnings from networkx\n",
    "import warnings\n",
    "warnings.filterwarnings('ignore')"
   ]
  },
  {
   "cell_type": "markdown",
   "metadata": {},
   "source": [
    "<a id='creating_a_hamiltonian'></a>\n",
    "\n",
    "## Creating the problem instance\n",
    "\n",
    "Before we can demonstate QAOA, we first need a problem to solve. As an example we will demonstrate how to use QAOA to solve the MaxCut problem on a graph with three nodes and weighted edges. Let us first create the graph:"
   ]
  },
  {
   "cell_type": "code",
   "execution_count": 2,
   "metadata": {},
   "outputs": [
    {
     "data": {
      "image/png": "[encoded data removed]",
      "text/plain": [
       "<Figure size 432x288 with 1 Axes>"
      ]
     },
     "metadata": {},
     "output_type": "display_data"
    }
   ],
   "source": [
    "graph = random_k_regular_graph(degree=2, nodes=3, seed=42, weighted=True, biases=True)\n",
    "plot_graph(graph)"
   ]
  },
  {
   "cell_type": "markdown",
   "metadata": {},
   "source": [
    "Now, our QAOA implementation doesn't solve the MaxCut problem on a graph directly. Instead we have to translate the graph to a hamiltonian using `hamiltonian_from_graph`."
   ]
  },
  {
   "cell_type": "code",
   "execution_count": 3,
   "metadata": {},
   "outputs": [
    {
     "name": "stdout",
     "output_type": "stream",
     "text": [
      "(0.31871959185209275+0j)*Z0 + (0.7293497456610921+0j)*Z1 + (0.2729959206343987+0j)*Z2 + (0.6836709185522297+0j)*Z0*Z1 + (0.5976518295147031+0j)*Z0*Z2 + (0.26151215504191927+0j)*Z1*Z2\n"
     ]
    }
   ],
   "source": [
    "hamiltonian = hamiltonian_from_graph(graph)\n",
    "print(hamiltonian)"
   ]
  },
  {
   "cell_type": "markdown",
   "metadata": {},
   "source": [
    "\n",
    "**Further documentation**\n",
    "\n",
    "We go into more detail about the creation of hamiltonians and graphs in `UtilitiesDemo.ipynb`."
   ]
  },
  {
   "cell_type": "markdown",
   "metadata": {},
   "source": [
    "<a id='setup_parameters'></a>\n",
    "\n",
    "## Specify the variable parameters and create corresponding `QAOAParameters` object\n",
    "\n",
    "After creation of the problem hamiltonian we need to setup the variable parameters that are later optimised to find the best cut. To facilitate the usage of many different parametrisations of the QAOA circuit we use cost `QAOAParameter` objects instead of simple arrays or lists. For this Notebook we will use the `StandardParams` parametrisation—this corresponds to the parametrisation of the original QAOA paper by Farhi et al, where the mixer and cost Hamiltonian each have one angle per timestep (giving a total of 2p parameters to optimise over).\n",
    "\n",
    "We will choose $p=2$ for now and just write down any `gammas` and `betas` as the initial parameters, they will get optimised later! Besides the initial `gammas` and `betas`–the parameters that get optimized later–our `QAOAParameter` classes also need to know the problem hamiltonian and the number of timesteps `p`–the hyperparameters that don't get changed during the QAOA optimisation."
   ]
  },
  {
   "cell_type": "code",
   "execution_count": 4,
   "metadata": {},
   "outputs": [
    {
     "name": "stdout",
     "output_type": "stream",
     "text": [
      "Hyperparameters:\n",
      "\tregister: [0, 1, 2]\n",
      "\tqubits_singles: [0, 1, 2]\n",
      "\tqubits_pairs: [[0, 1], [0, 2], [1, 2]]\n",
      "Parameters:\n",
      "\tbetas: [0.1 0.6]\n",
      "\tgammas: [0.4 0.5]\n",
      "\n"
     ]
    }
   ],
   "source": [
    "timesteps = 2 # this is the p value from the original paper\n",
    "hyperparameters = (hamiltonian, timesteps)\n",
    "\n",
    "# Specify some angles. We have p=2, so we need two betas and two gammas\n",
    "betas = [0.1, 0.6]\n",
    "gammas = [0.4, 0.5]\n",
    "parameters = (betas, gammas)\n",
    "\n",
    "standard_params = StandardParams(hyperparameters, parameters)\n",
    "print(standard_params)"
   ]
  },
  {
   "cell_type": "markdown",
   "metadata": {},
   "source": [
    "**Further documentation**\n",
    "\n",
    "To learn all about the different parametrsations, the other ways to create parameter objects automatically and how to manipulate them or do parameter sweeps read on in `QAOAParameterDemo.ipynb`"
   ]
  },
  {
   "cell_type": "markdown",
   "metadata": {},
   "source": [
    "<a id='cost_function'></a>\n",
    "--------------------------\n",
    "## Creating the cost function\n",
    "\n",
    "Next on, we need to create a cost function that we can pass to a minimiser of our choice–e.g. `scipy.optimize.minimize`. So this cost function will need to take in an array of values and return a single number. We provide such cost functions for QAOA with `QAOACostFunctionOnWFSim` and `QAOACostFunctionOnQVM`, here we will use the former since it is faster and returns exact expectation values and not only sampled estimates of it."
   ]
  },
  {
   "cell_type": "code",
   "execution_count": 5,
   "metadata": {},
   "outputs": [],
   "source": [
    "# set up the cost function\n",
    "cost_function = QAOACostFunctionOnWFSim(hamiltonian,\n",
    "                                        params=standard_params,\n",
    "                                        scalar_cost_function=True, # See VQEDemo.ipynb for more details\n",
    "                                        nshots=0,       # See VQEDemo.ipynb for more details\n",
    "                                        enable_logging=False)"
   ]
  },
  {
   "cell_type": "markdown",
   "metadata": {},
   "source": [
    "**Note**\n",
    "\n",
    "It might feel weird, that one first has to create a fully specified `StandardParams` object which is then needed to construct the cost function. **TODO: explain why it is like this**\n",
    "\n",
    "\n",
    "**Further documentation**\n",
    "\n",
    "The usage of `QAOACostFunctionOnQVM` and the more advanced usages of the cost functions are demonstrated in `VQEDemo.ipynb`. There you learn, how to make logs of the function calls or get results with faked sampling noise for more realistic simulations of QAOA."
   ]
  },
  {
   "cell_type": "markdown",
   "metadata": {},
   "source": [
    "<a id='optimisation'></a>\n",
    "\n",
    "## Optimising the parameters\n",
    "\n",
    "Now that we have a cost function and some initial parameters, we can use a minimiser of our choise–in this case `scipy.optimize.minimize`–to optimise the parameters:"
   ]
  },
  {
   "cell_type": "code",
   "execution_count": 6,
   "metadata": {},
   "outputs": [
    {
     "data": {
      "text/plain": [
       "     fun: -1.0326393162944782\n",
       "   maxcv: 0.0\n",
       " message: 'Optimization terminated successfully.'\n",
       "    nfev: 197\n",
       "  status: 1\n",
       " success: True\n",
       "       x: array([0.48046753, 0.2576847 , 0.46477139, 1.06364572])"
      ]
     },
     "execution_count": 6,
     "metadata": {},
     "output_type": "execute_result"
    }
   ],
   "source": [
    "res = minimize(cost_function, standard_params.raw(), tol=1e-3,\n",
    "               options={\"maxiter\": 500}, method=\"Cobyla\")\n",
    "res"
   ]
  },
  {
   "cell_type": "markdown",
   "metadata": {},
   "source": [
    "We can check this against the value we should get, by finding the lowest eigenvalue of `hamiltonian`."
   ]
  },
  {
   "cell_type": "code",
   "execution_count": 7,
   "metadata": {},
   "outputs": [
    {
     "data": {
      "text/plain": [
       "(-1.7034366674684116+0j)"
      ]
     },
     "execution_count": 7,
     "metadata": {},
     "output_type": "execute_result"
    }
   ],
   "source": [
    "ham_matrix = lifted_pauli(hamiltonian, hamiltonian.get_qubits())\n",
    "eigs = np.linalg.eigvals(ham_matrix)\n",
    "min(eigs)"
   ]
  },
  {
   "cell_type": "markdown",
   "metadata": {},
   "source": [
    "It looks, like we didn't find the ground state exactly. Let us see what probabilities we have to find each state compared to the energy of that state. To do so we get the final wavefunction with `cost_function.get_wavefunction()` and plot a bar plot of the energies of the states side by side with their respective probabilities using `entropica_qaoa.utilities.plot_amplitudes()`:\n",
    "\n",
    "(Actually, we plot the negative energies side-by-side with the probabilties. This means, that in the optimal case we have a large blue bar right besides the largest orange bar)."
   ]
  },
  {
   "cell_type": "code",
   "execution_count": 8,
   "metadata": {},
   "outputs": [
    {
     "data": {
      "image/png": "[encoded data removed]",
      "text/plain": [
       "<Figure size 432x288 with 1 Axes>"
      ]
     },
     "metadata": {
      "needs_background": "light"
     },
     "output_type": "display_data"
    }
   ],
   "source": [
    "probabilities = cost_function.get_wavefunction(standard_params.raw()).probabilities()\n",
    "energies = np.diag(ham_matrix)\n",
    "\n",
    "plot_amplitudes(probabilities, energies)"
   ]
  },
  {
   "cell_type": "markdown",
   "metadata": {},
   "source": [
    "Now this doesn't look super bad. Clearly, most of the probability goes to the two states of lowest energy $\\left|011\\right>$ and $\\left|110\\right>$. This also finishes the main part of the notebook, in the following section we will only give a short outlook into what is possible with different parametrizations. As indiciated in the previous text we go into a lot more detail about parametrizations, cost functions and the convenience functions provided by `utilities.py` in the following Notebooks."
   ]
  },
  {
   "cell_type": "markdown",
   "metadata": {},
   "source": [
    "<a id='outlook'></a>\n",
    "---------------------\n",
    "## Outlook: Playing with the parameters\n"
   ]
  },
  {
   "cell_type": "code",
   "execution_count": 9,
   "metadata": {},
   "outputs": [],
   "source": [
    "betas          = [0.1, 0.6, 0.8]\n",
    "gammas_singles = [0.4, 0.5, 0.6]\n",
    "gammas_pairs   = [0.1, 0.3, 0.5]\n",
    "parameters = (betas, gammas_singles, gammas_pairs)\n",
    "\n",
    "standard_params_p3 = StandardParams([hamiltonian,3],parameters)"
   ]
  },
  {
   "cell_type": "code",
   "execution_count": 10,
   "metadata": {},
   "outputs": [
    {
     "data": {
      "text/plain": [
       "     fun: -1.2792999082283594\n",
       "   maxcv: 0.0\n",
       " message: 'Optimization terminated successfully.'\n",
       "    nfev: 225\n",
       "  status: 1\n",
       " success: True\n",
       "       x: array([0.54837668, 0.43905085, 0.3163407 , 0.52762594, 0.90690141,\n",
       "       1.1176764 ])"
      ]
     },
     "execution_count": 10,
     "metadata": {},
     "output_type": "execute_result"
    }
   ],
   "source": [
    "sim = WavefunctionSimulator()\n",
    "\n",
    "cost_function = QAOACostFunctionOnWFSim(hamiltonian,\n",
    "                                        params=standard_params_p3,\n",
    "                                        sim=sim,\n",
    "                                        scalar_cost_function=True,\n",
    "                                        nshots=0)\n",
    "\n",
    "res = minimize(cost_function, standard_params_p3.raw(), tol=1e-3,\n",
    "                      options={\"maxiter\": 500}, method=\"Cobyla\")\n",
    "res"
   ]
  },
  {
   "cell_type": "markdown",
   "metadata": {},
   "source": [
    "This is better, but still not the actual ground state. Since we don't seem to be doing very well with `StandardParams`, let's try the `ExtendedParams` parametrisation instead."
   ]
  },
  {
   "cell_type": "code",
   "execution_count": 11,
   "metadata": {},
   "outputs": [
    {
     "data": {
      "text/plain": [
       "     fun: -1.7027399171405662\n",
       "   maxcv: 0.0\n",
       " message: 'Maximum number of function evaluations has been exceeded.'\n",
       "    nfev: 500\n",
       "  status: 2\n",
       " success: False\n",
       "       x: array([ 1.84030115,  0.76415088,  1.4940298 ,  0.54316344,  0.09387112,\n",
       "        0.36230143,  0.00807827,  0.04683236,  0.47404184,  1.87792982,\n",
       "        1.03825615,  0.04020408,  1.18729058,  0.19077649,  1.89766998,\n",
       "        0.32366629,  1.8818648 ,  0.14366302,  0.06541118, -0.15807758,\n",
       "        0.01375462,  0.84984759,  0.17237512,  0.09283079,  0.67983022,\n",
       "        0.69662693,  0.52378401])"
      ]
     },
     "execution_count": 11,
     "metadata": {},
     "output_type": "execute_result"
    }
   ],
   "source": [
    "extended_params_p3 = ExtendedParams.linear_ramp_from_hamiltonian(hamiltonian, n_steps=3)\n",
    "\n",
    "cost_function = QAOACostFunctionOnWFSim(hamiltonian,\n",
    "                                        params=extended_params_p3,\n",
    "                                        sim=sim,\n",
    "                                        scalar_cost_function=True,\n",
    "                                        nshots=0)\n",
    "\n",
    "res = minimize(cost_function, extended_params_p3.raw(), tol=1e-3,\n",
    "                      options={\"maxiter\": 500}, method=\"Cobyla\")\n",
    "res"
   ]
  },
  {
   "cell_type": "markdown",
   "metadata": {},
   "source": [
    "Clearly now we have found a much better ground state energy. The result attribute `x` is a list of the optimal circuit parameters that have been found. We can disentangle this into the `betas` and `gammas` of our QAOA parameterisation by using the `update_from_raw()` method:"
   ]
  },
  {
   "cell_type": "code",
   "execution_count": 12,
   "metadata": {},
   "outputs": [
    {
     "data": {
      "text/plain": [
       "Hyperparameters:\n",
       "\tregister: [0, 1, 2]\n",
       "\tqubits_singles: [0, 1, 2]\n",
       "\tqubits_pairs: [[0, 1], [0, 2], [1, 2]]\n",
       "Parameters:\n",
       "\tbetas: [[1.84030115 0.76415088 1.4940298 ], [0.54316344 0.09387112 0.36230143], [0.00807827 0.04683236 0.47404184]]\n",
       "\tgammas_singles: [[1.87792982 1.03825615 0.04020408], [1.18729058 0.19077649 1.89766998], [0.32366629 1.8818648  0.14366302]]\n",
       "\tgammas_pairs: [[ 0.06541118 -0.15807758  0.01375462], [ 0.84984759  0.17237512  0.09283079], [ 0.67983022  0.69662693  0.52378401]]"
      ]
     },
     "execution_count": 12,
     "metadata": {},
     "output_type": "execute_result"
    }
   ],
   "source": [
    "extended_params_p3.update_from_raw(res['x'])\n",
    "extended_params_p3"
   ]
  },
  {
   "cell_type": "markdown",
   "metadata": {},
   "source": [
    "Now that we have the optimal angles, we can prepare the corresponding state and sample from it to obtain the most probable bitstring. \n",
    "\n",
    "In this notebook we are using the wavefunction simulator, which allows us to 'cheat' and easily obtain any observable quantity without the need to sample. We use the `get_wavefunction` method of the `cost_function` to obtain the wavefunction, then compute the corresponding probabilities, and plot a bar graph of the outcomes:"
   ]
  },
  {
   "cell_type": "code",
   "execution_count": 13,
   "metadata": {},
   "outputs": [
    {
     "name": "stdout",
     "output_type": "stream",
     "text": [
      "(0.0059135402+0.0077248702j)|000> + (-0.0015854429-0.002162218j)|001> + (0.0003232891-0.000907545j)|010> + (0.0084391986-0.0068893225j)|011> + (0.0050036803-0.0001815396j)|100> + (-0.0078923198-0.0007587146j)|101> + (0.9331726395-0.358988764j)|110> + (0.0011660097+0.002270504j)|111>\n"
     ]
    }
   ],
   "source": [
    "opt_wfn = cost_function.get_wavefunction(res.x)\n",
    "print(opt_wfn)"
   ]
  },
  {
   "cell_type": "code",
   "execution_count": 14,
   "metadata": {},
   "outputs": [
    {
     "data": {
      "text/plain": [
       "array([9.46435769e-05, 7.18881600e-06, 9.28153750e-07, 1.18682837e-04,\n",
       "       2.50697728e-05, 6.28643591e-05, 9.99684108e-01, 6.51476685e-06])"
      ]
     },
     "execution_count": 14,
     "metadata": {},
     "output_type": "execute_result"
    }
   ],
   "source": [
    "probs = opt_wfn.probabilities()\n",
    "probs"
   ]
  },
  {
   "cell_type": "code",
   "execution_count": 15,
   "metadata": {},
   "outputs": [
    {
     "data": {
      "image/png": "[encoded data removed]",
      "text/plain": [
       "<Figure size 432x288 with 1 Axes>"
      ]
     },
     "metadata": {
      "needs_background": "light"
     },
     "output_type": "display_data"
    }
   ],
   "source": [
    "labels = [\"{0:03b}\".format(i) for i in range(8)]\n",
    "plt.bar(range(8),probs)\n",
    "plt.xticks(range(8), labels);"
   ]
  },
  {
   "cell_type": "markdown",
   "metadata": {},
   "source": [
    "The QAOA has determined that the bitstring 110 (6 in decimal) is the minimum energy solution with essentially unit probability. Let's check this is consistent with the real answer:"
   ]
  },
  {
   "cell_type": "code",
   "execution_count": 16,
   "metadata": {},
   "outputs": [
    {
     "data": {
      "text/plain": [
       "(array([ 2.86390016+0.j, -0.33618452+0.j, -0.48516548+0.j, -0.95056648+0.j,\n",
       "         0.59958035+0.j, -0.20989701+0.j, -1.70343667+0.j,  0.22176964+0.j]),\n",
       " array([[1.+0.j, 0.+0.j, 0.+0.j, 0.+0.j, 0.+0.j, 0.+0.j, 0.+0.j, 0.+0.j],\n",
       "        [0.+0.j, 1.+0.j, 0.+0.j, 0.+0.j, 0.+0.j, 0.+0.j, 0.+0.j, 0.+0.j],\n",
       "        [0.+0.j, 0.+0.j, 1.+0.j, 0.+0.j, 0.+0.j, 0.+0.j, 0.+0.j, 0.+0.j],\n",
       "        [0.+0.j, 0.+0.j, 0.+0.j, 1.+0.j, 0.+0.j, 0.+0.j, 0.+0.j, 0.+0.j],\n",
       "        [0.+0.j, 0.+0.j, 0.+0.j, 0.+0.j, 1.+0.j, 0.+0.j, 0.+0.j, 0.+0.j],\n",
       "        [0.+0.j, 0.+0.j, 0.+0.j, 0.+0.j, 0.+0.j, 1.+0.j, 0.+0.j, 0.+0.j],\n",
       "        [0.+0.j, 0.+0.j, 0.+0.j, 0.+0.j, 0.+0.j, 0.+0.j, 1.+0.j, 0.+0.j],\n",
       "        [0.+0.j, 0.+0.j, 0.+0.j, 0.+0.j, 0.+0.j, 0.+0.j, 0.+0.j, 1.+0.j]]))"
      ]
     },
     "execution_count": 16,
     "metadata": {},
     "output_type": "execute_result"
    }
   ],
   "source": [
    "np.linalg.eig(ham_matrix)"
   ]
  },
  {
   "cell_type": "markdown",
   "metadata": {},
   "source": [
    "The lowest energy solution does indeed correspond to the eigenvector $(0,0,0,0,0,0,1,0)$, i.e. the $|110\\rangle$ component. Suppose that we return to the original Hamiltonian, but instead we remove the single-qubit bias term on qubit 0. Let's run the computation again and see what result we find."
   ]
  },
  {
   "cell_type": "code",
   "execution_count": 17,
   "metadata": {},
   "outputs": [
    {
     "data": {
      "image/png": "[encoded data removed]",
      "text/plain": [
       "<Figure size 432x288 with 1 Axes>"
      ]
     },
     "metadata": {
      "needs_background": "light"
     },
     "output_type": "display_data"
    }
   ],
   "source": [
    "term1 = PauliTerm(\"Z\", 0, 0.7) * PauliTerm(\"Z\", 1)\n",
    "term2 = PauliTerm(\"Z\", 0, 1.2) * PauliTerm(\"Z\", 2)\n",
    "\n",
    "hamiltonian_unbiased = PauliSum([term1, term2])\n",
    "n_steps = 2\n",
    "\n",
    "params_unbiased = ExtendedParams.linear_ramp_from_hamiltonian(hamiltonian_unbiased,n_steps)\n",
    "\n",
    "cost_function_unbiased = QAOACostFunctionOnWFSim(hamiltonian_unbiased,\n",
    "                                                 params=params_unbiased,\n",
    "                                                 sim=sim,\n",
    "                                                 nshots=0)\n",
    "\n",
    "res_unbiased = minimize(cost_function_unbiased, params_unbiased.raw(), tol=1e-3, options={\"maxiter\":500})\n",
    "\n",
    "opt_wfn_unbiased = cost_function_unbiased.get_wavefunction(res_unbiased.x)\n",
    "probs_unbiased = opt_wfn_unbiased.probabilities()\n",
    "\n",
    "labels = [\"{0:03b}\".format(i) for i in range(8)]\n",
    "plt.bar(range(8),probs_unbiased)\n",
    "plt.xticks(range(8), labels);"
   ]
  },
  {
   "cell_type": "markdown",
   "metadata": {},
   "source": [
    "Now the probabilities are completely symmetric under a bit flip on all qubits - there is no bias term in the Hamiltonian to force a given qubit into state $|0\\rangle$ or $|1\\rangle$, and the eigenspectrum of the cost function Hamiltonian is \"doubly degenerate\", i.e. the energy eigenstates fall into pairs, where the corresponding eigenstates are related to one another by a bit flip on all qubits. "
   ]
  },
  {
   "cell_type": "code",
   "execution_count": null,
   "metadata": {},
   "outputs": [],
   "source": []
  }
 ],
 "metadata": {
  "kernelspec": {
   "display_name": "Python 3",
   "language": "python",
   "name": "python3"
  },
  "language_info": {
   "codemirror_mode": {
    "name": "ipython",
    "version": 3
   },
   "file_extension": ".py",
   "mimetype": "text/x-python",
   "name": "python",
   "nbconvert_exporter": "python",
   "pygments_lexer": "ipython3",
   "version": "3.7.4"
  }
 },
 "nbformat": 4,
 "nbformat_minor": 4
}
