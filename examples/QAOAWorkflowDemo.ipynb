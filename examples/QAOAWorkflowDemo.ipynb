{
 "cells": [
  {
   "cell_type": "markdown",
   "metadata": {},
   "source": [
    "# An example workflow of the QAOA package\n",
    "\n",
    "This notebook walks through a simple example workflow, and is intended as a quick introduction to the functionalities of the package. More elaborate examples are provided in other notebooks."
   ]
  },
  {
   "cell_type": "code",
   "execution_count": 1,
   "metadata": {},
   "outputs": [],
   "source": [
    "import numpy as np\n",
    "import matplotlib.pyplot as plt\n",
    "from scipy.optimize import minimize\n",
    "\n",
    "# import the neccesary pyquil modules\n",
    "from pyquil.api import local_qvm, WavefunctionSimulator\n",
    "from pyquil.paulis import PauliSum, PauliTerm\n",
    "from pyquil.unitary_tools import lifted_pauli\n",
    "\n",
    "# import the QAOAParameters that we want to demo\n",
    "from entropica_qaoa.qaoa.parameters import (AbstractParams, StandardParams, ExtendedParams,\n",
    "                                         QAOAParameterIterator)\n",
    "\n",
    "# import VQE and cost function modules\n",
    "from entropica_qaoa.qaoa.cost_function import QAOACostFunctionOnQVM, QAOACostFunctionOnWFSim"
   ]
  },
  {
   "cell_type": "markdown",
   "metadata": {},
   "source": [
    "## Set up the problem hyperparameters\n",
    "\n",
    "We start by setting up the Hamiltonian encoding the cost function we wish to minimise, as well as the timesteps to run QAOA. We do so by first using the `AbstractParams` class, however we could just as easily set up any specific parametrisation directly -- see the notebook `QAOAParameterDemo.ipynb` for more details. "
   ]
  },
  {
   "cell_type": "code",
   "execution_count": 2,
   "metadata": {},
   "outputs": [
    {
     "name": "stdout",
     "output_type": "stream",
     "text": [
      "hamiltonian = (0.7+0j)*Z0*Z1 + (1.2+0j)*Z0*Z2 + (-0.5+0j)*Z0\n",
      "Hyperparameters:\n",
      "\tregister: [0, 1, 2]\n",
      "\tqubits_singles: [0]\n",
      "\tsingle_qubit_coeffs: [-0.5]\n",
      "\tqubits_pairs: [[0, 1], [0, 2]]\n",
      "\tpair_qubit_coeffs: [0.7 1.2]\n",
      "\tn_steps: 2\n",
      "\n"
     ]
    }
   ],
   "source": [
    "hamiltonian = []\n",
    "hamiltonian.append(PauliTerm(\"Z\", 0, 0.7)*PauliTerm(\"Z\", 1))\n",
    "hamiltonian.append(PauliTerm(\"Z\", 0, 1.2)*PauliTerm(\"Z\", 2))\n",
    "hamiltonian.append(PauliTerm(\"Z\", 0, -0.5))\n",
    "hamiltonian = PauliSum(hamiltonian)\n",
    "print(\"hamiltonian =\", hamiltonian)\n",
    "\n",
    "timesteps = 2\n",
    "abstract_params = AbstractParams([hamiltonian,timesteps])\n",
    "print(abstract_params)"
   ]
  },
  {
   "cell_type": "markdown",
   "metadata": {},
   "source": [
    "## Specfify the variable parameters and create corresponding `QAOAParameters` object\n",
    "\n",
    "Here we will set up `StandardParameters` - this corresponds to the parametrisation of the original QAOA paper by Farhi et al, where the mixer and cost Hamiltonian each have one angle per timestep (giving a total of 2p parameters to optimise over)."
   ]
  },
  {
   "cell_type": "code",
   "execution_count": 3,
   "metadata": {},
   "outputs": [
    {
     "name": "stdout",
     "output_type": "stream",
     "text": [
      "Hyperparameters:\n",
      "\tregister: [0, 1, 2]\n",
      "\tqubits_singles: [0]\n",
      "\tqubits_pairs: [[0, 1], [0, 2]]\n",
      "Parameters:\n",
      "\tbetas: [0.1 0.6]\n",
      "\tgammas: [0.4 0.5]\n",
      "\n"
     ]
    }
   ],
   "source": [
    "# Specify some angles\n",
    "betas = [0.1, 0.6]\n",
    "gammas = [0.4, 0.5]\n",
    "parameters = (betas, gammas)\n",
    "\n",
    "standard_params = StandardParams.from_AbstractParameters(abstract_params, parameters)\n",
    "print(standard_params)"
   ]
  },
  {
   "cell_type": "markdown",
   "metadata": {},
   "source": [
    "## Set up the cost function and running the optimiser"
   ]
  },
  {
   "cell_type": "markdown",
   "metadata": {},
   "source": [
    "For simplicity here, we will work on the wavefunction simulator, which requires opening the QVM and Quil Compiler.\n",
    "Open two separate terminal windows, typing `qvm -S` in one, and `quilc -S` in the other. If you have installed the Forest SDK, the Quantum Virtual Machine will start in the background. More information on installing and running the QVM can be found in Rigetti's __[Forest documentation](http://docs.rigetti.com/en/stable/start.html)__. "
   ]
  },
  {
   "cell_type": "code",
   "execution_count": 4,
   "metadata": {},
   "outputs": [],
   "source": [
    "# Set up the WavefunctionSimulator object\n",
    "sim = WavefunctionSimulator()"
   ]
  },
  {
   "cell_type": "markdown",
   "metadata": {},
   "source": [
    "We now create the `cost_function` object, with all the necessary inputs. In the notebook `VQEDemo.ipynb` we give more detail and illustration of the uasge of the `scalar_cost_function`, `noisy` and `enable_logging` features; in this notebook, we will not make use of them."
   ]
  },
  {
   "cell_type": "code",
   "execution_count": 5,
   "metadata": {},
   "outputs": [
    {
     "data": {
      "text/plain": [
       "      fun: -1.7154095396254412\n",
       " hess_inv: array([[ 0.0830568 ,  0.03328284, -0.01703522,  0.00809966],\n",
       "       [ 0.03328284,  0.07835203, -0.01554634,  0.00493801],\n",
       "       [-0.01703522, -0.01554634,  0.10263509,  0.02494807],\n",
       "       [ 0.00809966,  0.00493801,  0.02494807,  0.1303328 ]])\n",
       "      jac: array([-1.07899308e-04,  2.46793032e-04,  1.92970037e-05, -3.48538160e-05])\n",
       "  message: 'Optimization terminated successfully.'\n",
       "     nfev: 126\n",
       "      nit: 16\n",
       "     njev: 21\n",
       "   status: 0\n",
       "  success: True\n",
       "        x: array([0.4952357 , 0.26456877, 0.42861577, 0.78512534])"
      ]
     },
     "execution_count": 5,
     "metadata": {},
     "output_type": "execute_result"
    }
   ],
   "source": [
    "# set up the cost function\n",
    "cost_function = QAOACostFunctionOnWFSim(hamiltonian,\n",
    "                                        params=standard_params,\n",
    "                                        sim=sim,\n",
    "                                        scalar_cost_function=True, # See VQEDemo.ipynb for more details\n",
    "                                        nshots=1,                  # irrelevant, if noisy=False\n",
    "                                        noisy=False,               # See VQEDemo.ipynb for more details\n",
    "                                        enable_logging=False)\n",
    "\n",
    "# and optimize the parameters\n",
    "res = minimize(cost_function, standard_params.raw(), tol=1e-3,\n",
    "                      options={\"maxiter\": 500})\n",
    "res"
   ]
  },
  {
   "cell_type": "markdown",
   "metadata": {},
   "source": [
    "We can check this against the value we should get, by finding the lowest eigenvalue of `hamiltonian`."
   ]
  },
  {
   "cell_type": "code",
   "execution_count": 6,
   "metadata": {},
   "outputs": [
    {
     "data": {
      "text/plain": [
       "(-2.4+0j)"
      ]
     },
     "execution_count": 6,
     "metadata": {},
     "output_type": "execute_result"
    }
   ],
   "source": [
    "ham_matrix = lifted_pauli(hamiltonian,hamiltonian.get_qubits())\n",
    "eigs = np.linalg.eigvals(ham_matrix)\n",
    "min(eigs)"
   ]
  },
  {
   "cell_type": "markdown",
   "metadata": {},
   "source": [
    "Clearly we have not found the ground state energy. We can try increasing the number of timesteps:"
   ]
  },
  {
   "cell_type": "code",
   "execution_count": 7,
   "metadata": {},
   "outputs": [],
   "source": [
    "betas          = [0.1, 0.6, 0.8]\n",
    "gammas_singles = [0.4, 0.5, 0.6]\n",
    "gammas_pairs   = [0.1, 0.3, 0.5]\n",
    "parameters = (betas, gammas_singles, gammas_pairs)\n",
    "\n",
    "standard_params_p3 = StandardParams([hamiltonian,3],parameters)"
   ]
  },
  {
   "cell_type": "code",
   "execution_count": 8,
   "metadata": {},
   "outputs": [
    {
     "data": {
      "text/plain": [
       "      fun: -1.9556233482561467\n",
       " hess_inv: array([[ 0.0831613 ,  0.04448419,  0.03471919, -0.0170294 , -0.0080001 ,\n",
       "        -0.00480396],\n",
       "       [ 0.04448419,  0.09979178,  0.05655973, -0.00272076,  0.00327948,\n",
       "        -0.01337178],\n",
       "       [ 0.03471919,  0.05655973,  0.09356553,  0.00548783,  0.00431584,\n",
       "        -0.00112389],\n",
       "       [-0.0170294 , -0.00272076,  0.00548783,  0.19939433,  0.13690652,\n",
       "         0.08379491],\n",
       "       [-0.0080001 ,  0.00327948,  0.00431584,  0.13690652,  0.17252557,\n",
       "         0.07257511],\n",
       "       [-0.00480396, -0.01337178, -0.00112389,  0.08379491,  0.07257511,\n",
       "         0.16000797]])\n",
       "      jac: array([ 2.63422728e-04,  1.73509121e-04, -1.90749764e-04,  2.13459134e-04,\n",
       "       -1.99094415e-04,  8.55326653e-05])\n",
       "  message: 'Optimization terminated successfully.'\n",
       "     nfev: 328\n",
       "      nit: 30\n",
       "     njev: 41\n",
       "   status: 0\n",
       "  success: True\n",
       "        x: array([0.64276829, 0.43356982, 0.24545528, 0.39828893, 0.75863776,\n",
       "       0.81549836])"
      ]
     },
     "execution_count": 8,
     "metadata": {},
     "output_type": "execute_result"
    }
   ],
   "source": [
    "sim = WavefunctionSimulator()\n",
    "\n",
    "cost_function = QAOACostFunctionOnWFSim(hamiltonian,\n",
    "                                        params=standard_params_p3,\n",
    "                                        sim=sim,\n",
    "                                        scalar_cost_function=True,\n",
    "                                        nshots=10,\n",
    "                                        noisy=False)\n",
    "\n",
    "res = minimize(cost_function, standard_params_p3.raw(), tol=1e-3,\n",
    "                      options={\"maxiter\": 500})\n",
    "res"
   ]
  },
  {
   "cell_type": "markdown",
   "metadata": {},
   "source": [
    "This is better, but still not the actual ground state. Since we don't seem to be doing very well with `StandardParams`, let's try the `ExtendedParams` parametrisation instead."
   ]
  },
  {
   "cell_type": "code",
   "execution_count": 9,
   "metadata": {},
   "outputs": [
    {
     "data": {
      "text/plain": [
       "      fun: -2.3999999966889356\n",
       " hess_inv: array([[ 4.88042626e-01, -2.95845670e-02, -2.06398994e-01,\n",
       "        -3.08560125e-02, -7.12674822e-02,  8.11481597e-03,\n",
       "        -1.32067982e-02, -1.11947884e-02,  5.17405181e-02,\n",
       "         6.37337196e-03,  1.95990547e-02, -1.20960253e-02,\n",
       "        -2.99686862e-02, -3.62104020e-03,  6.06436689e-02,\n",
       "        -3.18919128e-02, -4.24881330e-02, -7.95007351e-02],\n",
       "       [-2.95845670e-02,  9.98161758e-01,  4.35330955e-02,\n",
       "         1.64800708e-02,  7.20132013e-02, -1.24170709e-02,\n",
       "        -2.46764475e-02,  6.60675999e-02, -1.21868887e-02,\n",
       "         1.23175105e-01,  5.60955657e-03,  9.15458166e-03,\n",
       "         1.60492697e-02, -1.32231913e-02,  4.02743747e-03,\n",
       "         2.10452518e-02,  3.16716185e-03,  5.14795757e-02],\n",
       "       [-2.06398994e-01,  4.35330955e-02,  9.74013714e-01,\n",
       "         1.06518864e-01,  5.29013641e-02,  5.03920198e-02,\n",
       "         3.08787545e-02,  8.32472020e-02,  3.27140824e-02,\n",
       "         3.93887535e-01,  2.59976403e-02,  1.52356049e-02,\n",
       "        -7.54865429e-02, -3.68373961e-02,  4.52709842e-02,\n",
       "         8.63469475e-02,  1.18480972e-01, -2.36986023e-02],\n",
       "       [-3.08560125e-02,  1.64800708e-02,  1.06518864e-01,\n",
       "         1.40931115e-01,  2.11668238e-02, -1.02831782e-02,\n",
       "         5.78468139e-02, -3.90981189e-04, -2.51941615e-02,\n",
       "        -2.72159650e-02,  2.19900359e-03, -1.71534161e-03,\n",
       "        -8.05517365e-03, -5.40180544e-03, -2.55145487e-02,\n",
       "         2.89344894e-02,  2.55856785e-02,  4.52095345e-02],\n",
       "       [-7.12674822e-02,  7.20132013e-02,  5.29013641e-02,\n",
       "         2.11668238e-02,  7.37697168e-01, -1.00126079e-02,\n",
       "         1.60193841e-02, -3.11038492e-01, -9.93000814e-03,\n",
       "         5.65936091e-02,  2.06196107e-02,  1.33435771e-02,\n",
       "        -1.47996383e-02,  7.79661670e-03,  3.23067460e-02,\n",
       "         3.16003087e-02,  1.55100205e-01,  3.82700150e-03],\n",
       "       [ 8.11481597e-03, -1.24170709e-02,  5.03920198e-02,\n",
       "        -1.02831782e-02, -1.00126079e-02,  3.11389136e-01,\n",
       "         9.32302661e-03, -2.35173413e-02,  1.34501736e-01,\n",
       "         3.03346889e-03,  1.47895367e-02, -1.49345286e-03,\n",
       "        -1.20708168e-04,  9.13488725e-03,  1.90321677e-02,\n",
       "        -4.69218826e-02, -2.92917139e-02,  2.74492286e-01],\n",
       "       [-1.32067982e-02, -2.46764475e-02,  3.08787545e-02,\n",
       "         5.78468139e-02,  1.60193841e-02,  9.32302661e-03,\n",
       "         1.18115023e-01, -1.48933496e-02, -9.67805495e-04,\n",
       "        -4.27632760e-02, -3.71548387e-02, -1.36375294e-02,\n",
       "        -6.08588736e-03,  2.96562457e-03,  1.01294932e-02,\n",
       "         2.58023726e-03,  9.00676801e-03,  2.96680648e-02],\n",
       "       [-1.11947884e-02,  6.60675999e-02,  8.32472020e-02,\n",
       "        -3.90981189e-04, -3.11038492e-01, -2.35173413e-02,\n",
       "        -1.48933496e-02,  4.51925729e-01, -3.72037136e-02,\n",
       "        -1.57648662e-02,  8.63406702e-04,  1.53805298e-02,\n",
       "        -2.25596186e-02, -1.84754318e-02, -1.70189534e-01,\n",
       "         3.40801904e-02,  1.85238255e-02,  4.08663722e-02],\n",
       "       [ 5.17405181e-02, -1.21868887e-02,  3.27140824e-02,\n",
       "        -2.51941615e-02, -9.93000814e-03,  1.34501736e-01,\n",
       "        -9.67805495e-04, -3.72037136e-02,  6.22644166e-01,\n",
       "        -8.85710475e-02, -2.81961765e-02, -2.78230360e-03,\n",
       "        -3.24778656e-02,  4.25749256e-03, -5.25082624e-02,\n",
       "        -4.26380089e-01,  1.85243525e-02,  1.58976474e-02],\n",
       "       [ 6.37337196e-03,  1.23175105e-01,  3.93887535e-01,\n",
       "        -2.72159650e-02,  5.65936091e-02,  3.03346889e-03,\n",
       "        -4.27632760e-02, -1.57648662e-02, -8.85710475e-02,\n",
       "         2.04097168e+00,  2.11094150e-01,  5.48530970e-02,\n",
       "         7.73761323e-02, -1.20457990e-02, -6.30094334e-02,\n",
       "         4.62114268e-02, -2.23300332e-02,  1.75727931e-01],\n",
       "       [ 1.95990547e-02,  5.60955657e-03,  2.59976403e-02,\n",
       "         2.19900359e-03,  2.06196107e-02,  1.47895367e-02,\n",
       "        -3.71548387e-02,  8.63406702e-04, -2.81961765e-02,\n",
       "         2.11094150e-01,  1.02008873e+00,  1.36208461e-02,\n",
       "         9.88517053e-03,  1.18834681e-02, -2.40237245e-02,\n",
       "        -1.36263647e-02,  2.79027540e-02,  3.97622133e-02],\n",
       "       [-1.20960253e-02,  9.15458166e-03,  1.52356049e-02,\n",
       "        -1.71534161e-03,  1.33435771e-02, -1.49345286e-03,\n",
       "        -1.36375294e-02,  1.53805298e-02, -2.78230360e-03,\n",
       "         5.48530970e-02,  1.36208461e-02,  9.96340476e-01,\n",
       "         6.78904853e-03,  1.42965823e-02, -6.92225950e-03,\n",
       "        -6.95204812e-03, -3.26440143e-02, -2.32480674e-02],\n",
       "       [-2.99686862e-02,  1.60492697e-02, -7.54865429e-02,\n",
       "        -8.05517365e-03, -1.47996383e-02, -1.20708168e-04,\n",
       "        -6.08588736e-03, -2.25596186e-02, -3.24778656e-02,\n",
       "         7.73761323e-02,  9.88517053e-03,  6.78904853e-03,\n",
       "         4.03340996e-01,  7.64802637e-04,  7.54719935e-03,\n",
       "         3.69965465e-02,  2.41215853e-02,  1.89227456e-02],\n",
       "       [-3.62104020e-03, -1.32231913e-02, -3.68373961e-02,\n",
       "        -5.40180544e-03,  7.79661670e-03,  9.13488725e-03,\n",
       "         2.96562457e-03, -1.84754318e-02,  4.25749256e-03,\n",
       "        -1.20457990e-02,  1.18834681e-02,  1.42965823e-02,\n",
       "         7.64802637e-04,  8.97875055e-02,  3.88857176e-02,\n",
       "         1.70687211e-02, -2.94150485e-02,  7.21163148e-02],\n",
       "       [ 6.06436689e-02,  4.02743747e-03,  4.52709842e-02,\n",
       "        -2.55145487e-02,  3.23067460e-02,  1.90321677e-02,\n",
       "         1.01294932e-02, -1.70189534e-01, -5.25082624e-02,\n",
       "        -6.30094334e-02, -2.40237245e-02, -6.92225950e-03,\n",
       "         7.54719935e-03,  3.88857176e-02,  7.12052035e-01,\n",
       "         9.72709451e-03, -1.71866238e-01, -4.66908498e-03],\n",
       "       [-3.18919128e-02,  2.10452518e-02,  8.63469475e-02,\n",
       "         2.89344894e-02,  3.16003087e-02, -4.69218826e-02,\n",
       "         2.58023726e-03,  3.40801904e-02, -4.26380089e-01,\n",
       "         4.62114268e-02, -1.36263647e-02, -6.95204812e-03,\n",
       "         3.69965465e-02,  1.70687211e-02,  9.72709451e-03,\n",
       "         4.19410161e-01,  2.39318315e-02,  4.66103146e-02],\n",
       "       [-4.24881330e-02,  3.16716185e-03,  1.18480972e-01,\n",
       "         2.55856785e-02,  1.55100205e-01, -2.92917139e-02,\n",
       "         9.00676801e-03,  1.85238255e-02,  1.85243525e-02,\n",
       "        -2.23300332e-02,  2.79027540e-02, -3.26440143e-02,\n",
       "         2.41215853e-02, -2.94150485e-02, -1.71866238e-01,\n",
       "         2.39318315e-02,  5.49963287e-01, -9.20670734e-02],\n",
       "       [-7.95007351e-02,  5.14795757e-02, -2.36986023e-02,\n",
       "         4.52095345e-02,  3.82700150e-03,  2.74492286e-01,\n",
       "         2.96680648e-02,  4.08663722e-02,  1.58976474e-02,\n",
       "         1.75727931e-01,  3.97622133e-02, -2.32480674e-02,\n",
       "         1.89227456e-02,  7.21163148e-02, -4.66908498e-03,\n",
       "         4.66103146e-02, -9.20670734e-02,  7.22945850e-01]])\n",
       "      jac: array([-3.94284725e-05, -8.94069672e-08, -8.94069672e-08, -1.89840794e-05,\n",
       "       -3.00705433e-05, -6.95288181e-05,  2.79843807e-05, -3.49283218e-05,\n",
       "        1.02430582e-04,  1.74939632e-05,  2.98023224e-08, -2.98023224e-08,\n",
       "       -4.60147858e-05, -1.10954046e-04, -9.23871994e-07,  9.76026058e-05,\n",
       "        1.16527081e-05,  7.06315041e-06])\n",
       "  message: 'Optimization terminated successfully.'\n",
       "     nfev: 480\n",
       "      nit: 18\n",
       "     njev: 24\n",
       "   status: 0\n",
       "  success: True\n",
       "        x: array([ 7.85378522e-01,  5.54395884e-01,  7.43442735e-01, -9.02268301e-07,\n",
       "        3.69030956e-01,  8.20260718e-01,  2.45365149e-06,  5.18761296e-01,\n",
       "        8.97713742e-02,  1.57083150e+00,  1.83273170e-01, -1.96064215e-01,\n",
       "       -1.95043169e-05, -1.13888786e-05,  6.11712564e-01,  5.85523843e-01,\n",
       "        6.17534082e-01,  8.19148094e-01])"
      ]
     },
     "execution_count": 9,
     "metadata": {},
     "output_type": "execute_result"
    }
   ],
   "source": [
    "extended_params_p3 = ExtendedParams.linear_ramp_from_hamiltonian(hamiltonian, n_steps=3)\n",
    "\n",
    "cost_function = QAOACostFunctionOnWFSim(hamiltonian,\n",
    "                                        params=extended_params_p3,\n",
    "                                        sim=sim,\n",
    "                                        scalar_cost_function=True,\n",
    "                                        nshots=1,\n",
    "                                        noisy=False)\n",
    "\n",
    "res = minimize(cost_function, extended_params_p3.raw(), tol=1e-3,\n",
    "                      options={\"maxiter\": 500})\n",
    "res"
   ]
  },
  {
   "cell_type": "markdown",
   "metadata": {},
   "source": [
    "Clearly now we have found a much better ground state energy. The result attribute `x` is a list of the optimal circuit parameters that have been found. We can disentangle this into the `betas` and `gammas` of our QAOA parameterisation by using the `update_from_raw()` method:"
   ]
  },
  {
   "cell_type": "code",
   "execution_count": 10,
   "metadata": {},
   "outputs": [
    {
     "data": {
      "text/plain": [
       "Hyperparameters:\n",
       "\tregister: [0, 1, 2]\n",
       "\tqubits_singles: [0]\n",
       "\tqubits_pairs: [[0, 1], [0, 2]]\n",
       "Parameters:\n",
       "\tbetas: [[ 7.85378522e-01  5.54395884e-01  7.43442735e-01], [-9.02268301e-07  3.69030956e-01  8.20260718e-01], [ 2.45365149e-06  5.18761296e-01  8.97713742e-02]]\n",
       "\tgammas_singles: [[ 1.5708315 ], [ 0.18327317], [-0.19606422]]\n",
       "\tgammas_pairs: [[-1.95043169e-05 -1.13888786e-05], [ 6.11712564e-01  5.85523843e-01], [ 6.17534082e-01  8.19148094e-01]]"
      ]
     },
     "execution_count": 10,
     "metadata": {},
     "output_type": "execute_result"
    }
   ],
   "source": [
    "extended_params_p3.update_from_raw(res['x'])\n",
    "extended_params_p3"
   ]
  },
  {
   "cell_type": "markdown",
   "metadata": {},
   "source": [
    "Now that we have the optimal angles, we can prepare the corresponding state and sample from it to obtain the most probable bitstring. \n",
    "\n",
    "In this notebook we are using the wavefunction simulator, which allows us to 'cheat' and easily obtain any observable quantity without the need to sample. We use the `get_wavefunction` method of the `cost_function` to obtain the wavefunction, then compute the corresponding probabilities, and plot a bar graph of the outcomes:"
   ]
  },
  {
   "cell_type": "code",
   "execution_count": 11,
   "metadata": {},
   "outputs": [
    {
     "name": "stdout",
     "output_type": "stream",
     "text": [
      "(-4e-10+3e-10j)|000> + (2.63594e-05+1.8679e-06j)|001> + (-1.01947e-05-1.99696e-05j)|010> + (9.1322e-06-1.01917e-05j)|011> + (1.36857e-05+3.964e-06j)|100> + (-1.17957e-05-6.8115e-06j)|101> + (-0.7070820408+0.7071315195j)|110> + (-1.706e-06-2.4062e-06j)|111>\n"
     ]
    }
   ],
   "source": [
    "opt_wfn = cost_function.get_wavefunction(res.x)\n",
    "print(opt_wfn)"
   ]
  },
  {
   "cell_type": "code",
   "execution_count": 12,
   "metadata": {},
   "outputs": [
    {
     "data": {
      "text/plain": [
       "array([2.02165577e-19, 6.98308037e-10, 5.02716920e-10, 1.87267345e-10,\n",
       "       2.03011139e-10, 1.85534272e-10, 9.99999998e-01, 8.69998950e-12])"
      ]
     },
     "execution_count": 12,
     "metadata": {},
     "output_type": "execute_result"
    }
   ],
   "source": [
    "probs = opt_wfn.probabilities()\n",
    "probs"
   ]
  },
  {
   "cell_type": "code",
   "execution_count": 13,
   "metadata": {},
   "outputs": [
    {
     "data": {
      "image/png": "[encoded data removed]",
      "text/plain": [
       "<Figure size 432x288 with 1 Axes>"
      ]
     },
     "metadata": {
      "needs_background": "light"
     },
     "output_type": "display_data"
    }
   ],
   "source": [
    "labels = [\"{0:03b}\".format(i) for i in range(8)]\n",
    "plt.bar(range(8),probs)\n",
    "plt.xticks(range(8), labels)\n",
    "plt.show()"
   ]
  },
  {
   "cell_type": "markdown",
   "metadata": {},
   "source": [
    "The QAOA has determined that the bitstring 110 (6 in decimal) is the minimum energy solution with essentially unit probability. Let's check this is consistent with the real answer:"
   ]
  },
  {
   "cell_type": "code",
   "execution_count": 14,
   "metadata": {},
   "outputs": [
    {
     "data": {
      "text/plain": [
       "(array([ 1.4+0.j, -1.4+0.j,  0. +0.j,  0. +0.j, -1. +0.j,  1. +0.j,\n",
       "        -2.4+0.j,  2.4+0.j]),\n",
       " array([[1.+0.j, 0.+0.j, 0.+0.j, 0.+0.j, 0.+0.j, 0.+0.j, 0.+0.j, 0.+0.j],\n",
       "        [0.+0.j, 1.+0.j, 0.+0.j, 0.+0.j, 0.+0.j, 0.+0.j, 0.+0.j, 0.+0.j],\n",
       "        [0.+0.j, 0.+0.j, 1.+0.j, 0.+0.j, 0.+0.j, 0.+0.j, 0.+0.j, 0.+0.j],\n",
       "        [0.+0.j, 0.+0.j, 0.+0.j, 1.+0.j, 0.+0.j, 0.+0.j, 0.+0.j, 0.+0.j],\n",
       "        [0.+0.j, 0.+0.j, 0.+0.j, 0.+0.j, 1.+0.j, 0.+0.j, 0.+0.j, 0.+0.j],\n",
       "        [0.+0.j, 0.+0.j, 0.+0.j, 0.+0.j, 0.+0.j, 1.+0.j, 0.+0.j, 0.+0.j],\n",
       "        [0.+0.j, 0.+0.j, 0.+0.j, 0.+0.j, 0.+0.j, 0.+0.j, 1.+0.j, 0.+0.j],\n",
       "        [0.+0.j, 0.+0.j, 0.+0.j, 0.+0.j, 0.+0.j, 0.+0.j, 0.+0.j, 1.+0.j]]))"
      ]
     },
     "execution_count": 14,
     "metadata": {},
     "output_type": "execute_result"
    }
   ],
   "source": [
    "np.linalg.eig(ham_matrix)"
   ]
  },
  {
   "cell_type": "markdown",
   "metadata": {},
   "source": [
    "The lowest energy solution does indeed correspond to the eigenvector $(0,0,0,0,0,0,1,0)$, i.e. the $|110\\rangle$ component. Suppose that we return to the original Hamiltonian, but instead we remove the single-qubit bias term on qubit 0. Let's run the computation again and see what result we find."
   ]
  },
  {
   "cell_type": "code",
   "execution_count": 15,
   "metadata": {},
   "outputs": [
    {
     "data": {
      "image/png": "[encoded data removed]",
      "text/plain": [
       "<Figure size 432x288 with 1 Axes>"
      ]
     },
     "metadata": {
      "needs_background": "light"
     },
     "output_type": "display_data"
    }
   ],
   "source": [
    "term1 = PauliTerm(\"Z\", 0, 0.7) * PauliTerm(\"Z\", 1)\n",
    "term2 = PauliTerm(\"Z\", 0, 1.2) * PauliTerm(\"Z\", 2)\n",
    "\n",
    "hamiltonian_unbiased = PauliSum([term1, term2])\n",
    "n_steps = 2\n",
    "\n",
    "params_unbiased = ExtendedParams.linear_ramp_from_hamiltonian(hamiltonian_unbiased,n_steps)\n",
    "\n",
    "cost_function_unbiased = QAOACostFunctionOnWFSim(hamiltonian_unbiased,\n",
    "                                        params=params_unbiased,\n",
    "                                        sim=sim,\n",
    "                                        nshots=1,\n",
    "                                        noisy=False)\n",
    "\n",
    "res_unbiased = minimize(cost_function_unbiased, params_unbiased.raw(), tol=1e-3, options={\"maxiter\":500})\n",
    "\n",
    "opt_wfn_unbiased = cost_function_unbiased.get_wavefunction(res_unbiased.x)\n",
    "probs_unbiased = opt_wfn_unbiased.probabilities()\n",
    "\n",
    "labels = [\"{0:03b}\".format(i) for i in range(8)]\n",
    "plt.bar(range(8),probs_unbiased)\n",
    "plt.xticks(range(8), labels)\n",
    "plt.show()"
   ]
  },
  {
   "cell_type": "markdown",
   "metadata": {},
   "source": [
    "Now the probabilities are completely symmetric under a bit flip on all qubits - there is no bias term in the Hamiltonian to force a given qubit into state $|0\\rangle$ or $|1\\rangle$, and the eigenspectrum of the cost function Hamiltonian is \"doubly degenerate\", i.e. the energy eigenstates fall into pairs, where the corresponding eigenstates are related to one another by a bit flip on all qubits. "
   ]
  }
 ],
 "metadata": {
  "kernelspec": {
   "display_name": "Python 3",
   "language": "python",
   "name": "python3"
  },
  "language_info": {
   "codemirror_mode": {
    "name": "ipython",
    "version": 3
   },
   "file_extension": ".py",
   "mimetype": "text/x-python",
   "name": "python",
   "nbconvert_exporter": "python",
   "pygments_lexer": "ipython3",
   "version": "3.7.3"
  }
 },
 "nbformat": 4,
 "nbformat_minor": 4
}
