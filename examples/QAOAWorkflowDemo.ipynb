{
 "cells": [
  {
   "cell_type": "markdown",
   "metadata": {},
   "source": [
    "# An example workflow of the QAOA package\n",
    "\n",
    "This notebook walks through a simple example workflow, and is intended as a quick introduction to the functionalities of the package. More elaborate examples are provided in other notebooks."
   ]
  },
  {
   "cell_type": "code",
   "execution_count": 1,
   "metadata": {},
   "outputs": [],
   "source": [
    "import numpy as np\n",
    "import matplotlib.pyplot as plt\n",
    "from scipy.optimize import minimize\n",
    "\n",
    "# import the neccesary pyquil modules\n",
    "from pyquil.api import local_qvm, WavefunctionSimulator\n",
    "from pyquil.paulis import PauliSum, PauliTerm\n",
    "from pyquil.unitary_tools import lifted_pauli\n",
    "\n",
    "# import the QAOAParameters that we want to demo\n",
    "from entropica_qaoa.qaoa.parameters import (AbstractParams, StandardParams, ExtendedParams,\n",
    "                                         QAOAParameterIterator)\n",
    "\n",
    "# import VQE and cost function modules\n",
    "from entropica_qaoa.qaoa.cost_function import QAOACostFunctionOnQVM, QAOACostFunctionOnWFSim"
   ]
  },
  {
   "cell_type": "markdown",
   "metadata": {},
   "source": [
    "## Set up the problem hyperparameters\n",
    "\n",
    "We start by setting up the Hamiltonian encoding the cost function we wish to minimise, as well as the timesteps to run QAOA. We do so by first using the `AbstractParams` class, however we could just as easily set up any specific parametrisation directly -- see the notebook `QAOAParameterDemo.ipynb` for more details. "
   ]
  },
  {
   "cell_type": "code",
   "execution_count": 2,
   "metadata": {},
   "outputs": [
    {
     "name": "stdout",
     "output_type": "stream",
     "text": [
      "hamiltonian = (0.7+0j)*Z0*Z1 + (1.2+0j)*Z0*Z2 + (-0.5+0j)*Z0\n",
      "Hyperparameters:\n",
      "\tregister: [0, 1, 2]\n",
      "\tqubits_singles: [0]\n",
      "\tsingle_qubit_coeffs: [-0.5]\n",
      "\tqubits_pairs: [[0, 1], [0, 2]]\n",
      "\tpair_qubit_coeffs: [0.7 1.2]\n",
      "\tn_steps: 2\n",
      "\n"
     ]
    }
   ],
   "source": [
    "hamiltonian = []\n",
    "hamiltonian.append(PauliTerm(\"Z\", 0, 0.7)*PauliTerm(\"Z\", 1))\n",
    "hamiltonian.append(PauliTerm(\"Z\", 0, 1.2)*PauliTerm(\"Z\", 2))\n",
    "hamiltonian.append(PauliTerm(\"Z\", 0, -0.5))\n",
    "hamiltonian = PauliSum(hamiltonian)\n",
    "print(\"hamiltonian =\", hamiltonian)\n",
    "\n",
    "timesteps = 2\n",
    "abstract_params = AbstractParams([hamiltonian,timesteps])\n",
    "print(abstract_params)"
   ]
  },
  {
   "cell_type": "markdown",
   "metadata": {},
   "source": [
    "## Specfify the variable parameters and create corresponding `QAOAParameters` object\n",
    "\n",
    "Here we will set up `StandardParameters` - this corresponds to the parametrisation of the original QAOA paper by Farhi et al, where the mixer and cost Hamiltonian each have one angle per timestep (giving a total of 2p parameters to optimise over)."
   ]
  },
  {
   "cell_type": "code",
   "execution_count": 3,
   "metadata": {},
   "outputs": [
    {
     "name": "stdout",
     "output_type": "stream",
     "text": [
      "Hyperparameters:\n",
      "\tregister: [0, 1, 2]\n",
      "\tqubits_singles: [0]\n",
      "\tqubits_pairs: [[0, 1], [0, 2]]\n",
      "Parameters:\n",
      "\tbetas: [0.1 0.6]\n",
      "\tgammas: [0.4 0.5]\n",
      "\n"
     ]
    }
   ],
   "source": [
    "# Specify some angles\n",
    "betas = [0.1, 0.6]\n",
    "gammas = [0.4, 0.5]\n",
    "parameters = (betas, gammas)\n",
    "\n",
    "standard_params = StandardParams.from_AbstractParameters(abstract_params, parameters)\n",
    "print(standard_params)"
   ]
  },
  {
   "cell_type": "markdown",
   "metadata": {},
   "source": [
    "## Set up the cost function and running the optimiser"
   ]
  },
  {
   "cell_type": "markdown",
   "metadata": {},
   "source": [
    "For simplicity here, we will work on the wavefunction simulator, which requires opening the QVM and Quil Compiler.\n",
    "Open two separate terminal windows, typing `qvm -S` in one, and `quilc -S` in the other. If you have installed the Forest SDK, the Quantum Virtual Machine will start in the background. More information on installing and running the QVM can be found in Rigetti's __[Forest documentation](http://docs.rigetti.com/en/stable/start.html)__. "
   ]
  },
  {
   "cell_type": "code",
   "execution_count": 4,
   "metadata": {},
   "outputs": [],
   "source": [
    "# Set up the WavefunctionSimulator object\n",
    "sim = WavefunctionSimulator()"
   ]
  },
  {
   "cell_type": "markdown",
   "metadata": {},
   "source": [
    "We now create the `cost_function` object, with all the necessary inputs. In the notebook `VQEDemo.ipynb` we give more detail and illustration of the uasge of the `scalar_cost_function`, `noisy` and `enable_logging` features; in this notebook, we will not make use of them."
   ]
  },
  {
   "cell_type": "code",
   "execution_count": 5,
   "metadata": {},
   "outputs": [
    {
     "data": {
      "text/plain": [
       "      fun: -1.7154095396250324\n",
       " hess_inv: array([[ 0.08305618,  0.03328256, -0.01703555,  0.00809895],\n",
       "       [ 0.03328256,  0.07835167, -0.0155466 ,  0.00493758],\n",
       "       [-0.01703555, -0.0155466 ,  0.10263499,  0.02494757],\n",
       "       [ 0.00809895,  0.00493758,  0.02494757,  0.13033187]])\n",
       "      jac: array([-1.08063221e-04,  2.46807933e-04,  1.92672014e-05, -3.48985195e-05])\n",
       "  message: 'Optimization terminated successfully.'\n",
       "     nfev: 126\n",
       "      nit: 16\n",
       "     njev: 21\n",
       "   status: 0\n",
       "  success: True\n",
       "        x: array([0.4952357 , 0.26456877, 0.42861577, 0.78512533])"
      ]
     },
     "execution_count": 5,
     "metadata": {},
     "output_type": "execute_result"
    }
   ],
   "source": [
    "# set up the cost function\n",
    "cost_function = QAOACostFunctionOnWFSim(hamiltonian,\n",
    "                                        params=standard_params,\n",
    "                                        sim=sim,\n",
    "                                        scalar_cost_function=True, # See VQEDemo.ipynb for more details\n",
    "                                        nshots=1,                  # irrelevant, if noisy=False\n",
    "                                        noisy=False,               # See VQEDemo.ipynb for more details\n",
    "                                        enable_logging=False)\n",
    "\n",
    "# and optimize the parameters\n",
    "res = minimize(cost_function, standard_params.raw(), tol=1e-3,\n",
    "                      options={\"maxiter\": 500})\n",
    "res"
   ]
  },
  {
   "cell_type": "markdown",
   "metadata": {},
   "source": [
    "We can check this against the value we should get, by finding the lowest eigenvalue of `hamiltonian`."
   ]
  },
  {
   "cell_type": "code",
   "execution_count": 6,
   "metadata": {},
   "outputs": [
    {
     "data": {
      "text/plain": [
       "(-2.4+0j)"
      ]
     },
     "execution_count": 6,
     "metadata": {},
     "output_type": "execute_result"
    }
   ],
   "source": [
    "ham_matrix = lifted_pauli(hamiltonian,hamiltonian.get_qubits())\n",
    "eigs = np.linalg.eigvals(ham_matrix)\n",
    "min(eigs)"
   ]
  },
  {
   "cell_type": "markdown",
   "metadata": {},
   "source": [
    "Clearly we have not found the ground state energy. We can try increasing the number of timesteps:"
   ]
  },
  {
   "cell_type": "code",
   "execution_count": 7,
   "metadata": {},
   "outputs": [],
   "source": [
    "betas          = [0.1, 0.6, 0.8]\n",
    "gammas_singles = [0.4, 0.5, 0.6]\n",
    "gammas_pairs   = [0.1, 0.3, 0.5]\n",
    "parameters = (betas, gammas_singles, gammas_pairs)\n",
    "\n",
    "standard_params_p3 = StandardParams([hamiltonian,3],parameters)"
   ]
  },
  {
   "cell_type": "code",
   "execution_count": 11,
   "metadata": {},
   "outputs": [
    {
     "data": {
      "text/plain": [
       "      fun: -1.9556233484268715\n",
       " hess_inv: array([[ 0.08313658,  0.04446091,  0.03469044, -0.01699271, -0.00799167,\n",
       "        -0.00479079],\n",
       "       [ 0.04446091,  0.09978908,  0.05656383, -0.00265908,  0.00332766,\n",
       "        -0.01339941],\n",
       "       [ 0.03469044,  0.05656383,  0.09358703,  0.00550877,  0.00436459,\n",
       "        -0.00115891],\n",
       "       [-0.01699271, -0.00265908,  0.00550877,  0.1993677 ,  0.13688563,\n",
       "         0.08381059],\n",
       "       [-0.00799167,  0.00332766,  0.00436459,  0.13688563,  0.17258504,\n",
       "         0.07256883],\n",
       "       [-0.00479079, -0.01339941, -0.00115891,  0.08381059,  0.07256883,\n",
       "         0.16010469]])\n",
       "      jac: array([ 2.60442495e-04,  1.73494220e-04, -1.87382102e-04,  2.10255384e-04,\n",
       "       -1.94162130e-04,  8.36849213e-05])\n",
       "  message: 'Optimization terminated successfully.'\n",
       "     nfev: 328\n",
       "      nit: 30\n",
       "     njev: 41\n",
       "   status: 0\n",
       "  success: True\n",
       "        x: array([0.64276813, 0.43356989, 0.24545549, 0.39828883, 0.75863808,\n",
       "       0.81549813])"
      ]
     },
     "execution_count": 11,
     "metadata": {},
     "output_type": "execute_result"
    }
   ],
   "source": [
    "sim = WavefunctionSimulator()\n",
    "\n",
    "cost_function = QAOACostFunctionOnWFSim(hamiltonian,\n",
    "                                        params=standard_params_p3,\n",
    "                                        sim=sim,\n",
    "                                        scalar_cost_function=True,\n",
    "                                        nshots=10,\n",
    "                                        noisy=False)\n",
    "\n",
    "res = minimize(cost_function, standard_params_p3.raw(), tol=1e-3,\n",
    "                      options={\"maxiter\": 500})\n",
    "res"
   ]
  },
  {
   "cell_type": "markdown",
   "metadata": {},
   "source": [
    "This is better, but still not the actual ground state. Since we don't seem to be doing very well with `StandardParams`, let's try the `ExtendedParams` parametrisation instead."
   ]
  },
  {
   "cell_type": "code",
   "execution_count": 12,
   "metadata": {},
   "outputs": [
    {
     "data": {
      "text/plain": [
       "      fun: -2.3999999966886794\n",
       " hess_inv: array([[ 4.88042940e-01, -2.95799315e-02, -2.06399947e-01,\n",
       "        -3.08577190e-02, -7.12737430e-02,  8.11087342e-03,\n",
       "        -1.32057673e-02, -1.11922484e-02,  5.17411336e-02,\n",
       "         6.38337317e-03,  1.95985726e-02, -1.20982578e-02,\n",
       "        -2.99661817e-02, -3.62035118e-03,  6.06473004e-02,\n",
       "        -3.18940832e-02, -4.24836273e-02, -7.95009514e-02],\n",
       "       [-2.95799315e-02,  9.98158889e-01,  4.35349085e-02,\n",
       "         1.64909819e-02,  7.20177543e-02, -1.24007523e-02,\n",
       "        -2.46781491e-02,  6.60636180e-02, -1.21904659e-02,\n",
       "         1.23130514e-01,  5.60649472e-03,  9.15382202e-03,\n",
       "         1.60298036e-02, -1.32310713e-02,  4.00347340e-03,\n",
       "         2.10536270e-02,  3.15871808e-03,  5.14834912e-02],\n",
       "       [-2.06399947e-01,  4.35349085e-02,  9.74015608e-01,\n",
       "         1.06531692e-01,  5.29134877e-02,  5.04128043e-02,\n",
       "         3.08761295e-02,  8.32419607e-02,  3.27094910e-02,\n",
       "         3.93830989e-01,  2.59943094e-02,  1.52356866e-02,\n",
       "        -7.55050365e-02, -3.68418187e-02,  4.52355531e-02,\n",
       "         8.63608608e-02,  1.18466270e-01, -2.36867624e-02],\n",
       "       [-3.08577190e-02,  1.64909819e-02,  1.06531692e-01,\n",
       "         1.40935177e-01,  2.11736315e-02, -1.02770135e-02,\n",
       "         5.78459143e-02, -3.89487196e-04, -2.52000246e-02,\n",
       "        -2.72043688e-02,  2.20330124e-03, -1.71482607e-03,\n",
       "        -8.05531594e-03, -5.40288017e-03, -2.55185732e-02,\n",
       "         2.89430624e-02,  2.55866902e-02,  4.52172631e-02],\n",
       "       [-7.12737430e-02,  7.20177543e-02,  5.29134877e-02,\n",
       "         2.11736315e-02,  7.37708640e-01, -1.00001616e-02,\n",
       "         1.60185207e-02, -3.11041093e-01, -9.93539589e-03,\n",
       "         5.65846626e-02,  2.06213776e-02,  1.33452354e-02,\n",
       "        -1.48038490e-02,  7.79562703e-03,  3.22928272e-02,\n",
       "         3.16127286e-02,  1.55096044e-01,  3.83735499e-03],\n",
       "       [ 8.11087342e-03, -1.24007523e-02,  5.04128043e-02,\n",
       "        -1.02770135e-02, -1.00001616e-02,  3.11398616e-01,\n",
       "         9.32196561e-03, -2.35146907e-02,  1.34492743e-01,\n",
       "         3.05231286e-03,  1.47963326e-02, -1.49212882e-03,\n",
       "        -1.22823563e-04,  9.13363825e-03,  1.90263510e-02,\n",
       "        -4.69086921e-02, -2.92907655e-02,  2.74504821e-01],\n",
       "       [-1.32057673e-02, -2.46781491e-02,  3.08761295e-02,\n",
       "         5.78459143e-02,  1.60185207e-02,  9.32196561e-03,\n",
       "         1.18115134e-01, -1.48936686e-02, -9.66860214e-04,\n",
       "        -4.27656141e-02, -3.71553279e-02, -1.36373780e-02,\n",
       "        -6.08645563e-03,  2.96574962e-03,  1.01309080e-02,\n",
       "         2.57834067e-03,  9.00600007e-03,  2.96665078e-02],\n",
       "       [-1.11922484e-02,  6.60636180e-02,  8.32419607e-02,\n",
       "        -3.89487196e-04, -3.11041093e-01, -2.35146907e-02,\n",
       "        -1.48936686e-02,  4.51923531e-01, -3.72019459e-02,\n",
       "        -1.57848073e-02,  8.60362795e-04,  1.53794949e-02,\n",
       "        -2.25641048e-02, -1.84769001e-02, -1.70195987e-01,\n",
       "         3.40799425e-02,  1.85210838e-02,  4.08650409e-02],\n",
       "       [ 5.17411336e-02, -1.21904659e-02,  3.27094910e-02,\n",
       "        -2.52000246e-02, -9.93539589e-03,  1.34492743e-01,\n",
       "        -9.66860214e-04, -3.72019459e-02,  6.22647057e-01,\n",
       "        -8.85553272e-02, -2.81964120e-02, -2.78250002e-03,\n",
       "        -3.24715528e-02,  4.25932121e-03, -5.24954782e-02,\n",
       "        -4.26387461e-01,  1.85281416e-02,  1.58913130e-02],\n",
       "       [ 6.38337317e-03,  1.23130514e-01,  3.93830989e-01,\n",
       "        -2.72043688e-02,  5.65846626e-02,  3.05231286e-03,\n",
       "        -4.27656141e-02, -1.57848073e-02, -8.85553272e-02,\n",
       "         2.04078800e+00,  2.11067150e-01,  5.48496314e-02,\n",
       "         7.73344191e-02, -1.20529089e-02, -6.30705135e-02,\n",
       "         4.62030571e-02, -2.23654687e-02,  1.75717871e-01],\n",
       "       [ 1.95985726e-02,  5.60649472e-03,  2.59943094e-02,\n",
       "         2.20330124e-03,  2.06213776e-02,  1.47963326e-02,\n",
       "        -3.71553279e-02,  8.60362795e-04, -2.81964120e-02,\n",
       "         2.11067150e-01,  1.02008603e+00,  1.36205460e-02,\n",
       "         9.87728109e-03,  1.18816968e-02, -2.40371796e-02,\n",
       "        -1.36234309e-02,  2.78971593e-02,  3.97647548e-02],\n",
       "       [-1.20982578e-02,  9.15382202e-03,  1.52356866e-02,\n",
       "        -1.71482607e-03,  1.33452354e-02, -1.49212882e-03,\n",
       "        -1.36373780e-02,  1.53794949e-02, -2.78250002e-03,\n",
       "         5.48496314e-02,  1.36205460e-02,  9.96340907e-01,\n",
       "         6.78915420e-03,  1.42972389e-02, -6.92478394e-03,\n",
       "        -6.95084637e-03, -3.26453877e-02, -2.32465744e-02],\n",
       "       [-2.99661817e-02,  1.60298036e-02, -7.55050365e-02,\n",
       "        -8.05531594e-03, -1.48038490e-02, -1.22823563e-04,\n",
       "        -6.08645563e-03, -2.25641048e-02, -3.24715528e-02,\n",
       "         7.73344191e-02,  9.87728109e-03,  6.78915420e-03,\n",
       "         4.03332522e-01,  7.63752568e-04,  7.53856015e-03,\n",
       "         3.69884005e-02,  2.41128298e-02,  1.89135432e-02],\n",
       "       [-3.62035118e-03, -1.32310713e-02, -3.68418187e-02,\n",
       "        -5.40288017e-03,  7.79562703e-03,  9.13363825e-03,\n",
       "         2.96574962e-03, -1.84769001e-02,  4.25932121e-03,\n",
       "        -1.20529089e-02,  1.18816968e-02,  1.42972389e-02,\n",
       "         7.63752568e-04,  8.97872534e-02,  3.88866692e-02,\n",
       "         1.70657359e-02, -2.94168102e-02,  7.21124146e-02],\n",
       "       [ 6.06473004e-02,  4.00347340e-03,  4.52355531e-02,\n",
       "        -2.55185732e-02,  3.22928272e-02,  1.90263510e-02,\n",
       "         1.01309080e-02, -1.70195987e-01, -5.24954782e-02,\n",
       "        -6.30705135e-02, -2.40371796e-02, -6.92478394e-03,\n",
       "         7.53856015e-03,  3.88866692e-02,  7.12042189e-01,\n",
       "         9.71116159e-03, -1.71876030e-01, -4.68182001e-03],\n",
       "       [-3.18940832e-02,  2.10536270e-02,  8.63608608e-02,\n",
       "         2.89430624e-02,  3.16127286e-02, -4.69086921e-02,\n",
       "         2.57834067e-03,  3.40799425e-02, -4.26387461e-01,\n",
       "         4.62030571e-02, -1.36234309e-02, -6.95084637e-03,\n",
       "         3.69884005e-02,  1.70657359e-02,  9.71116159e-03,\n",
       "         4.19423096e-01,  2.39270063e-02,  4.66210545e-02],\n",
       "       [-4.24836273e-02,  3.15871808e-03,  1.18466270e-01,\n",
       "         2.55866902e-02,  1.55096044e-01, -2.92907655e-02,\n",
       "         9.00600007e-03,  1.85210838e-02,  1.85281416e-02,\n",
       "        -2.23654687e-02,  2.78971593e-02, -3.26453877e-02,\n",
       "         2.41128298e-02, -2.94168102e-02, -1.71876030e-01,\n",
       "         2.39270063e-02,  5.49956279e-01, -9.20714730e-02],\n",
       "       [-7.95009514e-02,  5.14834912e-02, -2.36867624e-02,\n",
       "         4.52172631e-02,  3.83735499e-03,  2.74504821e-01,\n",
       "         2.96665078e-02,  4.08650409e-02,  1.58913130e-02,\n",
       "         1.75717871e-01,  3.97647548e-02, -2.32465744e-02,\n",
       "         1.89135432e-02,  7.21124146e-02, -4.68182001e-03,\n",
       "         4.66210545e-02, -9.20714730e-02,  7.22953383e-01]])\n",
       "      jac: array([-3.94582748e-05, -5.96046448e-08, -5.96046448e-08, -1.90734863e-05,\n",
       "       -3.02195549e-05, -6.96182251e-05,  2.80737877e-05, -3.50177288e-05,\n",
       "        1.02430582e-04,  1.74939632e-05,  8.94069672e-08,  2.98023224e-08,\n",
       "       -4.59551811e-05, -1.11073256e-04, -1.04308128e-06,  9.75728035e-05,\n",
       "        1.16229057e-05,  7.21216202e-06])\n",
       "  message: 'Optimization terminated successfully.'\n",
       "     nfev: 480\n",
       "      nit: 18\n",
       "     njev: 24\n",
       "   status: 0\n",
       "  success: True\n",
       "        x: array([ 7.85378507e-01,  5.54395728e-01,  7.43443003e-01, -9.09937680e-07,\n",
       "        3.69031083e-01,  8.20260613e-01,  2.45670389e-06,  5.18760997e-01,\n",
       "        8.97710881e-02,  1.57083144e+00,  1.83273530e-01, -1.96064032e-01,\n",
       "       -1.94857175e-05, -1.13936583e-05,  6.11713071e-01,  5.85524062e-01,\n",
       "        6.17533647e-01,  8.19148163e-01])"
      ]
     },
     "execution_count": 12,
     "metadata": {},
     "output_type": "execute_result"
    }
   ],
   "source": [
    "extended_params_p3 = ExtendedParams.linear_ramp_from_hamiltonian(hamiltonian, n_steps=3)\n",
    "\n",
    "cost_function = QAOACostFunctionOnWFSim(hamiltonian,\n",
    "                                        params=extended_params_p3,\n",
    "                                        sim=sim,\n",
    "                                        scalar_cost_function=True,\n",
    "                                        nshots=1,\n",
    "                                        noisy=False)\n",
    "\n",
    "res = minimize(cost_function, extended_params_p3.raw(), tol=1e-3,\n",
    "                      options={\"maxiter\": 500})\n",
    "res"
   ]
  },
  {
   "cell_type": "markdown",
   "metadata": {},
   "source": [
    "Clearly now we have found a much better ground state energy. The result attribute `x` is a list of the optimal circuit parameters that have been found. We can disentangle this into the `betas` and `gammas` of our QAOA parameterisation by using the `update_from_raw()` method:"
   ]
  },
  {
   "cell_type": "code",
   "execution_count": 13,
   "metadata": {},
   "outputs": [
    {
     "data": {
      "text/plain": [
       "Hyperparameters:\n",
       "\tregister: [0, 1, 2]\n",
       "\tqubits_singles: [0]\n",
       "\tqubits_pairs: [[0, 1], [0, 2]]\n",
       "Parameters:\n",
       "\tbetas: [[ 7.85378507e-01  5.54395728e-01  7.43443003e-01], [-9.09937680e-07  3.69031083e-01  8.20260613e-01], [ 2.45670389e-06  5.18760997e-01  8.97710881e-02]]\n",
       "\tgammas_singles: [[ 1.57083144], [ 0.18327353], [-0.19606403]]\n",
       "\tgammas_pairs: [[-1.94857175e-05 -1.13936583e-05], [ 6.11713071e-01  5.85524062e-01], [ 6.17533647e-01  8.19148163e-01]]"
      ]
     },
     "execution_count": 13,
     "metadata": {},
     "output_type": "execute_result"
    }
   ],
   "source": [
    "extended_params_p3.update_from_raw(res['x'])\n",
    "extended_params_p3"
   ]
  },
  {
   "cell_type": "markdown",
   "metadata": {},
   "source": [
    "Now that we have the optimal angles, we can prepare the corresponding state and sample from it to obtain the most probable bitstring. \n",
    "\n",
    "In this notebook we are using the wavefunction simulator, which allows us to 'cheat' and easily obtain any observable quantity without the need to sample. We use the `get_wavefunction` method of the `cost_function` to obtain the wavefunction, then compute the corresponding probabilities, and plot a bar graph of the outcomes:"
   ]
  },
  {
   "cell_type": "code",
   "execution_count": 14,
   "metadata": {},
   "outputs": [
    {
     "name": "stdout",
     "output_type": "stream",
     "text": [
      "(-4e-10+3e-10j)|000> + (2.63457e-05+1.9029e-06j)|001> + (-1.01868e-05-1.99725e-05j)|010> + (9.1244e-06-1.01815e-05j)|011> + (1.37052e-05+3.9936e-06j)|100> + (-1.1798e-05-6.8183e-06j)|101> + (-0.7070820227+0.7071315375j)|110> + (-1.7079e-06-2.4141e-06j)|111>\n"
     ]
    }
   ],
   "source": [
    "opt_wfn = cost_function.get_wavefunction(res.x)\n",
    "print(opt_wfn)"
   ]
  },
  {
   "cell_type": "code",
   "execution_count": 15,
   "metadata": {},
   "outputs": [
    {
     "data": {
      "text/plain": [
       "array([2.02989182e-19, 6.97714780e-10, 5.02670822e-10, 1.86918610e-10,\n",
       "       2.03782639e-10, 1.85682785e-10, 9.99999998e-01, 8.74444674e-12])"
      ]
     },
     "execution_count": 15,
     "metadata": {},
     "output_type": "execute_result"
    }
   ],
   "source": [
    "probs = opt_wfn.probabilities()\n",
    "probs"
   ]
  },
  {
   "cell_type": "code",
   "execution_count": 16,
   "metadata": {},
   "outputs": [
    {
     "data": {
      "image/png": "[encoded data removed]",
      "text/plain": [
       "<Figure size 432x288 with 1 Axes>"
      ]
     },
     "metadata": {
      "needs_background": "light"
     },
     "output_type": "display_data"
    }
   ],
   "source": [
    "labels = [\"{0:03b}\".format(i) for i in range(8)]\n",
    "plt.bar(range(8),probs)\n",
    "plt.xticks(range(8), labels)\n",
    "plt.show()"
   ]
  },
  {
   "cell_type": "markdown",
   "metadata": {},
   "source": [
    "The QAOA has determined that the bitstring 110 (6 in decimal) is the minimum energy solution with essentially unit probability. Let's check this is consistent with the real answer:"
   ]
  },
  {
   "cell_type": "code",
   "execution_count": 17,
   "metadata": {},
   "outputs": [
    {
     "data": {
      "text/plain": [
       "(array([ 1.4+0.j, -1.4+0.j,  0. +0.j,  0. +0.j, -1. +0.j,  1. +0.j,\n",
       "        -2.4+0.j,  2.4+0.j]),\n",
       " array([[1.+0.j, 0.+0.j, 0.+0.j, 0.+0.j, 0.+0.j, 0.+0.j, 0.+0.j, 0.+0.j],\n",
       "        [0.+0.j, 1.+0.j, 0.+0.j, 0.+0.j, 0.+0.j, 0.+0.j, 0.+0.j, 0.+0.j],\n",
       "        [0.+0.j, 0.+0.j, 1.+0.j, 0.+0.j, 0.+0.j, 0.+0.j, 0.+0.j, 0.+0.j],\n",
       "        [0.+0.j, 0.+0.j, 0.+0.j, 1.+0.j, 0.+0.j, 0.+0.j, 0.+0.j, 0.+0.j],\n",
       "        [0.+0.j, 0.+0.j, 0.+0.j, 0.+0.j, 1.+0.j, 0.+0.j, 0.+0.j, 0.+0.j],\n",
       "        [0.+0.j, 0.+0.j, 0.+0.j, 0.+0.j, 0.+0.j, 1.+0.j, 0.+0.j, 0.+0.j],\n",
       "        [0.+0.j, 0.+0.j, 0.+0.j, 0.+0.j, 0.+0.j, 0.+0.j, 1.+0.j, 0.+0.j],\n",
       "        [0.+0.j, 0.+0.j, 0.+0.j, 0.+0.j, 0.+0.j, 0.+0.j, 0.+0.j, 1.+0.j]]))"
      ]
     },
     "execution_count": 17,
     "metadata": {},
     "output_type": "execute_result"
    }
   ],
   "source": [
    "np.linalg.eig(ham_matrix)"
   ]
  },
  {
   "cell_type": "markdown",
   "metadata": {},
   "source": [
    "The lowest energy solution does indeed correspond to the eigenvector $(0,0,0,0,0,0,1,0)$, i.e. the $|110\\rangle$ component. Suppose that we return to the original Hamiltonian, but instead we remove the single-qubit bias term on qubit 0. Let's run the computation again and see what result we find."
   ]
  },
  {
   "cell_type": "code",
   "execution_count": 18,
   "metadata": {},
   "outputs": [
    {
     "data": {
      "image/png": "[encoded data removed]",
      "text/plain": [
       "<Figure size 432x288 with 1 Axes>"
      ]
     },
     "metadata": {
      "needs_background": "light"
     },
     "output_type": "display_data"
    }
   ],
   "source": [
    "hamiltonian_unbiased = PauliSum.from_compact_str(\"0.7*Z0*Z1 + 1.2*Z0*Z2\")\n",
    "n_steps = 2\n",
    "\n",
    "params_unbiased = ExtendedParams.linear_ramp_from_hamiltonian(hamiltonian_unbiased,n_steps)\n",
    "\n",
    "cost_function_unbiased = QAOACostFunctionOnWFSim(hamiltonian_unbiased,\n",
    "                                        params=params_unbiased,\n",
    "                                        sim=sim,\n",
    "                                        nshots=1,\n",
    "                                        noisy=False)\n",
    "\n",
    "res_unbiased = minimize(cost_function_unbiased, params_unbiased.raw(), tol=1e-3, options={\"maxiter\":500})\n",
    "\n",
    "opt_wfn_unbiased = cost_function_unbiased.get_wavefunction(res_unbiased.x)\n",
    "probs_unbiased = opt_wfn_unbiased.probabilities()\n",
    "\n",
    "labels = [\"{0:03b}\".format(i) for i in range(8)]\n",
    "plt.bar(range(8),probs_unbiased)\n",
    "plt.xticks(range(8), labels)\n",
    "plt.show()"
   ]
  },
  {
   "cell_type": "markdown",
   "metadata": {},
   "source": [
    "Now the probabilities are completely symmetric under a bit flip on all qubits - there is no bias term in the Hamiltonian to force a given qubit into state $|0\\rangle$ or $|1\\rangle$, and the eigenspectrum of the cost function Hamiltonian is \"doubly degenerate\", i.e. the energy eigenstates fall into pairs, where the corresponding eigenstates are related to one another by a bit flip on all qubits. "
   ]
  }
 ],
 "metadata": {
  "kernelspec": {
   "display_name": "Python 3",
   "language": "python",
   "name": "python3"
  },
  "language_info": {
   "codemirror_mode": {
    "name": "ipython",
    "version": 3
   },
   "file_extension": ".py",
   "mimetype": "text/x-python",
   "name": "python",
   "nbconvert_exporter": "python",
   "pygments_lexer": "ipython3",
   "version": "3.7.3"
  }
 },
 "nbformat": 4,
 "nbformat_minor": 2
}
