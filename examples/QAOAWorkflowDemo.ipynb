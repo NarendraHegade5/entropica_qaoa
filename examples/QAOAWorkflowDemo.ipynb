{
 "cells": [
  {
   "cell_type": "markdown",
   "metadata": {},
   "source": [
    "# An example workflow of the QAOA package\n",
    "\n",
    "This notebook walks through a simple example workflow, from start to finish. More elaborate examples are provided in other notebooks."
   ]
  },
  {
   "cell_type": "code",
   "execution_count": 8,
   "metadata": {},
   "outputs": [],
   "source": [
    "import numpy as np\n",
    "import matplotlib.pyplot as plt\n",
    "from scipy.optimize import minimize\n",
    "\n",
    "# import the neccesary pyquil modules\n",
    "from pyquil.api import local_qvm, WavefunctionSimulator\n",
    "from pyquil.paulis import PauliSum, PauliTerm\n",
    "\n",
    "# import the QAOAParameters that we want to demo\n",
    "from forest_qaoa.qaoa.parameters import (AbstractParams, StandardParams, ExtendedParams,\n",
    "                                         QAOAParameterIterator)\n",
    "\n",
    "# import VQE and cost function modules\n",
    "from forest_qaoa.qaoa.cost_function import QAOACostFunctionOnQVM, QAOACostFunctionOnWFSim"
   ]
  },
  {
   "cell_type": "markdown",
   "metadata": {},
   "source": [
    "## Set up the problem hyperparameters\n",
    "\n",
    "We start by setting up the Hamiltonian encoding the cost function we wish to minimise, as well as the timesteps to run QAOA. We do so by first using the `AbstractParams` class, however we could just as easily set up any specific parametrisation directly -- see the notebook `QAOAParameterDemo.ipynb` for more details. "
   ]
  },
  {
   "cell_type": "code",
   "execution_count": 2,
   "metadata": {},
   "outputs": [
    {
     "name": "stdout",
     "output_type": "stream",
     "text": [
      "hamiltonian = (0.7+0j)*Z0*Z1 + (1.2+0j)*Z0*Z2 + (-0.5+0j)*Z0\n",
      "Hyperparameters:\n",
      "\tregister: [0, 1, 2]\n",
      "\tqubits_singles: [0]\n",
      "\tsingle_qubit_coeffs: [-0.5]\n",
      "\tqubits_pairs: [[0, 1], [0, 2]]\n",
      "\tpair_qubit_coeffs: [0.7 1.2]\n",
      "\tn_steps: 2\n",
      "\n"
     ]
    }
   ],
   "source": [
    "hamiltonian = PauliSum.from_compact_str(\"0.7*Z0*Z1 + 1.2*Z0*Z2 + (-0.5)*Z0\")\n",
    "print(\"hamiltonian =\", hamiltonian)\n",
    "\n",
    "timesteps = 2\n",
    "abstract_params = AbstractParams([hamiltonian,timesteps])\n",
    "print(abstract_params)"
   ]
  },
  {
   "cell_type": "markdown",
   "metadata": {},
   "source": [
    "## Specfify the variable parameters and create corresponding `QAOAParameters` object\n",
    "\n",
    "Here we will set up `StandardParameters` - this corresponds to the parametrisation of the original QAOA paper by Farhi et al, where the mixer and cost Hamiltonian each have one angle per timestep (giving a total of 2p parameters to optimise over)."
   ]
  },
  {
   "cell_type": "code",
   "execution_count": 4,
   "metadata": {},
   "outputs": [
    {
     "name": "stdout",
     "output_type": "stream",
     "text": [
      "Hyperparameters:\n",
      "\tregister: [0, 1, 2]\n",
      "\tqubits_singles: [0]\n",
      "\tqubits_pairs: [[0, 1], [0, 2]]\n",
      "Parameters:\n",
      "\tbetas: [0.1 0.6]\n",
      "\tgammas: [0.4 0.5]\n",
      "\n"
     ]
    }
   ],
   "source": [
    "# Specify some angles\n",
    "betas          = [0.1, 0.6]\n",
    "gammas = [0.4, 0.5]\n",
    "parameters = (betas, gammas)\n",
    "\n",
    "standard_params = StandardParams.from_AbstractParameters(abstract_params, parameters)\n",
    "print(standard_params)"
   ]
  },
  {
   "cell_type": "markdown",
   "metadata": {},
   "source": [
    "## Set up the cost function and running the optimiser"
   ]
  },
  {
   "cell_type": "markdown",
   "metadata": {},
   "source": [
    "Let's work on the wavefunction simulator (note this requires opening the qvm in separate terminal windows as explained in the Forest documentation). We create the `cost_function` object, with all the necessary inputs.\n",
    "\n",
    "*Notes:*\n",
    " - To start the Wavefunction simulator open a terminal and type `qvm -S`. If you installed the Forest SDK, this should start the Quantum Virtual Machine in the background\n",
    " - In the Notebook `VQEDemo.ipynb` we go into more detail, what the parameter `noisy` and `enable_logging` mean and how to use them."
   ]
  },
  {
   "cell_type": "code",
   "execution_count": 6,
   "metadata": {},
   "outputs": [],
   "source": [
    "# Set up the WavefunctionSimulator\n",
    "sim = WavefunctionSimulator()"
   ]
  },
  {
   "cell_type": "code",
   "execution_count": 11,
   "metadata": {},
   "outputs": [
    {
     "data": {
      "text/plain": [
       "      fun: -1.3144997100429072\n",
       " hess_inv: array([[ 0.85661361, -0.13446316, -0.56426646,  1.00665206],\n",
       "       [-0.13446316,  0.26647175,  0.44469378, -0.37759762],\n",
       "       [-0.56426646,  0.44469378,  1.05583137, -1.12639425],\n",
       "       [ 1.00665206, -0.37759762, -1.12639425,  1.68879291]])\n",
       "      jac: array([-0.00098708,  0.00072014, -0.00018305,  0.00044395])\n",
       "  message: 'Optimization terminated successfully.'\n",
       "     nfev: 54\n",
       "      nit: 7\n",
       "     njev: 9\n",
       "   status: 0\n",
       "  success: True\n",
       "        x: array([ 1.25728871,  0.2796165 , -0.2139891 ,  0.60956304])"
      ]
     },
     "execution_count": 11,
     "metadata": {},
     "output_type": "execute_result"
    }
   ],
   "source": [
    "# set up the cost function\n",
    "cost_function = QAOACostFunctionOnWFSim(hamiltonian,\n",
    "                                        params=standard_params,\n",
    "                                        sim=sim,\n",
    "                                        scalar_cost_function=True, # See VQEDemo.ipynb for more details\n",
    "                                        nshots=1,                  # irrelevant, if noisy=False\n",
    "                                        noisy=False,               # See VQEDemo.ipynb for more details\n",
    "                                        enable_logging=False)\n",
    "\n",
    "# and optimize the parameters\n",
    "res = minimize(cost_function, standard_params.raw(), tol=1e-3,\n",
    "                      options={\"maxiter\": 500})\n",
    "res"
   ]
  },
  {
   "cell_type": "markdown",
   "metadata": {},
   "source": [
    "We can check this against the value we should get, by finding the lowest eigenvalue of `hamiltonian`."
   ]
  },
  {
   "cell_type": "code",
   "execution_count": 13,
   "metadata": {},
   "outputs": [
    {
     "data": {
      "text/plain": [
       "-2.4"
      ]
     },
     "execution_count": 13,
     "metadata": {},
     "output_type": "execute_result"
    }
   ],
   "source": [
    "ham_matrix = hamiltonian.matrix()\n",
    "eigs = np.linalg.eigvalsh(ham_matrix)\n",
    "min(eigs)"
   ]
  },
  {
   "cell_type": "markdown",
   "metadata": {},
   "source": [
    "Clearly we have not found the ground state energy. We can try increasing the number of timesteps:"
   ]
  },
  {
   "cell_type": "code",
   "execution_count": 14,
   "metadata": {},
   "outputs": [],
   "source": [
    "betas          = [0.1, 0.6, 0.8]\n",
    "gammas_singles = [0.4, 0.5, 0.6]\n",
    "gammas_pairs   = [0.1, 0.3, 0.5]\n",
    "parameters = (betas, gammas_singles, gammas_pairs)\n",
    "\n",
    "standard_params_p3 = StandardParams([hamiltonian,3],parameters)"
   ]
  },
  {
   "cell_type": "code",
   "execution_count": 20,
   "metadata": {},
   "outputs": [
    {
     "data": {
      "text/plain": [
       "      fun: -1.9556233482538181\n",
       " hess_inv: array([[1, 0, 0, 0, 0, 0],\n",
       "       [0, 1, 0, 0, 0, 0],\n",
       "       [0, 0, 1, 0, 0, 0],\n",
       "       [0, 0, 0, 1, 0, 0],\n",
       "       [0, 0, 0, 0, 1, 0],\n",
       "       [0, 0, 0, 0, 0, 1]])\n",
       "      jac: array([ 2.63571739e-04,  1.73628330e-04, -1.90958381e-04,  2.13712454e-04,\n",
       "       -1.98736787e-04,  8.58604908e-05])\n",
       "  message: 'Optimization terminated successfully.'\n",
       "     nfev: 8\n",
       "      nit: 0\n",
       "     njev: 1\n",
       "   status: 0\n",
       "  success: True\n",
       "        x: array([0.64276828, 0.4335698 , 0.24545526, 0.39828896, 0.7586378 ,\n",
       "       0.81549841])"
      ]
     },
     "execution_count": 20,
     "metadata": {},
     "output_type": "execute_result"
    }
   ],
   "source": [
    "sim = WavefunctionSimulator()\n",
    "\n",
    "cost_function = QAOACostFunctionOnWFSim(hamiltonian,\n",
    "                                        params=standard_params_p3,\n",
    "                                        sim=sim,\n",
    "                                        return_standard_deviation=True,\n",
    "                                        noisy=False)\n",
    "\n",
    "res = minimize(cost_function, standard_params_p3.raw(), tol=1e-3,\n",
    "                      options={\"maxiter\": 500})\n",
    "res"
   ]
  },
  {
   "cell_type": "markdown",
   "metadata": {},
   "source": [
    "This is better, but still not the actual ground state. Since we don't seem to be doing very well with `StandardParams`, let's try the `ExtendedParams` parametrisation instead."
   ]
  },
  {
   "cell_type": "code",
   "execution_count": 22,
   "metadata": {},
   "outputs": [
    {
     "data": {
      "text/plain": [
       "      fun: -2.3999999966878813\n",
       " hess_inv: array([[ 4.88041399e-01, -2.95839411e-02, -2.06403884e-01,\n",
       "        -3.08576479e-02, -7.12695629e-02,  8.11671680e-03,\n",
       "        -1.32082990e-02, -1.11938411e-02,  5.17395120e-02,\n",
       "         6.36187622e-03,  1.95987860e-02, -1.21002917e-02,\n",
       "        -2.99687505e-02, -3.62049762e-03,  6.06445361e-02,\n",
       "        -3.18902095e-02, -4.24891408e-02, -7.94992359e-02],\n",
       "       [-2.95839411e-02,  9.98159530e-01,  4.35282971e-02,\n",
       "         1.64850819e-02,  7.20151884e-02, -1.24121883e-02,\n",
       "        -2.46762517e-02,  6.60636540e-02, -1.21868447e-02,\n",
       "         1.23146550e-01,  5.60762057e-03,  9.15314167e-03,\n",
       "         1.60415128e-02, -1.32240067e-02,  4.01743213e-03,\n",
       "         2.10469173e-02,  3.16083158e-03,  5.14813294e-02],\n",
       "       [-2.06403884e-01,  4.35282971e-02,  9.74016746e-01,\n",
       "         1.06527845e-01,  5.29073013e-02,  5.04064784e-02,\n",
       "         3.08809735e-02,  8.32395894e-02,  3.27140233e-02,\n",
       "         3.93854696e-01,  2.59950279e-02,  1.52357938e-02,\n",
       "        -7.54906231e-02, -3.68373617e-02,  4.52441458e-02,\n",
       "         8.63588045e-02,  1.18474551e-01, -2.36897176e-02],\n",
       "       [-3.08576479e-02,  1.64850819e-02,  1.06527845e-01,\n",
       "         1.40934179e-01,  2.11725898e-02, -1.02805960e-02,\n",
       "         5.78464830e-02, -3.88488550e-04, -2.51968686e-02,\n",
       "        -2.71984132e-02,  2.20401980e-03, -1.71303071e-03,\n",
       "        -8.05453285e-03, -5.40137474e-03, -2.55228612e-02,\n",
       "         2.89401325e-02,  2.55879593e-02,  4.52152432e-02],\n",
       "       [-7.12695629e-02,  7.20151884e-02,  5.29073013e-02,\n",
       "         2.11725898e-02,  7.37704133e-01, -1.00078413e-02,\n",
       "         1.60200461e-02, -3.11040742e-01, -9.92816222e-03,\n",
       "         5.65917785e-02,  2.06212028e-02,  1.33469508e-02,\n",
       "        -1.48034864e-02,  7.79721396e-03,  3.22919741e-02,\n",
       "         3.16040867e-02,  1.55098404e-01,  3.83285414e-03],\n",
       "       [ 8.11671680e-03, -1.24121883e-02,  5.04064784e-02,\n",
       "        -1.02805960e-02, -1.00078413e-02,  3.11397096e-01,\n",
       "         9.32282323e-03, -2.35145894e-02,  1.34500390e-01,\n",
       "         3.06238091e-03,  1.47960538e-02, -1.48885200e-03,\n",
       "        -1.17955037e-04,  9.13232133e-03,  1.90199138e-02,\n",
       "        -4.69142298e-02, -2.92848554e-02,  2.74498353e-01],\n",
       "       [-1.32082990e-02, -2.46762517e-02,  3.08809735e-02,\n",
       "         5.78464830e-02,  1.60200461e-02,  9.32282323e-03,\n",
       "         1.18114535e-01, -1.48920591e-02, -9.68838915e-04,\n",
       "        -4.27596774e-02, -3.71556513e-02, -1.36366219e-02,\n",
       "        -6.08498231e-03,  2.96511631e-03,  1.01297243e-02,\n",
       "         2.58128394e-03,  9.00739775e-03,  2.96679146e-02],\n",
       "       [-1.11938411e-02,  6.60636540e-02,  8.32395894e-02,\n",
       "        -3.88488550e-04, -3.11040742e-01, -2.35145894e-02,\n",
       "        -1.48920591e-02,  4.51920254e-01, -3.72016677e-02,\n",
       "        -1.57959900e-02,  8.59593026e-04,  1.53772570e-02,\n",
       "        -2.25655689e-02, -1.84749667e-02, -1.70193359e-01,\n",
       "         3.40799677e-02,  1.85180372e-02,  4.08659183e-02],\n",
       "       [ 5.17395120e-02, -1.21868447e-02,  3.27140233e-02,\n",
       "        -2.51968686e-02, -9.92816222e-03,  1.34500390e-01,\n",
       "        -9.68838915e-04, -3.72016677e-02,  6.22643295e-01,\n",
       "        -8.85635656e-02, -2.81959264e-02, -2.78121701e-03,\n",
       "        -3.24765717e-02,  4.25822981e-03, -5.25052928e-02,\n",
       "        -4.26380932e-01,  1.85241271e-02,  1.58976457e-02],\n",
       "       [ 6.36187622e-03,  1.23146550e-01,  3.93854696e-01,\n",
       "        -2.71984132e-02,  5.65917785e-02,  3.06238091e-03,\n",
       "        -4.27596774e-02, -1.57959900e-02, -8.85635656e-02,\n",
       "         2.04076378e+00,  2.11061408e-01,  5.48384996e-02,\n",
       "         7.73406275e-02, -1.20479420e-02, -6.30494908e-02,\n",
       "         4.62222614e-02, -2.23675729e-02,  1.75730224e-01],\n",
       "       [ 1.95987860e-02,  5.60762057e-03,  2.59950279e-02,\n",
       "         2.20401980e-03,  2.06212028e-02,  1.47960538e-02,\n",
       "        -3.71556513e-02,  8.59593026e-04, -2.81959264e-02,\n",
       "         2.11061408e-01,  1.02008553e+00,  1.36187022e-02,\n",
       "         9.87677750e-03,  1.18819606e-02, -2.40334187e-02,\n",
       "        -1.36229281e-02,  2.78969526e-02,  3.97638904e-02],\n",
       "       [-1.21002917e-02,  9.15314167e-03,  1.52357938e-02,\n",
       "        -1.71303071e-03,  1.33469508e-02, -1.48885200e-03,\n",
       "        -1.36366219e-02,  1.53772570e-02, -2.78121701e-03,\n",
       "         5.48384996e-02,  1.36187022e-02,  9.96340759e-01,\n",
       "         6.78606579e-03,  1.42976363e-02, -6.93120268e-03,\n",
       "        -6.94907118e-03, -3.26477363e-02, -2.32445514e-02],\n",
       "       [-2.99687505e-02,  1.60415128e-02, -7.54906231e-02,\n",
       "        -8.05453285e-03, -1.48034864e-02, -1.17955037e-04,\n",
       "        -6.08498231e-03, -2.25655689e-02, -3.24765717e-02,\n",
       "         7.73406275e-02,  9.87677750e-03,  6.78606579e-03,\n",
       "         4.03335939e-01,  7.62960956e-04,  7.55134363e-03,\n",
       "         3.69956427e-02,  2.41168677e-02,  1.89173584e-02],\n",
       "       [-3.62049762e-03, -1.32240067e-02, -3.68373617e-02,\n",
       "        -5.40137474e-03,  7.79721396e-03,  9.13232133e-03,\n",
       "         2.96511631e-03, -1.84749667e-02,  4.25822981e-03,\n",
       "        -1.20479420e-02,  1.18819606e-02,  1.42976363e-02,\n",
       "         7.62960956e-04,  8.97867354e-02,  3.88880594e-02,\n",
       "         1.70658965e-02, -2.94157682e-02,  7.21140510e-02],\n",
       "       [ 6.06445361e-02,  4.01743213e-03,  4.52441458e-02,\n",
       "        -2.55228612e-02,  3.22919741e-02,  1.90199138e-02,\n",
       "         1.01297243e-02, -1.70193359e-01, -5.25052928e-02,\n",
       "        -6.30494908e-02, -2.40334187e-02, -6.93120268e-03,\n",
       "         7.55134363e-03,  3.88880594e-02,  7.12079111e-01,\n",
       "         9.71336714e-03, -1.71871630e-01, -4.68274934e-03],\n",
       "       [-3.18902095e-02,  2.10469173e-02,  8.63588045e-02,\n",
       "         2.89401325e-02,  3.16040867e-02, -4.69142298e-02,\n",
       "         2.58128394e-03,  3.40799677e-02, -4.26380932e-01,\n",
       "         4.62222614e-02, -1.36229281e-02, -6.94907118e-03,\n",
       "         3.69956427e-02,  1.70658965e-02,  9.71336714e-03,\n",
       "         4.19417139e-01,  2.39354777e-02,  4.66151870e-02],\n",
       "       [-4.24891408e-02,  3.16083158e-03,  1.18474551e-01,\n",
       "         2.55879593e-02,  1.55098404e-01, -2.92848554e-02,\n",
       "         9.00739775e-03,  1.85180372e-02,  1.85241271e-02,\n",
       "        -2.23675729e-02,  2.78969526e-02, -3.26477363e-02,\n",
       "         2.41168677e-02, -2.94157682e-02, -1.71871630e-01,\n",
       "         2.39354777e-02,  5.49956819e-01, -9.20668899e-02],\n",
       "       [-7.94992359e-02,  5.14813294e-02, -2.36897176e-02,\n",
       "         4.52152432e-02,  3.83285414e-03,  2.74498353e-01,\n",
       "         2.96679146e-02,  4.08659183e-02,  1.58976457e-02,\n",
       "         1.75730224e-01,  3.97638904e-02, -2.32445514e-02,\n",
       "         1.89173584e-02,  7.21140510e-02, -4.68274934e-03,\n",
       "         4.66151870e-02, -9.20668899e-02,  7.22949810e-01]])\n",
       "      jac: array([-3.94880772e-05,  0.00000000e+00,  0.00000000e+00, -1.91032887e-05,\n",
       "       -3.01003456e-05, -6.95586205e-05,  2.81333923e-05, -3.48687172e-05,\n",
       "        1.02400780e-04,  1.74343586e-05, -2.98023224e-08, -2.98023224e-08,\n",
       "       -4.61935997e-05, -1.10954046e-04, -8.04662704e-07,  9.76026058e-05,\n",
       "        1.16527081e-05,  7.12275505e-06])\n",
       "  message: 'Optimization terminated successfully.'\n",
       "     nfev: 480\n",
       "      nit: 18\n",
       "     njev: 24\n",
       "   status: 0\n",
       "  success: True\n",
       "        x: array([ 7.85378501e-01,  5.54396052e-01,  7.43442653e-01, -8.99481436e-07,\n",
       "        3.69031510e-01,  8.20260928e-01,  2.46724659e-06,  5.18760787e-01,\n",
       "        8.97721055e-02,  1.57083131e+00,  1.83273774e-01, -1.96063708e-01,\n",
       "       -1.95481070e-05, -1.13875804e-05,  6.11713001e-01,  5.85523260e-01,\n",
       "        6.17534031e-01,  8.19147812e-01])"
      ]
     },
     "execution_count": 22,
     "metadata": {},
     "output_type": "execute_result"
    }
   ],
   "source": [
    "extended_params_p3 = ExtendedParams.linear_ramp_from_hamiltonian(hamiltonian, n_steps=3)\n",
    "\n",
    "cost_function = QAOACostFunctionOnWFSim(hamiltonian,\n",
    "                                        params=extended_params_p3,\n",
    "                                        sim=sim,\n",
    "                                        scalar_cost_function=True,\n",
    "                                        nshots=1,\n",
    "                                        noisy=False)\n",
    "\n",
    "res = minimize(cost_function, extended_params_p3.raw(), tol=1e-3,\n",
    "                      options={\"maxiter\": 500})\n",
    "res"
   ]
  },
  {
   "cell_type": "markdown",
   "metadata": {},
   "source": [
    "Bingo! The result attribute `x` is a list of the optimal circuit parameters that have been found. We can disentangle this into the `betas` and `gammas` of our QAOA parameterisation by using the `update_from_raw()` method:"
   ]
  },
  {
   "cell_type": "code",
   "execution_count": 23,
   "metadata": {},
   "outputs": [
    {
     "data": {
      "text/plain": [
       "Hyperparameters:\n",
       "\tregister: [0, 1, 2]\n",
       "\tqubits_singles: [0]\n",
       "\tqubits_pairs: [[0, 1], [0, 2]]\n",
       "Parameters:\n",
       "\tbetas: [[ 7.85378501e-01  5.54396052e-01  7.43442653e-01], [-8.99481436e-07  3.69031510e-01  8.20260928e-01], [ 2.46724659e-06  5.18760787e-01  8.97721055e-02]]\n",
       "\tgammas_singles: [[ 1.57083131], [ 0.18327377], [-0.19606371]]\n",
       "\tgammas_pairs: [[-1.95481070e-05 -1.13875804e-05], [ 6.11713001e-01  5.85523260e-01], [ 6.17534031e-01  8.19147812e-01]]"
      ]
     },
     "execution_count": 23,
     "metadata": {},
     "output_type": "execute_result"
    }
   ],
   "source": [
    "extended_params_p3.update_from_raw(res['x'])\n",
    "extended_params_p3"
   ]
  },
  {
   "cell_type": "markdown",
   "metadata": {},
   "source": [
    "Now that we have the optimal angles, we can prepare the corresponding state and sample from it to obtain the most probable bitstring. Or we cheat a little bit, and have a look at the wavefunction directly. We are running on the wavefunction simulator after all! To do this, we use the `get_wavefunction` method of the `cost_function`."
   ]
  },
  {
   "cell_type": "code",
   "execution_count": 29,
   "metadata": {},
   "outputs": [
    {
     "name": "stdout",
     "output_type": "stream",
     "text": [
      "(-4e-10+3e-10j)|000> + (2.63046e-05+1.9491e-06j)|001> + (-1.01837e-05-1.99891e-05j)|010> + (9.1521e-06-1.02149e-05j)|011> + (1.36931e-05+3.9468e-06j)|100> + (-1.17953e-05-6.8093e-06j)|101> + (-0.7070830918+0.7071304685j)|110> + (-1.7157e-06-2.4137e-06j)|111>\n"
     ]
    }
   ],
   "source": [
    "opt_wfn = cost_function.get_wavefunction(res.x)\n",
    "print(opt_wfn)"
   ]
  },
  {
   "cell_type": "code",
   "execution_count": 30,
   "metadata": {},
   "outputs": [
    {
     "data": {
      "text/plain": [
       "array([2.02738011e-19, 6.95731400e-10, 5.03270071e-10, 1.88104540e-10,\n",
       "       2.03079013e-10, 1.85494717e-10, 9.99999998e-01, 8.76951866e-12])"
      ]
     },
     "execution_count": 30,
     "metadata": {},
     "output_type": "execute_result"
    }
   ],
   "source": [
    "probs = opt_wfn.probabilities()\n",
    "probs"
   ]
  },
  {
   "cell_type": "code",
   "execution_count": 31,
   "metadata": {},
   "outputs": [
    {
     "data": {
      "image/png": "[encoded data removed]",
      "text/plain": [
       "<Figure size 432x288 with 1 Axes>"
      ]
     },
     "metadata": {
      "needs_background": "light"
     },
     "output_type": "display_data"
    }
   ],
   "source": [
    "labels = [\"{0:03b}\".format(i) for i in range(8)]\n",
    "plt.bar(range(8),probs)\n",
    "plt.xticks(range(8), labels)"
   ]
  },
  {
   "cell_type": "markdown",
   "metadata": {},
   "source": [
    "The QAOA has determined that the bitstring 110 (6 in decimal) is the minimum energy solution. Let's check this is consistent with the real answer:"
   ]
  },
  {
   "cell_type": "code",
   "execution_count": 32,
   "metadata": {},
   "outputs": [
    {
     "data": {
      "text/plain": [
       "(array([ 1.4+0.j, -1.4+0.j,  0. +0.j,  0. +0.j, -1. +0.j,  1. +0.j,\n",
       "        -2.4+0.j,  2.4+0.j]),\n",
       " array([[1.+0.j, 0.+0.j, 0.+0.j, 0.+0.j, 0.+0.j, 0.+0.j, 0.+0.j, 0.+0.j],\n",
       "        [0.+0.j, 1.+0.j, 0.+0.j, 0.+0.j, 0.+0.j, 0.+0.j, 0.+0.j, 0.+0.j],\n",
       "        [0.+0.j, 0.+0.j, 1.+0.j, 0.+0.j, 0.+0.j, 0.+0.j, 0.+0.j, 0.+0.j],\n",
       "        [0.+0.j, 0.+0.j, 0.+0.j, 1.+0.j, 0.+0.j, 0.+0.j, 0.+0.j, 0.+0.j],\n",
       "        [0.+0.j, 0.+0.j, 0.+0.j, 0.+0.j, 1.+0.j, 0.+0.j, 0.+0.j, 0.+0.j],\n",
       "        [0.+0.j, 0.+0.j, 0.+0.j, 0.+0.j, 0.+0.j, 1.+0.j, 0.+0.j, 0.+0.j],\n",
       "        [0.+0.j, 0.+0.j, 0.+0.j, 0.+0.j, 0.+0.j, 0.+0.j, 1.+0.j, 0.+0.j],\n",
       "        [0.+0.j, 0.+0.j, 0.+0.j, 0.+0.j, 0.+0.j, 0.+0.j, 0.+0.j, 1.+0.j]]))"
      ]
     },
     "execution_count": 32,
     "metadata": {},
     "output_type": "execute_result"
    }
   ],
   "source": [
    "np.linalg.eig(ham_matrix)"
   ]
  },
  {
   "cell_type": "markdown",
   "metadata": {},
   "source": [
    "The lowest energy solution does indeed correspond to the eigenvector $(0,0,0,0,0,0,1,0)$, i.e. the $|001\\rangle$ component.\n",
    "\n",
    "Interestingly, the soltution was found with a very high probability (see the values of `probs` above). The second largest component is the $|001\\rangle$ component, although its probability is four orders of magnitude smaller. It is not coincidental that this state is related to the ground state $|110\\rangle$ by a bit flip on each qubit. Suppose we return to the original Hamiltonian, but instead we remove the single-qubit bias term on qubit 0. Let's run the entire computation again and see what we get."
   ]
  },
  {
   "cell_type": "code",
   "execution_count": 33,
   "metadata": {},
   "outputs": [
    {
     "data": {
      "image/png": "[encoded data removed]",
      "text/plain": [
       "<Figure size 432x288 with 1 Axes>"
      ]
     },
     "metadata": {
      "needs_background": "light"
     },
     "output_type": "display_data"
    }
   ],
   "source": [
    "hamiltonian = PauliSum.from_compact_str(\"0.7*Z0*Z1 + 1.2*Z0*Z2\")\n",
    "n_steps = 2\n",
    "\n",
    "no_bias_params = ExtendedParams.linear_ramp_from_hamiltonian(hamiltonian,n_steps)\n",
    "\n",
    "cost_function = QAOACostFunctionOnWFSim(hamiltonian,\n",
    "                                        params=no_bias_params,\n",
    "                                        sim=sim,\n",
    "                                        nshots=1,\n",
    "                                        noisy=False)\n",
    "\n",
    "res = minimize(cost_function, no_bias_params.raw(), tol=1e-3, options={\"maxiter\":500})\n",
    "\n",
    "opt_wfn = cost_function.get_wavefunction(res.x)\n",
    "probs = opt_wfn.probabilities()\n",
    "\n",
    "labels = [\"{0:03b}\".format(i) for i in range(8)]\n",
    "plt.bar(range(8),probs)\n",
    "plt.xticks(range(8), labels)"
   ]
  },
  {
   "cell_type": "markdown",
   "metadata": {},
   "source": [
    "Now the probabilities are completely symmetric under a bit flip on all qubits - there is no bias term in the Hamiltonian to force a given qubit into state $|0\\rangle$ or $|1\\rangle$, and the eigenspectrum of the cost function Hamiltonian is \"doubly degenerate\", i.e. the energy eigenstates fall into pairs, where the corresponding eigenstates are related to one another by a bit flip on all qubits. "
   ]
  }
 ],
 "metadata": {
  "kernelspec": {
   "display_name": "Python 3",
   "language": "python",
   "name": "python3"
  },
  "language_info": {
   "codemirror_mode": {
    "name": "ipython",
    "version": 3
   },
   "file_extension": ".py",
   "mimetype": "text/x-python",
   "name": "python",
   "nbconvert_exporter": "python",
   "pygments_lexer": "ipython3",
   "version": "3.7.3"
  }
 },
 "nbformat": 4,
 "nbformat_minor": 2
}
