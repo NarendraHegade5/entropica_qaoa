{
 "cells": [
  {
   "cell_type": "markdown",
   "metadata": {},
   "source": [
    "# An example workflow of the QAOA package\n",
    "\n",
    "This notebook walks through a simple example workflow, from start to finish. More elaborate examples are provided in other notebooks."
   ]
  },
  {
   "cell_type": "code",
   "execution_count": 1,
   "metadata": {},
   "outputs": [],
   "source": [
    "import numpy as np\n",
    "import matplotlib.pyplot as plt\n",
    "from typing import Type, Iterable\n",
    "\n",
    "# import the neccesary pyquil modules\n",
    "from pyquil.api import local_qvm, WavefunctionSimulator\n",
    "from pyquil.paulis import PauliSum, PauliTerm\n",
    "\n",
    "# import the QAOAParameters that we want to demo\n",
    "from forest_qaoa.qaoa.parameters import AbstractParams, StandardParams, ExtendedParams,QAOAParameterIterator\n",
    "\n",
    "# import VQE and cost function modules\n",
    "from forest_qaoa.qaoa.cost_function import QAOACostFunctionOnQVM, QAOACostFunctionOnWFSim\n",
    "from forest_qaoa.vqe.optimizer import scipy_optimizer"
   ]
  },
  {
   "cell_type": "markdown",
   "metadata": {},
   "source": [
    "## Set up the problem hyperparameters\n",
    "\n",
    "We start by setting up the Hamiltonian encoding the cost function we wish to minimise, as well as the timesteps to run QAOA. We do so by first using the `AbstractQAOAParameterClass`, however we could just as easily set up any specific parametrisation directly - see the notebook _\"A demo how to work with `QAOAParameter` classes\"_ for more details. [Should hyperlink to that notebook when online]\n",
    " "
   ]
  },
  {
   "cell_type": "code",
   "execution_count": 2,
   "metadata": {},
   "outputs": [
    {
     "name": "stdout",
     "output_type": "stream",
     "text": [
      "hamiltonian = (0.7+0j)*Z0*Z1 + (1.2+0j)*Z0*Z2 + (-0.5+0j)*Z0\n",
      "Hyperparameters:\n",
      "\tregister: [0, 1, 2]\n",
      "\tqubits_singles: [0]\n",
      "\tsingle_qubit_coeffs: [-0.5]\n",
      "\tqubits_pairs: [[0, 1], [0, 2]]\n",
      "\tpair_qubit_coeffs: [0.7 1.2]\n",
      "\tn_steps: 2\n",
      "\n"
     ]
    }
   ],
   "source": [
    "hamiltonian = PauliSum.from_compact_str(\"0.7*Z0*Z1 + 1.2*Z0*Z2 + (-0.5)*Z0\")\n",
    "print(\"hamiltonian =\", hamiltonian)\n",
    "\n",
    "timesteps = 2\n",
    "abstract_params = AbstractParams([hamiltonian,timesteps])\n",
    "print(abstract_params)"
   ]
  },
  {
   "cell_type": "markdown",
   "metadata": {},
   "source": [
    "## Specfify the variable parameters and create corresponding `QAOAParameters` object\n",
    "\n",
    "Here we will set up `StandardParameters` - this corresponds to the parametrisation of the original QAOA paper by Farhi et al, where the mixer and cost Hamiltonian each have one angle per timestep (giving a total of 2p parameters to optimise over)."
   ]
  },
  {
   "cell_type": "code",
   "execution_count": 3,
   "metadata": {},
   "outputs": [
    {
     "name": "stdout",
     "output_type": "stream",
     "text": [
      "Hyperparameters:\n",
      "\tregister: [0, 1, 2]\n",
      "\tqubits_singles: [0]\n",
      "\tqubits_pairs: [[0, 1], [0, 2]]\n",
      "Parameters:\n",
      "\tbetas: [0.1 0.6]\n",
      "\tgammas: [0.4 0.5]\n",
      "\n"
     ]
    }
   ],
   "source": [
    "# Specify some angles\n",
    "betas          = [0.1, 0.6]\n",
    "gammas_singles = [0.4, 0.5]\n",
    "gammas_pairs   = [0.1, 0.3]\n",
    "parameters = (betas, gammas_singles, gammas_pairs)\n",
    "\n",
    "standard_params = StandardParams.from_AbstractParameters(abstract_params,parameters)\n",
    "print(standard_params)"
   ]
  },
  {
   "cell_type": "markdown",
   "metadata": {},
   "source": [
    "## Set up the cost function and running the optimiser"
   ]
  },
  {
   "cell_type": "markdown",
   "metadata": {},
   "source": [
    "Let's work on the wavefunction simulator (note this requires opening the qvm and quil compiler in separate terminal windows as explained in the Forest documentation). We create the `cost_function` object, with all the necessary inputs [Make another demo of the `cost_functions` or expand the details here]. \n",
    "\n",
    "[NOTES: (1) look into the `noisy` attribute here - has it been properly tested and benchmarked? (2) demo the use of the `log` attribute]"
   ]
  },
  {
   "cell_type": "code",
   "execution_count": 4,
   "metadata": {},
   "outputs": [],
   "source": [
    "# Set up the WavefunctionSimulator\n",
    "sim = WavefunctionSimulator()"
   ]
  },
  {
   "cell_type": "code",
   "execution_count": 5,
   "metadata": {},
   "outputs": [
    {
     "data": {
      "text/plain": [
       "     fun: -1.3142417524906063\n",
       "   maxcv: 0.0\n",
       " message: 'Optimization terminated successfully.'\n",
       "    nfev: 134\n",
       "  status: 1\n",
       " success: True\n",
       "       x: array([ 1.23855737,  0.28695087, -0.19301388,  0.58167549])"
      ]
     },
     "execution_count": 5,
     "metadata": {},
     "output_type": "execute_result"
    }
   ],
   "source": [
    "cost_function = QAOACostFunctionOnWFSim(hamiltonian,\n",
    "                                        params=standard_params,\n",
    "                                        sim=sim,\n",
    "                                        return_standard_deviation=True,\n",
    "                                        noisy=False)\n",
    "\n",
    "res = scipy_optimizer(cost_function, standard_params.raw(), epsilon=1e-3,\n",
    "                      maxiter=500)\n",
    "res"
   ]
  },
  {
   "cell_type": "markdown",
   "metadata": {},
   "source": [
    "We can check this against the value we should get, by finding the lowest eigenvalue of `hamiltonian`."
   ]
  },
  {
   "cell_type": "code",
   "execution_count": 6,
   "metadata": {},
   "outputs": [
    {
     "data": {
      "text/plain": [
       "(-2.4+0j)"
      ]
     },
     "execution_count": 6,
     "metadata": {},
     "output_type": "execute_result"
    }
   ],
   "source": [
    "ham_matrix = hamiltonian.matrix()\n",
    "eigs = np.linalg.eigvals(ham_matrix)\n",
    "min(eigs)"
   ]
  },
  {
   "cell_type": "markdown",
   "metadata": {},
   "source": [
    "Clearly we have not found the ground state energy. We can try increasing the number of timesteps:"
   ]
  },
  {
   "cell_type": "code",
   "execution_count": 7,
   "metadata": {},
   "outputs": [],
   "source": [
    "betas          = [0.1, 0.6, 0.8]\n",
    "gammas_singles = [0.4, 0.5, 0.6]\n",
    "gammas_pairs   = [0.1, 0.3, 0.5]\n",
    "parameters = (betas, gammas_singles, gammas_pairs)\n",
    "\n",
    "standard_params_p3 = StandardParams([hamiltonian,3],parameters)"
   ]
  },
  {
   "cell_type": "code",
   "execution_count": 8,
   "metadata": {},
   "outputs": [
    {
     "data": {
      "text/plain": [
       "     fun: -1.5996028753869558\n",
       "   maxcv: 0.0\n",
       " message: 'Optimization terminated successfully.'\n",
       "    nfev: 91\n",
       "  status: 1\n",
       " success: True\n",
       "       x: array([0.53313931, 0.24934354, 1.48796382, 0.4948979 , 0.85173229,\n",
       "       1.73626075])"
      ]
     },
     "execution_count": 8,
     "metadata": {},
     "output_type": "execute_result"
    }
   ],
   "source": [
    "sim = WavefunctionSimulator()\n",
    "\n",
    "cost_function = QAOACostFunctionOnWFSim(hamiltonian,\n",
    "                                        params=standard_params_p3,\n",
    "                                        sim=sim,\n",
    "                                        return_standard_deviation=True,\n",
    "                                        noisy=False)\n",
    "\n",
    "res = scipy_optimizer(cost_function, standard_params_p3.raw(), epsilon=1e-3,\n",
    "                      maxiter=500)\n",
    "res"
   ]
  },
  {
   "cell_type": "markdown",
   "metadata": {},
   "source": [
    "This is better, but still not the actual ground state. Since we don't seem to be doing very well with `StandardParams`, let's try the `ExtendedParams` parametrisation instead."
   ]
  },
  {
   "cell_type": "code",
   "execution_count": 9,
   "metadata": {},
   "outputs": [
    {
     "data": {
      "text/plain": [
       "     fun: -2.3999844996901087\n",
       "   maxcv: 0.0\n",
       " message: 'Optimization terminated successfully.'\n",
       "    nfev: 537\n",
       "  status: 1\n",
       " success: True\n",
       "       x: array([7.84894980e-01, 9.50000139e-01, 1.72861467e-01, 5.95428106e-04,\n",
       "       5.13327141e-01, 8.07889409e-01, 2.88943327e-04, 2.72404223e-01,\n",
       "       3.18567311e-01, 1.56385179e+00, 8.14998728e-01, 1.07797151e+00,\n",
       "       5.21914868e-04, 3.47120998e-04, 1.11779384e+00, 3.89323119e-01,\n",
       "       8.63278200e-03, 6.81045946e-01])"
      ]
     },
     "execution_count": 9,
     "metadata": {},
     "output_type": "execute_result"
    }
   ],
   "source": [
    "extended_params_p3 = ExtendedParams.linear_ramp_from_hamiltonian(hamiltonian,n_steps=3)\n",
    "\n",
    "cost_function = QAOACostFunctionOnWFSim(hamiltonian,\n",
    "                                        params=extended_params_p3,\n",
    "                                        sim=sim,\n",
    "                                        return_standard_deviation=True,\n",
    "                                        noisy=False)\n",
    "\n",
    "res = scipy_optimizer(cost_function, extended_params_p3.raw(), epsilon=1e-3,\n",
    "                      maxiter=600)\n",
    "res"
   ]
  },
  {
   "cell_type": "markdown",
   "metadata": {},
   "source": [
    "Bingo! The result attribute `x` is a list of the optimal circuit parameters that have been found. We can disentangle this into the `betas` and `gammas` of our QAOA parameterisation by using the `update_from_raw()` method:"
   ]
  },
  {
   "cell_type": "code",
   "execution_count": 10,
   "metadata": {},
   "outputs": [
    {
     "data": {
      "text/plain": [
       "Hyperparameters:\n",
       "\tregister: [0, 1, 2]\n",
       "\tqubits_singles: [0]\n",
       "\tqubits_pairs: [[0, 1], [0, 2]]\n",
       "Parameters:\n",
       "\tbetas: [[7.84894980e-01 9.50000139e-01 1.72861467e-01], [5.95428106e-04 5.13327141e-01 8.07889409e-01], [2.88943327e-04 2.72404223e-01 3.18567311e-01]]\n",
       "\tgammas_singles: [[1.56385179], [0.81499873], [1.07797151]]\n",
       "\tgammas_pairs: [[5.21914868e-04 3.47120998e-04], [1.11779384e+00 3.89323119e-01], [8.63278200e-03 6.81045946e-01]]"
      ]
     },
     "execution_count": 10,
     "metadata": {},
     "output_type": "execute_result"
    }
   ],
   "source": [
    "extended_params_p3.update_from_raw(res['x'])\n",
    "extended_params_p3"
   ]
  },
  {
   "cell_type": "markdown",
   "metadata": {},
   "source": [
    "Now that we have the optimal angles, we can prepare the corresponding state and sample from it to obtain the most probable bitstring. To do this, we use the get_wavefunction method of the cost_function class."
   ]
  },
  {
   "cell_type": "code",
   "execution_count": 11,
   "metadata": {},
   "outputs": [
    {
     "name": "stdout",
     "output_type": "stream",
     "text": [
      "(-1.841e-06+1.9982e-06j)|000> + (0.0014493288+0.0031936253j)|001> + (0.0008599721+0.0003608735j)|010> + (-9.52746e-05+0.0001209676j)|011> + (0.0001962334-0.0003119455j)|100> + (0.0002687247+0.0003162887j)|101> + (-0.9992025065-0.0397591648j)|110> + (-0.000194362+0.0001435974j)|111>\n"
     ]
    }
   ],
   "source": [
    "opt_wfn = cost_function.get_wavefunction(res.x)\n",
    "print(opt_wfn)"
   ]
  },
  {
   "cell_type": "code",
   "execution_count": 12,
   "metadata": {},
   "outputs": [
    {
     "name": "stdout",
     "output_type": "stream",
     "text": [
      "[7.38215269e-12 1.22997963e-05 8.69781730e-07 2.37104234e-08\n",
      " 1.35817517e-07 1.72251505e-07 9.99986440e-01 5.83968141e-08]\n"
     ]
    }
   ],
   "source": [
    "probs = opt_wfn.probabilities()\n",
    "print(probs)"
   ]
  },
  {
   "cell_type": "code",
   "execution_count": 13,
   "metadata": {},
   "outputs": [
    {
     "data": {
      "image/png": "[encoded data removed]",
      "text/plain": [
       "<Figure size 432x288 with 1 Axes>"
      ]
     },
     "metadata": {
      "needs_background": "light"
     },
     "output_type": "display_data"
    }
   ],
   "source": [
    "labels = [\"{0:03b}\".format(i) for i in range(8)]\n",
    "plt.bar(range(8),probs)\n",
    "plt.xticks(range(8), labels)\n",
    "plt.show()"
   ]
  },
  {
   "cell_type": "markdown",
   "metadata": {},
   "source": [
    "The QAOA has determined that the bitstring 110 (6 in decimal) is the minimum energy solution. Let's check this is consistent with the real answer:"
   ]
  },
  {
   "cell_type": "code",
   "execution_count": 14,
   "metadata": {},
   "outputs": [
    {
     "data": {
      "text/plain": [
       "(array([ 1.4+0.j, -1.4+0.j,  0. +0.j,  0. +0.j, -1. +0.j,  1. +0.j,\n",
       "        -2.4+0.j,  2.4+0.j]),\n",
       " array([[1.+0.j, 0.+0.j, 0.+0.j, 0.+0.j, 0.+0.j, 0.+0.j, 0.+0.j, 0.+0.j],\n",
       "        [0.+0.j, 1.+0.j, 0.+0.j, 0.+0.j, 0.+0.j, 0.+0.j, 0.+0.j, 0.+0.j],\n",
       "        [0.+0.j, 0.+0.j, 1.+0.j, 0.+0.j, 0.+0.j, 0.+0.j, 0.+0.j, 0.+0.j],\n",
       "        [0.+0.j, 0.+0.j, 0.+0.j, 1.+0.j, 0.+0.j, 0.+0.j, 0.+0.j, 0.+0.j],\n",
       "        [0.+0.j, 0.+0.j, 0.+0.j, 0.+0.j, 1.+0.j, 0.+0.j, 0.+0.j, 0.+0.j],\n",
       "        [0.+0.j, 0.+0.j, 0.+0.j, 0.+0.j, 0.+0.j, 1.+0.j, 0.+0.j, 0.+0.j],\n",
       "        [0.+0.j, 0.+0.j, 0.+0.j, 0.+0.j, 0.+0.j, 0.+0.j, 1.+0.j, 0.+0.j],\n",
       "        [0.+0.j, 0.+0.j, 0.+0.j, 0.+0.j, 0.+0.j, 0.+0.j, 0.+0.j, 1.+0.j]]))"
      ]
     },
     "execution_count": 14,
     "metadata": {},
     "output_type": "execute_result"
    }
   ],
   "source": [
    "np.linalg.eig(ham_matrix)"
   ]
  },
  {
   "cell_type": "markdown",
   "metadata": {},
   "source": [
    "The lowest energy solution does indeed correspond to the eigenvector $(0,0,0,0,0,0,1,0)$, i.e. the $|001\\rangle$ component.\n",
    "\n",
    "Interestingly, the soltution was found with a very high probability (see the values of `probs` above). The second largest component is the $|001\\rangle$ component, although its probability is four orders of magnitude smaller. It is not coincidental that this state is related to the ground state $|110\\rangle$ by a bit flip on each qubit. Suppose we return to the original Hamiltonian, but instead we remove the single-qubit bias term on qubit 0. Let's run the entire computation again and see what we get."
   ]
  },
  {
   "cell_type": "code",
   "execution_count": 15,
   "metadata": {},
   "outputs": [
    {
     "data": {
      "image/png": "[encoded data removed]",
      "text/plain": [
       "<Figure size 432x288 with 1 Axes>"
      ]
     },
     "metadata": {
      "needs_background": "light"
     },
     "output_type": "display_data"
    }
   ],
   "source": [
    "hamiltonian = PauliSum.from_compact_str(\"0.7*Z0*Z1 + 1.2*Z0*Z2\")\n",
    "n_steps = 2\n",
    "\n",
    "NoBiasParams = ExtendedParams.linear_ramp_from_hamiltonian(hamiltonian,n_steps)\n",
    "\n",
    "cost_function = QAOACostFunctionOnWFSim(hamiltonian,\n",
    "                                        params=NoBiasParams,\n",
    "                                        sim=sim,\n",
    "                                        return_standard_deviation=True,\n",
    "                                        noisy=False)\n",
    "\n",
    "res = scipy_optimizer(cost_function, NoBiasParams.raw(), epsilon=1e-3,\n",
    "                      maxiter=500)\n",
    "\n",
    "opt_wfn = cost_function.get_wavefunction(res.x)\n",
    "probs = opt_wfn.probabilities()\n",
    "\n",
    "labels = [\"{0:03b}\".format(i) for i in range(8)]\n",
    "plt.bar(range(8),probs)\n",
    "plt.xticks(range(8), labels)\n",
    "plt.show()"
   ]
  },
  {
   "cell_type": "markdown",
   "metadata": {},
   "source": [
    "Now the probabilities are completely symmetric under a bit flip on all qubits - there is no bias term in the Hamiltonian to force a given qubit into state $|0\\rangle$ or $|1\\rangle$, and the eigenspectrum of the cost function Hamiltonian is \"doubly degenerate\", i.e. the energy eigenstates fall into pairs, where the corresponding eigenstates are related to one another by a bit flip on all qubits. "
   ]
  }
 ],
 "metadata": {
  "kernelspec": {
   "display_name": "Python 3",
   "language": "python",
   "name": "python3"
  },
  "language_info": {
   "codemirror_mode": {
    "name": "ipython",
    "version": 3
   },
   "file_extension": ".py",
   "mimetype": "text/x-python",
   "name": "python",
   "nbconvert_exporter": "python",
   "pygments_lexer": "ipython3",
   "version": "3.7.3"
  }
 },
 "nbformat": 4,
 "nbformat_minor": 2
}
