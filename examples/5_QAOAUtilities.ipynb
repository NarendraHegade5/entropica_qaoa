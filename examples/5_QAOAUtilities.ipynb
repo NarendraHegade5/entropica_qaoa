{
 "cells": [
  {
   "cell_type": "markdown",
   "metadata": {},
   "source": [
    "# Utility functions for QAOA\n",
    "\n",
    "This section walks through some of the key features provided in EntropicaQAOA, all of which are contained in the `utilities.py` file. In particular, it illustrates the integration of functionalities from common graph and data analysis packages such as NetworkX and Pandas. We also provide two examples that bring together the functionalities to solve real problems."
   ]
  },
  {
   "cell_type": "markdown",
   "metadata": {
    "tags": [
     "hide_all"
    ]
   },
   "source": [
    "## Contents\n",
    "1. [Methods for creating and converting Hamiltonians and graphs](#hamiltonians_and_graphs)\n",
    " - [Hyperparameters to Hamiltonians](#hyperparams_to_ham)\n",
    " - [Random Hamiltonians](#random_hamiltonian)\n",
    " - [Hamiltonians to Graphs](#graph_from_hamiltonian)\n",
    " - [Graphs to Hamiltonians](#hamiltonian_from_graph)\n",
    " - [Hyperparameters to Graphs](#graph_from_hyperparams)\n",
    " - [Random, regular Graphs](#random_k_regular_graph)\n",
    "2. [Methods to create Hamiltonians from input datasets](#hamiltonians_and_data)\n",
    " - [Random cluster generation and distance datasets](#gaussian_2Dclusters)\n",
    " - [Distance datasets to Hamiltonians](#hamiltonian_from_distance_matrix)\n",
    "3. [Some more miscellanous utilities](#miscellaneous)\n",
    " - [Use different initial states for QAOA](#prepare_classical_state)\n",
    " - [Get the bitstring corresponding to the maximum probability state](#max_probability_bitstring)\n",
    " - [Accuracy scores for QAOA](#cluster_accuracy)\n",
    " - [Nice plots of probabilites and energies](#plot_probabilities)\n",
    "4. [Example 1: Using QAOA to solve the Maxut problem for clustering](#qaoa_clustering)\n",
    "5. [Example 2: The Ring of Disagrees](#ring_of_disagrees)\n",
    "6. [References](#references)"
   ]
  },
  {
   "cell_type": "code",
   "execution_count": 1,
   "metadata": {},
   "outputs": [],
   "source": [
    "# The usual combination of imports from numpy, scipy and matplotlib\n",
    "from scipy.optimize import minimize\n",
    "import numpy as np\n",
    "import matplotlib.pyplot as plt\n",
    "\n",
    "# import QAOA Parameter classes \n",
    "from entropica_qaoa.qaoa.parameters import ExtendedParams, StandardParams\n",
    "\n",
    "# Cost functions and all the utilities\n",
    "from entropica_qaoa.qaoa.cost_function import QAOACostFunctionOnWFSim, QAOACostFunctionOnQVM\n",
    "from entropica_qaoa.utilities import *\n",
    "\n",
    "# Pyquil import\n",
    "from pyquil.api import get_qc\n",
    "\n",
    "# Matplotlib raises errors about NetworkX using outdated methods. Nothing we can change, so we suppress the messages.\n",
    "import warnings\n",
    "warnings.filterwarnings('ignore')"
   ]
  },
  {
   "cell_type": "markdown",
   "metadata": {},
   "source": [
    "<a id='hamiltonians_and_graphs'></a>\n",
    "\n",
    "## Hamiltonians and graphs\n",
    "\n",
    "In QAOA, a problem instance is defined by its corresponding *hyperparameters*, which refers to a specification of the total number of qubits `nqubits`, and one or both of the following:\n",
    "\n",
    "1. The single qubits that have a bias term (denoted `singles`) and the corresponding bias coefficients (denoted `biases`).\n",
    "2. The pairs of qubits that are coupled (denoted `pairs`), and the corresponding coupling coefficients (denoted `couplings`).\n",
    "\n",
    "Equivalently, when viewed as a network graph problem, a QAOA instance is defined by specifying the total number of vertices or nodes in the graph, and one or both of the following: \n",
    "\n",
    "1. The vertices that have a bias term, and the corresponding bias coefficients.\n",
    "2. The pairs of vertices that are connected by an edge, and the corresponding edge weight.\n",
    "\n",
    "The following sections explain how EntropicaQAOA's utility functions allow for the simple creation of, and conversion between, Hamiltonians and graphs."
   ]
  },
  {
   "cell_type": "markdown",
   "metadata": {},
   "source": [
    "<a id='hyperparams_to_ham'></a>\n",
    "\n",
    "#### Hyperparameters to Hamiltonian\n",
    "If we have a known set of problem hyperparameters, the `hamiltonian_from_hyperparams()` method allows us to easily create the corresponding Hamiltonian. "
   ]
  },
  {
   "cell_type": "code",
   "execution_count": 2,
   "metadata": {},
   "outputs": [
    {
     "name": "stdout",
     "output_type": "stream",
     "text": [
      "(0.4+0j)*Z0*Z1 + (0.6+0j)*Z1*Z2 + (0.3+0j)*Z1\n"
     ]
    }
   ],
   "source": [
    "# Specify some hyperparameters\n",
    "nqubits = 3\n",
    "singles = [1]\n",
    "biases = [0.3]\n",
    "pairs = [[0,1], [1,2]]\n",
    "couplings = [0.4, 0.6]\n",
    "\n",
    "# Create the Hamiltonian\n",
    "h0 = hamiltonian_from_hyperparams(nqubits,singles,biases,pairs,couplings)\n",
    "print(h0)"
   ]
  },
  {
   "cell_type": "markdown",
   "metadata": {},
   "source": [
    "<a id='random_hamiltonian'></a>\n",
    "\n",
    "#### Random Hamiltonian\n",
    "The `.random_hamiltonian()` method allows us to generate a random Hamiltonian (problem instance) for a specified number of qubits. It randomly selects a number of biases and number of couplings, then assigns each of them a random value between zero and one. For instance, let's create two 4-qubit Hamiltonians."
   ]
  },
  {
   "cell_type": "code",
   "execution_count": 3,
   "metadata": {},
   "outputs": [
    {
     "name": "stdout",
     "output_type": "stream",
     "text": [
      "h1 = (0.22426675667765372+0j)*Z3 + (0.1501986539217275+0j)*Z0*Z1 + (0.9707501010061365+0j)*Z2*Z3\n",
      "\n",
      "h2 = (0.33295405269057887+0j)*Z0 + (0.9418311774355997+0j)*Z3 + (0.24919377260659348+0j)*Z0*Z2 + (0.298367175101687+0j)*Z0*Z3 + (0.2604542179761158+0j)*Z1*Z3\n"
     ]
    }
   ],
   "source": [
    "h1 = random_hamiltonian(range(4))\n",
    "h2 = random_hamiltonian(range(4))\n",
    "print(\"h1 =\",h1)\n",
    "print()\n",
    "print(\"h2 =\",h2)"
   ]
  },
  {
   "cell_type": "markdown",
   "metadata": {},
   "source": [
    "<a id='graph_from_hamiltonian'></a>\n",
    "\n",
    "#### Hamiltonians to Graphs\n",
    "We can create a `NetworkX` graph corresponding to the qubit couplings in `h1` using the `graph_from_hamiltonian` method and then plot it using `plot_graph()`:"
   ]
  },
  {
   "cell_type": "code",
   "execution_count": 4,
   "metadata": {
    "scrolled": true
   },
   "outputs": [
    {
     "data": {
      "image/png": "[encoded data removed]",
      "text/plain": [
       "<Figure size 432x288 with 1 Axes>"
      ]
     },
     "metadata": {},
     "output_type": "display_data"
    }
   ],
   "source": [
    "g1 = graph_from_hamiltonian(h1)\n",
    "plot_graph(g1)"
   ]
  },
  {
   "cell_type": "markdown",
   "metadata": {},
   "source": [
    "<a id='hamiltonian_from_graph'></a>\n",
    "\n",
    "#### Graphs to Hamiltonians\n",
    "Alternatively, we can work backwards, creating a graph first, then the corresponding Hamiltonian using the `hamiltonian_from_graph()` method. \n",
    "\n",
    "Let's take the graph we have just produced (`g1`) and convert it back to its corresponding Hamiltonian, which we called `h1` above."
   ]
  },
  {
   "cell_type": "code",
   "execution_count": 5,
   "metadata": {},
   "outputs": [
    {
     "name": "stdout",
     "output_type": "stream",
     "text": [
      "From graph: (0.22426675667765372+0j)*Z3 + (0.9707501010061365+0j)*Z3*Z2 + (0.1501986539217275+0j)*Z0*Z1\n",
      "\n",
      "Original: (0.22426675667765372+0j)*Z3 + (0.1501986539217275+0j)*Z0*Z1 + (0.9707501010061365+0j)*Z2*Z3\n"
     ]
    }
   ],
   "source": [
    "H1 = hamiltonian_from_graph(g1)\n",
    "print('From graph:', H1)\n",
    "print('')\n",
    "print('Original:', h1)"
   ]
  },
  {
   "cell_type": "markdown",
   "metadata": {},
   "source": [
    "<a id='graph_from_hyperparams'></a>\n",
    "\n",
    "#### Hyperparameters to Graphs\n",
    "We can also create a graph directly from hyperparameters, using the `graph_from_hyperparams()` method. Here we use the Hamiltonian created [above](#hyperparams_to_ham)."
   ]
  },
  {
   "cell_type": "code",
   "execution_count": 6,
   "metadata": {},
   "outputs": [
    {
     "data": {
      "image/png": "[encoded data removed]",
      "text/plain": [
       "<Figure size 432x288 with 1 Axes>"
      ]
     },
     "metadata": {},
     "output_type": "display_data"
    }
   ],
   "source": [
    "g0 = graph_from_hyperparams(nqubits, singles, biases, pairs, couplings)\n",
    "plot_graph(g0)"
   ]
  },
  {
   "cell_type": "markdown",
   "metadata": {},
   "source": [
    "<a id='random_k_regular_graph'></a>\n",
    "\n",
    "#### Random, regular Graphs\n",
    "In recent research on QAOA, there has been interest in the performance of the algorithm on $k$-regular graphs, i.e. graphs where every node is connected to exactly $k$ other nodes. We can generate such graphs easily using the `random_k_regular_graph()` function. For instance, let's create a 3-regular graph with 8 nodes: "
   ]
  },
  {
   "cell_type": "code",
   "execution_count": 7,
   "metadata": {},
   "outputs": [
    {
     "data": {
      "image/png": "[encoded data removed]",
      "text/plain": [
       "<Figure size 432x288 with 1 Axes>"
      ]
     },
     "metadata": {},
     "output_type": "display_data"
    }
   ],
   "source": [
    "G_3_reg = random_k_regular_graph(3, range(8), weighted=True)\n",
    "plot_graph(G_3_reg)"
   ]
  },
  {
   "cell_type": "markdown",
   "metadata": {},
   "source": [
    "<a id='hamiltonians_and_data'></a>\n",
    "\n",
    "## Hamiltonians and data\n",
    "\n",
    "One prominent application of QAOA is to solve the weighted MaxCut problem, which may be used as a clustering technique - see, for example, [Ref 1](#references). Here, the pairwise distance between a given pair of data points in a dataset is used as the weight on the corresponding graph, and enters the Hamiltonian as the corresponding coupling coefficient between the corresponding qubits.\n",
    "\n",
    "In the following, we demo some steps of a workflow to use QAOA to solve such a MaxCut problem for clustering. We use simple toy data generated by the `gaussian_2Dclusters()` function."
   ]
  },
  {
   "cell_type": "markdown",
   "metadata": {},
   "source": [
    "<a id='gaussian_2Dclusters'></a>\n",
    "\n",
    "#### Cluster generation and distance calculations\n",
    "\n",
    " Let's create a data set of two clusters, where the points in each cluster follow Gaussian statistics."
   ]
  },
  {
   "cell_type": "code",
   "execution_count": 8,
   "metadata": {},
   "outputs": [
    {
     "data": {
      "image/png": "[encoded data removed]",
      "text/plain": [
       "<Figure size 432x288 with 1 Axes>"
      ]
     },
     "metadata": {
      "needs_background": "light"
     },
     "output_type": "display_data"
    }
   ],
   "source": [
    "n_clusters = 2 # Number of clusters we want \n",
    "n_points = [3,3] # Number of data points in each cluster\n",
    "means = [[0,0], [2,2]] # Cluster means (the [x,y] coordinates of each cluster centre)\n",
    "\n",
    "# Covariance matrix: we will use the same one for each of the two clusters here,\n",
    "# but more generally they could be different\n",
    "cov_matrix = [[0.1, 0], [0, 0.1]] \n",
    "cov_matrices = [cov_matrix,cov_matrix]\n",
    "\n",
    "cluster_data = gaussian_2Dclusters(n_clusters,n_points,means,cov_matrices)\n",
    "plot_cluster_data(cluster_data)"
   ]
  },
  {
   "cell_type": "markdown",
   "metadata": {},
   "source": [
    "The next step in setting up the MaxCut problem is to compute the pairwise distances of the points in the dataset, which we can do using the `distances_dataset()` function. Here we will use the Euclidean distance, but more generally we can ask for any distance metric included in Scipy's [cdist](https://docs.scipy.org/doc/scipy/reference/generated/scipy.spatial.distance.cdist.html) function."
   ]
  },
  {
   "cell_type": "code",
   "execution_count": 9,
   "metadata": {
    "scrolled": true
   },
   "outputs": [
    {
     "data": {
      "text/plain": [
       "array([[0.        , 0.89208695, 0.62137939, 2.64589877, 3.57135197,\n",
       "        3.24471024],\n",
       "       [0.89208695, 0.        , 1.47286307, 1.93879133, 2.78453118,\n",
       "        2.46558506],\n",
       "       [0.62137939, 1.47286307, 0.        , 3.01943759, 3.98733177,\n",
       "        3.65947555],\n",
       "       [2.64589877, 1.93879133, 3.01943759, 0.        , 0.992259  ,\n",
       "        0.67660191],\n",
       "       [3.57135197, 2.78453118, 3.98733177, 0.992259  , 0.        ,\n",
       "        0.32805982],\n",
       "       [3.24471024, 2.46558506, 3.65947555, 0.67660191, 0.32805982,\n",
       "        0.        ]])"
      ]
     },
     "execution_count": 9,
     "metadata": {},
     "output_type": "execute_result"
    }
   ],
   "source": [
    "dists = distances_dataset(cluster_data, metric='euclidean')\n",
    "dists"
   ]
  },
  {
   "cell_type": "markdown",
   "metadata": {},
   "source": [
    "Note that `distances_dataset()` can also take and return data in the Pandas dataframe format."
   ]
  },
  {
   "cell_type": "markdown",
   "metadata": {},
   "source": [
    "<a id='hamiltonian_from_distance_matrix'></a>\n",
    "\n",
    "#### Distance datasets to Hamiltonians\n",
    "\n",
    "Now that we have the distances between all points in the dataset, we want to generate the corresponding MaxCut Hamiltonian. We can do this easily with the `hamiltonian_from_distances()` method. "
   ]
  },
  {
   "cell_type": "code",
   "execution_count": 10,
   "metadata": {},
   "outputs": [
    {
     "name": "stdout",
     "output_type": "stream",
     "text": [
      "(0.8920869530576089+0j)*Z0*Z1 + (0.6213793918993751+0j)*Z0*Z2 + (2.6458987711536555+0j)*Z0*Z3 + (3.5713519713338515+0j)*Z0*Z4 + (3.244710235054523+0j)*Z0*Z5 + (1.4728630670136837+0j)*Z1*Z2 + (1.938791326007791+0j)*Z1*Z3 + (2.784531176657113+0j)*Z1*Z4 + (2.4655850590944866+0j)*Z1*Z5 + (3.019437590479767+0j)*Z2*Z3 + (3.987331765143783+0j)*Z2*Z4 + (3.6594755517875734+0j)*Z2*Z5 + (0.9922590043101441+0j)*Z3*Z4 + (0.6766019064351919+0j)*Z3*Z5 + (0.3280598229772459+0j)*Z4*Z5\n"
     ]
    }
   ],
   "source": [
    "hData = hamiltonian_from_distances(dists)\n",
    "print(hData)"
   ]
  },
  {
   "cell_type": "markdown",
   "metadata": {},
   "source": [
    "For simplicity here we have omitted terms proportional to the identity matrix, which are commonly included in the definition of the MaxCut cost function. Since such terms only introduce a global energy shift, they do not affect the optimal configuration that we find as a solution."
   ]
  },
  {
   "cell_type": "markdown",
   "metadata": {},
   "source": [
    "<a id='qaoa_clustering'></a>\n",
    "\n",
    "## Example 1: Using QAOA to solve MaxCut for the clustering problem\n",
    "\n",
    "Now that we have the Hamiltonian, we can go ahead and run the QAOA to check that the points are clustered correctly. We will use the `ExtendedParams` class, and three timesteps (p=3). We don't include any single-qubit bias terms."
   ]
  },
  {
   "cell_type": "code",
   "execution_count": 11,
   "metadata": {},
   "outputs": [
    {
     "data": {
      "text/plain": [
       "     fun: -8.177921421095586\n",
       "   maxcv: 0.0\n",
       " message: 'Maximum number of function evaluations has been exceeded.'\n",
       "    nfev: 200\n",
       "  status: 2\n",
       " success: False\n",
       "       x: array([ 1.2968615 ,  1.13140341,  0.45590417,  0.27218615,  0.22005776,\n",
       "        1.21903021,  0.68586607,  0.92049553,  1.5634729 ,  1.54949027,\n",
       "        0.05019311,  1.53142017,  0.99585679, -0.17861998,  0.92000842,\n",
       "        0.73999305,  0.19711567,  0.21175899,  0.05057582,  0.39652405,\n",
       "        1.46430515,  0.84138333,  0.87310902,  1.27336059,  0.47683663,\n",
       "        1.86760206,  0.90165824,  0.97404713,  1.60452064,  0.42105087,\n",
       "        0.72587103,  0.94921258,  0.32042373,  0.92838485,  0.80194516,\n",
       "        1.37924246,  0.7273695 ,  0.31844058,  0.17526702,  0.37083024,\n",
       "        0.48814381,  1.41541468,  1.43040292,  0.5900947 ,  0.11542496,\n",
       "        0.01334736,  0.18902991,  1.72525423,  0.92682988,  0.12635149,\n",
       "        0.07501775,  0.16643011,  0.57625313,  0.05711509,  0.58498862,\n",
       "        0.23702585,  0.71313912,  0.31977506,  0.41922587,  0.71878501,\n",
       "        0.75606292, -0.24765194,  0.4416072 ])"
      ]
     },
     "execution_count": 11,
     "metadata": {},
     "output_type": "execute_result"
    }
   ],
   "source": [
    "n_qubits = 6\n",
    "p = 3\n",
    "\n",
    "# Specify some angles\n",
    "betas = np.random.rand(n_qubits,p)\n",
    "gammas_singles = []\n",
    "gammas_pairs = np.random.rand(len(hData),p)\n",
    "parameters = (betas,gammas_singles,gammas_pairs)\n",
    "\n",
    "extended_params = ExtendedParams([hData,p],parameters)\n",
    "\n",
    "# NOTE - the optimiser will reach its maximum number of iterations, but for the parameters being used here,\n",
    "# the choice maxiter=200 seems to be more than sufficient to get to the optimum with high probability.\n",
    "cost_function = QAOACostFunctionOnWFSim(hData,\n",
    "                                        params=extended_params,\n",
    "                                        scalar_cost_function=False)\n",
    "\n",
    "res = minimize(cost_function, extended_params.raw(),\n",
    "               tol=1e-3, method=\"Cobyla\", options={\"maxiter\": 200})\n",
    "res"
   ]
  },
  {
   "cell_type": "markdown",
   "metadata": {},
   "source": [
    "Let us plot the probabilities of the different bitstrings. Since the energies are invariant under a bit flip on all qubits, each bitstring and its complement have identical outcome probabilities."
   ]
  },
  {
   "cell_type": "code",
   "execution_count": 12,
   "metadata": {},
   "outputs": [
    {
     "data": {
      "image/png": "[encoded data removed]",
      "text/plain": [
       "<Figure size 432x288 with 1 Axes>"
      ]
     },
     "metadata": {
      "needs_background": "light"
     },
     "output_type": "display_data"
    }
   ],
   "source": [
    "opt_wfn = cost_function.get_wavefunction(res.x)\n",
    "probs = opt_wfn.probabilities()\n",
    "plt.bar(range(len(probs)), probs)\n",
    "plt.show()"
   ]
  },
  {
   "cell_type": "markdown",
   "metadata": {},
   "source": [
    "Now we want to find the string corresponding to the optimal solution. Numpy's `argmax` function will return the first of the two degenerate solutions. As expected, we find that the first three qubits are in one class, and the second three qubits in another (this is the way the data was constructed above, in two distinct clusters)."
   ]
  },
  {
   "cell_type": "code",
   "execution_count": 13,
   "metadata": {},
   "outputs": [
    {
     "data": {
      "text/plain": [
       "'000111'"
      ]
     },
     "execution_count": 13,
     "metadata": {},
     "output_type": "execute_result"
    }
   ],
   "source": [
    "optimal_string = np.argmax(probs)\n",
    "\"{0:06b}\".format(optimal_string)"
   ]
  },
  {
   "cell_type": "markdown",
   "metadata": {},
   "source": [
    "We can check that the other optimal solution found is the complement bitstring, i.e. 111000:"
   ]
  },
  {
   "cell_type": "code",
   "execution_count": 14,
   "metadata": {},
   "outputs": [
    {
     "data": {
      "text/plain": [
       "'111000'"
      ]
     },
     "execution_count": 14,
     "metadata": {},
     "output_type": "execute_result"
    }
   ],
   "source": [
    "probs[optimal_string] = 0 # Sets the solution 000111 to have zero probability\n",
    "optimal_string_complement = np.argmax(probs)\n",
    "\"{0:06b}\".format(optimal_string_complement)"
   ]
  },
  {
   "cell_type": "markdown",
   "metadata": {},
   "source": [
    "<a id='ring_of_disagrees'></a>\n",
    "\n",
    "## Example 2: The Ring of Disagrees \n",
    "\n",
    "The _Ring of Diasgrees_ is a 2-regular graph on a given number of nodes $n$. Its simple structure has allowed a number of extremely useful benchmarking results for QAOA to be derived. The ground state has energy $-n$ for even $n$, and $-n+1$ for odd $n$, and neighbouring nodes have opposite values (i.e. if a given node has value 1, its neighbour has value 0). \n",
    "\n",
    "In the paper that originally introduced the QAOA ([Ref 2](#references)), it was shown numerically that this graph provides a simple example of how the approximation ratio returned by QAOA can be made arbitrarily close to 1 by increasing the parameter $p$. For the MaxCut problem, the optimal cost function value returned for a given $n$ and $p$ was found to be \n",
    "\n",
    "$$\n",
    "C(n,p) = \\left(\\frac{2p + 1}{2p + 2}\\right)n\n",
    "$$\n",
    "\n",
    "This result assumes the `StandardParams` parameterisation, and that the graph is unweighted (all edge weights equal to 1). Here we verify this result using the `ring_of_disagrees()` function. Note that subsequent to [Ref 2](#references), this result has been derived using analytic methods in [Ref 3](#references)."
   ]
  },
  {
   "cell_type": "code",
   "execution_count": 15,
   "metadata": {},
   "outputs": [
    {
     "data": {
      "image/png": "[encoded data removed]",
      "text/plain": [
       "<Figure size 432x288 with 1 Axes>"
      ]
     },
     "metadata": {},
     "output_type": "display_data"
    }
   ],
   "source": [
    "n_nodes = 8\n",
    "h_disagrees = ring_of_disagrees(n_nodes)\n",
    "g_disagrees = graph_from_hamiltonian(h_disagrees)\n",
    "plot_graph(g_disagrees)"
   ]
  },
  {
   "cell_type": "code",
   "execution_count": 16,
   "metadata": {},
   "outputs": [],
   "source": [
    "def optimise_ring_of_disagrees(pval):\n",
    "    \n",
    "    # Initialise angles\n",
    "    betas = np.random.rand(pval)\n",
    "    gammas = np.random.rand(pval)\n",
    "    parameters = (betas, gammas)\n",
    "\n",
    "    # Set up (hyper)parameters\n",
    "    disagrees_params = StandardParams([h_disagrees,pval],parameters)\n",
    "    \n",
    "    # Cost function and optimisation\n",
    "    cost_function = QAOACostFunctionOnWFSim(h_disagrees, params=disagrees_params)\n",
    "    \n",
    "    res = minimize(cost_function, disagrees_params.raw(),\n",
    "                   tol=1e-3, method=\"BFGS\", options={\"maxiter\": 500})\n",
    "    \n",
    "    return res.fun, res.x\n",
    "    \n",
    "\n",
    "p_vals = np.arange(1,5) # p range to consider\n",
    "output_val = np.zeros((len(p_vals),))\n",
    "for i in p_vals:\n",
    "\n",
    "    output_val[i-1] = optimise_ring_of_disagrees(i)[0]"
   ]
  },
  {
   "cell_type": "markdown",
   "metadata": {},
   "source": [
    "Since we have 8 qubits, according to Farhi's formula we should find the maximum energy to be $-8 \\cdot (3/4,5/6,7/8,9/10) = -(6, 6.67, 7, 7.2)$ for $p = (1,2,3,4)$:"
   ]
  },
  {
   "cell_type": "code",
   "execution_count": 17,
   "metadata": {},
   "outputs": [
    {
     "data": {
      "text/plain": [
       "array([-5.99999999, -6.66666667, -6.99999999, -7.99999999])"
      ]
     },
     "execution_count": 17,
     "metadata": {},
     "output_type": "execute_result"
    }
   ],
   "source": [
    "output_val"
   ]
  },
  {
   "cell_type": "markdown",
   "metadata": {},
   "source": [
    "For the case $p=1$, the optimal angles can be computed analytically, and are given by $(\\beta_{opt}, \\gamma_{opt}) = (\\pi/8, \\pi/4$) - see [Ref 4](#references). We can see that the optimiser does indeed return these angles:"
   ]
  },
  {
   "cell_type": "code",
   "execution_count": 18,
   "metadata": {},
   "outputs": [
    {
     "data": {
      "text/plain": [
       "array([0.39269308, 0.78538503])"
      ]
     },
     "execution_count": 18,
     "metadata": {},
     "output_type": "execute_result"
    }
   ],
   "source": [
    "opt_angles = optimise_ring_of_disagrees(1)[1]\n",
    "opt_angles"
   ]
  },
  {
   "cell_type": "markdown",
   "metadata": {},
   "source": [
    "Let's finish off by running an example of the Ring of Disagrees on the QVM; we would follow a similar method to run the computation on the QPU. We'll use the optimal angles we have just found to check that the probability distribution of samples we obtain does indeed return the bitstring [0,1,0,1], or its complement [1,0,1,0], with high probability. \n",
    "\n",
    "Here, we make use of the `sample_qaoa_bitstrings` function, which executes the circuit defined by the QAOA instance and samples from output multiple times. We can plot the output conveniently using `bitstring_histogram`. "
   ]
  },
  {
   "cell_type": "code",
   "execution_count": 19,
   "metadata": {},
   "outputs": [
    {
     "data": {
      "image/png": "[encoded data removed]",
      "text/plain": [
       "<Figure size 432x288 with 1 Axes>"
      ]
     },
     "metadata": {
      "needs_background": "light"
     },
     "output_type": "display_data"
    }
   ],
   "source": [
    "qvm = get_qc(\"4q-qvm\")\n",
    "\n",
    "ham_disagrees_4 = ring_of_disagrees(4)\n",
    "params_disagrees_4 = StandardParams([ham_disagrees_4,1], opt_angles)\n",
    "\n",
    "bitstrings = sample_qaoa_bitstrings(params_disagrees_4, qvm)\n",
    "bitstring_histogram(bitstrings)"
   ]
  },
  {
   "cell_type": "markdown",
   "metadata": {},
   "source": [
    "<a id='miscellaneous'></a>\n",
    "\n",
    "## More miscellaneous utilities\n",
    "\n",
    "Here we demonstrate the functionality of some additional methods that may be useful in certain contexts."
   ]
  },
  {
   "cell_type": "markdown",
   "metadata": {},
   "source": [
    "<a id='prepare_classical_state'></a>\n",
    "\n",
    "#### Different initial states for QAOA\n",
    "\n",
    "We can easily use an initial state different from $\\left|+ \\cdots +\\right>$ for QAOA, by passing a state preparation program for the `initial_state` argument of the QAOA cost functions. For purely classical states (i.e. not a quantum superposition state) such as $\\left|10 \\cdots 10\\right>$, these programs cane be created via `prepare_classical_state`."
   ]
  },
  {
   "cell_type": "code",
   "execution_count": 20,
   "metadata": {},
   "outputs": [
    {
     "name": "stdout",
     "output_type": "stream",
     "text": [
      "X 0\n",
      "X 2\n",
      "X 4\n",
      "\n"
     ]
    }
   ],
   "source": [
    "register = [0, 1, 2, 3, 4, 5]  # the register to create the state on\n",
    "state = [1, 0, 1, 0, 1, 0]     # the |42> state (encodes the decimal number 42)\n",
    "\n",
    "prepare42_circuit = prepare_classical_state(register, state)\n",
    "print(prepare42_circuit)"
   ]
  },
  {
   "cell_type": "markdown",
   "metadata": {},
   "source": [
    "<a id='max_probability_bitstring'></a>\n",
    "\n",
    "#### Get the bitstring corresponding to the maximum probability state\n",
    "\n",
    "The `max_probability_bitstring()` method returns the bitstring corresponding to the maximum probability state of a wavefunction."
   ]
  },
  {
   "cell_type": "code",
   "execution_count": 21,
   "metadata": {},
   "outputs": [
    {
     "name": "stdout",
     "output_type": "stream",
     "text": [
      "[0, 1, 0, 1]\n"
     ]
    }
   ],
   "source": [
    "probs = np.exp(-np.linspace(-5, 10, 16)**2) # just an array of length 16 (corresponds to a 4-qubit system)\n",
    "probs = probs/probs.sum() # normalise to represent a proper probability distribution\n",
    "max_prob_state = max_probability_bitstring(probs)\n",
    "print(max_prob_state)"
   ]
  },
  {
   "cell_type": "markdown",
   "metadata": {},
   "source": [
    "<a id='cluster_accuracy'></a>\n",
    "\n",
    "#### Accuracy scores for QAOA \n",
    "\n",
    "`cluster_accuracy()` gives accuary scores for a QAOA result, if the true solution is known. The accuracy here is defined as the percentage of bits that are correct compared to the known solution."
   ]
  },
  {
   "cell_type": "code",
   "execution_count": 22,
   "metadata": {},
   "outputs": [
    {
     "name": "stdout",
     "output_type": "stream",
     "text": [
      "True Labels of samples: [1, 1, 0, 0]\n",
      "Lowest QAOA State: [0, 1, 0, 1]\n",
      "Accuracy of Original State: 50.0 %\n",
      "Accuracy of Complement State: 50.0 %\n"
     ]
    }
   ],
   "source": [
    "cluster_accuracy(max_prob_state, true_labels=[1, 1, 0, 0])"
   ]
  },
  {
   "cell_type": "markdown",
   "metadata": {},
   "source": [
    "<a id='plot_probabilities'></a>\n",
    "\n",
    "#### Get nice plots of probabilties\n",
    "\n",
    "If the true energies of all states are known, we can also obtain a nice side-by-side plot of the energies and probabilites using `plot_probabilities()`."
   ]
  },
  {
   "cell_type": "code",
   "execution_count": 23,
   "metadata": {},
   "outputs": [
    {
     "data": {
      "image/png": "[encoded data removed]",
      "text/plain": [
       "<Figure size 720x360 with 1 Axes>"
      ]
     },
     "metadata": {
      "needs_background": "light"
     },
     "output_type": "display_data"
    }
   ],
   "source": [
    "energies = np.sin(np.linspace(0, 10, 16))\n",
    "fig, ax = plt.subplots(figsize=(10,5))\n",
    "plot_probabilities(probs, energies, ax=ax)"
   ]
  },
  {
   "cell_type": "markdown",
   "metadata": {},
   "source": [
    "<a id='references'></a>\n",
    "\n",
    "## References\n",
    "\n",
    "1. J. S. Otterbach et al, __[*Unsupervised Machine Learning on a Hybrid Quantum Computer*](https://arxiv.org/abs/1712.05771)__\n",
    "2. E. Farhi et al, __[*A Quantum Approximate Optimization Algorithm*](https://arxiv.org/abs/1411.4028)__\n",
    "3. Z. Wang et al, __[*The Quantum Approximation Optimization Algorithm for MaxCut:  A Fermionic View*](https://arxiv.org/pdf/1706.02998.pdf)__\n",
    "4. S. Hadfield, __[*Quantum Algorithms for Scientific Computing and Approximate Optimization*](https://arxiv.org/pdf/1805.03265.pdf)__"
   ]
  },
  {
   "cell_type": "code",
   "execution_count": null,
   "metadata": {},
   "outputs": [],
   "source": []
  }
 ],
 "metadata": {
  "kernelspec": {
   "display_name": "Python 3",
   "language": "python",
   "name": "python3"
  },
  "language_info": {
   "codemirror_mode": {
    "name": "ipython",
    "version": 3
   },
   "file_extension": ".py",
   "mimetype": "text/x-python",
   "name": "python",
   "nbconvert_exporter": "python",
   "pygments_lexer": "ipython3",
   "version": "3.7.3"
  }
 },
 "nbformat": 4,
 "nbformat_minor": 2
}
