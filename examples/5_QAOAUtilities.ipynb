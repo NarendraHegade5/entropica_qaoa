{
 "cells": [
  {
   "cell_type": "markdown",
   "metadata": {},
   "source": [
    "# QAOA Utilities\n",
    "\n",
    "This notebooks walks through some of the key features provided by `utilities.py` as well as providing two examples for their real world usage."
   ]
  },
  {
   "cell_type": "markdown",
   "metadata": {
    "tags": [
     "hide_all"
    ]
   },
   "source": [
    "## Contents\n",
    "1. [Methods for creating and converting Hamiltonians and graphs](#hamiltonians_and_graphs)\n",
    " - [Hyperparameters to Hamiltonians](#hyperparams_to_ham)\n",
    " - [Random Hamiltonians](#random_hamiltonian)\n",
    " - [Hamiltonians to Graphs](#graph_from_hamiltonian)\n",
    " - [Graphs to Hamiltonians](#hamiltonian_from_graph)\n",
    " - [Hyperparameters to Graphs](#graph_from_hyperparams)\n",
    " - [Random, regular Graphs](#random_k_regular_graph)\n",
    "2. [Methods to create Hamiltonians from input datasets](#hamiltonians_and_data)\n",
    " - [Random cluster generation and distance datasets](#gaussian_2Dclusters)\n",
    " - [Distance datasets to Hamiltonians](#hamiltonian_from_distance_matrix)\n",
    "3. [Some more miscellanous utilities](#miscellaneous)\n",
    " - [Use different initial states for QAOA](#prepare_classical_state)\n",
    " - [Get the bitstring corresponding to the maximum probability state](#max_probability_bitstring)\n",
    " - [Accuracy scores for QAOA results](#evaluate_state)\n",
    " - [Nice plots of probabilites and energies](#plot_probabilities)\n",
    "4. [All in action: Using QAOA to solve the Maxut problem for clustering](#qaoa_clustering)\n",
    "5. [Another example: The ring of disagrees](#ring_of_disagrees)\n",
    "6. [References](#references)"
   ]
  },
  {
   "cell_type": "code",
   "execution_count": 1,
   "metadata": {},
   "outputs": [],
   "source": [
    "# The usual combination of numpy, scipy and matplotlib\n",
    "from scipy.optimize import minimize\n",
    "import numpy as np\n",
    "import matplotlib.pyplot as plt\n",
    "\n",
    "# import QAOAParameters classes \n",
    "from entropica_qaoa.qaoa.parameters import ExtendedParams, StandardParams\n",
    "\n",
    "# Cost functions and all the utilities\n",
    "from entropica_qaoa.qaoa.cost_function import QAOACostFunctionOnWFSim\n",
    "from entropica_qaoa.utilities import *"
   ]
  },
  {
   "cell_type": "code",
   "execution_count": 2,
   "metadata": {},
   "outputs": [],
   "source": [
    "# matplotlib complains about networkx using outdated methods. Nothing we can change\n",
    "import warnings\n",
    "warnings.filterwarnings('ignore')"
   ]
  },
  {
   "cell_type": "markdown",
   "metadata": {},
   "source": [
    "<a id='hamiltonians_and_graphs'></a>\n",
    "\n",
    "## Hamiltonians and graphs\n",
    "\n",
    "In QAOA, a problem instance is defined by its corresponding *hyperparameters*, which refers to a specification of the total number of qubits `nqubits`, and one or both of the following:\n",
    "\n",
    "1. The single qubits that have a bias term (denoted `singles`) and the corresponding bias coefficients (denoted `biases`).\n",
    "2. The pairs of qubits that are coupled (denoted `pairs`), and the corresponding coupling coefficients (denoted `couplings`).\n",
    "\n",
    "Equivalently, when viewed as a network graph problem, a QAOA instance is defined by specifying the total number of vertices or nodes in the graph, and one or both of the following: \n",
    "\n",
    "1. The vertices that have a bias term, and the corresponding bias coefficients.\n",
    "2. The pairs of vertices that are connected by an edge, and the corresponding edge weight."
   ]
  },
  {
   "cell_type": "markdown",
   "metadata": {},
   "source": [
    "<a id='hyperparams_to_ham'></a>\n",
    "\n",
    "#### Hyperparameters to Hamiltonian\n",
    "If we have a known set of problem hyperparameters, the `hamiltonian_from_hyperparams` allows us to easily create the corresponding Hamiltonian. "
   ]
  },
  {
   "cell_type": "code",
   "execution_count": 3,
   "metadata": {},
   "outputs": [
    {
     "name": "stdout",
     "output_type": "stream",
     "text": [
      "(0.4+0j)*Z0*Z1 + (0.6+0j)*Z1*Z2 + (0.3+0j)*Z1\n"
     ]
    }
   ],
   "source": [
    "nqubits = 3\n",
    "singles = [1]\n",
    "biases = [0.3]\n",
    "pairs = [[0,1], [1,2]]\n",
    "couplings = [0.4, 0.6]\n",
    "\n",
    "h0 = hamiltonian_from_hyperparams(nqubits,singles,biases,pairs,couplings)\n",
    "print(h0)"
   ]
  },
  {
   "cell_type": "markdown",
   "metadata": {},
   "source": [
    "<a id='random_hamiltonian'></a>\n",
    "\n",
    "#### Random Hamiltonian\n",
    "The `random_hamiltonian` method generates a random Hamiltonian (problem instance) for a specified number of qubits. It randomly selects a number of biases and number of couplings, then assigns each of them a random value between zero and one. For instance, let's create two 4-qubit Hamiltonians."
   ]
  },
  {
   "cell_type": "code",
   "execution_count": 5,
   "metadata": {},
   "outputs": [
    {
     "name": "stdout",
     "output_type": "stream",
     "text": [
      "h1 = (0.03555461033583107+0j)*Z0*Z1 + (0.9931126811434076+0j)*Z0*Z3 + (0.6782991159987927+0j)*Z1*Z2 + (0.9777643773847707+0j)*Z2*Z3\n",
      "\n",
      "h2 = (0.24658927217140159+0j)*Z3 + (0.12670989015269718+0j)*Z1 + (0.205361242940298+0j)*Z1*Z2 + (0.982681388584257+0j)*Z1*Z3 + (0.2664255131128779+0j)*Z2*Z3\n"
     ]
    }
   ],
   "source": [
    "h1 = random_hamiltonian(range(4))\n",
    "h2 = random_hamiltonian(range(4))\n",
    "print(\"h1 =\",h1)\n",
    "print()\n",
    "print(\"h2 =\",h2)"
   ]
  },
  {
   "cell_type": "markdown",
   "metadata": {},
   "source": [
    "<a id='graph_from_hamiltonian'></a>\n",
    "\n",
    "#### Hamiltonians to Graphs\n",
    "We can create a `networkx` graph corresponding to the qubit couplings in `h1` using the `graph_from_hamiltonian` method and then plot it using `plot_graph`:"
   ]
  },
  {
   "cell_type": "code",
   "execution_count": 6,
   "metadata": {
    "scrolled": true
   },
   "outputs": [
    {
     "data": {
      "image/png": "[encoded data removed]",
      "text/plain": [
       "<Figure size 432x288 with 1 Axes>"
      ]
     },
     "metadata": {},
     "output_type": "display_data"
    }
   ],
   "source": [
    "g1 = graph_from_hamiltonian(h1)\n",
    "plot_graph(g1)"
   ]
  },
  {
   "cell_type": "markdown",
   "metadata": {},
   "source": [
    "<a id='hamiltonian_from_graph'></a>\n",
    "\n",
    "#### Graphs to Hamiltonians\n",
    "Alternatively, we can work backwards, creating a graph first, then the corresponding Hamiltonian using the `hamiltonian_from_graph` method. \n",
    "\n",
    "Let's take the graph we have just produced (`g1`) and convert it back to its corresponding Hamiltonian, which we called `h1` above."
   ]
  },
  {
   "cell_type": "code",
   "execution_count": 7,
   "metadata": {},
   "outputs": [
    {
     "name": "stdout",
     "output_type": "stream",
     "text": [
      "From graph: (0.03555461033583107+0j)*Z0*Z1 + (0.9931126811434076+0j)*Z0*Z3 + (0.6782991159987927+0j)*Z1*Z2 + (0.9777643773847707+0j)*Z3*Z2\n",
      "Original: (0.03555461033583107+0j)*Z0*Z1 + (0.9931126811434076+0j)*Z0*Z3 + (0.6782991159987927+0j)*Z1*Z2 + (0.9777643773847707+0j)*Z2*Z3\n"
     ]
    }
   ],
   "source": [
    "H1 = hamiltonian_from_graph(g1)\n",
    "print('From graph:', H1)\n",
    "print('Original:', h1)"
   ]
  },
  {
   "cell_type": "markdown",
   "metadata": {},
   "source": [
    "<a id='graph_from_hyperparams'></a>\n",
    "\n",
    "#### Hyperparameters to Graphs\n",
    "We can also create a graph directly from hyperparameters, using the `graph_from_hyperparams` method. "
   ]
  },
  {
   "cell_type": "code",
   "execution_count": 8,
   "metadata": {},
   "outputs": [
    {
     "data": {
      "image/png": "[encoded data removed]",
      "text/plain": [
       "<Figure size 432x288 with 1 Axes>"
      ]
     },
     "metadata": {},
     "output_type": "display_data"
    }
   ],
   "source": [
    "g0 = graph_from_hyperparams(nqubits, singles, biases, pairs, couplings)\n",
    "plot_graph(g0)"
   ]
  },
  {
   "cell_type": "markdown",
   "metadata": {},
   "source": [
    "<a id='random_k_regular_graph'></a>\n",
    "\n",
    "#### Random, regular Graphs\n",
    "In recent research on QAOA, there has been interest in the performance of the algorithm on $k$-regular graphs, i.e. graphs where every node is connected to exactly $k$ other nodes. We can generate such graphs easily using the `random_k_regular_graph` function. For instance, let's create a 3-regular graph with 8 nodes: "
   ]
  },
  {
   "cell_type": "code",
   "execution_count": 10,
   "metadata": {},
   "outputs": [
    {
     "data": {
      "image/png": "[encoded data removed]",
      "text/plain": [
       "<Figure size 432x288 with 1 Axes>"
      ]
     },
     "metadata": {},
     "output_type": "display_data"
    }
   ],
   "source": [
    "G_3_reg = random_k_regular_graph(3, range(8), weighted=True)\n",
    "plot_graph(G_3_reg)"
   ]
  },
  {
   "cell_type": "markdown",
   "metadata": {},
   "source": [
    "<a id='hamiltonians_and_data'></a>\n",
    "\n",
    "## Hamiltonians and data\n",
    "\n",
    "One prominent application of QAOA is to solve the weighted MaxCut problem, which may be used as a clustering technique - see, for example, https://arxiv.org/abs/1712.05771.\n",
    "\n",
    "The pairwise distance between a given pair of data points in a dataset is used as the weight on the corresponding graph, and enters the Hamiltonian as the corresponding coupling coefficient between the corresponding qubits.\n",
    "\n",
    "In the following, we demo a typical QAOA MaxCut workflow, using simple toy data generated by the `gaussian_2Dclusters` function."
   ]
  },
  {
   "cell_type": "markdown",
   "metadata": {},
   "source": [
    "<a id='gaussian_2Dclusters'></a>\n",
    "\n",
    "#### Cluster generation and distance calculations\n",
    "\n",
    " Let's create a data set of two clusters, where the points in each cluster follow Gaussian statistics."
   ]
  },
  {
   "cell_type": "code",
   "execution_count": 11,
   "metadata": {},
   "outputs": [
    {
     "data": {
      "image/png": "[encoded data removed]",
      "text/plain": [
       "<Figure size 432x288 with 1 Axes>"
      ]
     },
     "metadata": {
      "needs_background": "light"
     },
     "output_type": "display_data"
    }
   ],
   "source": [
    "n_clusters = 2 # Number of clusters we want \n",
    "n_points = [3,3] # Number of data points in each cluster\n",
    "means = [[0,0], [2,2]] # Cluster means (the [x,y] coordinates of each cluster centre)\n",
    "\n",
    "# Covariance matrix: we will use the same one for each of the two clusters here,\n",
    "# but more generally they could be different\n",
    "cov_matrix = [[0.1, 0], [0, 0.1]] \n",
    "cov_matrices = [cov_matrix,cov_matrix]\n",
    "\n",
    "cluster_data = gaussian_2Dclusters(n_clusters,n_points,means,cov_matrices)\n",
    "plot_cluster_data(cluster_data)"
   ]
  },
  {
   "cell_type": "markdown",
   "metadata": {},
   "source": [
    "Now let's set up the MaxCut problem. We can compute the pairwise distances of the points in the dataset using the `distances_dataset` function. Here we will use the Euclidean distance, but more generally we can ask for any distance metric included in Scipy's `cdist` __[function](https://docs.scipy.org/doc/scipy/reference/generated/scipy.spatial.distance.cdist.html)__."
   ]
  },
  {
   "cell_type": "code",
   "execution_count": 12,
   "metadata": {
    "scrolled": true
   },
   "outputs": [
    {
     "data": {
      "text/plain": [
       "array([[0.        , 0.26885799, 1.18953119, 3.53192585, 3.73210959,\n",
       "        2.9972827 ],\n",
       "       [0.26885799, 0.        , 1.27313929, 3.5077483 , 3.6923264 ,\n",
       "        2.97344797],\n",
       "       [1.18953119, 1.27313929, 0.        , 2.44203953, 2.6734509 ,\n",
       "        1.91981949],\n",
       "       [3.53192585, 3.5077483 , 2.44203953, 0.        , 0.28585782,\n",
       "        0.53494435],\n",
       "       [3.73210959, 3.6923264 , 2.6734509 , 0.28585782, 0.        ,\n",
       "        0.75413144],\n",
       "       [2.9972827 , 2.97344797, 1.91981949, 0.53494435, 0.75413144,\n",
       "        0.        ]])"
      ]
     },
     "execution_count": 12,
     "metadata": {},
     "output_type": "execute_result"
    }
   ],
   "source": [
    "dists = distances_dataset(cluster_data, metric='euclidean')\n",
    "dists"
   ]
  },
  {
   "cell_type": "markdown",
   "metadata": {},
   "source": [
    "<a id='hamiltonian_from_distance_matrix'></a>\n",
    "\n",
    "#### Distance datasets to Hamiltonians"
   ]
  },
  {
   "cell_type": "code",
   "execution_count": 13,
   "metadata": {},
   "outputs": [
    {
     "name": "stdout",
     "output_type": "stream",
     "text": [
      "[[0.         0.26885799 1.18953119 3.53192585 3.73210959 2.9972827 ]\n",
      " [0.26885799 0.         1.27313929 3.5077483  3.6923264  2.97344797]\n",
      " [1.18953119 1.27313929 0.         2.44203953 2.6734509  1.91981949]\n",
      " [3.53192585 3.5077483  2.44203953 0.         0.28585782 0.53494435]\n",
      " [3.73210959 3.6923264  2.6734509  0.28585782 0.         0.75413144]\n",
      " [2.9972827  2.97344797 1.91981949 0.53494435 0.75413144 0.        ]]\n",
      "[[0.         0.26885799 1.18953119 3.53192585 3.73210959 2.9972827 ]\n",
      " [0.26885799 0.         1.27313929 3.5077483  3.6923264  2.97344797]\n",
      " [1.18953119 1.27313929 0.         2.44203953 2.6734509  1.91981949]\n",
      " [3.53192585 3.5077483  2.44203953 0.         0.28585782 0.53494435]\n",
      " [3.73210959 3.6923264  2.6734509  0.28585782 0.         0.75413144]\n",
      " [2.9972827  2.97344797 1.91981949 0.53494435 0.75413144 0.        ]]\n",
      "[[0.         0.26885799 1.18953119 3.53192585 3.73210959 2.9972827 ]\n",
      " [0.26885799 0.         1.27313929 3.5077483  3.6923264  2.97344797]\n",
      " [1.18953119 1.27313929 0.         2.44203953 2.6734509  1.91981949]\n",
      " [3.53192585 3.5077483  2.44203953 0.         0.28585782 0.53494435]\n",
      " [3.73210959 3.6923264  2.6734509  0.28585782 0.         0.75413144]\n",
      " [2.9972827  2.97344797 1.91981949 0.53494435 0.75413144 0.        ]]\n",
      "[[0.         0.26885799 1.18953119 3.53192585 3.73210959 2.9972827 ]\n",
      " [0.26885799 0.         1.27313929 3.5077483  3.6923264  2.97344797]\n",
      " [1.18953119 1.27313929 0.         2.44203953 2.6734509  1.91981949]\n",
      " [3.53192585 3.5077483  2.44203953 0.         0.28585782 0.53494435]\n",
      " [3.73210959 3.6923264  2.6734509  0.28585782 0.         0.75413144]\n",
      " [2.9972827  2.97344797 1.91981949 0.53494435 0.75413144 0.        ]]\n",
      "[[0.         0.26885799 1.18953119 3.53192585 3.73210959 2.9972827 ]\n",
      " [0.26885799 0.         1.27313929 3.5077483  3.6923264  2.97344797]\n",
      " [1.18953119 1.27313929 0.         2.44203953 2.6734509  1.91981949]\n",
      " [3.53192585 3.5077483  2.44203953 0.         0.28585782 0.53494435]\n",
      " [3.73210959 3.6923264  2.6734509  0.28585782 0.         0.75413144]\n",
      " [2.9972827  2.97344797 1.91981949 0.53494435 0.75413144 0.        ]]\n",
      "[[0.         0.26885799 1.18953119 3.53192585 3.73210959 2.9972827 ]\n",
      " [0.26885799 0.         1.27313929 3.5077483  3.6923264  2.97344797]\n",
      " [1.18953119 1.27313929 0.         2.44203953 2.6734509  1.91981949]\n",
      " [3.53192585 3.5077483  2.44203953 0.         0.28585782 0.53494435]\n",
      " [3.73210959 3.6923264  2.6734509  0.28585782 0.         0.75413144]\n",
      " [2.9972827  2.97344797 1.91981949 0.53494435 0.75413144 0.        ]]\n",
      "[[0.         0.26885799 1.18953119 3.53192585 3.73210959 2.9972827 ]\n",
      " [0.26885799 0.         1.27313929 3.5077483  3.6923264  2.97344797]\n",
      " [1.18953119 1.27313929 0.         2.44203953 2.6734509  1.91981949]\n",
      " [3.53192585 3.5077483  2.44203953 0.         0.28585782 0.53494435]\n",
      " [3.73210959 3.6923264  2.6734509  0.28585782 0.         0.75413144]\n",
      " [2.9972827  2.97344797 1.91981949 0.53494435 0.75413144 0.        ]]\n",
      "[[0.         0.26885799 1.18953119 3.53192585 3.73210959 2.9972827 ]\n",
      " [0.26885799 0.         1.27313929 3.5077483  3.6923264  2.97344797]\n",
      " [1.18953119 1.27313929 0.         2.44203953 2.6734509  1.91981949]\n",
      " [3.53192585 3.5077483  2.44203953 0.         0.28585782 0.53494435]\n",
      " [3.73210959 3.6923264  2.6734509  0.28585782 0.         0.75413144]\n",
      " [2.9972827  2.97344797 1.91981949 0.53494435 0.75413144 0.        ]]\n",
      "[[0.         0.26885799 1.18953119 3.53192585 3.73210959 2.9972827 ]\n",
      " [0.26885799 0.         1.27313929 3.5077483  3.6923264  2.97344797]\n",
      " [1.18953119 1.27313929 0.         2.44203953 2.6734509  1.91981949]\n",
      " [3.53192585 3.5077483  2.44203953 0.         0.28585782 0.53494435]\n",
      " [3.73210959 3.6923264  2.6734509  0.28585782 0.         0.75413144]\n",
      " [2.9972827  2.97344797 1.91981949 0.53494435 0.75413144 0.        ]]\n",
      "[[0.         0.26885799 1.18953119 3.53192585 3.73210959 2.9972827 ]\n",
      " [0.26885799 0.         1.27313929 3.5077483  3.6923264  2.97344797]\n",
      " [1.18953119 1.27313929 0.         2.44203953 2.6734509  1.91981949]\n",
      " [3.53192585 3.5077483  2.44203953 0.         0.28585782 0.53494435]\n",
      " [3.73210959 3.6923264  2.6734509  0.28585782 0.         0.75413144]\n",
      " [2.9972827  2.97344797 1.91981949 0.53494435 0.75413144 0.        ]]\n",
      "[[0.         0.26885799 1.18953119 3.53192585 3.73210959 2.9972827 ]\n",
      " [0.26885799 0.         1.27313929 3.5077483  3.6923264  2.97344797]\n",
      " [1.18953119 1.27313929 0.         2.44203953 2.6734509  1.91981949]\n",
      " [3.53192585 3.5077483  2.44203953 0.         0.28585782 0.53494435]\n",
      " [3.73210959 3.6923264  2.6734509  0.28585782 0.         0.75413144]\n",
      " [2.9972827  2.97344797 1.91981949 0.53494435 0.75413144 0.        ]]\n",
      "[[0.         0.26885799 1.18953119 3.53192585 3.73210959 2.9972827 ]\n",
      " [0.26885799 0.         1.27313929 3.5077483  3.6923264  2.97344797]\n",
      " [1.18953119 1.27313929 0.         2.44203953 2.6734509  1.91981949]\n",
      " [3.53192585 3.5077483  2.44203953 0.         0.28585782 0.53494435]\n",
      " [3.73210959 3.6923264  2.6734509  0.28585782 0.         0.75413144]\n",
      " [2.9972827  2.97344797 1.91981949 0.53494435 0.75413144 0.        ]]\n",
      "[[0.         0.26885799 1.18953119 3.53192585 3.73210959 2.9972827 ]\n",
      " [0.26885799 0.         1.27313929 3.5077483  3.6923264  2.97344797]\n",
      " [1.18953119 1.27313929 0.         2.44203953 2.6734509  1.91981949]\n",
      " [3.53192585 3.5077483  2.44203953 0.         0.28585782 0.53494435]\n",
      " [3.73210959 3.6923264  2.6734509  0.28585782 0.         0.75413144]\n",
      " [2.9972827  2.97344797 1.91981949 0.53494435 0.75413144 0.        ]]\n",
      "[[0.         0.26885799 1.18953119 3.53192585 3.73210959 2.9972827 ]\n",
      " [0.26885799 0.         1.27313929 3.5077483  3.6923264  2.97344797]\n",
      " [1.18953119 1.27313929 0.         2.44203953 2.6734509  1.91981949]\n",
      " [3.53192585 3.5077483  2.44203953 0.         0.28585782 0.53494435]\n",
      " [3.73210959 3.6923264  2.6734509  0.28585782 0.         0.75413144]\n",
      " [2.9972827  2.97344797 1.91981949 0.53494435 0.75413144 0.        ]]\n",
      "[[0.         0.26885799 1.18953119 3.53192585 3.73210959 2.9972827 ]\n",
      " [0.26885799 0.         1.27313929 3.5077483  3.6923264  2.97344797]\n",
      " [1.18953119 1.27313929 0.         2.44203953 2.6734509  1.91981949]\n",
      " [3.53192585 3.5077483  2.44203953 0.         0.28585782 0.53494435]\n",
      " [3.73210959 3.6923264  2.6734509  0.28585782 0.         0.75413144]\n",
      " [2.9972827  2.97344797 1.91981949 0.53494435 0.75413144 0.        ]]\n",
      "(0.26885799034450525+0j)*Z0*Z1 + (1.1895311876124652+0j)*Z0*Z2 + (3.5319258539043026+0j)*Z0*Z3 + (3.7321095857001376+0j)*Z0*Z4 + (2.9972826974799953+0j)*Z0*Z5 + (1.2731392905736956+0j)*Z1*Z2 + (3.5077483021040745+0j)*Z1*Z3 + (3.692326402089614+0j)*Z1*Z4 + (2.9734479667419293+0j)*Z1*Z5 + (2.4420395329732325+0j)*Z2*Z3 + (2.6734509041780816+0j)*Z2*Z4 + (1.9198194911252486+0j)*Z2*Z5 + (0.2858578218328099+0j)*Z3*Z4 + (0.5349443540333683+0j)*Z3*Z5 + (0.7541314413952815+0j)*Z4*Z5\n"
     ]
    }
   ],
   "source": [
    "hData = hamiltonian_from_distance_matrix(dists)\n",
    "print(hData)"
   ]
  },
  {
   "cell_type": "markdown",
   "metadata": {},
   "source": [
    "<a id='miscellaneous'></a>\n",
    "\n",
    "## More miscellanous utilities\n",
    "\n",
    "For completeness sake, we also demonstrate the missing utilities that are best characterised by \"miscellaneous\"."
   ]
  },
  {
   "cell_type": "markdown",
   "metadata": {},
   "source": [
    "<a id='prepare_classical_state'></a>\n",
    "\n",
    "#### Use different initial states for QAOA\n",
    "\n",
    "If you want to use an initial state different from $\\left|+ \\cdots +\\right>$ for QAOA you can do so, by passing a state preparation program for the `initial_state` argument of the QAOA cost functions. For classical states $\\left|10 \\cdots 10\\right>$ these programs cane be created via `prepare_classical_state`"
   ]
  },
  {
   "cell_type": "code",
   "execution_count": 14,
   "metadata": {},
   "outputs": [
    {
     "name": "stdout",
     "output_type": "stream",
     "text": [
      "X 0\n",
      "X 2\n",
      "X 4\n",
      "\n"
     ]
    }
   ],
   "source": [
    "register = [0, 1, 2, 3, 4, 5]  # the register to create the state on\n",
    "state = [1, 0, 1, 0, 1, 0]     # the |42> state\n",
    "\n",
    "prepare42_circuit = prepare_classical_state(register, state)\n",
    "print(prepare42_circuit)"
   ]
  },
  {
   "cell_type": "markdown",
   "metadata": {},
   "source": [
    "<a id='max_probability_bitstring'></a>\n",
    "\n",
    "#### Get the bitstring corresponding to the maximum probability state\n",
    "\n",
    "`max_probability_bitstring` returns the bitstring corresponding to the maximum probability state of a wavefunction. Let us use `opt_wf` from above, to demo it:"
   ]
  },
  {
   "cell_type": "code",
   "execution_count": 15,
   "metadata": {},
   "outputs": [
    {
     "name": "stdout",
     "output_type": "stream",
     "text": [
      "[0, 1, 0, 1]\n"
     ]
    }
   ],
   "source": [
    "probs = np.exp(-np.linspace(-5, 10, 16)**2)      # just an array of length 16\n",
    "probs = probs/probs.sum()         # normalize\n",
    "max_prob_state = max_probability_bitstring(probs)\n",
    "print(max_prob_state)"
   ]
  },
  {
   "cell_type": "markdown",
   "metadata": {},
   "source": [
    "<a id='evaluate_state'></a>\n",
    "\n",
    "#### Get accuracy scores for QAOA results\n",
    "\n",
    "`evaluate_state` gives accuary scores for a QAOA result, if the true solution is known."
   ]
  },
  {
   "cell_type": "code",
   "execution_count": 16,
   "metadata": {},
   "outputs": [
    {
     "name": "stdout",
     "output_type": "stream",
     "text": [
      "True Labels of samples: [1, 1, 0, 0]\n",
      "Lowest QAOA State: [0, 1, 0, 1]\n",
      "Accuracy of Original State: 50.0 %\n",
      "Accuracy of Complement State: 50.0 %\n"
     ]
    }
   ],
   "source": [
    "evaluate_state(max_prob_state, true_labels=[1, 1, 0, 0])"
   ]
  },
  {
   "cell_type": "markdown",
   "metadata": {},
   "source": [
    "<a id='plot_probabilities'></a>\n",
    "\n",
    "#### Get nice plots of probabilties\n",
    "\n",
    "If the true energies of all states are known, we can also obtain a nice side by side plot of the energies and probabilites using `plot_probabilities`."
   ]
  },
  {
   "cell_type": "code",
   "execution_count": 17,
   "metadata": {},
   "outputs": [
    {
     "data": {
      "image/png": "[encoded data removed]",
      "text/plain": [
       "<Figure size 432x288 with 1 Axes>"
      ]
     },
     "metadata": {
      "needs_background": "light"
     },
     "output_type": "display_data"
    }
   ],
   "source": [
    "energies = np.sin(np.linspace(0, 10, 16))\n",
    "plot_probabilities(probs, energies)"
   ]
  },
  {
   "cell_type": "markdown",
   "metadata": {},
   "source": [
    "<a id='qaoa_clustering'></a>\n",
    "\n",
    "## All in action: Using QAOA to solve MaxCut for the clustering problem\n",
    "\n",
    "Now that we have the Hamiltonian, we can go ahead and run the QAOA to check that the points are clustered correctly. We will use the `ExtendedParams` class, and three timesteps (p=3). We don't include any single-qubit bias terms."
   ]
  },
  {
   "cell_type": "code",
   "execution_count": 18,
   "metadata": {},
   "outputs": [
    {
     "name": "stdout",
     "output_type": "stream",
     "text": [
      "Hyperparameters:\n",
      "\tregister: [0, 1, 2, 3, 4, 5]\n",
      "\tqubits_singles: []\n",
      "\tqubits_pairs: [[0, 1], [0, 2], [0, 3], [0, 4], [0, 5], [1, 2], [1, 3], [1, 4], [1, 5], [2, 3], [2, 4], [2, 5], [3, 4], [3, 5], [4, 5]]\n",
      "Parameters:\n",
      "\tbetas: [[3.32403086e-01 1.29306098e-01 8.41179133e-01 5.34239335e-01,  7.08520652e-01 5.65085508e-01], [8.00938463e-01 9.37893928e-01 2.08408358e-01 4.84149568e-01,  7.61878050e-01 5.72314199e-02], [1.90101839e-01 5.61694036e-02 8.28646625e-01 1.25020274e-04,  2.69827936e-01 1.50284743e-01]]\n",
      "\tgammas_singles: []\n",
      "\tgammas_pairs: [[0.83500434 0.09992541 0.77226909 0.06626223 0.04398419 0.96321117,  0.9952648  0.45377492 0.61990773 0.87951888 0.30037208 0.02650602,  0.76661662 0.62882242 0.66967828], [0.43655623 0.39609049 0.9149741  0.75517731 0.88202255 0.94841387,  0.91669851 0.2561881  0.26438578 0.90560962 0.37688469 0.32873538,  0.05464211 0.75190212 0.88158897], [0.24202532 0.55776169 0.04408656 0.39941456 0.76542093 0.96016062,  0.8984838  0.09418827 0.63558307 0.8157838  0.4422303  0.99870621,  0.0644833  0.0671067  0.84457683]]\n",
      "\n"
     ]
    }
   ],
   "source": [
    "n_qubits = 6\n",
    "p = 3\n",
    "\n",
    "# Specify some angles\n",
    "betas = np.random.rand(n_qubits,p)\n",
    "gammas_singles = []\n",
    "gammas_pairs = np.random.rand(len(hData),p)\n",
    "parameters = (betas,gammas_singles,gammas_pairs)\n",
    "\n",
    "extended_params = ExtendedParams([hData,p],parameters)\n",
    "print(extended_params)"
   ]
  },
  {
   "cell_type": "code",
   "execution_count": 19,
   "metadata": {},
   "outputs": [
    {
     "data": {
      "text/plain": [
       "     fun: -10.842821326052661\n",
       "   maxcv: 0.0\n",
       " message: 'Maximum number of function evaluations has been exceeded.'\n",
       "    nfev: 200\n",
       "  status: 2\n",
       " success: False\n",
       "       x: array([ 1.29450878,  1.06267082,  0.80041671,  0.54244087,  1.75612276,\n",
       "        1.54536453,  1.85042721,  0.93895056, -0.26417711,  1.48316388,\n",
       "        0.74307772,  0.26883379,  0.1910374 ,  0.03658797,  0.83515527,\n",
       "       -0.48202045,  0.35536774,  0.13775929,  0.82296372,  0.10375245,\n",
       "        1.77537273,  0.0832685 ,  0.04811835,  0.9554863 ,  2.00451726,\n",
       "        0.43952911,  1.61004728,  0.81456693,  0.28901847, -0.02315129,\n",
       "        0.75860634,  0.6343479 ,  0.64280113,  0.43972794,  0.35617941,\n",
       "        0.91382959,  0.74455012,  1.88429081,  0.90815913,  1.91339824,\n",
       "        0.21746444,  0.27000933,  0.90122888,  0.3615344 ,  0.32510684,\n",
       "        1.06140759,  1.75870858,  0.83960235,  1.75079722,  0.54093838,\n",
       "        0.04592825,  1.39427068,  1.76621839,  0.93554903,  1.90027454,\n",
       "        1.11028764,  0.3826118 ,  0.80689514,  0.43942104,  0.96633665,\n",
       "        1.0076986 ,  0.04757813,  0.82514646])"
      ]
     },
     "execution_count": 19,
     "metadata": {},
     "output_type": "execute_result"
    }
   ],
   "source": [
    "# NOTE - the optimiser will reach its maximum number of iterations, but for the parameters being used here,\n",
    "# the choice maxiter=200 seems to be more than sufficient to get to the optimum with high probability.\n",
    "\n",
    "cost_function = QAOACostFunctionOnWFSim(hData,\n",
    "                                        params=extended_params,\n",
    "                                        scalar_cost_function=False)\n",
    "\n",
    "res = minimize(cost_function, extended_params.raw(),\n",
    "               tol=1e-3, method=\"Cobyla\", options={\"maxiter\": 200})\n",
    "res"
   ]
  },
  {
   "cell_type": "code",
   "execution_count": 20,
   "metadata": {},
   "outputs": [
    {
     "data": {
      "text/plain": [
       "<BarContainer object of 64 artists>"
      ]
     },
     "execution_count": 20,
     "metadata": {},
     "output_type": "execute_result"
    },
    {
     "data": {
      "image/png": "[encoded data removed]",
      "text/plain": [
       "<Figure size 432x288 with 1 Axes>"
      ]
     },
     "metadata": {
      "needs_background": "light"
     },
     "output_type": "display_data"
    }
   ],
   "source": [
    "opt_wfn = cost_function.get_wavefunction(res.x)\n",
    "probs = opt_wfn.probabilities()\n",
    "plt.bar(range(len(probs)), probs)"
   ]
  },
  {
   "cell_type": "markdown",
   "metadata": {},
   "source": [
    "Now get the string corresponding to the optimal solution. The `argmax` function will return the first of the two degenerate solutions. As expected, we find that the first three qubits are in one class, and the second three qubits in another (this is the way the data was constructed)."
   ]
  },
  {
   "cell_type": "code",
   "execution_count": 21,
   "metadata": {},
   "outputs": [
    {
     "data": {
      "text/plain": [
       "'000111'"
      ]
     },
     "execution_count": 21,
     "metadata": {},
     "output_type": "execute_result"
    }
   ],
   "source": [
    "optimal_string = np.argmax(probs)\n",
    "\"{0:06b}\".format(optimal_string)"
   ]
  },
  {
   "cell_type": "markdown",
   "metadata": {},
   "source": [
    "We can check that the other optimal solution found is the complement bitstring, i.e. 111000:"
   ]
  },
  {
   "cell_type": "code",
   "execution_count": 22,
   "metadata": {},
   "outputs": [
    {
     "data": {
      "text/plain": [
       "'111000'"
      ]
     },
     "execution_count": 22,
     "metadata": {},
     "output_type": "execute_result"
    }
   ],
   "source": [
    "probs[optimal_string] = 0 # Sets the solution 000111 to have zero probability\n",
    "optimal_string_complement = np.argmax(probs)\n",
    "\"{0:06b}\".format(optimal_string_complement)"
   ]
  },
  {
   "cell_type": "markdown",
   "metadata": {},
   "source": [
    "<a id='ring_of_disagrees'></a>\n",
    "\n",
    "## Another example: The Ring of disagrees\n",
    "\n",
    "The Ring of Diasgrees is a 2-regular graph on a given number of nodes $n$. The ground state has energy $-n$ for even $n$, and $-n+1$ for odd $n$.\n",
    "\n",
    "In the paper that originally introduced the QAOA ([Ref 1](#references)), it was shown that this graph is a simple example of how the approximation ratio returned by QAOA can be made arbitrarily close to 1 by increasing the parameter $p$. For the MaxCut problem, the optimal cost function value returned for a given $n$ and $p$ was found to be \n",
    "$$\n",
    "C(n,p) = \\left(\\frac{2p + 1}{2p + 2}\\right)n\n",
    "$$\n",
    "This result assumes the `StandardParams` parameterisation, and that the graph is unweighted (all edge weights equal to 1). Here we verify this result using the `ring_of_disagrees` function."
   ]
  },
  {
   "cell_type": "code",
   "execution_count": 23,
   "metadata": {},
   "outputs": [
    {
     "data": {
      "image/png": "[encoded data removed]",
      "text/plain": [
       "<Figure size 432x288 with 1 Axes>"
      ]
     },
     "metadata": {},
     "output_type": "display_data"
    }
   ],
   "source": [
    "n_nodes = 8\n",
    "h_disagrees = ring_of_disagrees(n_nodes)\n",
    "g_disagrees = graph_from_hamiltonian(h_disagrees)\n",
    "plot_graph(g_disagrees)"
   ]
  },
  {
   "cell_type": "code",
   "execution_count": 24,
   "metadata": {},
   "outputs": [],
   "source": [
    "p_vals = np.arange(1,5) # p range to consider\n",
    "output_val = np.zeros((len(p_vals),))\n",
    "\n",
    "for i in p_vals:\n",
    "    \n",
    "    # Initialise angles\n",
    "    betas = np.random.rand(i)\n",
    "    gammas_singles = np.zeros((i,)) # Remove this when issue is fixed\n",
    "    gammas_pairs = np.random.rand(i)\n",
    "    parameters = (betas, gammas_singles, gammas_pairs)\n",
    "    \n",
    "    # Set up (hyper)parameters\n",
    "    diasagrees_params = StandardParams([h_disagrees,i],parameters)\n",
    "    \n",
    "    # Cost function and optimisation\n",
    "    cost_function = QAOACostFunctionOnWFSim(h_disagrees,\n",
    "                                            params=diasagrees_params,\n",
    "                                            scalar_cost_function=True,\n",
    "                                            nshots=0)\n",
    "    \n",
    "    res = minimize(cost_function, diasagrees_params.raw(),\n",
    "                   tol=1e-3, method=\"BFGS\", options={\"maxiter\": 500})\n",
    "    \n",
    "    output_val[i-1] = res.fun - 0.5*len(h_disagrees) # The second term here comes from the identity part \n",
    "                                                     # of the MaxCut operator"
   ]
  },
  {
   "cell_type": "markdown",
   "metadata": {},
   "source": [
    "Since we have 8 qubits, according to Farhi's formula we should find the maximum energy to be $-8 \\cdot (3/4,5/6,7/8,9/10) = -(6, 6.67, 7, 7.2)$ for $p = (1,2,3,4)$:"
   ]
  },
  {
   "cell_type": "code",
   "execution_count": 25,
   "metadata": {},
   "outputs": [
    {
     "data": {
      "text/plain": [
       "array([-5.99999999, -6.66666666, -6.99999999, -8.        ])"
      ]
     },
     "execution_count": 25,
     "metadata": {},
     "output_type": "execute_result"
    }
   ],
   "source": [
    "output_val"
   ]
  },
  {
   "cell_type": "markdown",
   "metadata": {},
   "source": [
    "The lowest energy state corresponds to the situation where neighbouring qubits have opposite orientations:"
   ]
  },
  {
   "cell_type": "code",
   "execution_count": 26,
   "metadata": {},
   "outputs": [
    {
     "name": "stdout",
     "output_type": "stream",
     "text": [
      "[0, 1, 0, 1, 0, 1, 0, 1]\n"
     ]
    }
   ],
   "source": [
    "wf = cost_function.get_wavefunction(res.x)\n",
    "probs = wf.probabilities()\n",
    "print(max_probability_bitstring(probs))"
   ]
  },
  {
   "cell_type": "markdown",
   "metadata": {},
   "source": [
    "<a id='references'></a>\n",
    "\n",
    "## References\n",
    "\n",
    "1. E. Farhi et al, __[*A Quantum Approximate Optimization Algorithm*](https://arxiv.org/abs/1411.4028)__"
   ]
  },
  {
   "cell_type": "code",
   "execution_count": null,
   "metadata": {},
   "outputs": [],
   "source": []
  }
 ],
 "metadata": {
  "kernelspec": {
   "display_name": "Python 3",
   "language": "python",
   "name": "python3"
  },
  "language_info": {
   "codemirror_mode": {
    "name": "ipython",
    "version": 3
   },
   "file_extension": ".py",
   "mimetype": "text/x-python",
   "name": "python",
   "nbconvert_exporter": "python",
   "pygments_lexer": "ipython3",
   "version": "3.7.4"
  }
 },
 "nbformat": 4,
 "nbformat_minor": 2
}
