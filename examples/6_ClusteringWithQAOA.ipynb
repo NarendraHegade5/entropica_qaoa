{
 "cells": [
  {
   "cell_type": "markdown",
   "metadata": {},
   "source": [
    "# Solve the clustering problem using QAOA\n",
    "**Author: Cooper Midroni**\n",
    "<br>\n",
    "cooper@entropicalabs.com\n",
    "\n",
    "In this notebook we demonstrate a start-to-finish project workflow for using Quantum Approximate Optimization Algorithm to cluster a simple dataset. Along the way, we will explain the major concepts of QAOA and build intuition as to how QAOA can be used to solve clustering problems. This notebook will steer away from heavy mathematical explanations in favor of a higher level view of the algorithm's core components. It is mainly geared towards users that don't have physics background but come from computer science."
   ]
  },
  {
   "cell_type": "markdown",
   "metadata": {
    "tags": [
     "hide_all"
    ]
   },
   "source": [
    "## Contents\n",
    "1. [Variational Hybrid Algorithms](#variational_hybrid_algorithms)\n",
    "2. [The Maxcut Problem](#maxcut_problem)\n",
    "3. [From Maxcut to QUBO](#maxcut_to_qubo)\n",
    "4. [From QUBO to a Hamiltonian](#qubo_to_hamiltonian)\n",
    "5. [Minimize the Hamiltonian with QAOA](#apply_qaoa)"
   ]
  },
  {
   "cell_type": "markdown",
   "metadata": {},
   "source": [
    "<a id=\"variational_hybrid_algorithms\"></a>\n",
    "\n",
    "## Variational Hybrid Algorithms\n",
    "\n",
    "We often take for granted the many decades of progress that lead to today's widespread use of classical computers. As memory and compute power become ever cheapened by Moore's Law, the pressure to find optimal resource allocations for algorithms shrinks away. However, with quantum computers in their early stages, they still feel this daunting requirement. In response to this, a family of algorithms known as *variational hybrid quantum-classical algorithms* was created, with the notion that quantum resources can be made more useful when partnered with classical routines. The Quantum Approximate Optimization Algorithm (QAOA), belongs to the family of variatonal hybrid algorithms. \n",
    "\n",
    "We can infer a lot from merely unpacking this name. The presence of '*variational*' tells us these algorithms will follow an iterative approach, while '*hybrid*' tells us they will leverage the use of both quantum and classical computers. In fact, this describes the main flow of the algorithm, with all that needs be answered is *when* does this iteration stop and *what* information is passed between devices.\n",
    "\n",
    "![A visual representation of a generic variational hybrid quantum-classical algorithm.](imgs/general_variational.png \"Title\")\n",
    "*A visual representation of a generic variational hybrid quantum-classical algorithm.*\n",
    "\n",
    "To answer the question of *what*, we note that the main goal of QAOA is optimize a set of **parameters**, which we denote as $\\vec{\\gamma}$ and $\\vec{\\beta}$. You'll notice that these symbols are vectors, as such they are $n-$length. We discuss later what aspects of our problem decide the value of $n$ in the second notebook. \n",
    "\n",
    "$\\vec{\\gamma}$ and $\\vec{\\beta}$ parameterize a **cost function** which is evaluated with our **Quantum Circuit** to produce a cost value. This output value is input to the optimizer, and is used to determine whether the nudging of our parameters is in a direction of lower cost. We will sometimes call the cost value an **expectation value**, represented by $\\langle\\psi|Cost|\\psi\\rangle$, which is the expected value of the cost function $Cost$ over the **wave function** $\\psi$. If you were caught off guard by the term 'wave function', then it is equally as effective to think of $\\langle\\psi|Cost|\\psi\\rangle$ as the notion of cost as in the more traditional machine learning sense. The **Classical Optimizer** will return updated parameters to the quantum circuit for re-evaluation, and the cycle repeats. \n",
    "\n",
    "*When* does this algorithm stop? Well, once a stopping criterion is met of course. This criterion is often a pre-defined maximum number of iterations, or occurs after a repeat number of evaluations land within the same threshold of convergence (a tolerance for the cost value in which we consider numbers within an $\\epsilon-$window the same). Once this criterion is met, the **optimized parameters** are returned and used to define the solution. \n",
    "\n",
    "![A visual representation of QAOA in the format of a variational hybrid algorithm.](imgs/variational.png \"Title\")\n",
    "*A visual representation of QAOA in the format of a variational hybrid algorithm.*\n",
    "\n",
    "The above description should leave you with many questions.\n",
    "- How does the above process solve a clustering problem?\n",
    "- How exactly do $\\vec{\\gamma}$ and $\\vec{\\beta}$ define the solution?\n",
    "- How do we define a meaningful cost function for our problem?\n",
    "- What in the world is a wave function?\n",
    "\n",
    "We hope to answer these and more. For now, if you feel comfortable with the critical vocabulary of QAOA (the bolded words), then you'll be well prepared for the explanations below.\n",
    "***\n",
    "### Data Preparation\n",
    "Now let's get to the fun part! We will import our data and define the problem setting as a highly manicured example for this clustering demo. \n",
    "\n",
    "The dataset we will be using is the **Pokemon dataset**, which can be found on [Github](https://gist.github.com/armgilles/194bcff35001e7eb53a2a8b441e8b2c6). In our journey to Catch 'Em All, we will attempt to cluster Pokemon into Legendary and non-Legendary classes. \n",
    "\n",
    "**Import Libraries**"
   ]
  },
  {
   "cell_type": "code",
   "execution_count": 1,
   "metadata": {},
   "outputs": [],
   "source": [
    "import pandas as pd\n",
    "import numpy as np\n",
    "import matplotlib.pyplot as plt"
   ]
  },
  {
   "cell_type": "markdown",
   "metadata": {},
   "source": [
    "**Import Data**"
   ]
  },
  {
   "cell_type": "code",
   "execution_count": 2,
   "metadata": {
    "scrolled": true
   },
   "outputs": [
    {
     "data": {
      "text/html": [
       "<div>\n",
       "<style scoped>\n",
       "    .dataframe tbody tr th:only-of-type {\n",
       "        vertical-align: middle;\n",
       "    }\n",
       "\n",
       "    .dataframe tbody tr th {\n",
       "        vertical-align: top;\n",
       "    }\n",
       "\n",
       "    .dataframe thead th {\n",
       "        text-align: right;\n",
       "    }\n",
       "</style>\n",
       "<table border=\"1\" class=\"dataframe\">\n",
       "  <thead>\n",
       "    <tr style=\"text-align: right;\">\n",
       "      <th></th>\n",
       "      <th>Name</th>\n",
       "      <th>Type 1</th>\n",
       "      <th>Type 2</th>\n",
       "      <th>Total</th>\n",
       "      <th>HP</th>\n",
       "      <th>Attack</th>\n",
       "      <th>Defense</th>\n",
       "      <th>Sp. Atk</th>\n",
       "      <th>Sp. Def</th>\n",
       "      <th>Speed</th>\n",
       "      <th>Generation</th>\n",
       "      <th>Legendary</th>\n",
       "    </tr>\n",
       "    <tr>\n",
       "      <th>ID</th>\n",
       "      <th></th>\n",
       "      <th></th>\n",
       "      <th></th>\n",
       "      <th></th>\n",
       "      <th></th>\n",
       "      <th></th>\n",
       "      <th></th>\n",
       "      <th></th>\n",
       "      <th></th>\n",
       "      <th></th>\n",
       "      <th></th>\n",
       "      <th></th>\n",
       "    </tr>\n",
       "  </thead>\n",
       "  <tbody>\n",
       "    <tr>\n",
       "      <th>1</th>\n",
       "      <td>Bulbasaur</td>\n",
       "      <td>Grass</td>\n",
       "      <td>Poison</td>\n",
       "      <td>318</td>\n",
       "      <td>45</td>\n",
       "      <td>49</td>\n",
       "      <td>49</td>\n",
       "      <td>65</td>\n",
       "      <td>65</td>\n",
       "      <td>45</td>\n",
       "      <td>1</td>\n",
       "      <td>False</td>\n",
       "    </tr>\n",
       "    <tr>\n",
       "      <th>2</th>\n",
       "      <td>Ivysaur</td>\n",
       "      <td>Grass</td>\n",
       "      <td>Poison</td>\n",
       "      <td>405</td>\n",
       "      <td>60</td>\n",
       "      <td>62</td>\n",
       "      <td>63</td>\n",
       "      <td>80</td>\n",
       "      <td>80</td>\n",
       "      <td>60</td>\n",
       "      <td>1</td>\n",
       "      <td>False</td>\n",
       "    </tr>\n",
       "    <tr>\n",
       "      <th>3</th>\n",
       "      <td>Venusaur</td>\n",
       "      <td>Grass</td>\n",
       "      <td>Poison</td>\n",
       "      <td>525</td>\n",
       "      <td>80</td>\n",
       "      <td>82</td>\n",
       "      <td>83</td>\n",
       "      <td>100</td>\n",
       "      <td>100</td>\n",
       "      <td>80</td>\n",
       "      <td>1</td>\n",
       "      <td>False</td>\n",
       "    </tr>\n",
       "    <tr>\n",
       "      <th>4</th>\n",
       "      <td>Charmander</td>\n",
       "      <td>Fire</td>\n",
       "      <td>NaN</td>\n",
       "      <td>309</td>\n",
       "      <td>39</td>\n",
       "      <td>52</td>\n",
       "      <td>43</td>\n",
       "      <td>60</td>\n",
       "      <td>50</td>\n",
       "      <td>65</td>\n",
       "      <td>1</td>\n",
       "      <td>False</td>\n",
       "    </tr>\n",
       "    <tr>\n",
       "      <th>5</th>\n",
       "      <td>Charmeleon</td>\n",
       "      <td>Fire</td>\n",
       "      <td>NaN</td>\n",
       "      <td>405</td>\n",
       "      <td>58</td>\n",
       "      <td>64</td>\n",
       "      <td>58</td>\n",
       "      <td>80</td>\n",
       "      <td>65</td>\n",
       "      <td>80</td>\n",
       "      <td>1</td>\n",
       "      <td>False</td>\n",
       "    </tr>\n",
       "  </tbody>\n",
       "</table>\n",
       "</div>"
      ],
      "text/plain": [
       "          Name Type 1  Type 2  Total  HP  Attack  Defense  Sp. Atk  Sp. Def  \\\n",
       "ID                                                                            \n",
       "1    Bulbasaur  Grass  Poison    318  45      49       49       65       65   \n",
       "2      Ivysaur  Grass  Poison    405  60      62       63       80       80   \n",
       "3     Venusaur  Grass  Poison    525  80      82       83      100      100   \n",
       "4   Charmander   Fire     NaN    309  39      52       43       60       50   \n",
       "5   Charmeleon   Fire     NaN    405  58      64       58       80       65   \n",
       "\n",
       "    Speed  Generation  Legendary  \n",
       "ID                                \n",
       "1      45           1      False  \n",
       "2      60           1      False  \n",
       "3      80           1      False  \n",
       "4      65           1      False  \n",
       "5      80           1      False  "
      ]
     },
     "execution_count": 2,
     "metadata": {},
     "output_type": "execute_result"
    }
   ],
   "source": [
    "df = pd.read_csv('./data/pokemon.csv')\n",
    "df = df.set_index('#') #index pokemon by their ID number\n",
    "df = df.rename_axis('ID') #rename axis to 'ID' instead of '#'\n",
    "df = df.loc[~df.index.duplicated(keep='first')] #drop duplicates\n",
    "df.head()"
   ]
  },
  {
   "cell_type": "markdown",
   "metadata": {},
   "source": [
    "To avoid the many bells and whistles of later iterations of Pokemon games, we'll stick to our roots and only consider Pokemon from the first three generations."
   ]
  },
  {
   "cell_type": "code",
   "execution_count": 3,
   "metadata": {},
   "outputs": [
    {
     "data": {
      "text/html": [
       "<div>\n",
       "<style scoped>\n",
       "    .dataframe tbody tr th:only-of-type {\n",
       "        vertical-align: middle;\n",
       "    }\n",
       "\n",
       "    .dataframe tbody tr th {\n",
       "        vertical-align: top;\n",
       "    }\n",
       "\n",
       "    .dataframe thead th {\n",
       "        text-align: right;\n",
       "    }\n",
       "</style>\n",
       "<table border=\"1\" class=\"dataframe\">\n",
       "  <thead>\n",
       "    <tr style=\"text-align: right;\">\n",
       "      <th></th>\n",
       "      <th>Name</th>\n",
       "      <th>Type 1</th>\n",
       "      <th>Type 2</th>\n",
       "      <th>Total</th>\n",
       "      <th>HP</th>\n",
       "      <th>Attack</th>\n",
       "      <th>Defense</th>\n",
       "      <th>Sp. Atk</th>\n",
       "      <th>Sp. Def</th>\n",
       "      <th>Speed</th>\n",
       "      <th>Generation</th>\n",
       "      <th>Legendary</th>\n",
       "    </tr>\n",
       "    <tr>\n",
       "      <th>ID</th>\n",
       "      <th></th>\n",
       "      <th></th>\n",
       "      <th></th>\n",
       "      <th></th>\n",
       "      <th></th>\n",
       "      <th></th>\n",
       "      <th></th>\n",
       "      <th></th>\n",
       "      <th></th>\n",
       "      <th></th>\n",
       "      <th></th>\n",
       "      <th></th>\n",
       "    </tr>\n",
       "  </thead>\n",
       "  <tbody>\n",
       "    <tr>\n",
       "      <th>360</th>\n",
       "      <td>Wynaut</td>\n",
       "      <td>Psychic</td>\n",
       "      <td>NaN</td>\n",
       "      <td>260</td>\n",
       "      <td>95</td>\n",
       "      <td>23</td>\n",
       "      <td>48</td>\n",
       "      <td>23</td>\n",
       "      <td>48</td>\n",
       "      <td>23</td>\n",
       "      <td>3</td>\n",
       "      <td>False</td>\n",
       "    </tr>\n",
       "    <tr>\n",
       "      <th>332</th>\n",
       "      <td>Cacturne</td>\n",
       "      <td>Grass</td>\n",
       "      <td>Dark</td>\n",
       "      <td>475</td>\n",
       "      <td>70</td>\n",
       "      <td>115</td>\n",
       "      <td>60</td>\n",
       "      <td>115</td>\n",
       "      <td>60</td>\n",
       "      <td>55</td>\n",
       "      <td>3</td>\n",
       "      <td>False</td>\n",
       "    </tr>\n",
       "    <tr>\n",
       "      <th>250</th>\n",
       "      <td>Ho-oh</td>\n",
       "      <td>Fire</td>\n",
       "      <td>Flying</td>\n",
       "      <td>680</td>\n",
       "      <td>106</td>\n",
       "      <td>130</td>\n",
       "      <td>90</td>\n",
       "      <td>110</td>\n",
       "      <td>154</td>\n",
       "      <td>90</td>\n",
       "      <td>2</td>\n",
       "      <td>True</td>\n",
       "    </tr>\n",
       "    <tr>\n",
       "      <th>184</th>\n",
       "      <td>Azumarill</td>\n",
       "      <td>Water</td>\n",
       "      <td>Fairy</td>\n",
       "      <td>420</td>\n",
       "      <td>100</td>\n",
       "      <td>50</td>\n",
       "      <td>80</td>\n",
       "      <td>60</td>\n",
       "      <td>80</td>\n",
       "      <td>50</td>\n",
       "      <td>2</td>\n",
       "      <td>False</td>\n",
       "    </tr>\n",
       "    <tr>\n",
       "      <th>164</th>\n",
       "      <td>Noctowl</td>\n",
       "      <td>Normal</td>\n",
       "      <td>Flying</td>\n",
       "      <td>442</td>\n",
       "      <td>100</td>\n",
       "      <td>50</td>\n",
       "      <td>50</td>\n",
       "      <td>76</td>\n",
       "      <td>96</td>\n",
       "      <td>70</td>\n",
       "      <td>2</td>\n",
       "      <td>False</td>\n",
       "    </tr>\n",
       "  </tbody>\n",
       "</table>\n",
       "</div>"
      ],
      "text/plain": [
       "          Name   Type 1  Type 2  Total   HP  Attack  Defense  Sp. Atk  \\\n",
       "ID                                                                      \n",
       "360     Wynaut  Psychic     NaN    260   95      23       48       23   \n",
       "332   Cacturne    Grass    Dark    475   70     115       60      115   \n",
       "250      Ho-oh     Fire  Flying    680  106     130       90      110   \n",
       "184  Azumarill    Water   Fairy    420  100      50       80       60   \n",
       "164    Noctowl   Normal  Flying    442  100      50       50       76   \n",
       "\n",
       "     Sp. Def  Speed  Generation  Legendary  \n",
       "ID                                          \n",
       "360       48     23           3      False  \n",
       "332       60     55           3      False  \n",
       "250      154     90           2       True  \n",
       "184       80     50           2      False  \n",
       "164       96     70           2      False  "
      ]
     },
     "execution_count": 3,
     "metadata": {},
     "output_type": "execute_result"
    }
   ],
   "source": [
    "df = df.loc[df['Generation']<=3]\n",
    "df.sample(frac=1).head() #sample the whole dataset (frac=1) to shuffle the arrangement"
   ]
  },
  {
   "cell_type": "code",
   "execution_count": 4,
   "metadata": {},
   "outputs": [
    {
     "name": "stdout",
     "output_type": "stream",
     "text": [
      "Percent of Non-Legendary Pokemon: 0.95\n",
      "Percent of Legendary Pokemon: 0.05\n"
     ]
    }
   ],
   "source": [
    "print('Percent of Non-Legendary Pokemon: %.2f' %((df.Legendary.count()-df.Legendary.sum())/df.Legendary.count()))\n",
    "print('Percent of Legendary Pokemon: %.2f' %((df.Legendary.sum())/df.Legendary.count()))"
   ]
  },
  {
   "cell_type": "markdown",
   "metadata": {},
   "source": [
    "We can see that the classes are quite unevenly distributed. To remedy this, we will randomly select 5 Legendary and 5 Non-Legendary Pokemon to act as our samples to be clustered."
   ]
  },
  {
   "cell_type": "code",
   "execution_count": 5,
   "metadata": {},
   "outputs": [],
   "source": [
    "legendary = df.loc[df['Legendary'] == True].sample(5)\n",
    "non_legendary = df.loc[df['Legendary'] == False].sample(5)\n",
    "pokemon = pd.concat([legendary,non_legendary])"
   ]
  },
  {
   "cell_type": "markdown",
   "metadata": {},
   "source": [
    "To further simplify the problem, and not worry about the encoding of categorical data, we will only consider numerical values in our clustering of the data."
   ]
  },
  {
   "cell_type": "code",
   "execution_count": 6,
   "metadata": {},
   "outputs": [],
   "source": [
    "numerical_columns = ['Total','HP','Attack','Defense','Sp. Atk','Sp. Def','Speed']"
   ]
  },
  {
   "cell_type": "code",
   "execution_count": 7,
   "metadata": {},
   "outputs": [
    {
     "data": {
      "text/html": [
       "<div>\n",
       "<style scoped>\n",
       "    .dataframe tbody tr th:only-of-type {\n",
       "        vertical-align: middle;\n",
       "    }\n",
       "\n",
       "    .dataframe tbody tr th {\n",
       "        vertical-align: top;\n",
       "    }\n",
       "\n",
       "    .dataframe thead th {\n",
       "        text-align: right;\n",
       "    }\n",
       "</style>\n",
       "<table border=\"1\" class=\"dataframe\">\n",
       "  <thead>\n",
       "    <tr style=\"text-align: right;\">\n",
       "      <th></th>\n",
       "      <th>Total</th>\n",
       "      <th>HP</th>\n",
       "      <th>Attack</th>\n",
       "      <th>Defense</th>\n",
       "      <th>Sp. Atk</th>\n",
       "      <th>Sp. Def</th>\n",
       "      <th>Speed</th>\n",
       "    </tr>\n",
       "    <tr>\n",
       "      <th>ID</th>\n",
       "      <th></th>\n",
       "      <th></th>\n",
       "      <th></th>\n",
       "      <th></th>\n",
       "      <th></th>\n",
       "      <th></th>\n",
       "      <th></th>\n",
       "    </tr>\n",
       "  </thead>\n",
       "  <tbody>\n",
       "    <tr>\n",
       "      <th>243</th>\n",
       "      <td>580</td>\n",
       "      <td>90</td>\n",
       "      <td>85</td>\n",
       "      <td>75</td>\n",
       "      <td>115</td>\n",
       "      <td>100</td>\n",
       "      <td>115</td>\n",
       "    </tr>\n",
       "    <tr>\n",
       "      <th>386</th>\n",
       "      <td>600</td>\n",
       "      <td>50</td>\n",
       "      <td>150</td>\n",
       "      <td>50</td>\n",
       "      <td>150</td>\n",
       "      <td>50</td>\n",
       "      <td>150</td>\n",
       "    </tr>\n",
       "    <tr>\n",
       "      <th>383</th>\n",
       "      <td>670</td>\n",
       "      <td>100</td>\n",
       "      <td>150</td>\n",
       "      <td>140</td>\n",
       "      <td>100</td>\n",
       "      <td>90</td>\n",
       "      <td>90</td>\n",
       "    </tr>\n",
       "    <tr>\n",
       "      <th>377</th>\n",
       "      <td>580</td>\n",
       "      <td>80</td>\n",
       "      <td>100</td>\n",
       "      <td>200</td>\n",
       "      <td>50</td>\n",
       "      <td>100</td>\n",
       "      <td>50</td>\n",
       "    </tr>\n",
       "    <tr>\n",
       "      <th>150</th>\n",
       "      <td>680</td>\n",
       "      <td>106</td>\n",
       "      <td>110</td>\n",
       "      <td>90</td>\n",
       "      <td>154</td>\n",
       "      <td>90</td>\n",
       "      <td>130</td>\n",
       "    </tr>\n",
       "  </tbody>\n",
       "</table>\n",
       "</div>"
      ],
      "text/plain": [
       "     Total   HP  Attack  Defense  Sp. Atk  Sp. Def  Speed\n",
       "ID                                                       \n",
       "243    580   90      85       75      115      100    115\n",
       "386    600   50     150       50      150       50    150\n",
       "383    670  100     150      140      100       90     90\n",
       "377    580   80     100      200       50      100     50\n",
       "150    680  106     110       90      154       90    130"
      ]
     },
     "execution_count": 7,
     "metadata": {},
     "output_type": "execute_result"
    }
   ],
   "source": [
    "labels = pokemon['Legendary']\n",
    "data = pokemon[numerical_columns].copy()\n",
    "data.head()"
   ]
  },
  {
   "cell_type": "markdown",
   "metadata": {},
   "source": [
    "We now have a dataset which is ready to be processed, but we may not be exactly clear on what to do with it. For that we must further understand how the QAOA process detailed above is actually used to solve a clustering problem."
   ]
  },
  {
   "cell_type": "markdown",
   "metadata": {},
   "source": [
    "<a id=\"maxcut_problem\"></a>\n",
    "\n",
    "## The Maxcut Problem\n",
    "\n",
    "As laid out by [Rigetti's paper on QAOA](https://arxiv.org/pdf/1712.05771.pdf), there are a number of important steps that we must follow to map the problem of clustering into a format which QAOA can process. Broadly speaking, QAOA solves the **MAXCUT** problem, in which a graph of $n$ vertices is separated into two complementary subsets, $S$ and $S^{c}$, such that the number of edges between $S$ and $S^{c}$ is as large as possible.\n",
    "\n",
    "\n",
    "![A depiction of the maxcut problem, displaying a cut which separates white and black vertices.](imgs/maxcut.png \"Title\")\n",
    "\n",
    "*A depiction of the maxcut problem, displaying a cut which separates white and black vertices. Image credit: \n",
    "__[Wikipedia](https://en.wikipedia.org/wiki/Maximum_cut#/media/File:Max-cut.svg)__*\n",
    "\n",
    "This problem can be made more sophisticated by adding numerical values as <i>weights</i> to the edges, such that the best solution maximizes the sum of weights which separate $S$ and $S^{c}$. This is precisely the approach we take in using MAXCUT to cluster our data. \n",
    "\n",
    "We allow the weights associated to each edge to be some notion of distance between points. In this way, the sets dictated by our optimal cut, $S$ and $S^{c}$, separate the data into binary clusters which are maximally distant (and hence, maximally dissimilar) from one another.\n",
    "\n",
    "From our current understanding, we can already begin to formulate some first steps in preparing our data to fit this frameowrk.\n",
    "\n",
    "We can use the `distances_dataset` function from `entropica_qaoa.utilities` to easily turn this set of points into the desired matrix of pairwise distances. "
   ]
  },
  {
   "cell_type": "code",
   "execution_count": 8,
   "metadata": {},
   "outputs": [
    {
     "data": {
      "text/html": [
       "<div>\n",
       "<style scoped>\n",
       "    .dataframe tbody tr th:only-of-type {\n",
       "        vertical-align: middle;\n",
       "    }\n",
       "\n",
       "    .dataframe tbody tr th {\n",
       "        vertical-align: top;\n",
       "    }\n",
       "\n",
       "    .dataframe thead th {\n",
       "        text-align: right;\n",
       "    }\n",
       "</style>\n",
       "<table border=\"1\" class=\"dataframe\">\n",
       "  <thead>\n",
       "    <tr style=\"text-align: right;\">\n",
       "      <th>ID</th>\n",
       "      <th>243</th>\n",
       "      <th>386</th>\n",
       "      <th>383</th>\n",
       "      <th>377</th>\n",
       "      <th>150</th>\n",
       "      <th>140</th>\n",
       "      <th>214</th>\n",
       "      <th>235</th>\n",
       "      <th>8</th>\n",
       "      <th>114</th>\n",
       "    </tr>\n",
       "    <tr>\n",
       "      <th>ID</th>\n",
       "      <th></th>\n",
       "      <th></th>\n",
       "      <th></th>\n",
       "      <th></th>\n",
       "      <th></th>\n",
       "      <th></th>\n",
       "      <th></th>\n",
       "      <th></th>\n",
       "      <th></th>\n",
       "      <th></th>\n",
       "    </tr>\n",
       "  </thead>\n",
       "  <tbody>\n",
       "    <tr>\n",
       "      <th>243</th>\n",
       "      <td>0.000000</td>\n",
       "      <td>108.627805</td>\n",
       "      <td>132.664992</td>\n",
       "      <td>156.204994</td>\n",
       "      <td>113.806854</td>\n",
       "      <td>254.361947</td>\n",
       "      <td>121.037184</td>\n",
       "      <td>360.000000</td>\n",
       "      <td>195.560732</td>\n",
       "      <td>176.068169</td>\n",
       "    </tr>\n",
       "    <tr>\n",
       "      <th>386</th>\n",
       "      <td>108.627805</td>\n",
       "      <td>0.000000</td>\n",
       "      <td>152.315462</td>\n",
       "      <td>220.907220</td>\n",
       "      <td>121.457812</td>\n",
       "      <td>291.547595</td>\n",
       "      <td>174.642492</td>\n",
       "      <td>402.740611</td>\n",
       "      <td>251.324491</td>\n",
       "      <td>226.715681</td>\n",
       "    </tr>\n",
       "    <tr>\n",
       "      <th>383</th>\n",
       "      <td>132.664992</td>\n",
       "      <td>152.315462</td>\n",
       "      <td>0.000000</td>\n",
       "      <td>137.113092</td>\n",
       "      <td>93.552125</td>\n",
       "      <td>341.760150</td>\n",
       "      <td>194.422221</td>\n",
       "      <td>463.680925</td>\n",
       "      <td>292.273844</td>\n",
       "      <td>263.628527</td>\n",
       "    </tr>\n",
       "    <tr>\n",
       "      <th>377</th>\n",
       "      <td>156.204994</td>\n",
       "      <td>220.907220</td>\n",
       "      <td>137.113092</td>\n",
       "      <td>0.000000</td>\n",
       "      <td>200.479425</td>\n",
       "      <td>262.106848</td>\n",
       "      <td>154.919334</td>\n",
       "      <td>384.317577</td>\n",
       "      <td>218.000000</td>\n",
       "      <td>191.572441</td>\n",
       "    </tr>\n",
       "    <tr>\n",
       "      <th>150</th>\n",
       "      <td>113.806854</td>\n",
       "      <td>121.457812</td>\n",
       "      <td>93.552125</td>\n",
       "      <td>200.479425</td>\n",
       "      <td>0.000000</td>\n",
       "      <td>360.211049</td>\n",
       "      <td>220.390562</td>\n",
       "      <td>470.778079</td>\n",
       "      <td>305.529049</td>\n",
       "      <td>275.085441</td>\n",
       "    </tr>\n",
       "    <tr>\n",
       "      <th>140</th>\n",
       "      <td>254.361947</td>\n",
       "      <td>291.547595</td>\n",
       "      <td>341.760150</td>\n",
       "      <td>262.106848</td>\n",
       "      <td>360.211049</td>\n",
       "      <td>0.000000</td>\n",
       "      <td>171.464282</td>\n",
       "      <td>141.067360</td>\n",
       "      <td>71.161787</td>\n",
       "      <td>104.642248</td>\n",
       "    </tr>\n",
       "    <tr>\n",
       "      <th>214</th>\n",
       "      <td>121.037184</td>\n",
       "      <td>174.642492</td>\n",
       "      <td>194.422221</td>\n",
       "      <td>154.919334</td>\n",
       "      <td>220.390562</td>\n",
       "      <td>171.464282</td>\n",
       "      <td>0.000000</td>\n",
       "      <td>280.624304</td>\n",
       "      <td>122.122889</td>\n",
       "      <td>134.907376</td>\n",
       "    </tr>\n",
       "    <tr>\n",
       "      <th>235</th>\n",
       "      <td>360.000000</td>\n",
       "      <td>402.740611</td>\n",
       "      <td>463.680925</td>\n",
       "      <td>384.317577</td>\n",
       "      <td>470.778079</td>\n",
       "      <td>141.067360</td>\n",
       "      <td>280.624304</td>\n",
       "      <td>0.000000</td>\n",
       "      <td>177.352756</td>\n",
       "      <td>220.454077</td>\n",
       "    </tr>\n",
       "    <tr>\n",
       "      <th>8</th>\n",
       "      <td>195.560732</td>\n",
       "      <td>251.324491</td>\n",
       "      <td>292.273844</td>\n",
       "      <td>218.000000</td>\n",
       "      <td>305.529049</td>\n",
       "      <td>71.161787</td>\n",
       "      <td>122.122889</td>\n",
       "      <td>177.352756</td>\n",
       "      <td>0.000000</td>\n",
       "      <td>71.091490</td>\n",
       "    </tr>\n",
       "    <tr>\n",
       "      <th>114</th>\n",
       "      <td>176.068169</td>\n",
       "      <td>226.715681</td>\n",
       "      <td>263.628527</td>\n",
       "      <td>191.572441</td>\n",
       "      <td>275.085441</td>\n",
       "      <td>104.642248</td>\n",
       "      <td>134.907376</td>\n",
       "      <td>220.454077</td>\n",
       "      <td>71.091490</td>\n",
       "      <td>0.000000</td>\n",
       "    </tr>\n",
       "  </tbody>\n",
       "</table>\n",
       "</div>"
      ],
      "text/plain": [
       "ID          243         386         383         377         150         140  \\\n",
       "ID                                                                            \n",
       "243    0.000000  108.627805  132.664992  156.204994  113.806854  254.361947   \n",
       "386  108.627805    0.000000  152.315462  220.907220  121.457812  291.547595   \n",
       "383  132.664992  152.315462    0.000000  137.113092   93.552125  341.760150   \n",
       "377  156.204994  220.907220  137.113092    0.000000  200.479425  262.106848   \n",
       "150  113.806854  121.457812   93.552125  200.479425    0.000000  360.211049   \n",
       "140  254.361947  291.547595  341.760150  262.106848  360.211049    0.000000   \n",
       "214  121.037184  174.642492  194.422221  154.919334  220.390562  171.464282   \n",
       "235  360.000000  402.740611  463.680925  384.317577  470.778079  141.067360   \n",
       "8    195.560732  251.324491  292.273844  218.000000  305.529049   71.161787   \n",
       "114  176.068169  226.715681  263.628527  191.572441  275.085441  104.642248   \n",
       "\n",
       "ID          214         235         8           114  \n",
       "ID                                                   \n",
       "243  121.037184  360.000000  195.560732  176.068169  \n",
       "386  174.642492  402.740611  251.324491  226.715681  \n",
       "383  194.422221  463.680925  292.273844  263.628527  \n",
       "377  154.919334  384.317577  218.000000  191.572441  \n",
       "150  220.390562  470.778079  305.529049  275.085441  \n",
       "140  171.464282  141.067360   71.161787  104.642248  \n",
       "214    0.000000  280.624304  122.122889  134.907376  \n",
       "235  280.624304    0.000000  177.352756  220.454077  \n",
       "8    122.122889  177.352756    0.000000   71.091490  \n",
       "114  134.907376  220.454077   71.091490    0.000000  "
      ]
     },
     "execution_count": 8,
     "metadata": {},
     "output_type": "execute_result"
    }
   ],
   "source": [
    "from entropica_qaoa.utilities import distances_dataset\n",
    "\n",
    "dist = pd.DataFrame(distances_dataset(data.values),\n",
    "                       index=data.index,columns=data.index)\n",
    "dist"
   ]
  },
  {
   "cell_type": "code",
   "execution_count": 9,
   "metadata": {},
   "outputs": [
    {
     "data": {
      "text/html": [
       "<div>\n",
       "<style scoped>\n",
       "    .dataframe tbody tr th:only-of-type {\n",
       "        vertical-align: middle;\n",
       "    }\n",
       "\n",
       "    .dataframe tbody tr th {\n",
       "        vertical-align: top;\n",
       "    }\n",
       "\n",
       "    .dataframe thead th {\n",
       "        text-align: right;\n",
       "    }\n",
       "</style>\n",
       "<table border=\"1\" class=\"dataframe\">\n",
       "  <thead>\n",
       "    <tr style=\"text-align: right;\">\n",
       "      <th></th>\n",
       "      <th>Name</th>\n",
       "      <th>Type 1</th>\n",
       "      <th>Type 2</th>\n",
       "      <th>Total</th>\n",
       "      <th>HP</th>\n",
       "      <th>Attack</th>\n",
       "      <th>Defense</th>\n",
       "      <th>Sp. Atk</th>\n",
       "      <th>Sp. Def</th>\n",
       "      <th>Speed</th>\n",
       "      <th>Generation</th>\n",
       "      <th>Legendary</th>\n",
       "    </tr>\n",
       "    <tr>\n",
       "      <th>ID</th>\n",
       "      <th></th>\n",
       "      <th></th>\n",
       "      <th></th>\n",
       "      <th></th>\n",
       "      <th></th>\n",
       "      <th></th>\n",
       "      <th></th>\n",
       "      <th></th>\n",
       "      <th></th>\n",
       "      <th></th>\n",
       "      <th></th>\n",
       "      <th></th>\n",
       "    </tr>\n",
       "  </thead>\n",
       "  <tbody>\n",
       "    <tr>\n",
       "      <th>243</th>\n",
       "      <td>Raikou</td>\n",
       "      <td>Electric</td>\n",
       "      <td>NaN</td>\n",
       "      <td>580</td>\n",
       "      <td>90</td>\n",
       "      <td>85</td>\n",
       "      <td>75</td>\n",
       "      <td>115</td>\n",
       "      <td>100</td>\n",
       "      <td>115</td>\n",
       "      <td>2</td>\n",
       "      <td>True</td>\n",
       "    </tr>\n",
       "    <tr>\n",
       "      <th>386</th>\n",
       "      <td>DeoxysNormal Forme</td>\n",
       "      <td>Psychic</td>\n",
       "      <td>NaN</td>\n",
       "      <td>600</td>\n",
       "      <td>50</td>\n",
       "      <td>150</td>\n",
       "      <td>50</td>\n",
       "      <td>150</td>\n",
       "      <td>50</td>\n",
       "      <td>150</td>\n",
       "      <td>3</td>\n",
       "      <td>True</td>\n",
       "    </tr>\n",
       "    <tr>\n",
       "      <th>383</th>\n",
       "      <td>Groudon</td>\n",
       "      <td>Ground</td>\n",
       "      <td>NaN</td>\n",
       "      <td>670</td>\n",
       "      <td>100</td>\n",
       "      <td>150</td>\n",
       "      <td>140</td>\n",
       "      <td>100</td>\n",
       "      <td>90</td>\n",
       "      <td>90</td>\n",
       "      <td>3</td>\n",
       "      <td>True</td>\n",
       "    </tr>\n",
       "    <tr>\n",
       "      <th>377</th>\n",
       "      <td>Regirock</td>\n",
       "      <td>Rock</td>\n",
       "      <td>NaN</td>\n",
       "      <td>580</td>\n",
       "      <td>80</td>\n",
       "      <td>100</td>\n",
       "      <td>200</td>\n",
       "      <td>50</td>\n",
       "      <td>100</td>\n",
       "      <td>50</td>\n",
       "      <td>3</td>\n",
       "      <td>True</td>\n",
       "    </tr>\n",
       "    <tr>\n",
       "      <th>150</th>\n",
       "      <td>Mewtwo</td>\n",
       "      <td>Psychic</td>\n",
       "      <td>NaN</td>\n",
       "      <td>680</td>\n",
       "      <td>106</td>\n",
       "      <td>110</td>\n",
       "      <td>90</td>\n",
       "      <td>154</td>\n",
       "      <td>90</td>\n",
       "      <td>130</td>\n",
       "      <td>1</td>\n",
       "      <td>True</td>\n",
       "    </tr>\n",
       "    <tr>\n",
       "      <th>140</th>\n",
       "      <td>Kabuto</td>\n",
       "      <td>Rock</td>\n",
       "      <td>Water</td>\n",
       "      <td>355</td>\n",
       "      <td>30</td>\n",
       "      <td>80</td>\n",
       "      <td>90</td>\n",
       "      <td>55</td>\n",
       "      <td>45</td>\n",
       "      <td>55</td>\n",
       "      <td>1</td>\n",
       "      <td>False</td>\n",
       "    </tr>\n",
       "    <tr>\n",
       "      <th>214</th>\n",
       "      <td>Heracross</td>\n",
       "      <td>Bug</td>\n",
       "      <td>Fighting</td>\n",
       "      <td>500</td>\n",
       "      <td>80</td>\n",
       "      <td>125</td>\n",
       "      <td>75</td>\n",
       "      <td>40</td>\n",
       "      <td>95</td>\n",
       "      <td>85</td>\n",
       "      <td>2</td>\n",
       "      <td>False</td>\n",
       "    </tr>\n",
       "    <tr>\n",
       "      <th>235</th>\n",
       "      <td>Smeargle</td>\n",
       "      <td>Normal</td>\n",
       "      <td>NaN</td>\n",
       "      <td>250</td>\n",
       "      <td>55</td>\n",
       "      <td>20</td>\n",
       "      <td>35</td>\n",
       "      <td>20</td>\n",
       "      <td>45</td>\n",
       "      <td>75</td>\n",
       "      <td>2</td>\n",
       "      <td>False</td>\n",
       "    </tr>\n",
       "    <tr>\n",
       "      <th>8</th>\n",
       "      <td>Wartortle</td>\n",
       "      <td>Water</td>\n",
       "      <td>NaN</td>\n",
       "      <td>405</td>\n",
       "      <td>59</td>\n",
       "      <td>63</td>\n",
       "      <td>80</td>\n",
       "      <td>65</td>\n",
       "      <td>80</td>\n",
       "      <td>58</td>\n",
       "      <td>1</td>\n",
       "      <td>False</td>\n",
       "    </tr>\n",
       "    <tr>\n",
       "      <th>114</th>\n",
       "      <td>Tangela</td>\n",
       "      <td>Grass</td>\n",
       "      <td>NaN</td>\n",
       "      <td>435</td>\n",
       "      <td>65</td>\n",
       "      <td>55</td>\n",
       "      <td>115</td>\n",
       "      <td>100</td>\n",
       "      <td>40</td>\n",
       "      <td>60</td>\n",
       "      <td>1</td>\n",
       "      <td>False</td>\n",
       "    </tr>\n",
       "  </tbody>\n",
       "</table>\n",
       "</div>"
      ],
      "text/plain": [
       "                   Name    Type 1    Type 2  Total   HP  Attack  Defense  \\\n",
       "ID                                                                         \n",
       "243              Raikou  Electric       NaN    580   90      85       75   \n",
       "386  DeoxysNormal Forme   Psychic       NaN    600   50     150       50   \n",
       "383             Groudon    Ground       NaN    670  100     150      140   \n",
       "377            Regirock      Rock       NaN    580   80     100      200   \n",
       "150              Mewtwo   Psychic       NaN    680  106     110       90   \n",
       "140              Kabuto      Rock     Water    355   30      80       90   \n",
       "214           Heracross       Bug  Fighting    500   80     125       75   \n",
       "235            Smeargle    Normal       NaN    250   55      20       35   \n",
       "8             Wartortle     Water       NaN    405   59      63       80   \n",
       "114             Tangela     Grass       NaN    435   65      55      115   \n",
       "\n",
       "     Sp. Atk  Sp. Def  Speed  Generation  Legendary  \n",
       "ID                                                   \n",
       "243      115      100    115           2       True  \n",
       "386      150       50    150           3       True  \n",
       "383      100       90     90           3       True  \n",
       "377       50      100     50           3       True  \n",
       "150      154       90    130           1       True  \n",
       "140       55       45     55           1      False  \n",
       "214       40       95     85           2      False  \n",
       "235       20       45     75           2      False  \n",
       "8         65       80     58           1      False  \n",
       "114      100       40     60           1      False  "
      ]
     },
     "execution_count": 9,
     "metadata": {},
     "output_type": "execute_result"
    }
   ],
   "source": [
    "df.loc[dist.index]"
   ]
  },
  {
   "cell_type": "markdown",
   "metadata": {},
   "source": [
    "<a id=\"maxcut_to_qubo\"></a>\n",
    "\n",
    "## From Maxcut to QUBO\n",
    "With an understanding of the Maxcut structure which produces our clustered output, we ask ourselves how we can turn what is effectively a graph problem into the setting of an optimization problem. The answer is to map our Maxcut interpretation into a **Quadratic Unconstrainted Binary Optimization** ([QUBO](https://en.wikipedia.org/wiki/Quadratic_unconstrained_binary_optimization)) problem. QUBO problems attempt to minimize a quadratic polynomial with binary variables. Luckily, MAXCUT already has a well-known QUBO cost function. This cost function is sophisticated enough to allow for our pairwise distanes to be meaningfully included, as well as to allow for the inclusion of bias terms on individual samples.\n",
    "\n",
    "$$\n",
    "Cost=-\\sum_{\\langle i j\\rangle} J_{i j} \\sigma_{i} \\sigma_{j}-\\mu \\sum_{j} h_{j} \\sigma_{j}\n",
    "$$\n",
    "\n",
    "To explain the notation:\n",
    "- $\\sigma_{i}$ is the cluster class (-1 or 1) of sample $i$\n",
    "- $J_{i j}$ is the distance between sample $i$ and sample $j$\n",
    "- $h_{j}$ is a bias term on sample $j$ \n",
    "- $\\mu$ is a universal weight applied to all bias terms\n",
    "\n",
    "By convention, a negative sign is applied to the cost function, as above. In quantum mechanics we would denote thie function as $H(\\sigma)$. The symbol $H$ stands for *Hamiltonian*, which is an operator which acts as a sum of the energies of the system. For the scope of this notebook, thinking of $Cost$ as any traditional cost function which we want to minimize will serve us equally as valuable."
   ]
  },
  {
   "cell_type": "markdown",
   "metadata": {},
   "source": [
    "<a id=\"qubo_to_hamiltonian\"></a>\n",
    "\n",
    "## From QUBO to a Hamiltonian\n",
    "Now we must use our data to create the cost function defined above. To make a Hamiltonian that is recognizable by pyQuil, we must use the pyQuil `PauliTerm` object."
   ]
  },
  {
   "cell_type": "code",
   "execution_count": 10,
   "metadata": {},
   "outputs": [],
   "source": [
    "from pyquil.api import WavefunctionSimulator\n",
    "from pyquil.paulis import PauliSum, PauliTerm"
   ]
  },
  {
   "cell_type": "markdown",
   "metadata": {},
   "source": [
    "A `PauliTerm` object can be quadratic or of order one. In the case of it being quadratic, it  represents the relationship between any two samples of data. An order one `PauliTerm` would be an implementation of a bias term - a cost constraint which only affects one variable. Below we show some basic functionality of the `PauliTerm` object."
   ]
  },
  {
   "cell_type": "code",
   "execution_count": 11,
   "metadata": {},
   "outputs": [
    {
     "name": "stdout",
     "output_type": "stream",
     "text": [
      "Distance between samples 3 and 6: 154.919\n"
     ]
    }
   ],
   "source": [
    "#Constructing a quadratic PauliTerm\n",
    "i = 3\n",
    "j = 6\n",
    "print('Distance between samples %d and %d: %.3f' %(i,j,dist.values[i][j]))"
   ]
  },
  {
   "cell_type": "markdown",
   "metadata": {},
   "source": [
    "To create the quadratic term we multiply two Paulis together. Each `PauliTerm` has an accompanying coefficient which is also multiplied. For simplicity's sake, we include the pairwise distance as a coefficient of one factor, and make the other '1.0'."
   ]
  },
  {
   "cell_type": "code",
   "execution_count": 12,
   "metadata": {},
   "outputs": [
    {
     "name": "stdout",
     "output_type": "stream",
     "text": [
      "(154.91933384829667+0j)*Z3*Z6\n"
     ]
    }
   ],
   "source": [
    "term1 = PauliTerm(\"Z\",i,dist.values[i][j])\n",
    "term2 = PauliTerm(\"Z\",j,1.0) \n",
    "term = term1*term2\n",
    "print(term)"
   ]
  },
  {
   "cell_type": "markdown",
   "metadata": {},
   "source": [
    "Feel free to play with the coefficient number of `term2` to see how it affects the output of the cell.\n",
    "\n",
    "For those new to quantum computing, you're likely wondering what the purpose of the letter 'Z' is. It indicates that this `PauliTerm` is a Z operator.\n",
    "\n",
    "You may also note that our sample numbers, $i=3$ and $j=6$, have found their way into the printed output. Including $i$ and $j$ in each `PauliTerm` tells pyQuil which samples or **qubits** the operation is applied to. That's right, in the QAOA setup we consider each datapoint to be mapped to a qubit. Thus, the above printed statement actually means:\n",
    "\n",
    "    Apply a penalty of 186.548 should sample 3 and sample 6 be in the same class. \n",
    "\n",
    "Or in a more quantum-intuitive sense:\n",
    "\n",
    "    Apply a penalty of 186.548 should qubit 3 and qubit 6 both be found to be in the same\n",
    "    spin state (spin up or spin down). \n",
    "\n",
    "Thus, as QAOA tries to minimize the cost function, sample 3 and 6 will only appear in the same class if this configuration is optimal. The choice of our weights as the distances between the samples implies, that in a \"good\" configuration samples that lie far apart will end up in different classes.\n",
    "\n",
    "We can see now that to make the Hamiltonian for our system we must iterate over each distance in our distance matrix, and assign it within a `PauliTerm` as the interaction strength between the appropriate qubits. We can readily achieve this using the utility function `hamiltonian_from_distances`."
   ]
  },
  {
   "cell_type": "code",
   "execution_count": 13,
   "metadata": {},
   "outputs": [
    {
     "name": "stdout",
     "output_type": "stream",
     "text": [
      "(108.62780491200216+0j)*Z0*Z1 + (132.664991614216+0j)*Z0*Z2 + (156.20499351813308+0j)*Z0*Z3 + (113.80685392365436+0j)*Z0*Z4 + (254.3619468395381+0j)*Z0*Z5 + (121.03718436910205+0j)*Z0*Z6 + (360+0j)*Z0*Z7 + (195.56073225471417+0j)*Z0*Z8 + (176.0681686165901+0j)*Z0*Z9 + (152.31546211727817+0j)*Z1*Z2 + (220.90722034374522+0j)*Z1*Z3 + (121.45781160551181+0j)*Z1*Z4 + (291.547594742265+0j)*Z1*Z5 + (174.64249196572982+0j)*Z1*Z6 + (402.74061131204536+0j)*Z1*Z7 + (251.32449144482516+0j)*Z1*Z8 + (226.71568097509268+0j)*Z1*Z9 + (137.11309200802089+0j)*Z2*Z3 + (93.552124508212+0j)*Z2*Z4 + (341.76014981270123+0j)*Z2*Z5 + (194.42222095223582+0j)*Z2*Z6 + (463.6809247747852+0j)*Z2*Z7 + (292.27384419410504+0j)*Z2*Z8 + (263.6285265292814+0j)*Z2*Z9 + (200.47942537826668+0j)*Z3*Z4 + (262.10684844162313+0j)*Z3*Z5 + (154.91933384829667+0j)*Z3*Z6 + (384.3175770115127+0j)*Z3*Z7 + (218+0j)*Z3*Z8 + (191.57244060668017+0j)*Z3*Z9 + (360.211049247521+0j)*Z4*Z5 + (220.39056241137007+0j)*Z4*Z6 + (470.7780793537439+0j)*Z4*Z7 + (305.52904935537634+0j)*Z4*Z8 + (275.0854412723436+0j)*Z4*Z9 + (171.46428199482247+0j)*Z5*Z6 + (141.06735979665885+0j)*Z5*Z7 + (71.16178749862878+0j)*Z5*Z8 + (104.64224768228175+0j)*Z5*Z9 + (280.6243040080456+0j)*Z6*Z7 + (122.12288892750614+0j)*Z6*Z8 + (134.90737563232042+0j)*Z6*Z9 + (177.3527558286028+0j)*Z7*Z8 + (220.45407685048602+0j)*Z7*Z9 + (71.09149034870488+0j)*Z8*Z9\n"
     ]
    }
   ],
   "source": [
    "from entropica_qaoa.utilities import hamiltonian_from_distances\n",
    "\n",
    "hamiltonian = hamiltonian_from_distances(dist)\n",
    "print(hamiltonian)"
   ]
  },
  {
   "cell_type": "markdown",
   "metadata": {},
   "source": [
    "The above exercise brings up an important limitation to our present QAOA approach. The number of datapoints we are able to use is limited by the number of qubits we have available."
   ]
  },
  {
   "cell_type": "markdown",
   "metadata": {},
   "source": [
    "<a id=\"apply_qaoa\"></a>\n",
    "\n",
    "## Minimize the Hamiltonian with QAOA\n",
    "\n",
    "Now that we have mapped the clustering problem to a Hamiltonian it is time to find the spin class assignments/spin configuration that minimizes our cost function. We do this using the QAOA algorithm. First we need to import the neccesary bits and pieces:"
   ]
  },
  {
   "cell_type": "code",
   "execution_count": 14,
   "metadata": {},
   "outputs": [],
   "source": [
    "# import the neccesary pyquil modules\n",
    "from entropica_qaoa.qaoa.cost_function import QAOACostFunctionOnQVM, QAOACostFunctionOnWFSim\n",
    "\n",
    "# import QAOAParameters \n",
    "from entropica_qaoa.qaoa.parameters import ExtendedParams\n",
    "\n",
    "# import an optimizer\n",
    "from scipy.optimize import minimize\n",
    "\n",
    "#Some utilities for time tracking and measuring our outcomes.\n",
    "import time\n",
    "from math import log\n",
    "from entropica_qaoa.utilities import cluster_accuracy, max_probability_bitstring"
   ]
  },
  {
   "cell_type": "markdown",
   "metadata": {},
   "source": [
    "Now we can set up the _hyperparameters_ (problem parameters that remain fixed for this problem instance):"
   ]
  },
  {
   "cell_type": "code",
   "execution_count": 15,
   "metadata": {},
   "outputs": [],
   "source": [
    "timesteps = 3 # The QAOA p parameter\n",
    "iters = 500 # Number of classical optimiser iterations\n",
    "n_qubits = 10 #this number might be defined before your dataset - should equal the number of data points\n",
    "#The hamiltonian is also a hyperparameter"
   ]
  },
  {
   "cell_type": "markdown",
   "metadata": {},
   "source": [
    "And of course also the parameters need to be chosen. In this QAOA run, we will use `ExtendedParameters`. This parameter class provides the most degrees of freedom for our optimizer to explore the energy landscape. Conversely, it also has the most parameters to optimize and thus will take longer to converge. \n",
    "\n",
    "To instantiate this parameter class, we need to pass in three separate lists of angles.\n",
    "- $\\vec{\\beta}$: every timestep requires $n_{qubits}$ beta rotations. Thus there are $n_{qubits}\\times timestep$ beta values.\n",
    "- $\\vec{\\gamma}_{pairs}$: there is a gamma rotation for every two-qubit interaction. A simple way to come up with this number is to measure the length of your hamiltonian subtracted by the number of single qubit bias terms in place.\n",
    "- $\\vec{\\gamma}_{singles}$: there is a gamma single rotation for each bias term included in the hamiltonian.\n",
    "\n",
    "We randomly generate these lists as their initial starting states are somewhat redunant. They will be optimized over 100s of iterations!"
   ]
  },
  {
   "cell_type": "code",
   "execution_count": 16,
   "metadata": {},
   "outputs": [],
   "source": [
    "betas = [round(val,1) for val in np.random.rand(timesteps*n_qubits)]\n",
    "gammas_singles = [round(val,1) for val in np.random.rand(0)] #we don't want any bias terms\n",
    "gammas_pairs = [round(val,1) for val in np.random.rand(timesteps*len(hamiltonian))]\n",
    "\n",
    "hyperparameters = (hamiltonian, timesteps)\n",
    "parameters = (betas, gammas_singles, gammas_pairs)\n",
    "\n",
    "params = ExtendedParams(hyperparameters, parameters)"
   ]
  },
  {
   "cell_type": "markdown",
   "metadata": {},
   "source": [
    "Before starting the simulator, make sure you are running Rigetti's QVM and Quil Compiler by running `qvm -S` and `quilc -S` in two open and disposable terminals\n",
    "\n",
    "**First QAOA Run: 3 Timesteps, 500 Iterations**"
   ]
  },
  {
   "cell_type": "code",
   "execution_count": 17,
   "metadata": {},
   "outputs": [],
   "source": [
    "# Set up the WavefunctionSimulator from pyQuil\n",
    "sim = WavefunctionSimulator()\n",
    "cost_function = QAOACostFunctionOnWFSim(hamiltonian,\n",
    "                                        params=params,\n",
    "                                        sim=sim,\n",
    "                                        enable_logging=True)"
   ]
  },
  {
   "cell_type": "code",
   "execution_count": 18,
   "metadata": {},
   "outputs": [
    {
     "name": "stdout",
     "output_type": "stream",
     "text": [
      "Run complete!\n",
      " Runtime: 51.531\n"
     ]
    }
   ],
   "source": [
    "t0 = time.time()\n",
    "res = minimize(cost_function, params.raw(), tol=1e-3, method='Cobyla',\n",
    "               options={\"maxiter\": iters})\n",
    "print('Run complete!\\n','Runtime:','{:.3f}'.format(time.time()-t0))"
   ]
  },
  {
   "cell_type": "code",
   "execution_count": 19,
   "metadata": {},
   "outputs": [],
   "source": [
    "wave_func = cost_function.get_wavefunction(params.raw())\n",
    "lowest = max_probability_bitstring(wave_func.probabilities())"
   ]
  },
  {
   "cell_type": "code",
   "execution_count": 20,
   "metadata": {},
   "outputs": [
    {
     "name": "stdout",
     "output_type": "stream",
     "text": [
      "True Labels of samples: [1, 1, 1, 1, 1, 0, 0, 0, 0, 0]\n",
      "Lowest QAOA State: [1, 0, 0, 1, 0, 1, 1, 1, 1, 0]\n",
      "Accuracy of Original State: 30.0 %\n",
      "Accuracy of Complement State: 70.0 %\n"
     ]
    }
   ],
   "source": [
    "true_clusters = [1 if val else 0 for val in labels] \n",
    "acc = cluster_accuracy(lowest,true_clusters)"
   ]
  },
  {
   "cell_type": "markdown",
   "metadata": {},
   "source": [
    "We can analyze the optimizer to see whether or not our QAOA run converged. For the full message, run:\n",
    "```python\n",
    "print(res)\n",
    "```"
   ]
  },
  {
   "cell_type": "code",
   "execution_count": 21,
   "metadata": {},
   "outputs": [
    {
     "name": "stdout",
     "output_type": "stream",
     "text": [
      "Cost Function Value: -351.1896781527745\n",
      "Converged?: Maximum number of function evaluations has been exceeded.\n"
     ]
    }
   ],
   "source": [
    "print('Cost Function Value:', res.fun)\n",
    "print('Converged?:',res.message)"
   ]
  },
  {
   "cell_type": "markdown",
   "metadata": {},
   "source": [
    "We can see we did not converge. Let's tighten up our operations by wrapping our QAOA runs in a function and increase the QAOA parameter $p$."
   ]
  },
  {
   "cell_type": "code",
   "execution_count": 22,
   "metadata": {},
   "outputs": [],
   "source": [
    "def run_qaoa(hamiltonian, params, timesteps, max_iters, init_state=None): \n",
    "    cost_function = QAOACostFunctionOnWFSim(hamiltonian,\n",
    "                                            params=params,\n",
    "                                            initial_state=init_state)\n",
    "    res = minimize(cost_function, params.raw(), tol=1e-3, method='Cobyla',\n",
    "                          options={\"maxiter\" : max_iters})\n",
    "    \n",
    "    return cost_function.get_wavefunction(params.raw()), res"
   ]
  },
  {
   "cell_type": "code",
   "execution_count": 23,
   "metadata": {},
   "outputs": [
    {
     "name": "stdout",
     "output_type": "stream",
     "text": [
      "Run complete\n",
      " Runtime: 154.294\n"
     ]
    }
   ],
   "source": [
    "t0 = time.time()\n",
    "wave_func, res = run_qaoa(hamiltonian, params, timesteps=3, max_iters=1500)\n",
    "print('Run complete\\n','Runtime:','{:.3f}'.format(time.time()-t0))"
   ]
  },
  {
   "cell_type": "code",
   "execution_count": 24,
   "metadata": {},
   "outputs": [],
   "source": [
    "lowest = max_probability_bitstring(wave_func.probabilities())"
   ]
  },
  {
   "cell_type": "code",
   "execution_count": 25,
   "metadata": {},
   "outputs": [
    {
     "name": "stdout",
     "output_type": "stream",
     "text": [
      "True Labels of samples: [1, 1, 1, 1, 1, 0, 0, 0, 0, 0]\n",
      "Lowest QAOA State: [0, 1, 0, 0, 0, 1, 1, 1, 1, 1]\n",
      "Accuracy of Original State: 10.0 %\n",
      "Accuracy of Complement State: 90.0 %\n",
      "Cost Function Value: -620.791868409397\n",
      "Converged?: Maximum number of function evaluations has been exceeded.\n"
     ]
    }
   ],
   "source": [
    "true_clusters = [1 if val else 0 for val in labels] \n",
    "acc = cluster_accuracy(lowest,true_clusters)\n",
    "\n",
    "print('Cost Function Value:', res.fun)\n",
    "print('Converged?:',res.message)"
   ]
  },
  {
   "cell_type": "markdown",
   "metadata": {},
   "source": [
    "You should typically find that increasing the number of allowed iterations gives a more accurate answer. The precise numbers will depend on which Pokemons are randomly selected at the beginning."
   ]
  }
 ],
 "metadata": {
  "kernelspec": {
   "display_name": "Python 3",
   "language": "python",
   "name": "python3"
  },
  "language_info": {
   "codemirror_mode": {
    "name": "ipython",
    "version": 3
   },
   "file_extension": ".py",
   "mimetype": "text/x-python",
   "name": "python",
   "nbconvert_exporter": "python",
   "pygments_lexer": "ipython3",
   "version": "3.7.3"
  }
 },
 "nbformat": 4,
 "nbformat_minor": 2
}
