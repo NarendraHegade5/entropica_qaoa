{
 "cells": [
  {
   "cell_type": "markdown",
   "metadata": {},
   "source": [
    "# Solve the clustering problem using QAOA\n",
    "**Author: Cooper Midroni**\n",
    "<br>\n",
    "cooper@entropicalabs.com\n",
    "\n",
    "In this notebook we demonstrate a start-to-finish project workflow for using Quantum Approximate Optimization Algorithm to cluster a simple dataset. Along the way, we will explain the major concepts of QAOA and build intuition as to how QAOA can be used to solve clustering problems. This notebook will steer away from heavy mathematical explanations in favor of a higher level view of the algorithm's core components. It is mainly geared towards users that don't have physics background but come from computer science."
   ]
  },
  {
   "cell_type": "markdown",
   "metadata": {
    "tags": [
     "hide_all"
    ]
   },
   "source": [
    "## Contents\n",
    "1. [Variational Hybrid Algorithms](#variational_hybrid_algorithms)\n",
    "2. [The Maxcut Problem](#maxcut_problem)\n",
    "3. [From Maxcut to QUBO](#maxcut_to_qubo)\n",
    "4. [From QUBO to a Hamiltonian](#qubo_to_hamiltonian)\n",
    "5. [Minimize the Hamiltonian with QAOA](#apply_qaoa)"
   ]
  },
  {
   "cell_type": "markdown",
   "metadata": {},
   "source": [
    "<a id=\"variational_hybrid_algorithms\"></a>\n",
    "\n",
    "## Variational Hybrid Algorithms\n",
    "\n",
    "We often take for granted the many decades of progress that lead to today's widespread use of classical computers. As memory and compute power become ever cheapened by Moore's Law, the pressure to find optimal resource allocations for algorithms shrinks away. However, with quantum computers in their early stages, they still feel this daunting requirement. In response to this, a family of algorithms known as *variational hybrid quantum-classical algorithms* was created, with the notion that quantum resources can be made more useful when partnered with classical routines. The Quantum Approximate Optimization Algorithm (QAOA), belongs to the family of variatonal hybrid algorithms. \n",
    "\n",
    "We can infer a lot from merely unpacking this name. The presence of '*variational*' tells us these algorithms will follow an iterative approach, while '*hybrid*' tells us they will leverage the use of both quantum and classical computers. In fact, this describes the main flow of the algorithm, with all that needs be answered is *when* does this iteration stop and *what* information is passed between devices.\n",
    "\n",
    "![A visual representation of a generic variational hybrid quantum-classical algorithm.](imgs/general_variational.png \"Title\")\n",
    "*A visual representation of a generic variational hybrid quantum-classical algorithm.*\n",
    "\n",
    "To answer the question of *what*, we note that the main goal of QAOA is optimize a set of **parameters**, which we denote as $\\vec{\\gamma}$ and $\\vec{\\beta}$. You'll notice that these symbols are vectors, as such they are $n-$length. We discuss later what aspects of our problem decide the value of $n$ in the second notebook. \n",
    "\n",
    "$\\vec{\\gamma}$ and $\\vec{\\beta}$ parameterize a **cost function** which is evaluated with our **Quantum Circuit** to produce a cost value. This output value is input to the optimizer, and is used to determine whether the nudging of our parameters is in a direction of lower cost. We will sometimes call the cost value an **expectation value**, represented by $\\langle\\psi|Cost|\\psi\\rangle$, which is the expected value of the cost function $Cost$ over the **wave function** $\\psi$. If you were caught off guard by the term 'wave function', then it is equally as effective to think of $\\langle\\psi|Cost|\\psi\\rangle$ as the notion of cost as in the more traditional machine learning sense. The **Classical Optimizer** will return updated parameters to the quantum circuit for re-evaluation, and the cycle repeats. \n",
    "\n",
    "*When* does this algorithm stop? Well, once a stopping criterion is met of course. This criterion is often a pre-defined maximum number of iterations, or occurs after a repeat number of evaluations land within the same threshold of convergence (a tolerance for the cost value in which we consider numbers within an $\\epsilon-$window the same). Once this criterion is met, the **optimized parameters** are returned and used to define the solution. \n",
    "\n",
    "![A visual representation of QAOA in the format of a variational hybrid algorithm.](imgs/variational.png \"Title\")\n",
    "*A visual representation of QAOA in the format of a variational hybrid algorithm.*\n",
    "\n",
    "The above description should leave you with many questions.\n",
    "- How does the above process solve a clustering problem?\n",
    "- How exactly do $\\vec{\\gamma}$ and $\\vec{\\beta}$ define the solution?\n",
    "- How do we define a meaningful cost function for our problem?\n",
    "- What in the world is a wave function?\n",
    "\n",
    "We hope to answer these and more. For now, if you feel comfortable with the critical vocabulary of QAOA (the bolded words), then you'll be well prepared for the explanations below.\n",
    "***\n",
    "### Data Preparation\n",
    "Now let's get to the fun part! We will import our data and define the problem setting as a highly manicured example for this clustering demo. \n",
    "\n",
    "The dataset we will be using is the **Pokemon dataset**, which can be found on [Github](https://gist.github.com/armgilles/194bcff35001e7eb53a2a8b441e8b2c6). In our journey to Catch 'Em All, we will attempt to cluster Pokemon into Legendary and non-Legendary classes. \n",
    "\n",
    "**Import Libraries**"
   ]
  },
  {
   "cell_type": "code",
   "execution_count": 1,
   "metadata": {},
   "outputs": [],
   "source": [
    "import pandas as pd\n",
    "import numpy as np\n",
    "import matplotlib.pyplot as plt\n",
    "\n",
    "from entropica_qaoa.utilities import *"
   ]
  },
  {
   "cell_type": "markdown",
   "metadata": {},
   "source": [
    "**Import Data**"
   ]
  },
  {
   "cell_type": "code",
   "execution_count": 2,
   "metadata": {
    "scrolled": true
   },
   "outputs": [
    {
     "data": {
      "text/html": [
       "<div>\n",
       "<style scoped>\n",
       "    .dataframe tbody tr th:only-of-type {\n",
       "        vertical-align: middle;\n",
       "    }\n",
       "\n",
       "    .dataframe tbody tr th {\n",
       "        vertical-align: top;\n",
       "    }\n",
       "\n",
       "    .dataframe thead th {\n",
       "        text-align: right;\n",
       "    }\n",
       "</style>\n",
       "<table border=\"1\" class=\"dataframe\">\n",
       "  <thead>\n",
       "    <tr style=\"text-align: right;\">\n",
       "      <th></th>\n",
       "      <th>Name</th>\n",
       "      <th>Type 1</th>\n",
       "      <th>Type 2</th>\n",
       "      <th>Total</th>\n",
       "      <th>HP</th>\n",
       "      <th>Attack</th>\n",
       "      <th>Defense</th>\n",
       "      <th>Sp. Atk</th>\n",
       "      <th>Sp. Def</th>\n",
       "      <th>Speed</th>\n",
       "      <th>Generation</th>\n",
       "      <th>Legendary</th>\n",
       "    </tr>\n",
       "    <tr>\n",
       "      <th>ID</th>\n",
       "      <th></th>\n",
       "      <th></th>\n",
       "      <th></th>\n",
       "      <th></th>\n",
       "      <th></th>\n",
       "      <th></th>\n",
       "      <th></th>\n",
       "      <th></th>\n",
       "      <th></th>\n",
       "      <th></th>\n",
       "      <th></th>\n",
       "      <th></th>\n",
       "    </tr>\n",
       "  </thead>\n",
       "  <tbody>\n",
       "    <tr>\n",
       "      <th>1</th>\n",
       "      <td>Bulbasaur</td>\n",
       "      <td>Grass</td>\n",
       "      <td>Poison</td>\n",
       "      <td>318</td>\n",
       "      <td>45</td>\n",
       "      <td>49</td>\n",
       "      <td>49</td>\n",
       "      <td>65</td>\n",
       "      <td>65</td>\n",
       "      <td>45</td>\n",
       "      <td>1</td>\n",
       "      <td>False</td>\n",
       "    </tr>\n",
       "    <tr>\n",
       "      <th>2</th>\n",
       "      <td>Ivysaur</td>\n",
       "      <td>Grass</td>\n",
       "      <td>Poison</td>\n",
       "      <td>405</td>\n",
       "      <td>60</td>\n",
       "      <td>62</td>\n",
       "      <td>63</td>\n",
       "      <td>80</td>\n",
       "      <td>80</td>\n",
       "      <td>60</td>\n",
       "      <td>1</td>\n",
       "      <td>False</td>\n",
       "    </tr>\n",
       "    <tr>\n",
       "      <th>3</th>\n",
       "      <td>Venusaur</td>\n",
       "      <td>Grass</td>\n",
       "      <td>Poison</td>\n",
       "      <td>525</td>\n",
       "      <td>80</td>\n",
       "      <td>82</td>\n",
       "      <td>83</td>\n",
       "      <td>100</td>\n",
       "      <td>100</td>\n",
       "      <td>80</td>\n",
       "      <td>1</td>\n",
       "      <td>False</td>\n",
       "    </tr>\n",
       "    <tr>\n",
       "      <th>4</th>\n",
       "      <td>Charmander</td>\n",
       "      <td>Fire</td>\n",
       "      <td>NaN</td>\n",
       "      <td>309</td>\n",
       "      <td>39</td>\n",
       "      <td>52</td>\n",
       "      <td>43</td>\n",
       "      <td>60</td>\n",
       "      <td>50</td>\n",
       "      <td>65</td>\n",
       "      <td>1</td>\n",
       "      <td>False</td>\n",
       "    </tr>\n",
       "    <tr>\n",
       "      <th>5</th>\n",
       "      <td>Charmeleon</td>\n",
       "      <td>Fire</td>\n",
       "      <td>NaN</td>\n",
       "      <td>405</td>\n",
       "      <td>58</td>\n",
       "      <td>64</td>\n",
       "      <td>58</td>\n",
       "      <td>80</td>\n",
       "      <td>65</td>\n",
       "      <td>80</td>\n",
       "      <td>1</td>\n",
       "      <td>False</td>\n",
       "    </tr>\n",
       "  </tbody>\n",
       "</table>\n",
       "</div>"
      ],
      "text/plain": [
       "          Name Type 1  Type 2  Total  HP  Attack  Defense  Sp. Atk  Sp. Def  \\\n",
       "ID                                                                            \n",
       "1    Bulbasaur  Grass  Poison    318  45      49       49       65       65   \n",
       "2      Ivysaur  Grass  Poison    405  60      62       63       80       80   \n",
       "3     Venusaur  Grass  Poison    525  80      82       83      100      100   \n",
       "4   Charmander   Fire     NaN    309  39      52       43       60       50   \n",
       "5   Charmeleon   Fire     NaN    405  58      64       58       80       65   \n",
       "\n",
       "    Speed  Generation  Legendary  \n",
       "ID                                \n",
       "1      45           1      False  \n",
       "2      60           1      False  \n",
       "3      80           1      False  \n",
       "4      65           1      False  \n",
       "5      80           1      False  "
      ]
     },
     "execution_count": 2,
     "metadata": {},
     "output_type": "execute_result"
    }
   ],
   "source": [
    "df = pd.read_csv('./data/pokemon.csv')\n",
    "df = df.set_index('#') #index pokemon by their ID number\n",
    "df = df.rename_axis('ID') #rename axis to 'ID' instead of '#'\n",
    "df = df.loc[~df.index.duplicated(keep='first')] #drop duplicates\n",
    "df.head()"
   ]
  },
  {
   "cell_type": "markdown",
   "metadata": {},
   "source": [
    "To avoid the many bells and whistles of later iterations of Pokemon games, we'll stick to our roots and only consider Pokemon from the first three generations."
   ]
  },
  {
   "cell_type": "code",
   "execution_count": 3,
   "metadata": {},
   "outputs": [
    {
     "data": {
      "text/html": [
       "<div>\n",
       "<style scoped>\n",
       "    .dataframe tbody tr th:only-of-type {\n",
       "        vertical-align: middle;\n",
       "    }\n",
       "\n",
       "    .dataframe tbody tr th {\n",
       "        vertical-align: top;\n",
       "    }\n",
       "\n",
       "    .dataframe thead th {\n",
       "        text-align: right;\n",
       "    }\n",
       "</style>\n",
       "<table border=\"1\" class=\"dataframe\">\n",
       "  <thead>\n",
       "    <tr style=\"text-align: right;\">\n",
       "      <th></th>\n",
       "      <th>Name</th>\n",
       "      <th>Type 1</th>\n",
       "      <th>Type 2</th>\n",
       "      <th>Total</th>\n",
       "      <th>HP</th>\n",
       "      <th>Attack</th>\n",
       "      <th>Defense</th>\n",
       "      <th>Sp. Atk</th>\n",
       "      <th>Sp. Def</th>\n",
       "      <th>Speed</th>\n",
       "      <th>Generation</th>\n",
       "      <th>Legendary</th>\n",
       "    </tr>\n",
       "    <tr>\n",
       "      <th>ID</th>\n",
       "      <th></th>\n",
       "      <th></th>\n",
       "      <th></th>\n",
       "      <th></th>\n",
       "      <th></th>\n",
       "      <th></th>\n",
       "      <th></th>\n",
       "      <th></th>\n",
       "      <th></th>\n",
       "      <th></th>\n",
       "      <th></th>\n",
       "      <th></th>\n",
       "    </tr>\n",
       "  </thead>\n",
       "  <tbody>\n",
       "    <tr>\n",
       "      <th>324</th>\n",
       "      <td>Torkoal</td>\n",
       "      <td>Fire</td>\n",
       "      <td>NaN</td>\n",
       "      <td>470</td>\n",
       "      <td>70</td>\n",
       "      <td>85</td>\n",
       "      <td>140</td>\n",
       "      <td>85</td>\n",
       "      <td>70</td>\n",
       "      <td>20</td>\n",
       "      <td>3</td>\n",
       "      <td>False</td>\n",
       "    </tr>\n",
       "    <tr>\n",
       "      <th>49</th>\n",
       "      <td>Venomoth</td>\n",
       "      <td>Bug</td>\n",
       "      <td>Poison</td>\n",
       "      <td>450</td>\n",
       "      <td>70</td>\n",
       "      <td>65</td>\n",
       "      <td>60</td>\n",
       "      <td>90</td>\n",
       "      <td>75</td>\n",
       "      <td>90</td>\n",
       "      <td>1</td>\n",
       "      <td>False</td>\n",
       "    </tr>\n",
       "    <tr>\n",
       "      <th>258</th>\n",
       "      <td>Mudkip</td>\n",
       "      <td>Water</td>\n",
       "      <td>NaN</td>\n",
       "      <td>310</td>\n",
       "      <td>50</td>\n",
       "      <td>70</td>\n",
       "      <td>50</td>\n",
       "      <td>50</td>\n",
       "      <td>50</td>\n",
       "      <td>40</td>\n",
       "      <td>3</td>\n",
       "      <td>False</td>\n",
       "    </tr>\n",
       "    <tr>\n",
       "      <th>310</th>\n",
       "      <td>Manectric</td>\n",
       "      <td>Electric</td>\n",
       "      <td>NaN</td>\n",
       "      <td>475</td>\n",
       "      <td>70</td>\n",
       "      <td>75</td>\n",
       "      <td>60</td>\n",
       "      <td>105</td>\n",
       "      <td>60</td>\n",
       "      <td>105</td>\n",
       "      <td>3</td>\n",
       "      <td>False</td>\n",
       "    </tr>\n",
       "    <tr>\n",
       "      <th>165</th>\n",
       "      <td>Ledyba</td>\n",
       "      <td>Bug</td>\n",
       "      <td>Flying</td>\n",
       "      <td>265</td>\n",
       "      <td>40</td>\n",
       "      <td>20</td>\n",
       "      <td>30</td>\n",
       "      <td>40</td>\n",
       "      <td>80</td>\n",
       "      <td>55</td>\n",
       "      <td>2</td>\n",
       "      <td>False</td>\n",
       "    </tr>\n",
       "  </tbody>\n",
       "</table>\n",
       "</div>"
      ],
      "text/plain": [
       "          Name    Type 1  Type 2  Total  HP  Attack  Defense  Sp. Atk  \\\n",
       "ID                                                                      \n",
       "324    Torkoal      Fire     NaN    470  70      85      140       85   \n",
       "49    Venomoth       Bug  Poison    450  70      65       60       90   \n",
       "258     Mudkip     Water     NaN    310  50      70       50       50   \n",
       "310  Manectric  Electric     NaN    475  70      75       60      105   \n",
       "165     Ledyba       Bug  Flying    265  40      20       30       40   \n",
       "\n",
       "     Sp. Def  Speed  Generation  Legendary  \n",
       "ID                                          \n",
       "324       70     20           3      False  \n",
       "49        75     90           1      False  \n",
       "258       50     40           3      False  \n",
       "310       60    105           3      False  \n",
       "165       80     55           2      False  "
      ]
     },
     "execution_count": 3,
     "metadata": {},
     "output_type": "execute_result"
    }
   ],
   "source": [
    "df = df.loc[df['Generation']<=3]\n",
    "df.sample(frac=1).head() #sample the whole dataset (frac=1) to shuffle the arrangement"
   ]
  },
  {
   "cell_type": "code",
   "execution_count": 4,
   "metadata": {},
   "outputs": [
    {
     "name": "stdout",
     "output_type": "stream",
     "text": [
      "Percent of Non-Legendary Pokemon: 0.95\n",
      "Percent of Legendary Pokemon: 0.05\n"
     ]
    }
   ],
   "source": [
    "print('Percent of Non-Legendary Pokemon: %.2f' %((df.Legendary.count()-df.Legendary.sum())/df.Legendary.count()))\n",
    "print('Percent of Legendary Pokemon: %.2f' %((df.Legendary.sum())/df.Legendary.count()))"
   ]
  },
  {
   "cell_type": "markdown",
   "metadata": {},
   "source": [
    "We can see that the classes are quite unevenly distributed. To remedy this, we will randomly select 5 Legendary and 5 Non-Legendary Pokemon to act as our samples to be clustered."
   ]
  },
  {
   "cell_type": "code",
   "execution_count": 5,
   "metadata": {},
   "outputs": [],
   "source": [
    "legendary = df.loc[df['Legendary'] == True].sample(5)\n",
    "non_legendary = df.loc[df['Legendary'] == False].sample(5)\n",
    "pokemon = pd.concat([legendary,non_legendary])"
   ]
  },
  {
   "cell_type": "markdown",
   "metadata": {},
   "source": [
    "To further simplify the problem, and not worry about the encoding of categorical data, we will only consider numerical values in our clustering of the data."
   ]
  },
  {
   "cell_type": "code",
   "execution_count": 6,
   "metadata": {},
   "outputs": [],
   "source": [
    "numerical_columns = ['Total','HP','Attack','Defense','Sp. Atk','Sp. Def','Speed']"
   ]
  },
  {
   "cell_type": "code",
   "execution_count": 7,
   "metadata": {},
   "outputs": [
    {
     "data": {
      "text/html": [
       "<div>\n",
       "<style scoped>\n",
       "    .dataframe tbody tr th:only-of-type {\n",
       "        vertical-align: middle;\n",
       "    }\n",
       "\n",
       "    .dataframe tbody tr th {\n",
       "        vertical-align: top;\n",
       "    }\n",
       "\n",
       "    .dataframe thead th {\n",
       "        text-align: right;\n",
       "    }\n",
       "</style>\n",
       "<table border=\"1\" class=\"dataframe\">\n",
       "  <thead>\n",
       "    <tr style=\"text-align: right;\">\n",
       "      <th></th>\n",
       "      <th>Total</th>\n",
       "      <th>HP</th>\n",
       "      <th>Attack</th>\n",
       "      <th>Defense</th>\n",
       "      <th>Sp. Atk</th>\n",
       "      <th>Sp. Def</th>\n",
       "      <th>Speed</th>\n",
       "    </tr>\n",
       "    <tr>\n",
       "      <th>ID</th>\n",
       "      <th></th>\n",
       "      <th></th>\n",
       "      <th></th>\n",
       "      <th></th>\n",
       "      <th></th>\n",
       "      <th></th>\n",
       "      <th></th>\n",
       "    </tr>\n",
       "  </thead>\n",
       "  <tbody>\n",
       "    <tr>\n",
       "      <th>243</th>\n",
       "      <td>580</td>\n",
       "      <td>90</td>\n",
       "      <td>85</td>\n",
       "      <td>75</td>\n",
       "      <td>115</td>\n",
       "      <td>100</td>\n",
       "      <td>115</td>\n",
       "    </tr>\n",
       "    <tr>\n",
       "      <th>378</th>\n",
       "      <td>580</td>\n",
       "      <td>80</td>\n",
       "      <td>50</td>\n",
       "      <td>100</td>\n",
       "      <td>100</td>\n",
       "      <td>200</td>\n",
       "      <td>50</td>\n",
       "    </tr>\n",
       "    <tr>\n",
       "      <th>381</th>\n",
       "      <td>600</td>\n",
       "      <td>80</td>\n",
       "      <td>90</td>\n",
       "      <td>80</td>\n",
       "      <td>130</td>\n",
       "      <td>110</td>\n",
       "      <td>110</td>\n",
       "    </tr>\n",
       "    <tr>\n",
       "      <th>249</th>\n",
       "      <td>680</td>\n",
       "      <td>106</td>\n",
       "      <td>90</td>\n",
       "      <td>130</td>\n",
       "      <td>90</td>\n",
       "      <td>154</td>\n",
       "      <td>110</td>\n",
       "    </tr>\n",
       "    <tr>\n",
       "      <th>380</th>\n",
       "      <td>600</td>\n",
       "      <td>80</td>\n",
       "      <td>80</td>\n",
       "      <td>90</td>\n",
       "      <td>110</td>\n",
       "      <td>130</td>\n",
       "      <td>110</td>\n",
       "    </tr>\n",
       "  </tbody>\n",
       "</table>\n",
       "</div>"
      ],
      "text/plain": [
       "     Total   HP  Attack  Defense  Sp. Atk  Sp. Def  Speed\n",
       "ID                                                       \n",
       "243    580   90      85       75      115      100    115\n",
       "378    580   80      50      100      100      200     50\n",
       "381    600   80      90       80      130      110    110\n",
       "249    680  106      90      130       90      154    110\n",
       "380    600   80      80       90      110      130    110"
      ]
     },
     "execution_count": 7,
     "metadata": {},
     "output_type": "execute_result"
    }
   ],
   "source": [
    "labels = pokemon['Legendary']\n",
    "data = pokemon[numerical_columns].copy()\n",
    "data.head()"
   ]
  },
  {
   "cell_type": "markdown",
   "metadata": {},
   "source": [
    "We now have a dataset which is ready to be processed, but we may not be exactly clear on what to do with it. For that we must further understand how the QAOA process detailed above is actually used to solve a clustering problem."
   ]
  },
  {
   "cell_type": "markdown",
   "metadata": {},
   "source": [
    "<a id=\"maxcut_problem\"></a>\n",
    "\n",
    "## The Maxcut Problem\n",
    "\n",
    "As laid out by [Rigetti's paper on QAOA](https://arxiv.org/pdf/1712.05771.pdf), there are a number of important steps that we must follow to map the problem of clustering into a format which QAOA can process. Broadly speaking, QAOA solves the **MAXCUT** problem, in which a graph of $n$ vertices is separated into two complementary subsets, $S$ and $S^{c}$, such that the number of edges between $S$ and $S^{c}$ is as large as possible.\n",
    "\n",
    "\n",
    "![A depiction of the maxcut problem, displaying a cut which separates white and black vertices.](imgs/maxcut.png \"Title\")\n",
    "\n",
    "*A depiction of the maxcut problem, displaying a cut which separates white and black vertices.*\n",
    "\n",
    "This problem can be made more sophisticated by adding numerical values as <i>weights</i> to the edges, such that the best solution maximizes the sum of weights which separate $S$ and $S^{c}$. This is precisely the approach we take in using MAXCUT to cluster our data. \n",
    "\n",
    "We allow the weights associated to each edge to be some notion of distance between points. In this way, the sets dictated by our optimal cut, $S$ and $S^{c}$, separate the data into binary clusters which are maximally distant (and hence, maximally dissimilar) from one another.\n",
    "\n",
    "From our current understanding, we can already begin to formulate some first steps in preparing our data to fit this frameowrk.\n",
    "\n",
    "We can use the `distances_dataset` function from `entropica_qaoa.utilities` to easily turn this set of points into the desired matrix of pairwise distances. "
   ]
  },
  {
   "cell_type": "code",
   "execution_count": 8,
   "metadata": {},
   "outputs": [
    {
     "data": {
      "text/html": [
       "<div>\n",
       "<style scoped>\n",
       "    .dataframe tbody tr th:only-of-type {\n",
       "        vertical-align: middle;\n",
       "    }\n",
       "\n",
       "    .dataframe tbody tr th {\n",
       "        vertical-align: top;\n",
       "    }\n",
       "\n",
       "    .dataframe thead th {\n",
       "        text-align: right;\n",
       "    }\n",
       "</style>\n",
       "<table border=\"1\" class=\"dataframe\">\n",
       "  <thead>\n",
       "    <tr style=\"text-align: right;\">\n",
       "      <th>ID</th>\n",
       "      <th>243</th>\n",
       "      <th>378</th>\n",
       "      <th>381</th>\n",
       "      <th>249</th>\n",
       "      <th>380</th>\n",
       "      <th>131</th>\n",
       "      <th>68</th>\n",
       "      <th>310</th>\n",
       "      <th>296</th>\n",
       "      <th>253</th>\n",
       "    </tr>\n",
       "    <tr>\n",
       "      <th>ID</th>\n",
       "      <th></th>\n",
       "      <th></th>\n",
       "      <th></th>\n",
       "      <th></th>\n",
       "      <th></th>\n",
       "      <th></th>\n",
       "      <th></th>\n",
       "      <th></th>\n",
       "      <th></th>\n",
       "      <th></th>\n",
       "    </tr>\n",
       "  </thead>\n",
       "  <tbody>\n",
       "    <tr>\n",
       "      <th>243</th>\n",
       "      <td>0.000000</td>\n",
       "      <td>128.062485</td>\n",
       "      <td>30.000000</td>\n",
       "      <td>129.892263</td>\n",
       "      <td>41.231056</td>\n",
       "      <td>87.177979</td>\n",
       "      <td>118.321596</td>\n",
       "      <td>116.404467</td>\n",
       "      <td>377.687702</td>\n",
       "      <td>189.868375</td>\n",
       "    </tr>\n",
       "    <tr>\n",
       "      <th>378</th>\n",
       "      <td>128.062485</td>\n",
       "      <td>0.000000</td>\n",
       "      <td>122.474487</td>\n",
       "      <td>137.811465</td>\n",
       "      <td>100.000000</td>\n",
       "      <td>132.287566</td>\n",
       "      <td>164.316767</td>\n",
       "      <td>189.736660</td>\n",
       "      <td>398.293861</td>\n",
       "      <td>235.053185</td>\n",
       "    </tr>\n",
       "    <tr>\n",
       "      <th>381</th>\n",
       "      <td>30.000000</td>\n",
       "      <td>122.474487</td>\n",
       "      <td>0.000000</td>\n",
       "      <td>114.507642</td>\n",
       "      <td>31.622777</td>\n",
       "      <td>107.238053</td>\n",
       "      <td>136.381817</td>\n",
       "      <td>139.642400</td>\n",
       "      <td>401.195713</td>\n",
       "      <td>212.249853</td>\n",
       "    </tr>\n",
       "    <tr>\n",
       "      <th>249</th>\n",
       "      <td>129.892263</td>\n",
       "      <td>137.811465</td>\n",
       "      <td>114.507642</td>\n",
       "      <td>0.000000</td>\n",
       "      <td>98.752215</td>\n",
       "      <td>173.585714</td>\n",
       "      <td>208.307465</td>\n",
       "      <td>239.858291</td>\n",
       "      <td>485.598600</td>\n",
       "      <td>307.866854</td>\n",
       "    </tr>\n",
       "    <tr>\n",
       "      <th>380</th>\n",
       "      <td>41.231056</td>\n",
       "      <td>100.000000</td>\n",
       "      <td>31.622777</td>\n",
       "      <td>98.752215</td>\n",
       "      <td>0.000000</td>\n",
       "      <td>105.830052</td>\n",
       "      <td>137.113092</td>\n",
       "      <td>146.969385</td>\n",
       "      <td>401.444890</td>\n",
       "      <td>215.058132</td>\n",
       "    </tr>\n",
       "    <tr>\n",
       "      <th>131</th>\n",
       "      <td>87.177979</td>\n",
       "      <td>132.287566</td>\n",
       "      <td>107.238053</td>\n",
       "      <td>173.585714</td>\n",
       "      <td>105.830052</td>\n",
       "      <td>0.000000</td>\n",
       "      <td>71.063352</td>\n",
       "      <td>106.536379</td>\n",
       "      <td>323.987654</td>\n",
       "      <td>164.468842</td>\n",
       "    </tr>\n",
       "    <tr>\n",
       "      <th>68</th>\n",
       "      <td>118.321596</td>\n",
       "      <td>164.316767</td>\n",
       "      <td>136.381817</td>\n",
       "      <td>208.307465</td>\n",
       "      <td>137.113092</td>\n",
       "      <td>71.063352</td>\n",
       "      <td>0.000000</td>\n",
       "      <td>97.211110</td>\n",
       "      <td>292.400410</td>\n",
       "      <td>139.463257</td>\n",
       "    </tr>\n",
       "    <tr>\n",
       "      <th>310</th>\n",
       "      <td>116.404467</td>\n",
       "      <td>189.736660</td>\n",
       "      <td>139.642400</td>\n",
       "      <td>239.858291</td>\n",
       "      <td>146.969385</td>\n",
       "      <td>106.536379</td>\n",
       "      <td>97.211110</td>\n",
       "      <td>0.000000</td>\n",
       "      <td>268.882874</td>\n",
       "      <td>78.421936</td>\n",
       "    </tr>\n",
       "    <tr>\n",
       "      <th>296</th>\n",
       "      <td>377.687702</td>\n",
       "      <td>398.293861</td>\n",
       "      <td>401.195713</td>\n",
       "      <td>485.598600</td>\n",
       "      <td>401.444890</td>\n",
       "      <td>323.987654</td>\n",
       "      <td>292.400410</td>\n",
       "      <td>268.882874</td>\n",
       "      <td>0.000000</td>\n",
       "      <td>198.262452</td>\n",
       "    </tr>\n",
       "    <tr>\n",
       "      <th>253</th>\n",
       "      <td>189.868375</td>\n",
       "      <td>235.053185</td>\n",
       "      <td>212.249853</td>\n",
       "      <td>307.866854</td>\n",
       "      <td>215.058132</td>\n",
       "      <td>164.468842</td>\n",
       "      <td>139.463257</td>\n",
       "      <td>78.421936</td>\n",
       "      <td>198.262452</td>\n",
       "      <td>0.000000</td>\n",
       "    </tr>\n",
       "  </tbody>\n",
       "</table>\n",
       "</div>"
      ],
      "text/plain": [
       "ID          243         378         381         249         380         131  \\\n",
       "ID                                                                            \n",
       "243    0.000000  128.062485   30.000000  129.892263   41.231056   87.177979   \n",
       "378  128.062485    0.000000  122.474487  137.811465  100.000000  132.287566   \n",
       "381   30.000000  122.474487    0.000000  114.507642   31.622777  107.238053   \n",
       "249  129.892263  137.811465  114.507642    0.000000   98.752215  173.585714   \n",
       "380   41.231056  100.000000   31.622777   98.752215    0.000000  105.830052   \n",
       "131   87.177979  132.287566  107.238053  173.585714  105.830052    0.000000   \n",
       "68   118.321596  164.316767  136.381817  208.307465  137.113092   71.063352   \n",
       "310  116.404467  189.736660  139.642400  239.858291  146.969385  106.536379   \n",
       "296  377.687702  398.293861  401.195713  485.598600  401.444890  323.987654   \n",
       "253  189.868375  235.053185  212.249853  307.866854  215.058132  164.468842   \n",
       "\n",
       "ID          68          310         296         253  \n",
       "ID                                                   \n",
       "243  118.321596  116.404467  377.687702  189.868375  \n",
       "378  164.316767  189.736660  398.293861  235.053185  \n",
       "381  136.381817  139.642400  401.195713  212.249853  \n",
       "249  208.307465  239.858291  485.598600  307.866854  \n",
       "380  137.113092  146.969385  401.444890  215.058132  \n",
       "131   71.063352  106.536379  323.987654  164.468842  \n",
       "68     0.000000   97.211110  292.400410  139.463257  \n",
       "310   97.211110    0.000000  268.882874   78.421936  \n",
       "296  292.400410  268.882874    0.000000  198.262452  \n",
       "253  139.463257   78.421936  198.262452    0.000000  "
      ]
     },
     "execution_count": 8,
     "metadata": {},
     "output_type": "execute_result"
    }
   ],
   "source": [
    "dist = pd.DataFrame(distances_dataset(data.values),\n",
    "                       index=data.index,columns=data.index)\n",
    "dist"
   ]
  },
  {
   "cell_type": "code",
   "execution_count": 9,
   "metadata": {},
   "outputs": [
    {
     "data": {
      "text/html": [
       "<div>\n",
       "<style scoped>\n",
       "    .dataframe tbody tr th:only-of-type {\n",
       "        vertical-align: middle;\n",
       "    }\n",
       "\n",
       "    .dataframe tbody tr th {\n",
       "        vertical-align: top;\n",
       "    }\n",
       "\n",
       "    .dataframe thead th {\n",
       "        text-align: right;\n",
       "    }\n",
       "</style>\n",
       "<table border=\"1\" class=\"dataframe\">\n",
       "  <thead>\n",
       "    <tr style=\"text-align: right;\">\n",
       "      <th></th>\n",
       "      <th>Name</th>\n",
       "      <th>Type 1</th>\n",
       "      <th>Type 2</th>\n",
       "      <th>Total</th>\n",
       "      <th>HP</th>\n",
       "      <th>Attack</th>\n",
       "      <th>Defense</th>\n",
       "      <th>Sp. Atk</th>\n",
       "      <th>Sp. Def</th>\n",
       "      <th>Speed</th>\n",
       "      <th>Generation</th>\n",
       "      <th>Legendary</th>\n",
       "    </tr>\n",
       "    <tr>\n",
       "      <th>ID</th>\n",
       "      <th></th>\n",
       "      <th></th>\n",
       "      <th></th>\n",
       "      <th></th>\n",
       "      <th></th>\n",
       "      <th></th>\n",
       "      <th></th>\n",
       "      <th></th>\n",
       "      <th></th>\n",
       "      <th></th>\n",
       "      <th></th>\n",
       "      <th></th>\n",
       "    </tr>\n",
       "  </thead>\n",
       "  <tbody>\n",
       "    <tr>\n",
       "      <th>243</th>\n",
       "      <td>Raikou</td>\n",
       "      <td>Electric</td>\n",
       "      <td>NaN</td>\n",
       "      <td>580</td>\n",
       "      <td>90</td>\n",
       "      <td>85</td>\n",
       "      <td>75</td>\n",
       "      <td>115</td>\n",
       "      <td>100</td>\n",
       "      <td>115</td>\n",
       "      <td>2</td>\n",
       "      <td>True</td>\n",
       "    </tr>\n",
       "    <tr>\n",
       "      <th>378</th>\n",
       "      <td>Regice</td>\n",
       "      <td>Ice</td>\n",
       "      <td>NaN</td>\n",
       "      <td>580</td>\n",
       "      <td>80</td>\n",
       "      <td>50</td>\n",
       "      <td>100</td>\n",
       "      <td>100</td>\n",
       "      <td>200</td>\n",
       "      <td>50</td>\n",
       "      <td>3</td>\n",
       "      <td>True</td>\n",
       "    </tr>\n",
       "    <tr>\n",
       "      <th>381</th>\n",
       "      <td>Latios</td>\n",
       "      <td>Dragon</td>\n",
       "      <td>Psychic</td>\n",
       "      <td>600</td>\n",
       "      <td>80</td>\n",
       "      <td>90</td>\n",
       "      <td>80</td>\n",
       "      <td>130</td>\n",
       "      <td>110</td>\n",
       "      <td>110</td>\n",
       "      <td>3</td>\n",
       "      <td>True</td>\n",
       "    </tr>\n",
       "    <tr>\n",
       "      <th>249</th>\n",
       "      <td>Lugia</td>\n",
       "      <td>Psychic</td>\n",
       "      <td>Flying</td>\n",
       "      <td>680</td>\n",
       "      <td>106</td>\n",
       "      <td>90</td>\n",
       "      <td>130</td>\n",
       "      <td>90</td>\n",
       "      <td>154</td>\n",
       "      <td>110</td>\n",
       "      <td>2</td>\n",
       "      <td>True</td>\n",
       "    </tr>\n",
       "    <tr>\n",
       "      <th>380</th>\n",
       "      <td>Latias</td>\n",
       "      <td>Dragon</td>\n",
       "      <td>Psychic</td>\n",
       "      <td>600</td>\n",
       "      <td>80</td>\n",
       "      <td>80</td>\n",
       "      <td>90</td>\n",
       "      <td>110</td>\n",
       "      <td>130</td>\n",
       "      <td>110</td>\n",
       "      <td>3</td>\n",
       "      <td>True</td>\n",
       "    </tr>\n",
       "    <tr>\n",
       "      <th>131</th>\n",
       "      <td>Lapras</td>\n",
       "      <td>Water</td>\n",
       "      <td>Ice</td>\n",
       "      <td>535</td>\n",
       "      <td>130</td>\n",
       "      <td>85</td>\n",
       "      <td>80</td>\n",
       "      <td>85</td>\n",
       "      <td>95</td>\n",
       "      <td>60</td>\n",
       "      <td>1</td>\n",
       "      <td>False</td>\n",
       "    </tr>\n",
       "    <tr>\n",
       "      <th>68</th>\n",
       "      <td>Machamp</td>\n",
       "      <td>Fighting</td>\n",
       "      <td>NaN</td>\n",
       "      <td>505</td>\n",
       "      <td>90</td>\n",
       "      <td>130</td>\n",
       "      <td>80</td>\n",
       "      <td>65</td>\n",
       "      <td>85</td>\n",
       "      <td>55</td>\n",
       "      <td>1</td>\n",
       "      <td>False</td>\n",
       "    </tr>\n",
       "    <tr>\n",
       "      <th>310</th>\n",
       "      <td>Manectric</td>\n",
       "      <td>Electric</td>\n",
       "      <td>NaN</td>\n",
       "      <td>475</td>\n",
       "      <td>70</td>\n",
       "      <td>75</td>\n",
       "      <td>60</td>\n",
       "      <td>105</td>\n",
       "      <td>60</td>\n",
       "      <td>105</td>\n",
       "      <td>3</td>\n",
       "      <td>False</td>\n",
       "    </tr>\n",
       "    <tr>\n",
       "      <th>296</th>\n",
       "      <td>Makuhita</td>\n",
       "      <td>Fighting</td>\n",
       "      <td>NaN</td>\n",
       "      <td>237</td>\n",
       "      <td>72</td>\n",
       "      <td>60</td>\n",
       "      <td>30</td>\n",
       "      <td>20</td>\n",
       "      <td>30</td>\n",
       "      <td>25</td>\n",
       "      <td>3</td>\n",
       "      <td>False</td>\n",
       "    </tr>\n",
       "    <tr>\n",
       "      <th>253</th>\n",
       "      <td>Grovyle</td>\n",
       "      <td>Grass</td>\n",
       "      <td>NaN</td>\n",
       "      <td>405</td>\n",
       "      <td>50</td>\n",
       "      <td>65</td>\n",
       "      <td>45</td>\n",
       "      <td>85</td>\n",
       "      <td>65</td>\n",
       "      <td>95</td>\n",
       "      <td>3</td>\n",
       "      <td>False</td>\n",
       "    </tr>\n",
       "  </tbody>\n",
       "</table>\n",
       "</div>"
      ],
      "text/plain": [
       "          Name    Type 1   Type 2  Total   HP  Attack  Defense  Sp. Atk  \\\n",
       "ID                                                                        \n",
       "243     Raikou  Electric      NaN    580   90      85       75      115   \n",
       "378     Regice       Ice      NaN    580   80      50      100      100   \n",
       "381     Latios    Dragon  Psychic    600   80      90       80      130   \n",
       "249      Lugia   Psychic   Flying    680  106      90      130       90   \n",
       "380     Latias    Dragon  Psychic    600   80      80       90      110   \n",
       "131     Lapras     Water      Ice    535  130      85       80       85   \n",
       "68     Machamp  Fighting      NaN    505   90     130       80       65   \n",
       "310  Manectric  Electric      NaN    475   70      75       60      105   \n",
       "296   Makuhita  Fighting      NaN    237   72      60       30       20   \n",
       "253    Grovyle     Grass      NaN    405   50      65       45       85   \n",
       "\n",
       "     Sp. Def  Speed  Generation  Legendary  \n",
       "ID                                          \n",
       "243      100    115           2       True  \n",
       "378      200     50           3       True  \n",
       "381      110    110           3       True  \n",
       "249      154    110           2       True  \n",
       "380      130    110           3       True  \n",
       "131       95     60           1      False  \n",
       "68        85     55           1      False  \n",
       "310       60    105           3      False  \n",
       "296       30     25           3      False  \n",
       "253       65     95           3      False  "
      ]
     },
     "execution_count": 9,
     "metadata": {},
     "output_type": "execute_result"
    }
   ],
   "source": [
    "df.loc[dist.index]"
   ]
  },
  {
   "cell_type": "markdown",
   "metadata": {},
   "source": [
    "<a id=\"maxcut_to_qubo\"></a>\n",
    "\n",
    "## From Maxcut to QUBO\n",
    "With an understanding of the Maxcut structure which produces our clustered output, we ask ourselves how we can turn what is effectively a graph problem into the setting of an optimization problem. The answer is to map our Maxcut interpretation into a **Quadratic Unconstrainted Binary Optimization** ([QUBO](https://en.wikipedia.org/wiki/Quadratic_unconstrained_binary_optimization)) problem. QUBO problems attempt to minimize a quadratic polynomial with binary variables. Luckily, MAXCUT already has a well-known QUBO cost function. This cost function is sophisticated enough to allow for our pairwise distanes to be meaningfully included, as well as to allow for the inclusion of bias terms on individual samples.\n",
    "\n",
    "$$\n",
    "Cost=-\\sum_{\\langle i j\\rangle} J_{i j} \\sigma_{i} \\sigma_{j}-\\mu \\sum_{j} h_{j} \\sigma_{j}\n",
    "$$\n",
    "\n",
    "To explain the notation:\n",
    "- $\\sigma_{i}$ is the cluster class (-1 or 1) of sample $i$\n",
    "- $J_{i j}$ is the distance between sample $i$ and sample $j$\n",
    "- $h_{j}$ is a bias term on sample $j$ \n",
    "- $\\mu$ is a universal weight applied to all bias terms\n",
    "\n",
    "By convention, a negative sign is applied to the cost function, as above. In quantum mechanics we would denote thie function as $H(\\sigma)$. The symbol $H$ stands for *Hamiltonian*, which is an operator which acts as a sum of the energies of the system. For the scope of this notebook, thinking of $Cost$ as any traditional cost function which we want to minimize will serve us equally as valuable."
   ]
  },
  {
   "cell_type": "markdown",
   "metadata": {},
   "source": [
    "<a id=\"qubo_to_hamiltonian\"></a>\n",
    "\n",
    "## From QUBO to a Hamiltonian\n",
    "Now we must use our data to create the cost function defined above. To make a Hamiltonian that is recognizable by pyQuil, we must use the pyQuil `PauliTerm` object."
   ]
  },
  {
   "cell_type": "code",
   "execution_count": 10,
   "metadata": {},
   "outputs": [],
   "source": [
    "from pyquil.api import WavefunctionSimulator\n",
    "from pyquil.paulis import PauliSum, PauliTerm"
   ]
  },
  {
   "cell_type": "markdown",
   "metadata": {},
   "source": [
    "A `PauliTerm` object can be quadratic or of order one. In the case of it being quadratic, it  represents the relationship between any two samples of data. An order one `PauliTerm` would be an implementation of a bias term - a cost constraint which only affects one variable. Below we show some basic functionality of the `PauliTerm` object."
   ]
  },
  {
   "cell_type": "code",
   "execution_count": 11,
   "metadata": {},
   "outputs": [
    {
     "name": "stdout",
     "output_type": "stream",
     "text": [
      "Distance between samples 3 and 6: 208.307\n"
     ]
    }
   ],
   "source": [
    "#Constructing a quadratic PauliTerm\n",
    "i = 3\n",
    "j = 6\n",
    "print('Distance between samples %d and %d: %.3f' %(i,j,dist.values[i][j]))"
   ]
  },
  {
   "cell_type": "markdown",
   "metadata": {},
   "source": [
    "To create the quadratic term we multiply two Paulis together. Each `PauliTerm` has an accompanying coefficient which is also multiplied. For simplicity's sake, we include the pairwise distance as a coefficient of one factor, and make the other '1.0'."
   ]
  },
  {
   "cell_type": "code",
   "execution_count": 12,
   "metadata": {},
   "outputs": [
    {
     "name": "stdout",
     "output_type": "stream",
     "text": [
      "(208.30746506066458+0j)*Z3*Z6\n"
     ]
    }
   ],
   "source": [
    "term1 = PauliTerm(\"Z\",i,dist.values[i][j])\n",
    "term2 = PauliTerm(\"Z\",j,1.0) \n",
    "term = term1*term2\n",
    "print(term)"
   ]
  },
  {
   "cell_type": "markdown",
   "metadata": {},
   "source": [
    "Feel free to play with the coefficient number of `term2` to see how it affects the output of the cell.\n",
    "\n",
    "For those new to quantum computing, you're likely wondering what the purpose of the letter 'Z' is. It indicates that this `PauliTerm` is a Z operator.\n",
    "\n",
    "You may also note that our sample numbers, $i=3$ and $j=6$, have found their way into the printed output. Including $i$ and $j$ in each `PauliTerm` tells pyQuil which samples or **qubits** the operation is applied to. That's right, in the QAOA setup we consider each datapoint to be mapped to a qubit. Thus, the above printed statement actually means:\n",
    "\n",
    "    Apply a penalty of 186.548 should sample 3 and sample 6 be in the same class. \n",
    "\n",
    "Or in a more quantum-intuitive sense:\n",
    "\n",
    "    Apply a penalty of 186.548 should qubit 3 and qubit 6 both be found to be in the same\n",
    "    spin state (spin up or spin down). \n",
    "\n",
    "Thus, as QAOA tries to minimize the cost function, sample 3 and 6 will only appear in the same class if this configuration is optimal. The choice of our weights as the distances between the samples implies, that in a \"good\" configuration samples that lie far apart will end up in different classes.\n",
    "\n",
    "We can see now that to make the Hamiltonian for our system we must iterate over each distance in our distance matrix, and assign it within a `PauliTerm` as the interaction strength between the appropriate qubits."
   ]
  },
  {
   "cell_type": "code",
   "execution_count": 13,
   "metadata": {},
   "outputs": [
    {
     "name": "stdout",
     "output_type": "stream",
     "text": [
      "(128.06248474865697+0j)*Z0*Z1 + (30+0j)*Z0*Z2 + (129.89226304903613+0j)*Z0*Z3 + (41.23105625617661+0j)*Z0*Z4 + (87.17797887081348+0j)*Z0*Z5 + (118.32159566199232+0j)*Z0*Z6 + (116.40446726822816+0j)*Z0*Z7 + (377.68770167957547+0j)*Z0*Z8 + (189.86837546047525+0j)*Z0*Z9 + (122.47448713915891+0j)*Z1*Z2 + (137.81146541561773+0j)*Z1*Z3 + (100+0j)*Z1*Z4 + (132.28756555322954+0j)*Z1*Z5 + (164.31676725154983+0j)*Z1*Z6 + (189.73665961010275+0j)*Z1*Z7 + (398.29386136369214+0j)*Z1*Z8 + (235.05318547086316+0j)*Z1*Z9 + (114.50764166639709+0j)*Z2*Z3 + (31.622776601683793+0j)*Z2*Z4 + (107.23805294763608+0j)*Z2*Z5 + (136.38181696985856+0j)*Z2*Z6 + (139.64240043768942+0j)*Z2*Z7 + (401.1957128385098+0j)*Z2*Z8 + (212.24985276791125+0j)*Z2*Z9 + (98.75221516502808+0j)*Z3*Z4 + (173.5857136978732+0j)*Z3*Z5 + (208.30746506066458+0j)*Z3*Z6 + (239.8582914972922+0j)*Z3*Z7 + (485.59859966849166+0j)*Z3*Z8 + (307.8668543380401+0j)*Z3*Z9 + (105.83005244258362+0j)*Z4*Z5 + (137.11309200802089+0j)*Z4*Z6 + (146.9693845669907+0j)*Z4*Z7 + (401.4448903647922+0j)*Z4*Z8 + (215.05813167606567+0j)*Z4*Z9 + (71.06335201775947+0j)*Z5*Z6 + (106.53637876331258+0j)*Z5*Z7 + (323.9876540857691+0j)*Z5*Z8 + (164.46884203398528+0j)*Z5*Z9 + (97.21111047611791+0j)*Z6*Z7 + (292.4004103964288+0j)*Z6*Z8 + (139.46325680981354+0j)*Z6*Z9 + (268.88287412923864+0j)*Z7*Z8 + (78.4219357067906+0j)*Z7*Z9 + (198.26245232015063+0j)*Z8*Z9\n"
     ]
    }
   ],
   "source": [
    "hamiltonian = hamiltonian_from_distances(dist)\n",
    "print(hamiltonian)"
   ]
  },
  {
   "cell_type": "markdown",
   "metadata": {},
   "source": [
    "The above exercise brings up an important limitation to our present QAOA approach. The number of datapoints we are able to use is limited by the number of qubits we have available."
   ]
  },
  {
   "cell_type": "markdown",
   "metadata": {},
   "source": [
    "<a id=\"apply_qaoa\"></a>\n",
    "\n",
    "## Minimize the Hamiltonian with QAOA\n",
    "\n",
    "Now that we have mapped the clustering problem to a Hamiltonian it is time to find the spin class assignments/spin configuration that minimizes our cost function. We do this using the QAOA algorithm. First we need to import the neccesary bits and pieces:"
   ]
  },
  {
   "cell_type": "code",
   "execution_count": 14,
   "metadata": {},
   "outputs": [],
   "source": [
    "# import the neccesary pyquil modules\n",
    "from entropica_qaoa.qaoa.cost_function import QAOACostFunctionOnQVM, QAOACostFunctionOnWFSim\n",
    "\n",
    "# import QAOAParameters \n",
    "from entropica_qaoa.qaoa.parameters import ExtendedParams\n",
    "\n",
    "# import an optimizer\n",
    "from scipy.optimize import minimize\n",
    "\n",
    "#Some utilities for time tracking and measuring our outcomes.\n",
    "import time\n",
    "from math import log"
   ]
  },
  {
   "cell_type": "markdown",
   "metadata": {},
   "source": [
    "Now we can set up the _hyperparameters_ (problem parameters that remain fixed for this problem instance):"
   ]
  },
  {
   "cell_type": "code",
   "execution_count": 15,
   "metadata": {},
   "outputs": [],
   "source": [
    "timesteps = 3 # The QAOA p parameter\n",
    "iters = 500 # Number of classical optimiser iterations\n",
    "n_qubits = 10 #this number might be defined before your dataset - should equal the number of data points\n",
    "#The hamiltonian is also a hyperparameter"
   ]
  },
  {
   "cell_type": "markdown",
   "metadata": {},
   "source": [
    "And of course also the parameters need to be chosen. In this QAOA run, we will use `ExtendedParameters`. This parameter class provides the most degrees of freedom for our optimizer to explore the energy landscape. Conversely, it also has the most parameters to optimize and thus will take longer to converge. \n",
    "\n",
    "To instantiate this parameter class, we need to pass in three separate lists of angles.\n",
    "- $\\vec{\\beta}$: every timestep requires $n_{qubits}$ beta rotations. Thus there are $n_{qubits}\\times timestep$ beta values.\n",
    "- $\\vec{\\gamma}_{pairs}$: there is a gamma rotation for every two-qubit interaction. A simple way to come up with this number is to measure the length of your hamiltonian subtracted by the number of single qubit bias terms in place.\n",
    "- $\\vec{\\gamma}_{singles}$: there is a gamma single rotation for each bias term included in the hamiltonian.\n",
    "\n",
    "We randomly generate these lists as their initial starting states are somewhat redunant. They will be optimized over 100s of iterations!"
   ]
  },
  {
   "cell_type": "code",
   "execution_count": 16,
   "metadata": {},
   "outputs": [],
   "source": [
    "betas = [round(val,1) for val in np.random.rand(timesteps*n_qubits)]\n",
    "gammas_singles = [round(val,1) for val in np.random.rand(0)] #we don't want any bias terms\n",
    "gammas_pairs = [round(val,1) for val in np.random.rand(timesteps*len(hamiltonian))]\n",
    "\n",
    "hyperparameters = (hamiltonian, timesteps)\n",
    "parameters = (betas, gammas_singles, gammas_pairs)\n",
    "\n",
    "params = ExtendedParams(hyperparameters, parameters)"
   ]
  },
  {
   "cell_type": "markdown",
   "metadata": {},
   "source": [
    "Before starting the simulator, make sure you are running Rigetti's QVM and Quil Compiler by running `qvm -S` and `qvm -R` in two open and disposable terminals\n",
    "\n",
    "**First QAOA Run: 3 Timesteps, 500 Iterations**"
   ]
  },
  {
   "cell_type": "code",
   "execution_count": 17,
   "metadata": {},
   "outputs": [],
   "source": [
    "# Set up the WavefunctionSimulator from pyQuil\n",
    "sim = WavefunctionSimulator()\n",
    "cost_function = QAOACostFunctionOnWFSim(hamiltonian,\n",
    "                                        params=params,\n",
    "                                        sim=sim,\n",
    "                                        enable_logging=True)"
   ]
  },
  {
   "cell_type": "code",
   "execution_count": 18,
   "metadata": {},
   "outputs": [
    {
     "name": "stdout",
     "output_type": "stream",
     "text": [
      "Run complete!\n",
      " Runtime: 50.006\n"
     ]
    }
   ],
   "source": [
    "t0 = time.time()\n",
    "res = minimize(cost_function, params.raw(), tol=1e-3, method='Cobyla',\n",
    "               options={\"maxiter\": iters})\n",
    "print('Run complete!\\n','Runtime:','{:.3f}'.format(time.time()-t0))"
   ]
  },
  {
   "cell_type": "code",
   "execution_count": 19,
   "metadata": {},
   "outputs": [],
   "source": [
    "wave_func = cost_function.get_wavefunction(params.raw())\n",
    "lowest = max_probability_bitstring(wave_func.probabilities())"
   ]
  },
  {
   "cell_type": "code",
   "execution_count": 20,
   "metadata": {},
   "outputs": [
    {
     "name": "stdout",
     "output_type": "stream",
     "text": [
      "True Labels of samples: [1, 1, 1, 1, 1, 0, 0, 0, 0, 0]\n",
      "Lowest QAOA State: [1, 1, 1, 0, 0, 1, 0, 1, 1, 0]\n",
      "Accuracy of Original State: 50.0 %\n",
      "Accuracy of Complement State: 50.0 %\n"
     ]
    }
   ],
   "source": [
    "true_clusters = [1 if val else 0 for val in labels] \n",
    "acc = evaluate_state(lowest,true_clusters)"
   ]
  },
  {
   "cell_type": "markdown",
   "metadata": {},
   "source": [
    "We can analyze the optimizer to see whether or not our QAOA run converged. For the full message, run:\n",
    "```python\n",
    "print(res)\n",
    "```"
   ]
  },
  {
   "cell_type": "code",
   "execution_count": 21,
   "metadata": {},
   "outputs": [
    {
     "name": "stdout",
     "output_type": "stream",
     "text": [
      "Cost Function Value: -249.50035302264575\n",
      "Converged?: Maximum number of function evaluations has been exceeded.\n"
     ]
    }
   ],
   "source": [
    "print('Cost Function Value:', res.fun)\n",
    "print('Converged?:',res.message)"
   ]
  },
  {
   "cell_type": "markdown",
   "metadata": {},
   "source": [
    "We can see we did not converge. Let's tighten up our operations by wrapping our QAOA runs in a function and increase the number of iterations."
   ]
  },
  {
   "cell_type": "code",
   "execution_count": 22,
   "metadata": {},
   "outputs": [],
   "source": [
    "def run_qaoa(hamiltonian, params, timesteps=3, max_iters=150, init_state=None): \n",
    "    cost_function = QAOACostFunctionOnWFSim(hamiltonian,\n",
    "                                            params=params,\n",
    "                                            initial_state=init_state)\n",
    "    res = minimize(cost_function, params.raw(), tol=1e-3, method='Cobyla',\n",
    "                          options={\"maxiter\" : max_iters})\n",
    "    \n",
    "    return cost_function.get_wavefunction(params.raw()), res"
   ]
  },
  {
   "cell_type": "code",
   "execution_count": 23,
   "metadata": {},
   "outputs": [
    {
     "name": "stdout",
     "output_type": "stream",
     "text": [
      "Run complete\n",
      " Runtime: 153.241\n"
     ]
    }
   ],
   "source": [
    "t0 = time.time()\n",
    "wave_func, res = run_qaoa(hamiltonian, params, timesteps=3, max_iters=1500)\n",
    "print('Run complete\\n','Runtime:','{:.3f}'.format(time.time()-t0))"
   ]
  },
  {
   "cell_type": "code",
   "execution_count": 24,
   "metadata": {},
   "outputs": [],
   "source": [
    "lowest = max_probability_bitstring(wave_func.probabilities())"
   ]
  },
  {
   "cell_type": "code",
   "execution_count": 25,
   "metadata": {},
   "outputs": [
    {
     "name": "stdout",
     "output_type": "stream",
     "text": [
      "True Labels of samples: [1, 1, 1, 1, 1, 0, 0, 0, 0, 0]\n",
      "Lowest QAOA State: [1, 0, 1, 1, 1, 0, 1, 1, 0, 0]\n",
      "Accuracy of Original State: 70.0 %\n",
      "Accuracy of Complement State: 30.000000000000004 %\n",
      "Cost Function Value: -536.0258299280376\n",
      "Converged?: Maximum number of function evaluations has been exceeded.\n"
     ]
    }
   ],
   "source": [
    "true_clusters = [1 if val else 0 for val in labels] \n",
    "acc = evaluate_state(lowest,true_clusters)\n",
    "\n",
    "print('Cost Function Value:', res.fun)\n",
    "print('Converged?:',res.message)"
   ]
  },
  {
   "cell_type": "markdown",
   "metadata": {},
   "source": [
    "You should find that increasing the number of allowed iterations gives a more accurate answer. The precise numbers will depend on which Pokemons are randomly selected at the beginning."
   ]
  }
 ],
 "metadata": {
  "kernelspec": {
   "display_name": "Python 3",
   "language": "python",
   "name": "python3"
  },
  "language_info": {
   "codemirror_mode": {
    "name": "ipython",
    "version": 3
   },
   "file_extension": ".py",
   "mimetype": "text/x-python",
   "name": "python",
   "nbconvert_exporter": "python",
   "pygments_lexer": "ipython3",
   "version": "3.7.3"
  }
 },
 "nbformat": 4,
 "nbformat_minor": 2
}
