{
 "cells": [
  {
   "cell_type": "markdown",
   "metadata": {},
   "source": [
    "# A demo how to work with QAOA Parameter classes\n",
    "\n",
    "This notebook illustrates the use of the various QAOA parameter classes."
   ]
  },
  {
   "cell_type": "code",
   "execution_count": 5,
   "metadata": {},
   "outputs": [
    {
     "ename": "ImportError",
     "evalue": "cannot import name 'ExtendedParams' from 'forest_qaoa.qaoa.parameters' (/home/ewan/anaconda3/lib/python3.7/site-packages/forest_qaoa/qaoa/parameters.py)",
     "output_type": "error",
     "traceback": [
      "\u001b[0;31m---------------------------------------------------------------------------\u001b[0m",
      "\u001b[0;31mImportError\u001b[0m                               Traceback (most recent call last)",
      "\u001b[0;32m<ipython-input-5-9921a1b07eb7>\u001b[0m in \u001b[0;36m<module>\u001b[0;34m\u001b[0m\n\u001b[1;32m      8\u001b[0m \u001b[0;34m\u001b[0m\u001b[0m\n\u001b[1;32m      9\u001b[0m \u001b[0;31m# import the QAOAParameters that we want to demo\u001b[0m\u001b[0;34m\u001b[0m\u001b[0;34m\u001b[0m\u001b[0;34m\u001b[0m\u001b[0m\n\u001b[0;32m---> 10\u001b[0;31m \u001b[0;32mfrom\u001b[0m \u001b[0mforest_qaoa\u001b[0m\u001b[0;34m.\u001b[0m\u001b[0mqaoa\u001b[0m\u001b[0;34m.\u001b[0m\u001b[0mparameters\u001b[0m \u001b[0;32mimport\u001b[0m \u001b[0mAbstractParams\u001b[0m\u001b[0;34m,\u001b[0m \u001b[0mExtendedParams\u001b[0m\u001b[0;34m,\u001b[0m \u001b[0mStandardParams\u001b[0m\u001b[0;34m,\u001b[0m \u001b[0mAnnealingParams\u001b[0m\u001b[0;34m,\u001b[0m\u001b[0;31m\\\u001b[0m\u001b[0;34m\u001b[0m\u001b[0;34m\u001b[0m\u001b[0m\n\u001b[0m\u001b[1;32m     11\u001b[0m                             \u001b[0mFourierParams\u001b[0m\u001b[0;34m,\u001b[0m \u001b[0mQAOAParameterIterator\u001b[0m\u001b[0;34m\u001b[0m\u001b[0;34m\u001b[0m\u001b[0m\n",
      "\u001b[0;31mImportError\u001b[0m: cannot import name 'ExtendedParams' from 'forest_qaoa.qaoa.parameters' (/home/ewan/anaconda3/lib/python3.7/site-packages/forest_qaoa/qaoa/parameters.py)"
     ]
    }
   ],
   "source": [
    "# import the standard modules from python\n",
    "import numpy as np\n",
    "import matplotlib.pyplot as plt\n",
    "from typing import Type, Iterable\n",
    "\n",
    "# import the neccesary pyquil modules\n",
    "from pyquil.paulis import PauliSum, PauliTerm\n",
    "\n",
    "# import the QAOAParameters classes \n",
    "from forest_qaoa.qaoa.parameters import AbstractParams, ExtendedParams, StandardParams, AnnealingParams,\\\n",
    "                                        FourierParams, QAOAParameterIterator"
   ]
  },
  {
   "cell_type": "markdown",
   "metadata": {},
   "source": [
    "## Creating the problem Hamiltonian and setting up *hyperparameters*\n",
    "\n",
    "In general, the QAOA consists of two different types of parameters, which we will refer to as *hyperparameters* and *variable parameters*. This section covers the hyperparameters, while the section below focuses on the variable parameters. The hyperparameters are those parameters that remain fixed throughout our computation, while the variable parameters are those that we modify in seeking the optimial problem solution.\n",
    "\n",
    "The hyperparameters may be divided into two sets:\n",
    "\n",
    "1) Those originating from the cost Hamiltonian: \n",
    "\n",
    "  - the qubit register (the qubits to be used in the algorithm); \n",
    "  - the qubits with a bias term (their own $Z$ term in the Hamiltonian), and the corresponding coefficients; \n",
    "  - the qubit pairs that interact (through a $ZZ$ term in the Hamiltonian), along with the corresponding 'coupling' coefficients.\n",
    "\n",
    "2) The number of QAOA steps we wish to perform, frequently referred to as the QAOA '$p$' parameter.\n",
    "\n",
    "There are several ways of creating the problem Hamiltonian of interest. Ultimately, it should be in the form of a Pyquil `PauliSum` object: see __[Rigetti's documentation](http://docs.rigetti.com/en/stable/apidocs/pauli.html#)__ on the `PauliSum` and `PauliTerm` classes for more information on working with these. \n",
    "\n",
    "For example, let's create the simple Hamiltonian\n",
    " \n",
    "\\begin{equation}\n",
    "H = 0.7Z_0Z_1 + 1.2Z_0Z_2 -0.5Z_0\n",
    "\\end{equation}\n",
    "\n",
    "Using `PauliTerm` and `PauliSum` directly, this can be implemented as follows."
   ]
  },
  {
   "cell_type": "code",
   "execution_count": 2,
   "metadata": {},
   "outputs": [
    {
     "name": "stdout",
     "output_type": "stream",
     "text": [
      "hamiltonian = (0.7+0j)*Z0*Z1 + (1.2+0j)*Z0*Z2 + (-0.5+0j)*Z0\n"
     ]
    }
   ],
   "source": [
    "# create a hamiltonian on 3 qubits with 2 coupling terms and 1 bias term\n",
    "Term1 = PauliTerm(\"Z\", 0, 0.7)*PauliTerm(\"Z\", 1, 1.0)\n",
    "Term2 = PauliTerm(\"Z\", 0, 1.2)*PauliTerm(\"Z\", 2, 1.0)\n",
    "Term3 = PauliTerm(\"Z\", 0, -0.5)\n",
    "\n",
    "hamiltonian = PauliSum([Term1,Term2,Term3])\n",
    "print(\"hamiltonian =\", hamiltonian)"
   ]
  },
  {
   "cell_type": "markdown",
   "metadata": {},
   "source": [
    "Another particularly easy way to create the Hamiltonian is using the `from_compact_str` method:"
   ]
  },
  {
   "cell_type": "code",
   "execution_count": 3,
   "metadata": {},
   "outputs": [
    {
     "name": "stdout",
     "output_type": "stream",
     "text": [
      "hamiltonian = (0.7+0j)*Z0*Z1 + (1.2+0j)*Z0*Z2 + (-0.5+0j)*Z0\n"
     ]
    }
   ],
   "source": [
    "hamiltonian = PauliSum.from_compact_str(\"0.7*Z0*Z1 + 1.2*Z0*Z2 + (-0.5)*Z0\")\n",
    "print(\"hamiltonian =\", hamiltonian)"
   ]
  },
  {
   "cell_type": "markdown",
   "metadata": {},
   "source": [
    "Having specified the problem Hamiltonian, we next move on to defining the QAOA parameters we want to use in our quantum circuit.\n",
    "\n",
    "## QAOA parameter classes\n",
    "\n",
    "While with the VQE we must find both good circuit ansatze and good parametrisations, in QAOA the former is fixed to be the alternate application of the mixer operator (also referred to as the *driver* or *reference* operator) and the cost operator (sometimes also referred to as the *phase separation* operator). The goal is then to find the parameters that optimise the cost function when evaluated with resepct to the quantum state produced by the circuit. \n",
    "\n",
    "We have a considerable degree of flexibility in choosing how to parametrise a QAOA problem. We can choose a smaller set of parameters, where the optimisation landscape has lower dimension at the expense of reduced expressivity. Or, we can choose a larger set, where we can generate a wider set of quantum states with lower circuit depth, but the corresponding optimisation landscape has a higher dimension. The larger the set of parameters we have to optimise over, the more difficult it can become to find the optimal solution.\n",
    "\n",
    "\n",
    "\n",
    "The variable parameters are those we wish to optimise, which in turn depend on the specific parametrisation for the circuit we have chosen. \n",
    "\n",
    "- The `StandardParams` class implements the original form of the QAOA, as described in __[Ref 1](https://arxiv.org/abs/1411.4028)__. In time step $q$ of the algorithm, the mixer and cost Hamiltonians are applied with coefficients $\\beta^{(q)}$ and $\\gamma^{(q)}$, respectively, giving a total of $2p$ parameters over which we need to optimise. For example for a depth-2 ($p=2$) circuit, the unitary operator corresponding to the QAOA circuit would take the form\n",
    "\n",
    "\\begin{equation}\n",
    "U(\\beta_1,\\beta_2,\\gamma_1,\\gamma_2) = \\exp\\left(i\\beta^{(2)} H_{M}\\right)\\exp\\left(i\\gamma^{(2)} H_{C}\\right)\\exp\\left(i\\beta^{(1)} H_{M}\\right)\\exp\\left(i\\gamma^{(1)} H_{C}\\right)\n",
    "\\end{equation}\n",
    "\n",
    "where the mixer Hamiltonian is given by $H_M = \\sum_j X_j$, and the cost Hamiltonian is given by $H_C = \\sum_j h_j Z_j + (1/2)\\sum_{j,k} g_{j,k} Z_jZ_k$.\n",
    "\n",
    "- For the `ExtendedParams` class, each operator in both the cost and mixer Hamiltonians has its own angle, so that the set of variable parameters are:\n",
    "\n",
    "    - $\\mbox{betas} = \\{\\beta_0^{(1)},...,\\beta_{n-1}^{(1)},\\beta_0^{(2)},...,\\beta_{n-1}^{(2)},...,\\beta_0^{(p)},...,\\beta_{n-1}^{(p)}\\}$, where $\\beta_i^{(q)}$ denotes the mixer Hamiltonian angle for qubit $i$ in the QAOA step $q$.\n",
    "    - $\\mbox{gammas_singles} = \\left\\{ \\{\\gamma_s^{(1)}\\}, \\{\\gamma_s^{(2)}\\},...,\\{\\gamma_s^{(p)}\\}    \\right\\}$, where  where $s$ is the set of qubits with bias terms in the cost Hamiltonian, and $\\{\\gamma_s^{(q)}\\}$ denotes the set of angles corresponding to those bias terms in QAOA step $q$.  \n",
    "    - $\\mbox{gammas_pairs} = \\left\\{ \\{\\Gamma_{\\Pi}^{(1)}\\}, \\{\\Gamma_{\\Pi}^{(2)}\\},...,\\{\\Gamma_{\\Pi}^{(p)}\\}    \\right\\}$, where  where $\\Pi$ is the set of qubits with bias terms in the cost Hamiltonian, and $\\{\\Gamma_{\\Pi}^{(q)}\\}$ denotes the set of angles corresponding to those bias terms in QAOA step $q$.  \n",
    "    \n",
    "    For instance, for a depth-2 circuit the corresponding unitary operator would then become:\n",
    "    \n",
    "\\begin{eqnarray}\n",
    "U\\left(\\vec{\\beta},\\vec{\\gamma},\\vec{\\Gamma}\\right) = &&\\exp\\left(i\\sum_{j}\\beta_{j}^{(2)}X_j\\right)\\exp\\left(i\\sum_{j\\in s} \\gamma_{j}^{(2)}h_{j}Z_j + (i/2)\\sum_{j,k \\in \\Pi}\\Gamma_{jk}^{(2)}g_{jk}Z_jZ_k\\right) \\\\\n",
    "&\\times&\\exp\\left(i\\sum_{j}\\beta_{j}^{(1)}X_j\\right)\\exp\\left(i\\sum_{j\\in s} \\gamma_{j}^{(1)}h_{j}Z_j + (i/2)\\sum_{j,k \\in \\Pi}\\Gamma_{jk}^{(1)}g_{jk}Z_jZ_k\\right)\n",
    "\\end{eqnarray}\n",
    "    \n",
    "We currently provide two additional parameter classes that may be of interest, either for didactic or practical purposes.\n",
    "    \n",
    "- `AdiabaticParams` [Explanation and demo to be completed]\n",
    "\n",
    "- `FourierParams` [Explanation and demo to be completed]\n",
    "\n",
    "### Building parameters from the `AbstractParams` class\n",
    "\n",
    "All of the QAOA parameter classes listed above are descendants of the parent class `AbstractParams`. An object belonging to this class is characterised by the problem hyperparameters. We create such an object as follows:"
   ]
  },
  {
   "cell_type": "code",
   "execution_count": 4,
   "metadata": {},
   "outputs": [
    {
     "name": "stdout",
     "output_type": "stream",
     "text": [
      "Hyperparameters:\n",
      "\tregister: [0, 1, 2]\n",
      "\tqubits_singles: [0]\n",
      "\tsingle_qubit_coeffs: [-0.5]\n",
      "\tqubits_pairs: [[0, 1], [0, 2]]\n",
      "\tpair_qubit_coeffs: [0.7 1.2]\n",
      "\ttimesteps: 2\n",
      "\n"
     ]
    }
   ],
   "source": [
    "timesteps = 2\n",
    "abstract_params = AbstractParams([hamiltonian,timesteps])\n",
    "print(abstract_params)"
   ]
  },
  {
   "cell_type": "markdown",
   "metadata": {},
   "source": [
    "Subsequently, we can initalise any of the sets of variable parameters described above by making use of the `AbstractParams` object. For example, let's set up `ExtendedParams` using the `AbstractParams` we have just defined. To do this, we call the `.from_AbstractParameters` method."
   ]
  },
  {
   "cell_type": "code",
   "execution_count": 5,
   "metadata": {},
   "outputs": [
    {
     "name": "stdout",
     "output_type": "stream",
     "text": [
      "Hyperparameters:\n",
      "\tregister: [0, 1, 2]\n",
      "\tqubits_singles: [0]\n",
      "\tqubits_pairs: [[0, 1], [0, 2]]\n",
      "Parameters:\n",
      "\tbetas: [[0.  0.1 0.3], [0.5 0.2 1.2]]\n",
      "\tgammas_singles: [[0. ], [0.5]]\n",
      "\tgammas_pairs: [[0.1 0.3], [0.2 1.2]]\n",
      "\n"
     ]
    }
   ],
   "source": [
    "# Specify some angles\n",
    "betas          = [[0.0, 0.1, 0.3], [0.5, 0.2, 1.2]]\n",
    "gammas_singles = [[0.0], [0.5]]\n",
    "gammas_pairs   = [[0.1, 0.3], [0.2, 1.2]]\n",
    "parameters = (betas, gammas_singles, gammas_pairs)\n",
    "\n",
    "extended_params = ExtendedParams.from_AbstractParameters(myAbstractParams,parameters)\n",
    "print(extended_params)"
   ]
  },
  {
   "cell_type": "markdown",
   "metadata": {},
   "source": [
    "Note that we can also create `ExtendedParams` directly, without first setting up `AbstractParams`. For the case considered above, we would simply do the following:"
   ]
  },
  {
   "cell_type": "code",
   "execution_count": 6,
   "metadata": {},
   "outputs": [
    {
     "name": "stdout",
     "output_type": "stream",
     "text": [
      "Hyperparameters:\n",
      "\tregister: [0, 1, 2]\n",
      "\tqubits_singles: [0]\n",
      "\tqubits_pairs: [[0, 1], [0, 2]]\n",
      "Parameters:\n",
      "\tbetas: [[0.  0.1 0.3], [0.5 0.2 1.2]]\n",
      "\tgammas_singles: [[0. ], [0.5]]\n",
      "\tgammas_pairs: [[0.1 0.3], [0.2 1.2]]\n",
      "\n"
     ]
    }
   ],
   "source": [
    "extended_direct = ExtendedParams([hamiltonian,2],parameters)\n",
    "print(extended_direct)"
   ]
  },
  {
   "cell_type": "markdown",
   "metadata": {},
   "source": [
    "We could set up an object of any of the other parameter classes analogously to the case we have illustrated above for `ExtendedParams`, either directly, or through `AbstractParams`. The benefit of the latter method is that it allows multiple different parametrisations to be set up from the same underlying set of `hyperparameters`.\n",
    "\n",
    "\n",
    "For all parameter classes, we also provide the `.linear_ramp_from_hamiltonian()` method, which automatically produces a set of parameters obeying a linear ramp for the number of timesteps specified. [TODO: EXPLAIN THIS IN MORE DETAIL HERE OR ELSEWHERE]. For example:"
   ]
  },
  {
   "cell_type": "code",
   "execution_count": 7,
   "metadata": {},
   "outputs": [
    {
     "name": "stdout",
     "output_type": "stream",
     "text": [
      "Hyperparameters:\n",
      "\tregister: [0, 1, 2]\n",
      "\tqubits_singles: [0]\n",
      "\tqubits_pairs: [[0, 1], [0, 2]]\n",
      "Parameters:\n",
      "\tbetas: [0.375 0.125]\n",
      "\tgammas_singles: [0.125 0.375]\n",
      "\tgammas_pairs: [0.125 0.375]\n",
      "\n"
     ]
    }
   ],
   "source": [
    "timesteps = 2      # equivalent to p in Farhi's original QAOA paper\n",
    "time = 1            # total time of the annealing schedule\n",
    "params = StandardParams.linear_ramp_from_hamiltonian(hamiltonian, timesteps, time = time) \n",
    "print(params)"
   ]
  },
  {
   "cell_type": "markdown",
   "metadata": {},
   "source": [
    "[@JANLUKAS: Should we include an explanation somewhere of the factor of 0.7 used to define the angles? Otherwise the above may look a little weird to the user at first]\n",
    "\n",
    "\n",
    "We see that if we print `params`, it gives us the timesteps, the angles, and on which combinations of qubits they act. But we can also have a look at the _internal_ `x_rotation_angles`, `z_rotation_angles` and `zz_rotation_angles` that were automatically calculated under the hood. These are the rotation angles for the different Pauli operators in the actual execution of the quantum circuit, i.e. in the time evolution operator (the exponentiated Hamiltonian); they are determined by products of the `parameters` and the `coefficients` in the Hamiltonian itself [TODO: REPLACE `coefficients` WITH THE ACTUAL NAMES OF THE PARAMS. ALSO WORD THIS BETTER TO MAKE CLEAR WHAT HAPPENS WITH THE MIXER HAMILTONIAN]."
   ]
  },
  {
   "cell_type": "code",
   "execution_count": 8,
   "metadata": {},
   "outputs": [
    {
     "name": "stdout",
     "output_type": "stream",
     "text": [
      "\n",
      " x_rotation_angles:\n",
      " [[0.375 0.375 0.375]\n",
      " [0.125 0.125 0.125]]\n",
      "\n",
      " z_rotation_angles:\n",
      " [[-0.0625]\n",
      " [-0.1875]]\n",
      "\n",
      " zz_rotation_angles:\n",
      " [[0.0875 0.15  ]\n",
      " [0.2625 0.45  ]]\n"
     ]
    }
   ],
   "source": [
    "print(\"\\n x_rotation_angles:\\n\", params.x_rotation_angles)\n",
    "print(\"\\n z_rotation_angles:\\n\", params.z_rotation_angles)\n",
    "print(\"\\n zz_rotation_angles:\\n\", params.zz_rotation_angles)"
   ]
  },
  {
   "cell_type": "markdown",
   "metadata": {},
   "source": [
    "In a standard workflow, we would then pass these `params` to a cost_function that has been built with `qaoa.cost_function.QAOACostFunctionOnQVM` or with `qaoa.cost_function.QAOACostFunctionOnWFSim`. To do so, we first arrange the `params` in a single 'raw' list of parameters in the form [`betas`,`gammas_singles`,`gammas_pairs`]:"
   ]
  },
  {
   "cell_type": "code",
   "execution_count": 9,
   "metadata": {},
   "outputs": [
    {
     "data": {
      "text/plain": [
       "array([0.375, 0.125, 0.125, 0.375, 0.125, 0.375])"
      ]
     },
     "execution_count": 9,
     "metadata": {},
     "output_type": "execute_result"
    }
   ],
   "source": [
    "raw_params = params.raw()\n",
    "raw_params"
   ]
  },
  {
   "cell_type": "markdown",
   "metadata": {},
   "source": [
    "## What happens when an invalid set of parameters are passed to a `QAOAParameter` class?\n",
    "\n",
    "Here give an example of what happens if the user specifies too many or too few parameters for the choice of parametrisation they want to use..."
   ]
  },
  {
   "cell_type": "markdown",
   "metadata": {},
   "source": [
    "## Modifying parameters"
   ]
  },
  {
   "cell_type": "markdown",
   "metadata": {},
   "source": [
    "We may wish to modify the parameters that have been set up, before running QAOA with them. The two ways we can do this are to modify the `params` or the `raw_params`."
   ]
  },
  {
   "cell_type": "code",
   "execution_count": 10,
   "metadata": {},
   "outputs": [
    {
     "name": "stdout",
     "output_type": "stream",
     "text": [
      "Hyperparameters:\n",
      "\tregister: [0, 1, 2]\n",
      "\tqubits_singles: [0]\n",
      "\tqubits_pairs: [[0, 1], [0, 2]]\n",
      "Parameters:\n",
      "\tbetas: [0.375 0.125]\n",
      "\tgammas_singles: [0.125 0.375]\n",
      "\tgammas_pairs: [0.125 0.375]\n",
      "\n",
      "\n",
      " x_rotation_angles:\n",
      " [[0.375 0.375 0.375]\n",
      " [0.125 0.125 0.125]]\n",
      "\n",
      " z_rotation_angles:\n",
      " [[-0.0625]\n",
      " [-0.1875]]\n",
      "\n",
      " zz_rotation_angles:\n",
      " [[0.0875 0.15  ]\n",
      " [0.2625 0.45  ]]\n"
     ]
    }
   ],
   "source": [
    "# Current params and under-the-hood equivalents\n",
    "print(params)\n",
    "print(\"\\n x_rotation_angles:\\n\", params.x_rotation_angles)\n",
    "print(\"\\n z_rotation_angles:\\n\", params.z_rotation_angles)\n",
    "print(\"\\n zz_rotation_angles:\\n\", params.zz_rotation_angles)"
   ]
  },
  {
   "cell_type": "markdown",
   "metadata": {},
   "source": [
    "Let's modify the first `betas` parameter:"
   ]
  },
  {
   "cell_type": "code",
   "execution_count": 11,
   "metadata": {},
   "outputs": [
    {
     "name": "stdout",
     "output_type": "stream",
     "text": [
      "Hyperparameters:\n",
      "\tregister: [0, 1, 2]\n",
      "\tqubits_singles: [0]\n",
      "\tqubits_pairs: [[0, 1], [0, 2]]\n",
      "Parameters:\n",
      "\tbetas: [3.14159265 0.125     ]\n",
      "\tgammas_singles: [0.125 0.375]\n",
      "\tgammas_pairs: [0.125 0.375]\n",
      "\n",
      "\n",
      " x_rotation_angles:\n",
      " [[3.14159265 3.14159265 3.14159265]\n",
      " [0.125      0.125      0.125     ]]\n",
      "\n",
      " z_rotation_angles:\n",
      " [[-0.0625]\n",
      " [-0.1875]]\n",
      "\n",
      " zz_rotation_angles:\n",
      " [[0.0875 0.15  ]\n",
      " [0.2625 0.45  ]]\n"
     ]
    }
   ],
   "source": [
    "params.betas[0] = np.pi\n",
    "print(params)\n",
    "print(\"\\n x_rotation_angles:\\n\", params.x_rotation_angles)\n",
    "print(\"\\n z_rotation_angles:\\n\", params.z_rotation_angles)\n",
    "print(\"\\n zz_rotation_angles:\\n\", params.zz_rotation_angles)"
   ]
  },
  {
   "cell_type": "markdown",
   "metadata": {},
   "source": [
    "If we know the index of the parameter(s) we wish to vary in the `raw` list, we can also modify them there."
   ]
  },
  {
   "cell_type": "markdown",
   "metadata": {},
   "source": [
    "## Iterating over parameter ranges\n",
    "\n",
    "We may sometimes want to investigate what happens if we vary one of the parameters over some specfied range, keeping all others fixed. The `QAOAParameterIterator` class gives a convenient way of doing this.\n",
    "\n",
    "For the parameters above, we could for example take one of the gammas_singles to iterate over. Suppose we take the second one, gammas_singles[1], and we want to vary it in steps of size 1/3 between 0 and 1:"
   ]
  },
  {
   "cell_type": "code",
   "execution_count": 12,
   "metadata": {},
   "outputs": [
    {
     "name": "stdout",
     "output_type": "stream",
     "text": [
      "Parameters at step0:\n",
      "Hyperparameters:\n",
      "\tregister: [0, 1, 2]\n",
      "\tqubits_singles: [0]\n",
      "\tqubits_pairs: [[0, 1], [0, 2]]\n",
      "Parameters:\n",
      "\tbetas: [3.14159265 0.125     ]\n",
      "\tgammas_singles: [0.125 0.   ]\n",
      "\tgammas_pairs: [0.125 0.375]\n",
      "\n",
      "Parameters at step1:\n",
      "Hyperparameters:\n",
      "\tregister: [0, 1, 2]\n",
      "\tqubits_singles: [0]\n",
      "\tqubits_pairs: [[0, 1], [0, 2]]\n",
      "Parameters:\n",
      "\tbetas: [3.14159265 0.125     ]\n",
      "\tgammas_singles: [0.125  0.3334]\n",
      "\tgammas_pairs: [0.125 0.375]\n",
      "\n",
      "Parameters at step2:\n",
      "Hyperparameters:\n",
      "\tregister: [0, 1, 2]\n",
      "\tqubits_singles: [0]\n",
      "\tqubits_pairs: [[0, 1], [0, 2]]\n",
      "Parameters:\n",
      "\tbetas: [3.14159265 0.125     ]\n",
      "\tgammas_singles: [0.125  0.6668]\n",
      "\tgammas_pairs: [0.125 0.375]\n",
      "\n"
     ]
    }
   ],
   "source": [
    "the_range = np.arange(0, 1, 0.3334)\n",
    "the_parameter = \"gammas_singles[1]\"\n",
    "iterator= QAOAParameterIterator(params, the_parameter, the_range)\n",
    "for i,p in zip(range(len(the_range)),iterator):\n",
    "    print('Parameters at step' + str(i) + ':')\n",
    "    print(p)"
   ]
  },
  {
   "cell_type": "markdown",
   "metadata": {},
   "source": [
    "As expected, in the loop all parameters stay constant except for `gammas_singles[1]` which went up in steps of thirds. \n",
    "\n",
    "Of course, we can also nest these iterators to sweep two-dimensional paramter landscapes. For instance, suppose we now sweep over parameter ranges for both `gammas_singles[1]` and `gammas_pairs[0]`:"
   ]
  },
  {
   "cell_type": "code",
   "execution_count": 13,
   "metadata": {},
   "outputs": [
    {
     "name": "stdout",
     "output_type": "stream",
     "text": [
      "[0.125 0.   ]\n",
      "[100.      0.375]\n",
      "[0.125 0.   ]\n",
      "[100.5     0.375]\n",
      "[0.125 0.5  ]\n",
      "[100.      0.375]\n",
      "[0.125 0.5  ]\n",
      "[100.5     0.375]\n"
     ]
    }
   ],
   "source": [
    "range1 = np.arange(0,1,0.5)\n",
    "range2 = np.arange(100,101,0.5)\n",
    "for j in QAOAParameterIterator(params, \"gammas_singles[1]\", range1):\n",
    "    for p in QAOAParameterIterator(j, \"gammas_pairs[0]\", range2):\n",
    "        print(p.gammas_singles)\n",
    "        print(p.gammas_pairs)"
   ]
  },
  {
   "cell_type": "markdown",
   "metadata": {},
   "source": [
    "We can nest iterators arbitrarily, which allows for parameter sweeps and subsequent landscape analysis of any desired set of parameters. This functionality will be demoed in a separate notebook."
   ]
  },
  {
   "cell_type": "code",
   "execution_count": 14,
   "metadata": {},
   "outputs": [
    {
     "name": "stdout",
     "output_type": "stream",
     "text": [
      "[0. 0.] [0.    0.375]\n",
      "[0. 0.] [0.5   0.375]\n",
      "[0.  0.5] [0.    0.375]\n",
      "[0.  0.5] [0.5   0.375]\n",
      "[0.5 0. ] [0.    0.375]\n",
      "[0.5 0. ] [0.5   0.375]\n",
      "[0.5 0.5] [0.    0.375]\n",
      "[0.5 0.5] [0.5   0.375]\n"
     ]
    }
   ],
   "source": [
    "# Sweep over three parameters\n",
    "\n",
    "iterator1 = QAOAParameterIterator(params,\"betas[0]\",np.arange(0,1,0.5))\n",
    "for p1 in iterator1:\n",
    "    iterator2 = QAOAParameterIterator(p1,\"betas[1]\",np.arange(0,1,0.5))\n",
    "    for p2 in iterator2:\n",
    "        iterator3 = QAOAParameterIterator(p2,\"gammas_pairs[0]\",np.arange(0,1,0.5))\n",
    "        for j in iterator3:\n",
    "            print(j.betas,j.gammas_pairs)\n",
    "            "
   ]
  },
  {
   "cell_type": "markdown",
   "metadata": {},
   "source": [
    "## References\n",
    "\n",
    "1. E. Farhi et al, __[*A Quantum Approximate Optimization Algorithm*](https://arxiv.org/abs/1411.4028)__\n",
    "\n",
    "2. L. Zhou et al, __[*Quantum Approximate Optimization Algorithm: Performance, Mechanism, and Implementation on Near-Term Devices*](https://arxiv.org/abs/1812.01041)__"
   ]
  },
  {
   "cell_type": "code",
   "execution_count": null,
   "metadata": {},
   "outputs": [],
   "source": []
  }
 ],
 "metadata": {
  "kernelspec": {
   "display_name": "Python 3",
   "language": "python",
   "name": "python3"
  },
  "language_info": {
   "codemirror_mode": {
    "name": "ipython",
    "version": 3
   },
   "file_extension": ".py",
   "mimetype": "text/x-python",
   "name": "python",
   "nbconvert_exporter": "python",
   "pygments_lexer": "ipython3",
   "version": "3.7.3"
  }
 },
 "nbformat": 4,
 "nbformat_minor": 2
}
