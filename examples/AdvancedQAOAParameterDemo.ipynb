{
 "cells": [
  {
   "cell_type": "markdown",
   "metadata": {},
   "source": [
    "# Additional QAOA parameter classes\n",
    "\n",
    "This notebook demonstrates the use of the `Annealing` and `Fourier` parameter classes included in the `entropica_qaoa` package."
   ]
  },
  {
   "cell_type": "code",
   "execution_count": 1,
   "metadata": {},
   "outputs": [],
   "source": [
    "# import the standard modules from python\n",
    "import numpy as np\n",
    "import matplotlib.pyplot as plt\n",
    "\n",
    "# import the neccesary pyquil modules\n",
    "from pyquil.paulis import PauliSum, PauliTerm\n",
    "\n",
    "# import the QAOAParameters classes \n",
    "from entropica_qaoa.qaoa.parameters import AbstractParams, AnnealingParams, FourierParams"
   ]
  },
  {
   "cell_type": "markdown",
   "metadata": {},
   "source": [
    "## The `Annealing` parameter class\n",
    "\n",
    "In quantum annealing, we start in the ground state of a _mixer_ (or _reference_) Hamiltonian $H_M$, and gradually transform to the ground state of a _cost_ Hamiltonian $H_C$ according to some annealing schedule function $s(t)$. If the transformation is infintessimally slow, we are guaranteed to arrive at the exact ground state of the cost Hamiltonian. If the transformation is performed over some finite time, we hope to prepare the ground state of $H_C$ with some acceptably high probability.\n",
    "\n",
    "At any time $t$ during the procedure, the instantaneous Hamiltonian is given by\n",
    "\n",
    "\\begin{equation}\n",
    "H(t) = \\left(1 - s(t)\\right)H_M + s(t)H_C\n",
    "\\end{equation}\n",
    "\n",
    "where $s(0) = 0$, and $s(t = T) = 1$, and $T$ is the total annealing time. We see that the strengths with which $H_M$ and $H_C$ act at a given time are related: the mixer is applied with a weight $(1 - s(t))$, and the cost Hamiltonian with weight $s(t)$. \n",
    "\n",
    "The QAOA can be viewed as a form of discretised annealing, where the procedure is performed in a fixed number of steps commonly denoted $p$. Furthermore, the coefficients of the mixer and cost Hamiltonians need not be related in the simple way that they are in a conventional annealing schedule.\n",
    "\n",
    "The `AnnealingParams` parameter class illustrates what is perhaps the first conceptual step towards the more conventionally used parametrisations of QAOA. Using `AnnealingParams`, we prepare an output quantum state with a circuit described by the unitary operator\n",
    "\n",
    "\\begin{equation}\n",
    "U = \\exp\\left(-i(1-s(t_p)) H_M \\Delta t\\right)\\exp\\left(-i s(t_p) H_C \\Delta t\\right) \\cdots \\exp\\left(-i(1-s(t_1)H_M \\Delta t\\right) \\exp\\left(-i s(t_1) H_C \\Delta t\\right)\n",
    "\\end{equation}\n",
    "\n",
    "Here, we have a fixed temporal step of size $\\Delta t$, and we need to specify what the values of the annealing schedule function should be at the different timesteps. That is, we need to provide a list of the values of $s(t_i$) for $i = 1,..,p$.\n",
    "\n",
    "Here we illustrate the use of the `AnnealingParams` class, whose value we envisage primarily as a didactic or research tool. First, set up the Hamiltonian as usual."
   ]
  },
  {
   "cell_type": "code",
   "execution_count": 2,
   "metadata": {},
   "outputs": [
    {
     "name": "stdout",
     "output_type": "stream",
     "text": [
      "hamiltonian = (0.7+0j)*Z0*Z1 + (1.2+0j)*Z0*Z2 + (-0.5+0j)*Z0\n"
     ]
    }
   ],
   "source": [
    "# Create a hamiltonian on 3 qubits with 2 coupling terms and 1 bias term\n",
    "Term1 = PauliTerm(\"Z\", 0, 0.7)*PauliTerm(\"Z\", 1)\n",
    "Term2 = PauliTerm(\"Z\", 0, 1.2)*PauliTerm(\"Z\", 2)\n",
    "Term3 = PauliTerm(\"Z\", 0, -0.5)\n",
    "\n",
    "hamiltonian = PauliSum([Term1,Term2,Term3])\n",
    "print(\"hamiltonian =\", hamiltonian)"
   ]
  },
  {
   "cell_type": "markdown",
   "metadata": {},
   "source": [
    "Now we must provide a list of values for the annealing schedule function. Here we will choose the function $s(t_i) = i^2/p^2$ over $p$ time steps (for illustrative purposes only - not in any way endorsed as a go-to choice of schedule!)"
   ]
  },
  {
   "cell_type": "code",
   "execution_count": 3,
   "metadata": {},
   "outputs": [
    {
     "data": {
      "image/png": "[encoded data removed]",
      "text/plain": [
       "<Figure size 432x288 with 1 Axes>"
      ]
     },
     "metadata": {
      "needs_background": "light"
     },
     "output_type": "display_data"
    }
   ],
   "source": [
    "p = 11\n",
    "schedule = [(i/10)**2 for i in range(p)]\n",
    "\n",
    "plt.plot(range(11),schedule)\n",
    "plt.xlabel(\"QAOA step $i$\", fontsize=14)\n",
    "plt.ylabel(\"$s(t_i)$\", fontsize=14)\n",
    "plt.show()"
   ]
  },
  {
   "cell_type": "code",
   "execution_count": 4,
   "metadata": {},
   "outputs": [
    {
     "name": "stdout",
     "output_type": "stream",
     "text": [
      "Parameters:\n",
      "\tschedule: [0.   0.01 0.04 0.09 0.16 0.25 0.36 0.49 0.64 0.81 1.  ]\n"
     ]
    }
   ],
   "source": [
    "T = 1 # total annealing time\n",
    "annealing_params = AnnealingParams([hamiltonian, p, T],schedule)\n",
    "print(annealing_params)"
   ]
  },
  {
   "cell_type": "markdown",
   "metadata": {},
   "source": [
    "## The `Fourier` parameter class\n",
    "\n",
    "This parameter class originated from attempts to find heuristic ways of reducing the number of parameters required to perform QAOA. Based on empirical observations in patterns of the optimal QAOA angles, Zhuo et al (see [Ref 2](#references)) proposed considering the discrete Fourier transforms of `betas` and `gammas` as an alternative, more economical parametrisation.\n",
    "\n",
    "The basic idea kicks off from  the conventional QAOA parametrisation, what we call the `StandardParams` class. Here, at each iteration in QAOA we have one angle for all of the mixer Hamiltonian terms, and one angle for all of the cost Hamiltonian terms. That is, the parametrisation requires the specification of $2p$ numbers, a `beta` and a `gamma` for each timestep.\n",
    "\n",
    "In the Fourier representation, we switch instead to a set of $2q$ parameters, denoted $\\vec{v}$ and $\\vec{u}$, which are related to $\\vec{\\beta}$ and $\\vec{\\gamma}$ by\n",
    "\n",
    "\\begin{eqnarray}\n",
    "\\beta_i^{(p)} &=& \\sum_{k=1}^q v_k \\cos\\left[ \\left(k - \\frac{1}{2}\\right) \\left(i - \\frac{1}{2}\\right) \\frac{\\pi}{p} \\right]\\\\\n",
    "\\gamma_i^{(p)} &=& \\sum_{k=1}^q u_k \\sin\\left[ \\left(k - \\frac{1}{2}\\right) \\left(i - \\frac{1}{2}\\right) \\frac{\\pi}{p} \\right]\n",
    "\\end{eqnarray}\n",
    "\n",
    "where $i = 1,...,p$. The insight of Zhou et al is that the optimal parameters are often smoothly varying functions, and that it should then be possible to use a reduced parameter set consisting of only the lowest $q$ frequency components of those functions. Clearly, for $q\\geq p$ we have the full expressivity of the original parameter set (i.e. the $\\beta$s and $\\gamma$s).\n",
    "\n",
    "In this parametrisation, for fixed $q$ the optimisation problem therefore becomes that of finding the optimal Fourier components $v_k$ and $u_k$. In our implementation, we further allow for the single-qubit bias terms and the two-qubit pair terms to have different angles, so that we in fact have $3q$ parameters:\n",
    "\n",
    "\\begin{eqnarray}\n",
    "\\beta_i^{(p)} &=& \\sum_{k=1}^q v_k \\cos\\left[ \\left(k - \\frac{1}{2}\\right) \\left(i - \\frac{1}{2}\\right) \\frac{\\pi}{p} \\right]\\\\\n",
    "\\gamma_{s_i}^{(p)} &=& \\sum_{k=1}^q u_{s_k} \\sin\\left[ \\left(k - \\frac{1}{2}\\right) \\left(i - \\frac{1}{2}\\right) \\frac{\\pi}{p} \\right] \\\\\n",
    "\\gamma_{\\Pi_i}^{(p)} &=& \\sum_{k=1}^q u_{\\Pi_k} \\sin\\left[ \\left(k - \\frac{1}{2}\\right) \\left(i - \\frac{1}{2}\\right) \\frac{\\pi}{p} \\right]\n",
    "\\end{eqnarray}"
   ]
  },
  {
   "cell_type": "markdown",
   "metadata": {},
   "source": [
    "Let's set up `Fourier` parameters for the simple three-qubit problem considered above, with $p=3$ and keeping only the lowest frequency component, i.e. $q = 1$. This requires us to provide only 3 input parameters:"
   ]
  },
  {
   "cell_type": "code",
   "execution_count": 5,
   "metadata": {},
   "outputs": [
    {
     "name": "stdout",
     "output_type": "stream",
     "text": [
      "Hyperparameters:\n",
      "\tregister: [0, 1, 2]\n",
      "Parameters:\n",
      "\tu_singles: [0.61433681]\n",
      "\tu_pairs: [0.49245776]\n",
      "\tv: [0.6462919]\n",
      "\n"
     ]
    }
   ],
   "source": [
    "Term1 = PauliTerm(\"Z\", 0, 0.7)*PauliTerm(\"Z\", 1)\n",
    "Term2 = PauliTerm(\"Z\", 0, 1.2)*PauliTerm(\"Z\", 2)\n",
    "Term3 = PauliTerm(\"Z\", 0, -0.5)\n",
    "\n",
    "hamiltonian = PauliSum([Term1,Term2,Term3])\n",
    "p = 3\n",
    "q = 1\n",
    "\n",
    "v_param = np.random.rand(q)\n",
    "u_singles_param = np.random.rand(q)\n",
    "u_pairs_param = np.random.rand(q)\n",
    "\n",
    "params = (v_param, u_singles_param, u_pairs_param)\n",
    "fourier_params = FourierParams([hamiltonian, p, q], params)\n",
    "print(fourier_params)"
   ]
  },
  {
   "cell_type": "markdown",
   "metadata": {},
   "source": [
    "<a id='references'></a>"
   ]
  },
  {
   "cell_type": "markdown",
   "metadata": {},
   "source": [
    "## References\n",
    "\n",
    "1. L. Zhou et al, __[*Quantum Approximate Optimization Algorithm: Performance, Mechanism, and Implementation on Near-Term Devices*](https://arxiv.org/abs/1812.01041)__"
   ]
  }
 ],
 "metadata": {
  "kernelspec": {
   "display_name": "Python 3",
   "language": "python",
   "name": "python3"
  },
  "language_info": {
   "codemirror_mode": {
    "name": "ipython",
    "version": 3
   },
   "file_extension": ".py",
   "mimetype": "text/x-python",
   "name": "python",
   "nbconvert_exporter": "python",
   "pygments_lexer": "ipython3",
   "version": "3.7.3"
  }
 },
 "nbformat": 4,
 "nbformat_minor": 2
}
