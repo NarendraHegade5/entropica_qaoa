{
 "cells": [
  {
   "cell_type": "markdown",
   "metadata": {},
   "source": [
    "# Additional QAOA parameter classes\n",
    "\n",
    "Here we illustrate the use of the `Annealing` and `Fourier` parameter classes included in the `entropica_qaoa` package."
   ]
  },
  {
   "cell_type": "markdown",
   "metadata": {},
   "source": [
    "## Discussion:\n",
    " - The arguments `nshots` and `scalar_cost_function` default to `0` and `True` respectively, so they don't have to be passed explicitely. Do we pass them anyways, to indicate to the user that there are some more options, or do we remove them to get shorter and easier to understand code?\n",
    " - The argument `sim` is not neccesary anymore, if it is not passed `QAOACostFunctionOnWFSim` simply gets its own simulator connection. So the same question arises here again.\n",
    " - I found, that `Nelder-Mead` (the default for scipy.optimize.minimize) gets stuck in local minima quite often (at least with) the examples in `AdvancedQAOAParameterDemo` and I needed to pass `method=\"Cobyla\"` often. Do we go with `Nelder-Mead` anyways, because the correct choice of an optimizer is a question that is more appropriate for the more advanced Notebooks?\n",
    " - The part about the perturbations and Fourier being better for NISQ is to be taken with a grain of salt: Changing one of the fourier parameters changes the resulting rotation angles in a correlated, smooth fashion. But the gate noise we see in NISQ technology won't be of that kind!"
   ]
  },
  {
   "cell_type": "code",
   "execution_count": 1,
   "metadata": {},
   "outputs": [],
   "source": [
    "# import the standard modules from python\n",
    "import numpy as np\n",
    "import matplotlib.pyplot as plt\n",
    "from scipy.optimize import minimize\n",
    "\n",
    "# import the neccesary pyquil modules\n",
    "from pyquil.api import local_qvm, WavefunctionSimulator\n",
    "from pyquil.paulis import PauliSum, PauliTerm\n",
    "from pyquil.unitary_tools import lifted_pauli\n",
    "\n",
    "# import the QAOAParameters classes \n",
    "from entropica_qaoa.qaoa.parameters import AbstractParams, AnnealingParams, StandardParams, FourierParams\n",
    "from entropica_qaoa.qaoa.cost_function import QAOACostFunctionOnWFSim\n",
    "from entropica_qaoa.utilities import *\n",
    "\n",
    "# turn off matplotlib warnings associated with networkx\n",
    "import warnings\n",
    "warnings.filterwarnings(\"ignore\")\n",
    "\n",
    "# Set up the WavefunctionSimulator object\n",
    "sim = WavefunctionSimulator()"
   ]
  },
  {
   "cell_type": "markdown",
   "metadata": {},
   "source": [
    "## The `Annealing` parameter class\n",
    "\n",
    "In quantum annealing, we start in the ground state of a _mixer_ (or _reference_) Hamiltonian $H_M$, and gradually transform to the ground state of a _cost_ Hamiltonian $H_C$, according to some annealing schedule function $s(t)$, where $t$ denotes time. If it were possible to perform the transformation infintessimally slowly, we would be guaranteed to arrive at the exact ground state of the cost Hamiltonian. In practice, the transformation is performed over some finite time, and we hope to prepare the ground state of $H_C$ with some acceptably high probability.\n",
    "\n",
    "At any time $t$ during the procedure, the instantaneous Hamiltonian is given by\n",
    "\n",
    "\\begin{equation}\n",
    "H(t) = \\left(1 - s(t)\\right)H_M + s(t)H_C\n",
    "\\end{equation}\n",
    "\n",
    "where $s(0) = 0$, and $s(t = T) = 1$, and $T$ is the total annealing time. We see that the strengths with which $H_M$ and $H_C$ act at a given time are related: the mixer is applied with a weight $(1 - s(t))$, and the cost Hamiltonian with weight $s(t)$. It is common to view the QAOA as a form of discretised annealing, where the procedure is performed in a fixed number of steps $p$. However, the coefficients of the mixer and cost Hamiltonians need not be related in the simple way that they are in a conventional annealing schedule. \n",
    "\n",
    "The `AnnealingParams` parameter class illustrates what is perhaps the first conceptual step from annealing, towards the more conventionally used parametrisations of QAOA. Using `AnnealingParams`, we prepare an output quantum state with a circuit described by the unitary operator\n",
    "\n",
    "\\begin{equation}\n",
    "U = \\exp\\left(-i(1-s(t_p)) H_M \\Delta t\\right)\\exp\\left(-i s(t_p) H_C \\Delta t\\right) \\cdots \\exp\\left(-i(1-s(t_1))H_M \\Delta t\\right) \\exp\\left(-i s(t_1) H_C \\Delta t\\right)\n",
    "\\end{equation}\n",
    "\n",
    "Here, we have a fixed temporal step of size $\\Delta t$, and we need to specify what the values of the annealing schedule function should be at the different timesteps. That is, we need to provide a list of the values of $s(t_i$) for $i = 1,..,p$.\n",
    "\n",
    "Here we illustrate the use of the `AnnealingParams` class, whose value we envisage primarily as a didactic or research tool. Specifically, let's compare the annealing parametrisation with the `StandardParams` parametrisation.\n",
    "\n",
    "First, we set up the Hamiltonian as usual."
   ]
  },
  {
   "cell_type": "code",
   "execution_count": 2,
   "metadata": {},
   "outputs": [
    {
     "name": "stdout",
     "output_type": "stream",
     "text": [
      "hamiltonian = (0.7+0j)*Z0*Z1 + (1.2+0j)*Z0*Z2 + (-0.5+0j)*Z0\n"
     ]
    }
   ],
   "source": [
    "# Create a hamiltonian on 3 qubits with 2 coupling terms and 1 bias term\n",
    "Term1 = PauliTerm(\"Z\", 0, 0.7)*PauliTerm(\"Z\", 1)\n",
    "Term2 = PauliTerm(\"Z\", 0, 1.2)*PauliTerm(\"Z\", 2)\n",
    "Term3 = PauliTerm(\"Z\", 0, -0.5)\n",
    "\n",
    "hamiltonian = PauliSum([Term1,Term2,Term3])\n",
    "print(\"hamiltonian =\", hamiltonian)"
   ]
  },
  {
   "cell_type": "markdown",
   "metadata": {},
   "source": [
    "We'll use the `linear_ramp_from_hamiltonian` method to determine the values of the function $s$ at the different timesteps."
   ]
  },
  {
   "cell_type": "code",
   "execution_count": 3,
   "metadata": {
    "scrolled": true
   },
   "outputs": [
    {
     "name": "stdout",
     "output_type": "stream",
     "text": [
      "Hyperparameters:\n",
      "\tregister: [0, 1, 2]\n",
      "\tqubits_singles: [0]\n",
      "\tqubits_pairs: [[0, 1], [0, 2]]\n",
      "Parameters:\n",
      "\tschedule: [0.1 0.3 0.5 0.7 0.9]\n"
     ]
    }
   ],
   "source": [
    "p = 5\n",
    "linear_annealing_params = AnnealingParams.linear_ramp_from_hamiltonian(hamiltonian, p)\n",
    "print(linear_annealing_params)"
   ]
  },
  {
   "cell_type": "markdown",
   "metadata": {},
   "source": [
    "Now let's optimise the cost function and examine the corresponing output parameters."
   ]
  },
  {
   "cell_type": "code",
   "execution_count": 4,
   "metadata": {},
   "outputs": [
    {
     "name": "stdout",
     "output_type": "stream",
     "text": [
      "expectation value =  0.8842123953517933\n"
     ]
    },
    {
     "data": {
      "image/png": "[encoded data removed]",
      "text/plain": [
       "<Figure size 432x288 with 1 Axes>"
      ]
     },
     "metadata": {
      "needs_background": "light"
     },
     "output_type": "display_data"
    }
   ],
   "source": [
    "# set up the cost function\n",
    "cost_anneal = QAOACostFunctionOnWFSim(hamiltonian,\n",
    "                                        params=linear_annealing_params,\n",
    "                                        sim=sim,\n",
    "                                        scalar_cost_function=True, \n",
    "                                        nshots=1)\n",
    "\n",
    "# and optimize the parameters\n",
    "res_anneal = minimize(cost_anneal, linear_annealing_params.raw(), method=\"Cobyla\")\n",
    "\n",
    "print(\"expectation value = \", res_anneal.fun)\n",
    "\n",
    "linear_annealing_params.update_from_raw(res_anneal.x)\n",
    "linear_annealing_params.plot()"
   ]
  },
  {
   "cell_type": "markdown",
   "metadata": {},
   "source": [
    "Now let's solve the same problem using `StandardParams`."
   ]
  },
  {
   "cell_type": "code",
   "execution_count": 5,
   "metadata": {},
   "outputs": [
    {
     "name": "stdout",
     "output_type": "stream",
     "text": [
      "expectation value =  2.465110393272632\n"
     ]
    },
    {
     "data": {
      "image/png": "[encoded data removed]",
      "text/plain": [
       "<Figure size 432x288 with 1 Axes>"
      ]
     },
     "metadata": {
      "needs_background": "light"
     },
     "output_type": "display_data"
    }
   ],
   "source": [
    "standard_params = StandardParams.linear_ramp_from_hamiltonian(hamiltonian,p)\n",
    "\n",
    "cost_standard = QAOACostFunctionOnWFSim(hamiltonian,\n",
    "                                        params=standard_params,\n",
    "                                        sim=sim,\n",
    "                                        scalar_cost_function=True,\n",
    "                                        nshots=1)\n",
    "\n",
    "res_std = minimize(cost_standard, standard_params.raw(), method=\"Cobyla\")\n",
    "\n",
    "print(\"expectation value = \", res_std.fun)\n",
    "standard_params.update_from_raw(res_std.x)\n",
    "standard_params.plot()"
   ]
  },
  {
   "cell_type": "markdown",
   "metadata": {},
   "source": [
    "Notice that at least for this simple problem, the expectation values obtained are comparable, yet we use half the number of parameters in `AnnealingParams` as `StandardParams`.\n",
    "\n",
    "In the optimal `StandardParams`, we see a rather erratic but overall downward (upward) trend in the betas (gammas), which is conistent with the annealing picture that the mixer Hamiltonian is gradually turned off, and the cost Hamiltonian is gradually turned on. \n",
    "\n",
    "Following [Ref 1](#references), we can attempt to make a connection between the two pictures, by interpreting the sum of all the betas and all the gammas as a total annealing time. We can then define the corresponding annealing schedule function value at each time as\n",
    "\n",
    "\\begin{equation}\n",
    "s(t_i) = \\frac{\\gamma_i}{\\beta_i + \\gamma_i}\n",
    "\\end{equation}\n",
    "\n",
    "When we plot this function, we see a similar behaviour to that observed above."
   ]
  },
  {
   "cell_type": "code",
   "execution_count": 6,
   "metadata": {},
   "outputs": [
    {
     "data": {
      "image/png": "[encoded data removed]",
      "text/plain": [
       "<Figure size 432x288 with 1 Axes>"
      ]
     },
     "metadata": {
      "needs_background": "light"
     },
     "output_type": "display_data"
    }
   ],
   "source": [
    "opt_betas = standard_params.betas\n",
    "opt_gammas = standard_params.gammas\n",
    "hybrid_params = [opt_gammas[i]/(opt_gammas[i] + opt_betas[i]) for i in range(p)]\n",
    "\n",
    "plt.plot(range(p),hybrid_params)\n",
    "plt.xlabel('Timesteps', fontsize=12)\n",
    "plt.ylabel('$s(t_i)$', fontsize=12)\n",
    "plt.show()"
   ]
  },
  {
   "cell_type": "markdown",
   "metadata": {},
   "source": [
    "## The `Fourier` parameter class\n",
    "\n",
    "This parameter class originated from attempts to find heuristic ways of reducing the number of parameters required to perform QAOA. Based on empirical observations in patterns of the optimal QAOA angles, Zhuo et al (see [Ref 1](#references)) proposed considering the discrete Fourier transforms of `betas` and `gammas` as an alternative, more economical parametrisation.\n",
    "\n",
    "The basic idea kicks off from  the conventional QAOA parametrisation, i.e. what we call the `StandardParams` class. Here, at each iteration in QAOA we have one angle for all of the mixer Hamiltonian terms, and one angle for all of the cost Hamiltonian terms. That is, the `StandardParams` parametrisation requires the specification of $2p$ numbers, a `beta` and a `gamma` for each timestep.\n",
    "\n",
    "In the Fourier representation, we switch instead to a set of $2q$ parameters, denoted $\\vec{v}$ and $\\vec{u}$, which are related to $\\vec{\\beta}$ and $\\vec{\\gamma}$ by\n",
    "\n",
    "\\begin{eqnarray}\n",
    "\\beta_i^{(p)} &=& \\sum_{k=1}^q v_k \\cos\\left[ \\left(k - \\frac{1}{2}\\right) \\left(i - \\frac{1}{2}\\right) \\frac{\\pi}{p} \\right]\\\\\n",
    "\\gamma_i^{(p)} &=& \\sum_{k=1}^q u_k \\sin\\left[ \\left(k - \\frac{1}{2}\\right) \\left(i - \\frac{1}{2}\\right) \\frac{\\pi}{p} \\right]\n",
    "\\end{eqnarray}\n",
    "\n",
    "where $i = 1,...,p$. The insight of Zhou et al is that the optimal parameters found are often empirically seen to be smoothly varying functions for certain problems, and that it should then be possible to use a reduced parameter set consisting of only the lowest $q$ frequency components of those functions. Clearly, for $q\\geq p$ we have the full expressivity of the original parameter set (i.e. the $\\beta$s and $\\gamma$s). In this parametrisation, for fixed $q$, the optimisation problem therefore becomes that of finding the optimal Fourier components $v_k$ and $u_k$. \n",
    "\n",
    "In [Ref 1](#references), the authors show that certain variants of this basic Fourier parametrisation can perform significantly better than a  randomised brute force search through parameter space, for MaxCut problems on 3-regular and 4-regular graphs. Here, we will compare `FourierParams` and `StandardParams` for different instances of a relatively small problem. \n",
    "\n",
    "We will consider 3-regular graphs on 8 nodes, and use the `linear_ramp_from_hamiltonian` method to generate intial parameters for each of the two classes. We generate a random problem instance, and find the optimial ground state energy returned using the two parametrisations. We then compute the relative error of each from the true ground state energy. \n",
    "\n",
    "First define a convenience function:"
   ]
  },
  {
   "cell_type": "code",
   "execution_count": 7,
   "metadata": {},
   "outputs": [],
   "source": [
    "def randgraph_fourier_std(degree,nodes,p,q):\n",
    "    \n",
    "    # Generate a random graph\n",
    "    graph = random_k_regular_graph(degree, nodes, weighted=True)\n",
    "    hamiltonian = hamiltonian_from_graph(graph)\n",
    "    \n",
    "    # Get ground state energy\n",
    "    hamiltonian_matrix = lifted_pauli(hamiltonian, hamiltonian.get_qubits())\n",
    "    ground_energy = min(np.linalg.eigvals(hamiltonian_matrix))\n",
    "    \n",
    "    # Define Fourier params and run optimisation\n",
    "    fourier_params = FourierParams.linear_ramp_from_hamiltonian(hamiltonian, p, q)\n",
    "    cost_fourier = QAOACostFunctionOnWFSim(hamiltonian, params=fourier_params, sim=sim)\n",
    "    res_fourier = minimize(cost_fourier, fourier_params.raw())\n",
    "    \n",
    "    # Define Standard params and run optimisation\n",
    "    std_params = StandardParams.linear_ramp_from_hamiltonian(hamiltonian, p)\n",
    "    cost_std = QAOACostFunctionOnWFSim(hamiltonian, params=std_params, sim=sim)\n",
    "    res_std = minimize(cost_std, std_params.raw())\n",
    "    \n",
    "    return res_fourier, res_std, ground_energy, hamiltonian"
   ]
  },
  {
   "cell_type": "markdown",
   "metadata": {},
   "source": [
    "We'll start by setting $p=q$, where in principle the `FourierParams` and the `StandardParams` have equal expressivity."
   ]
  },
  {
   "cell_type": "code",
   "execution_count": 8,
   "metadata": {},
   "outputs": [
    {
     "name": "stdout",
     "output_type": "stream",
     "text": [
      "Mean error using FourierParams:  0.18215125736042825\n",
      "Mean error using StandardParams:  0.18215125736059715\n"
     ]
    }
   ],
   "source": [
    "p = 3\n",
    "q = 3\n",
    "\n",
    "samples = 20 # Note: with samples = 20, this cell should take around 5 minutes to run on a standard laptop.\n",
    "\n",
    "err_fourier = np.zeros(samples)\n",
    "err_std = np.zeros(samples)\n",
    "\n",
    "for i in range(samples):\n",
    "    \n",
    "    res_fourier, res_std, ground_energy, _ = randgraph_fourier_std(3, 8, p, q)\n",
    "\n",
    "    # Compute relative error \n",
    "    err_fourier[i] = np.absolute((res_fourier.fun - ground_energy)/ground_energy)\n",
    "    err_std[i] = np.absolute((res_std.fun - ground_energy)/ground_energy)\n",
    "    \n",
    "print(\"Mean error using FourierParams: \", np.mean(err_fourier))\n",
    "print(\"Mean error using StandardParams: \", np.mean(err_std))"
   ]
  },
  {
   "cell_type": "markdown",
   "metadata": {},
   "source": [
    "In the naive way we have applied it here, the `Fourier` parametrisation appears to perform worse than the `Standard` parametrisation. However, let's check how senstive the optimal parameters are to random perturbations. We'll do this by solving a fixed instance once to obtain the base case optimal parameters, `opt_fourier_params` and `opt_std_params`. We'll then randomly modify each of these and solve the problem again, in each case recording the relative error from the actual ground state energy."
   ]
  },
  {
   "cell_type": "code",
   "execution_count": 9,
   "metadata": {},
   "outputs": [
    {
     "name": "stdout",
     "output_type": "stream",
     "text": [
      "Mean error with perturbed FourierParams:  0.5826601034049548\n",
      "Mean error with perturbed StandardParams:  0.4945448404179296\n"
     ]
    }
   ],
   "source": [
    "res_fourier, res_std, ground_energy, hamiltonian = randgraph_fourier_std(3,8,p,q)\n",
    "\n",
    "opt_fourier_params = res_fourier.x\n",
    "opt_std_params = res_std.x\n",
    "\n",
    "\n",
    "# Template set of Params to get right shape - but can get rid of the need to do this later.\n",
    "fourier_template = FourierParams.linear_ramp_from_hamiltonian(hamiltonian,p,q)\n",
    "std_template = StandardParams.linear_ramp_from_hamiltonian(hamiltonian,p)\n",
    "\n",
    "samples = 20\n",
    "\n",
    "err_perturbed_fourier = np.zeros(samples)\n",
    "err_perturbed_std = np.zeros(samples)\n",
    "\n",
    "for i in range(samples):\n",
    "    \n",
    "    perturbed_fourier = opt_fourier_params + np.random.rand(len(opt_fourier_params))\n",
    "    fourier_template.update_from_raw(perturbed_fourier) \n",
    "    cost_fourier = QAOACostFunctionOnWFSim(hamiltonian,params=fourier_template, sim=sim)\n",
    "    res_fourier = minimize(cost_fourier, fourier_template.raw())\n",
    "    \n",
    "    perturbed_std = opt_std_params + np.random.rand(len(opt_std_params))\n",
    "    std_template.update_from_raw(perturbed_std)\n",
    "    cost_std = QAOACostFunctionOnWFSim(hamiltonian, params=std_template, sim=sim)\n",
    "    res_std = minimize(cost_std, std_template.raw())\n",
    "    \n",
    "    err_perturbed_fourier[i] = np.absolute((res_fourier.fun - ground_energy)/ground_energy)\n",
    "    err_perturbed_std[i] = np.absolute((res_std.fun - ground_energy)/ground_energy)\n",
    "    \n",
    "print(\"Mean error with perturbed FourierParams: \", np.mean(err_perturbed_fourier))\n",
    "print(\"Mean error with perturbed StandardParams: \", np.mean(err_perturbed_std))"
   ]
  },
  {
   "cell_type": "markdown",
   "metadata": {},
   "source": [
    "At least in this simple case, the optimal Fourier parameters seem to be significantly more robust to perturbations. In fact, if we examine the individual samples, we see that the Fourier parameters always give the same error, while the error in the Standard params can vary considerably:"
   ]
  },
  {
   "cell_type": "code",
   "execution_count": 10,
   "metadata": {},
   "outputs": [
    {
     "name": "stdout",
     "output_type": "stream",
     "text": [
      "Fourier errors:  [0.66395226 0.50565757 0.67920388 0.7143637  0.63682036 0.58541563\n",
      " 0.48712838 0.58541563 0.48712838 0.77728778 0.66395226 0.73516023\n",
      " 0.25185804 0.67029398 0.82588319 0.28222062 0.36971041 0.5185687\n",
      " 0.50565757 0.70752347]\n",
      "\n",
      "Standard errors:  [0.28222062 0.7053034  0.7053034  0.67591472 0.80798519 0.47737806\n",
      " 0.67591472 0.7053034  0.28222062 0.50565757 0.2165032  0.2165032\n",
      " 0.50565757 0.47737806 0.84764965 0.47737806 0.50565757 0.28222062\n",
      " 0.26937357 0.26937357]\n"
     ]
    }
   ],
   "source": [
    "print(\"Fourier errors: \", err_perturbed_fourier)\n",
    "print(\"\")\n",
    "print(\"Standard errors: \", err_perturbed_std)"
   ]
  },
  {
   "cell_type": "markdown",
   "metadata": {},
   "source": [
    "Given that near-term quantum computers will be noisy, this apparent robustness of the Fourier parameters may be a desriable characteristic for QAOA applications, worthy of further investigation."
   ]
  },
  {
   "cell_type": "markdown",
   "metadata": {},
   "source": [
    "<a id='references'></a>"
   ]
  },
  {
   "cell_type": "markdown",
   "metadata": {},
   "source": [
    "## References\n",
    "\n",
    "1. L. Zhou et al, __[*Quantum Approximate Optimization Algorithm: Performance, Mechanism, and Implementation on Near-Term Devices*](https://arxiv.org/abs/1812.01041)__"
   ]
  }
 ],
 "metadata": {
  "kernelspec": {
   "display_name": "Python 3",
   "language": "python",
   "name": "python3"
  },
  "language_info": {
   "codemirror_mode": {
    "name": "ipython",
    "version": 3
   },
   "file_extension": ".py",
   "mimetype": "text/x-python",
   "name": "python",
   "nbconvert_exporter": "python",
   "pygments_lexer": "ipython3",
   "version": "3.7.4"
  }
 },
 "nbformat": 4,
 "nbformat_minor": 2
}
