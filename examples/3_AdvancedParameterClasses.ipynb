{
 "cells": [
  {
   "cell_type": "markdown",
   "metadata": {},
   "source": [
    "# Advanced QAOA parameter classes\n",
    "\n",
    "Here we illustrate the use of the `Annealing` and `Fourier` parameter classes included in the EntropicaQAOA. We also show how to obtain constraints on parameters in the `ExtendedParams` class, which may be useful for using certain classical optimisers within QAOA.\n",
    "\n",
    "## Contents\n",
    "\n",
    "1. [The `Annealing` parameter class](#annealing)\n",
    "2. [The `Fourier` parameter class](#fourier)\n",
    "3. [Parameter constraints with `ExtendedParams`](#constraint)"
   ]
  },
  {
   "cell_type": "code",
   "execution_count": 1,
   "metadata": {},
   "outputs": [],
   "source": [
    "# import the standard modules from python\n",
    "import numpy as np\n",
    "import matplotlib.pyplot as plt\n",
    "from scipy.optimize import minimize\n",
    "\n",
    "# import the neccesary pyquil modules\n",
    "from pyquil.api import local_qvm, WavefunctionSimulator\n",
    "from pyquil.paulis import PauliSum, PauliTerm\n",
    "from pyquil.unitary_tools import lifted_pauli\n",
    "\n",
    "# import the QAOAParameters classes \n",
    "from entropica_qaoa.qaoa.parameters import (AbstractParams, AnnealingParams, StandardParams, \n",
    "                                            FourierParams, ExtendedParams)\n",
    "from entropica_qaoa.qaoa.cost_function import QAOACostFunctionOnWFSim\n",
    "from entropica_qaoa.utilities import *\n",
    "\n",
    "# turn off matplotlib warnings associated with networkx\n",
    "import warnings\n",
    "warnings.filterwarnings(\"ignore\")\n",
    "\n",
    "# Set up the WavefunctionSimulator object\n",
    "sim = WavefunctionSimulator()"
   ]
  },
  {
   "cell_type": "markdown",
   "metadata": {},
   "source": [
    "<a id='annealing'></a>\n",
    "\n",
    "## The `Annealing` parameter class\n",
    "\n",
    "In quantum annealing, we start in the ground state of a _mixer_ (or _reference_) Hamiltonian $H_M$, and gradually transform to the ground state of a _cost_ Hamiltonian $H_C$, according to some annealing schedule function $s(t)$, where $t$ denotes time. If it were possible to perform the transformation infintessimally slowly, we would be guaranteed to arrive at the exact ground state of the cost Hamiltonian. In practice, the transformation is performed over some finite time, and we hope to prepare the ground state of $H_C$ with some acceptably high probability.\n",
    "\n",
    "At any time $t$ during the procedure, the instantaneous Hamiltonian is given by\n",
    "\n",
    "\\begin{equation}\n",
    "H(t) = \\left(1 - s(t)\\right)H_M + s(t)H_C\n",
    "\\end{equation}\n",
    "\n",
    "where $s(0) = 0$, and $s(t = T) = 1$, and $T$ is the total annealing time. We see that the strengths with which $H_M$ and $H_C$ act at a given time are related: the mixer is applied with a weight $(1 - s(t))$, and the cost Hamiltonian with weight $s(t)$. It is common to view the QAOA as a form of discretised annealing, where the procedure is performed in a fixed number of steps $p$. However, the coefficients of the mixer and cost Hamiltonians need not be related in the simple way that they are in a conventional annealing schedule. \n",
    "\n",
    "The `AnnealingParams` parameter class illustrates what is perhaps the first conceptual step from annealing, towards the more conventionally used parametrisations of QAOA. Using `AnnealingParams`, we prepare an output quantum state with a circuit described by the unitary operator\n",
    "\n",
    "\\begin{equation}\n",
    "U = \\exp\\left(-i(1-s(t_p)) H_M \\Delta t\\right)\\exp\\left(-i s(t_p) H_C \\Delta t\\right) \\cdots \\exp\\left(-i(1-s(t_1))H_M \\Delta t\\right) \\exp\\left(-i s(t_1) H_C \\Delta t\\right)\n",
    "\\end{equation}\n",
    "\n",
    "Here, we have a fixed temporal step of size $\\Delta t$, and we need to specify what the values of the annealing schedule function should be at the different timesteps. That is, we need to provide a list of the values of $s(t_i$) for $i = 1,..,p$.\n",
    "\n",
    "Here we illustrate the use of the `AnnealingParams` class, whose value we envisage primarily as a didactic or research tool. Specifically, let's compare the annealing parametrisation with the `StandardParams` parametrisation.\n",
    "\n",
    "First, we set up the Hamiltonian as usual."
   ]
  },
  {
   "cell_type": "code",
   "execution_count": 2,
   "metadata": {},
   "outputs": [
    {
     "name": "stdout",
     "output_type": "stream",
     "text": [
      "hamiltonian = (0.7+0j)*Z0*Z1 + (1.2+0j)*Z0*Z2 + (-0.5+0j)*Z0\n"
     ]
    }
   ],
   "source": [
    "# Create a hamiltonian on 3 qubits with 2 coupling terms and 1 bias term\n",
    "Term1 = PauliTerm(\"Z\", 0, 0.7)*PauliTerm(\"Z\", 1)\n",
    "Term2 = PauliTerm(\"Z\", 0, 1.2)*PauliTerm(\"Z\", 2)\n",
    "Term3 = PauliTerm(\"Z\", 0, -0.5)\n",
    "\n",
    "hamiltonian = PauliSum([Term1,Term2,Term3])\n",
    "print(\"hamiltonian =\", hamiltonian)"
   ]
  },
  {
   "cell_type": "markdown",
   "metadata": {},
   "source": [
    "We'll use the `linear_ramp_from_hamiltonian` method to determine the values of the function $s$ at the different timesteps."
   ]
  },
  {
   "cell_type": "code",
   "execution_count": 3,
   "metadata": {
    "scrolled": true
   },
   "outputs": [
    {
     "name": "stdout",
     "output_type": "stream",
     "text": [
      "Hyperparameters:\n",
      "\tregister: [0, 1, 2]\n",
      "\tqubits_singles: [0]\n",
      "\tqubits_pairs: [[0, 1], [0, 2]]\n",
      "Parameters:\n",
      "\tschedule: [0.1 0.3 0.5 0.7 0.9]\n"
     ]
    }
   ],
   "source": [
    "p = 5\n",
    "linear_annealing_params = AnnealingParams.linear_ramp_from_hamiltonian(hamiltonian, p)\n",
    "print(linear_annealing_params)"
   ]
  },
  {
   "cell_type": "markdown",
   "metadata": {},
   "source": [
    "Now let's optimise the cost function and examine the corresponing output parameters."
   ]
  },
  {
   "cell_type": "code",
   "execution_count": 4,
   "metadata": {},
   "outputs": [
    {
     "name": "stdout",
     "output_type": "stream",
     "text": [
      "expectation value =  -1.9930052125541609\n"
     ]
    },
    {
     "data": {
      "image/png": "[encoded data removed]",
      "text/plain": [
       "<Figure size 432x288 with 1 Axes>"
      ]
     },
     "metadata": {
      "needs_background": "light"
     },
     "output_type": "display_data"
    }
   ],
   "source": [
    "# set up the cost function\n",
    "cost_anneal = QAOACostFunctionOnWFSim(hamiltonian,\n",
    "                                      params=linear_annealing_params,)\n",
    "\n",
    "# and optimize the parameters\n",
    "res_anneal = minimize(cost_anneal, linear_annealing_params.raw(), method=\"Cobyla\")\n",
    "\n",
    "print(\"expectation value = \", res_anneal.fun)\n",
    "\n",
    "linear_annealing_params.update_from_raw(res_anneal.x)\n",
    "linear_annealing_params.plot()"
   ]
  },
  {
   "cell_type": "markdown",
   "metadata": {},
   "source": [
    "Now let's solve the same problem using `StandardParams`."
   ]
  },
  {
   "cell_type": "code",
   "execution_count": 5,
   "metadata": {},
   "outputs": [
    {
     "name": "stdout",
     "output_type": "stream",
     "text": [
      "expectation value =  -2.2897367204244246\n"
     ]
    },
    {
     "data": {
      "image/png": "[encoded data removed]",
      "text/plain": [
       "<Figure size 432x288 with 1 Axes>"
      ]
     },
     "metadata": {
      "needs_background": "light"
     },
     "output_type": "display_data"
    }
   ],
   "source": [
    "standard_params = StandardParams.linear_ramp_from_hamiltonian(hamiltonian,p)\n",
    "\n",
    "cost_standard = QAOACostFunctionOnWFSim(hamiltonian,\n",
    "                                        params=standard_params)\n",
    "\n",
    "res_std = minimize(cost_standard, standard_params.raw(), method=\"Cobyla\")\n",
    "\n",
    "print(\"expectation value = \", res_std.fun)\n",
    "standard_params.update_from_raw(res_std.x)\n",
    "standard_params.plot()"
   ]
  },
  {
   "cell_type": "markdown",
   "metadata": {},
   "source": [
    "Observe that, at least for this simple problem, the expectation values obtained are reasonably similar, yet we use half the number of parameters in `AnnealingParams` as `StandardParams`.\n",
    "\n",
    "In the optimal `StandardParams`, we see a general downward (upward) trend in the betas (gammas), which is conistent with the annealing picture that the mixer Hamiltonian is gradually turned off, and the cost Hamiltonian is gradually turned on. \n",
    "\n",
    "Following [Ref 1](#references), we can attempt to make a connection between the two pictures, by interpreting the sum of all the `betas` and `gammas` as a total annealing time. We can then define the corresponding annealing schedule function value at each time as\n",
    "\n",
    "\\begin{equation}\n",
    "s(t_i) = \\frac{|\\gamma_i|}{|\\beta_i| + |\\gamma_i|}\n",
    "\\end{equation}\n",
    "\n",
    "When we plot this function, we see a similar behaviour to that of the optimal annealing schedule we found above."
   ]
  },
  {
   "cell_type": "code",
   "execution_count": 6,
   "metadata": {},
   "outputs": [
    {
     "data": {
      "image/png": "[encoded data removed]",
      "text/plain": [
       "<Figure size 432x288 with 1 Axes>"
      ]
     },
     "metadata": {
      "needs_background": "light"
     },
     "output_type": "display_data"
    }
   ],
   "source": [
    "opt_betas = standard_params.betas\n",
    "opt_gammas = standard_params.gammas\n",
    "hybrid_params = [np.abs(opt_gammas[i])/(np.abs(opt_gammas[i]) + np.abs(opt_betas[i])) for i in range(p)]\n",
    "\n",
    "plt.plot(range(p),hybrid_params)\n",
    "plt.xlabel('Timesteps', fontsize=12)\n",
    "plt.ylabel('$s(t_i)$', fontsize=12)\n",
    "plt.show()"
   ]
  },
  {
   "cell_type": "markdown",
   "metadata": {},
   "source": [
    "<a id='fourier'></a>\n",
    "## The `Fourier` parameter class\n",
    "\n",
    "This parameter class originated from attempts to find heuristic ways of reducing the number of parameters required to perform QAOA. Based on empirical observations in patterns of the optimal QAOA angles, Zhuo et al (see [Ref 1](#references)) proposed considering the discrete Fourier transforms of `betas` and `gammas` as an alternative, more economical parametrisation.\n",
    "\n",
    "The basic idea kicks off from  the conventional QAOA parametrisation, i.e. what we call the `StandardParams` class. Here, at each iteration in QAOA we have one angle for all of the mixer Hamiltonian terms, and one angle for all of the cost Hamiltonian terms. That is, the `StandardParams` parametrisation requires the specification of $2p$ numbers, a `beta` and a `gamma` for each timestep.\n",
    "\n",
    "In the Fourier representation, we switch instead to a set of $2q$ parameters, denoted $\\vec{v}$ and $\\vec{u}$, which are related to $\\vec{\\beta}$ and $\\vec{\\gamma}$ by\n",
    "\n",
    "\\begin{eqnarray}\n",
    "\\beta_i^{(p)} &=& \\sum_{k=1}^q v_k \\cos\\left[(2k+1)\\left(\\frac{\\pi}{2p}i\\right)\\right]\\\\\n",
    "\\gamma_i^{(p)} &=& \\sum_{k=1}^q u_k \\sin\\left[(2k+1)\\left(\\frac{\\pi}{2p}i\\right)\\right]\n",
    "\\end{eqnarray}\n",
    "\n",
    "where $i = 1,...,p$. The insight of Zhou et al is that the optimal parameters found are often empirically seen to be smoothly varying functions for certain problems (such as the one in the section above on annealing), and that it should then be possible to use a reduced parameter set consisting of only the lowest $q$ frequency components of those functions. Clearly, for $q\\geq p$ we have the full expressivity of the original parameter set (i.e. the $\\beta$s and $\\gamma$s). In this parametrisation, for fixed $q$, the optimisation problem therefore becomes that of finding the optimal Fourier components $v_k$ and $u_k$. \n",
    "\n",
    "In [Ref 1](#references), the authors show that certain variants of this basic Fourier parametrisation can perform significantly better than a  randomised brute force search through parameter space, for MaxCut problems on 3-regular and 4-regular graphs. Here, we will compare `FourierParams` and `StandardParams` for different instances of a relatively small problem. \n",
    "\n",
    "We will consider 3-regular graphs on 8 nodes, and use the `linear_ramp_from_hamiltonian` method to generate intial parameters for each of the two classes. We generate a random problem instance, and find the optimial ground state energy returned using the two parametrisations. We then compute the relative error of each from the true ground state energy. \n",
    "\n",
    "First we define a convenience function for the following computations:"
   ]
  },
  {
   "cell_type": "code",
   "execution_count": 7,
   "metadata": {},
   "outputs": [],
   "source": [
    "def randgraph_fourier_std(degree,nodes,p_fourier,q,p_standard):\n",
    "    \n",
    "    \"\"\"\n",
    "    Produce a k-regular graph on the specified number of nodes, where k is given by the input variable 'degree'.\n",
    "    The graph edges are random and weighted.\n",
    "    \n",
    "    Runs QAOA on the graph using:\n",
    "     - FourierParams with the specified number of steps p_fourier and frequency components p.\n",
    "     - StandardParams with number of steps p_standard.\n",
    "     \n",
    "    Returns the optimal cost function values obtained by each method, as well as its exact minimum value \n",
    "    (found by diagonalising the Hamiltonian).\n",
    "    \"\"\"\n",
    "    \n",
    "    # Generate a random graph\n",
    "    graph = random_k_regular_graph(degree, nodes, weighted=True)\n",
    "    hamiltonian = hamiltonian_from_graph(graph)\n",
    "    \n",
    "    # Get ground state energy\n",
    "    hamiltonian_matrix = lifted_pauli(hamiltonian, hamiltonian.get_qubits())\n",
    "    ground_energy = min(np.linalg.eigvals(hamiltonian_matrix))\n",
    "    \n",
    "    # Define Fourier params and run optimisation\n",
    "    fourier_params = FourierParams.linear_ramp_from_hamiltonian(hamiltonian, p_fourier, q)\n",
    "    cost_fourier = QAOACostFunctionOnWFSim(hamiltonian, params=fourier_params, sim=sim)\n",
    "    res_fourier = minimize(cost_fourier, fourier_params.raw())\n",
    "    \n",
    "    # Define Standard params and run optimisation\n",
    "    std_params = StandardParams.linear_ramp_from_hamiltonian(hamiltonian, p_standard)\n",
    "    cost_std = QAOACostFunctionOnWFSim(hamiltonian, params=std_params, sim=sim)\n",
    "    res_std = minimize(cost_std, std_params.raw())\n",
    "    \n",
    "    return res_fourier, res_std, ground_energy, hamiltonian"
   ]
  },
  {
   "cell_type": "markdown",
   "metadata": {},
   "source": [
    "We'll start by setting $p=q$, where in principle the `FourierParams` and the `StandardParams` have equal expressivity. For convenience, we will show the results from only one randomly generated sample graph. However, we would encourage users to run the code for a larger number of samples, with different graph degrees, to investigate the applicability of the conclusions more generally."
   ]
  },
  {
   "cell_type": "code",
   "execution_count": 8,
   "metadata": {},
   "outputs": [
    {
     "name": "stdout",
     "output_type": "stream",
     "text": [
      "Mean error using FourierParams:  0.16253763161767826\n",
      "Mean error using StandardParams:  0.16253763161799228\n"
     ]
    }
   ],
   "source": [
    "p_fourier = 3\n",
    "p_standard = 3\n",
    "q = 3\n",
    "\n",
    "samples = 1 # E.g., with samples = 20, this cell should take around 5 minutes to run on a standard laptop.\n",
    "\n",
    "err_fourier = np.zeros(samples)\n",
    "err_std = np.zeros(samples)\n",
    "\n",
    "for i in range(samples):\n",
    "    \n",
    "    res_fourier, res_std, ground_energy, _ = randgraph_fourier_std(3, 8, p_fourier, q, p_standard)\n",
    "\n",
    "    # Compute relative error \n",
    "    err_fourier[i] = np.absolute((res_fourier.fun - ground_energy)/ground_energy)\n",
    "    err_std[i] = np.absolute((res_std.fun - ground_energy)/ground_energy)\n",
    "    \n",
    "print(\"Mean error using FourierParams: \", np.mean(err_fourier))\n",
    "print(\"Mean error using StandardParams: \", np.mean(err_std))"
   ]
  },
  {
   "cell_type": "markdown",
   "metadata": {},
   "source": [
    "As expected for the case $q=p$ - where `StandardParams` and `FourierParams` have identical expressivity - we find that the two methods give very similar results. To begin to appreciate the benefits of the Fourier parametrisation, let's compare the case $p=2$ using `StandardParams` with the case $q = 2, p=3$ using `FourierParams`. Here, we are optimising over the same total number of parameters, however the `FourierParams` ought to be capturing features of a more expressive circuit. "
   ]
  },
  {
   "cell_type": "code",
   "execution_count": 9,
   "metadata": {},
   "outputs": [
    {
     "name": "stdout",
     "output_type": "stream",
     "text": [
      "Mean error using FourierParams:  0.2426978688745482\n",
      "Mean error using StandardParams:  0.3298040179018384\n"
     ]
    }
   ],
   "source": [
    "p_fourier = 3\n",
    "p_standard = 2\n",
    "q = 2\n",
    "\n",
    "samples = 1 \n",
    "\n",
    "err_fourier = np.zeros(samples)\n",
    "err_std = np.zeros(samples)\n",
    "\n",
    "for i in range(samples):\n",
    "    \n",
    "    res_fourier, res_std, ground_energy, _ = randgraph_fourier_std(3, 8, p_fourier, q, p_standard)\n",
    "\n",
    "    # Compute relative error \n",
    "    err_fourier[i] = np.absolute((res_fourier.fun - ground_energy)/ground_energy)\n",
    "    err_std[i] = np.absolute((res_std.fun - ground_energy)/ground_energy)\n",
    "    \n",
    "print(\"Mean error using FourierParams: \", np.mean(err_fourier))\n",
    "print(\"Mean error using StandardParams: \", np.mean(err_std))"
   ]
  },
  {
   "cell_type": "markdown",
   "metadata": {},
   "source": [
    "We see that the Fourier parametrisation returns a more accurate cost function value. Let's go one step further and try the case $p=1$ with `StandardParams`, and $q = 1, p=3$ with `FourierParams`."
   ]
  },
  {
   "cell_type": "code",
   "execution_count": 10,
   "metadata": {},
   "outputs": [
    {
     "name": "stdout",
     "output_type": "stream",
     "text": [
      "Mean error using FourierParams:  0.2367790556315186\n",
      "Mean error using StandardParams:  0.49075019302261885\n"
     ]
    }
   ],
   "source": [
    "p_fourier = 3\n",
    "p_standard = 1\n",
    "q = 1\n",
    "\n",
    "samples = 1 \n",
    "\n",
    "err_fourier = np.zeros(samples)\n",
    "err_std = np.zeros(samples)\n",
    "\n",
    "for i in range(samples):\n",
    "    \n",
    "    res_fourier, res_std, ground_energy, _ = randgraph_fourier_std(3, 8, p_fourier, q, p_standard)\n",
    "\n",
    "    # Compute relative error \n",
    "    err_fourier[i] = np.absolute((res_fourier.fun - ground_energy)/ground_energy)\n",
    "    err_std[i] = np.absolute((res_std.fun - ground_energy)/ground_energy)\n",
    "    \n",
    "print(\"Mean error using FourierParams: \", np.mean(err_fourier))\n",
    "print(\"Mean error using StandardParams: \", np.mean(err_std))"
   ]
  },
  {
   "cell_type": "markdown",
   "metadata": {},
   "source": [
    "In this case, we find an even greater separation in accuracy between the two methods, as intuitively expected. \n",
    "\n",
    "While we have studied only small and relatively simple problems in the above examples, the results suggest that the economy of the `Fourier` parametrisation may be worth further investigation."
   ]
  },
  {
   "cell_type": "markdown",
   "metadata": {},
   "source": [
    "<a id='constraints'></a>\n",
    "## Parameter constraints with `ExtendedParams`\n",
    "\n",
    "Certain classical optimisers that may be of interest for QAOA require a set of constraints on the parameters to be explicitly specified. To be able to use these methods in practice with QAOA, we therefore need a way of obtaining these constraints. The `get_constraints` method does this for the `ExtendedParams` class.\n",
    "\n",
    "To understand the origin of constraints on the angles, let us first consider the application of the mixer Hamiltonian. Using `ExtendedParams`, at any given step in the QAOA circuit the action of the mixer is described by the unitary operator\n",
    "\n",
    "\\begin{equation}\n",
    "U\\left(\\vec{\\beta}\\right) = \\exp(-i\\beta_nX_n)...\\exp(-i\\beta_2X_2)\\exp(-i\\beta_1X_1)\n",
    "\\end{equation}\n",
    "\n",
    "Since the eigenvalues of the $X$ operator are just $\\pm 1$, by periodicity we can constrain all of the angles $\\beta_1,...,\\beta_n$ to the range $[0, 2\\pi]$. Similarly, the action of single-qubit bias terms in the cost function Hamiltonian corresponds to an operator of the form\n",
    "\n",
    "\\begin{equation}\n",
    "U\\left(\\vec{\\gamma_s}\\right) = \\exp(-i\\gamma_{n}h_nZ_n)...\\exp(-i\\gamma_{2}h_2Z_2)\\exp(-i\\gamma_{1}h_1Z_1)\n",
    "\\end{equation}\n",
    "\n",
    "Again, since each term is periodic, the corresponding constraints become $\\gamma_{j} \\in [0,2\\pi/h_j]$, for $j = 1,...,n$. By similar reasoning, the constraints on the coefficients of the qubit pair terms in the Hamiltonian are $\\Gamma_{jk} \\in [0,2\\pi/h_{jk}]$. \n",
    "\n",
    "Consider again the Hamiltonian we used in the section on annealing above."
   ]
  },
  {
   "cell_type": "code",
   "execution_count": 11,
   "metadata": {},
   "outputs": [
    {
     "name": "stdout",
     "output_type": "stream",
     "text": [
      "hamiltonian = (0.7+0j)*Z0*Z1 + (1.2+0j)*Z0*Z2 + (-0.5+0j)*Z0\n"
     ]
    }
   ],
   "source": [
    "Term1 = PauliTerm(\"Z\", 0, 0.7)*PauliTerm(\"Z\", 1)\n",
    "Term2 = PauliTerm(\"Z\", 0, 1.2)*PauliTerm(\"Z\", 2)\n",
    "Term3 = PauliTerm(\"Z\", 0, -0.5)\n",
    "\n",
    "hamiltonian = PauliSum([Term1,Term2,Term3])\n",
    "print(\"hamiltonian =\", hamiltonian)"
   ]
  },
  {
   "cell_type": "markdown",
   "metadata": {},
   "source": [
    "Let's set up a set of `ExtendedParams`."
   ]
  },
  {
   "cell_type": "code",
   "execution_count": 12,
   "metadata": {},
   "outputs": [],
   "source": [
    "ext_params = ExtendedParams.empty((hamiltonian,1))"
   ]
  },
  {
   "cell_type": "markdown",
   "metadata": {},
   "source": [
    "Calling the `get_constraints()` method will now return a single list of the constraints on all of the parameters. The ordering coincides with that of the `raw()` method, allowing both the parameter initial values and the corresponding constraints to be easily passed to the optimiser."
   ]
  },
  {
   "cell_type": "code",
   "execution_count": 13,
   "metadata": {},
   "outputs": [
    {
     "data": {
      "text/plain": [
       "[(0, 6.283185307179586),\n",
       " (0, 6.283185307179586),\n",
       " (0, 6.283185307179586),\n",
       " (0, -12.566370614359172),\n",
       " (0, 8.975979010256552),\n",
       " (0, 5.235987755982989)]"
      ]
     },
     "execution_count": 13,
     "metadata": {},
     "output_type": "execute_result"
    }
   ],
   "source": [
    "ext_params.get_constraints()"
   ]
  },
  {
   "cell_type": "markdown",
   "metadata": {},
   "source": [
    "<a id='references'></a>"
   ]
  },
  {
   "cell_type": "markdown",
   "metadata": {},
   "source": [
    "## References\n",
    "\n",
    "1. L. Zhou et al, __[*Quantum Approximate Optimization Algorithm: Performance, Mechanism, and Implementation on Near-Term Devices*](https://arxiv.org/abs/1812.01041)__"
   ]
  }
 ],
 "metadata": {
  "kernelspec": {
   "display_name": "Python 3",
   "language": "python",
   "name": "python3"
  },
  "language_info": {
   "codemirror_mode": {
    "name": "ipython",
    "version": 3
   },
   "file_extension": ".py",
   "mimetype": "text/x-python",
   "name": "python",
   "nbconvert_exporter": "python",
   "pygments_lexer": "ipython3",
   "version": "3.7.3"
  }
 },
 "nbformat": 4,
 "nbformat_minor": 2
}
