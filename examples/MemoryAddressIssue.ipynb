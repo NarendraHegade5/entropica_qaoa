{
 "cells": [
  {
   "cell_type": "code",
   "execution_count": 1,
   "metadata": {},
   "outputs": [],
   "source": [
    "# Imports from our QAOA package\n",
    "from forest_qaoa.qaoa.parameters import StandardParams, ExtendedParams, AbstractParams\n",
    "from pyquil.paulis import PauliSum, PauliTerm\n",
    "from pyquil.api import local_qvm, WavefunctionSimulator\n",
    "from forest_qaoa.qaoa.cost_function import QAOACostFunctionOnWFSim\n",
    "from scipy.optimize import minimize"
   ]
  },
  {
   "cell_type": "code",
   "execution_count": 2,
   "metadata": {},
   "outputs": [
    {
     "name": "stdout",
     "output_type": "stream",
     "text": [
      "hamiltonian = (0.7+0j)*Z0*Z1 + (1.2+0j)*Z0*Z2 + (-0.5+0j)*Z0\n"
     ]
    }
   ],
   "source": [
    "hamiltonian = PauliSum.from_compact_str(\"0.7*Z0*Z1 + 1.2*Z0*Z2 + (-0.5)*Z0\")\n",
    "print(\"hamiltonian =\", hamiltonian)\n",
    "\n",
    "timesteps = 1"
   ]
  },
  {
   "cell_type": "markdown",
   "metadata": {},
   "source": [
    "Set up two different sets of extended parameters:"
   ]
  },
  {
   "cell_type": "code",
   "execution_count": 3,
   "metadata": {},
   "outputs": [],
   "source": [
    "extended1 = ExtendedParams.linear_ramp_from_hamiltonian(hamiltonian, timesteps)\n",
    "extended2 = ExtendedParams.linear_ramp_from_hamiltonian(hamiltonian, timesteps)"
   ]
  },
  {
   "cell_type": "markdown",
   "metadata": {},
   "source": [
    "The address of their `x_rotation_angles` always seems to be identical. The same is true sometimes, but not always, for the `z_rotation_angles` and the `zz_rotation_angles`"
   ]
  },
  {
   "cell_type": "code",
   "execution_count": 4,
   "metadata": {},
   "outputs": [
    {
     "name": "stdout",
     "output_type": "stream",
     "text": [
      "139774570718832\n",
      "139774570718832\n"
     ]
    }
   ],
   "source": [
    "print(id(extended1.x_rotation_angles))\n",
    "print(id(extended2.x_rotation_angles))"
   ]
  },
  {
   "cell_type": "code",
   "execution_count": 5,
   "metadata": {},
   "outputs": [
    {
     "name": "stdout",
     "output_type": "stream",
     "text": [
      "139775752568304\n",
      "139774570719312\n"
     ]
    }
   ],
   "source": [
    "print(id(extended1.z_rotation_angles))\n",
    "print(id(extended2.z_rotation_angles))"
   ]
  },
  {
   "cell_type": "code",
   "execution_count": 6,
   "metadata": {},
   "outputs": [
    {
     "name": "stdout",
     "output_type": "stream",
     "text": [
      "139774570717632\n",
      "139774650835152\n"
     ]
    }
   ],
   "source": [
    "print(id(extended1.zz_rotation_angles))\n",
    "print(id(extended2.zz_rotation_angles))"
   ]
  },
  {
   "cell_type": "markdown",
   "metadata": {},
   "source": [
    "This becomes an issue when we define different sets of parameters in the same notebook, and then an optimiser updates the `x_rotation_angles` of one of the sets: naively we'd think it shouldn't affect the other at all, but since the memory location is the same, it does affect the second set."
   ]
  },
  {
   "cell_type": "markdown",
   "metadata": {},
   "source": [
    "## Example"
   ]
  },
  {
   "cell_type": "code",
   "execution_count": 7,
   "metadata": {},
   "outputs": [],
   "source": [
    "sim = WavefunctionSimulator()\n",
    "\n",
    "costfn1 = QAOACostFunctionOnWFSim(hamiltonian,\n",
    "                                  params=extended1,\n",
    "                                  sim=sim,\n",
    "                                  scalar_cost_function=True, \n",
    "                                  nshots=1,                  \n",
    "                                  noisy=False,               \n",
    "                                  enable_logging=False)\n",
    "\n",
    "costfn2 = QAOACostFunctionOnWFSim(hamiltonian,\n",
    "                                  params=extended2,\n",
    "                                  sim=sim,\n",
    "                                  scalar_cost_function=True, \n",
    "                                  nshots=1,                  \n",
    "                                  noisy=False,               \n",
    "                                  enable_logging=False)"
   ]
  },
  {
   "cell_type": "markdown",
   "metadata": {},
   "source": [
    "Print the two sets of `x_rotation_angles` before running the optimiser:"
   ]
  },
  {
   "cell_type": "code",
   "execution_count": 8,
   "metadata": {},
   "outputs": [
    {
     "name": "stdout",
     "output_type": "stream",
     "text": [
      "extended1 before [[0.35 0.35 0.35]]\n",
      "extended2 before [[0.35 0.35 0.35]]\n"
     ]
    }
   ],
   "source": [
    "print('extended1 before', extended1.x_rotation_angles)\n",
    "print('extended2 before', extended2.x_rotation_angles)"
   ]
  },
  {
   "cell_type": "code",
   "execution_count": 9,
   "metadata": {},
   "outputs": [],
   "source": [
    "res1 = minimize(costfn1, extended1.raw(), tol=1e-3,\n",
    "                      options={\"maxiter\": 500})"
   ]
  },
  {
   "cell_type": "markdown",
   "metadata": {},
   "source": [
    "... and now after running the optimiser:"
   ]
  },
  {
   "cell_type": "code",
   "execution_count": 10,
   "metadata": {},
   "outputs": [
    {
     "name": "stdout",
     "output_type": "stream",
     "text": [
      "extended1 after [[4.83517474e-05 7.85112595e-01 7.85294732e-01]]\n",
      "extended2 after [[4.83517474e-05 7.85112595e-01 7.85294732e-01]]\n"
     ]
    }
   ],
   "source": [
    "print('extended1 after', extended1.x_rotation_angles)\n",
    "print('extended2 after', extended2.x_rotation_angles)"
   ]
  },
  {
   "cell_type": "markdown",
   "metadata": {},
   "source": [
    "Despite the fact we have not called the optimiser on `costfn2` yet, its associated angles have been modified by the optimiser call on `costfn1`."
   ]
  }
 ],
 "metadata": {
  "kernelspec": {
   "display_name": "Python 3",
   "language": "python",
   "name": "python3"
  },
  "language_info": {
   "codemirror_mode": {
    "name": "ipython",
    "version": 3
   },
   "file_extension": ".py",
   "mimetype": "text/x-python",
   "name": "python",
   "nbconvert_exporter": "python",
   "pygments_lexer": "ipython3",
   "version": "3.7.3"
  }
 },
 "nbformat": 4,
 "nbformat_minor": 2
}
