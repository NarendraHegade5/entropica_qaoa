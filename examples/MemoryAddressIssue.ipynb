{
 "cells": [
  {
   "cell_type": "code",
   "execution_count": 1,
   "metadata": {},
   "outputs": [],
   "source": [
    "# Imports from our QAOA package\n",
    "from forest_qaoa.qaoa.parameters import StandardParams, ExtendedParams, AbstractParams\n",
    "from pyquil.paulis import PauliSum, PauliTerm\n",
    "from pyquil.api import local_qvm, WavefunctionSimulator\n",
    "from forest_qaoa.qaoa.cost_function import QAOACostFunctionOnWFSim\n",
    "from scipy.optimize import minimize"
   ]
  },
  {
   "cell_type": "code",
   "execution_count": 2,
   "metadata": {},
   "outputs": [
    {
     "name": "stdout",
     "output_type": "stream",
     "text": [
      "hamiltonian = (0.7+0j)*Z0*Z1 + (1.2+0j)*Z0*Z2 + (-0.5+0j)*Z0\n"
     ]
    }
   ],
   "source": [
    "hamiltonian = PauliSum.from_compact_str(\"0.7*Z0*Z1 + 1.2*Z0*Z2 + (-0.5)*Z0\")\n",
    "print(\"hamiltonian =\", hamiltonian)\n",
    "\n",
    "timesteps = 1"
   ]
  },
  {
   "cell_type": "markdown",
   "metadata": {},
   "source": [
    "Set up two different sets of extended parameters:"
   ]
  },
  {
   "cell_type": "code",
   "execution_count": 3,
   "metadata": {},
   "outputs": [],
   "source": [
    "extended1 = ExtendedParams.linear_ramp_from_hamiltonian(hamiltonian, timesteps)\n",
    "extended2 = ExtendedParams.linear_ramp_from_hamiltonian(hamiltonian, timesteps)"
   ]
  },
  {
   "cell_type": "markdown",
   "metadata": {},
   "source": [
    "The address of their `x_rotation_angles` always seems to be identical. The same is true sometimes, but not always, for the `z_rotation_angles` and the `zz_rotation_angles`"
   ]
  },
  {
   "cell_type": "code",
   "execution_count": 4,
   "metadata": {},
   "outputs": [
    {
     "name": "stdout",
     "output_type": "stream",
     "text": [
      "140015931803888\n",
      "140015931804768\n"
     ]
    }
   ],
   "source": [
    "print(id(extended1.x_rotation_angles))\n",
    "print(id(extended2.x_rotation_angles))"
   ]
  },
  {
   "cell_type": "code",
   "execution_count": 5,
   "metadata": {},
   "outputs": [
    {
     "name": "stdout",
     "output_type": "stream",
     "text": [
      "140015931805008\n",
      "140015931805248\n"
     ]
    }
   ],
   "source": [
    "print(id(extended1.z_rotation_angles))\n",
    "print(id(extended2.z_rotation_angles))"
   ]
  },
  {
   "cell_type": "code",
   "execution_count": 6,
   "metadata": {},
   "outputs": [
    {
     "name": "stdout",
     "output_type": "stream",
     "text": [
      "140015931804288\n",
      "140015931805408\n"
     ]
    }
   ],
   "source": [
    "print(id(extended1.zz_rotation_angles))\n",
    "print(id(extended2.zz_rotation_angles))"
   ]
  },
  {
   "cell_type": "markdown",
   "metadata": {},
   "source": [
    "This becomes an issue when we define different sets of parameters in the same notebook, and then an optimiser updates the `x_rotation_angles` of one of the sets: naively we'd think it shouldn't affect the other at all, but since the memory location is the same, it does affect the second set."
   ]
  },
  {
   "cell_type": "markdown",
   "metadata": {},
   "source": [
    "<font color=\"red\">\n",
    "There appears to be a misunderstanding here. Even though `extended1.z_rotation_angles` appears to be an array, it actually is a property that is computed on the fly. Let's have a look at its source:\n",
    "</font>"
   ]
  },
  {
   "cell_type": "code",
   "execution_count": 17,
   "metadata": {},
   "outputs": [
    {
     "data": {
      "text/plain": [
       "\u001b[0;31mType:\u001b[0m        property\n",
       "\u001b[0;31mString form:\u001b[0m <property object at 0x7f58019cc228>\n",
       "\u001b[0;31mSource:\u001b[0m     \n",
       "\u001b[0;31m# extended1.z_rotation_angles.fget\u001b[0m\u001b[0;34m\u001b[0m\n",
       "\u001b[0;34m\u001b[0m\u001b[0;34m@\u001b[0m\u001b[0mproperty\u001b[0m\u001b[0;34m\u001b[0m\n",
       "\u001b[0;34m\u001b[0m\u001b[0;32mdef\u001b[0m \u001b[0mz_rotation_angles\u001b[0m\u001b[0;34m(\u001b[0m\u001b[0mself\u001b[0m\u001b[0;34m)\u001b[0m\u001b[0;34m:\u001b[0m\u001b[0;34m\u001b[0m\n",
       "\u001b[0;34m\u001b[0m    \u001b[0;32mreturn\u001b[0m \u001b[0mself\u001b[0m\u001b[0;34m.\u001b[0m\u001b[0msingle_qubit_coeffs\u001b[0m \u001b[0;34m*\u001b[0m \u001b[0mself\u001b[0m\u001b[0;34m.\u001b[0m\u001b[0mgammas_singles\u001b[0m\u001b[0;34m\u001b[0m\u001b[0;34m\u001b[0m\u001b[0m\n"
      ]
     },
     "metadata": {},
     "output_type": "display_data"
    }
   ],
   "source": [
    "extended1.z_rotation_angles??"
   ]
  },
  {
   "cell_type": "markdown",
   "metadata": {},
   "source": [
    "<font color=\"red\">\n",
    "Nevertheless, the beheaviour seen below isn't the one intended. But it wasn't caused by `z_rotation_angles` being a descriptor. Instead it was caused by `gammas_singles` being a wrongly implemented data descriptor. I had implemented it in such a way, that all `gammas_singles` attributes of different instances of `ExtendedParams` were pointing at the same data. This is fixed now.\n",
    "</font>"
   ]
  },
  {
   "cell_type": "markdown",
   "metadata": {},
   "source": [
    "<font color='red'>\n",
    "This isn't super surprising though.  They work as follows:\n",
    "</font>\n",
    "\n",
    "    \n",
    "```python\n",
    "class ExtendedParams(AbstractParams):\n",
    "    def __init__():\n",
    "        # bla\n",
    "    \n",
    "    # a lot of code\n",
    "    \n",
    "    @property\n",
    "    def z_rotation_angles(self):\n",
    "        return np.outer(self.gammas_singles, self.single_qubit_coeffs)\n",
    "```\n",
    "and we can access them, but not change them!\n",
    "```python\n",
    "z_angles = extended_params.z_rotation_angles\n",
    "\n",
    "extended_params.z_rotation_angles = some_new_angles # <- throws an exception!\n",
    "```\n",
    "\n",
    "\n",
    "and now we can do\n",
    "\n",
    "```python\n",
    "\n",
    "z_angles = params.z_rotation_angles\n",
    "\n",
    "```"
   ]
  },
  {
   "cell_type": "markdown",
   "metadata": {},
   "source": [
    "## Example"
   ]
  },
  {
   "cell_type": "code",
   "execution_count": 7,
   "metadata": {},
   "outputs": [],
   "source": [
    "sim = WavefunctionSimulator()\n",
    "\n",
    "costfn1 = QAOACostFunctionOnWFSim(hamiltonian,\n",
    "                                  params=extended1,\n",
    "                                  sim=sim,\n",
    "                                  scalar_cost_function=True, \n",
    "                                  nshots=1,                  \n",
    "                                  noisy=False,               \n",
    "                                  enable_logging=False)\n",
    "\n",
    "costfn2 = QAOACostFunctionOnWFSim(hamiltonian,\n",
    "                                  params=extended2,\n",
    "                                  sim=sim,\n",
    "                                  scalar_cost_function=True, \n",
    "                                  nshots=1,                  \n",
    "                                  noisy=False,               \n",
    "                                  enable_logging=False)"
   ]
  },
  {
   "cell_type": "markdown",
   "metadata": {},
   "source": [
    "Print the two sets of `x_rotation_angles` before running the optimiser:"
   ]
  },
  {
   "cell_type": "code",
   "execution_count": 8,
   "metadata": {},
   "outputs": [
    {
     "name": "stdout",
     "output_type": "stream",
     "text": [
      "extended1 before [[0.35 0.35 0.35]]\n",
      "extended2 before [[0.35 0.35 0.35]]\n"
     ]
    }
   ],
   "source": [
    "print('extended1 before', extended1.x_rotation_angles)\n",
    "print('extended2 before', extended2.x_rotation_angles)"
   ]
  },
  {
   "cell_type": "code",
   "execution_count": 9,
   "metadata": {},
   "outputs": [],
   "source": [
    "res1 = minimize(costfn1, extended1.raw(), tol=1e-3,\n",
    "                      options={\"maxiter\": 500})"
   ]
  },
  {
   "cell_type": "markdown",
   "metadata": {},
   "source": [
    "... and now after running the optimiser:"
   ]
  },
  {
   "cell_type": "code",
   "execution_count": 10,
   "metadata": {},
   "outputs": [
    {
     "name": "stdout",
     "output_type": "stream",
     "text": [
      "extended1 after [[4.83483169e-05 7.85112557e-01 7.85294709e-01]]\n",
      "extended2 after [[0.35 0.35 0.35]]\n"
     ]
    }
   ],
   "source": [
    "print('extended1 after', extended1.x_rotation_angles)\n",
    "print('extended2 after', extended2.x_rotation_angles)"
   ]
  },
  {
   "cell_type": "markdown",
   "metadata": {},
   "source": [
    "Despite the fact we have not called the optimiser on `costfn2` yet, its associated angles have been modified by the optimiser call on `costfn1`.\n",
    "\n",
    "<font color=\"red\">\n",
    "    Not anymore. It was fixed in this commit.\n",
    "</font>"
   ]
  }
 ],
 "metadata": {
  "kernelspec": {
   "display_name": "Python 3",
   "language": "python",
   "name": "python3"
  },
  "language_info": {
   "codemirror_mode": {
    "name": "ipython",
    "version": 3
   },
   "file_extension": ".py",
   "mimetype": "text/x-python",
   "name": "python",
   "nbconvert_exporter": "python",
   "pygments_lexer": "ipython3",
   "version": "3.7.3"
  }
 },
 "nbformat": 4,
 "nbformat_minor": 4
}
