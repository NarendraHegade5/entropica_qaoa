{
 "cells": [
  {
   "cell_type": "markdown",
   "metadata": {},
   "source": [
    "# Solving a simple QUBO with QAOA\n",
    "\n",
    "This section shows how QAOA can be used to solve a simple quadratic unconstrained binary optimisation (QUBO) problem. QUBOs have received significant interest in recent years as a way of tackling discrete combinatorial optimisation tasks, which are widespread in the logistics industry, amongst others. They have also attracted attention for their apparent amenability to implementation on near-term quantum hardware. For a good review of QUBOs and how to formulate them, see [Ref 1](#references)."
   ]
  },
  {
   "cell_type": "code",
   "execution_count": 1,
   "metadata": {},
   "outputs": [],
   "source": [
    "import numpy as np\n",
    "import matplotlib.pyplot as plt\n",
    "\n",
    "from pyquil.paulis import PauliSum\n",
    "from pyquil.api import WavefunctionSimulator\n",
    "from pyquil.unitary_tools import lifted_pauli\n",
    "\n",
    "from entropica_qaoa.qaoa.parameters import StandardParams\n",
    "from entropica_qaoa.qaoa.cost_function import QAOACostFunctionOnWFSim\n",
    "\n",
    "from scipy.optimize import minimize"
   ]
  },
  {
   "cell_type": "markdown",
   "metadata": {},
   "source": [
    "## Defining the problem\n",
    "\n",
    "Here we will tackle the simple problem given in Section 2 of [Ref 1](#references). We seek the minimum function value, and corresponding configuration of variables, of \n",
    "\n",
    "$$ y = -5x_1 -3x_2 -8x_3 -6x_4 + 4x_1x_2 + 8x_1x_3 + 2x_2x_3 + 10x_3x_4 $$\n",
    "\n",
    "Here the variables $x_i$, $i = 1,...,4$ are binary. i.e. they can take the value 0 or 1. Observe that in the linear part (the first 4 terms), all of the variables would ideally be equal to 1 in order to minimise the function. However, the quadratic part (the second 4 terms) encodes penalties for having different pairs of variables equal to 1.\n",
    "\n",
    "Note that in the linear part, we can simply square all of the variables, since $x_i = x_i^2$ for binary variables. We then transform the problem to minimisation of\n",
    "\n",
    "$$\n",
    "y^{\\prime} = -5x_1^2 -3x_2^2 -8x_3^2 -6x_4^2 + 4x_1x_2 + 8x_1x_3 + 2x_2x_3 + 10x_3x_4 \\\\\n",
    "= \\left(\\begin{matrix} x_4 & x_3 & x_2 & x_1\\end{matrix}\\right)\n",
    "\\left(\\begin{matrix}\n",
    "-6 & 5 & 0 & 0 \\\\\n",
    "5 & -8 & 1 & 4 \\\\\n",
    "0 & 1 & -3 & 2 \\\\\n",
    "0 & 4 & 2 & -5\n",
    "\\end{matrix}\n",
    "\\right)\n",
    "\\left(\\begin{matrix} x_4\\\\ x_3 \\\\ x_2 \\\\ x_1 \\end{matrix}\\right)\n",
    "$$\n",
    "\n",
    "We have ordered the variables in the binary strings such that $x_1$ appears as the least significant bit (i.e. on the right of the register), which corresponds to a common convention in the quantum computing community, and in particular for Rigetti's Pyquil: see __[here](http://docs.rigetti.com/en/stable/wavefunction_simulator.html#multi-qubit-basis-enumeration)__ for more information. Let's plot the function to see what the energy landscape looks like."
   ]
  },
  {
   "cell_type": "code",
   "execution_count": 2,
   "metadata": {},
   "outputs": [
    {
     "data": {
      "image/png": "[encoded data removed]",
      "text/plain": [
       "<Figure size 432x288 with 1 Axes>"
      ]
     },
     "metadata": {
      "needs_background": "light"
     },
     "output_type": "display_data"
    }
   ],
   "source": [
    "def func_y(config):\n",
    "    \n",
    "    matr = np.array([[-6, 5, 0, 0], [5, -8, 1, 4], [0, 1, -3, 2], [0, 4, 2, -5]])\n",
    "    \n",
    "    return config @ matr @ config\n",
    "\n",
    "def num_2_bin(num):\n",
    "    \n",
    "    bin_str = np.binary_repr(num, width=4)\n",
    "    bin_arr = np.array([int(x) for x in bin_str])\n",
    "    \n",
    "    return bin_arr\n",
    "\n",
    "y_vals = [func_y(num_2_bin(i)) for i in range(16)]\n",
    "bin_strings = ['{0:04b}'.format(i) for i in range(16)]\n",
    "\n",
    "plt.plot(y_vals,'o-')\n",
    "plt.xticks(range(16), bin_strings, rotation=70);\n",
    "plt.ylabel('y')\n",
    "plt.show()"
   ]
  },
  {
   "cell_type": "markdown",
   "metadata": {},
   "source": [
    "The optimal solution is $x_1 = x_4 = 1$, $x_2 = x_3 = 0$, i.e. the bitstring 1001 (the binary representation of the number 9). Its corresponding function value is -11.\n",
    "\n",
    "## Mapping to QAOA\n",
    "\n",
    "To solve the problem using QAOA, we can associate the variable $x_i$ with the $i^{th}$ qubit of our quantum register. If the variable takes value 0, this corresponds to the qubit state being in state $|0\\rangle$; likewise, the value 1 corresponds to the qubit being in state $|1\\rangle$.\n",
    "\n",
    "On a quantum computer we measure the state of a qubit in the $\\{|0\\rangle, |1\\rangle\\}$ basis by applying the $Z$ operator. However, the eigenvalues of this operator are $+1$ for the state $|0\\rangle$, and $-1$ for the state $|1\\rangle$. In order to map this to the 0,1 values of binary variables, we need to modify the measurement operator to be\n",
    "\n",
    "$$ x_i \\leftrightarrow \\frac{\\mathbb{I} - Z_i}{2} $$\n",
    "\n",
    "where $\\mathbb{I}$ is the identity operator.  With these considerations, the Hamiltonian $H_y$ encoding our objective function $y$ is:\n",
    "\n",
    "\n",
    "$$\n",
    "H_y = -\\frac{1}{4}\\left[5(\\mathbb{I} - Z_1)^2 + 3(\\mathbb{I} - Z_2)^2 + 8(\\mathbb{I} - Z_3)^2 + 6(\\mathbb{I} - Z_4)^2\\right] \\\\ \n",
    "+ \\frac{1}{4}\\left[4(\\mathbb{I} - Z_1)(\\mathbb{I} - Z_2) + 8(\\mathbb{I} - Z_1)(\\mathbb{I} - Z_3) + 2(\\mathbb{I} - Z_2)(\\mathbb{I} - Z_3) + 10(\\mathbb{I} - Z_3)(\\mathbb{I} - Z_4)\\right]\n",
    "$$\n",
    "\n",
    "Let's now set the problem up and proceed to solve it using QAOA."
   ]
  },
  {
   "cell_type": "code",
   "execution_count": 2,
   "metadata": {},
   "outputs": [],
   "source": [
    "# Linear part of the Hamiltonian\n",
    "# For simplicity here we do not sqaure each term, as this does not affect the outcome\n",
    "ham_lin = -0.5*PauliSum.from_compact_str('(-5)*Z1 + (-3)*Z2 + (-8)*Z3 + (-6)*Z4 + 22*I')\n",
    "\n",
    "# Quadratic part of the Hamiltonian\n",
    "ham_poly = 0.25*PauliSum.from_compact_str('4*Z1*Z2 + 4*I + (-4)*Z1 + (-4)*Z2 + 8*Z1*Z3 + 8*I + (-8)*Z1 + (-8)*Z3')\n",
    "ham_poly += 0.25*PauliSum.from_compact_str('2*Z2*Z3 + 2*I + (-2)*Z2 + (-2)*Z3 + 10*Z3*Z4 + 10*I + (-10)*Z3 + (-10)*Z4')\n",
    "\n",
    "ham = ham_lin + ham_poly"
   ]
  },
  {
   "cell_type": "markdown",
   "metadata": {},
   "source": [
    "We can check that the eigenvalues of the Hamiltonian `ham` correspond to the function values we plotted above:"
   ]
  },
  {
   "cell_type": "code",
   "execution_count": 4,
   "metadata": {},
   "outputs": [
    {
     "name": "stdout",
     "output_type": "stream",
     "text": [
      "Eigenvalues:  [  0.+0.j  -5.+0.j  -3.+0.j  -4.+0.j  -8.+0.j  -5.+0.j  -9.+0.j  -2.+0.j\n",
      "  -6.+0.j -11.+0.j  -9.+0.j -10.+0.j  -4.+0.j  -1.+0.j  -5.+0.j   2.+0.j]\n",
      "\n",
      "Function values:  [0, -5, -3, -4, -8, -5, -9, -2, -6, -11, -9, -10, -4, -1, -5, 2]\n"
     ]
    }
   ],
   "source": [
    "ham_matrix = lifted_pauli(ham, ham.get_qubits())\n",
    "print('Eigenvalues: ', np.diag(ham_matrix)) # NB: ham is diagonal in the Z basis\n",
    "print('')\n",
    "print('Function values: ', y_vals)"
   ]
  },
  {
   "cell_type": "markdown",
   "metadata": {},
   "source": [
    "## Solution with `StandardParams`\n",
    "\n",
    "Let's tackle the problem using the `StandardParams` parametrisation. We'll see how we do with $p=3$ timesteps, using Cobyla as our optimiser, and the `linear_ramp_from_hamiltonian` function to set up our inital parameters."
   ]
  },
  {
   "cell_type": "code",
   "execution_count": 5,
   "metadata": {},
   "outputs": [
    {
     "data": {
      "text/plain": [
       "     fun: -9.481743378102294\n",
       "   maxcv: 0.0\n",
       " message: 'Optimization terminated successfully.'\n",
       "    nfev: 229\n",
       "  status: 1\n",
       " success: True\n",
       "       x: array([0.57705579, 0.36725195, 0.17168154, 0.13192841, 0.27705965,\n",
       "       0.31679062])"
      ]
     },
     "execution_count": 5,
     "metadata": {},
     "output_type": "execute_result"
    }
   ],
   "source": [
    "p = 3\n",
    "standard_params = StandardParams.linear_ramp_from_hamiltonian(ham,p)\n",
    "\n",
    "# Set up cost function and run optimisation\n",
    "cost_std = QAOACostFunctionOnWFSim(ham,standard_params)\n",
    "res_std = minimize(cost_std, standard_params.raw(), method = 'Cobyla')\n",
    "\n",
    "# Print the output\n",
    "res_std"
   ]
  },
  {
   "cell_type": "markdown",
   "metadata": {},
   "source": [
    "The expectation value of the cost Hamiltonian `ham` is -9.48, however we know the true solution to have cost -11. Evidently, our QAOA circuit has not returned the correct solution, however we can examine the probability distribution of the output quantum state:"
   ]
  },
  {
   "cell_type": "code",
   "execution_count": 6,
   "metadata": {},
   "outputs": [
    {
     "data": {
      "image/png": "[encoded data removed]",
      "text/plain": [
       "<Figure size 432x288 with 1 Axes>"
      ]
     },
     "metadata": {
      "needs_background": "light"
     },
     "output_type": "display_data"
    }
   ],
   "source": [
    "state = cost_std.get_wavefunction(res_std.x)\n",
    "probs = state.probabilities()\n",
    "labels = [r'$\\left|{0:04b}\\right>$'.format(i) for i in range(16)]\n",
    "plt.bar(range(16),probs)\n",
    "plt.xticks(range(16), labels, rotation=70);"
   ]
  },
  {
   "cell_type": "markdown",
   "metadata": {},
   "source": [
    "Observe that the most probable state is $|1001\\rangle$, which does indeed correspond to the minimum energy configuration of the variables. However, if we were to sample from a quantum computer, the above distribution would not allow us to conclude with high confidence that we have found the solution: there are several other bit strings with relatively high probabilities too.\n",
    "\n",
    "Let's try increasing the parameter $p$ (the circuit depth) to see how more likely we are to obtain the optimal solution. To do this, we'll define a simple convenience function."
   ]
  },
  {
   "cell_type": "code",
   "execution_count": 7,
   "metadata": {},
   "outputs": [],
   "source": [
    "def state_prob_p(p):\n",
    "    \n",
    "    \"\"\"\n",
    "    Applies the QAOA circuit and returns the probability of measuring the bitstring 1001\n",
    "    \"\"\"\n",
    "    \n",
    "    params_std = StandardParams.linear_ramp_from_hamiltonian(ham,p)\n",
    "    cost_std = QAOACostFunctionOnWFSim(ham,params_std)\n",
    "    res_std = minimize(cost_std, params_std.raw(), method = 'Cobyla')\n",
    "    state = cost_std.get_wavefunction(res_std.x)\n",
    "    probs = state.probabilities()\n",
    "    \n",
    "    return probs[9] # The bitstring 1001 is the 9th entry of the vector of probabilities"
   ]
  },
  {
   "cell_type": "markdown",
   "metadata": {},
   "source": [
    "We will run the above function for different values of $p$, and see how the probability of the optimal bistring 1001 increases."
   ]
  },
  {
   "cell_type": "code",
   "execution_count": 8,
   "metadata": {},
   "outputs": [],
   "source": [
    "# Running this cell should take 2 or 3 minutes.\n",
    "p_vals = np.arange(1,13)\n",
    "probability_opt_state = [state_prob_p(i) for i in p_vals]"
   ]
  },
  {
   "cell_type": "code",
   "execution_count": 9,
   "metadata": {},
   "outputs": [
    {
     "data": {
      "image/png": "[encoded data removed]",
      "text/plain": [
       "<Figure size 432x288 with 1 Axes>"
      ]
     },
     "metadata": {
      "needs_background": "light"
     },
     "output_type": "display_data"
    }
   ],
   "source": [
    "# Plot the probabilities\n",
    "plt.plot(p_vals,probability_opt_state,'o-')\n",
    "plt.xlabel('p')\n",
    "plt.ylabel('Prob. of ' + r'$|1001\\rangle$')\n",
    "plt.show()"
   ]
  },
  {
   "cell_type": "markdown",
   "metadata": {},
   "source": [
    "Clearly the optimal bit string probability approaches unity with increasing $p$."
   ]
  },
  {
   "cell_type": "markdown",
   "metadata": {},
   "source": [
    "<a id='references'></a>\n",
    "\n",
    "## References\n",
    "\n",
    "1. F. Glover et al, __[*A Tutorial on Formulating and Using QUBO Models*](https://arxiv.org/pdf/1811.11538.pdf)__."
   ]
  }
 ],
 "metadata": {
  "kernelspec": {
   "display_name": "Python 3",
   "language": "python",
   "name": "python3"
  },
  "language_info": {
   "codemirror_mode": {
    "name": "ipython",
    "version": 3
   },
   "file_extension": ".py",
   "mimetype": "text/x-python",
   "name": "python",
   "nbconvert_exporter": "python",
   "pygments_lexer": "ipython3",
   "version": "3.7.3"
  }
 },
 "nbformat": 4,
 "nbformat_minor": 2
}
