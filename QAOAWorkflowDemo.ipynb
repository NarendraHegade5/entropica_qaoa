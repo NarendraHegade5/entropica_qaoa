{
 "cells": [
  {
   "cell_type": "markdown",
   "metadata": {},
   "source": [
    "# An example workflow of the QAOA package\n",
    "\n",
    "This notebook walks through a simple example workflow, from start to finish."
   ]
  },
  {
   "cell_type": "code",
   "execution_count": 1,
   "metadata": {},
   "outputs": [],
   "source": [
    "import numpy as np\n",
    "import matplotlib.pyplot as plt\n",
    "from typing import Type, Iterable\n",
    "\n",
    "# import the neccesary pyquil modules\n",
    "from qaoa.cost_function import QAOACostFunctionOnQVM, QAOACostFunctionOnWFSim\n",
    "from pyquil.api import local_qvm, WavefunctionSimulator\n",
    "from pyquil.paulis import PauliSum, PauliTerm\n",
    "\n",
    "# import the QAOAParameters that we want to demo\n",
    "from qaoa.parameters import AdiabaticTimestepsQAOAParameters,\\\n",
    "AlternatingOperatorsQAOAParameters, AbstractQAOAParameters, GeneralQAOAParameters,\\\n",
    "QAOAParameterIterator, FourierQAOAParameters\n",
    "\n",
    "from vqe.optimizer import scipy_optimizer"
   ]
  },
  {
   "cell_type": "markdown",
   "metadata": {},
   "source": [
    "## Set up the problem hyperparameters\n",
    "\n",
    "We start by setting up the Hamiltonian encoding the cost function we wish to minimise, as well as the timesteps to run QAOA. We do so by first using the `AbstractQAOAParameterClass`, however we could just as easily set up any specific parametrisation directly - see the notebook _\"A demo how to work with `QAOAParameter` classes\"_ for more details. [Should hyperlink to that notebook when online]\n",
    " "
   ]
  },
  {
   "cell_type": "code",
   "execution_count": 2,
   "metadata": {},
   "outputs": [
    {
     "name": "stdout",
     "output_type": "stream",
     "text": [
      "hamiltonian = (0.7+0j)*Z0*Z1 + (1.2+0j)*Z0*Z2 + (-0.5+0j)*Z0\n",
      "Hyperparameters:\n",
      "\tregister: [0, 1, 2]\n",
      "\tqubits_singles: [0]\n",
      "\tsingle_qubit_coeffs: [-0.5]\n",
      "\tqubits_pairs: [[0, 1], [0, 2]]\n",
      "\tpair_qubit_coeffs: [0.7 1.2]\n",
      "\ttimesteps: 2\n",
      "\n"
     ]
    }
   ],
   "source": [
    "hamiltonian = PauliSum.from_compact_str(\"0.7*Z0*Z1 + 1.2*Z0*Z2 + (-0.5)*Z0\")\n",
    "print(\"hamiltonian =\", hamiltonian)\n",
    "\n",
    "timesteps = 2\n",
    "myAbstractParams = AbstractQAOAParameters([hamiltonian,timesteps])\n",
    "print(myAbstractParams)"
   ]
  },
  {
   "cell_type": "markdown",
   "metadata": {},
   "source": [
    "## Specfify the variable parameters and create corresponding `QAOAParameters` object\n",
    "\n",
    "Here we will set up `AlternatingOperatorsQAOAParameters` - this corresponds to the parametrisation of the original QAOA paper by Farhi et al, where the mixer and cost Hamiltonian each have one angle per timestep (giving a total of 2p parameters to optimise over)."
   ]
  },
  {
   "cell_type": "code",
   "execution_count": 3,
   "metadata": {},
   "outputs": [
    {
     "name": "stdout",
     "output_type": "stream",
     "text": [
      "Hyperparameters:\n",
      "\tregister: [0, 1, 2]\n",
      "\tqubits_singles: [0]\n",
      "\tqubits_pairs: [[0, 1], [0, 2]]\n",
      "Parameters:\n",
      "\tbetas: [0.1 0.6]\n",
      "\tgammas_singles: [0.4 0.5]\n",
      "\tgammas_pairs: [0.1 0.3]\n",
      "\n"
     ]
    }
   ],
   "source": [
    "# Specify some angles\n",
    "betas          = [0.1, 0.6]\n",
    "gammas_singles = [0.4, 0.5]\n",
    "gammas_pairs   = [0.1, 0.3]\n",
    "parameters = (betas, gammas_singles, gammas_pairs)\n",
    "\n",
    "myAlternatingParams = AlternatingOperatorsQAOAParameters.from_AbstractParameters(myAbstractParams,parameters)\n",
    "print(myAlternatingParams)"
   ]
  },
  {
   "cell_type": "markdown",
   "metadata": {},
   "source": [
    "## Set up the cost function and running the optimiser"
   ]
  },
  {
   "cell_type": "markdown",
   "metadata": {},
   "source": [
    "Let's work on the wavefunction simulator (note this requires opening the qvm and quil compiler in separate terminal windows as explained in the Forest documentation). We create the `cost_function` object, with all the necessary inputs [Make another demo of the `cost_functions` or expand the details here]. \n",
    "\n",
    "[NOTES: (1) look into the `noisy` attribute here - has it been properly tested and benchmarked? (2) demo the use of the `log` attribute]"
   ]
  },
  {
   "cell_type": "code",
   "execution_count": 4,
   "metadata": {},
   "outputs": [],
   "source": [
    "# Set up the WavefunctionSimulator\n",
    "sim = WavefunctionSimulator()"
   ]
  },
  {
   "cell_type": "code",
   "execution_count": 5,
   "metadata": {},
   "outputs": [
    {
     "data": {
      "text/plain": [
       "     fun: -1.8002493644880277\n",
       "   maxcv: 0.0\n",
       " message: 'Optimization terminated successfully.'\n",
       "    nfev: 441\n",
       "  status: 1\n",
       " success: True\n",
       "       x: array([ 1.03411638, -0.30511381,  0.17188075,  0.00758402, -0.50965587,\n",
       "       -0.91605331])"
      ]
     },
     "execution_count": 5,
     "metadata": {},
     "output_type": "execute_result"
    }
   ],
   "source": [
    "cost_function = QAOACostFunctionOnWFSim(hamiltonian,\n",
    "                                        params=myAlternatingParams,\n",
    "                                        sim=sim,\n",
    "                                        return_standard_deviation=True,\n",
    "                                        noisy=False,\n",
    "                                        log=[])\n",
    "res = scipy_optimizer(cost_function, myAlternatingParams.raw(), epsilon=1e-3,\n",
    "                      maxiter=500)\n",
    "res\n"
   ]
  },
  {
   "cell_type": "markdown",
   "metadata": {},
   "source": [
    "We can check this against the value we should get, by finding the lowest eigenvalue of `hamiltonian`."
   ]
  },
  {
   "cell_type": "code",
   "execution_count": 6,
   "metadata": {},
   "outputs": [
    {
     "data": {
      "text/plain": [
       "(-2.4+0j)"
      ]
     },
     "execution_count": 6,
     "metadata": {},
     "output_type": "execute_result"
    }
   ],
   "source": [
    "ham_matrix = hamiltonian.matrix()\n",
    "eigs = np.linalg.eigvals(ham_matrix)\n",
    "min(eigs)"
   ]
  },
  {
   "cell_type": "markdown",
   "metadata": {},
   "source": [
    "Clearly we have not found the ground state energy. We can try increasing the number of timesteps:"
   ]
  },
  {
   "cell_type": "code",
   "execution_count": 7,
   "metadata": {},
   "outputs": [],
   "source": [
    "betas          = [0.1, 0.6, 0.8]\n",
    "gammas_singles = [0.4, 0.5, 0.6]\n",
    "gammas_pairs   = [0.1, 0.3, 0.5]\n",
    "parameters = (betas, gammas_singles, gammas_pairs)\n",
    "\n",
    "myAlternatingParams_p3 = AlternatingOperatorsQAOAParameters([hamiltonian,3],parameters)"
   ]
  },
  {
   "cell_type": "code",
   "execution_count": 8,
   "metadata": {},
   "outputs": [
    {
     "data": {
      "text/plain": [
       "     fun: -2.003521859659225\n",
       "   maxcv: 0.0\n",
       " message: 'Maximum number of function evaluations has been exceeded.'\n",
       "    nfev: 500\n",
       "  status: 2\n",
       " success: False\n",
       "       x: array([-1.11708954,  0.7255448 ,  1.9007215 ,  0.94227126,  0.46208833,\n",
       "        0.09262068, -0.29573531,  0.47288961,  0.93348071])"
      ]
     },
     "execution_count": 8,
     "metadata": {},
     "output_type": "execute_result"
    }
   ],
   "source": [
    "sim = WavefunctionSimulator()\n",
    "\n",
    "cost_function = QAOACostFunctionOnWFSim(hamiltonian,\n",
    "                                        params=myAlternatingParams_p3,\n",
    "                                        sim=sim,\n",
    "                                        return_standard_deviation=True,\n",
    "                                        noisy=False,\n",
    "                                        log=[])\n",
    "res = scipy_optimizer(cost_function, myAlternatingParams_p3.raw(), epsilon=1e-3,\n",
    "                      maxiter=500)\n",
    "res"
   ]
  },
  {
   "cell_type": "markdown",
   "metadata": {},
   "source": [
    "This is better, but still not the actual ground state. Since we don't seem to be doing very well with `AlternatingOperatorsQAOAParameters`, let's try the `GeneralQAOAParameters` parametrisation instead."
   ]
  },
  {
   "cell_type": "code",
   "execution_count": 9,
   "metadata": {},
   "outputs": [
    {
     "data": {
      "text/plain": [
       "     fun: -2.3999737306057503\n",
       "   maxcv: 0.0\n",
       " message: 'Maximum number of function evaluations has been exceeded.'\n",
       "    nfev: 500\n",
       "  status: 2\n",
       " success: False\n",
       "       x: array([ 7.85109896e-01,  9.49886941e-01,  1.72715008e-01, -1.72675901e-04,\n",
       "        5.12838922e-01,  8.08470075e-01,  4.05111852e-04,  2.72540223e-01,\n",
       "        3.19109481e-01,  1.56088201e+00,  8.15131099e-01,  1.07833412e+00,\n",
       "       -7.95895587e-05, -3.43042345e-05,  1.11732608e+00,  3.88988687e-01,\n",
       "        9.67772564e-03,  6.80313612e-01])"
      ]
     },
     "execution_count": 9,
     "metadata": {},
     "output_type": "execute_result"
    }
   ],
   "source": [
    "myGeneralParams_p3 = GeneralQAOAParameters.linear_ramp_from_hamiltonian(hamiltonian,timesteps=3)\n",
    "\n",
    "cost_function = QAOACostFunctionOnWFSim(hamiltonian,\n",
    "                                        params=myGeneralParams_p3,\n",
    "                                        sim=sim,\n",
    "                                        return_standard_deviation=True,\n",
    "                                        noisy=False,\n",
    "                                        log=[])\n",
    "res = scipy_optimizer(cost_function, myGeneralParams_p3.raw(), epsilon=1e-3,\n",
    "                      maxiter=500)\n",
    "res"
   ]
  },
  {
   "cell_type": "markdown",
   "metadata": {},
   "source": [
    "Bingo!"
   ]
  }
 ],
 "metadata": {
  "kernelspec": {
   "display_name": "Python 3",
   "language": "python",
   "name": "python3"
  },
  "language_info": {
   "codemirror_mode": {
    "name": "ipython",
    "version": 3
   },
   "file_extension": ".py",
   "mimetype": "text/x-python",
   "name": "python",
   "nbconvert_exporter": "python",
   "pygments_lexer": "ipython3",
   "version": "3.7.3"
  }
 },
 "nbformat": 4,
 "nbformat_minor": 2
}
