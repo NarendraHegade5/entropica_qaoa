{
 "cells": [
  {
   "cell_type": "code",
   "execution_count": 2,
   "metadata": {},
   "outputs": [],
   "source": [
    "import numpy as np\n",
    "import matplotlib.pyplot as plt\n",
    "from scipy.optimize import minimize"
   ]
  },
  {
   "cell_type": "markdown",
   "metadata": {},
   "source": [
    "This notebook quickly shows the utility of tracking function evaluations. The simple funtion used came from here:\n",
    "\n",
    "https://stackoverflow.com/questions/47381835/scipy-minimize-get-cost-function-vs-iteration"
   ]
  },
  {
   "cell_type": "code",
   "execution_count": 3,
   "metadata": {},
   "outputs": [
    {
     "data": {
      "text/plain": [
       "      fun: -0.9999999826618468\n",
       " hess_inv: array([[ 4.98239620e-01, -8.20198925e-05],\n",
       "       [-8.20198925e-05,  2.65219906e+02]])\n",
       "      jac: array([1.49011612e-08, 6.04242086e-06])\n",
       "  message: 'Optimization terminated successfully.'\n",
       "     nfev: 80\n",
       "      nit: 18\n",
       "     njev: 20\n",
       "   status: 0\n",
       "  success: True\n",
       "        x: array([1.        , 0.01147495])"
      ]
     },
     "execution_count": 3,
     "metadata": {},
     "output_type": "execute_result"
    }
   ],
   "source": [
    "# A parameter that will track the number of times we have called the cost function\n",
    "global calls\n",
    "calls = 0\n",
    "\n",
    "# A list of the parameters each time the cost function is called\n",
    "global param\n",
    "param = []\n",
    "\n",
    "def fun(x):\n",
    "  global param\n",
    "  global calls\n",
    "  global current_cost\n",
    "  calls += 1\n",
    "  current_cost = x[0]**2 - 2*x[0] + x[1]**4\n",
    "  param = x\n",
    "  return current_cost\n",
    "\n",
    "# Callback function\n",
    "def logcost(x):\n",
    "    cost_log.append([calls,param,current_cost])\n",
    "    \n",
    "cost_log = []\n",
    "minimize(fun, [3, 2],callback=logcost)"
   ]
  },
  {
   "cell_type": "code",
   "execution_count": 4,
   "metadata": {},
   "outputs": [
    {
     "data": {
      "text/plain": [
       "[[8, array([2.87472492, 0.99779936]), 3.5058199763814986],\n",
       " [16, array([0.94613606, 0.934064  ]), -0.2358850818406083],\n",
       " [20, array([0.96844879, 0.81350025]), -0.5610482268832008],\n",
       " [24, array([1.00001578, 0.57883118]), -0.88774448831044],\n",
       " [28, array([1.00006263, 0.44669955]), -0.9601835896374596],\n",
       " [32, array([1.00000035, 0.33431894]), -0.9875076570293674],\n",
       " [36, array([0.99999984, 0.2532019 ]), -0.9958897536899377],\n",
       " [40, array([0.99999999, 0.19089413]), -0.9986720850146886],\n",
       " [44, array([1.        , 0.14417203]), -0.9995679599485247],\n",
       " [48, array([1.        , 0.10881181]), -0.9998598141413761],\n",
       " [52, array([0.99999998, 0.08214551]), -0.99995446605427],\n",
       " [56, array([0.99999999, 0.06200813]), -0.9999852159161118],\n",
       " [60, array([0.99999999, 0.04680897]), -0.999995199170893],\n",
       " [64, array([1.        , 0.03533521]), -0.9999984410557426],\n",
       " [68, array([0.99999998, 0.02667357]), -0.9999994937970043],\n",
       " [72, array([0.99999999, 0.02013596]), -0.9999998356048524],\n",
       " [76, array([0.99999999, 0.0151998 ]), -0.9999999466232976],\n",
       " [80, array([1.        , 0.01147496]), -0.9999999826617567]]"
      ]
     },
     "execution_count": 4,
     "metadata": {},
     "output_type": "execute_result"
    }
   ],
   "source": [
    "cost_log"
   ]
  },
  {
   "cell_type": "markdown",
   "metadata": {},
   "source": [
    "Here, the left column shows the number of function evaluations that have been performed up to the given iteration; the middle column shows the parameters at that iteration; and the right column gives the cost function value."
   ]
  },
  {
   "cell_type": "code",
   "execution_count": 11,
   "metadata": {},
   "outputs": [],
   "source": [
    "fevals = [entry[0] for entry in cost_log]\n",
    "param1 = [entry[1][0] for entry in cost_log]\n",
    "param2 = [entry[1][1] for entry in cost_log]"
   ]
  },
  {
   "cell_type": "code",
   "execution_count": 15,
   "metadata": {},
   "outputs": [
    {
     "data": {
      "image/png": "[encoded data removed]",
      "text/plain": [
       "<Figure size 432x288 with 1 Axes>"
      ]
     },
     "metadata": {
      "needs_background": "light"
     },
     "output_type": "display_data"
    }
   ],
   "source": [
    "plt.plot(fevals,param1)\n",
    "plt.show()"
   ]
  },
  {
   "cell_type": "code",
   "execution_count": 16,
   "metadata": {},
   "outputs": [
    {
     "data": {
      "image/png": "[encoded data removed]",
      "text/plain": [
       "<Figure size 432x288 with 1 Axes>"
      ]
     },
     "metadata": {
      "needs_background": "light"
     },
     "output_type": "display_data"
    }
   ],
   "source": [
    "plt.plot(fevals,param2)\n",
    "plt.show()"
   ]
  },
  {
   "cell_type": "markdown",
   "metadata": {},
   "source": [
    "We see that the solver spends a long time tweaking parameter 2, and moreover to very little effect - the cost function value hardly changes after the first few iterations."
   ]
  }
 ],
 "metadata": {
  "kernelspec": {
   "display_name": "Python 3",
   "language": "python",
   "name": "python3"
  },
  "language_info": {
   "codemirror_mode": {
    "name": "ipython",
    "version": 3
   },
   "file_extension": ".py",
   "mimetype": "text/x-python",
   "name": "python",
   "nbconvert_exporter": "python",
   "pygments_lexer": "ipython3",
   "version": "3.7.2"
  }
 },
 "nbformat": 4,
 "nbformat_minor": 2
}
