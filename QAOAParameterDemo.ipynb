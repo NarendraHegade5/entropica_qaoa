{
 "cells": [
  {
   "cell_type": "markdown",
   "metadata": {},
   "source": [
    "# A demo how to work with `QAOAParameter` classes\n",
    "\n",
    "Farhi et al proposed in their original paper about QAOA the following Ansatz for the QAOA circuit:\n",
    "\n",
    "$$\n",
    "U = e^{-i \\beta_p H_0} e^{-i \\gamma_p H_1} \\cdots e^{-i \\beta_0 H_0} e^{-i \\gamma  H_1}.\n",
    "$$\n",
    "...\n",
    "\n",
    "### ToDo for this Demo\n",
    " - [ ] Finish the explanation of the different parametrizations\n",
    " - [ ] Explain _well_ what the `gammas_pairs`, `gammas_singles` and `betas` are in the raw format.\n",
    " - [ ] Demo _all_ different parametrizations that we have"
   ]
  },
  {
   "cell_type": "code",
   "execution_count": 16,
   "metadata": {},
   "outputs": [],
   "source": [
    "# import the standard modules from python\n",
    "import numpy as np\n",
    "import matplotlib.pyplot as plt\n",
    "from typing import Type, Iterable\n",
    "\n",
    "# import the neccesary pyquil modules\n",
    "from pyquil.paulis import PauliSum, PauliTerm\n",
    "\n",
    "# import the QAOAParameters that we want to demo\n",
    "from qaoa.parameters import AdiabaticTimestepsQAOAParameters, AlternatingOperatorsQAOAParameters, AbstractQAOAParameters, GeneralQAOAParameters, QAOAParameterIterator, FourierQAOAParameters"
   ]
  },
  {
   "cell_type": "markdown",
   "metadata": {},
   "source": [
    "Let us first create a hamiltonian to work with:"
   ]
  },
  {
   "cell_type": "code",
   "execution_count": 2,
   "metadata": {},
   "outputs": [
    {
     "name": "stdout",
     "output_type": "stream",
     "text": [
      "hamiltonian = (0.7+0j)*Z0*Z1 + (1.2+0j)*Z0*Z2 + (-0.5+0j)*Z0\n"
     ]
    }
   ],
   "source": [
    "# create a hamiltonian on 3 qubits with 2 coupling terms and 1 bias term\n",
    "hamiltonian = PauliSum.from_compact_str(\"0.7*Z0*Z1 + 1.2*Z0*Z2 + (-0.5)*Z0\")\n",
    "print(\"hamiltonian =\", hamiltonian)"
   ]
  },
  {
   "cell_type": "markdown",
   "metadata": {},
   "source": [
    "## Building the parameters automatically with `.linear_ramp_from_hamiltonian()`\n",
    "\n",
    "The easiest way to create `AlternatingOperatorsQAOAParameters` that work exactly with our Hamiltonian, is to use the `AlternatingOperatorsQAOAParameters.linear_ramp_from_hamiltonian` function:"
   ]
  },
  {
   "cell_type": "code",
   "execution_count": 4,
   "metadata": {},
   "outputs": [
    {
     "name": "stdout",
     "output_type": "stream",
     "text": [
      "Hyperparameters:\n",
      "\tregister: [0, 1, 2]\n",
      "\tqubits_singles: [0]\n",
      "\tqubits_pairs: [[0, 1], [0, 2]]\n",
      "Parameters:\n",
      "\tbetas: [0.375, 0.125]\n",
      "\tgammas_singles: [0.125, 0.375]\n",
      "\tgammas_pairs: [0.125, 0.375]\n",
      "\n"
     ]
    }
   ],
   "source": [
    "timesteps = 2       # equivalent to p in Farhis original paper\n",
    "time = 1            # total time of the annelaing schedule\n",
    "params = AlternatingOperatorsQAOAParameters\\\n",
    "            .linear_ramp_from_hamiltonian(hamiltonian, timesteps, time = time) \n",
    "print(params)"
   ]
  },
  {
   "cell_type": "markdown",
   "metadata": {},
   "source": [
    "We see, that if we print `params`, it gives us the timesteps the angles and on which combinations of qubits they act. But we can also have a look at the _internal_ `x_rotation_angles`, `z_rotation_angles` and `zz_rotation_angles` that were automatically calculated under the hood. These are the coefficients that are applied to the single terms in the exponentiated hamiltonian."
   ]
  },
  {
   "cell_type": "code",
   "execution_count": 13,
   "metadata": {},
   "outputs": [
    {
     "name": "stdout",
     "output_type": "stream",
     "text": [
      "\n",
      " x_rotation_angles:\n",
      " [[0.0, 0.0, 0.0], [0.125, 0.125, 0.125]]\n",
      "\n",
      " z_rotation_angles:\n",
      " [[-0.0625], [-0.1875]]\n",
      "\n",
      " zz_rotation_angles:\n",
      " [[0.0875, 0.15], [0.26249999999999996, 0.44999999999999996]]\n"
     ]
    }
   ],
   "source": [
    "print(\"\\n x_rotation_angles:\\n\", params.x_rotation_angles)\n",
    "print(\"\\n z_rotation_angles:\\n\", params.z_rotation_angles)\n",
    "print(\"\\n zz_rotation_angles:\\n\", params.zz_rotation_angles)"
   ]
  },
  {
   "cell_type": "markdown",
   "metadata": {},
   "source": [
    "Now we could pass these `params` straight to a cost_function that we built with `qaoa.cost_function.QAOACostFunctionOnQVM` or with `qaoa.cost_function.QAOACostFunctionOnWFSim`. But often we will be interested in modifying the parameters, before running QAOA with them. The way the cost_function does this, is by getting a flat list with parameters via `params.raw()`, changing the values in that list and feeding it back to `params` via `params.update()`:"
   ]
  },
  {
   "cell_type": "code",
   "execution_count": 9,
   "metadata": {},
   "outputs": [
    {
     "name": "stdout",
     "output_type": "stream",
     "text": [
      "the raw parameters:\n",
      " [0.0, 0.125, 0.125, 0.375, 0.125, 0.375]\n",
      "\n",
      "the new raw parameters:\n",
      " [0.0, 0.125, 0.125, 0.375, 0.125, 0.375]\n",
      "\n",
      "and the updated parameters:\n",
      " Hyperparameters:\n",
      "\tregister: [0, 1, 2]\n",
      "\tqubits_singles: [0]\n",
      "\tqubits_pairs: [[0, 1], [0, 2]]\n",
      "Parameters:\n",
      "\tbetas: [0.0, 0.125]\n",
      "\tgammas_singles: [0.125, 0.375]\n",
      "\tgammas_pairs: [0.125, 0.375]\n",
      "\n"
     ]
    }
   ],
   "source": [
    "# get the raw parameters and print them\n",
    "raw = params.raw()\n",
    "print(\"the raw parameters:\\n\", raw)\n",
    "\n",
    "# change a value and put it back via params.update()\n",
    "raw[0] = 0.0\n",
    "print(\"\\nthe new raw parameters:\\n\", raw)\n",
    "params.update_from_raw(raw)\n",
    "print(\"\\nand the updated parameters:\\n\", params)"
   ]
  },
  {
   "cell_type": "markdown",
   "metadata": {},
   "source": [
    "and we can convince us that under the hood the `gammas_singles`, `gammas_pairs` and `betas` were also automatically updated:"
   ]
  },
  {
   "cell_type": "code",
   "execution_count": 14,
   "metadata": {},
   "outputs": [
    {
     "name": "stdout",
     "output_type": "stream",
     "text": [
      "\n",
      " x_rotation_angles:\n",
      " [[0.0, 0.0, 0.0], [0.125, 0.125, 0.125]]\n",
      "\n",
      " z_rotation_angles:\n",
      " [[-0.0625], [-0.1875]]\n",
      "\n",
      " zz_rotation_angles:\n",
      " [[0.0875, 0.15], [0.26249999999999996, 0.44999999999999996]]\n"
     ]
    }
   ],
   "source": [
    "print(\"\\n x_rotation_angles:\\n\", params.x_rotation_angles)\n",
    "print(\"\\n z_rotation_angles:\\n\", params.z_rotation_angles)\n",
    "print(\"\\n zz_rotation_angles:\\n\", params.zz_rotation_angles)"
   ]
  },
  {
   "cell_type": "markdown",
   "metadata": {},
   "source": [
    "## Building the parameters manually\n",
    "\n",
    "Sometimes we don't want to build a QAOAParametersObject automaticall via `.linear_ramp_from_hamiltonian()`, but want some more finde grained control. So we can instead specify all that needs to be know manually and passing that to the constructor.\n",
    "Fully specified QAOAParameters consist of hyperparameters, that don't change over the lifetime of a QAOA optimization run and \"normal\" parameters that are varied during the optimization.\n",
    "\n",
    "The hyperparameters are the number of timesteps and the cost hamiltonian and possibly the number `q` of fourier parameters or the total annealing time `T`.\n",
    "\n",
    "The parameters that are variable, are in the case of `AdiabaticTimestepsQAOAParameters`, the times at which to change the hamiltonian. In the case of `AlternatingOperatorsQAOAParameters` they are the `gammas_singles`, `gammas_pairs` and `betas` and for `FourierQAOAParameters` they are `v, u_singles, u_pairs`"
   ]
  },
  {
   "cell_type": "code",
   "execution_count": 21,
   "metadata": {},
   "outputs": [
    {
     "name": "stdout",
     "output_type": "stream",
     "text": [
      "Hyperparameters:\n",
      "\tregister: [0, 1, 2]\n",
      "\tqubits_singles: [0]\n",
      "\tqubits_pairs: [[0, 1], [0, 2]]\n",
      "Parameters:\n",
      "\tbetas: [0.25, 0.5, 1.0]\n",
      "\tgammas_singles: [1.0, 0.5, 0.3]\n",
      "\tgammas_pairs: [1.0, 0.5, 0.3]\n",
      "\n"
     ]
    }
   ],
   "source": [
    "# the constant parameters\n",
    "ntimesteps = 3                # the number of timesteps\n",
    "\n",
    "# put them into a nice tuple\n",
    "hyperparameters = (hamiltonian, ntimesteps)\n",
    "\n",
    "# the variable parameters --- in this case the timesteps\n",
    "betas = [0.25, 0.5, 1.0]\n",
    "gammas_singles = [1.0, 0.5, 0.3]\n",
    "gammas_pairs = [1.0, 0.5, 0.3]\n",
    "# and make them a tuple.\n",
    "variable_parameters = (betas, gammas_singles, gammas_pairs)\n",
    "manual_params = AlternatingOperatorsQAOAParameters(hyperparameters,\n",
    "                                                   variable_parameters)\n",
    "print(manual_params)"
   ]
  },
  {
   "cell_type": "markdown",
   "metadata": {},
   "source": [
    "Now if we want to change this parameters, we can do it again by getting the flat list of all of them with `manual_params.raw()`, changing them and putting them back with `manual_params.update()`. But this requires, that we know where in the long list of parameters the one is. It is much easier, to just change change them manually:"
   ]
  },
  {
   "cell_type": "code",
   "execution_count": 22,
   "metadata": {},
   "outputs": [
    {
     "name": "stdout",
     "output_type": "stream",
     "text": [
      "Hyperparameters:\n",
      "\tregister: [0, 1, 2]\n",
      "\tqubits_singles: [0]\n",
      "\tqubits_pairs: [[0, 1], [0, 2]]\n",
      "Parameters:\n",
      "\tbetas: [0.25, 0.5, 1.0]\n",
      "\tgammas_singles: [1.0, 0.5, 0.3]\n",
      "\tgammas_pairs: [1.0, 0.5, 0.3]\n",
      "\n"
     ]
    }
   ],
   "source": [
    "manual_params.betas, manual_params.gammas_singles, manual_params.gammas_pairs =\\\n",
    "    betas, gammas_singles, gammas_pairs\n",
    "print(manual_params)"
   ]
  },
  {
   "cell_type": "markdown",
   "metadata": {},
   "source": [
    "And if we want to change only one value in the parameters, we can do this too:"
   ]
  },
  {
   "cell_type": "code",
   "execution_count": 23,
   "metadata": {},
   "outputs": [
    {
     "name": "stdout",
     "output_type": "stream",
     "text": [
      "Hyperparameters:\n",
      "\tregister: [0, 1, 2]\n",
      "\tqubits_singles: [0]\n",
      "\tqubits_pairs: [[0, 1], [0, 2]]\n",
      "Parameters:\n",
      "\tbetas: [3.141592653589793, 0.5, 1.0]\n",
      "\tgammas_singles: [1.0, 0.5, 0.3]\n",
      "\tgammas_pairs: [1.0, 0.5, 0.3]\n",
      "\n"
     ]
    }
   ],
   "source": [
    "manual_params.betas[0] = np.pi\n",
    "print(manual_params)"
   ]
  },
  {
   "cell_type": "markdown",
   "metadata": {},
   "source": [
    "We see, that the `betas`, `gammas_singles` and `gammas_pairs` have changed, while the constant parameters `register`, `qubits_singles` and `qubits_pairs` didn't change. We can also see, what happened to the final coefficients, that are passed to `qaoa._qaoa_annealing_program`:"
   ]
  },
  {
   "cell_type": "code",
   "execution_count": 9,
   "metadata": {},
   "outputs": [
    {
     "name": "stdout",
     "output_type": "stream",
     "text": [
      "\n",
      " betas:\n",
      " [[0.0, 0.0, 0.0], [0.125, 0.125, 0.125]]\n",
      "\n",
      " gammas_singles:\n",
      " [[-0.0625], [-0.1875]]\n",
      "\n",
      " gammas_pairs:\n",
      " [[0.0875, 0.15], [0.26249999999999996, 0.44999999999999996]]\n"
     ]
    }
   ],
   "source": [
    "print(\"\\n betas:\\n\", params.betas)\n",
    "print(\"\\n gammas_singles:\\n\", params.gammas_singles)\n",
    "print(\"\\n gammas_pairs:\\n\", params.gammas_pairs)"
   ]
  },
  {
   "cell_type": "markdown",
   "metadata": {},
   "source": [
    "Let us check once again, that the rotation angles got updated accordingly:"
   ]
  },
  {
   "cell_type": "code",
   "execution_count": 24,
   "metadata": {},
   "outputs": [
    {
     "name": "stdout",
     "output_type": "stream",
     "text": [
      "\n",
      " x_rotation_angles:\n",
      " [[3.141592653589793, 3.141592653589793, 3.141592653589793], [0.5, 0.5, 0.5], [1.0, 1.0, 1.0]]\n",
      "\n",
      " z_rotation_angles:\n",
      " [[-0.5], [-0.25], [-0.15]]\n",
      "\n",
      " zz_rotation_angles:\n",
      " [[0.7, 1.2], [0.35, 0.6], [0.21, 0.36]]\n"
     ]
    }
   ],
   "source": [
    "print(\"\\n x_rotation_angles:\\n\", manual_params.x_rotation_angles)\n",
    "print(\"\\n z_rotation_angles:\\n\", manual_params.z_rotation_angles)\n",
    "print(\"\\n zz_rotation_angles:\\n\", manual_params.zz_rotation_angles)"
   ]
  },
  {
   "cell_type": "markdown",
   "metadata": {},
   "source": [
    "## Iterating over parameter ranges\n",
    "Often enough, we want to see what happens if we keep all parameters except for one constant. Using `QAOAParameterIterator` gives a convenient way of doing that.\n",
    "\n",
    "Take any object of subtype of `AbstractQAOAParamters`, e.g. the `manual_params` that we just created, and have a look what the variable parameters are, that can be changed by printing it:"
   ]
  },
  {
   "cell_type": "code",
   "execution_count": 25,
   "metadata": {},
   "outputs": [
    {
     "name": "stdout",
     "output_type": "stream",
     "text": [
      "Hyperparameters:\n",
      "\tregister: [0, 1, 2]\n",
      "\tqubits_singles: [0]\n",
      "\tqubits_pairs: [[0, 1], [0, 2]]\n",
      "Parameters:\n",
      "\tbetas: [3.141592653589793, 0.5, 1.0]\n",
      "\tgammas_singles: [1.0, 0.5, 0.3]\n",
      "\tgammas_pairs: [1.0, 0.5, 0.3]\n",
      "\n"
     ]
    }
   ],
   "source": [
    "print(manual_params)"
   ]
  },
  {
   "cell_type": "markdown",
   "metadata": {},
   "source": [
    "As we see, we could for example take one of the `gammas_singles` to iterate over. How about the second one `gammas_singles[1]`:"
   ]
  },
  {
   "cell_type": "code",
   "execution_count": 26,
   "metadata": {},
   "outputs": [
    {
     "name": "stdout",
     "output_type": "stream",
     "text": [
      "Hyperparameters:\n",
      "\tregister: [0, 1, 2]\n",
      "\tqubits_singles: [0]\n",
      "\tqubits_pairs: [[0, 1], [0, 2]]\n",
      "Parameters:\n",
      "\tbetas: [3.141592653589793, 0.5, 1.0]\n",
      "\tgammas_singles: [1.0, 0.0, 0.3]\n",
      "\tgammas_pairs: [1.0, 0.5, 0.3]\n",
      "\n",
      "Hyperparameters:\n",
      "\tregister: [0, 1, 2]\n",
      "\tqubits_singles: [0]\n",
      "\tqubits_pairs: [[0, 1], [0, 2]]\n",
      "Parameters:\n",
      "\tbetas: [3.141592653589793, 0.5, 1.0]\n",
      "\tgammas_singles: [1.0, 0.3334, 0.3]\n",
      "\tgammas_pairs: [1.0, 0.5, 0.3]\n",
      "\n",
      "Hyperparameters:\n",
      "\tregister: [0, 1, 2]\n",
      "\tqubits_singles: [0]\n",
      "\tqubits_pairs: [[0, 1], [0, 2]]\n",
      "Parameters:\n",
      "\tbetas: [3.141592653589793, 0.5, 1.0]\n",
      "\tgammas_singles: [1.0, 0.6668, 0.3]\n",
      "\tgammas_pairs: [1.0, 0.5, 0.3]\n",
      "\n"
     ]
    }
   ],
   "source": [
    "the_range = np.arange(0, 1, 0.3334)\n",
    "the_parameter = \"gammas_singles[1]\"\n",
    "iterator= QAOAParameterIterator(manual_params, the_parameter, the_range)\n",
    "for p in iterator:\n",
    "    print(p)"
   ]
  },
  {
   "cell_type": "markdown",
   "metadata": {},
   "source": [
    "And we see, what we expected: In the for loop all parameters stay constant except for `gammas_singles[1]` which went up in steps of thirds. Of course, we can also nest these iterators, to sweep two-dimensional paramter landscapes:"
   ]
  },
  {
   "cell_type": "code",
   "execution_count": 27,
   "metadata": {},
   "outputs": [
    {
     "name": "stdout",
     "output_type": "stream",
     "text": [
      "Hyperparameters:\n",
      "\tregister: [0, 1, 2]\n",
      "\tqubits_singles: [0]\n",
      "\tqubits_pairs: [[0, 1], [0, 2]]\n",
      "Parameters:\n",
      "\tbetas: [3.141592653589793, 0.5, 1.0]\n",
      "\tgammas_singles: [1.0, 0.0, 0.3]\n",
      "\tgammas_pairs: [100.0, 0.5, 0.3]\n",
      "\n",
      "Hyperparameters:\n",
      "\tregister: [0, 1, 2]\n",
      "\tqubits_singles: [0]\n",
      "\tqubits_pairs: [[0, 1], [0, 2]]\n",
      "Parameters:\n",
      "\tbetas: [3.141592653589793, 0.5, 1.0]\n",
      "\tgammas_singles: [1.0, 0.0, 0.3]\n",
      "\tgammas_pairs: [100.5, 0.5, 0.3]\n",
      "\n",
      "Hyperparameters:\n",
      "\tregister: [0, 1, 2]\n",
      "\tqubits_singles: [0]\n",
      "\tqubits_pairs: [[0, 1], [0, 2]]\n",
      "Parameters:\n",
      "\tbetas: [3.141592653589793, 0.5, 1.0]\n",
      "\tgammas_singles: [1.0, 0.5, 0.3]\n",
      "\tgammas_pairs: [100.0, 0.5, 0.3]\n",
      "\n",
      "Hyperparameters:\n",
      "\tregister: [0, 1, 2]\n",
      "\tqubits_singles: [0]\n",
      "\tqubits_pairs: [[0, 1], [0, 2]]\n",
      "Parameters:\n",
      "\tbetas: [3.141592653589793, 0.5, 1.0]\n",
      "\tgammas_singles: [1.0, 0.5, 0.3]\n",
      "\tgammas_pairs: [100.5, 0.5, 0.3]\n",
      "\n"
     ]
    }
   ],
   "source": [
    "range1 = np.arange(0,1,0.5)\n",
    "range2 = np.arange(100,101,0.5)\n",
    "for params in QAOAParameterIterator(manual_params, \"gammas_singles[1]\", range1):\n",
    "    for p in QAOAParameterIterator(params, \"gammas_pairs[0]\", range2):\n",
    "        print(p)"
   ]
  }
 ],
 "metadata": {
  "kernelspec": {
   "display_name": "Python 3",
   "language": "python",
   "name": "python3"
  },
  "language_info": {
   "codemirror_mode": {
    "name": "ipython",
    "version": 3
   },
   "file_extension": ".py",
   "mimetype": "text/x-python",
   "name": "python",
   "nbconvert_exporter": "python",
   "pygments_lexer": "ipython3",
   "version": "3.7.3"
  }
 },
 "nbformat": 4,
 "nbformat_minor": 2
}
