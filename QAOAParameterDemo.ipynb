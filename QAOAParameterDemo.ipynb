{
 "cells": [
  {
   "cell_type": "markdown",
   "metadata": {},
   "source": [
    "# A demo how to work with `QAOAParameter` classes\n",
    "\n",
    "Farhi et al proposed in their original paper about QAOA the following Ansatz for the QAOA circuit:\n",
    "\n",
    "$$\n",
    "U = e^{-i \\beta_p H_0} e^{-i \\gamma_p H_1} \\cdots e^{-i \\beta_0 H_0} e^{-i \\gamma  H_1}.\n",
    "$$\n",
    "...\n",
    "\n",
    "### ToDo for this Demo\n",
    " - [ ] Finish the explanation of the different parametrizations\n",
    " - [ ] Explain _well_ what the `gammas_pairs`, `gammas_singles` and `betas` are in the raw format.\n",
    " - [ ] Demo _all_ different parametrizations that we have"
   ]
  },
  {
   "cell_type": "code",
   "execution_count": 1,
   "metadata": {},
   "outputs": [],
   "source": [
    "# import the standard modules from python\n",
    "import numpy as np\n",
    "import matplotlib.pyplot as plt\n",
    "\n",
    "# import the neccesary pyquil modules\n",
    "from pyquil.paulis import PauliSum, PauliTerm\n",
    "\n",
    "# import the QAOAParameters that we want to demo\n",
    "from qaoa.parameters import AdiabaticTimestepsQAOAParameters, AlternatingOperatorsQAOAParameters"
   ]
  },
  {
   "cell_type": "markdown",
   "metadata": {},
   "source": [
    "Let us first create a hamiltonian to work with:"
   ]
  },
  {
   "cell_type": "code",
   "execution_count": 2,
   "metadata": {},
   "outputs": [
    {
     "name": "stdout",
     "output_type": "stream",
     "text": [
      "hamiltonian = (0.7+0j)*Z0*Z1 + (1.2+0j)*Z0*Z2 + (-0.5+0j)*Z0\n"
     ]
    }
   ],
   "source": [
    "# create a hamiltonian on 3 qubits with 2 coupling terms and 1 bias term\n",
    "hamiltonian = PauliSum.from_compact_str(\"0.7*Z0*Z1 + 1.2*Z0*Z2 + (-0.5)*Z0\")\n",
    "print(\"hamiltonian =\", hamiltonian)"
   ]
  },
  {
   "cell_type": "markdown",
   "metadata": {},
   "source": [
    "## Building the parameters automatically with `.from_hamiltonian()`\n",
    "\n",
    "The easiest way to create `AlternatingOperatorsQAOAParameters` that work exactly with our Hamiltonian, is to use the `AlternatingOperatorsQAOAParameters.from_hamiltonian` function:"
   ]
  },
  {
   "cell_type": "code",
   "execution_count": 8,
   "metadata": {},
   "outputs": [
    {
     "name": "stdout",
     "output_type": "stream",
     "text": [
      "register: [0, 1, 2]\n",
      "betas: [0.375, 0.125]\n",
      "qubits_singles: [0]\n",
      "gammas_singles: [0.125, 0.375]\n",
      "qubits_pairs: [[0, 1], [0, 2]]\n",
      "gammas_pairs: [0.125, 0.375]\n",
      "\n"
     ]
    }
   ],
   "source": [
    "timesteps = 2       # equivalent to p in Farhis original paper\n",
    "time = 1            # total time of the annelaing schedule\n",
    "params = AlternatingOperatorsQAOAParameters.from_hamiltonian(hamiltonian,\n",
    "                                                           timesteps,\n",
    "                                                           time = time) \n",
    "print(params)"
   ]
  },
  {
   "cell_type": "markdown",
   "metadata": {},
   "source": [
    "We see, that if we print `params`, it gives us the timesteps the angles and on which combinations of qubits they act. But we can also have a look at the _internal_ `gammas_singles`, `gammas_pairs` and `betas` that were automatically calculated under the hood. These are the coefficients that are applied to the single terms in the exponentiated hamiltonian."
   ]
  },
  {
   "cell_type": "code",
   "execution_count": 9,
   "metadata": {},
   "outputs": [
    {
     "name": "stdout",
     "output_type": "stream",
     "text": [
      "\n",
      " betas:\n",
      " [[0.375, 0.375, 0.375], [0.125, 0.125, 0.125]]\n",
      "\n",
      " gammas_singles:\n",
      " [[-0.0625], [-0.1875]]\n",
      "\n",
      " gammas_pairs:\n",
      " [[0.0875, 0.15], [0.26249999999999996, 0.44999999999999996]]\n"
     ]
    }
   ],
   "source": [
    "print(\"\\n betas:\\n\", params.betas)\n",
    "print(\"\\n gammas_singles:\\n\", params.gammas_singles)\n",
    "print(\"\\n gammas_pairs:\\n\", params.gammas_pairs)"
   ]
  },
  {
   "cell_type": "markdown",
   "metadata": {},
   "source": [
    "Now we could pass these `params` straight to a cost_function that we built with `qaoa.cost_function.QAOACostFunctionOnQVM` or with `qaoa.cost_function.QAOACostFunctionOnWFSim`. But often we will be interested in modifying the parameters, before running QAOA with them. The way the cost_function does this, is by getting a flat list with parameters via `params.raw()`, changing the values in that list and feeding it back to `params` via `params.update()`:"
   ]
  },
  {
   "cell_type": "code",
   "execution_count": 14,
   "metadata": {},
   "outputs": [
    {
     "name": "stdout",
     "output_type": "stream",
     "text": [
      "the raw parameters:\n",
      " [0.0, 0.125, 0.125, 0.375, 0.125, 0.375]\n",
      "\n",
      "the new raw parameters:\n",
      " [0.0, 0.125, 0.125, 0.375, 0.125, 0.375]\n",
      "\n",
      "and the updated parameters:\n",
      " register: [0, 1, 2]\n",
      "betas: [0.0, 0.125]\n",
      "qubits_singles: [0]\n",
      "gammas_singles: [0.125, 0.375]\n",
      "qubits_pairs: [[0, 1], [0, 2]]\n",
      "gammas_pairs: [0.125, 0.375]\n",
      "\n"
     ]
    }
   ],
   "source": [
    "# get the raw parameters and print them\n",
    "raw = params.raw()\n",
    "print(\"the raw parameters:\\n\", raw)\n",
    "\n",
    "# change a value and put it back via params.update()\n",
    "print(\"\\nthe new raw parameters:\\n\", raw)\n",
    "raw[0] = 0.0\n",
    "params.update(raw)\n",
    "print(\"\\nand the updated parameters:\\n\", params)"
   ]
  },
  {
   "cell_type": "markdown",
   "metadata": {},
   "source": [
    "and we can convince us that under the hood the `gammas_singles`, `gammas_pairs` and `betas` were also automaticall updated:"
   ]
  },
  {
   "cell_type": "code",
   "execution_count": 15,
   "metadata": {},
   "outputs": [
    {
     "name": "stdout",
     "output_type": "stream",
     "text": [
      "\n",
      " betas:\n",
      " [[0.0, 0.0, 0.0], [0.125, 0.125, 0.125]]\n",
      "\n",
      " gammas_singles:\n",
      " [[-0.0625], [-0.1875]]\n",
      "\n",
      " gammas_pairs:\n",
      " [[0.0875, 0.15], [0.26249999999999996, 0.44999999999999996]]\n"
     ]
    }
   ],
   "source": [
    "print(\"\\n betas:\\n\", params.betas)\n",
    "print(\"\\n gammas_singles:\\n\", params.gammas_singles)\n",
    "print(\"\\n gammas_pairs:\\n\", params.gammas_pairs)"
   ]
  },
  {
   "cell_type": "markdown",
   "metadata": {},
   "source": [
    "## Building the parameters manually\n",
    "\n",
    "Sometimes we don't want to build a QAOAParametersObject automaticall via `.from_hamiltonian()`, but want some more finde graned control. So we can instead specify all that needs to be know manually and passing that to the constructor.\n",
    "Fully specified QAOAParameters consist of constant parameters, that don't change over the lifetime of a QAOA optimization run and parameters that are varied during the optimization.\n",
    "\n",
    "The constant parameters are the number of timesteps, the qubits that have bias terms and the qubits that are coupled as well as the cofficients of all these terms in the hamiltonian.\n",
    "\n",
    "The parameters that are variable, are in the case of `AdiabaticTimestepsQAOAParameters`, the times at which to change the hamiltonian. In the case of `AlternatingOperatorsQAOAParameters` they are the `gammas_singles`, `gammas_pairs` and `betas`."
   ]
  },
  {
   "cell_type": "code",
   "execution_count": 18,
   "metadata": {},
   "outputs": [
    {
     "name": "stdout",
     "output_type": "stream",
     "text": [
      "register: [0, 1, 2]\n",
      "betas: [0.25, 0.5, 1.0]\n",
      "qubits_singles: [0]\n",
      "gammas_singles: [1.0, 0.5, 0.3]\n",
      "qubits_pairs: [[0, 1], [0, 2]]\n",
      "gammas_pairs: [1.0, 0.5, 0.3]\n",
      "\n"
     ]
    }
   ],
   "source": [
    "# the constant parameters\n",
    "reg = [0, 1, 2]       # The register of _all_ qubits in the hamiltonian\n",
    "                      # (or all the qubits, the X-rotations should act on) \n",
    "qubits_singles = [0]              # list of qubits with bias terms\n",
    "qubits_pairs   = [[0, 1], [0, 2]] # list of qubit_pairs of coupled qubits\n",
    "ntimesteps     = 3                # the number of timesteps\n",
    "\n",
    "# put them into a nice tuple\n",
    "constant_parameters = (reg, qubits_singles, qubits_pairs, ntimesteps, hamiltonian)\n",
    "\n",
    "\n",
    "# the variable parameters --- in this case the timesteps\n",
    "betas = [0.25, 0.5, 1.0]\n",
    "gammas_singles = [1.0, 0.5, 0.3]\n",
    "gammas_pairs = [1.0, 0.5, 0.3]\n",
    "# and make them a tuple. Seems superflous in this case, but other\n",
    "# parametrizations have more than one variable parameter.\n",
    "variable_parameters = (betas, gammas_singles, gammas_pairs)\n",
    "manual_params = AlternatingOperatorsQAOAParameters(constant_parameters,\n",
    "                                                 variable_parameters)\n",
    "print(manual_params)"
   ]
  },
  {
   "cell_type": "markdown",
   "metadata": {},
   "source": [
    "Now if we want to change this parameters, we can do it again by getting the flat list of all of them with `manual_params.raw()`, changing them and putting them back with `manual_params.update()`. But this requires, that we know where in the long list of parameters the one is, that we want to change. So we can instead use `manual_params.update_variable_parameters` as follows:"
   ]
  },
  {
   "cell_type": "code",
   "execution_count": 19,
   "metadata": {},
   "outputs": [
    {
     "name": "stdout",
     "output_type": "stream",
     "text": [
      "register: [0, 1, 2]\n",
      "betas: [1.0, 1.0, 1.0]\n",
      "qubits_singles: [0]\n",
      "gammas_singles: [2.0, 2.0, 2.0]\n",
      "qubits_pairs: [[0, 1], [0, 2]]\n",
      "gammas_pairs: [-0.3, -0.3, -0.3]\n",
      "\n"
     ]
    }
   ],
   "source": [
    "betas = [1.0, 1.0, 1.0]\n",
    "gammas_singles = [2.0, 2.0, 2.0]\n",
    "gammas_pairs = [-.3, -.3, -.3]\n",
    "variable_parameters = (betas, gammas_singles, gammas_pairs)\n",
    "manual_params.update_variable_parameters(variable_parameters)\n",
    "\n",
    "print(manual_params)"
   ]
  },
  {
   "cell_type": "markdown",
   "metadata": {},
   "source": [
    "We see, that the `betas`, `gammas_singles` and `gammas_pairs` have changed, while the constant parameters `register`, `qubits_singles` and `qubits_pairs` didn't change. We can also see, what happened to the final coefficients, that are passed to `qaoa._qaoa_annealing_program`:"
   ]
  },
  {
   "cell_type": "code",
   "execution_count": 20,
   "metadata": {},
   "outputs": [
    {
     "name": "stdout",
     "output_type": "stream",
     "text": [
      "\n",
      " betas:\n",
      " [[0.0, 0.0, 0.0], [0.125, 0.125, 0.125]]\n",
      "\n",
      " gammas_singles:\n",
      " [[-0.0625], [-0.1875]]\n",
      "\n",
      " gammas_pairs:\n",
      " [[0.0875, 0.15], [0.26249999999999996, 0.44999999999999996]]\n"
     ]
    }
   ],
   "source": [
    "print(\"\\n betas:\\n\", params.betas)\n",
    "print(\"\\n gammas_singles:\\n\", params.gammas_singles)\n",
    "print(\"\\n gammas_pairs:\\n\", params.gammas_pairs)"
   ]
  }
 ],
 "metadata": {
  "kernelspec": {
   "display_name": "Python 3",
   "language": "python",
   "name": "python3"
  },
  "language_info": {
   "codemirror_mode": {
    "name": "ipython",
    "version": 3
   },
   "file_extension": ".py",
   "mimetype": "text/x-python",
   "name": "python",
   "nbconvert_exporter": "python",
   "pygments_lexer": "ipython3",
   "version": "3.7.3"
  }
 },
 "nbformat": 4,
 "nbformat_minor": 2
}
