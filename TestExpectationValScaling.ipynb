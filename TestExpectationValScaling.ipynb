{
 "cells": [
  {
   "cell_type": "code",
   "execution_count": 1,
   "metadata": {},
   "outputs": [],
   "source": [
    "import numpy as np\n",
    "from pyquil.paulis import PauliSum, PauliTerm\n",
    "from pyquil.api import WavefunctionSimulator\n",
    "from pyquil.unitary_tools import lifted_pauli\n",
    "from pyquil import Program\n",
    "from pyquil.gates import H, RX, RZ\n",
    "\n",
    "\n",
    "from time import time\n",
    "from entropica_qaoa.vqe.cost_function import PrepareAndMeasureOnWFSim\n",
    "\n",
    "sim = WavefunctionSimulator()"
   ]
  },
  {
   "cell_type": "code",
   "execution_count": 10,
   "metadata": {},
   "outputs": [],
   "source": [
    "def runtime_func(n_qubits, upper_lim):\n",
    "    \n",
    "    \"\"\"\n",
    "    n_qubits is total number of qubits\n",
    "    \n",
    "    builds a ZZ cost Hamiltonian with all terms of form Z_i*Z_j from i = 0, j = 1 up to\n",
    "    i = upper_lim-1, j = upper_lim \n",
    "    \"\"\"\n",
    "    \n",
    "    ham = []\n",
    "    for i in range(upper_lim-1):\n",
    "        for j in range(i+1,upper_lim):\n",
    "\n",
    "            term = PauliTerm(\"Z\", i, np.random.rand())*PauliTerm(\"Z\", j) \n",
    "            ham.append(term)\n",
    "\n",
    "    ham = PauliSum(ham)\n",
    "    \n",
    "    n_terms = len(ham.terms) # total number of terms in the PauliSum\n",
    "    \n",
    "    # Build a QAOA-like circuit - not really important here\n",
    "    prepare_prog = Program()\n",
    "    for i in range(n_qubits):    \n",
    "        prepare_prog.inst(H(i))\n",
    "    \n",
    "    for i in range(n_qubits):\n",
    "        prepare_prog.inst(RZ(np.random.rand(),i))\n",
    "    \n",
    "    for i in range(n_qubits):\n",
    "        prepare_prog.inst(RX(np.random.rand(),i))\n",
    "    \n",
    "    # time taken to run on Rigetti QVM\n",
    "    start_exp = time()\n",
    "    Expval1 = sim.expectation(prepare_prog, ham)\n",
    "    end_exp = time()\n",
    "\n",
    "    # time taken to run in EntropicaQAOA\n",
    "    start_new = time()\n",
    "    cost_fun = PrepareAndMeasureOnWFSim(prepare_prog,lambda x:{}, ham,sim)\n",
    "    cost_fun([])\n",
    "    end_new = time()\n",
    "    \n",
    "    # time taken to run using matrices\n",
    "    start_matr = time()\n",
    "    wavefunc = sim.wavefunction(prepare_prog).amplitudes\n",
    "    ham_matrix = lifted_pauli(ham, np.arange(n_qubits))\n",
    "    Expval2 = np.vdot(wavefunc, np.dot(ham_matrix,wavefunc))\n",
    "    end_matr = time()\n",
    "    \n",
    "    duration_exp = end_exp - start_exp\n",
    "    duration_new = end_new - start_new\n",
    "    duration_matr = end_matr - start_matr\n",
    "    \n",
    "    return n_terms, duration_exp, duration_matr, duration_new"
   ]
  },
  {
   "cell_type": "code",
   "execution_count": 11,
   "metadata": {},
   "outputs": [
    {
     "ename": "ValueError",
     "evalue": "matmul: Input operand 1 has a mismatch in its core dimension 0, with gufunc signature (n?,k),(k,m?)->(n?,m?) (size 8 is different from 1024)",
     "output_type": "error",
     "traceback": [
      "\u001b[0;31m---------------------------------------------------------------------------\u001b[0m",
      "\u001b[0;31mValueError\u001b[0m                                Traceback (most recent call last)",
      "\u001b[0;32m<ipython-input-11-ec1232256c1c>\u001b[0m in \u001b[0;36m<module>\u001b[0;34m\u001b[0m\n\u001b[1;32m      8\u001b[0m \u001b[0;32mfor\u001b[0m \u001b[0mi\u001b[0m \u001b[0;32min\u001b[0m \u001b[0mrange\u001b[0m\u001b[0;34m(\u001b[0m\u001b[0mlen\u001b[0m\u001b[0;34m(\u001b[0m\u001b[0mupper_lim\u001b[0m\u001b[0;34m)\u001b[0m\u001b[0;34m)\u001b[0m\u001b[0;34m:\u001b[0m\u001b[0;34m\u001b[0m\u001b[0;34m\u001b[0m\u001b[0m\n\u001b[1;32m      9\u001b[0m \u001b[0;34m\u001b[0m\u001b[0m\n\u001b[0;32m---> 10\u001b[0;31m     \u001b[0mterms_\u001b[0m\u001b[0;34m,\u001b[0m \u001b[0mtime_exp\u001b[0m\u001b[0;34m,\u001b[0m \u001b[0mtime_matr\u001b[0m\u001b[0;34m,\u001b[0m \u001b[0mtime_new\u001b[0m \u001b[0;34m=\u001b[0m \u001b[0mruntime_func\u001b[0m\u001b[0;34m(\u001b[0m\u001b[0mn_qubits\u001b[0m\u001b[0;34m,\u001b[0m \u001b[0mupper_lim\u001b[0m\u001b[0;34m[\u001b[0m\u001b[0mi\u001b[0m\u001b[0;34m]\u001b[0m\u001b[0;34m)\u001b[0m\u001b[0;34m\u001b[0m\u001b[0;34m\u001b[0m\u001b[0m\n\u001b[0m\u001b[1;32m     11\u001b[0m \u001b[0;34m\u001b[0m\u001b[0m\n\u001b[1;32m     12\u001b[0m     \u001b[0mn_terms\u001b[0m\u001b[0;34m[\u001b[0m\u001b[0mi\u001b[0m\u001b[0;34m]\u001b[0m \u001b[0;34m=\u001b[0m \u001b[0mterms_\u001b[0m\u001b[0;34m\u001b[0m\u001b[0;34m\u001b[0m\u001b[0m\n",
      "\u001b[0;32m<ipython-input-10-f130495c40f1>\u001b[0m in \u001b[0;36mruntime_func\u001b[0;34m(n_qubits, upper_lim)\u001b[0m\n\u001b[1;32m     28\u001b[0m     \u001b[0mstart_new\u001b[0m \u001b[0;34m=\u001b[0m \u001b[0mtime\u001b[0m\u001b[0;34m(\u001b[0m\u001b[0;34m)\u001b[0m\u001b[0;34m\u001b[0m\u001b[0;34m\u001b[0m\u001b[0m\n\u001b[1;32m     29\u001b[0m     \u001b[0mcost_fun\u001b[0m \u001b[0;34m=\u001b[0m \u001b[0mPrepareAndMeasureOnWFSim\u001b[0m\u001b[0;34m(\u001b[0m\u001b[0mprepare_prog\u001b[0m\u001b[0;34m,\u001b[0m\u001b[0;32mlambda\u001b[0m \u001b[0mx\u001b[0m\u001b[0;34m:\u001b[0m\u001b[0;34m{\u001b[0m\u001b[0;34m}\u001b[0m\u001b[0;34m,\u001b[0m \u001b[0mham\u001b[0m\u001b[0;34m,\u001b[0m\u001b[0msim\u001b[0m\u001b[0;34m)\u001b[0m\u001b[0;34m\u001b[0m\u001b[0;34m\u001b[0m\u001b[0m\n\u001b[0;32m---> 30\u001b[0;31m     \u001b[0mcost_fun\u001b[0m\u001b[0;34m(\u001b[0m\u001b[0;34m[\u001b[0m\u001b[0;34m]\u001b[0m\u001b[0;34m)\u001b[0m\u001b[0;34m\u001b[0m\u001b[0;34m\u001b[0m\u001b[0m\n\u001b[0m\u001b[1;32m     31\u001b[0m     \u001b[0mend_new\u001b[0m \u001b[0;34m=\u001b[0m \u001b[0mtime\u001b[0m\u001b[0;34m(\u001b[0m\u001b[0;34m)\u001b[0m\u001b[0;34m\u001b[0m\u001b[0;34m\u001b[0m\u001b[0m\n\u001b[1;32m     32\u001b[0m \u001b[0;34m\u001b[0m\u001b[0m\n",
      "\u001b[0;32m~/anaconda3/lib/python3.7/site-packages/entropica_qaoa/entropica_qaoa/vqe/cost_function.py\u001b[0m in \u001b[0;36m__call__\u001b[0;34m(self, params, nshots)\u001b[0m\n\u001b[1;32m    190\u001b[0m                                          \u001b[0mself\u001b[0m\u001b[0;34m.\u001b[0m\u001b[0mhams_squared\u001b[0m\u001b[0;34m,\u001b[0m\u001b[0;34m\u001b[0m\u001b[0;34m\u001b[0m\u001b[0m\n\u001b[1;32m    191\u001b[0m                                          \u001b[0mself\u001b[0m\u001b[0;34m.\u001b[0m\u001b[0mbase_changes_squared\u001b[0m\u001b[0;34m,\u001b[0m\u001b[0;34m\u001b[0m\u001b[0;34m\u001b[0m\u001b[0m\n\u001b[0;32m--> 192\u001b[0;31m                                          wf.amplitudes)\n\u001b[0m\u001b[1;32m    193\u001b[0m \u001b[0;34m\u001b[0m\u001b[0m\n\u001b[1;32m    194\u001b[0m         \u001b[0;32mif\u001b[0m \u001b[0mnshots\u001b[0m\u001b[0;34m:\u001b[0m\u001b[0;34m\u001b[0m\u001b[0;34m\u001b[0m\u001b[0m\n",
      "\u001b[0;32m~/anaconda3/lib/python3.7/site-packages/entropica_qaoa/entropica_qaoa/vqe/measurelib.py\u001b[0m in \u001b[0;36mwavefunction_expectation\u001b[0;34m(hams, base_changes, hams_squared, base_changes_squared, wf)\u001b[0m\n\u001b[1;32m    247\u001b[0m         \u001b[0mwf_new\u001b[0m \u001b[0;34m=\u001b[0m \u001b[0mfun\u001b[0m\u001b[0;34m(\u001b[0m\u001b[0mwf\u001b[0m\u001b[0;34m)\u001b[0m\u001b[0;34m\u001b[0m\u001b[0;34m\u001b[0m\u001b[0m\n\u001b[1;32m    248\u001b[0m         \u001b[0mprobs\u001b[0m \u001b[0;34m=\u001b[0m \u001b[0mwf_new\u001b[0m \u001b[0;34m*\u001b[0m \u001b[0mwf_new\u001b[0m\u001b[0;34m.\u001b[0m\u001b[0mconj\u001b[0m\u001b[0;34m(\u001b[0m\u001b[0;34m)\u001b[0m\u001b[0;34m\u001b[0m\u001b[0;34m\u001b[0m\u001b[0m\n\u001b[0;32m--> 249\u001b[0;31m         \u001b[0menergy\u001b[0m \u001b[0;34m+=\u001b[0m \u001b[0mfloat\u001b[0m\u001b[0;34m(\u001b[0m\u001b[0mprobs\u001b[0m\u001b[0;34m@\u001b[0m\u001b[0mham\u001b[0m\u001b[0;34m)\u001b[0m\u001b[0;34m\u001b[0m\u001b[0;34m\u001b[0m\u001b[0m\n\u001b[0m\u001b[1;32m    250\u001b[0m \u001b[0;34m\u001b[0m\u001b[0m\n\u001b[1;32m    251\u001b[0m     \u001b[0mvar\u001b[0m \u001b[0;34m=\u001b[0m \u001b[0;36m0\u001b[0m\u001b[0;34m\u001b[0m\u001b[0;34m\u001b[0m\u001b[0m\n",
      "\u001b[0;31mValueError\u001b[0m: matmul: Input operand 1 has a mismatch in its core dimension 0, with gufunc signature (n?,k),(k,m?)->(n?,m?) (size 8 is different from 1024)"
     ]
    }
   ],
   "source": [
    "n_qubits = 10\n",
    "upper_lim = np.arange(3,n_qubits +1)\n",
    "\n",
    "runtime_exp = np.zeros(len(upper_lim))\n",
    "runtime_matr = np.zeros(len(upper_lim))\n",
    "runtime_new = np.zeros(len(upper_lim))\n",
    "n_terms = np.zeros(len(upper_lim))\n",
    "for i in range(len(upper_lim)):\n",
    "\n",
    "    terms_, time_exp, time_matr, time_new = runtime_func(n_qubits, upper_lim[i])\n",
    "\n",
    "    n_terms[i] = terms_\n",
    "    runtime_exp[i] = time_exp\n",
    "    runtime_matr[i] = time_matr\n",
    "    runtime_new[i] = time_new"
   ]
  },
  {
   "cell_type": "code",
   "execution_count": 5,
   "metadata": {},
   "outputs": [],
   "source": [
    "import matplotlib.pyplot as plt"
   ]
  },
  {
   "cell_type": "code",
   "execution_count": 14,
   "metadata": {},
   "outputs": [
    {
     "data": {
      "image/png": "[encoded data removed]",
      "text/plain": [
       "<Figure size 432x288 with 1 Axes>"
      ]
     },
     "metadata": {
      "needs_background": "light"
     },
     "output_type": "display_data"
    }
   ],
   "source": [
    "plt.plot(n_terms,runtime_exp, n_terms, runtime_matr)\n",
    "plt.show()"
   ]
  }
 ],
 "metadata": {
  "kernelspec": {
   "display_name": "Python 3",
   "language": "python",
   "name": "python3"
  },
  "language_info": {
   "codemirror_mode": {
    "name": "ipython",
    "version": 3
   },
   "file_extension": ".py",
   "mimetype": "text/x-python",
   "name": "python",
   "nbconvert_exporter": "python",
   "pygments_lexer": "ipython3",
   "version": "3.7.3"
  }
 },
 "nbformat": 4,
 "nbformat_minor": 2
}
